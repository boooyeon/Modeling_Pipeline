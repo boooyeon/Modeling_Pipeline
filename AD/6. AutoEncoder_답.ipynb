{
 "cells": [
  {
   "cell_type": "markdown",
   "metadata": {
    "id": "H2PiE6pYmBv7"
   },
   "source": [
    "# AutoEncoder\n",
    " \n",
    "\n"
   ]
  },
  {
   "cell_type": "markdown",
   "metadata": {
    "id": "Wyg1gRj8ZxMK"
   },
   "source": [
    "## 0.환경준비"
   ]
  },
  {
   "cell_type": "markdown",
   "metadata": {
    "id": "dSsCFlrNaQQW"
   },
   "source": [
    "### 0.1 라이브러리 로딩"
   ]
  },
  {
   "cell_type": "code",
   "execution_count": 1,
   "metadata": {
    "id": "NJ_O2dJ1iNH-"
   },
   "outputs": [],
   "source": [
    "# import packages\n",
    "import pandas as pd\n",
    "import numpy as np\n",
    "import matplotlib.pyplot as plt\n",
    "import seaborn as sns\n",
    "\n",
    "from sklearn.model_selection import train_test_split\n",
    "from sklearn.metrics import *\n",
    "from sklearn.preprocessing import StandardScaler, MinMaxScaler\n",
    "\n",
    "import tensorflow as tf\n",
    "from keras.models import Model, load_model\n",
    "from keras.layers import Input, Dense\n",
    "from keras.backend import clear_session\n",
    "from tensorflow.keras.utils import plot_model"
   ]
  },
  {
   "cell_type": "markdown",
   "metadata": {
    "id": "pPagQ37T137D"
   },
   "source": [
    "### 0.2 필요 함수들 생성"
   ]
  },
  {
   "cell_type": "markdown",
   "metadata": {
    "id": "4E65EHcv137D"
   },
   "source": [
    "#### ① reconstruction error plot\n",
    "\n",
    "> * input과 output의 차이(mse)를 계산하고\n",
    "* 시각화 합니다.\n",
    "\n"
   ]
  },
  {
   "cell_type": "code",
   "execution_count": 2,
   "metadata": {
    "id": "KJA0YCdb137D"
   },
   "outputs": [],
   "source": [
    "def recon_err_plot(x, x_pred, y, threshold=0):\n",
    "    # treshold : 우리가 지정해줘야 함.(어떻게?)\n",
    "    \n",
    "    mse = np.mean(np.power(x - x_pred, 2), axis=1)\n",
    "    error_df = pd.DataFrame({'Reconstruction_error': mse, 'True_class': y})\n",
    "    error_df = error_df.reset_index()\n",
    "\n",
    "    groups = error_df.groupby('True_class')\n",
    "    fig, ax = plt.subplots()\n",
    "    for name, group in groups:\n",
    "        ax.plot(group.index, group.Reconstruction_error, marker='o', ms=3.5, linestyle='',\n",
    "                label= \"Abnormal\" if name == 1 else \"Normal\")\n",
    "    ax.hlines(threshold, ax.get_xlim()[0], ax.get_xlim()[1], colors=\"r\", zorder=100, label='Threshold')\n",
    "    ax.legend()\n",
    "    plt.title(\"Reconstruction error for different classes\")\n",
    "    plt.ylabel(\"Reconstruction error\")\n",
    "    plt.xlabel(\"Data point index\")\n",
    "    plt.show()\n",
    "\n",
    "    return error_df"
   ]
  },
  {
   "cell_type": "markdown",
   "metadata": {
    "id": "1EqlkCUs137E"
   },
   "source": [
    "#### ② precision, recall, f1 curve\n",
    "\n",
    "> * sklearn에서는 precision, recall curve만 제공됩니다. \n",
    "* 그래서, f1 curve도 추가해서 구하고, plot을 그립니다.\n",
    "\n"
   ]
  },
  {
   "cell_type": "code",
   "execution_count": 3,
   "metadata": {
    "id": "r6Z2hJv9137E"
   },
   "outputs": [],
   "source": [
    "from sklearn.metrics import precision_recall_curve\n",
    "import matplotlib.pyplot as plt\n",
    "\n",
    "def prec_rec_f1_curve(y, score, pos = 1) :\n",
    "    precision, recall, thresholds  = precision_recall_curve(y, score, pos_label=1)\n",
    "    f1 = 2 / (1/precision + 1/recall)\n",
    "\n",
    "    plt.plot(thresholds, np.delete(precision, 0), label = 'precision')\n",
    "    plt.plot(thresholds, np.delete(recall, 0), label = 'recall')\n",
    "    plt.plot(thresholds, np.delete(f1, 0), label = 'f1')\n",
    "    plt.xlabel('Threshold')\n",
    "    plt.legend()\n",
    "    plt.grid()\n",
    "    plt.show()\n",
    "\n",
    "    return precision, recall, f1, thresholds"
   ]
  },
  {
   "cell_type": "markdown",
   "metadata": {
    "id": "Vmz-Bj8N137E"
   },
   "source": [
    "#### ③ threshold로 잘랐을 때, 분류 평가 함수\n"
   ]
  },
  {
   "cell_type": "code",
   "execution_count": 4,
   "metadata": {
    "id": "iSOHX0GO137F"
   },
   "outputs": [],
   "source": [
    "from sklearn.metrics import confusion_matrix, classification_report\n",
    "\n",
    "def classification_report2(y, pred, thresholds):\n",
    "    pred_temp = np.where(pred > thresholds , 1, 0)\n",
    "\n",
    "    cm = confusion_matrix(y, pred_temp)\n",
    "    print('< confusion matrix >\\n')\n",
    "    print(cm)\n",
    "    print('\\n' + '='*60 + '\\n')\n",
    "\n",
    "    print('< classification_report >\\n')\n",
    "    print(classification_report(y, pred_temp))\n",
    "\n",
    "    return cm"
   ]
  },
  {
   "cell_type": "markdown",
   "metadata": {
    "id": "q27xlCljm7f4"
   },
   "source": [
    "## 1.AE 연습 : 직원 이직 예측\n",
    "\n",
    "* 일부 데이터를 뽑아서 AutoEncoder를 만들어 봅시다."
   ]
  },
  {
   "cell_type": "markdown",
   "metadata": {
    "id": "ibvzbXo3m7f5"
   },
   "source": [
    "### 1.1 데이터 준비"
   ]
  },
  {
   "cell_type": "markdown",
   "metadata": {
    "id": "wwygbigFm7f5"
   },
   "source": [
    "#### 1) 데이터 로딩"
   ]
  },
  {
   "cell_type": "code",
   "execution_count": 5,
   "metadata": {
    "colab": {
     "base_uri": "https://localhost:8080/",
     "height": 363
    },
    "executionInfo": {
     "elapsed": 1124,
     "status": "ok",
     "timestamp": 1646495061007,
     "user": {
      "displayName": "한기영",
      "photoUrl": "https://lh3.googleusercontent.com/a/default-user=s64",
      "userId": "13049187003176135487"
     },
     "user_tz": -540
    },
    "id": "IRizfz6sm7f5",
    "outputId": "0f9e0fce-767c-4aad-cd53-6afdbfce20f2"
   },
   "outputs": [
    {
     "data": {
      "text/html": [
       "<div>\n",
       "<style scoped>\n",
       "    .dataframe tbody tr th:only-of-type {\n",
       "        vertical-align: middle;\n",
       "    }\n",
       "\n",
       "    .dataframe tbody tr th {\n",
       "        vertical-align: top;\n",
       "    }\n",
       "\n",
       "    .dataframe thead th {\n",
       "        text-align: right;\n",
       "    }\n",
       "</style>\n",
       "<table border=\"1\" class=\"dataframe\">\n",
       "  <thead>\n",
       "    <tr style=\"text-align: right;\">\n",
       "      <th></th>\n",
       "      <th>Attrition</th>\n",
       "      <th>Age</th>\n",
       "      <th>Distance</th>\n",
       "      <th>Income</th>\n",
       "      <th>Single</th>\n",
       "    </tr>\n",
       "  </thead>\n",
       "  <tbody>\n",
       "    <tr>\n",
       "      <th>0</th>\n",
       "      <td>0</td>\n",
       "      <td>28</td>\n",
       "      <td>1</td>\n",
       "      <td>3591</td>\n",
       "      <td>0</td>\n",
       "    </tr>\n",
       "    <tr>\n",
       "      <th>1</th>\n",
       "      <td>1</td>\n",
       "      <td>37</td>\n",
       "      <td>2</td>\n",
       "      <td>2090</td>\n",
       "      <td>1</td>\n",
       "    </tr>\n",
       "    <tr>\n",
       "      <th>2</th>\n",
       "      <td>0</td>\n",
       "      <td>27</td>\n",
       "      <td>8</td>\n",
       "      <td>4621</td>\n",
       "      <td>0</td>\n",
       "    </tr>\n",
       "    <tr>\n",
       "      <th>3</th>\n",
       "      <td>0</td>\n",
       "      <td>18</td>\n",
       "      <td>1</td>\n",
       "      <td>1611</td>\n",
       "      <td>1</td>\n",
       "    </tr>\n",
       "    <tr>\n",
       "      <th>4</th>\n",
       "      <td>0</td>\n",
       "      <td>29</td>\n",
       "      <td>9</td>\n",
       "      <td>2451</td>\n",
       "      <td>0</td>\n",
       "    </tr>\n",
       "    <tr>\n",
       "      <th>5</th>\n",
       "      <td>0</td>\n",
       "      <td>44</td>\n",
       "      <td>2</td>\n",
       "      <td>10209</td>\n",
       "      <td>1</td>\n",
       "    </tr>\n",
       "    <tr>\n",
       "      <th>6</th>\n",
       "      <td>0</td>\n",
       "      <td>41</td>\n",
       "      <td>10</td>\n",
       "      <td>6230</td>\n",
       "      <td>1</td>\n",
       "    </tr>\n",
       "    <tr>\n",
       "      <th>7</th>\n",
       "      <td>0</td>\n",
       "      <td>25</td>\n",
       "      <td>18</td>\n",
       "      <td>6232</td>\n",
       "      <td>0</td>\n",
       "    </tr>\n",
       "    <tr>\n",
       "      <th>8</th>\n",
       "      <td>0</td>\n",
       "      <td>50</td>\n",
       "      <td>2</td>\n",
       "      <td>17639</td>\n",
       "      <td>0</td>\n",
       "    </tr>\n",
       "    <tr>\n",
       "      <th>9</th>\n",
       "      <td>0</td>\n",
       "      <td>47</td>\n",
       "      <td>4</td>\n",
       "      <td>4163</td>\n",
       "      <td>1</td>\n",
       "    </tr>\n",
       "  </tbody>\n",
       "</table>\n",
       "</div>"
      ],
      "text/plain": [
       "   Attrition  Age  Distance  Income  Single\n",
       "0          0   28         1    3591       0\n",
       "1          1   37         2    2090       1\n",
       "2          0   27         8    4621       0\n",
       "3          0   18         1    1611       1\n",
       "4          0   29         9    2451       0\n",
       "5          0   44         2   10209       1\n",
       "6          0   41        10    6230       1\n",
       "7          0   25        18    6232       0\n",
       "8          0   50         2   17639       0\n",
       "9          0   47         4    4163       1"
      ]
     },
     "execution_count": 5,
     "metadata": {},
     "output_type": "execute_result"
    }
   ],
   "source": [
    "# data data\n",
    "path = \"https://raw.githubusercontent.com/DA4BAM/dataset/master/Attrition2.csv\"\n",
    "data = pd.read_csv(path, usecols = ['Attrition', 'Age', 'DistanceFromHome', 'MaritalStatus', 'MonthlyIncome'])\n",
    "data['Single'] = np.where(data['MaritalStatus'] == 'Single', 1, 0)\n",
    "data.drop('MaritalStatus', axis = 1, inplace = True)\n",
    "\n",
    "data.rename(columns={\"DistanceFromHome\": \"Distance\", \"MonthlyIncome\": \"Income\"}, inplace = True)\n",
    "data.head(10)"
   ]
  },
  {
   "cell_type": "markdown",
   "metadata": {
    "id": "TnAFZAN50seu"
   },
   "source": [
    "#### 2) x, y 나누기 "
   ]
  },
  {
   "cell_type": "code",
   "execution_count": 6,
   "metadata": {
    "executionInfo": {
     "elapsed": 23,
     "status": "ok",
     "timestamp": 1646495061306,
     "user": {
      "displayName": "한기영",
      "photoUrl": "https://lh3.googleusercontent.com/a/default-user=s64",
      "userId": "13049187003176135487"
     },
     "user_tz": -540
    },
    "id": "hvuq3-FWm7f6"
   },
   "outputs": [],
   "source": [
    "target = 'Attrition'\n",
    "x = data.drop(target, axis = 1)\n",
    "y = data.loc[:, target]"
   ]
  },
  {
   "cell_type": "code",
   "execution_count": 7,
   "metadata": {
    "colab": {
     "base_uri": "https://localhost:8080/"
    },
    "executionInfo": {
     "elapsed": 23,
     "status": "ok",
     "timestamp": 1646495061307,
     "user": {
      "displayName": "한기영",
      "photoUrl": "https://lh3.googleusercontent.com/a/default-user=s64",
      "userId": "13049187003176135487"
     },
     "user_tz": -540
    },
    "id": "GkFJWvNdm7f6",
    "outputId": "17c28bc1-c8f4-4bbb-8d06-cef26a00ecb0"
   },
   "outputs": [
    {
     "data": {
      "text/plain": [
       "0    0.913043\n",
       "1    0.086957\n",
       "Name: Attrition, dtype: float64"
      ]
     },
     "execution_count": 7,
     "metadata": {},
     "output_type": "execute_result"
    }
   ],
   "source": [
    "y.value_counts() / y.shape[0]"
   ]
  },
  {
   "cell_type": "markdown",
   "metadata": {
    "id": "tbmPWWSlm7f7"
   },
   "source": [
    "#### 3) 데이터 분할"
   ]
  },
  {
   "cell_type": "code",
   "execution_count": 8,
   "metadata": {
    "executionInfo": {
     "elapsed": 22,
     "status": "ok",
     "timestamp": 1646495061308,
     "user": {
      "displayName": "한기영",
      "photoUrl": "https://lh3.googleusercontent.com/a/default-user=s64",
      "userId": "13049187003176135487"
     },
     "user_tz": -540
    },
    "id": "sQYt_jBim7f7"
   },
   "outputs": [],
   "source": [
    "from sklearn.model_selection import train_test_split"
   ]
  },
  {
   "cell_type": "code",
   "execution_count": 9,
   "metadata": {
    "executionInfo": {
     "elapsed": 22,
     "status": "ok",
     "timestamp": 1646495061309,
     "user": {
      "displayName": "한기영",
      "photoUrl": "https://lh3.googleusercontent.com/a/default-user=s64",
      "userId": "13049187003176135487"
     },
     "user_tz": -540
    },
    "id": "mQOFDkvKm7f7"
   },
   "outputs": [],
   "source": [
    "# train_val에서 train : val = 8 : 2\n",
    "x_train, x_val, y_train, y_val = train_test_split(x, y, test_size=0.3, random_state = 2022)"
   ]
  },
  {
   "cell_type": "code",
   "execution_count": 10,
   "metadata": {
    "colab": {
     "base_uri": "https://localhost:8080/"
    },
    "executionInfo": {
     "elapsed": 23,
     "status": "ok",
     "timestamp": 1646495061310,
     "user": {
      "displayName": "한기영",
      "photoUrl": "https://lh3.googleusercontent.com/a/default-user=s64",
      "userId": "13049187003176135487"
     },
     "user_tz": -540
    },
    "id": "sz6sOszLm7f7",
    "outputId": "9ba63e40-fabe-43d9-872d-b171ae3bf47f"
   },
   "outputs": [
    {
     "name": "stdout",
     "output_type": "stream",
     "text": [
      "(805, 4) (345, 4)\n"
     ]
    }
   ],
   "source": [
    "print(x_train.shape, x_val.shape)"
   ]
  },
  {
   "cell_type": "markdown",
   "metadata": {
    "id": "SVMHKYS9m7f7"
   },
   "source": [
    "#### 4) 스케일링"
   ]
  },
  {
   "cell_type": "code",
   "execution_count": 11,
   "metadata": {
    "executionInfo": {
     "elapsed": 21,
     "status": "ok",
     "timestamp": 1646495061311,
     "user": {
      "displayName": "한기영",
      "photoUrl": "https://lh3.googleusercontent.com/a/default-user=s64",
      "userId": "13049187003176135487"
     },
     "user_tz": -540
    },
    "id": "KrMky_Afm7f7"
   },
   "outputs": [],
   "source": [
    "from sklearn.preprocessing import MinMaxScaler\n",
    "scaler = MinMaxScaler()\n",
    "\n",
    "x_train_s = scaler.fit_transform(x_train)\n",
    "x_val_s = scaler.transform(x_val)"
   ]
  },
  {
   "cell_type": "markdown",
   "metadata": {
    "id": "GXhuaj3Em7f7"
   },
   "source": [
    "#### 5) 학습용 데이터 준비\n",
    "* 학습에는 x_train만 사용됩니다.(비지도)\n",
    "* 또한, x_train 중에서도 Normal 데이터만 이용합니다."
   ]
  },
  {
   "cell_type": "code",
   "execution_count": 12,
   "metadata": {
    "executionInfo": {
     "elapsed": 20,
     "status": "ok",
     "timestamp": 1646495061311,
     "user": {
      "displayName": "한기영",
      "photoUrl": "https://lh3.googleusercontent.com/a/default-user=s64",
      "userId": "13049187003176135487"
     },
     "user_tz": -540
    },
    "id": "joI4vGLLm7f7"
   },
   "outputs": [],
   "source": [
    "# 학습을 위해서는 Normal 데이터만 이용한다.\n",
    "x_train0 = x_train_s[y_train == 0]"
   ]
  },
  {
   "cell_type": "code",
   "execution_count": 13,
   "metadata": {
    "colab": {
     "base_uri": "https://localhost:8080/"
    },
    "executionInfo": {
     "elapsed": 21,
     "status": "ok",
     "timestamp": 1646495061312,
     "user": {
      "displayName": "한기영",
      "photoUrl": "https://lh3.googleusercontent.com/a/default-user=s64",
      "userId": "13049187003176135487"
     },
     "user_tz": -540
    },
    "id": "nRMkfbNdm7f7",
    "outputId": "ad80cd01-1854-47f1-e2cc-c845d2b15f1a"
   },
   "outputs": [
    {
     "data": {
      "text/plain": [
       "(727, 4)"
      ]
     },
     "execution_count": 13,
     "metadata": {},
     "output_type": "execute_result"
    }
   ],
   "source": [
    "x_train0.shape"
   ]
  },
  {
   "cell_type": "markdown",
   "metadata": {
    "id": "rM0JlK_1m7f7"
   },
   "source": [
    "### 1.2 모델링 : AE"
   ]
  },
  {
   "cell_type": "markdown",
   "metadata": {
    "id": "z9qTfkufoBUd"
   },
   "source": [
    "#### 1) hyper parameter 설정"
   ]
  },
  {
   "cell_type": "code",
   "execution_count": 14,
   "metadata": {
    "executionInfo": {
     "elapsed": 19,
     "status": "ok",
     "timestamp": 1646495061313,
     "user": {
      "displayName": "한기영",
      "photoUrl": "https://lh3.googleusercontent.com/a/default-user=s64",
      "userId": "13049187003176135487"
     },
     "user_tz": -540
    },
    "id": "wdw_2egsoBUd"
   },
   "outputs": [],
   "source": [
    "epochs = 50\n",
    "input_dim = x_train0.shape[1] #num of columns\n",
    "input_dim\n",
    "\n",
    "tf.random.set_seed(10)"
   ]
  },
  {
   "cell_type": "markdown",
   "metadata": {
    "id": "cbP53a_hoBUd"
   },
   "source": [
    "#### 2) 모델 설계"
   ]
  },
  {
   "cell_type": "markdown",
   "metadata": {
    "id": "1pmkSi4yp4rC"
   },
   "source": [
    "![](https://github.com/DA4BAM/dataset/blob/master/ae_1.png?raw=true)"
   ]
  },
  {
   "cell_type": "code",
   "execution_count": 15,
   "metadata": {
    "colab": {
     "base_uri": "https://localhost:8080/"
    },
    "executionInfo": {
     "elapsed": 19,
     "status": "ok",
     "timestamp": 1646495061314,
     "user": {
      "displayName": "한기영",
      "photoUrl": "https://lh3.googleusercontent.com/a/default-user=s64",
      "userId": "13049187003176135487"
     },
     "user_tz": -540
    },
    "id": "glwcLNDroBUd",
    "outputId": "6a8434e0-35d0-4e0e-d91d-9d724a8ed1df"
   },
   "outputs": [
    {
     "name": "stdout",
     "output_type": "stream",
     "text": [
      "Model: \"model\"\n",
      "_________________________________________________________________\n",
      " Layer (type)                Output Shape              Param #   \n",
      "=================================================================\n",
      " input_1 (InputLayer)        [(None, 4)]               0         \n",
      "                                                                 \n",
      " dense (Dense)               (None, 4)                 20        \n",
      "                                                                 \n",
      " dense_1 (Dense)             (None, 2)                 10        \n",
      "                                                                 \n",
      " dense_2 (Dense)             (None, 4)                 12        \n",
      "                                                                 \n",
      " dense_3 (Dense)             (None, 4)                 20        \n",
      "                                                                 \n",
      "=================================================================\n",
      "Total params: 62\n",
      "Trainable params: 62\n",
      "Non-trainable params: 0\n",
      "_________________________________________________________________\n"
     ]
    }
   ],
   "source": [
    "clear_session()\n",
    "\n",
    "input_layer = Input(shape=(input_dim, ))\n",
    "\n",
    "# Encoder\n",
    "encoder = Dense(4, activation=\"relu\")(input_layer)\n",
    "encoder = Dense(2, activation=\"relu\")(encoder)\n",
    "\n",
    "# Decoder\n",
    "decoder = Dense(4, activation='relu')(encoder)\n",
    "decoder = Dense(input_dim, activation='relu')(decoder)\n",
    "\n",
    "autoencoder = Model(inputs=input_layer, outputs=decoder)\n",
    "autoencoder.summary()"
   ]
  },
  {
   "cell_type": "markdown",
   "metadata": {
    "id": "8zMPHJWnoBUd"
   },
   "source": [
    "#### 3) compile + 학습\n",
    "* 학습시 x=x_train0, y=x_train0를 입력합니다. (비지도)"
   ]
  },
  {
   "cell_type": "code",
   "execution_count": 16,
   "metadata": {
    "colab": {
     "base_uri": "https://localhost:8080/"
    },
    "executionInfo": {
     "elapsed": 4199,
     "status": "ok",
     "timestamp": 1646495065502,
     "user": {
      "displayName": "한기영",
      "photoUrl": "https://lh3.googleusercontent.com/a/default-user=s64",
      "userId": "13049187003176135487"
     },
     "user_tz": -540
    },
    "id": "HhMICUVnoBUe",
    "outputId": "0ef31336-c0b1-4bba-8355-b8f770691337"
   },
   "outputs": [
    {
     "name": "stdout",
     "output_type": "stream",
     "text": [
      "Epoch 1/50\n",
      "23/23 [==============================] - 0s 5ms/step - loss: 0.1847 - accuracy: 0.1774 - val_loss: 0.1853 - val_accuracy: 0.1391\n",
      "Epoch 2/50\n",
      "23/23 [==============================] - 0s 1ms/step - loss: 0.1598 - accuracy: 0.3040 - val_loss: 0.1604 - val_accuracy: 0.3971\n",
      "Epoch 3/50\n",
      "23/23 [==============================] - 0s 1ms/step - loss: 0.1383 - accuracy: 0.4044 - val_loss: 0.1398 - val_accuracy: 0.3971\n",
      "Epoch 4/50\n",
      "23/23 [==============================] - 0s 1ms/step - loss: 0.1210 - accuracy: 0.4058 - val_loss: 0.1244 - val_accuracy: 0.3971\n",
      "Epoch 5/50\n",
      "23/23 [==============================] - 0s 1ms/step - loss: 0.1086 - accuracy: 0.4058 - val_loss: 0.1139 - val_accuracy: 0.3971\n",
      "Epoch 6/50\n",
      "23/23 [==============================] - 0s 1ms/step - loss: 0.1006 - accuracy: 0.4058 - val_loss: 0.1075 - val_accuracy: 0.3971\n",
      "Epoch 7/50\n",
      "23/23 [==============================] - 0s 1ms/step - loss: 0.0957 - accuracy: 0.4058 - val_loss: 0.1036 - val_accuracy: 0.3971\n",
      "Epoch 8/50\n",
      "23/23 [==============================] - 0s 1ms/step - loss: 0.0928 - accuracy: 0.4058 - val_loss: 0.1013 - val_accuracy: 0.3971\n",
      "Epoch 9/50\n",
      "23/23 [==============================] - 0s 1ms/step - loss: 0.0909 - accuracy: 0.4058 - val_loss: 0.0998 - val_accuracy: 0.3971\n",
      "Epoch 10/50\n",
      "23/23 [==============================] - 0s 1ms/step - loss: 0.0895 - accuracy: 0.4058 - val_loss: 0.0985 - val_accuracy: 0.3971\n",
      "Epoch 11/50\n",
      "23/23 [==============================] - 0s 1ms/step - loss: 0.0884 - accuracy: 0.4058 - val_loss: 0.0974 - val_accuracy: 0.3971\n",
      "Epoch 12/50\n",
      "23/23 [==============================] - 0s 1ms/step - loss: 0.0874 - accuracy: 0.4058 - val_loss: 0.0964 - val_accuracy: 0.3971\n",
      "Epoch 13/50\n",
      "23/23 [==============================] - 0s 1ms/step - loss: 0.0863 - accuracy: 0.4058 - val_loss: 0.0952 - val_accuracy: 0.3971\n",
      "Epoch 14/50\n",
      "23/23 [==============================] - 0s 1ms/step - loss: 0.0853 - accuracy: 0.4058 - val_loss: 0.0941 - val_accuracy: 0.3971\n",
      "Epoch 15/50\n",
      "23/23 [==============================] - 0s 1ms/step - loss: 0.0842 - accuracy: 0.4058 - val_loss: 0.0930 - val_accuracy: 0.3971\n",
      "Epoch 16/50\n",
      "23/23 [==============================] - 0s 1ms/step - loss: 0.0831 - accuracy: 0.4058 - val_loss: 0.0917 - val_accuracy: 0.3971\n",
      "Epoch 17/50\n",
      "23/23 [==============================] - 0s 1ms/step - loss: 0.0819 - accuracy: 0.4058 - val_loss: 0.0905 - val_accuracy: 0.3971\n",
      "Epoch 18/50\n",
      "23/23 [==============================] - 0s 1ms/step - loss: 0.0805 - accuracy: 0.4058 - val_loss: 0.0891 - val_accuracy: 0.3971\n",
      "Epoch 19/50\n",
      "23/23 [==============================] - 0s 1ms/step - loss: 0.0791 - accuracy: 0.4058 - val_loss: 0.0874 - val_accuracy: 0.3971\n",
      "Epoch 20/50\n",
      "23/23 [==============================] - 0s 1ms/step - loss: 0.0774 - accuracy: 0.4058 - val_loss: 0.0854 - val_accuracy: 0.3971\n",
      "Epoch 21/50\n",
      "23/23 [==============================] - 0s 1ms/step - loss: 0.0756 - accuracy: 0.4072 - val_loss: 0.0835 - val_accuracy: 0.3971\n",
      "Epoch 22/50\n",
      "23/23 [==============================] - 0s 1ms/step - loss: 0.0736 - accuracy: 0.4058 - val_loss: 0.0815 - val_accuracy: 0.3942\n",
      "Epoch 23/50\n",
      "23/23 [==============================] - 0s 1ms/step - loss: 0.0717 - accuracy: 0.4044 - val_loss: 0.0794 - val_accuracy: 0.3913\n",
      "Epoch 24/50\n",
      "23/23 [==============================] - 0s 1ms/step - loss: 0.0698 - accuracy: 0.4003 - val_loss: 0.0773 - val_accuracy: 0.3884\n",
      "Epoch 25/50\n",
      "23/23 [==============================] - 0s 1ms/step - loss: 0.0678 - accuracy: 0.4003 - val_loss: 0.0755 - val_accuracy: 0.3942\n",
      "Epoch 26/50\n",
      "23/23 [==============================] - 0s 1ms/step - loss: 0.0659 - accuracy: 0.4580 - val_loss: 0.0733 - val_accuracy: 0.5217\n",
      "Epoch 27/50\n",
      "23/23 [==============================] - 0s 1ms/step - loss: 0.0638 - accuracy: 0.5392 - val_loss: 0.0712 - val_accuracy: 0.5623\n",
      "Epoch 28/50\n",
      "23/23 [==============================] - 0s 1ms/step - loss: 0.0619 - accuracy: 0.6176 - val_loss: 0.0690 - val_accuracy: 0.6261\n",
      "Epoch 29/50\n",
      "23/23 [==============================] - 0s 1ms/step - loss: 0.0599 - accuracy: 0.6410 - val_loss: 0.0668 - val_accuracy: 0.6638\n",
      "Epoch 30/50\n",
      "23/23 [==============================] - 0s 1ms/step - loss: 0.0579 - accuracy: 0.6602 - val_loss: 0.0648 - val_accuracy: 0.6783\n",
      "Epoch 31/50\n",
      "23/23 [==============================] - 0s 1ms/step - loss: 0.0559 - accuracy: 0.6713 - val_loss: 0.0625 - val_accuracy: 0.6928\n",
      "Epoch 32/50\n",
      "23/23 [==============================] - 0s 1ms/step - loss: 0.0541 - accuracy: 0.6726 - val_loss: 0.0605 - val_accuracy: 0.6957\n",
      "Epoch 33/50\n",
      "23/23 [==============================] - 0s 1ms/step - loss: 0.0523 - accuracy: 0.6726 - val_loss: 0.0587 - val_accuracy: 0.7043\n",
      "Epoch 34/50\n",
      "23/23 [==============================] - 0s 1ms/step - loss: 0.0508 - accuracy: 0.6740 - val_loss: 0.0570 - val_accuracy: 0.7072\n",
      "Epoch 35/50\n",
      "23/23 [==============================] - 0s 1ms/step - loss: 0.0494 - accuracy: 0.6768 - val_loss: 0.0555 - val_accuracy: 0.7159\n",
      "Epoch 36/50\n",
      "23/23 [==============================] - 0s 1ms/step - loss: 0.0482 - accuracy: 0.6781 - val_loss: 0.0542 - val_accuracy: 0.7159\n",
      "Epoch 37/50\n",
      "23/23 [==============================] - 0s 1ms/step - loss: 0.0473 - accuracy: 0.6795 - val_loss: 0.0531 - val_accuracy: 0.7159\n",
      "Epoch 38/50\n",
      "23/23 [==============================] - 0s 1ms/step - loss: 0.0465 - accuracy: 0.6781 - val_loss: 0.0523 - val_accuracy: 0.7159\n",
      "Epoch 39/50\n",
      "23/23 [==============================] - 0s 1ms/step - loss: 0.0458 - accuracy: 0.6795 - val_loss: 0.0515 - val_accuracy: 0.7159\n",
      "Epoch 40/50\n",
      "23/23 [==============================] - 0s 1ms/step - loss: 0.0453 - accuracy: 0.6795 - val_loss: 0.0509 - val_accuracy: 0.7159\n",
      "Epoch 41/50\n",
      "23/23 [==============================] - 0s 1ms/step - loss: 0.0448 - accuracy: 0.6795 - val_loss: 0.0503 - val_accuracy: 0.7159\n",
      "Epoch 42/50\n",
      "23/23 [==============================] - 0s 1ms/step - loss: 0.0445 - accuracy: 0.6795 - val_loss: 0.0500 - val_accuracy: 0.7159\n",
      "Epoch 43/50\n",
      "23/23 [==============================] - 0s 1ms/step - loss: 0.0442 - accuracy: 0.6795 - val_loss: 0.0496 - val_accuracy: 0.7159\n",
      "Epoch 44/50\n",
      "23/23 [==============================] - 0s 1ms/step - loss: 0.0440 - accuracy: 0.6795 - val_loss: 0.0493 - val_accuracy: 0.7159\n",
      "Epoch 45/50\n",
      "23/23 [==============================] - 0s 1ms/step - loss: 0.0437 - accuracy: 0.6795 - val_loss: 0.0491 - val_accuracy: 0.7159\n",
      "Epoch 46/50\n",
      "23/23 [==============================] - 0s 1ms/step - loss: 0.0436 - accuracy: 0.6795 - val_loss: 0.0488 - val_accuracy: 0.7159\n",
      "Epoch 47/50\n",
      "23/23 [==============================] - 0s 1ms/step - loss: 0.0434 - accuracy: 0.6795 - val_loss: 0.0486 - val_accuracy: 0.7159\n",
      "Epoch 48/50\n",
      "23/23 [==============================] - 0s 1ms/step - loss: 0.0432 - accuracy: 0.6795 - val_loss: 0.0486 - val_accuracy: 0.7159\n",
      "Epoch 49/50\n",
      "23/23 [==============================] - 0s 1ms/step - loss: 0.0431 - accuracy: 0.6795 - val_loss: 0.0483 - val_accuracy: 0.7159\n",
      "Epoch 50/50\n",
      "23/23 [==============================] - 0s 1ms/step - loss: 0.0430 - accuracy: 0.6795 - val_loss: 0.0482 - val_accuracy: 0.7159\n"
     ]
    }
   ],
   "source": [
    "# Configure the learning process, by compiling the model\n",
    "autoencoder.compile(optimizer='adam',loss='mse')\n",
    "\n",
    "history = autoencoder.fit(x=x_train0, y=x_train0,\n",
    "                          epochs=epochs,\n",
    "                          validation_data=(x_val_s, x_val_s)).history"
   ]
  },
  {
   "cell_type": "code",
   "execution_count": 17,
   "metadata": {
    "colab": {
     "base_uri": "https://localhost:8080/",
     "height": 295
    },
    "executionInfo": {
     "elapsed": 396,
     "status": "ok",
     "timestamp": 1646495065895,
     "user": {
      "displayName": "한기영",
      "photoUrl": "https://lh3.googleusercontent.com/a/default-user=s64",
      "userId": "13049187003176135487"
     },
     "user_tz": -540
    },
    "id": "8eC5qM3foBUe",
    "outputId": "207ac6e5-89b4-4012-ec6f-802935cc3770"
   },
   "outputs": [
    {
     "data": {
      "image/png": "[encoded data removed]",
      "text/plain": [
       "<Figure size 432x288 with 1 Axes>"
      ]
     },
     "metadata": {
      "needs_background": "light"
     },
     "output_type": "display_data"
    }
   ],
   "source": [
    "plt.plot(history['loss'], label='Train')\n",
    "plt.plot(history['val_loss'], label='Validation')\n",
    "\n",
    "plt.title('Model loss')\n",
    "plt.ylabel('Loss')\n",
    "plt.xlabel('Epoch')\n",
    "plt.legend()\n",
    "plt.grid()\n",
    "plt.show()"
   ]
  },
  {
   "cell_type": "markdown",
   "metadata": {
    "id": "hlpUb9SWoBUe"
   },
   "source": [
    "### 1.3 예측 및 Reconstruction Error 계산"
   ]
  },
  {
   "cell_type": "markdown",
   "metadata": {
    "id": "fC8CO2QqoBUe"
   },
   "source": [
    "* 예측"
   ]
  },
  {
   "cell_type": "code",
   "execution_count": 18,
   "metadata": {
    "executionInfo": {
     "elapsed": 5,
     "status": "ok",
     "timestamp": 1646495065897,
     "user": {
      "displayName": "한기영",
      "photoUrl": "https://lh3.googleusercontent.com/a/default-user=s64",
      "userId": "13049187003176135487"
     },
     "user_tz": -540
    },
    "id": "Iq4TUanMoBUe"
   },
   "outputs": [],
   "source": [
    "pred = autoencoder.predict(x_val_s)"
   ]
  },
  {
   "cell_type": "markdown",
   "metadata": {
    "id": "pAWkQHvCoBUf"
   },
   "source": [
    "* 재구성 에러 계산\n",
    "\n",
    "    * recon_err_plot(y, y_pred, threshold)\n",
    "        * threshlod는 임의로 지정하는 값입니다.\n",
    "    * 그래프에서\n",
    "        * x 축 : 각 데이터(instance, 행) 인덱스\n",
    "        * y 축 : 각 데이터(instance, 행) - 예측값과의 재구성 에러\n",
    "        * 파란색점과 주황색점은 실제값을 나타냅니다.\n",
    "        * 빨간선 : 임의로 지정한 threshold(cutoff)"
   ]
  },
  {
   "cell_type": "code",
   "execution_count": 19,
   "metadata": {
    "colab": {
     "base_uri": "https://localhost:8080/",
     "height": 295
    },
    "executionInfo": {
     "elapsed": 1138,
     "status": "ok",
     "timestamp": 1646495067030,
     "user": {
      "displayName": "한기영",
      "photoUrl": "https://lh3.googleusercontent.com/a/default-user=s64",
      "userId": "13049187003176135487"
     },
     "user_tz": -540
    },
    "id": "ZnpQGD_noBUf",
    "outputId": "837880a0-4ec0-480f-8349-ace0cf9080b0"
   },
   "outputs": [
    {
     "data": {
      "image/png": "[encoded data removed]",
      "text/plain": [
       "<Figure size 432x288 with 1 Axes>"
      ]
     },
     "metadata": {
      "needs_background": "light"
     },
     "output_type": "display_data"
    }
   ],
   "source": [
    "result = recon_err_plot(x_val_s, pred, y_val, .03)"
   ]
  },
  {
   "cell_type": "code",
   "execution_count": 20,
   "metadata": {
    "colab": {
     "base_uri": "https://localhost:8080/",
     "height": 206
    },
    "executionInfo": {
     "elapsed": 26,
     "status": "ok",
     "timestamp": 1646495067030,
     "user": {
      "displayName": "한기영",
      "photoUrl": "https://lh3.googleusercontent.com/a/default-user=s64",
      "userId": "13049187003176135487"
     },
     "user_tz": -540
    },
    "id": "oRAA8sul12g0",
    "outputId": "255a2267-4f08-4294-8b4c-65ccc1b6e014"
   },
   "outputs": [
    {
     "data": {
      "text/html": [
       "<div>\n",
       "<style scoped>\n",
       "    .dataframe tbody tr th:only-of-type {\n",
       "        vertical-align: middle;\n",
       "    }\n",
       "\n",
       "    .dataframe tbody tr th {\n",
       "        vertical-align: top;\n",
       "    }\n",
       "\n",
       "    .dataframe thead th {\n",
       "        text-align: right;\n",
       "    }\n",
       "</style>\n",
       "<table border=\"1\" class=\"dataframe\">\n",
       "  <thead>\n",
       "    <tr style=\"text-align: right;\">\n",
       "      <th></th>\n",
       "      <th>index</th>\n",
       "      <th>Reconstruction_error</th>\n",
       "      <th>True_class</th>\n",
       "    </tr>\n",
       "  </thead>\n",
       "  <tbody>\n",
       "    <tr>\n",
       "      <th>0</th>\n",
       "      <td>638</td>\n",
       "      <td>0.028662</td>\n",
       "      <td>0</td>\n",
       "    </tr>\n",
       "    <tr>\n",
       "      <th>1</th>\n",
       "      <td>1047</td>\n",
       "      <td>0.128810</td>\n",
       "      <td>0</td>\n",
       "    </tr>\n",
       "    <tr>\n",
       "      <th>2</th>\n",
       "      <td>178</td>\n",
       "      <td>0.023001</td>\n",
       "      <td>0</td>\n",
       "    </tr>\n",
       "    <tr>\n",
       "      <th>3</th>\n",
       "      <td>631</td>\n",
       "      <td>0.021038</td>\n",
       "      <td>0</td>\n",
       "    </tr>\n",
       "    <tr>\n",
       "      <th>4</th>\n",
       "      <td>1022</td>\n",
       "      <td>0.003986</td>\n",
       "      <td>0</td>\n",
       "    </tr>\n",
       "  </tbody>\n",
       "</table>\n",
       "</div>"
      ],
      "text/plain": [
       "   index  Reconstruction_error  True_class\n",
       "0    638              0.028662           0\n",
       "1   1047              0.128810           0\n",
       "2    178              0.023001           0\n",
       "3    631              0.021038           0\n",
       "4   1022              0.003986           0"
      ]
     },
     "execution_count": 20,
     "metadata": {},
     "output_type": "execute_result"
    }
   ],
   "source": [
    "result.head()"
   ]
  },
  {
   "cell_type": "markdown",
   "metadata": {
    "id": "pd98Aza1oBUg"
   },
   "source": [
    "* threshold(cutoff) 값을 조정하면서 precision, recall, f1 을 구해봅시다.\n",
    "    * threshold(cutoff) 보다 크면, **Abnormal**\n",
    "    * prec_rec_f1_curve(y, recon_error)\n",
    "        * x축 : 재구성에러(Anomaly Score라고 부르기도 함)\n",
    "        * y축 : threshold값을 0부터 조금씩 조정하며 증가시켰을 때의 f1, recall, precision 값(0~1)"
   ]
  },
  {
   "cell_type": "code",
   "execution_count": 21,
   "metadata": {
    "colab": {
     "base_uri": "https://localhost:8080/",
     "height": 315
    },
    "executionInfo": {
     "elapsed": 26,
     "status": "ok",
     "timestamp": 1646495067031,
     "user": {
      "displayName": "한기영",
      "photoUrl": "https://lh3.googleusercontent.com/a/default-user=s64",
      "userId": "13049187003176135487"
     },
     "user_tz": -540
    },
    "id": "jnlCEoBdoBUg",
    "outputId": "25bace28-2bef-42d0-e621-c2134ddf574f"
   },
   "outputs": [
    {
     "name": "stderr",
     "output_type": "stream",
     "text": [
      "<ipython-input-3-758115a526a7>:6: RuntimeWarning: divide by zero encountered in true_divide\n",
      "  f1 = 2 / (1/precision + 1/recall)\n"
     ]
    },
    {
     "data": {
      "image/png": "[encoded data removed]",
      "text/plain": [
       "<Figure size 432x288 with 1 Axes>"
      ]
     },
     "metadata": {
      "needs_background": "light"
     },
     "output_type": "display_data"
    }
   ],
   "source": [
    "precision, recall, f1, thresholds = prec_rec_f1_curve(result['True_class'], result['Reconstruction_error'])"
   ]
  },
  {
   "cell_type": "markdown",
   "metadata": {
    "id": "J6UPSofxoBUg"
   },
   "source": [
    "* f1 값을 최대화 시키는 threshold 값"
   ]
  },
  {
   "cell_type": "code",
   "execution_count": 22,
   "metadata": {
    "colab": {
     "base_uri": "https://localhost:8080/"
    },
    "executionInfo": {
     "elapsed": 23,
     "status": "ok",
     "timestamp": 1646495067031,
     "user": {
      "displayName": "한기영",
      "photoUrl": "https://lh3.googleusercontent.com/a/default-user=s64",
      "userId": "13049187003176135487"
     },
     "user_tz": -540
    },
    "id": "mAz1bdlNoBUg",
    "outputId": "196192fc-b9b9-4950-b195-740580d303ae"
   },
   "outputs": [
    {
     "data": {
      "text/plain": [
       "0.11769618792326109"
      ]
     },
     "execution_count": 22,
     "metadata": {},
     "output_type": "execute_result"
    }
   ],
   "source": [
    "thres_f1_max = thresholds[np.argmax(f1)]\n",
    "thres_f1_max"
   ]
  },
  {
   "cell_type": "markdown",
   "metadata": {
    "id": "cFY8UQMq334l"
   },
   "source": [
    "* threshold 값에 따른 classification report\n",
    "    * classification_report2(y, Reconstruction_error , threshold)"
   ]
  },
  {
   "cell_type": "code",
   "execution_count": 23,
   "metadata": {
    "colab": {
     "base_uri": "https://localhost:8080/"
    },
    "executionInfo": {
     "elapsed": 21,
     "status": "ok",
     "timestamp": 1646495067032,
     "user": {
      "displayName": "한기영",
      "photoUrl": "https://lh3.googleusercontent.com/a/default-user=s64",
      "userId": "13049187003176135487"
     },
     "user_tz": -540
    },
    "id": "C6dTiDheoBUg",
    "outputId": "3976459c-3438-4201-b8d3-f2be194a22ac"
   },
   "outputs": [
    {
     "name": "stdout",
     "output_type": "stream",
     "text": [
      "< confusion matrix >\n",
      "\n",
      "[[287  36]\n",
      " [ 17   5]]\n",
      "\n",
      "============================================================\n",
      "\n",
      "< classification_report >\n",
      "\n",
      "              precision    recall  f1-score   support\n",
      "\n",
      "           0       0.94      0.89      0.92       323\n",
      "           1       0.12      0.23      0.16        22\n",
      "\n",
      "    accuracy                           0.85       345\n",
      "   macro avg       0.53      0.56      0.54       345\n",
      "weighted avg       0.89      0.85      0.87       345\n",
      "\n"
     ]
    },
    {
     "data": {
      "text/plain": [
       "array([[287,  36],\n",
       "       [ 17,   5]], dtype=int64)"
      ]
     },
     "execution_count": 23,
     "metadata": {},
     "output_type": "execute_result"
    }
   ],
   "source": [
    "classification_report2(result['True_class'], result['Reconstruction_error'],thres_f1_max)"
   ]
  },
  {
   "cell_type": "code",
   "execution_count": 24,
   "metadata": {
    "executionInfo": {
     "elapsed": 20,
     "status": "ok",
     "timestamp": 1646495067033,
     "user": {
      "displayName": "한기영",
      "photoUrl": "https://lh3.googleusercontent.com/a/default-user=s64",
      "userId": "13049187003176135487"
     },
     "user_tz": -540
    },
    "id": "-fyAILnsm7f9"
   },
   "outputs": [],
   "source": [
    "# 수용 할 만한 결과인가요?\n"
   ]
  },
  {
   "cell_type": "markdown",
   "metadata": {
    "id": "nAA3FNxQqTNr"
   },
   "source": [
    "### 1.4 [추가] deep dive into reconstruction error\n",
    "아래 내용은 시간이 허용되는 만큼 진행하고자 합니다.\n",
    "\n",
    "* reconstruction error를 직접 계산해보고\n",
    "* reconstruction error에 영향을 가장 많이주는 변수 분석 \n"
   ]
  },
  {
   "cell_type": "markdown",
   "metadata": {
    "id": "TrhuQBFz4wTK"
   },
   "source": [
    "#### 1) 실제값과 예측값 합치기"
   ]
  },
  {
   "cell_type": "code",
   "execution_count": 25,
   "metadata": {
    "colab": {
     "base_uri": "https://localhost:8080/",
     "height": 206
    },
    "executionInfo": {
     "elapsed": 20,
     "status": "ok",
     "timestamp": 1646495067033,
     "user": {
      "displayName": "한기영",
      "photoUrl": "https://lh3.googleusercontent.com/a/default-user=s64",
      "userId": "13049187003176135487"
     },
     "user_tz": -540
    },
    "id": "FM7MWBh0qVcg",
    "outputId": "f9331e36-51dd-4d66-f49e-89af49423e76"
   },
   "outputs": [
    {
     "data": {
      "text/html": [
       "<div>\n",
       "<style scoped>\n",
       "    .dataframe tbody tr th:only-of-type {\n",
       "        vertical-align: middle;\n",
       "    }\n",
       "\n",
       "    .dataframe tbody tr th {\n",
       "        vertical-align: top;\n",
       "    }\n",
       "\n",
       "    .dataframe thead th {\n",
       "        text-align: right;\n",
       "    }\n",
       "</style>\n",
       "<table border=\"1\" class=\"dataframe\">\n",
       "  <thead>\n",
       "    <tr style=\"text-align: right;\">\n",
       "      <th></th>\n",
       "      <th>Age</th>\n",
       "      <th>Distance</th>\n",
       "      <th>Income</th>\n",
       "      <th>Single</th>\n",
       "      <th>Pr_Age</th>\n",
       "      <th>Pr_Distance</th>\n",
       "      <th>Pr_Income</th>\n",
       "      <th>Pr_Single</th>\n",
       "    </tr>\n",
       "  </thead>\n",
       "  <tbody>\n",
       "    <tr>\n",
       "      <th>0</th>\n",
       "      <td>0.404762</td>\n",
       "      <td>0.607143</td>\n",
       "      <td>0.239705</td>\n",
       "      <td>0.0</td>\n",
       "      <td>0.436141</td>\n",
       "      <td>0.274503</td>\n",
       "      <td>0.294608</td>\n",
       "      <td>0.000000</td>\n",
       "    </tr>\n",
       "    <tr>\n",
       "      <th>1</th>\n",
       "      <td>0.738095</td>\n",
       "      <td>0.607143</td>\n",
       "      <td>0.973828</td>\n",
       "      <td>0.0</td>\n",
       "      <td>0.564326</td>\n",
       "      <td>0.307774</td>\n",
       "      <td>0.347962</td>\n",
       "      <td>0.060946</td>\n",
       "    </tr>\n",
       "    <tr>\n",
       "      <th>2</th>\n",
       "      <td>0.523810</td>\n",
       "      <td>0.035714</td>\n",
       "      <td>0.128436</td>\n",
       "      <td>0.0</td>\n",
       "      <td>0.432309</td>\n",
       "      <td>0.273509</td>\n",
       "      <td>0.293013</td>\n",
       "      <td>0.000000</td>\n",
       "    </tr>\n",
       "    <tr>\n",
       "      <th>3</th>\n",
       "      <td>0.523810</td>\n",
       "      <td>0.000000</td>\n",
       "      <td>0.339547</td>\n",
       "      <td>0.0</td>\n",
       "      <td>0.456025</td>\n",
       "      <td>0.279664</td>\n",
       "      <td>0.302884</td>\n",
       "      <td>0.000000</td>\n",
       "    </tr>\n",
       "    <tr>\n",
       "      <th>4</th>\n",
       "      <td>0.452381</td>\n",
       "      <td>0.285714</td>\n",
       "      <td>0.167457</td>\n",
       "      <td>0.0</td>\n",
       "      <td>0.424628</td>\n",
       "      <td>0.271515</td>\n",
       "      <td>0.289816</td>\n",
       "      <td>0.000000</td>\n",
       "    </tr>\n",
       "  </tbody>\n",
       "</table>\n",
       "</div>"
      ],
      "text/plain": [
       "        Age  Distance    Income  Single    Pr_Age  Pr_Distance  Pr_Income  \\\n",
       "0  0.404762  0.607143  0.239705     0.0  0.436141     0.274503   0.294608   \n",
       "1  0.738095  0.607143  0.973828     0.0  0.564326     0.307774   0.347962   \n",
       "2  0.523810  0.035714  0.128436     0.0  0.432309     0.273509   0.293013   \n",
       "3  0.523810  0.000000  0.339547     0.0  0.456025     0.279664   0.302884   \n",
       "4  0.452381  0.285714  0.167457     0.0  0.424628     0.271515   0.289816   \n",
       "\n",
       "   Pr_Single  \n",
       "0   0.000000  \n",
       "1   0.060946  \n",
       "2   0.000000  \n",
       "3   0.000000  \n",
       "4   0.000000  "
      ]
     },
     "execution_count": 25,
     "metadata": {},
     "output_type": "execute_result"
    }
   ],
   "source": [
    "# 실제값을 데이터프레임으로 저장\n",
    "x_val_s = pd.DataFrame(x_val_s, columns = list(x))\n",
    "\n",
    "# 예측값을 데이터프레임으로 저장(칼럼명에 prefix : 'Pr_')\n",
    "pred_col = []\n",
    "for i in list(x):\n",
    "    pred_col.append('Pr_'+i)\n",
    "pred_df = pd.DataFrame(pred, columns = pred_col)\n",
    "\n",
    "# 합치기\n",
    "reconErr = pd.concat([x_val_s, pred_df], axis = 1)\n",
    "reconErr.head()"
   ]
  },
  {
   "cell_type": "markdown",
   "metadata": {
    "id": "zdMIOQxSt1gc"
   },
   "source": [
    "#### 2) reconstruction error 직접 계산"
   ]
  },
  {
   "cell_type": "markdown",
   "metadata": {
    "id": "rVU64tvx5aED"
   },
   "source": [
    "* 각 값끼리의 Squared Error를 구하기."
   ]
  },
  {
   "cell_type": "code",
   "execution_count": 26,
   "metadata": {
    "colab": {
     "base_uri": "https://localhost:8080/",
     "height": 206
    },
    "executionInfo": {
     "elapsed": 20,
     "status": "ok",
     "timestamp": 1646495067034,
     "user": {
      "displayName": "한기영",
      "photoUrl": "https://lh3.googleusercontent.com/a/default-user=s64",
      "userId": "13049187003176135487"
     },
     "user_tz": -540
    },
    "id": "XGt9Bzl6sWQ_",
    "outputId": "27cbccd2-95ed-466f-f28e-f0700ecf77e2"
   },
   "outputs": [
    {
     "data": {
      "text/html": [
       "<div>\n",
       "<style scoped>\n",
       "    .dataframe tbody tr th:only-of-type {\n",
       "        vertical-align: middle;\n",
       "    }\n",
       "\n",
       "    .dataframe tbody tr th {\n",
       "        vertical-align: top;\n",
       "    }\n",
       "\n",
       "    .dataframe thead th {\n",
       "        text-align: right;\n",
       "    }\n",
       "</style>\n",
       "<table border=\"1\" class=\"dataframe\">\n",
       "  <thead>\n",
       "    <tr style=\"text-align: right;\">\n",
       "      <th></th>\n",
       "      <th>Age</th>\n",
       "      <th>Distance</th>\n",
       "      <th>Income</th>\n",
       "      <th>Single</th>\n",
       "      <th>Pr_Age</th>\n",
       "      <th>Pr_Distance</th>\n",
       "      <th>Pr_Income</th>\n",
       "      <th>Pr_Single</th>\n",
       "      <th>SE_Age</th>\n",
       "      <th>SE_Distance</th>\n",
       "      <th>SE_Income</th>\n",
       "      <th>SE_Single</th>\n",
       "    </tr>\n",
       "  </thead>\n",
       "  <tbody>\n",
       "    <tr>\n",
       "      <th>0</th>\n",
       "      <td>0.404762</td>\n",
       "      <td>0.607143</td>\n",
       "      <td>0.239705</td>\n",
       "      <td>0.0</td>\n",
       "      <td>0.436141</td>\n",
       "      <td>0.274503</td>\n",
       "      <td>0.294608</td>\n",
       "      <td>0.000000</td>\n",
       "      <td>0.000985</td>\n",
       "      <td>0.110649</td>\n",
       "      <td>0.003014</td>\n",
       "      <td>0.000000</td>\n",
       "    </tr>\n",
       "    <tr>\n",
       "      <th>1</th>\n",
       "      <td>0.738095</td>\n",
       "      <td>0.607143</td>\n",
       "      <td>0.973828</td>\n",
       "      <td>0.0</td>\n",
       "      <td>0.564326</td>\n",
       "      <td>0.307774</td>\n",
       "      <td>0.347962</td>\n",
       "      <td>0.060946</td>\n",
       "      <td>0.030196</td>\n",
       "      <td>0.089622</td>\n",
       "      <td>0.391708</td>\n",
       "      <td>0.003714</td>\n",
       "    </tr>\n",
       "    <tr>\n",
       "      <th>2</th>\n",
       "      <td>0.523810</td>\n",
       "      <td>0.035714</td>\n",
       "      <td>0.128436</td>\n",
       "      <td>0.0</td>\n",
       "      <td>0.432309</td>\n",
       "      <td>0.273509</td>\n",
       "      <td>0.293013</td>\n",
       "      <td>0.000000</td>\n",
       "      <td>0.008372</td>\n",
       "      <td>0.056546</td>\n",
       "      <td>0.027086</td>\n",
       "      <td>0.000000</td>\n",
       "    </tr>\n",
       "    <tr>\n",
       "      <th>3</th>\n",
       "      <td>0.523810</td>\n",
       "      <td>0.000000</td>\n",
       "      <td>0.339547</td>\n",
       "      <td>0.0</td>\n",
       "      <td>0.456025</td>\n",
       "      <td>0.279664</td>\n",
       "      <td>0.302884</td>\n",
       "      <td>0.000000</td>\n",
       "      <td>0.004595</td>\n",
       "      <td>0.078212</td>\n",
       "      <td>0.001344</td>\n",
       "      <td>0.000000</td>\n",
       "    </tr>\n",
       "    <tr>\n",
       "      <th>4</th>\n",
       "      <td>0.452381</td>\n",
       "      <td>0.285714</td>\n",
       "      <td>0.167457</td>\n",
       "      <td>0.0</td>\n",
       "      <td>0.424628</td>\n",
       "      <td>0.271515</td>\n",
       "      <td>0.289816</td>\n",
       "      <td>0.000000</td>\n",
       "      <td>0.000770</td>\n",
       "      <td>0.000202</td>\n",
       "      <td>0.014972</td>\n",
       "      <td>0.000000</td>\n",
       "    </tr>\n",
       "  </tbody>\n",
       "</table>\n",
       "</div>"
      ],
      "text/plain": [
       "        Age  Distance    Income  Single    Pr_Age  Pr_Distance  Pr_Income  \\\n",
       "0  0.404762  0.607143  0.239705     0.0  0.436141     0.274503   0.294608   \n",
       "1  0.738095  0.607143  0.973828     0.0  0.564326     0.307774   0.347962   \n",
       "2  0.523810  0.035714  0.128436     0.0  0.432309     0.273509   0.293013   \n",
       "3  0.523810  0.000000  0.339547     0.0  0.456025     0.279664   0.302884   \n",
       "4  0.452381  0.285714  0.167457     0.0  0.424628     0.271515   0.289816   \n",
       "\n",
       "   Pr_Single    SE_Age  SE_Distance  SE_Income  SE_Single  \n",
       "0   0.000000  0.000985     0.110649   0.003014   0.000000  \n",
       "1   0.060946  0.030196     0.089622   0.391708   0.003714  \n",
       "2   0.000000  0.008372     0.056546   0.027086   0.000000  \n",
       "3   0.000000  0.004595     0.078212   0.001344   0.000000  \n",
       "4   0.000000  0.000770     0.000202   0.014972   0.000000  "
      ]
     },
     "execution_count": 26,
     "metadata": {},
     "output_type": "execute_result"
    }
   ],
   "source": [
    "for v in list(x) :\n",
    "    v_se, v_pred = 'SE_'+v, 'Pr_'+v\n",
    "    reconErr[v_se] = np.power(reconErr[v] - reconErr[v_pred], 2)\n",
    "\n",
    "reconErr.head()"
   ]
  },
  {
   "cell_type": "markdown",
   "metadata": {
    "id": "sQ9nTPn15jm8"
   },
   "source": [
    "* 각 행에 대한 mse 계산"
   ]
  },
  {
   "cell_type": "code",
   "execution_count": 27,
   "metadata": {
    "colab": {
     "base_uri": "https://localhost:8080/",
     "height": 206
    },
    "executionInfo": {
     "elapsed": 20,
     "status": "ok",
     "timestamp": 1646495067035,
     "user": {
      "displayName": "한기영",
      "photoUrl": "https://lh3.googleusercontent.com/a/default-user=s64",
      "userId": "13049187003176135487"
     },
     "user_tz": -540
    },
    "id": "ZnLY1SbPuKRj",
    "outputId": "e61ec0c6-960a-4d2f-806a-2a3e9ce08c6e"
   },
   "outputs": [
    {
     "data": {
      "text/html": [
       "<div>\n",
       "<style scoped>\n",
       "    .dataframe tbody tr th:only-of-type {\n",
       "        vertical-align: middle;\n",
       "    }\n",
       "\n",
       "    .dataframe tbody tr th {\n",
       "        vertical-align: top;\n",
       "    }\n",
       "\n",
       "    .dataframe thead th {\n",
       "        text-align: right;\n",
       "    }\n",
       "</style>\n",
       "<table border=\"1\" class=\"dataframe\">\n",
       "  <thead>\n",
       "    <tr style=\"text-align: right;\">\n",
       "      <th></th>\n",
       "      <th>Age</th>\n",
       "      <th>Distance</th>\n",
       "      <th>Income</th>\n",
       "      <th>Single</th>\n",
       "      <th>Pr_Age</th>\n",
       "      <th>Pr_Distance</th>\n",
       "      <th>Pr_Income</th>\n",
       "      <th>Pr_Single</th>\n",
       "      <th>SE_Age</th>\n",
       "      <th>SE_Distance</th>\n",
       "      <th>SE_Income</th>\n",
       "      <th>SE_Single</th>\n",
       "      <th>Recon_Error</th>\n",
       "    </tr>\n",
       "  </thead>\n",
       "  <tbody>\n",
       "    <tr>\n",
       "      <th>0</th>\n",
       "      <td>0.404762</td>\n",
       "      <td>0.607143</td>\n",
       "      <td>0.239705</td>\n",
       "      <td>0.0</td>\n",
       "      <td>0.436141</td>\n",
       "      <td>0.274503</td>\n",
       "      <td>0.294608</td>\n",
       "      <td>0.000000</td>\n",
       "      <td>0.000985</td>\n",
       "      <td>0.110649</td>\n",
       "      <td>0.003014</td>\n",
       "      <td>0.000000</td>\n",
       "      <td>0.028662</td>\n",
       "    </tr>\n",
       "    <tr>\n",
       "      <th>1</th>\n",
       "      <td>0.738095</td>\n",
       "      <td>0.607143</td>\n",
       "      <td>0.973828</td>\n",
       "      <td>0.0</td>\n",
       "      <td>0.564326</td>\n",
       "      <td>0.307774</td>\n",
       "      <td>0.347962</td>\n",
       "      <td>0.060946</td>\n",
       "      <td>0.030196</td>\n",
       "      <td>0.089622</td>\n",
       "      <td>0.391708</td>\n",
       "      <td>0.003714</td>\n",
       "      <td>0.128810</td>\n",
       "    </tr>\n",
       "    <tr>\n",
       "      <th>2</th>\n",
       "      <td>0.523810</td>\n",
       "      <td>0.035714</td>\n",
       "      <td>0.128436</td>\n",
       "      <td>0.0</td>\n",
       "      <td>0.432309</td>\n",
       "      <td>0.273509</td>\n",
       "      <td>0.293013</td>\n",
       "      <td>0.000000</td>\n",
       "      <td>0.008372</td>\n",
       "      <td>0.056546</td>\n",
       "      <td>0.027086</td>\n",
       "      <td>0.000000</td>\n",
       "      <td>0.023001</td>\n",
       "    </tr>\n",
       "    <tr>\n",
       "      <th>3</th>\n",
       "      <td>0.523810</td>\n",
       "      <td>0.000000</td>\n",
       "      <td>0.339547</td>\n",
       "      <td>0.0</td>\n",
       "      <td>0.456025</td>\n",
       "      <td>0.279664</td>\n",
       "      <td>0.302884</td>\n",
       "      <td>0.000000</td>\n",
       "      <td>0.004595</td>\n",
       "      <td>0.078212</td>\n",
       "      <td>0.001344</td>\n",
       "      <td>0.000000</td>\n",
       "      <td>0.021038</td>\n",
       "    </tr>\n",
       "    <tr>\n",
       "      <th>4</th>\n",
       "      <td>0.452381</td>\n",
       "      <td>0.285714</td>\n",
       "      <td>0.167457</td>\n",
       "      <td>0.0</td>\n",
       "      <td>0.424628</td>\n",
       "      <td>0.271515</td>\n",
       "      <td>0.289816</td>\n",
       "      <td>0.000000</td>\n",
       "      <td>0.000770</td>\n",
       "      <td>0.000202</td>\n",
       "      <td>0.014972</td>\n",
       "      <td>0.000000</td>\n",
       "      <td>0.003986</td>\n",
       "    </tr>\n",
       "  </tbody>\n",
       "</table>\n",
       "</div>"
      ],
      "text/plain": [
       "        Age  Distance    Income  Single    Pr_Age  Pr_Distance  Pr_Income  \\\n",
       "0  0.404762  0.607143  0.239705     0.0  0.436141     0.274503   0.294608   \n",
       "1  0.738095  0.607143  0.973828     0.0  0.564326     0.307774   0.347962   \n",
       "2  0.523810  0.035714  0.128436     0.0  0.432309     0.273509   0.293013   \n",
       "3  0.523810  0.000000  0.339547     0.0  0.456025     0.279664   0.302884   \n",
       "4  0.452381  0.285714  0.167457     0.0  0.424628     0.271515   0.289816   \n",
       "\n",
       "   Pr_Single    SE_Age  SE_Distance  SE_Income  SE_Single  Recon_Error  \n",
       "0   0.000000  0.000985     0.110649   0.003014   0.000000     0.028662  \n",
       "1   0.060946  0.030196     0.089622   0.391708   0.003714     0.128810  \n",
       "2   0.000000  0.008372     0.056546   0.027086   0.000000     0.023001  \n",
       "3   0.000000  0.004595     0.078212   0.001344   0.000000     0.021038  \n",
       "4   0.000000  0.000770     0.000202   0.014972   0.000000     0.003986  "
      ]
     },
     "execution_count": 27,
     "metadata": {},
     "output_type": "execute_result"
    }
   ],
   "source": [
    "reconErr['Recon_Error'] = (reconErr['SE_Age'] + reconErr['SE_Distance'] + reconErr['SE_Income'] + reconErr['SE_Single'])/4\n",
    "reconErr.head()"
   ]
  },
  {
   "cell_type": "markdown",
   "metadata": {
    "id": "j3GI-N8RuJiA"
   },
   "source": [
    "#### 3) reconstruction error에 영향을 많이 주는 변수\n",
    "* 만약, 모델이 적절(?)하다고 판단될 때,\n",
    "* 모델에 의해 계산된 재구성 에러가 큰 데이터(instance, 행)는 Abnormal 이라고 볼 수 있다.\n",
    "* 그렇다면, 재구성 에러 계산시 값이 큰 변수가 이상탐지에 중요한 변수로 볼 수 있다.\n",
    "* 그래서 변수별 mse를 계산해보자."
   ]
  },
  {
   "cell_type": "code",
   "execution_count": 28,
   "metadata": {
    "colab": {
     "base_uri": "https://localhost:8080/"
    },
    "executionInfo": {
     "elapsed": 285,
     "status": "ok",
     "timestamp": 1646495209358,
     "user": {
      "displayName": "한기영",
      "photoUrl": "https://lh3.googleusercontent.com/a/default-user=s64",
      "userId": "13049187003176135487"
     },
     "user_tz": -540
    },
    "id": "ugs4urgHr7ok",
    "outputId": "a88d5e4f-238a-4696-b41e-06b71fefa747"
   },
   "outputs": [
    {
     "name": "stdout",
     "output_type": "stream",
     "text": [
      "Age        0.0379 0.056\n",
      "Distance   0.0883 0.1208\n",
      "Income     0.0602 0.1003\n",
      "Single     0.0063 0.0158\n"
     ]
    }
   ],
   "source": [
    "for v in list(x) :\n",
    "    print(v.ljust(10, ' '), round(np.mean(reconErr['SE_'+v]),4), round(np.std(reconErr['SE_'+v]),4))"
   ]
  },
  {
   "cell_type": "markdown",
   "metadata": {
    "id": "f4m9CpAlDYUx"
   },
   "source": [
    "## 2.실습 : Semiconductor manufacturing process dataset\n"
   ]
  },
  {
   "cell_type": "markdown",
   "metadata": {
    "id": "KKJNXBfDPOoT"
   },
   "source": [
    "![](https://assets.pandaily.com/uploads/2021/10/semiconductor.png)"
   ]
  },
  {
   "cell_type": "markdown",
   "metadata": {
    "id": "47h5Hv4JQOgE"
   },
   "source": [
    "* 반도체 제조 공정은 시점별로 수많은 센서로부터 정보를 수집하여 공정을 감시합니다. \n",
    "* 센서정보와 함께 공정간 발생된 불량품에 대한 정보를 저장하였습니다.\n",
    "* 불량을 예측해 봅시다."
   ]
  },
  {
   "cell_type": "markdown",
   "metadata": {
    "id": "QdJ4vZmRDYUx"
   },
   "source": [
    "### 2.1 데이터 준비"
   ]
  },
  {
   "cell_type": "markdown",
   "metadata": {
    "id": "P96JFMWpDYUy"
   },
   "source": [
    "* 데이터 로딩"
   ]
  },
  {
   "cell_type": "code",
   "execution_count": 29,
   "metadata": {
    "colab": {
     "base_uri": "https://localhost:8080/",
     "height": 235
    },
    "executionInfo": {
     "elapsed": 866,
     "status": "ok",
     "timestamp": 1646492955598,
     "user": {
      "displayName": "한기영",
      "photoUrl": "https://lh3.googleusercontent.com/a/default-user=s64",
      "userId": "13049187003176135487"
     },
     "user_tz": -540
    },
    "id": "kqFX10WKDYUy",
    "outputId": "a8aa7a4a-25c8-47c6-ed12-f7f78f8df69b"
   },
   "outputs": [
    {
     "data": {
      "text/html": [
       "<div>\n",
       "<style scoped>\n",
       "    .dataframe tbody tr th:only-of-type {\n",
       "        vertical-align: middle;\n",
       "    }\n",
       "\n",
       "    .dataframe tbody tr th {\n",
       "        vertical-align: top;\n",
       "    }\n",
       "\n",
       "    .dataframe thead th {\n",
       "        text-align: right;\n",
       "    }\n",
       "</style>\n",
       "<table border=\"1\" class=\"dataframe\">\n",
       "  <thead>\n",
       "    <tr style=\"text-align: right;\">\n",
       "      <th></th>\n",
       "      <th>v021</th>\n",
       "      <th>v087</th>\n",
       "      <th>v088</th>\n",
       "      <th>v089</th>\n",
       "      <th>v114</th>\n",
       "      <th>v115</th>\n",
       "      <th>v116</th>\n",
       "      <th>v117</th>\n",
       "      <th>v118</th>\n",
       "      <th>v120</th>\n",
       "      <th>...</th>\n",
       "      <th>v528</th>\n",
       "      <th>v571</th>\n",
       "      <th>v572</th>\n",
       "      <th>v573</th>\n",
       "      <th>v574</th>\n",
       "      <th>v575</th>\n",
       "      <th>v576</th>\n",
       "      <th>v577</th>\n",
       "      <th>v578</th>\n",
       "      <th>label</th>\n",
       "    </tr>\n",
       "  </thead>\n",
       "  <tbody>\n",
       "    <tr>\n",
       "      <th>0</th>\n",
       "      <td>1.4026</td>\n",
       "      <td>2.3895</td>\n",
       "      <td>0.9690</td>\n",
       "      <td>1747.6049</td>\n",
       "      <td>0.9460</td>\n",
       "      <td>0.0</td>\n",
       "      <td>748.6115</td>\n",
       "      <td>0.9908</td>\n",
       "      <td>58.4306</td>\n",
       "      <td>0.9804</td>\n",
       "      <td>...</td>\n",
       "      <td>6.6926</td>\n",
       "      <td>533.8500</td>\n",
       "      <td>2.1113</td>\n",
       "      <td>8.95</td>\n",
       "      <td>0.3157</td>\n",
       "      <td>3.0624</td>\n",
       "      <td>0.1026</td>\n",
       "      <td>1.6765</td>\n",
       "      <td>14.9509</td>\n",
       "      <td>0</td>\n",
       "    </tr>\n",
       "    <tr>\n",
       "      <th>1</th>\n",
       "      <td>1.3825</td>\n",
       "      <td>2.3754</td>\n",
       "      <td>0.9894</td>\n",
       "      <td>1931.6464</td>\n",
       "      <td>0.9425</td>\n",
       "      <td>0.0</td>\n",
       "      <td>731.2517</td>\n",
       "      <td>0.9902</td>\n",
       "      <td>58.6680</td>\n",
       "      <td>0.9731</td>\n",
       "      <td>...</td>\n",
       "      <td>8.8370</td>\n",
       "      <td>535.0164</td>\n",
       "      <td>2.4335</td>\n",
       "      <td>5.92</td>\n",
       "      <td>0.2653</td>\n",
       "      <td>2.0111</td>\n",
       "      <td>0.0772</td>\n",
       "      <td>1.1065</td>\n",
       "      <td>10.9003</td>\n",
       "      <td>0</td>\n",
       "    </tr>\n",
       "    <tr>\n",
       "      <th>2</th>\n",
       "      <td>1.4123</td>\n",
       "      <td>2.4532</td>\n",
       "      <td>0.9880</td>\n",
       "      <td>1685.8514</td>\n",
       "      <td>0.9231</td>\n",
       "      <td>0.0</td>\n",
       "      <td>718.5777</td>\n",
       "      <td>0.9899</td>\n",
       "      <td>58.4808</td>\n",
       "      <td>0.9772</td>\n",
       "      <td>...</td>\n",
       "      <td>6.4568</td>\n",
       "      <td>535.0245</td>\n",
       "      <td>2.0293</td>\n",
       "      <td>11.21</td>\n",
       "      <td>0.1882</td>\n",
       "      <td>4.0923</td>\n",
       "      <td>0.0640</td>\n",
       "      <td>2.0952</td>\n",
       "      <td>9.2721</td>\n",
       "      <td>1</td>\n",
       "    </tr>\n",
       "    <tr>\n",
       "      <th>3</th>\n",
       "      <td>1.4011</td>\n",
       "      <td>2.4004</td>\n",
       "      <td>0.9904</td>\n",
       "      <td>1752.0968</td>\n",
       "      <td>0.9564</td>\n",
       "      <td>0.0</td>\n",
       "      <td>709.0867</td>\n",
       "      <td>0.9906</td>\n",
       "      <td>58.6635</td>\n",
       "      <td>0.9761</td>\n",
       "      <td>...</td>\n",
       "      <td>6.4865</td>\n",
       "      <td>530.5682</td>\n",
       "      <td>2.0253</td>\n",
       "      <td>9.33</td>\n",
       "      <td>0.1738</td>\n",
       "      <td>2.8971</td>\n",
       "      <td>0.0525</td>\n",
       "      <td>1.7585</td>\n",
       "      <td>8.5831</td>\n",
       "      <td>0</td>\n",
       "    </tr>\n",
       "    <tr>\n",
       "      <th>4</th>\n",
       "      <td>1.3888</td>\n",
       "      <td>2.4530</td>\n",
       "      <td>0.9902</td>\n",
       "      <td>1828.3846</td>\n",
       "      <td>0.9424</td>\n",
       "      <td>0.0</td>\n",
       "      <td>796.5950</td>\n",
       "      <td>0.9908</td>\n",
       "      <td>58.3858</td>\n",
       "      <td>0.9628</td>\n",
       "      <td>...</td>\n",
       "      <td>6.3745</td>\n",
       "      <td>532.0155</td>\n",
       "      <td>2.0275</td>\n",
       "      <td>8.83</td>\n",
       "      <td>0.2224</td>\n",
       "      <td>3.1776</td>\n",
       "      <td>0.0706</td>\n",
       "      <td>1.6597</td>\n",
       "      <td>10.9698</td>\n",
       "      <td>0</td>\n",
       "    </tr>\n",
       "  </tbody>\n",
       "</table>\n",
       "<p>5 rows × 53 columns</p>\n",
       "</div>"
      ],
      "text/plain": [
       "     v021    v087    v088       v089    v114  v115      v116    v117     v118  \\\n",
       "0  1.4026  2.3895  0.9690  1747.6049  0.9460   0.0  748.6115  0.9908  58.4306   \n",
       "1  1.3825  2.3754  0.9894  1931.6464  0.9425   0.0  731.2517  0.9902  58.6680   \n",
       "2  1.4123  2.4532  0.9880  1685.8514  0.9231   0.0  718.5777  0.9899  58.4808   \n",
       "3  1.4011  2.4004  0.9904  1752.0968  0.9564   0.0  709.0867  0.9906  58.6635   \n",
       "4  1.3888  2.4530  0.9902  1828.3846  0.9424   0.0  796.5950  0.9908  58.3858   \n",
       "\n",
       "     v120  ...    v528      v571    v572   v573    v574    v575    v576  \\\n",
       "0  0.9804  ...  6.6926  533.8500  2.1113   8.95  0.3157  3.0624  0.1026   \n",
       "1  0.9731  ...  8.8370  535.0164  2.4335   5.92  0.2653  2.0111  0.0772   \n",
       "2  0.9772  ...  6.4568  535.0245  2.0293  11.21  0.1882  4.0923  0.0640   \n",
       "3  0.9761  ...  6.4865  530.5682  2.0253   9.33  0.1738  2.8971  0.0525   \n",
       "4  0.9628  ...  6.3745  532.0155  2.0275   8.83  0.2224  3.1776  0.0706   \n",
       "\n",
       "     v577     v578  label  \n",
       "0  1.6765  14.9509      0  \n",
       "1  1.1065  10.9003      0  \n",
       "2  2.0952   9.2721      1  \n",
       "3  1.7585   8.5831      0  \n",
       "4  1.6597  10.9698      0  \n",
       "\n",
       "[5 rows x 53 columns]"
      ]
     },
     "execution_count": 29,
     "metadata": {},
     "output_type": "execute_result"
    }
   ],
   "source": [
    "path = \"https://raw.githubusercontent.com/DA4BAM/dataset/master/secom_9.csv\"\n",
    "data = pd.read_csv(path)\n",
    "\n",
    "data['label'] = 0\n",
    "data.loc[data['defeat']== 'defeat', 'label']= 1\n",
    "data.drop(['datetime','defeat'], axis = 1, inplace=True)\n",
    "data.head()"
   ]
  },
  {
   "cell_type": "markdown",
   "metadata": {
    "id": "Tv7I7P8nQioh"
   },
   "source": [
    "변수 정보 \n",
    "* label : 1 - 불량, 0 - 정상\n",
    "* v### : 센서값들\n"
   ]
  },
  {
   "cell_type": "code",
   "execution_count": 30,
   "metadata": {
    "id": "6K9iIhabQzXS"
   },
   "outputs": [],
   "source": [
    "target = 'label'"
   ]
  },
  {
   "cell_type": "code",
   "execution_count": 31,
   "metadata": {
    "colab": {
     "base_uri": "https://localhost:8080/"
    },
    "executionInfo": {
     "elapsed": 8,
     "status": "ok",
     "timestamp": 1646492955600,
     "user": {
      "displayName": "한기영",
      "photoUrl": "https://lh3.googleusercontent.com/a/default-user=s64",
      "userId": "13049187003176135487"
     },
     "user_tz": -540
    },
    "id": "r6pjfmqLQ1UK",
    "outputId": "7f5cd3c8-ece8-45b1-8756-96b7ca0eb901"
   },
   "outputs": [
    {
     "data": {
      "text/plain": [
       "0    0.933631\n",
       "1    0.066369\n",
       "Name: label, dtype: float64"
      ]
     },
     "execution_count": 31,
     "metadata": {},
     "output_type": "execute_result"
    }
   ],
   "source": [
    "data[target].value_counts() / data.shape[0]"
   ]
  },
  {
   "cell_type": "markdown",
   "metadata": {
    "id": "Qs56G2oKQskZ"
   },
   "source": [
    "* x, y로 나누기 "
   ]
  },
  {
   "cell_type": "code",
   "execution_count": 32,
   "metadata": {
    "id": "M6xgH4RtDYUy"
   },
   "outputs": [],
   "source": [
    "x = data.drop(target, axis = 1)\n",
    "y = data.loc[:, target]"
   ]
  },
  {
   "cell_type": "markdown",
   "metadata": {
    "id": "QNoXp5JZYP9R"
   },
   "source": [
    "* 가변수화 Dummy Variable"
   ]
  },
  {
   "cell_type": "markdown",
   "metadata": {
    "id": "qwDykgEY8rHx"
   },
   "source": [
    "* 데이터 분할\n",
    "    * 이미 test set은 분할되어 있다고 가정합니다.\n",
    "    * 주어진 데이터를 train set : validation set 으로 분할"
   ]
  },
  {
   "cell_type": "code",
   "execution_count": 33,
   "metadata": {
    "id": "Boebo_Fc8rHy"
   },
   "outputs": [],
   "source": [
    "from sklearn.model_selection import train_test_split"
   ]
  },
  {
   "cell_type": "code",
   "execution_count": 34,
   "metadata": {
    "id": "tjglVI_a8rHy"
   },
   "outputs": [],
   "source": [
    "# train_val에서 train : val = 8 : 2\n",
    "x_train, x_val, y_train, y_val = train_test_split(x, y, test_size=0.2, random_state = 2022)"
   ]
  },
  {
   "cell_type": "code",
   "execution_count": 35,
   "metadata": {
    "colab": {
     "base_uri": "https://localhost:8080/"
    },
    "executionInfo": {
     "elapsed": 9,
     "status": "ok",
     "timestamp": 1646492955602,
     "user": {
      "displayName": "한기영",
      "photoUrl": "https://lh3.googleusercontent.com/a/default-user=s64",
      "userId": "13049187003176135487"
     },
     "user_tz": -540
    },
    "id": "AGYSbizf8rHy",
    "outputId": "c93849b7-11c9-44c3-b81e-d72912fff4bc"
   },
   "outputs": [
    {
     "name": "stdout",
     "output_type": "stream",
     "text": [
      "(1253, 52) (314, 52)\n"
     ]
    }
   ],
   "source": [
    "print(x_train.shape, x_val.shape)"
   ]
  },
  {
   "cell_type": "markdown",
   "metadata": {
    "id": "L5urH1nSz4Qv"
   },
   "source": [
    "* 스케일링(Optional)"
   ]
  },
  {
   "cell_type": "code",
   "execution_count": 36,
   "metadata": {
    "id": "nQmXXCXNz4Qv"
   },
   "outputs": [],
   "source": [
    "from sklearn.preprocessing import MinMaxScaler\n",
    "scaler = MinMaxScaler()\n",
    "\n",
    "x_train_s = scaler.fit_transform(x_train)\n",
    "x_val_s = scaler.transform(x_val)"
   ]
  },
  {
   "cell_type": "markdown",
   "metadata": {
    "id": "Hr8kmgy9z4Qv"
   },
   "source": [
    "* 학습용 데이터 준비"
   ]
  },
  {
   "cell_type": "code",
   "execution_count": 37,
   "metadata": {
    "id": "Y7UWieQ4z4Qw"
   },
   "outputs": [],
   "source": [
    "# 학습을 위해서는 Normal 데이터만 이용한다.\n",
    "x_train0 = x_train_s[y_train == 0]"
   ]
  },
  {
   "cell_type": "code",
   "execution_count": 38,
   "metadata": {
    "colab": {
     "base_uri": "https://localhost:8080/"
    },
    "executionInfo": {
     "elapsed": 4,
     "status": "ok",
     "timestamp": 1646492956109,
     "user": {
      "displayName": "한기영",
      "photoUrl": "https://lh3.googleusercontent.com/a/default-user=s64",
      "userId": "13049187003176135487"
     },
     "user_tz": -540
    },
    "id": "5smbudw4z4Qw",
    "outputId": "5a2dec41-9c8f-4c76-ec34-6fdcb6174a79"
   },
   "outputs": [
    {
     "data": {
      "text/plain": [
       "(1167, 52)"
      ]
     },
     "execution_count": 38,
     "metadata": {},
     "output_type": "execute_result"
    }
   ],
   "source": [
    "x_train0.shape"
   ]
  },
  {
   "cell_type": "markdown",
   "metadata": {
    "id": "d47UGiWkz4Qw"
   },
   "source": [
    "### 2.2 모델링①"
   ]
  },
  {
   "cell_type": "markdown",
   "metadata": {
    "id": "9HvBuGISz4Qw"
   },
   "source": [
    "* 간단한 hyper parameter 설정"
   ]
  },
  {
   "cell_type": "code",
   "execution_count": 39,
   "metadata": {
    "id": "FOpJfMmkz4Qx"
   },
   "outputs": [],
   "source": [
    "epochs = 50\n",
    "input_dim = x_train0.shape[1] #num of columns\n",
    "input_dim\n",
    "\n",
    "tf.random.set_seed(10)"
   ]
  },
  {
   "cell_type": "markdown",
   "metadata": {
    "id": "Dj6N5amb8Bm_"
   },
   "source": [
    "* 모델 설계 : 다음 그림과 같이 설계하시오."
   ]
  },
  {
   "cell_type": "markdown",
   "metadata": {
    "id": "amM1d13Dpn5J"
   },
   "source": [
    "![](https://github.com/DA4BAM/dataset/blob/master/ae_2.png?raw=true)"
   ]
  },
  {
   "cell_type": "code",
   "execution_count": 40,
   "metadata": {
    "id": "VkaxObQn8BnA"
   },
   "outputs": [
    {
     "name": "stdout",
     "output_type": "stream",
     "text": [
      "Model: \"model\"\n",
      "_________________________________________________________________\n",
      " Layer (type)                Output Shape              Param #   \n",
      "=================================================================\n",
      " input_1 (InputLayer)        [(None, 52)]              0         \n",
      "                                                                 \n",
      " dense (Dense)               (None, 32)                1696      \n",
      "                                                                 \n",
      " dense_1 (Dense)             (None, 16)                528       \n",
      "                                                                 \n",
      " dense_2 (Dense)             (None, 32)                544       \n",
      "                                                                 \n",
      " dense_3 (Dense)             (None, 52)                1716      \n",
      "                                                                 \n",
      "=================================================================\n",
      "Total params: 4,484\n",
      "Trainable params: 4,484\n",
      "Non-trainable params: 0\n",
      "_________________________________________________________________\n"
     ]
    }
   ],
   "source": [
    "clear_session()\n",
    "\n",
    "input_layer = Input(shape=(input_dim, ))\n",
    "\n",
    "# Encoder\n",
    "encoder = Dense(32, activation=\"relu\")(input_layer)\n",
    "encoder = Dense(16, activation=\"relu\")(encoder)\n",
    "\n",
    "# Decoder\n",
    "decoder = Dense(32, activation='relu')(encoder)\n",
    "decoder = Dense(input_dim, activation='relu')(decoder)\n",
    "\n",
    "autoencoder = Model(inputs=input_layer, outputs=decoder)\n",
    "autoencoder.summary()"
   ]
  },
  {
   "cell_type": "markdown",
   "metadata": {
    "id": "XLXyxhGtz4Qx"
   },
   "source": [
    "* compile + 학습\n",
    "    * 학습시 x=x_train0, y=x_train0를 입력합니다. (비지도)"
   ]
  },
  {
   "cell_type": "code",
   "execution_count": 41,
   "metadata": {
    "id": "g5eFk6i7z4Qy"
   },
   "outputs": [
    {
     "name": "stdout",
     "output_type": "stream",
     "text": [
      "Epoch 1/50\n",
      "37/37 [==============================] - 0s 2ms/step - loss: 0.0872 - accuracy: 0.0463 - val_loss: 0.0635 - val_accuracy: 0.5191\n",
      "Epoch 2/50\n",
      "37/37 [==============================] - 0s 1ms/step - loss: 0.0427 - accuracy: 0.5870 - val_loss: 0.0476 - val_accuracy: 0.3376\n",
      "Epoch 3/50\n",
      "37/37 [==============================] - 0s 1ms/step - loss: 0.0375 - accuracy: 0.3599 - val_loss: 0.0464 - val_accuracy: 0.4618\n",
      "Epoch 4/50\n",
      "37/37 [==============================] - 0s 1ms/step - loss: 0.0364 - accuracy: 0.4456 - val_loss: 0.0455 - val_accuracy: 0.4236\n",
      "Epoch 5/50\n",
      "37/37 [==============================] - 0s 1ms/step - loss: 0.0356 - accuracy: 0.4507 - val_loss: 0.0449 - val_accuracy: 0.4045\n",
      "Epoch 6/50\n",
      "37/37 [==============================] - 0s 1ms/step - loss: 0.0353 - accuracy: 0.4173 - val_loss: 0.0444 - val_accuracy: 0.4013\n",
      "Epoch 7/50\n",
      "37/37 [==============================] - 0s 1ms/step - loss: 0.0350 - accuracy: 0.4310 - val_loss: 0.0438 - val_accuracy: 0.4490\n",
      "Epoch 8/50\n",
      "37/37 [==============================] - 0s 1ms/step - loss: 0.0347 - accuracy: 0.4173 - val_loss: 0.0432 - val_accuracy: 0.4713\n",
      "Epoch 9/50\n",
      "37/37 [==============================] - 0s 1ms/step - loss: 0.0345 - accuracy: 0.4404 - val_loss: 0.0425 - val_accuracy: 0.4713\n",
      "Epoch 10/50\n",
      "37/37 [==============================] - 0s 1ms/step - loss: 0.0342 - accuracy: 0.4576 - val_loss: 0.0419 - val_accuracy: 0.4554\n",
      "Epoch 11/50\n",
      "37/37 [==============================] - 0s 1ms/step - loss: 0.0340 - accuracy: 0.4841 - val_loss: 0.0414 - val_accuracy: 0.4713\n",
      "Epoch 12/50\n",
      "37/37 [==============================] - 0s 1ms/step - loss: 0.0338 - accuracy: 0.4773 - val_loss: 0.0410 - val_accuracy: 0.4841\n",
      "Epoch 13/50\n",
      "37/37 [==============================] - 0s 1ms/step - loss: 0.0337 - accuracy: 0.4799 - val_loss: 0.0407 - val_accuracy: 0.4873\n",
      "Epoch 14/50\n",
      "37/37 [==============================] - 0s 1ms/step - loss: 0.0335 - accuracy: 0.4944 - val_loss: 0.0404 - val_accuracy: 0.4554\n",
      "Epoch 15/50\n",
      "37/37 [==============================] - 0s 1ms/step - loss: 0.0334 - accuracy: 0.5021 - val_loss: 0.0401 - val_accuracy: 0.5064\n",
      "Epoch 16/50\n",
      "37/37 [==============================] - 0s 1ms/step - loss: 0.0333 - accuracy: 0.5176 - val_loss: 0.0399 - val_accuracy: 0.4395\n",
      "Epoch 17/50\n",
      "37/37 [==============================] - 0s 1ms/step - loss: 0.0323 - accuracy: 0.5090 - val_loss: 0.0349 - val_accuracy: 0.6369\n",
      "Epoch 18/50\n",
      "37/37 [==============================] - 0s 1ms/step - loss: 0.0281 - accuracy: 0.4850 - val_loss: 0.0343 - val_accuracy: 0.5732\n",
      "Epoch 19/50\n",
      "37/37 [==============================] - 0s 1ms/step - loss: 0.0276 - accuracy: 0.5347 - val_loss: 0.0342 - val_accuracy: 0.4841\n",
      "Epoch 20/50\n",
      "37/37 [==============================] - 0s 1ms/step - loss: 0.0274 - accuracy: 0.5219 - val_loss: 0.0338 - val_accuracy: 0.5669\n",
      "Epoch 21/50\n",
      "37/37 [==============================] - 0s 1ms/step - loss: 0.0273 - accuracy: 0.5381 - val_loss: 0.0335 - val_accuracy: 0.5446\n",
      "Epoch 22/50\n",
      "37/37 [==============================] - 0s 1ms/step - loss: 0.0272 - accuracy: 0.5724 - val_loss: 0.0334 - val_accuracy: 0.5924\n",
      "Epoch 23/50\n",
      "37/37 [==============================] - 0s 1ms/step - loss: 0.0271 - accuracy: 0.5587 - val_loss: 0.0332 - val_accuracy: 0.5382\n",
      "Epoch 24/50\n",
      "37/37 [==============================] - 0s 1ms/step - loss: 0.0270 - accuracy: 0.5518 - val_loss: 0.0331 - val_accuracy: 0.5446\n",
      "Epoch 25/50\n",
      "37/37 [==============================] - 0s 1ms/step - loss: 0.0269 - accuracy: 0.5767 - val_loss: 0.0329 - val_accuracy: 0.5318\n",
      "Epoch 26/50\n",
      "37/37 [==============================] - 0s 1ms/step - loss: 0.0269 - accuracy: 0.5793 - val_loss: 0.0328 - val_accuracy: 0.6115\n",
      "Epoch 27/50\n",
      "37/37 [==============================] - 0s 1ms/step - loss: 0.0268 - accuracy: 0.5853 - val_loss: 0.0326 - val_accuracy: 0.6369\n",
      "Epoch 28/50\n",
      "37/37 [==============================] - 0s 1ms/step - loss: 0.0267 - accuracy: 0.5895 - val_loss: 0.0324 - val_accuracy: 0.5892\n",
      "Epoch 29/50\n",
      "37/37 [==============================] - 0s 1ms/step - loss: 0.0256 - accuracy: 0.5716 - val_loss: 0.0295 - val_accuracy: 0.5701\n",
      "Epoch 30/50\n",
      "37/37 [==============================] - 0s 1ms/step - loss: 0.0209 - accuracy: 0.5775 - val_loss: 0.0269 - val_accuracy: 0.5732\n",
      "Epoch 31/50\n",
      "37/37 [==============================] - 0s 1ms/step - loss: 0.0198 - accuracy: 0.5913 - val_loss: 0.0264 - val_accuracy: 0.5796\n",
      "Epoch 32/50\n",
      "37/37 [==============================] - 0s 1ms/step - loss: 0.0196 - accuracy: 0.5947 - val_loss: 0.0261 - val_accuracy: 0.6115\n",
      "Epoch 33/50\n",
      "37/37 [==============================] - 0s 1ms/step - loss: 0.0195 - accuracy: 0.6058 - val_loss: 0.0259 - val_accuracy: 0.6115\n",
      "Epoch 34/50\n",
      "37/37 [==============================] - 0s 1ms/step - loss: 0.0194 - accuracy: 0.6041 - val_loss: 0.0258 - val_accuracy: 0.6051\n",
      "Epoch 35/50\n",
      "37/37 [==============================] - 0s 1ms/step - loss: 0.0193 - accuracy: 0.5870 - val_loss: 0.0256 - val_accuracy: 0.5732\n",
      "Epoch 36/50\n",
      "37/37 [==============================] - 0s 1ms/step - loss: 0.0192 - accuracy: 0.6007 - val_loss: 0.0256 - val_accuracy: 0.5828\n",
      "Epoch 37/50\n",
      "37/37 [==============================] - 0s 1ms/step - loss: 0.0192 - accuracy: 0.5741 - val_loss: 0.0255 - val_accuracy: 0.5669\n",
      "Epoch 38/50\n",
      "37/37 [==============================] - 0s 1ms/step - loss: 0.0191 - accuracy: 0.5733 - val_loss: 0.0253 - val_accuracy: 0.5987\n",
      "Epoch 39/50\n",
      "37/37 [==============================] - 0s 1ms/step - loss: 0.0190 - accuracy: 0.5561 - val_loss: 0.0253 - val_accuracy: 0.5892\n",
      "Epoch 40/50\n",
      "37/37 [==============================] - 0s 1ms/step - loss: 0.0190 - accuracy: 0.5673 - val_loss: 0.0251 - val_accuracy: 0.5987\n",
      "Epoch 41/50\n",
      "37/37 [==============================] - 0s 1ms/step - loss: 0.0189 - accuracy: 0.5835 - val_loss: 0.0250 - val_accuracy: 0.5510\n",
      "Epoch 42/50\n",
      "37/37 [==============================] - 0s 1ms/step - loss: 0.0189 - accuracy: 0.5681 - val_loss: 0.0249 - val_accuracy: 0.5223\n",
      "Epoch 43/50\n",
      "37/37 [==============================] - 0s 1ms/step - loss: 0.0188 - accuracy: 0.5518 - val_loss: 0.0249 - val_accuracy: 0.5796\n",
      "Epoch 44/50\n",
      "37/37 [==============================] - 0s 972us/step - loss: 0.0188 - accuracy: 0.5664 - val_loss: 0.0249 - val_accuracy: 0.5732\n",
      "Epoch 45/50\n",
      "37/37 [==============================] - 0s 1ms/step - loss: 0.0187 - accuracy: 0.5587 - val_loss: 0.0247 - val_accuracy: 0.5732\n",
      "Epoch 46/50\n",
      "37/37 [==============================] - 0s 1ms/step - loss: 0.0187 - accuracy: 0.5570 - val_loss: 0.0246 - val_accuracy: 0.5669\n",
      "Epoch 47/50\n",
      "37/37 [==============================] - 0s 1ms/step - loss: 0.0187 - accuracy: 0.5638 - val_loss: 0.0245 - val_accuracy: 0.5446\n",
      "Epoch 48/50\n",
      "37/37 [==============================] - 0s 1ms/step - loss: 0.0186 - accuracy: 0.5664 - val_loss: 0.0244 - val_accuracy: 0.5955\n",
      "Epoch 49/50\n",
      "37/37 [==============================] - 0s 1ms/step - loss: 0.0186 - accuracy: 0.5638 - val_loss: 0.0244 - val_accuracy: 0.5255\n",
      "Epoch 50/50\n",
      "37/37 [==============================] - 0s 1ms/step - loss: 0.0186 - accuracy: 0.5467 - val_loss: 0.0243 - val_accuracy: 0.6019\n"
     ]
    }
   ],
   "source": [
    "# Configure the learning process, by compiling the model\n",
    "autoencoder.compile(optimizer='adam',loss='mse')\n",
    "\n",
    "history = autoencoder.fit(x=x_train0, y=x_train0,\n",
    "                          epochs=epochs,\n",
    "                          validation_data=(x_val_s, x_val_s)).history"
   ]
  },
  {
   "cell_type": "code",
   "execution_count": 42,
   "metadata": {
    "id": "Jv80Z_IHz4Qy"
   },
   "outputs": [
    {
     "data": {
      "image/png": "[encoded data removed]",
      "text/plain": [
       "<Figure size 432x288 with 1 Axes>"
      ]
     },
     "metadata": {
      "needs_background": "light"
     },
     "output_type": "display_data"
    }
   ],
   "source": [
    "plt.plot(history['loss'], label='Train')\n",
    "plt.plot(history['val_loss'], label='Validation')\n",
    "\n",
    "plt.title('Model loss')\n",
    "plt.ylabel('Loss')\n",
    "plt.xlabel('Epoch')\n",
    "plt.legend()\n",
    "plt.grid()\n",
    "plt.show()"
   ]
  },
  {
   "cell_type": "markdown",
   "metadata": {
    "id": "Ty-rwrPuz4Qy"
   },
   "source": [
    "* 예측"
   ]
  },
  {
   "cell_type": "code",
   "execution_count": 43,
   "metadata": {
    "id": "5NBL3Tr_z4Qz"
   },
   "outputs": [],
   "source": [
    "pred = autoencoder.predict(x_val_s)"
   ]
  },
  {
   "cell_type": "markdown",
   "metadata": {
    "id": "i34M94yCz4Qz"
   },
   "source": [
    "* 재구성 에러 계산"
   ]
  },
  {
   "cell_type": "code",
   "execution_count": 44,
   "metadata": {
    "id": "IJG2BYlMz4Qz"
   },
   "outputs": [
    {
     "data": {
      "image/png": "[encoded data removed]",
      "text/plain": [
       "<Figure size 432x288 with 1 Axes>"
      ]
     },
     "metadata": {
      "needs_background": "light"
     },
     "output_type": "display_data"
    }
   ],
   "source": [
    "result = recon_err_plot(x_val_s, pred, y_val, .03)"
   ]
  },
  {
   "cell_type": "markdown",
   "metadata": {
    "id": "u_4m2YWMz4Qz"
   },
   "source": [
    "* threshold 값을 조정하면서 precision, recall, f1 을 구해봅시다."
   ]
  },
  {
   "cell_type": "code",
   "execution_count": 45,
   "metadata": {
    "id": "UeUdUtBFz4Qz"
   },
   "outputs": [
    {
     "name": "stderr",
     "output_type": "stream",
     "text": [
      "<ipython-input-3-758115a526a7>:6: RuntimeWarning: divide by zero encountered in true_divide\n",
      "  f1 = 2 / (1/precision + 1/recall)\n"
     ]
    },
    {
     "data": {
      "image/png": "[encoded data removed]",
      "text/plain": [
       "<Figure size 432x288 with 1 Axes>"
      ]
     },
     "metadata": {
      "needs_background": "light"
     },
     "output_type": "display_data"
    }
   ],
   "source": [
    "precision, recall, f1, thresholds = prec_rec_f1_curve(result['True_class'], result['Reconstruction_error'])"
   ]
  },
  {
   "cell_type": "markdown",
   "metadata": {
    "id": "s12c9fW3z4Qz"
   },
   "source": [
    "* f1 값을 최대화 시키는 threshold 값"
   ]
  },
  {
   "cell_type": "code",
   "execution_count": 46,
   "metadata": {
    "id": "zzG3kWBnz4Q0"
   },
   "outputs": [
    {
     "data": {
      "text/plain": [
       "0.018388670093366"
      ]
     },
     "execution_count": 46,
     "metadata": {},
     "output_type": "execute_result"
    }
   ],
   "source": [
    "thres_f1_max = thresholds[np.argmax(f1)]\n",
    "thres_f1_max"
   ]
  },
  {
   "cell_type": "markdown",
   "metadata": {
    "id": "rHoqSZMQqg1P"
   },
   "source": [
    "* classification_report2 로 평가"
   ]
  },
  {
   "cell_type": "code",
   "execution_count": 47,
   "metadata": {
    "id": "A0kJjr1gz4Q0"
   },
   "outputs": [
    {
     "name": "stdout",
     "output_type": "stream",
     "text": [
      "< confusion matrix >\n",
      "\n",
      "[[176 120]\n",
      " [  8  10]]\n",
      "\n",
      "============================================================\n",
      "\n",
      "< classification_report >\n",
      "\n",
      "              precision    recall  f1-score   support\n",
      "\n",
      "           0       0.96      0.59      0.73       296\n",
      "           1       0.08      0.56      0.14        18\n",
      "\n",
      "    accuracy                           0.59       314\n",
      "   macro avg       0.52      0.58      0.43       314\n",
      "weighted avg       0.91      0.59      0.70       314\n",
      "\n"
     ]
    },
    {
     "data": {
      "text/plain": [
       "array([[176, 120],\n",
       "       [  8,  10]], dtype=int64)"
      ]
     },
     "execution_count": 47,
     "metadata": {},
     "output_type": "execute_result"
    }
   ],
   "source": [
    "classification_report2(result['True_class'], result['Reconstruction_error'],thres_f1_max)"
   ]
  },
  {
   "cell_type": "markdown",
   "metadata": {
    "id": "pjPFVVncqIpC"
   },
   "source": [
    "----"
   ]
  },
  {
   "cell_type": "markdown",
   "metadata": {
    "id": "iesBtyWzqKZh"
   },
   "source": [
    "### 2.3 모델링②"
   ]
  },
  {
   "cell_type": "markdown",
   "metadata": {
    "id": "sKqJEmWKqKZh"
   },
   "source": [
    "* hyper parameter 설정"
   ]
  },
  {
   "cell_type": "code",
   "execution_count": 48,
   "metadata": {
    "id": "FVSXltCmqKZh"
   },
   "outputs": [],
   "source": [
    "epochs = 50\n",
    "input_dim = x_train0.shape[1] #num of columns\n",
    "input_dim\n",
    "\n",
    "tf.random.set_seed(10)"
   ]
  },
  {
   "cell_type": "markdown",
   "metadata": {
    "id": "VLFdw88wqKZh"
   },
   "source": [
    "* 모델 설계 : 다양한 구조를 설계하시오."
   ]
  },
  {
   "cell_type": "code",
   "execution_count": 49,
   "metadata": {
    "id": "SIoBnh1bqKZh"
   },
   "outputs": [
    {
     "name": "stdout",
     "output_type": "stream",
     "text": [
      "Model: \"model\"\n",
      "_________________________________________________________________\n",
      " Layer (type)                Output Shape              Param #   \n",
      "=================================================================\n",
      " input_1 (InputLayer)        [(None, 52)]              0         \n",
      "                                                                 \n",
      " dense (Dense)               (None, 32)                1696      \n",
      "                                                                 \n",
      " dense_1 (Dense)             (None, 16)                528       \n",
      "                                                                 \n",
      " dense_2 (Dense)             (None, 32)                544       \n",
      "                                                                 \n",
      " dense_3 (Dense)             (None, 52)                1716      \n",
      "                                                                 \n",
      "=================================================================\n",
      "Total params: 4,484\n",
      "Trainable params: 4,484\n",
      "Non-trainable params: 0\n",
      "_________________________________________________________________\n"
     ]
    }
   ],
   "source": [
    "clear_session()\n",
    "\n",
    "input_layer = Input(shape=(input_dim, ))\n",
    "\n",
    "# Encoder\n",
    "encoder = Dense(32, activation=\"relu\")(input_layer)\n",
    "encoder = Dense(16, activation=\"relu\")(encoder)\n",
    "\n",
    "# Decoder\n",
    "decoder = Dense(32, activation='relu')(encoder)\n",
    "decoder = Dense(input_dim, activation='relu')(decoder)\n",
    "\n",
    "autoencoder = Model(inputs=input_layer, outputs=decoder)\n",
    "autoencoder.summary()"
   ]
  },
  {
   "cell_type": "markdown",
   "metadata": {
    "id": "7-YY23uuqKZh"
   },
   "source": [
    "* compile + 학습\n",
    "    * 학습시 x=x_train0, y=x_train0를 입력합니다. (비지도)"
   ]
  },
  {
   "cell_type": "code",
   "execution_count": 50,
   "metadata": {
    "id": "vcHW3KaRqKZh"
   },
   "outputs": [
    {
     "name": "stdout",
     "output_type": "stream",
     "text": [
      "Epoch 1/50\n",
      "37/37 [==============================] - 0s 5ms/step - loss: 0.0872 - accuracy: 0.0463 - val_loss: 0.0635 - val_accuracy: 0.5191\n",
      "Epoch 2/50\n",
      "37/37 [==============================] - 0s 1ms/step - loss: 0.0427 - accuracy: 0.5870 - val_loss: 0.0476 - val_accuracy: 0.3376\n",
      "Epoch 3/50\n",
      "37/37 [==============================] - 0s 1ms/step - loss: 0.0375 - accuracy: 0.3599 - val_loss: 0.0464 - val_accuracy: 0.4618\n",
      "Epoch 4/50\n",
      "37/37 [==============================] - 0s 1ms/step - loss: 0.0364 - accuracy: 0.4456 - val_loss: 0.0455 - val_accuracy: 0.4236\n",
      "Epoch 5/50\n",
      "37/37 [==============================] - 0s 1ms/step - loss: 0.0356 - accuracy: 0.4507 - val_loss: 0.0449 - val_accuracy: 0.4045\n",
      "Epoch 6/50\n",
      "37/37 [==============================] - 0s 1ms/step - loss: 0.0353 - accuracy: 0.4173 - val_loss: 0.0444 - val_accuracy: 0.4013\n",
      "Epoch 7/50\n",
      "37/37 [==============================] - 0s 1ms/step - loss: 0.0350 - accuracy: 0.4310 - val_loss: 0.0438 - val_accuracy: 0.4490\n",
      "Epoch 8/50\n",
      "37/37 [==============================] - 0s 1ms/step - loss: 0.0347 - accuracy: 0.4173 - val_loss: 0.0432 - val_accuracy: 0.4713\n",
      "Epoch 9/50\n",
      "37/37 [==============================] - 0s 1ms/step - loss: 0.0345 - accuracy: 0.4404 - val_loss: 0.0425 - val_accuracy: 0.4713\n",
      "Epoch 10/50\n",
      "37/37 [==============================] - 0s 1ms/step - loss: 0.0342 - accuracy: 0.4576 - val_loss: 0.0419 - val_accuracy: 0.4554\n",
      "Epoch 11/50\n",
      "37/37 [==============================] - 0s 1ms/step - loss: 0.0340 - accuracy: 0.4841 - val_loss: 0.0414 - val_accuracy: 0.4713\n",
      "Epoch 12/50\n",
      "37/37 [==============================] - 0s 1ms/step - loss: 0.0338 - accuracy: 0.4773 - val_loss: 0.0410 - val_accuracy: 0.4841\n",
      "Epoch 13/50\n",
      "37/37 [==============================] - 0s 1ms/step - loss: 0.0337 - accuracy: 0.4799 - val_loss: 0.0407 - val_accuracy: 0.4873\n",
      "Epoch 14/50\n",
      "37/37 [==============================] - 0s 1ms/step - loss: 0.0335 - accuracy: 0.4944 - val_loss: 0.0404 - val_accuracy: 0.4554\n",
      "Epoch 15/50\n",
      "37/37 [==============================] - 0s 1ms/step - loss: 0.0334 - accuracy: 0.5021 - val_loss: 0.0401 - val_accuracy: 0.5064\n",
      "Epoch 16/50\n",
      "37/37 [==============================] - 0s 1ms/step - loss: 0.0333 - accuracy: 0.5176 - val_loss: 0.0399 - val_accuracy: 0.4395\n",
      "Epoch 17/50\n",
      "37/37 [==============================] - 0s 1ms/step - loss: 0.0323 - accuracy: 0.5090 - val_loss: 0.0349 - val_accuracy: 0.6369\n",
      "Epoch 18/50\n",
      "37/37 [==============================] - 0s 1ms/step - loss: 0.0281 - accuracy: 0.4850 - val_loss: 0.0343 - val_accuracy: 0.5732\n",
      "Epoch 19/50\n",
      "37/37 [==============================] - 0s 1ms/step - loss: 0.0276 - accuracy: 0.5347 - val_loss: 0.0342 - val_accuracy: 0.4841\n",
      "Epoch 20/50\n",
      "37/37 [==============================] - 0s 1ms/step - loss: 0.0274 - accuracy: 0.5219 - val_loss: 0.0338 - val_accuracy: 0.5669\n",
      "Epoch 21/50\n",
      "37/37 [==============================] - 0s 1ms/step - loss: 0.0273 - accuracy: 0.5381 - val_loss: 0.0335 - val_accuracy: 0.5446\n",
      "Epoch 22/50\n",
      "37/37 [==============================] - 0s 1ms/step - loss: 0.0272 - accuracy: 0.5724 - val_loss: 0.0334 - val_accuracy: 0.5924\n",
      "Epoch 23/50\n",
      "37/37 [==============================] - 0s 1ms/step - loss: 0.0271 - accuracy: 0.5587 - val_loss: 0.0332 - val_accuracy: 0.5382\n",
      "Epoch 24/50\n",
      "37/37 [==============================] - 0s 1ms/step - loss: 0.0270 - accuracy: 0.5518 - val_loss: 0.0331 - val_accuracy: 0.5446\n",
      "Epoch 25/50\n",
      "37/37 [==============================] - 0s 1ms/step - loss: 0.0269 - accuracy: 0.5767 - val_loss: 0.0329 - val_accuracy: 0.5318\n",
      "Epoch 26/50\n",
      "37/37 [==============================] - 0s 1ms/step - loss: 0.0269 - accuracy: 0.5793 - val_loss: 0.0328 - val_accuracy: 0.6115\n",
      "Epoch 27/50\n",
      "37/37 [==============================] - 0s 1ms/step - loss: 0.0268 - accuracy: 0.5853 - val_loss: 0.0326 - val_accuracy: 0.6369\n",
      "Epoch 28/50\n",
      "37/37 [==============================] - 0s 1ms/step - loss: 0.0267 - accuracy: 0.5895 - val_loss: 0.0324 - val_accuracy: 0.5892\n",
      "Epoch 29/50\n",
      "37/37 [==============================] - 0s 1ms/step - loss: 0.0256 - accuracy: 0.5716 - val_loss: 0.0295 - val_accuracy: 0.5701\n",
      "Epoch 30/50\n",
      "37/37 [==============================] - 0s 1ms/step - loss: 0.0209 - accuracy: 0.5775 - val_loss: 0.0269 - val_accuracy: 0.5732\n",
      "Epoch 31/50\n",
      "37/37 [==============================] - 0s 1ms/step - loss: 0.0198 - accuracy: 0.5913 - val_loss: 0.0264 - val_accuracy: 0.5796\n",
      "Epoch 32/50\n",
      "37/37 [==============================] - 0s 1ms/step - loss: 0.0196 - accuracy: 0.5947 - val_loss: 0.0261 - val_accuracy: 0.6115\n",
      "Epoch 33/50\n",
      "37/37 [==============================] - 0s 1ms/step - loss: 0.0195 - accuracy: 0.6058 - val_loss: 0.0259 - val_accuracy: 0.6115\n",
      "Epoch 34/50\n",
      "37/37 [==============================] - 0s 1ms/step - loss: 0.0194 - accuracy: 0.6041 - val_loss: 0.0258 - val_accuracy: 0.6051\n",
      "Epoch 35/50\n",
      "37/37 [==============================] - 0s 1ms/step - loss: 0.0193 - accuracy: 0.5870 - val_loss: 0.0256 - val_accuracy: 0.5732\n",
      "Epoch 36/50\n",
      "37/37 [==============================] - 0s 1ms/step - loss: 0.0192 - accuracy: 0.6007 - val_loss: 0.0256 - val_accuracy: 0.5828\n",
      "Epoch 37/50\n",
      "37/37 [==============================] - 0s 1ms/step - loss: 0.0192 - accuracy: 0.5741 - val_loss: 0.0255 - val_accuracy: 0.5669\n",
      "Epoch 38/50\n",
      "37/37 [==============================] - 0s 1ms/step - loss: 0.0191 - accuracy: 0.5733 - val_loss: 0.0253 - val_accuracy: 0.5987\n",
      "Epoch 39/50\n",
      "37/37 [==============================] - 0s 1ms/step - loss: 0.0190 - accuracy: 0.5561 - val_loss: 0.0253 - val_accuracy: 0.5892\n",
      "Epoch 40/50\n",
      "37/37 [==============================] - 0s 1ms/step - loss: 0.0190 - accuracy: 0.5673 - val_loss: 0.0251 - val_accuracy: 0.5987\n",
      "Epoch 41/50\n",
      "37/37 [==============================] - 0s 1ms/step - loss: 0.0189 - accuracy: 0.5835 - val_loss: 0.0250 - val_accuracy: 0.5510\n",
      "Epoch 42/50\n",
      "37/37 [==============================] - 0s 1ms/step - loss: 0.0189 - accuracy: 0.5681 - val_loss: 0.0249 - val_accuracy: 0.5223\n",
      "Epoch 43/50\n",
      "37/37 [==============================] - 0s 1ms/step - loss: 0.0188 - accuracy: 0.5518 - val_loss: 0.0249 - val_accuracy: 0.5796\n",
      "Epoch 44/50\n",
      "37/37 [==============================] - 0s 1ms/step - loss: 0.0188 - accuracy: 0.5664 - val_loss: 0.0249 - val_accuracy: 0.5732\n",
      "Epoch 45/50\n",
      "37/37 [==============================] - 0s 1ms/step - loss: 0.0187 - accuracy: 0.5587 - val_loss: 0.0247 - val_accuracy: 0.5732\n",
      "Epoch 46/50\n",
      "37/37 [==============================] - 0s 1ms/step - loss: 0.0187 - accuracy: 0.5570 - val_loss: 0.0246 - val_accuracy: 0.5669\n",
      "Epoch 47/50\n",
      "37/37 [==============================] - 0s 1ms/step - loss: 0.0187 - accuracy: 0.5638 - val_loss: 0.0245 - val_accuracy: 0.5446\n",
      "Epoch 48/50\n",
      "37/37 [==============================] - 0s 1ms/step - loss: 0.0186 - accuracy: 0.5664 - val_loss: 0.0244 - val_accuracy: 0.5955\n",
      "Epoch 49/50\n",
      "37/37 [==============================] - 0s 1ms/step - loss: 0.0186 - accuracy: 0.5638 - val_loss: 0.0244 - val_accuracy: 0.5255\n",
      "Epoch 50/50\n",
      "37/37 [==============================] - 0s 1ms/step - loss: 0.0186 - accuracy: 0.5467 - val_loss: 0.0243 - val_accuracy: 0.6019\n"
     ]
    }
   ],
   "source": [
    "# Configure the learning process, by compiling the model\n",
    "autoencoder.compile(optimizer='adam',loss='mse')\n",
    "\n",
    "history = autoencoder.fit(x=x_train0, y=x_train0,\n",
    "                          epochs=epochs,\n",
    "                          validation_data=(x_val_s, x_val_s)).history"
   ]
  },
  {
   "cell_type": "code",
   "execution_count": 51,
   "metadata": {
    "id": "Fm0B2NxJqKZi"
   },
   "outputs": [
    {
     "data": {
      "image/png": "[encoded data removed]",
      "text/plain": [
       "<Figure size 432x288 with 1 Axes>"
      ]
     },
     "metadata": {
      "needs_background": "light"
     },
     "output_type": "display_data"
    }
   ],
   "source": [
    "plt.plot(history['loss'], label='Train')\n",
    "plt.plot(history['val_loss'], label='Validation')\n",
    "\n",
    "plt.title('Model loss')\n",
    "plt.ylabel('Loss')\n",
    "plt.xlabel('Epoch')\n",
    "plt.legend()\n",
    "plt.grid()\n",
    "plt.show()"
   ]
  },
  {
   "cell_type": "markdown",
   "metadata": {
    "id": "dWzDTdjyqKZi"
   },
   "source": [
    "* 예측"
   ]
  },
  {
   "cell_type": "code",
   "execution_count": 52,
   "metadata": {
    "id": "W3K6kRanqKZi"
   },
   "outputs": [],
   "source": [
    "pred = autoencoder.predict(x_val_s)"
   ]
  },
  {
   "cell_type": "markdown",
   "metadata": {
    "id": "BAh8U4n8qKZi"
   },
   "source": [
    "* 재구성 에러 계산"
   ]
  },
  {
   "cell_type": "code",
   "execution_count": 53,
   "metadata": {
    "id": "l8zjZ272qKZi"
   },
   "outputs": [
    {
     "data": {
      "image/png": "[encoded data removed]",
      "text/plain": [
       "<Figure size 432x288 with 1 Axes>"
      ]
     },
     "metadata": {
      "needs_background": "light"
     },
     "output_type": "display_data"
    }
   ],
   "source": [
    "result = recon_err_plot(x_val_s, pred, y_val, .03)"
   ]
  },
  {
   "cell_type": "markdown",
   "metadata": {
    "id": "nAw_FnsUqKZi"
   },
   "source": [
    "* threshold 값을 조정하면서 precision, recall, f1 을 구해봅시다."
   ]
  },
  {
   "cell_type": "code",
   "execution_count": 54,
   "metadata": {
    "id": "flQ8r7LuqKZi"
   },
   "outputs": [
    {
     "name": "stderr",
     "output_type": "stream",
     "text": [
      "<ipython-input-3-758115a526a7>:6: RuntimeWarning: divide by zero encountered in true_divide\n",
      "  f1 = 2 / (1/precision + 1/recall)\n"
     ]
    },
    {
     "data": {
      "image/png": "[encoded data removed]",
      "text/plain": [
       "<Figure size 432x288 with 1 Axes>"
      ]
     },
     "metadata": {
      "needs_background": "light"
     },
     "output_type": "display_data"
    }
   ],
   "source": [
    "precision, recall, f1, thresholds = prec_rec_f1_curve(result['True_class'], result['Reconstruction_error'])"
   ]
  },
  {
   "cell_type": "markdown",
   "metadata": {
    "id": "1yUPwKgyqKZi"
   },
   "source": [
    "* f1 값을 최대화 시키는 threshold 값"
   ]
  },
  {
   "cell_type": "code",
   "execution_count": 55,
   "metadata": {
    "id": "WC_Xp1hBqKZi"
   },
   "outputs": [
    {
     "data": {
      "text/plain": [
       "0.018388670093366"
      ]
     },
     "execution_count": 55,
     "metadata": {},
     "output_type": "execute_result"
    }
   ],
   "source": [
    "thres_f1_max = thresholds[np.argmax(f1)]\n",
    "thres_f1_max"
   ]
  },
  {
   "cell_type": "markdown",
   "metadata": {
    "id": "kVSCiOxAqaBp"
   },
   "source": [
    "* classification_report2 로 평가"
   ]
  },
  {
   "cell_type": "code",
   "execution_count": 56,
   "metadata": {
    "id": "es3P6aAtqKZi"
   },
   "outputs": [
    {
     "name": "stdout",
     "output_type": "stream",
     "text": [
      "< confusion matrix >\n",
      "\n",
      "[[176 120]\n",
      " [  8  10]]\n",
      "\n",
      "============================================================\n",
      "\n",
      "< classification_report >\n",
      "\n",
      "              precision    recall  f1-score   support\n",
      "\n",
      "           0       0.96      0.59      0.73       296\n",
      "           1       0.08      0.56      0.14        18\n",
      "\n",
      "    accuracy                           0.59       314\n",
      "   macro avg       0.52      0.58      0.43       314\n",
      "weighted avg       0.91      0.59      0.70       314\n",
      "\n"
     ]
    },
    {
     "data": {
      "text/plain": [
       "array([[176, 120],\n",
       "       [  8,  10]], dtype=int64)"
      ]
     },
     "execution_count": 56,
     "metadata": {},
     "output_type": "execute_result"
    }
   ],
   "source": [
    "classification_report2(result['True_class'], result['Reconstruction_error'],thres_f1_max)"
   ]
  }
 ],
 "metadata": {
  "colab": {
   "collapsed_sections": [],
   "name": "6. AutoEncoder_답.ipynb",
   "provenance": [],
   "toc_visible": true
  },
  "kernelspec": {
   "display_name": "Python 3",
   "language": "python",
   "name": "python3"
  },
  "language_info": {
   "codemirror_mode": {
    "name": "ipython",
    "version": 3
   },
   "file_extension": ".py",
   "mimetype": "text/x-python",
   "name": "python",
   "nbconvert_exporter": "python",
   "pygments_lexer": "ipython3",
   "version": "3.8.8"
  }
 },
 "nbformat": 4,
 "nbformat_minor": 4
}
