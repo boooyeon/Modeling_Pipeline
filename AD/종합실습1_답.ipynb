{
 "cells": [
  {
   "cell_type": "markdown",
   "metadata": {
    "id": "H2PiE6pYmBv7"
   },
   "source": [
    "# 1일차 종합실습 : 제조 공정간 불량 예측\n",
    "\n"
   ]
  },
  {
   "cell_type": "markdown",
   "metadata": {
    "id": "OcrJzGK8rrtp"
   },
   "source": [
    "## pulp-and-paper mill 공정\n",
    "* 비즈니스 상황\n",
    "    * 한 롤로 종이를 말다가 찢어지는 사고가 하루에 한번 이상 발생\n",
    "    * 이때마다 공정 중단 및 수율 저하 등, 평균적으로 100백만원의 손실\n",
    "    * 이를 사전에 감지하는 것은 굉장히 어려운 일입니다. 이런 사고를 5%만 감소시키더라도 회사 입장에서는 상당한 비용 절감 효과가 예상됩니다.\n",
    "\n",
    "* Data\n",
    "    * 행\n",
    "        * 주어진 데이터에는 15일 동안 수집된 약 18,000개의 행의 시계열 데이터\n",
    "        * 데이터는 2분 간격으로 측정.\n",
    "    * 열 \n",
    "        * y : normal – 0, abnormal - 1 (124건, 약 0.6%)\n",
    "            * y 의 abnormal 데이터는 장애 발생 2~4분 전으로 시점에 대한 조정(shift)이 된(전처리 된) 데이터 입니다.\n",
    "        * x1 - x61: 원자재, 부자재 및 공정 센서 값들로 구성됨.\n",
    "\n",
    "* 장애 예방 조치\n",
    "    * 장애가 예상된다면, 속도를 줄여 장애를 예방할 수 있습니다.\n",
    "    * 단, 속도를 줄이면 생산성이 저하되므로, 1회당 평균 3만원의 손실이 발생됩니다.\n"
   ]
  },
  {
   "cell_type": "markdown",
   "metadata": {
    "id": "25iQd4AGToG4"
   },
   "source": [
    "![](https://keralakaumudi.com/web-news/en/2020/04/NMAN0141956/image/paper-mill.1.582102.jpg)"
   ]
  },
  {
   "cell_type": "markdown",
   "metadata": {
    "id": "eQ6zIu5HP-TR"
   },
   "source": [
    "## 0.환경준비"
   ]
  },
  {
   "cell_type": "markdown",
   "metadata": {
    "id": "dBemUrbOP-TS"
   },
   "source": [
    "### 1) 라이브러리 로딩"
   ]
  },
  {
   "cell_type": "code",
   "execution_count": 1,
   "metadata": {
    "id": "yFfi2rWqP-TT"
   },
   "outputs": [],
   "source": [
    "import pandas as pd\n",
    "import numpy as np\n",
    "import matplotlib.pyplot as plt\n",
    "import seaborn as sns\n",
    "\n",
    "import warnings\n",
    "warnings.simplefilter(action='ignore', category=FutureWarning)\n",
    "\n",
    "from sklearn.metrics import *\n",
    "from sklearn.model_selection import train_test_split, GridSearchCV"
   ]
  },
  {
   "cell_type": "markdown",
   "metadata": {
    "id": "0idcAKU0P-TT"
   },
   "source": [
    "### 2) 데이터셋 불러오기"
   ]
  },
  {
   "cell_type": "code",
   "execution_count": 2,
   "metadata": {
    "colab": {
     "base_uri": "https://localhost:8080/",
     "height": 356
    },
    "executionInfo": {
     "elapsed": 948,
     "status": "ok",
     "timestamp": 1645666118739,
     "user": {
      "displayName": "한기영",
      "photoUrl": "https://lh3.googleusercontent.com/a/default-user=s64",
      "userId": "13049187003176135487"
     },
     "user_tz": -540
    },
    "id": "2zyxe46-Bdms",
    "outputId": "3fddaed0-1ebf-4541-c2c8-71ca77547070"
   },
   "outputs": [
    {
     "data": {
      "text/html": [
       "<div>\n",
       "<style scoped>\n",
       "    .dataframe tbody tr th:only-of-type {\n",
       "        vertical-align: middle;\n",
       "    }\n",
       "\n",
       "    .dataframe tbody tr th {\n",
       "        vertical-align: top;\n",
       "    }\n",
       "\n",
       "    .dataframe thead th {\n",
       "        text-align: right;\n",
       "    }\n",
       "</style>\n",
       "<table border=\"1\" class=\"dataframe\">\n",
       "  <thead>\n",
       "    <tr style=\"text-align: right;\">\n",
       "      <th></th>\n",
       "      <th>y</th>\n",
       "      <th>time</th>\n",
       "      <th>x1</th>\n",
       "      <th>x2</th>\n",
       "      <th>x3</th>\n",
       "      <th>x4</th>\n",
       "      <th>x5</th>\n",
       "      <th>x6</th>\n",
       "      <th>x7</th>\n",
       "      <th>x8</th>\n",
       "      <th>...</th>\n",
       "      <th>x51</th>\n",
       "      <th>x52</th>\n",
       "      <th>x53</th>\n",
       "      <th>x54</th>\n",
       "      <th>x55</th>\n",
       "      <th>x56</th>\n",
       "      <th>x57</th>\n",
       "      <th>x58</th>\n",
       "      <th>x59</th>\n",
       "      <th>x60</th>\n",
       "    </tr>\n",
       "  </thead>\n",
       "  <tbody>\n",
       "    <tr>\n",
       "      <th>0</th>\n",
       "      <td>0.0</td>\n",
       "      <td>5/1/99 0:00</td>\n",
       "      <td>0.376665</td>\n",
       "      <td>-4.596435</td>\n",
       "      <td>-4.095756</td>\n",
       "      <td>13.497687</td>\n",
       "      <td>-0.118830</td>\n",
       "      <td>-20.669883</td>\n",
       "      <td>0.000732</td>\n",
       "      <td>-0.061114</td>\n",
       "      <td>...</td>\n",
       "      <td>29.984624</td>\n",
       "      <td>10.091721</td>\n",
       "      <td>0.053279</td>\n",
       "      <td>-4.936434</td>\n",
       "      <td>-24.590146</td>\n",
       "      <td>18.515436</td>\n",
       "      <td>3.473400</td>\n",
       "      <td>0.033444</td>\n",
       "      <td>0.953219</td>\n",
       "      <td>0.006076</td>\n",
       "    </tr>\n",
       "    <tr>\n",
       "      <th>1</th>\n",
       "      <td>0.0</td>\n",
       "      <td>5/1/99 0:02</td>\n",
       "      <td>0.475720</td>\n",
       "      <td>-4.542502</td>\n",
       "      <td>-4.018359</td>\n",
       "      <td>16.230659</td>\n",
       "      <td>-0.128733</td>\n",
       "      <td>-18.758079</td>\n",
       "      <td>0.000732</td>\n",
       "      <td>-0.061114</td>\n",
       "      <td>...</td>\n",
       "      <td>29.984624</td>\n",
       "      <td>10.095871</td>\n",
       "      <td>0.062801</td>\n",
       "      <td>-4.937179</td>\n",
       "      <td>-32.413266</td>\n",
       "      <td>22.760065</td>\n",
       "      <td>2.682933</td>\n",
       "      <td>0.033536</td>\n",
       "      <td>1.090502</td>\n",
       "      <td>0.006083</td>\n",
       "    </tr>\n",
       "    <tr>\n",
       "      <th>2</th>\n",
       "      <td>0.0</td>\n",
       "      <td>5/1/99 0:04</td>\n",
       "      <td>0.363848</td>\n",
       "      <td>-4.681394</td>\n",
       "      <td>-4.353147</td>\n",
       "      <td>14.127997</td>\n",
       "      <td>-0.138636</td>\n",
       "      <td>-17.836632</td>\n",
       "      <td>0.010803</td>\n",
       "      <td>-0.061114</td>\n",
       "      <td>...</td>\n",
       "      <td>29.984624</td>\n",
       "      <td>10.100265</td>\n",
       "      <td>0.072322</td>\n",
       "      <td>-4.937924</td>\n",
       "      <td>-34.183774</td>\n",
       "      <td>27.004663</td>\n",
       "      <td>3.537487</td>\n",
       "      <td>0.033629</td>\n",
       "      <td>1.840540</td>\n",
       "      <td>0.006090</td>\n",
       "    </tr>\n",
       "    <tr>\n",
       "      <th>3</th>\n",
       "      <td>0.0</td>\n",
       "      <td>5/1/99 0:06</td>\n",
       "      <td>0.301590</td>\n",
       "      <td>-4.758934</td>\n",
       "      <td>-4.023612</td>\n",
       "      <td>13.161566</td>\n",
       "      <td>-0.148142</td>\n",
       "      <td>-18.517601</td>\n",
       "      <td>0.002075</td>\n",
       "      <td>-0.061114</td>\n",
       "      <td>...</td>\n",
       "      <td>29.984624</td>\n",
       "      <td>10.104660</td>\n",
       "      <td>0.081600</td>\n",
       "      <td>-4.938669</td>\n",
       "      <td>-35.954281</td>\n",
       "      <td>21.672449</td>\n",
       "      <td>3.986095</td>\n",
       "      <td>0.033721</td>\n",
       "      <td>2.554880</td>\n",
       "      <td>0.006097</td>\n",
       "    </tr>\n",
       "    <tr>\n",
       "      <th>4</th>\n",
       "      <td>0.0</td>\n",
       "      <td>5/1/99 0:08</td>\n",
       "      <td>0.265578</td>\n",
       "      <td>-4.749928</td>\n",
       "      <td>-4.333150</td>\n",
       "      <td>15.267340</td>\n",
       "      <td>-0.155314</td>\n",
       "      <td>-17.505913</td>\n",
       "      <td>0.000732</td>\n",
       "      <td>-0.061114</td>\n",
       "      <td>...</td>\n",
       "      <td>29.984624</td>\n",
       "      <td>10.109054</td>\n",
       "      <td>0.091121</td>\n",
       "      <td>-4.939414</td>\n",
       "      <td>-37.724789</td>\n",
       "      <td>21.907251</td>\n",
       "      <td>3.601573</td>\n",
       "      <td>0.033777</td>\n",
       "      <td>1.410494</td>\n",
       "      <td>0.006105</td>\n",
       "    </tr>\n",
       "  </tbody>\n",
       "</table>\n",
       "<p>5 rows × 61 columns</p>\n",
       "</div>"
      ],
      "text/plain": [
       "     y         time        x1        x2        x3         x4        x5  \\\n",
       "0  0.0  5/1/99 0:00  0.376665 -4.596435 -4.095756  13.497687 -0.118830   \n",
       "1  0.0  5/1/99 0:02  0.475720 -4.542502 -4.018359  16.230659 -0.128733   \n",
       "2  0.0  5/1/99 0:04  0.363848 -4.681394 -4.353147  14.127997 -0.138636   \n",
       "3  0.0  5/1/99 0:06  0.301590 -4.758934 -4.023612  13.161566 -0.148142   \n",
       "4  0.0  5/1/99 0:08  0.265578 -4.749928 -4.333150  15.267340 -0.155314   \n",
       "\n",
       "          x6        x7        x8  ...        x51        x52       x53  \\\n",
       "0 -20.669883  0.000732 -0.061114  ...  29.984624  10.091721  0.053279   \n",
       "1 -18.758079  0.000732 -0.061114  ...  29.984624  10.095871  0.062801   \n",
       "2 -17.836632  0.010803 -0.061114  ...  29.984624  10.100265  0.072322   \n",
       "3 -18.517601  0.002075 -0.061114  ...  29.984624  10.104660  0.081600   \n",
       "4 -17.505913  0.000732 -0.061114  ...  29.984624  10.109054  0.091121   \n",
       "\n",
       "        x54        x55        x56       x57       x58       x59       x60  \n",
       "0 -4.936434 -24.590146  18.515436  3.473400  0.033444  0.953219  0.006076  \n",
       "1 -4.937179 -32.413266  22.760065  2.682933  0.033536  1.090502  0.006083  \n",
       "2 -4.937924 -34.183774  27.004663  3.537487  0.033629  1.840540  0.006090  \n",
       "3 -4.938669 -35.954281  21.672449  3.986095  0.033721  2.554880  0.006097  \n",
       "4 -4.939414 -37.724789  21.907251  3.601573  0.033777  1.410494  0.006105  \n",
       "\n",
       "[5 rows x 61 columns]"
      ]
     },
     "execution_count": 2,
     "metadata": {},
     "output_type": "execute_result"
    }
   ],
   "source": [
    "# 공정 데이터 불러오기\n",
    "path = \"https://raw.githubusercontent.com/DA4BAM/dataset/master/processminer2.csv\"\n",
    "data = pd.read_csv(path)\n",
    "data.head()"
   ]
  },
  {
   "cell_type": "markdown",
   "metadata": {
    "id": "hZpmnlm_ZoGN"
   },
   "source": [
    "### 3) 필요 함수들 생성"
   ]
  },
  {
   "cell_type": "markdown",
   "metadata": {
    "id": "E9wqfAgXeKNS"
   },
   "source": [
    "#### ① precision, recall, f1 curve\n",
    "\n",
    "> * sklearn에서는 precision, recall curve만 제공됩니다. \n",
    "* 그래서, f1 curve도 추가해서 구하고, plot을 그립니다.\n",
    "\n"
   ]
  },
  {
   "cell_type": "code",
   "execution_count": 3,
   "metadata": {
    "id": "YaD3ETNieKNS"
   },
   "outputs": [],
   "source": [
    "from sklearn.metrics import precision_recall_curve\n",
    "import matplotlib.pyplot as plt\n",
    "\n",
    "def prec_rec_f1_curve(y, score, pos = 1) :\n",
    "    precision, recall, thresholds  = precision_recall_curve(y, score, pos_label=1)\n",
    "    f1 = 2 / (1/precision + 1/recall)\n",
    "\n",
    "    # f1, recall, precision curve\n",
    "    plt.plot(thresholds, np.delete(precision, -1), label = 'precision')\n",
    "    plt.plot(thresholds, np.delete(recall, -1), label = 'recall')\n",
    "    plt.plot(thresholds, np.delete(f1, -1), label = 'f1')\n",
    "\n",
    "    # f1를 최대화 해주는 threshold\n",
    "    thre = round(thresholds[np.argmax(f1)],4)\n",
    "    f1s = round(max(f1),4)\n",
    "    plt.axvline(thre , color = 'darkred', linewidth = .7)\n",
    "    plt.axhline( f1s, color = 'darkred', linewidth = .7)\n",
    "    plt.text(thre, .5, thre, color = 'darkred')\n",
    "    plt.text(min(thresholds), f1s, f1s, color = 'darkred')\n",
    "\n",
    "    plt.xlabel('Anomaly Score')\n",
    "    plt.ylabel('F1 Score')\n",
    "    plt.legend()\n",
    "    plt.grid()\n",
    "    plt.show()\n",
    "\n",
    "    return precision, recall, f1, thresholds"
   ]
  },
  {
   "cell_type": "markdown",
   "metadata": {
    "id": "-umHs8mEk0h2"
   },
   "source": [
    "#### ② threshold로 잘랐을 때, 분류 평가 함수\n"
   ]
  },
  {
   "cell_type": "code",
   "execution_count": 4,
   "metadata": {
    "id": "eq6zBfy9k1Vu"
   },
   "outputs": [],
   "source": [
    "from sklearn.metrics import confusion_matrix, classification_report\n",
    "\n",
    "def classification_report2(y, pred, thresholds):\n",
    "    pred_temp = np.where(pred > thresholds , 1, 0)\n",
    "\n",
    "    print('< confusion matrix >\\n')\n",
    "    print(confusion_matrix(y, pred_temp))\n",
    "    print('\\n' + '='*60 + '\\n')\n",
    "\n",
    "    print('< classification_report >\\n')\n",
    "    print(classification_report(y, pred_temp))\n",
    "\n",
    "    return confusion_matrix(y, pred_temp)"
   ]
  },
  {
   "cell_type": "markdown",
   "metadata": {
    "id": "jECAaPceva4m"
   },
   "source": [
    "## 1.데이터 탐색"
   ]
  },
  {
   "cell_type": "code",
   "execution_count": 5,
   "metadata": {
    "id": "C7gFiP_xswn5"
   },
   "outputs": [],
   "source": [
    "target = 'y'"
   ]
  },
  {
   "cell_type": "markdown",
   "metadata": {
    "id": "ovqMu17zqBJi"
   },
   "source": [
    "* Target 변수의 class 비율을 확인해 봅시다."
   ]
  },
  {
   "cell_type": "code",
   "execution_count": 6,
   "metadata": {
    "colab": {
     "base_uri": "https://localhost:8080/"
    },
    "executionInfo": {
     "elapsed": 19,
     "status": "ok",
     "timestamp": 1645664315718,
     "user": {
      "displayName": "한기영",
      "photoUrl": "https://lh3.googleusercontent.com/a/default-user=s64",
      "userId": "13049187003176135487"
     },
     "user_tz": -540
    },
    "id": "42OabrDkrR4_",
    "outputId": "3abd8c75-333f-4270-f0a2-26a2c94dba5d"
   },
   "outputs": [
    {
     "name": "stdout",
     "output_type": "stream",
     "text": [
      "0.0    18150\n",
      "1.0      124\n",
      "Name: y, dtype: int64\n",
      "0.0    0.993214\n",
      "1.0    0.006786\n",
      "Name: y, dtype: float64\n"
     ]
    }
   ],
   "source": [
    "print(data[target].value_counts())\n",
    "print(data[target].value_counts() / data.shape[0])\n"
   ]
  },
  {
   "cell_type": "markdown",
   "metadata": {
    "id": "hDC9Z8vdP-TU"
   },
   "source": [
    "## 2.데이터 준비"
   ]
  },
  {
   "cell_type": "markdown",
   "metadata": {
    "id": "BQRh_I1ob09a"
   },
   "source": [
    "### 2.2 추가변수"
   ]
  },
  {
   "cell_type": "code",
   "execution_count": 7,
   "metadata": {
    "id": "t-SPj8IcVaUh"
   },
   "outputs": [],
   "source": [
    "for v in data.columns[2:] :\n",
    "    var = v + '_diff'\n",
    "    data[var] = data[v] - data[v].shift()\n",
    "\n",
    "data.dropna(axis = 0, inplace = True)"
   ]
  },
  {
   "cell_type": "markdown",
   "metadata": {
    "id": "8p9K03j6stpW"
   },
   "source": [
    "### 2.1 x, y로 분할하기"
   ]
  },
  {
   "cell_type": "markdown",
   "metadata": {
    "id": "mP18tJMnG5tE"
   },
   "source": [
    "* 불필요한 변수 제거"
   ]
  },
  {
   "cell_type": "code",
   "execution_count": 8,
   "metadata": {
    "id": "Mx8qQizlG4Zg"
   },
   "outputs": [],
   "source": [
    "data.drop('time', axis = 1, inplace = True)"
   ]
  },
  {
   "cell_type": "code",
   "execution_count": 9,
   "metadata": {
    "id": "YOtK3h2Usu6G"
   },
   "outputs": [],
   "source": [
    "x = data.drop(target, axis = 1)\n",
    "y = data.loc[:, target]"
   ]
  },
  {
   "cell_type": "markdown",
   "metadata": {
    "id": "yVuSbSQErjQ7"
   },
   "source": [
    "### 2.3 데이터 분할\n",
    "* data ==> train : val = 7 : 3\n",
    "* stratify=y : y의 class 비율을 유지하면서 분할하기"
   ]
  },
  {
   "cell_type": "code",
   "execution_count": 10,
   "metadata": {
    "id": "Daq8L2H2rkGe"
   },
   "outputs": [],
   "source": [
    "x_train, x_val, y_train, y_val = train_test_split(x, y, test_size = .3, random_state=2022, stratify=y)"
   ]
  },
  {
   "cell_type": "code",
   "execution_count": 11,
   "metadata": {
    "colab": {
     "base_uri": "https://localhost:8080/"
    },
    "executionInfo": {
     "elapsed": 346,
     "status": "ok",
     "timestamp": 1645666142074,
     "user": {
      "displayName": "한기영",
      "photoUrl": "https://lh3.googleusercontent.com/a/default-user=s64",
      "userId": "13049187003176135487"
     },
     "user_tz": -540
    },
    "id": "wOxlpZdkrflI",
    "outputId": "0858b335-a64e-4f98-f9b9-81d931934817"
   },
   "outputs": [
    {
     "data": {
      "text/plain": [
       "0.0    0.993198\n",
       "1.0    0.006802\n",
       "Name: y, dtype: float64"
      ]
     },
     "execution_count": 11,
     "metadata": {},
     "output_type": "execute_result"
    }
   ],
   "source": [
    "y_train.value_counts()/len(y_train)"
   ]
  },
  {
   "cell_type": "code",
   "execution_count": 12,
   "metadata": {
    "colab": {
     "base_uri": "https://localhost:8080/"
    },
    "executionInfo": {
     "elapsed": 2,
     "status": "ok",
     "timestamp": 1645666142385,
     "user": {
      "displayName": "한기영",
      "photoUrl": "https://lh3.googleusercontent.com/a/default-user=s64",
      "userId": "13049187003176135487"
     },
     "user_tz": -540
    },
    "id": "mENOR-4QP-TU",
    "outputId": "ad625335-ce40-4ff4-a4d9-4198f30c910a"
   },
   "outputs": [
    {
     "data": {
      "text/plain": [
       "0.0    0.993251\n",
       "1.0    0.006749\n",
       "Name: y, dtype: float64"
      ]
     },
     "execution_count": 12,
     "metadata": {},
     "output_type": "execute_result"
    }
   ],
   "source": [
    "y_val.value_counts()/len(y_val)"
   ]
  },
  {
   "cell_type": "code",
   "execution_count": 13,
   "metadata": {
    "colab": {
     "base_uri": "https://localhost:8080/"
    },
    "executionInfo": {
     "elapsed": 3,
     "status": "ok",
     "timestamp": 1645666144040,
     "user": {
      "displayName": "한기영",
      "photoUrl": "https://lh3.googleusercontent.com/a/default-user=s64",
      "userId": "13049187003176135487"
     },
     "user_tz": -540
    },
    "id": "CvCO5Pru_vuo",
    "outputId": "1d2deebe-2662-44e3-d3b0-5e53786e62d6"
   },
   "outputs": [
    {
     "data": {
      "text/plain": [
       "0.0    5445\n",
       "1.0      37\n",
       "Name: y, dtype: int64"
      ]
     },
     "execution_count": 13,
     "metadata": {},
     "output_type": "execute_result"
    }
   ],
   "source": [
    "y_val.value_counts()"
   ]
  },
  {
   "cell_type": "markdown",
   "metadata": {
    "id": "XiD3ZxjrghkX"
   },
   "source": [
    "## 3.모델링 \n",
    "\n",
    "* 알고리즘 선정 : 1번과 2번은 지도학습 알고리즘 중 원하는 것 2개 정도를 정해서 수행해 봅시다.\n",
    "* 성능평가 : f1 score가 높은 모델/방식을 찾아 봅시다."
   ]
  },
  {
   "cell_type": "code",
   "execution_count": 65,
   "metadata": {
    "id": "D6E1ki0MKoOO"
   },
   "outputs": [],
   "source": [
    "from imblearn.under_sampling import RandomUnderSampler\n",
    "from imblearn.over_sampling import RandomOverSampler, SMOTE\n",
    "\n",
    "from sklearn.linear_model import LogisticRegression\n",
    "from sklearn.tree import DecisionTreeClassifier\n",
    "from sklearn.ensemble import IsolationForest"
   ]
  },
  {
   "cell_type": "markdown",
   "metadata": {
    "id": "YnoWUFh2KkCS"
   },
   "source": [
    "### 1) resampling"
   ]
  },
  {
   "cell_type": "code",
   "execution_count": 66,
   "metadata": {
    "colab": {
     "base_uri": "https://localhost:8080/"
    },
    "executionInfo": {
     "elapsed": 5,
     "status": "ok",
     "timestamp": 1645666151206,
     "user": {
      "displayName": "한기영",
      "photoUrl": "https://lh3.googleusercontent.com/a/default-user=s64",
      "userId": "13049187003176135487"
     },
     "user_tz": -540
    },
    "id": "h9s8eoDcTJrw",
    "outputId": "25af467c-bb46-4ef5-fd8c-539d17cca519"
   },
   "outputs": [
    {
     "name": "stdout",
     "output_type": "stream",
     "text": [
      "[87 87]\n",
      "[0.5 0.5]\n"
     ]
    }
   ],
   "source": [
    "# down sampling\n",
    "down_sample = RandomUnderSampler()\n",
    "d_x_train, d_y_train = down_sample.fit_resample(x_train, y_train)\n",
    "\n",
    "print(np.bincount(d_y_train))\n",
    "print(np.bincount(d_y_train) / d_y_train.shape[0])"
   ]
  },
  {
   "cell_type": "code",
   "execution_count": 16,
   "metadata": {
    "colab": {
     "base_uri": "https://localhost:8080/"
    },
    "executionInfo": {
     "elapsed": 46,
     "status": "ok",
     "timestamp": 1645666151669,
     "user": {
      "displayName": "한기영",
      "photoUrl": "https://lh3.googleusercontent.com/a/default-user=s64",
      "userId": "13049187003176135487"
     },
     "user_tz": -540
    },
    "id": "thDUDnJETvJF",
    "outputId": "d3b8d117-34db-4513-92e7-80fd17e16a86"
   },
   "outputs": [
    {
     "name": "stdout",
     "output_type": "stream",
     "text": [
      "[12704 12704]\n",
      "[0.5 0.5]\n"
     ]
    }
   ],
   "source": [
    "# up sampling\n",
    "up_sample = RandomOverSampler()\n",
    "u_x_train, u_y_train = up_sample.fit_resample(x_train, y_train)\n",
    "\n",
    "print(np.bincount(u_y_train))\n",
    "print(np.bincount(u_y_train) / u_y_train.shape[0])"
   ]
  },
  {
   "cell_type": "code",
   "execution_count": 17,
   "metadata": {
    "colab": {
     "base_uri": "https://localhost:8080/"
    },
    "executionInfo": {
     "elapsed": 5,
     "status": "ok",
     "timestamp": 1645666152047,
     "user": {
      "displayName": "한기영",
      "photoUrl": "https://lh3.googleusercontent.com/a/default-user=s64",
      "userId": "13049187003176135487"
     },
     "user_tz": -540
    },
    "id": "xTYLdVq9UREg",
    "outputId": "a246b7af-6f73-4afe-d0f5-ee6aaf52446d"
   },
   "outputs": [
    {
     "name": "stdout",
     "output_type": "stream",
     "text": [
      "[12704 12704]\n",
      "[0.5 0.5]\n"
     ]
    }
   ],
   "source": [
    "# SMOTE\n",
    "smote = SMOTE()\n",
    "s_x_train, s_y_train = smote.fit_resample(x_train, y_train)\n",
    "\n",
    "print(np.bincount(s_y_train))\n",
    "print(np.bincount(s_y_train) / s_y_train.shape[0])"
   ]
  },
  {
   "cell_type": "markdown",
   "metadata": {
    "id": "bXEddzpVUr40"
   },
   "source": [
    "* 모델링"
   ]
  },
  {
   "cell_type": "code",
   "execution_count": 40,
   "metadata": {
    "colab": {
     "base_uri": "https://localhost:8080/"
    },
    "executionInfo": {
     "elapsed": 9,
     "status": "ok",
     "timestamp": 1645666152407,
     "user": {
      "displayName": "한기영",
      "photoUrl": "https://lh3.googleusercontent.com/a/default-user=s64",
      "userId": "13049187003176135487"
     },
     "user_tz": -540
    },
    "id": "pweIIMz1UhoL",
    "outputId": "d779efc5-6c31-497c-9393-b3ba2f0c1fba"
   },
   "outputs": [
    {
     "name": "stdout",
     "output_type": "stream",
     "text": [
      "0.01936842105263158\n",
      "-------------------------------------------------------\n",
      "[[3130 2315]\n",
      " [  14   23]]\n",
      "-------------------------------------------------------\n",
      "              precision    recall  f1-score   support\n",
      "\n",
      "         0.0       1.00      0.57      0.73      5445\n",
      "         1.0       0.01      0.62      0.02        37\n",
      "\n",
      "    accuracy                           0.58      5482\n",
      "   macro avg       0.50      0.60      0.37      5482\n",
      "weighted avg       0.99      0.58      0.72      5482\n",
      "\n"
     ]
    }
   ],
   "source": [
    "model_d = LogisticRegression(solver = 'liblinear')\n",
    "model_d.fit(d_x_train, d_y_train)\n",
    "pred_d = model_d.predict(x_val)\n",
    "\n",
    "print(f1_score(y_val,pred_d, pos_label=1))\n",
    "print('-' * 55)\n",
    "print(confusion_matrix(y_val, pred_d))\n",
    "print('-' * 55)\n",
    "print(classification_report(y_val, pred_d))"
   ]
  },
  {
   "cell_type": "code",
   "execution_count": 41,
   "metadata": {
    "colab": {
     "base_uri": "https://localhost:8080/"
    },
    "executionInfo": {
     "elapsed": 1242,
     "status": "ok",
     "timestamp": 1645666154005,
     "user": {
      "displayName": "한기영",
      "photoUrl": "https://lh3.googleusercontent.com/a/default-user=s64",
      "userId": "13049187003176135487"
     },
     "user_tz": -540
    },
    "id": "m234-OjPVHNg",
    "outputId": "7d7ce694-0d59-4a27-c3a1-0e585822e4f0"
   },
   "outputs": [
    {
     "name": "stdout",
     "output_type": "stream",
     "text": [
      "0.026554856743535984\n",
      "-------------------------------------------------------\n",
      "[[4070 1375]\n",
      " [  18   19]]\n",
      "-------------------------------------------------------\n",
      "              precision    recall  f1-score   support\n",
      "\n",
      "         0.0       1.00      0.75      0.85      5445\n",
      "         1.0       0.01      0.51      0.03        37\n",
      "\n",
      "    accuracy                           0.75      5482\n",
      "   macro avg       0.50      0.63      0.44      5482\n",
      "weighted avg       0.99      0.75      0.85      5482\n",
      "\n"
     ]
    },
    {
     "name": "stderr",
     "output_type": "stream",
     "text": [
      "C:\\ProgramData\\Anaconda3\\lib\\site-packages\\sklearn\\svm\\_base.py:1206: ConvergenceWarning: Liblinear failed to converge, increase the number of iterations.\n",
      "  warnings.warn(\n"
     ]
    }
   ],
   "source": [
    "model_u = LogisticRegression(solver = 'liblinear')\n",
    "model_u.fit(u_x_train, u_y_train)\n",
    "pred_u = model_u.predict(x_val)\n",
    "\n",
    "print(f1_score(y_val,pred_u, pos_label=1))\n",
    "print('-' * 55)\n",
    "print(confusion_matrix(y_val, pred_u))\n",
    "print('-' * 55)\n",
    "print(classification_report(y_val, pred_u))"
   ]
  },
  {
   "cell_type": "code",
   "execution_count": 42,
   "metadata": {
    "colab": {
     "base_uri": "https://localhost:8080/"
    },
    "executionInfo": {
     "elapsed": 650,
     "status": "ok",
     "timestamp": 1645666154648,
     "user": {
      "displayName": "한기영",
      "photoUrl": "https://lh3.googleusercontent.com/a/default-user=s64",
      "userId": "13049187003176135487"
     },
     "user_tz": -540
    },
    "id": "6zKGZt_jWQve",
    "outputId": "eba664d8-7e9f-44c1-b64b-360a9ee10a36"
   },
   "outputs": [
    {
     "name": "stdout",
     "output_type": "stream",
     "text": [
      "0.029473684210526315\n",
      "-------------------------------------------------------\n",
      "[[4078 1367]\n",
      " [  16   21]]\n",
      "-------------------------------------------------------\n",
      "              precision    recall  f1-score   support\n",
      "\n",
      "         0.0       1.00      0.75      0.86      5445\n",
      "         1.0       0.02      0.57      0.03        37\n",
      "\n",
      "    accuracy                           0.75      5482\n",
      "   macro avg       0.51      0.66      0.44      5482\n",
      "weighted avg       0.99      0.75      0.85      5482\n",
      "\n"
     ]
    },
    {
     "name": "stderr",
     "output_type": "stream",
     "text": [
      "C:\\ProgramData\\Anaconda3\\lib\\site-packages\\sklearn\\svm\\_base.py:1206: ConvergenceWarning: Liblinear failed to converge, increase the number of iterations.\n",
      "  warnings.warn(\n"
     ]
    }
   ],
   "source": [
    "model_s = LogisticRegression(solver = 'liblinear')\n",
    "model_s.fit(s_x_train, s_y_train)\n",
    "pred_s = model_s.predict(x_val)\n",
    "\n",
    "print(f1_score(y_val, pred_s, pos_label=1))\n",
    "print('-' * 55)\n",
    "print(confusion_matrix(y_val, pred_s))\n",
    "print('-' * 55)\n",
    "print(classification_report(y_val, pred_s))"
   ]
  },
  {
   "cell_type": "code",
   "execution_count": 44,
   "metadata": {
    "colab": {
     "base_uri": "https://localhost:8080/"
    },
    "executionInfo": {
     "elapsed": 494,
     "status": "ok",
     "timestamp": 1645666155138,
     "user": {
      "displayName": "한기영",
      "photoUrl": "https://lh3.googleusercontent.com/a/default-user=s64",
      "userId": "13049187003176135487"
     },
     "user_tz": -540
    },
    "id": "A7kyykaRovtf",
    "outputId": "b44b8f27-fd00-4b62-d293-88dc3009ae28"
   },
   "outputs": [
    {
     "name": "stdout",
     "output_type": "stream",
     "text": [
      "0.02027027027027027\n",
      "-------------------------------------------------------\n",
      "[[4017 1428]\n",
      " [  22   15]]\n",
      "-------------------------------------------------------\n",
      "              precision    recall  f1-score   support\n",
      "\n",
      "         0.0       0.99      0.74      0.85      5445\n",
      "         1.0       0.01      0.41      0.02        37\n",
      "\n",
      "    accuracy                           0.74      5482\n",
      "   macro avg       0.50      0.57      0.43      5482\n",
      "weighted avg       0.99      0.74      0.84      5482\n",
      "\n"
     ]
    }
   ],
   "source": [
    "model_d = DecisionTreeClassifier(max_depth = 4)\n",
    "model_d.fit(d_x_train, d_y_train)\n",
    "pred_d = model_d.predict(x_val)\n",
    "\n",
    "print(f1_score(y_val,pred_d, pos_label=1))\n",
    "print('-' * 55)\n",
    "print(confusion_matrix(y_val, pred_d))\n",
    "print('-' * 55)\n",
    "print(classification_report(y_val, pred_d))"
   ]
  },
  {
   "cell_type": "code",
   "execution_count": 45,
   "metadata": {
    "colab": {
     "base_uri": "https://localhost:8080/"
    },
    "executionInfo": {
     "elapsed": 319,
     "status": "ok",
     "timestamp": 1645666155454,
     "user": {
      "displayName": "한기영",
      "photoUrl": "https://lh3.googleusercontent.com/a/default-user=s64",
      "userId": "13049187003176135487"
     },
     "user_tz": -540
    },
    "id": "sX2mgddtovtm",
    "outputId": "bba1cf96-29c1-4cee-8acf-10350421b359"
   },
   "outputs": [
    {
     "name": "stdout",
     "output_type": "stream",
     "text": [
      "0.021857923497267756\n",
      "-------------------------------------------------------\n",
      "[[4034 1411]\n",
      " [  21   16]]\n",
      "-------------------------------------------------------\n",
      "              precision    recall  f1-score   support\n",
      "\n",
      "         0.0       0.99      0.74      0.85      5445\n",
      "         1.0       0.01      0.43      0.02        37\n",
      "\n",
      "    accuracy                           0.74      5482\n",
      "   macro avg       0.50      0.59      0.44      5482\n",
      "weighted avg       0.99      0.74      0.84      5482\n",
      "\n"
     ]
    }
   ],
   "source": [
    "model_u = DecisionTreeClassifier(max_depth = 4)\n",
    "model_u.fit(u_x_train, u_y_train)\n",
    "pred_u = model_u.predict(x_val)\n",
    "\n",
    "print(f1_score(y_val,pred_u, pos_label=1))\n",
    "print('-' * 55)\n",
    "print(confusion_matrix(y_val, pred_u))\n",
    "print('-' * 55)\n",
    "print(classification_report(y_val, pred_u))"
   ]
  },
  {
   "cell_type": "code",
   "execution_count": 46,
   "metadata": {
    "colab": {
     "base_uri": "https://localhost:8080/"
    },
    "executionInfo": {
     "elapsed": 1660,
     "status": "ok",
     "timestamp": 1645666157112,
     "user": {
      "displayName": "한기영",
      "photoUrl": "https://lh3.googleusercontent.com/a/default-user=s64",
      "userId": "13049187003176135487"
     },
     "user_tz": -540
    },
    "id": "SOcagLgvovtm",
    "outputId": "6fc0b5ea-b97c-474f-d819-49ee7b07812e"
   },
   "outputs": [
    {
     "name": "stdout",
     "output_type": "stream",
     "text": [
      "0.025559105431309903\n",
      "-------------------------------------------------------\n",
      "[[4555  890]\n",
      " [  25   12]]\n",
      "-------------------------------------------------------\n",
      "              precision    recall  f1-score   support\n",
      "\n",
      "         0.0       0.99      0.84      0.91      5445\n",
      "         1.0       0.01      0.32      0.03        37\n",
      "\n",
      "    accuracy                           0.83      5482\n",
      "   macro avg       0.50      0.58      0.47      5482\n",
      "weighted avg       0.99      0.83      0.90      5482\n",
      "\n"
     ]
    }
   ],
   "source": [
    "model_s = DecisionTreeClassifier(max_depth = 4)\n",
    "model_s.fit(s_x_train, s_y_train)\n",
    "pred_s = model_s.predict(x_val)\n",
    "\n",
    "print(f1_score(y_val, pred_s, pos_label=1))\n",
    "print('-' * 55)\n",
    "print(confusion_matrix(y_val, pred_s))\n",
    "print('-' * 55)\n",
    "print(classification_report(y_val, pred_s))"
   ]
  },
  {
   "cell_type": "markdown",
   "metadata": {
    "id": "qQsVU4FVKo7z"
   },
   "source": [
    "### 2) class weight 조정\n"
   ]
  },
  {
   "cell_type": "code",
   "execution_count": 47,
   "metadata": {
    "colab": {
     "base_uri": "https://localhost:8080/"
    },
    "executionInfo": {
     "elapsed": 455,
     "status": "ok",
     "timestamp": 1645666157564,
     "user": {
      "displayName": "한기영",
      "photoUrl": "https://lh3.googleusercontent.com/a/default-user=s64",
      "userId": "13049187003176135487"
     },
     "user_tz": -540
    },
    "id": "CaNSDEpMKo7z",
    "outputId": "8546e1a1-f31a-4609-a0a7-b3a823c92bab"
   },
   "outputs": [
    {
     "name": "stdout",
     "output_type": "stream",
     "text": [
      "0.026950354609929075\n",
      "-------------------------------------------------------\n",
      "[[4091 1354]\n",
      " [  18   19]]\n",
      "-------------------------------------------------------\n",
      "              precision    recall  f1-score   support\n",
      "\n",
      "         0.0       1.00      0.75      0.86      5445\n",
      "         1.0       0.01      0.51      0.03        37\n",
      "\n",
      "    accuracy                           0.75      5482\n",
      "   macro avg       0.50      0.63      0.44      5482\n",
      "weighted avg       0.99      0.75      0.85      5482\n",
      "\n"
     ]
    },
    {
     "name": "stderr",
     "output_type": "stream",
     "text": [
      "C:\\ProgramData\\Anaconda3\\lib\\site-packages\\sklearn\\svm\\_base.py:1206: ConvergenceWarning: Liblinear failed to converge, increase the number of iterations.\n",
      "  warnings.warn(\n"
     ]
    }
   ],
   "source": [
    "# Logistic Regression\n",
    "model = LogisticRegression(solver = 'liblinear', class_weight='balanced')\n",
    "model.fit(x_train, y_train)\n",
    "pred_cw = model.predict(x_val)\n",
    "\n",
    "print(f1_score(y_val,pred_cw, pos_label=1))\n",
    "print('-' * 55)\n",
    "print(confusion_matrix(y_val, pred_cw))\n",
    "print('-' * 55)\n",
    "print(classification_report(y_val, pred_cw))"
   ]
  },
  {
   "cell_type": "code",
   "execution_count": 49,
   "metadata": {
    "colab": {
     "base_uri": "https://localhost:8080/"
    },
    "executionInfo": {
     "elapsed": 810,
     "status": "ok",
     "timestamp": 1645666158371,
     "user": {
      "displayName": "한기영",
      "photoUrl": "https://lh3.googleusercontent.com/a/default-user=s64",
      "userId": "13049187003176135487"
     },
     "user_tz": -540
    },
    "id": "rQXpSbP6Ko7z",
    "outputId": "611bb095-c3d3-40bb-baba-0a84b2e6d106"
   },
   "outputs": [
    {
     "name": "stdout",
     "output_type": "stream",
     "text": [
      "0.021857923497267756\n",
      "-------------------------------------------------------\n",
      "[[4034 1411]\n",
      " [  21   16]]\n",
      "-------------------------------------------------------\n",
      "              precision    recall  f1-score   support\n",
      "\n",
      "         0.0       0.99      0.74      0.85      5445\n",
      "         1.0       0.01      0.43      0.02        37\n",
      "\n",
      "    accuracy                           0.74      5482\n",
      "   macro avg       0.50      0.59      0.44      5482\n",
      "weighted avg       0.99      0.74      0.84      5482\n",
      "\n"
     ]
    }
   ],
   "source": [
    "# Decision Tree\n",
    "model = DecisionTreeClassifier(max_depth = 4, class_weight='balanced')\n",
    "model.fit(x_train, y_train)\n",
    "pred_cw = model.predict(x_val)\n",
    "\n",
    "print(f1_score(y_val,pred_cw, pos_label=1))\n",
    "print('-' * 55)\n",
    "print(confusion_matrix(y_val, pred_cw))\n",
    "print('-' * 55)\n",
    "print(classification_report(y_val, pred_cw))"
   ]
  },
  {
   "cell_type": "markdown",
   "metadata": {
    "id": "w4zVRkk4K3BK"
   },
   "source": [
    "### 3) isolation forest\n"
   ]
  },
  {
   "cell_type": "code",
   "execution_count": 71,
   "metadata": {},
   "outputs": [],
   "source": [
    "cont = (y_train.value_counts() / y_train.shape[0])[1]"
   ]
  },
  {
   "cell_type": "code",
   "execution_count": 72,
   "metadata": {
    "colab": {
     "base_uri": "https://localhost:8080/"
    },
    "executionInfo": {
     "elapsed": 870,
     "status": "ok",
     "timestamp": 1645666159239,
     "user": {
      "displayName": "한기영",
      "photoUrl": "https://lh3.googleusercontent.com/a/default-user=s64",
      "userId": "13049187003176135487"
     },
     "user_tz": -540
    },
    "id": "1pFf8oUrK3BL",
    "outputId": "2821948e-b29b-4485-8b52-15b739b71d59"
   },
   "outputs": [
    {
     "name": "stderr",
     "output_type": "stream",
     "text": [
      "C:\\ProgramData\\Anaconda3\\lib\\site-packages\\sklearn\\base.py:450: UserWarning: X does not have valid feature names, but IsolationForest was fitted with feature names\n",
      "  warnings.warn(\n"
     ]
    },
    {
     "data": {
      "text/plain": [
       "IsolationForest(contamination=0.006801657415370182)"
      ]
     },
     "execution_count": 72,
     "metadata": {},
     "output_type": "execute_result"
    }
   ],
   "source": [
    "# contamination 의 기본값은 'auto' 입니다.\n",
    "model = IsolationForest(contamination = cont)  \n",
    "model.fit(x_train)"
   ]
  },
  {
   "cell_type": "code",
   "execution_count": 51,
   "metadata": {
    "id": "0MR49d-M5GsX"
   },
   "outputs": [],
   "source": [
    "score = model.score_samples(x_train)"
   ]
  },
  {
   "cell_type": "code",
   "execution_count": 56,
   "metadata": {
    "colab": {
     "base_uri": "https://localhost:8080/",
     "height": 265
    },
    "executionInfo": {
     "elapsed": 682,
     "status": "ok",
     "timestamp": 1645666160697,
     "user": {
      "displayName": "한기영",
      "photoUrl": "https://lh3.googleusercontent.com/a/default-user=s64",
      "userId": "13049187003176135487"
     },
     "user_tz": -540
    },
    "id": "xnb23YbUxRYE",
    "outputId": "54802ff1-6eb4-4729-8679-e5818c01bc6f"
   },
   "outputs": [
    {
     "data": {
      "image/png": "[encoded data removed]",
      "text/plain": [
       "<Figure size 720x432 with 1 Axes>"
      ]
     },
     "metadata": {
      "needs_background": "light"
     },
     "output_type": "display_data"
    }
   ],
   "source": [
    "score = -1 * score \n",
    "\n",
    "plt.figure(figsize=(10,6))\n",
    "sns.histplot(score, kde = True)\n",
    "plt.show()"
   ]
  },
  {
   "cell_type": "markdown",
   "metadata": {
    "id": "z7IfhhpzZY6b"
   },
   "source": [
    "* validation\n",
    "    * Score 계산\n",
    "    * predict로 예측"
   ]
  },
  {
   "cell_type": "code",
   "execution_count": 57,
   "metadata": {
    "colab": {
     "base_uri": "https://localhost:8080/",
     "height": 265
    },
    "executionInfo": {
     "elapsed": 672,
     "status": "ok",
     "timestamp": 1645666161364,
     "user": {
      "displayName": "한기영",
      "photoUrl": "https://lh3.googleusercontent.com/a/default-user=s64",
      "userId": "13049187003176135487"
     },
     "user_tz": -540
    },
    "id": "lUMZ5mwhZWwf",
    "outputId": "3919cd74-d963-4d9a-aaaa-e5d3c31b5902"
   },
   "outputs": [
    {
     "data": {
      "image/png": "[encoded data removed]",
      "text/plain": [
       "<Figure size 720x432 with 1 Axes>"
      ]
     },
     "metadata": {
      "needs_background": "light"
     },
     "output_type": "display_data"
    }
   ],
   "source": [
    "# abnormal 점수 계산\n",
    "score = model.score_samples(x_val)\n",
    "score = -1 * score\n",
    "\n",
    "plt.figure(figsize=(10,6))\n",
    "sns.histplot(score, kde = True)\n",
    "plt.show()"
   ]
  },
  {
   "cell_type": "code",
   "execution_count": 73,
   "metadata": {
    "id": "Wsegt9WlK3BL"
   },
   "outputs": [],
   "source": [
    "# scoring + 분류 : 중 상위 몇 %(contamination 지정한 비율)를 abnormal로 분류\n",
    "pred = model.predict(x_val)\n",
    "pred = np.where(pred == 1, 0, 1)"
   ]
  },
  {
   "cell_type": "code",
   "execution_count": 74,
   "metadata": {
    "colab": {
     "base_uri": "https://localhost:8080/"
    },
    "executionInfo": {
     "elapsed": 13,
     "status": "ok",
     "timestamp": 1645666161861,
     "user": {
      "displayName": "한기영",
      "photoUrl": "https://lh3.googleusercontent.com/a/default-user=s64",
      "userId": "13049187003176135487"
     },
     "user_tz": -540
    },
    "id": "zO142euLK3BL",
    "outputId": "b153dce9-7952-4d65-9af3-06c984f1a566"
   },
   "outputs": [
    {
     "name": "stdout",
     "output_type": "stream",
     "text": [
      "[[5408   37]\n",
      " [  37    0]]\n",
      "              precision    recall  f1-score   support\n",
      "\n",
      "         0.0       0.99      0.99      0.99      5445\n",
      "         1.0       0.00      0.00      0.00        37\n",
      "\n",
      "    accuracy                           0.99      5482\n",
      "   macro avg       0.50      0.50      0.50      5482\n",
      "weighted avg       0.99      0.99      0.99      5482\n",
      "\n"
     ]
    }
   ],
   "source": [
    "# 분류 결과를 평가해 봅시다.\n",
    "print(confusion_matrix(y_val, pred))\n",
    "print(classification_report(y_val, pred))"
   ]
  },
  {
   "cell_type": "code",
   "execution_count": 62,
   "metadata": {
    "colab": {
     "base_uri": "https://localhost:8080/",
     "height": 534
    },
    "executionInfo": {
     "elapsed": 591,
     "status": "ok",
     "timestamp": 1645666162448,
     "user": {
      "displayName": "한기영",
      "photoUrl": "https://lh3.googleusercontent.com/a/default-user=s64",
      "userId": "13049187003176135487"
     },
     "user_tz": -540
    },
    "id": "jewwsU8EZFyP",
    "outputId": "a0a9feee-5b04-48b7-8df2-232864d84a3d"
   },
   "outputs": [
    {
     "name": "stderr",
     "output_type": "stream",
     "text": [
      "<ipython-input-3-25383147e64e>:6: RuntimeWarning: divide by zero encountered in true_divide\n",
      "  f1 = 2 / (1/precision + 1/recall)\n"
     ]
    },
    {
     "data": {
      "image/png": "[encoded data removed]",
      "text/plain": [
       "<Figure size 720x432 with 1 Axes>"
      ]
     },
     "metadata": {
      "needs_background": "light"
     },
     "output_type": "display_data"
    }
   ],
   "source": [
    "plt.figure(figsize = (10,6))\n",
    "precision, recall, f1, thresholds = prec_rec_f1_curve(y_val, score)"
   ]
  },
  {
   "cell_type": "code",
   "execution_count": 63,
   "metadata": {
    "colab": {
     "base_uri": "https://localhost:8080/"
    },
    "executionInfo": {
     "elapsed": 25,
     "status": "ok",
     "timestamp": 1645666162450,
     "user": {
      "displayName": "한기영",
      "photoUrl": "https://lh3.googleusercontent.com/a/default-user=s64",
      "userId": "13049187003176135487"
     },
     "user_tz": -540
    },
    "id": "X76-51NmaV5M",
    "outputId": "6c871c81-bfcf-4e61-dd9c-e0da036ca8e3"
   },
   "outputs": [
    {
     "name": "stdout",
     "output_type": "stream",
     "text": [
      "0.4217602184139294\n"
     ]
    }
   ],
   "source": [
    "# f1 score를 최대화 해주는 threshold 값\n",
    "thresh_max = thresholds[np.argmax(f1)]\n",
    "print(thresh_max)"
   ]
  },
  {
   "cell_type": "code",
   "execution_count": 64,
   "metadata": {
    "colab": {
     "base_uri": "https://localhost:8080/"
    },
    "executionInfo": {
     "elapsed": 521,
     "status": "ok",
     "timestamp": 1645666162951,
     "user": {
      "displayName": "한기영",
      "photoUrl": "https://lh3.googleusercontent.com/a/default-user=s64",
      "userId": "13049187003176135487"
     },
     "user_tz": -540
    },
    "id": "OzQD9GmLahzJ",
    "outputId": "e029e6e5-a370-418a-9acc-26572209b7fc"
   },
   "outputs": [
    {
     "name": "stdout",
     "output_type": "stream",
     "text": [
      "< confusion matrix >\n",
      "\n",
      "[[5121  324]\n",
      " [  30    7]]\n",
      "\n",
      "============================================================\n",
      "\n",
      "< classification_report >\n",
      "\n",
      "              precision    recall  f1-score   support\n",
      "\n",
      "         0.0       0.99      0.94      0.97      5445\n",
      "         1.0       0.02      0.19      0.04        37\n",
      "\n",
      "    accuracy                           0.94      5482\n",
      "   macro avg       0.51      0.56      0.50      5482\n",
      "weighted avg       0.99      0.94      0.96      5482\n",
      "\n"
     ]
    },
    {
     "data": {
      "text/plain": [
       "array([[5121,  324],\n",
       "       [  30,    7]], dtype=int64)"
      ]
     },
     "execution_count": 64,
     "metadata": {},
     "output_type": "execute_result"
    }
   ],
   "source": [
    "classification_report2(y_val, score, thresh_max)"
   ]
  },
  {
   "cell_type": "markdown",
   "metadata": {
    "id": "jCRPtXuyLAUv"
   },
   "source": [
    "## 4.성능 비교\n",
    "\n",
    "* 성능 평가 : F1 Score\n"
   ]
  },
  {
   "cell_type": "code",
   "execution_count": 35,
   "metadata": {
    "colab": {
     "base_uri": "https://localhost:8080/"
    },
    "executionInfo": {
     "elapsed": 20,
     "status": "ok",
     "timestamp": 1645666162952,
     "user": {
      "displayName": "한기영",
      "photoUrl": "https://lh3.googleusercontent.com/a/default-user=s64",
      "userId": "13049187003176135487"
     },
     "user_tz": -540
    },
    "id": "WZxvGFPJLAUw",
    "outputId": "a7bd801d-4edf-4fb0-a902-79db4ff617fe"
   },
   "outputs": [
    {
     "name": "stdout",
     "output_type": "stream",
     "text": [
      "0.021857923497267756\n",
      "-------------------------------------------------------\n",
      "[[4034 1411]\n",
      " [  21   16]]\n",
      "-------------------------------------------------------\n",
      "              precision    recall  f1-score   support\n",
      "\n",
      "         0.0       0.99      0.74      0.85      5445\n",
      "         1.0       0.01      0.43      0.02        37\n",
      "\n",
      "    accuracy                           0.74      5482\n",
      "   macro avg       0.50      0.59      0.44      5482\n",
      "weighted avg       0.99      0.74      0.84      5482\n",
      "\n"
     ]
    }
   ],
   "source": [
    "# resampling\n",
    "\n",
    "print(f1_score(y_val,pred_u, pos_label=1))\n",
    "print('-' * 55)\n",
    "print(confusion_matrix(y_val, pred_u))\n",
    "print('-' * 55)\n",
    "print(classification_report(y_val, pred_u))"
   ]
  },
  {
   "cell_type": "code",
   "execution_count": 36,
   "metadata": {
    "colab": {
     "base_uri": "https://localhost:8080/"
    },
    "executionInfo": {
     "elapsed": 17,
     "status": "ok",
     "timestamp": 1645666162952,
     "user": {
      "displayName": "한기영",
      "photoUrl": "https://lh3.googleusercontent.com/a/default-user=s64",
      "userId": "13049187003176135487"
     },
     "user_tz": -540
    },
    "id": "w7573i9aLAUw",
    "outputId": "e72fbab4-608e-43aa-da14-1e78d44ed272"
   },
   "outputs": [
    {
     "name": "stdout",
     "output_type": "stream",
     "text": [
      "0.02097470697100555\n",
      "-------------------------------------------------------\n",
      "[[3878 1567]\n",
      " [  20   17]]\n",
      "-------------------------------------------------------\n",
      "              precision    recall  f1-score   support\n",
      "\n",
      "         0.0       0.99      0.71      0.83      5445\n",
      "         1.0       0.01      0.46      0.02        37\n",
      "\n",
      "    accuracy                           0.71      5482\n",
      "   macro avg       0.50      0.59      0.43      5482\n",
      "weighted avg       0.99      0.71      0.82      5482\n",
      "\n"
     ]
    }
   ],
   "source": [
    "# class weights 조정\n",
    "\n",
    "print(f1_score(y_val,pred_cw, pos_label=1))\n",
    "print('-' * 55)\n",
    "print(confusion_matrix(y_val, pred_cw))\n",
    "print('-' * 55)\n",
    "print(classification_report(y_val, pred_cw))"
   ]
  },
  {
   "cell_type": "code",
   "execution_count": 37,
   "metadata": {
    "colab": {
     "base_uri": "https://localhost:8080/"
    },
    "executionInfo": {
     "elapsed": 14,
     "status": "ok",
     "timestamp": 1645666162953,
     "user": {
      "displayName": "한기영",
      "photoUrl": "https://lh3.googleusercontent.com/a/default-user=s64",
      "userId": "13049187003176135487"
     },
     "user_tz": -540
    },
    "id": "mJu5M4UkLAUw",
    "outputId": "56cc15d1-c977-41d5-9d9a-8f50fd3ce4aa"
   },
   "outputs": [
    {
     "name": "stdout",
     "output_type": "stream",
     "text": [
      "< confusion matrix >\n",
      "\n",
      "[[5224  221]\n",
      " [  32    5]]\n",
      "\n",
      "============================================================\n",
      "\n",
      "< classification_report >\n",
      "\n",
      "              precision    recall  f1-score   support\n",
      "\n",
      "         0.0       0.99      0.96      0.98      5445\n",
      "         1.0       0.02      0.14      0.04        37\n",
      "\n",
      "    accuracy                           0.95      5482\n",
      "   macro avg       0.51      0.55      0.51      5482\n",
      "weighted avg       0.99      0.95      0.97      5482\n",
      "\n"
     ]
    },
    {
     "data": {
      "text/plain": [
       "array([[5224,  221],\n",
       "       [  32,    5]], dtype=int64)"
      ]
     },
     "execution_count": 37,
     "metadata": {},
     "output_type": "execute_result"
    }
   ],
   "source": [
    "# isolation forest\n",
    "classification_report2(y_val, score, thresh_max)\n"
   ]
  }
 ],
 "metadata": {
  "colab": {
   "collapsed_sections": [
    "E9wqfAgXeKNS",
    "-umHs8mEk0h2",
    "XiD3ZxjrghkX"
   ],
   "name": "종합실습1_답.ipynb",
   "provenance": [],
   "toc_visible": true
  },
  "kernelspec": {
   "display_name": "Python 3",
   "language": "python",
   "name": "python3"
  },
  "language_info": {
   "codemirror_mode": {
    "name": "ipython",
    "version": 3
   },
   "file_extension": ".py",
   "mimetype": "text/x-python",
   "name": "python",
   "nbconvert_exporter": "python",
   "pygments_lexer": "ipython3",
   "version": "3.8.8"
  }
 },
 "nbformat": 4,
 "nbformat_minor": 4
}
