{
 "cells": [
  {
   "cell_type": "markdown",
   "metadata": {
    "id": "H2PiE6pYmBv7"
   },
   "source": [
    "# Resampling\n",
    "\n"
   ]
  },
  {
   "cell_type": "markdown",
   "metadata": {
    "id": "Wyg1gRj8ZxMK"
   },
   "source": [
    "## 0.환경준비"
   ]
  },
  {
   "cell_type": "markdown",
   "metadata": {
    "id": "dSsCFlrNaQQW"
   },
   "source": [
    "### 0.1 라이브러리 로딩"
   ]
  },
  {
   "cell_type": "code",
   "execution_count": 1,
   "metadata": {
    "executionInfo": {
     "elapsed": 846,
     "status": "ok",
     "timestamp": 1646362678526,
     "user": {
      "displayName": "한기영",
      "photoUrl": "https://lh3.googleusercontent.com/a/default-user=s64",
      "userId": "13049187003176135487"
     },
     "user_tz": -540
    },
    "id": "6g46eHDnW2QX"
   },
   "outputs": [],
   "source": [
    "import pandas as pd\n",
    "import numpy as np\n",
    "import matplotlib.pyplot as plt\n",
    "import seaborn as sns\n",
    "\n",
    "import warnings\n",
    "warnings.simplefilter(action='ignore', category=FutureWarning)"
   ]
  },
  {
   "cell_type": "markdown",
   "metadata": {
    "id": "oivLe5kRaO8V"
   },
   "source": [
    "### 0.2 데이터 로딩"
   ]
  },
  {
   "cell_type": "markdown",
   "metadata": {
    "id": "Ly9-R3Pyd-2L"
   },
   "source": [
    "> 예제 데이터는 반도체 공정간 불량을 예측하는 데이터입니다.  \n",
    "여기서는 class imbalance 에 대한 샘플링과 성능에만 초점을 맞추겠습니다.\n"
   ]
  },
  {
   "cell_type": "code",
   "execution_count": 2,
   "metadata": {
    "executionInfo": {
     "elapsed": 546,
     "status": "ok",
     "timestamp": 1646362679070,
     "user": {
      "displayName": "한기영",
      "photoUrl": "https://lh3.googleusercontent.com/a/default-user=s64",
      "userId": "13049187003176135487"
     },
     "user_tz": -540
    },
    "id": "4LQpkcFgm50W"
   },
   "outputs": [],
   "source": [
    "# data data\n",
    "path = \"https://raw.githubusercontent.com/DA4BAM/dataset/master/Attrition2.csv\"\n",
    "data = pd.read_csv(path)"
   ]
  },
  {
   "cell_type": "markdown",
   "metadata": {
    "id": "Gj8GcKR3ar5B"
   },
   "source": [
    "## 1.데이터 탐색"
   ]
  },
  {
   "cell_type": "markdown",
   "metadata": {
    "id": "7jFZPpHLjJwB"
   },
   "source": [
    "\n",
    "* 데이터의 크기를 살펴봅시다."
   ]
  },
  {
   "cell_type": "code",
   "execution_count": 3,
   "metadata": {
    "colab": {
     "base_uri": "https://localhost:8080/"
    },
    "executionInfo": {
     "elapsed": 14,
     "status": "ok",
     "timestamp": 1646362679071,
     "user": {
      "displayName": "한기영",
      "photoUrl": "https://lh3.googleusercontent.com/a/default-user=s64",
      "userId": "13049187003176135487"
     },
     "user_tz": -540
    },
    "id": "WTmIn3nkZpVx",
    "outputId": "2fb0db90-676f-41a4-806d-21b6c52d4a2b"
   },
   "outputs": [
    {
     "data": {
      "text/plain": [
       "(1150, 17)"
      ]
     },
     "execution_count": 3,
     "metadata": {},
     "output_type": "execute_result"
    }
   ],
   "source": [
    "data.shape"
   ]
  },
  {
   "cell_type": "code",
   "execution_count": 4,
   "metadata": {
    "colab": {
     "base_uri": "https://localhost:8080/",
     "height": 357
    },
    "executionInfo": {
     "elapsed": 9,
     "status": "ok",
     "timestamp": 1646362679072,
     "user": {
      "displayName": "한기영",
      "photoUrl": "https://lh3.googleusercontent.com/a/default-user=s64",
      "userId": "13049187003176135487"
     },
     "user_tz": -540
    },
    "id": "slQzhe7LXVug",
    "outputId": "14f423ac-424c-44e2-e625-2fb83ff87104"
   },
   "outputs": [
    {
     "data": {
      "text/html": [
       "<div>\n",
       "<style scoped>\n",
       "    .dataframe tbody tr th:only-of-type {\n",
       "        vertical-align: middle;\n",
       "    }\n",
       "\n",
       "    .dataframe tbody tr th {\n",
       "        vertical-align: top;\n",
       "    }\n",
       "\n",
       "    .dataframe thead th {\n",
       "        text-align: right;\n",
       "    }\n",
       "</style>\n",
       "<table border=\"1\" class=\"dataframe\">\n",
       "  <thead>\n",
       "    <tr style=\"text-align: right;\">\n",
       "      <th></th>\n",
       "      <th>Attrition</th>\n",
       "      <th>Age</th>\n",
       "      <th>Department</th>\n",
       "      <th>DistanceFromHome</th>\n",
       "      <th>Education</th>\n",
       "      <th>EducationField</th>\n",
       "      <th>Gender</th>\n",
       "      <th>JobRole</th>\n",
       "      <th>JobSatisfaction</th>\n",
       "      <th>MaritalStatus</th>\n",
       "      <th>MonthlyIncome</th>\n",
       "      <th>NumCompaniesWorked</th>\n",
       "      <th>RelationshipSatisfaction</th>\n",
       "      <th>TotalWorkingYears</th>\n",
       "      <th>TrainingTimesLastYear</th>\n",
       "      <th>WorkLifeBalance</th>\n",
       "      <th>YearsAtCompany</th>\n",
       "    </tr>\n",
       "  </thead>\n",
       "  <tbody>\n",
       "    <tr>\n",
       "      <th>0</th>\n",
       "      <td>0</td>\n",
       "      <td>28</td>\n",
       "      <td>Research &amp; Development</td>\n",
       "      <td>1</td>\n",
       "      <td>3</td>\n",
       "      <td>Medical</td>\n",
       "      <td>Female</td>\n",
       "      <td>Research Scientist</td>\n",
       "      <td>1</td>\n",
       "      <td>Married</td>\n",
       "      <td>3591</td>\n",
       "      <td>1</td>\n",
       "      <td>3</td>\n",
       "      <td>3</td>\n",
       "      <td>3</td>\n",
       "      <td>3</td>\n",
       "      <td>3</td>\n",
       "    </tr>\n",
       "    <tr>\n",
       "      <th>1</th>\n",
       "      <td>1</td>\n",
       "      <td>37</td>\n",
       "      <td>Research &amp; Development</td>\n",
       "      <td>2</td>\n",
       "      <td>2</td>\n",
       "      <td>Other</td>\n",
       "      <td>Male</td>\n",
       "      <td>Laboratory Technician</td>\n",
       "      <td>3</td>\n",
       "      <td>Single</td>\n",
       "      <td>2090</td>\n",
       "      <td>6</td>\n",
       "      <td>2</td>\n",
       "      <td>7</td>\n",
       "      <td>3</td>\n",
       "      <td>3</td>\n",
       "      <td>0</td>\n",
       "    </tr>\n",
       "    <tr>\n",
       "      <th>2</th>\n",
       "      <td>0</td>\n",
       "      <td>27</td>\n",
       "      <td>Research &amp; Development</td>\n",
       "      <td>8</td>\n",
       "      <td>5</td>\n",
       "      <td>Life Sciences</td>\n",
       "      <td>Male</td>\n",
       "      <td>Laboratory Technician</td>\n",
       "      <td>3</td>\n",
       "      <td>Married</td>\n",
       "      <td>4621</td>\n",
       "      <td>1</td>\n",
       "      <td>4</td>\n",
       "      <td>3</td>\n",
       "      <td>4</td>\n",
       "      <td>3</td>\n",
       "      <td>3</td>\n",
       "    </tr>\n",
       "    <tr>\n",
       "      <th>3</th>\n",
       "      <td>0</td>\n",
       "      <td>18</td>\n",
       "      <td>Research &amp; Development</td>\n",
       "      <td>1</td>\n",
       "      <td>3</td>\n",
       "      <td>Life Sciences</td>\n",
       "      <td>Female</td>\n",
       "      <td>Laboratory Technician</td>\n",
       "      <td>4</td>\n",
       "      <td>Single</td>\n",
       "      <td>1611</td>\n",
       "      <td>1</td>\n",
       "      <td>3</td>\n",
       "      <td>0</td>\n",
       "      <td>5</td>\n",
       "      <td>4</td>\n",
       "      <td>0</td>\n",
       "    </tr>\n",
       "    <tr>\n",
       "      <th>4</th>\n",
       "      <td>0</td>\n",
       "      <td>29</td>\n",
       "      <td>Research &amp; Development</td>\n",
       "      <td>9</td>\n",
       "      <td>3</td>\n",
       "      <td>Life Sciences</td>\n",
       "      <td>Male</td>\n",
       "      <td>Research Scientist</td>\n",
       "      <td>3</td>\n",
       "      <td>Married</td>\n",
       "      <td>2451</td>\n",
       "      <td>6</td>\n",
       "      <td>1</td>\n",
       "      <td>5</td>\n",
       "      <td>2</td>\n",
       "      <td>2</td>\n",
       "      <td>1</td>\n",
       "    </tr>\n",
       "  </tbody>\n",
       "</table>\n",
       "</div>"
      ],
      "text/plain": [
       "   Attrition  Age              Department  DistanceFromHome  Education  \\\n",
       "0          0   28  Research & Development                 1          3   \n",
       "1          1   37  Research & Development                 2          2   \n",
       "2          0   27  Research & Development                 8          5   \n",
       "3          0   18  Research & Development                 1          3   \n",
       "4          0   29  Research & Development                 9          3   \n",
       "\n",
       "  EducationField  Gender                JobRole  JobSatisfaction  \\\n",
       "0        Medical  Female     Research Scientist                1   \n",
       "1          Other    Male  Laboratory Technician                3   \n",
       "2  Life Sciences    Male  Laboratory Technician                3   \n",
       "3  Life Sciences  Female  Laboratory Technician                4   \n",
       "4  Life Sciences    Male     Research Scientist                3   \n",
       "\n",
       "  MaritalStatus  MonthlyIncome  NumCompaniesWorked  RelationshipSatisfaction  \\\n",
       "0       Married           3591                   1                         3   \n",
       "1        Single           2090                   6                         2   \n",
       "2       Married           4621                   1                         4   \n",
       "3        Single           1611                   1                         3   \n",
       "4       Married           2451                   6                         1   \n",
       "\n",
       "   TotalWorkingYears  TrainingTimesLastYear  WorkLifeBalance  YearsAtCompany  \n",
       "0                  3                      3                3               3  \n",
       "1                  7                      3                3               0  \n",
       "2                  3                      4                3               3  \n",
       "3                  0                      5                4               0  \n",
       "4                  5                      2                2               1  "
      ]
     },
     "execution_count": 4,
     "metadata": {},
     "output_type": "execute_result"
    }
   ],
   "source": [
    "data.head()"
   ]
  },
  {
   "cell_type": "code",
   "execution_count": 5,
   "metadata": {
    "executionInfo": {
     "elapsed": 8,
     "status": "ok",
     "timestamp": 1646362679073,
     "user": {
      "displayName": "한기영",
      "photoUrl": "https://lh3.googleusercontent.com/a/default-user=s64",
      "userId": "13049187003176135487"
     },
     "user_tz": -540
    },
    "id": "SYF_0NUhMhjD"
   },
   "outputs": [],
   "source": [
    "target = 'Attrition'"
   ]
  },
  {
   "cell_type": "code",
   "execution_count": 6,
   "metadata": {
    "colab": {
     "base_uri": "https://localhost:8080/",
     "height": 320
    },
    "executionInfo": {
     "elapsed": 655,
     "status": "ok",
     "timestamp": 1646133417792,
     "user": {
      "displayName": "한기영",
      "photoUrl": "https://lh3.googleusercontent.com/a/default-user=s64",
      "userId": "13049187003176135487"
     },
     "user_tz": -540
    },
    "id": "L5GD5KkKcGjP",
    "outputId": "cdbdd089-54d5-4f31-fba4-13493ce76bcc"
   },
   "outputs": [
    {
     "name": "stdout",
     "output_type": "stream",
     "text": [
      "0    1050\n",
      "1     100\n",
      "Name: Attrition, dtype: int64\n"
     ]
    },
    {
     "data": {
      "image/png": "[encoded data removed]",
      "text/plain": [
       "<Figure size 432x288 with 1 Axes>"
      ]
     },
     "metadata": {
      "needs_background": "light"
     },
     "output_type": "display_data"
    }
   ],
   "source": [
    "print(data[target].value_counts())\n",
    "\n",
    "data[target].value_counts().plot(kind = 'barh')\n",
    "plt.show()"
   ]
  },
  {
   "cell_type": "markdown",
   "metadata": {
    "id": "gym6dx7Dppnc"
   },
   "source": [
    "## 2.데이터 준비\n"
   ]
  },
  {
   "cell_type": "markdown",
   "metadata": {
    "id": "y_pRV_lk0__5"
   },
   "source": [
    "### 2.1 x, y로 나누기 "
   ]
  },
  {
   "cell_type": "code",
   "execution_count": 7,
   "metadata": {
    "id": "P7JbxUGr1FEi"
   },
   "outputs": [],
   "source": [
    "x = data.drop(target, axis = 1)\n",
    "y = data.loc[:,target]"
   ]
  },
  {
   "cell_type": "markdown",
   "metadata": {
    "id": "akoLc7fx1g2t"
   },
   "source": [
    "### 2.2 가변수화"
   ]
  },
  {
   "cell_type": "code",
   "execution_count": 8,
   "metadata": {
    "id": "qIgeJ7aNM36G"
   },
   "outputs": [],
   "source": [
    "dummy_vars = ['Education','Department','EducationField','Gender','JobRole','JobSatisfaction','MaritalStatus',\n",
    "              'RelationshipSatisfaction','WorkLifeBalance'] # 가변수화 대상 변수 이름 리스트 만든다\n",
    "x = pd.get_dummies(x, columns = dummy_vars, drop_first=True) "
   ]
  },
  {
   "cell_type": "markdown",
   "metadata": {
    "id": "8v3UyL572Ypi"
   },
   "source": [
    "### 2.3 train : validation 분할"
   ]
  },
  {
   "cell_type": "code",
   "execution_count": 9,
   "metadata": {
    "id": "HGhXkvBTmfUO"
   },
   "outputs": [],
   "source": [
    "from sklearn.model_selection import train_test_split"
   ]
  },
  {
   "cell_type": "code",
   "execution_count": 10,
   "metadata": {
    "id": "eqAnzAbDikcr"
   },
   "outputs": [],
   "source": [
    "x_train, x_val, y_train, y_val = train_test_split(x, y, test_size = .3, random_state = 2022)"
   ]
  },
  {
   "cell_type": "code",
   "execution_count": 11,
   "metadata": {
    "colab": {
     "base_uri": "https://localhost:8080/"
    },
    "executionInfo": {
     "elapsed": 2,
     "status": "ok",
     "timestamp": 1646133488740,
     "user": {
      "displayName": "한기영",
      "photoUrl": "https://lh3.googleusercontent.com/a/default-user=s64",
      "userId": "13049187003176135487"
     },
     "user_tz": -540
    },
    "id": "mg2Tp4G9UhuG",
    "outputId": "cef66e43-dc9a-40d3-8475-96804cb9b5cb"
   },
   "outputs": [
    {
     "data": {
      "text/plain": [
       "(805, 38)"
      ]
     },
     "execution_count": 11,
     "metadata": {},
     "output_type": "execute_result"
    }
   ],
   "source": [
    "x_train.shape"
   ]
  },
  {
   "cell_type": "markdown",
   "metadata": {
    "id": "LAzxx0nkh1LX"
   },
   "source": [
    "## 3.모델링 with Resampling"
   ]
  },
  {
   "cell_type": "code",
   "execution_count": 12,
   "metadata": {
    "id": "6VkF0-iXijKk"
   },
   "outputs": [],
   "source": [
    "# 필요한 라이브러리, 함수들을 불러옵시다.\n",
    "from sklearn.linear_model import LogisticRegression\n",
    "from sklearn.metrics import *"
   ]
  },
  {
   "cell_type": "markdown",
   "metadata": {
    "id": "Z1XvZlGFcHbn"
   },
   "source": [
    "### 3.1 기본 모델링\n",
    "\n",
    "* 로지스틱 회귀 + 데이터 그대로 이용"
   ]
  },
  {
   "cell_type": "code",
   "execution_count": 13,
   "metadata": {
    "colab": {
     "base_uri": "https://localhost:8080/"
    },
    "executionInfo": {
     "elapsed": 334,
     "status": "ok",
     "timestamp": 1646133499827,
     "user": {
      "displayName": "한기영",
      "photoUrl": "https://lh3.googleusercontent.com/a/default-user=s64",
      "userId": "13049187003176135487"
     },
     "user_tz": -540
    },
    "id": "01zxVgqYI797",
    "outputId": "07e644ea-35b3-4331-9587-232ae6f64cf1"
   },
   "outputs": [
    {
     "name": "stdout",
     "output_type": "stream",
     "text": [
      "[[323   0]\n",
      " [ 22   0]]\n",
      "-------------------------------------------------------\n",
      "              precision    recall  f1-score   support\n",
      "\n",
      "           0       0.94      1.00      0.97       323\n",
      "           1       0.00      0.00      0.00        22\n",
      "\n",
      "    accuracy                           0.94       345\n",
      "   macro avg       0.47      0.50      0.48       345\n",
      "weighted avg       0.88      0.94      0.91       345\n",
      "\n"
     ]
    },
    {
     "name": "stderr",
     "output_type": "stream",
     "text": [
      "C:\\ProgramData\\Anaconda3\\lib\\site-packages\\sklearn\\linear_model\\_logistic.py:814: ConvergenceWarning: lbfgs failed to converge (status=1):\n",
      "STOP: TOTAL NO. of ITERATIONS REACHED LIMIT.\n",
      "\n",
      "Increase the number of iterations (max_iter) or scale the data as shown in:\n",
      "    https://scikit-learn.org/stable/modules/preprocessing.html\n",
      "Please also refer to the documentation for alternative solver options:\n",
      "    https://scikit-learn.org/stable/modules/linear_model.html#logistic-regression\n",
      "  n_iter_i = _check_optimize_result(\n",
      "C:\\ProgramData\\Anaconda3\\lib\\site-packages\\sklearn\\metrics\\_classification.py:1318: UndefinedMetricWarning: Precision and F-score are ill-defined and being set to 0.0 in labels with no predicted samples. Use `zero_division` parameter to control this behavior.\n",
      "  _warn_prf(average, modifier, msg_start, len(result))\n",
      "C:\\ProgramData\\Anaconda3\\lib\\site-packages\\sklearn\\metrics\\_classification.py:1318: UndefinedMetricWarning: Precision and F-score are ill-defined and being set to 0.0 in labels with no predicted samples. Use `zero_division` parameter to control this behavior.\n",
      "  _warn_prf(average, modifier, msg_start, len(result))\n",
      "C:\\ProgramData\\Anaconda3\\lib\\site-packages\\sklearn\\metrics\\_classification.py:1318: UndefinedMetricWarning: Precision and F-score are ill-defined and being set to 0.0 in labels with no predicted samples. Use `zero_division` parameter to control this behavior.\n",
      "  _warn_prf(average, modifier, msg_start, len(result))\n"
     ]
    }
   ],
   "source": [
    "model = LogisticRegression()\n",
    "model.fit(x_train, y_train)\n",
    "pred = model.predict(x_val)\n",
    "\n",
    "print(confusion_matrix(y_val, pred))\n",
    "print('-' * 55)\n",
    "print(classification_report(y_val, pred))"
   ]
  },
  {
   "cell_type": "markdown",
   "metadata": {
    "id": "gfNDoww0Nh9s"
   },
   "source": [
    "LogisticRegression : https://scikit-learn.org/stable/modules/generated/sklearn.linear_model.LogisticRegression.html  \n",
    "* 이전 버전 solver = 'liblinear'\n",
    "* 최근 버전 solver = 'lbfgs' (max_iter 옵션 경고 문구들이 발생)"
   ]
  },
  {
   "cell_type": "code",
   "execution_count": 14,
   "metadata": {
    "colab": {
     "base_uri": "https://localhost:8080/"
    },
    "executionInfo": {
     "elapsed": 353,
     "status": "ok",
     "timestamp": 1646133837723,
     "user": {
      "displayName": "한기영",
      "photoUrl": "https://lh3.googleusercontent.com/a/default-user=s64",
      "userId": "13049187003176135487"
     },
     "user_tz": -540
    },
    "id": "fORgKs5pNBd7",
    "outputId": "13a40ff6-cb6c-4d00-8f4a-8b03ad1bdf58"
   },
   "outputs": [
    {
     "name": "stdout",
     "output_type": "stream",
     "text": [
      "[[321   2]\n",
      " [ 20   2]]\n",
      "-------------------------------------------------------\n",
      "              precision    recall  f1-score   support\n",
      "\n",
      "           0       0.94      0.99      0.97       323\n",
      "           1       0.50      0.09      0.15        22\n",
      "\n",
      "    accuracy                           0.94       345\n",
      "   macro avg       0.72      0.54      0.56       345\n",
      "weighted avg       0.91      0.94      0.92       345\n",
      "\n"
     ]
    }
   ],
   "source": [
    "model = LogisticRegression(solver = 'liblinear')\n",
    "model.fit(x_train, y_train)\n",
    "pred = model.predict(x_val)\n",
    "\n",
    "print(confusion_matrix(y_val, pred))\n",
    "print('-' * 55)\n",
    "print(classification_report(y_val, pred))"
   ]
  },
  {
   "cell_type": "markdown",
   "metadata": {
    "id": "XRXceUpoTJrw"
   },
   "source": [
    "### 3.2 모델링 with Resampling"
   ]
  },
  {
   "cell_type": "markdown",
   "metadata": {
    "id": "CPmxZ4CLGRhv"
   },
   "source": [
    "* Down Sampling + 로지스틱 회귀\n",
    "    * Resamlpling\n",
    "    * 모델링\n",
    "    * 평가 : confusion_matrix, classification_report"
   ]
  },
  {
   "cell_type": "code",
   "execution_count": 15,
   "metadata": {
    "executionInfo": {
     "elapsed": 572,
     "status": "ok",
     "timestamp": 1646366621404,
     "user": {
      "displayName": "한기영",
      "photoUrl": "https://lh3.googleusercontent.com/a/default-user=s64",
      "userId": "13049187003176135487"
     },
     "user_tz": -540
    },
    "id": "yoVgXE2mTneb"
   },
   "outputs": [],
   "source": [
    "from imblearn.under_sampling import RandomUnderSampler\n",
    "from imblearn.over_sampling import RandomOverSampler, SMOTE"
   ]
  },
  {
   "cell_type": "code",
   "execution_count": 16,
   "metadata": {
    "colab": {
     "base_uri": "https://localhost:8080/"
    },
    "executionInfo": {
     "elapsed": 383,
     "status": "ok",
     "timestamp": 1646133854714,
     "user": {
      "displayName": "한기영",
      "photoUrl": "https://lh3.googleusercontent.com/a/default-user=s64",
      "userId": "13049187003176135487"
     },
     "user_tz": -540
    },
    "id": "h9s8eoDcTJrw",
    "outputId": "d4f00a05-5579-42fd-d7b6-f5d5dd38a169"
   },
   "outputs": [
    {
     "name": "stdout",
     "output_type": "stream",
     "text": [
      "[78 78]\n",
      "[0.5 0.5]\n",
      "0.2857142857142857\n",
      "-------------------------------------------------------\n",
      "[[225  98]\n",
      " [  2  20]]\n",
      "-------------------------------------------------------\n",
      "              precision    recall  f1-score   support\n",
      "\n",
      "           0       0.99      0.70      0.82       323\n",
      "           1       0.17      0.91      0.29        22\n",
      "\n",
      "    accuracy                           0.71       345\n",
      "   macro avg       0.58      0.80      0.55       345\n",
      "weighted avg       0.94      0.71      0.78       345\n",
      "\n"
     ]
    }
   ],
   "source": [
    "# down sampling\n",
    "down_sample = RandomUnderSampler()\n",
    "d_x_train, d_y_train = down_sample.fit_resample(x_train, y_train)\n",
    "\n",
    "print(np.bincount(d_y_train))\n",
    "print(np.bincount(d_y_train) / d_y_train.shape[0])\n",
    "\n",
    "model_d = LogisticRegression(solver = 'liblinear')\n",
    "model_d.fit(d_x_train, d_y_train)\n",
    "pred_d = model_d.predict(x_val)\n",
    "\n",
    "print(f1_score(y_val,pred_d, pos_label=1))\n",
    "print('-' * 55)\n",
    "print(confusion_matrix(y_val, pred_d))\n",
    "print('-' * 55)\n",
    "print(classification_report(y_val, pred_d))"
   ]
  },
  {
   "cell_type": "markdown",
   "metadata": {
    "id": "jCFX-X9qHdqW"
   },
   "source": [
    "* Up Sampling + 로지스틱 회귀\n",
    "    * Resamlpling\n",
    "    * 모델링\n",
    "    * 평가 : confusion_matrix, classification_report"
   ]
  },
  {
   "cell_type": "code",
   "execution_count": 17,
   "metadata": {
    "colab": {
     "base_uri": "https://localhost:8080/"
    },
    "executionInfo": {
     "elapsed": 346,
     "status": "ok",
     "timestamp": 1646133856525,
     "user": {
      "displayName": "한기영",
      "photoUrl": "https://lh3.googleusercontent.com/a/default-user=s64",
      "userId": "13049187003176135487"
     },
     "user_tz": -540
    },
    "id": "thDUDnJETvJF",
    "outputId": "f2071526-c8c0-4dde-a79f-e8ec6395f4b0"
   },
   "outputs": [
    {
     "name": "stdout",
     "output_type": "stream",
     "text": [
      "[727 727]\n",
      "[0.5 0.5]\n",
      "0.28125\n",
      "-------------------------------------------------------\n",
      "[[235  88]\n",
      " [  4  18]]\n",
      "-------------------------------------------------------\n",
      "              precision    recall  f1-score   support\n",
      "\n",
      "           0       0.98      0.73      0.84       323\n",
      "           1       0.17      0.82      0.28        22\n",
      "\n",
      "    accuracy                           0.73       345\n",
      "   macro avg       0.58      0.77      0.56       345\n",
      "weighted avg       0.93      0.73      0.80       345\n",
      "\n"
     ]
    }
   ],
   "source": [
    "# up sampling\n",
    "up_sample = RandomOverSampler()\n",
    "u_x_train, u_y_train = up_sample.fit_resample(x_train, y_train)\n",
    "\n",
    "print(np.bincount(u_y_train))\n",
    "print(np.bincount(u_y_train) / u_y_train.shape[0])\n",
    "\n",
    "model_u = LogisticRegression(solver = 'liblinear')\n",
    "model_u.fit(u_x_train, u_y_train)\n",
    "pred_u = model_u.predict(x_val)\n",
    "\n",
    "print(f1_score(y_val,pred_u, pos_label=1))\n",
    "print('-' * 55)\n",
    "print(confusion_matrix(y_val, pred_u))\n",
    "print('-' * 55)\n",
    "print(classification_report(y_val, pred_u))"
   ]
  },
  {
   "cell_type": "markdown",
   "metadata": {
    "id": "RbcFCiLqHlN1"
   },
   "source": [
    "* SMOTE Sampling + 로지스틱 회귀\n",
    "    * Resamlpling\n",
    "    * 모델링\n",
    "    * 평가 : confusion_matrix, classification_report"
   ]
  },
  {
   "cell_type": "code",
   "execution_count": 18,
   "metadata": {
    "colab": {
     "base_uri": "https://localhost:8080/"
    },
    "executionInfo": {
     "elapsed": 2,
     "status": "ok",
     "timestamp": 1646133856877,
     "user": {
      "displayName": "한기영",
      "photoUrl": "https://lh3.googleusercontent.com/a/default-user=s64",
      "userId": "13049187003176135487"
     },
     "user_tz": -540
    },
    "id": "xTYLdVq9UREg",
    "outputId": "8e760dfb-ceaa-4b49-bff9-4b82fec52f63"
   },
   "outputs": [
    {
     "name": "stdout",
     "output_type": "stream",
     "text": [
      "[727 727]\n",
      "[0.5 0.5]\n",
      "0.28125\n",
      "-------------------------------------------------------\n",
      "[[235  88]\n",
      " [  4  18]]\n",
      "-------------------------------------------------------\n",
      "              precision    recall  f1-score   support\n",
      "\n",
      "           0       0.98      0.73      0.84       323\n",
      "           1       0.17      0.82      0.28        22\n",
      "\n",
      "    accuracy                           0.73       345\n",
      "   macro avg       0.58      0.77      0.56       345\n",
      "weighted avg       0.93      0.73      0.80       345\n",
      "\n"
     ]
    }
   ],
   "source": [
    "# SMOTE\n",
    "smote = SMOTE()\n",
    "s_x_train, s_y_train = smote.fit_resample(x_train, y_train)\n",
    "\n",
    "print(np.bincount(s_y_train))\n",
    "print(np.bincount(s_y_train) / s_y_train.shape[0])\n",
    "\n",
    "model_s = LogisticRegression(solver = 'liblinear')\n",
    "model_s.fit(s_x_train, s_y_train)\n",
    "pred_s = model_u.predict(x_val)\n",
    "\n",
    "print(f1_score(y_val,pred_s, pos_label=1))\n",
    "print('-' * 55)\n",
    "print(confusion_matrix(y_val, pred_s))\n",
    "print('-' * 55)\n",
    "print(classification_report(y_val, pred_s))"
   ]
  },
  {
   "cell_type": "markdown",
   "metadata": {
    "id": "e1jGTskNXV9y"
   },
   "source": [
    "### 3.3 각 resampling 기법별로 성능을 비교해 봅시다.\n",
    "여러번 반복실행한 다음 f1 score 성능 비교\n"
   ]
  },
  {
   "cell_type": "code",
   "execution_count": 19,
   "metadata": {
    "id": "eY9mL-WaXVfL"
   },
   "outputs": [],
   "source": [
    "def lr_modeling(x_train, y_train, x_val, y_val) :\n",
    "    m = LogisticRegression(solver = 'liblinear')\n",
    "    m.fit(x_train, y_train)\n",
    "    pred = m.predict(x_val)\n",
    "    return f1_score(y_val,pred, pos_label=1)"
   ]
  },
  {
   "cell_type": "code",
   "execution_count": 20,
   "metadata": {
    "id": "4uOQD_e7XbEq"
   },
   "outputs": [
    {
     "name": "stdout",
     "output_type": "stream",
     "text": [
      "0\n",
      "1\n",
      "2\n",
      "3\n",
      "4\n",
      "5\n",
      "6\n",
      "7\n",
      "8\n",
      "9\n",
      "10\n",
      "11\n",
      "12\n",
      "13\n",
      "14\n",
      "15\n",
      "16\n",
      "17\n",
      "18\n",
      "19\n",
      "20\n",
      "21\n",
      "22\n",
      "23\n",
      "24\n",
      "25\n",
      "26\n",
      "27\n",
      "28\n",
      "29\n",
      "30\n",
      "31\n",
      "32\n",
      "33\n",
      "34\n",
      "35\n",
      "36\n",
      "37\n",
      "38\n",
      "39\n",
      "40\n",
      "41\n",
      "42\n",
      "43\n",
      "44\n",
      "45\n",
      "46\n",
      "47\n",
      "48\n",
      "49\n"
     ]
    }
   ],
   "source": [
    "result_d, result_u, result_s = [], [], []\n",
    "\n",
    "for i in range(50):\n",
    "    x_train, x_val, y_train, y_val = train_test_split(x, y, test_size = .4)\n",
    "    d_x_train, d_y_train = down_sample.fit_resample(x_train, y_train)\n",
    "    u_x_train, u_y_train = up_sample.fit_resample(x_train, y_train)\n",
    "    s_x_train, s_y_train = smote.fit_resample(x_train, y_train)\n",
    "\n",
    "    result_d.append(lr_modeling(d_x_train, d_y_train, x_val, y_val))\n",
    "    result_u.append(lr_modeling(u_x_train, u_y_train, x_val, y_val))\n",
    "    result_s.append(lr_modeling(s_x_train, s_y_train, x_val, y_val))\n",
    "    print(i)"
   ]
  },
  {
   "cell_type": "code",
   "execution_count": 21,
   "metadata": {
    "colab": {
     "base_uri": "https://localhost:8080/",
     "height": 499
    },
    "executionInfo": {
     "elapsed": 571,
     "status": "ok",
     "timestamp": 1646133897903,
     "user": {
      "displayName": "한기영",
      "photoUrl": "https://lh3.googleusercontent.com/a/default-user=s64",
      "userId": "13049187003176135487"
     },
     "user_tz": -540
    },
    "id": "mFqdej3uYVdG",
    "outputId": "b85333c0-c055-4d6b-cde0-ce7e42c1d952"
   },
   "outputs": [
    {
     "data": {
      "image/png": "[encoded data removed]",
      "text/plain": [
       "<Figure size 864x576 with 1 Axes>"
      ]
     },
     "metadata": {
      "needs_background": "light"
     },
     "output_type": "display_data"
    }
   ],
   "source": [
    "# 그래프로 비교\n",
    "plt.figure(figsize=(12, 8))\n",
    "sns.kdeplot(result_d, label = 'down')\n",
    "sns.kdeplot(result_u, label = 'up')\n",
    "sns.kdeplot(result_s, label = 'smote' )\n",
    "\n",
    "plt.title('F1 Score')\n",
    "plt.legend()\n",
    "plt.grid()\n",
    "plt.show()\n"
   ]
  },
  {
   "cell_type": "markdown",
   "metadata": {
    "id": "f4m9CpAlDYUx"
   },
   "source": [
    "## 4.실습 : Semiconductor manufacturing process dataset\n"
   ]
  },
  {
   "cell_type": "markdown",
   "metadata": {
    "id": "KKJNXBfDPOoT"
   },
   "source": [
    "![](https://assets.pandaily.com/uploads/2021/10/semiconductor.png)"
   ]
  },
  {
   "cell_type": "markdown",
   "metadata": {
    "id": "47h5Hv4JQOgE"
   },
   "source": [
    "* 반도체 제조 공정은 시점별로 수많은 센서로부터 정보를 수집하여 공정을 감시합니다. \n",
    "* 센서정보와 함께 공정간 발생된 불량품에 대한 정보를 저장하였습니다.\n",
    "* 불량을 예측해 봅시다."
   ]
  },
  {
   "cell_type": "markdown",
   "metadata": {
    "id": "QdJ4vZmRDYUx"
   },
   "source": [
    "### 4.1 데이터 준비"
   ]
  },
  {
   "cell_type": "markdown",
   "metadata": {
    "id": "P96JFMWpDYUy"
   },
   "source": [
    "* 데이터 로딩"
   ]
  },
  {
   "cell_type": "code",
   "execution_count": 22,
   "metadata": {
    "colab": {
     "base_uri": "https://localhost:8080/",
     "height": 236
    },
    "executionInfo": {
     "elapsed": 616,
     "status": "ok",
     "timestamp": 1646366524217,
     "user": {
      "displayName": "한기영",
      "photoUrl": "https://lh3.googleusercontent.com/a/default-user=s64",
      "userId": "13049187003176135487"
     },
     "user_tz": -540
    },
    "id": "kqFX10WKDYUy",
    "outputId": "b3560e2d-994e-4951-974a-4840b31be398"
   },
   "outputs": [
    {
     "data": {
      "text/html": [
       "<div>\n",
       "<style scoped>\n",
       "    .dataframe tbody tr th:only-of-type {\n",
       "        vertical-align: middle;\n",
       "    }\n",
       "\n",
       "    .dataframe tbody tr th {\n",
       "        vertical-align: top;\n",
       "    }\n",
       "\n",
       "    .dataframe thead th {\n",
       "        text-align: right;\n",
       "    }\n",
       "</style>\n",
       "<table border=\"1\" class=\"dataframe\">\n",
       "  <thead>\n",
       "    <tr style=\"text-align: right;\">\n",
       "      <th></th>\n",
       "      <th>v021</th>\n",
       "      <th>v087</th>\n",
       "      <th>v088</th>\n",
       "      <th>v089</th>\n",
       "      <th>v114</th>\n",
       "      <th>v115</th>\n",
       "      <th>v116</th>\n",
       "      <th>v117</th>\n",
       "      <th>v118</th>\n",
       "      <th>v120</th>\n",
       "      <th>...</th>\n",
       "      <th>v528</th>\n",
       "      <th>v571</th>\n",
       "      <th>v572</th>\n",
       "      <th>v573</th>\n",
       "      <th>v574</th>\n",
       "      <th>v575</th>\n",
       "      <th>v576</th>\n",
       "      <th>v577</th>\n",
       "      <th>v578</th>\n",
       "      <th>label</th>\n",
       "    </tr>\n",
       "  </thead>\n",
       "  <tbody>\n",
       "    <tr>\n",
       "      <th>0</th>\n",
       "      <td>1.4026</td>\n",
       "      <td>2.3895</td>\n",
       "      <td>0.9690</td>\n",
       "      <td>1747.6049</td>\n",
       "      <td>0.9460</td>\n",
       "      <td>0.0</td>\n",
       "      <td>748.6115</td>\n",
       "      <td>0.9908</td>\n",
       "      <td>58.4306</td>\n",
       "      <td>0.9804</td>\n",
       "      <td>...</td>\n",
       "      <td>6.6926</td>\n",
       "      <td>533.8500</td>\n",
       "      <td>2.1113</td>\n",
       "      <td>8.95</td>\n",
       "      <td>0.3157</td>\n",
       "      <td>3.0624</td>\n",
       "      <td>0.1026</td>\n",
       "      <td>1.6765</td>\n",
       "      <td>14.9509</td>\n",
       "      <td>0</td>\n",
       "    </tr>\n",
       "    <tr>\n",
       "      <th>1</th>\n",
       "      <td>1.3825</td>\n",
       "      <td>2.3754</td>\n",
       "      <td>0.9894</td>\n",
       "      <td>1931.6464</td>\n",
       "      <td>0.9425</td>\n",
       "      <td>0.0</td>\n",
       "      <td>731.2517</td>\n",
       "      <td>0.9902</td>\n",
       "      <td>58.6680</td>\n",
       "      <td>0.9731</td>\n",
       "      <td>...</td>\n",
       "      <td>8.8370</td>\n",
       "      <td>535.0164</td>\n",
       "      <td>2.4335</td>\n",
       "      <td>5.92</td>\n",
       "      <td>0.2653</td>\n",
       "      <td>2.0111</td>\n",
       "      <td>0.0772</td>\n",
       "      <td>1.1065</td>\n",
       "      <td>10.9003</td>\n",
       "      <td>0</td>\n",
       "    </tr>\n",
       "    <tr>\n",
       "      <th>2</th>\n",
       "      <td>1.4123</td>\n",
       "      <td>2.4532</td>\n",
       "      <td>0.9880</td>\n",
       "      <td>1685.8514</td>\n",
       "      <td>0.9231</td>\n",
       "      <td>0.0</td>\n",
       "      <td>718.5777</td>\n",
       "      <td>0.9899</td>\n",
       "      <td>58.4808</td>\n",
       "      <td>0.9772</td>\n",
       "      <td>...</td>\n",
       "      <td>6.4568</td>\n",
       "      <td>535.0245</td>\n",
       "      <td>2.0293</td>\n",
       "      <td>11.21</td>\n",
       "      <td>0.1882</td>\n",
       "      <td>4.0923</td>\n",
       "      <td>0.0640</td>\n",
       "      <td>2.0952</td>\n",
       "      <td>9.2721</td>\n",
       "      <td>1</td>\n",
       "    </tr>\n",
       "    <tr>\n",
       "      <th>3</th>\n",
       "      <td>1.4011</td>\n",
       "      <td>2.4004</td>\n",
       "      <td>0.9904</td>\n",
       "      <td>1752.0968</td>\n",
       "      <td>0.9564</td>\n",
       "      <td>0.0</td>\n",
       "      <td>709.0867</td>\n",
       "      <td>0.9906</td>\n",
       "      <td>58.6635</td>\n",
       "      <td>0.9761</td>\n",
       "      <td>...</td>\n",
       "      <td>6.4865</td>\n",
       "      <td>530.5682</td>\n",
       "      <td>2.0253</td>\n",
       "      <td>9.33</td>\n",
       "      <td>0.1738</td>\n",
       "      <td>2.8971</td>\n",
       "      <td>0.0525</td>\n",
       "      <td>1.7585</td>\n",
       "      <td>8.5831</td>\n",
       "      <td>0</td>\n",
       "    </tr>\n",
       "    <tr>\n",
       "      <th>4</th>\n",
       "      <td>1.3888</td>\n",
       "      <td>2.4530</td>\n",
       "      <td>0.9902</td>\n",
       "      <td>1828.3846</td>\n",
       "      <td>0.9424</td>\n",
       "      <td>0.0</td>\n",
       "      <td>796.5950</td>\n",
       "      <td>0.9908</td>\n",
       "      <td>58.3858</td>\n",
       "      <td>0.9628</td>\n",
       "      <td>...</td>\n",
       "      <td>6.3745</td>\n",
       "      <td>532.0155</td>\n",
       "      <td>2.0275</td>\n",
       "      <td>8.83</td>\n",
       "      <td>0.2224</td>\n",
       "      <td>3.1776</td>\n",
       "      <td>0.0706</td>\n",
       "      <td>1.6597</td>\n",
       "      <td>10.9698</td>\n",
       "      <td>0</td>\n",
       "    </tr>\n",
       "  </tbody>\n",
       "</table>\n",
       "<p>5 rows × 53 columns</p>\n",
       "</div>"
      ],
      "text/plain": [
       "     v021    v087    v088       v089    v114  v115      v116    v117     v118  \\\n",
       "0  1.4026  2.3895  0.9690  1747.6049  0.9460   0.0  748.6115  0.9908  58.4306   \n",
       "1  1.3825  2.3754  0.9894  1931.6464  0.9425   0.0  731.2517  0.9902  58.6680   \n",
       "2  1.4123  2.4532  0.9880  1685.8514  0.9231   0.0  718.5777  0.9899  58.4808   \n",
       "3  1.4011  2.4004  0.9904  1752.0968  0.9564   0.0  709.0867  0.9906  58.6635   \n",
       "4  1.3888  2.4530  0.9902  1828.3846  0.9424   0.0  796.5950  0.9908  58.3858   \n",
       "\n",
       "     v120  ...    v528      v571    v572   v573    v574    v575    v576  \\\n",
       "0  0.9804  ...  6.6926  533.8500  2.1113   8.95  0.3157  3.0624  0.1026   \n",
       "1  0.9731  ...  8.8370  535.0164  2.4335   5.92  0.2653  2.0111  0.0772   \n",
       "2  0.9772  ...  6.4568  535.0245  2.0293  11.21  0.1882  4.0923  0.0640   \n",
       "3  0.9761  ...  6.4865  530.5682  2.0253   9.33  0.1738  2.8971  0.0525   \n",
       "4  0.9628  ...  6.3745  532.0155  2.0275   8.83  0.2224  3.1776  0.0706   \n",
       "\n",
       "     v577     v578  label  \n",
       "0  1.6765  14.9509      0  \n",
       "1  1.1065  10.9003      0  \n",
       "2  2.0952   9.2721      1  \n",
       "3  1.7585   8.5831      0  \n",
       "4  1.6597  10.9698      0  \n",
       "\n",
       "[5 rows x 53 columns]"
      ]
     },
     "execution_count": 22,
     "metadata": {},
     "output_type": "execute_result"
    }
   ],
   "source": [
    "path = \"https://raw.githubusercontent.com/DA4BAM/dataset/master/secom_9.csv\"\n",
    "data = pd.read_csv(path)\n",
    "\n",
    "data['label'] = 0\n",
    "data.loc[data['defeat']== 'defeat', 'label']= 1\n",
    "data.drop(['datetime','defeat'], axis = 1, inplace=True)\n",
    "data.head()"
   ]
  },
  {
   "cell_type": "markdown",
   "metadata": {
    "id": "Tv7I7P8nQioh"
   },
   "source": [
    "변수 정보 \n",
    "* label : 1 - 불량, 0 - 정상\n",
    "* v### : 센서값들\n"
   ]
  },
  {
   "cell_type": "code",
   "execution_count": 23,
   "metadata": {
    "executionInfo": {
     "elapsed": 5,
     "status": "ok",
     "timestamp": 1646366534450,
     "user": {
      "displayName": "한기영",
      "photoUrl": "https://lh3.googleusercontent.com/a/default-user=s64",
      "userId": "13049187003176135487"
     },
     "user_tz": -540
    },
    "id": "6K9iIhabQzXS"
   },
   "outputs": [],
   "source": [
    "target = 'label'"
   ]
  },
  {
   "cell_type": "code",
   "execution_count": 24,
   "metadata": {
    "colab": {
     "base_uri": "https://localhost:8080/"
    },
    "executionInfo": {
     "elapsed": 5,
     "status": "ok",
     "timestamp": 1646366534854,
     "user": {
      "displayName": "한기영",
      "photoUrl": "https://lh3.googleusercontent.com/a/default-user=s64",
      "userId": "13049187003176135487"
     },
     "user_tz": -540
    },
    "id": "r6pjfmqLQ1UK",
    "outputId": "773380ff-27b2-4b47-ab21-46c7111add40"
   },
   "outputs": [
    {
     "data": {
      "text/plain": [
       "0    0.933631\n",
       "1    0.066369\n",
       "Name: label, dtype: float64"
      ]
     },
     "execution_count": 24,
     "metadata": {},
     "output_type": "execute_result"
    }
   ],
   "source": [
    "data[target].value_counts() / data.shape[0]"
   ]
  },
  {
   "cell_type": "markdown",
   "metadata": {
    "id": "Qs56G2oKQskZ"
   },
   "source": [
    "* x, y로 나누기 "
   ]
  },
  {
   "cell_type": "code",
   "execution_count": 25,
   "metadata": {
    "executionInfo": {
     "elapsed": 2,
     "status": "ok",
     "timestamp": 1646366535819,
     "user": {
      "displayName": "한기영",
      "photoUrl": "https://lh3.googleusercontent.com/a/default-user=s64",
      "userId": "13049187003176135487"
     },
     "user_tz": -540
    },
    "id": "M6xgH4RtDYUy"
   },
   "outputs": [],
   "source": [
    "x = data.drop(target, axis = 1)\n",
    "y = data.loc[:, target]"
   ]
  },
  {
   "cell_type": "markdown",
   "metadata": {
    "id": "0s8TzBcDDYUz"
   },
   "source": [
    "* 가변수화 Dummy Variable  \n",
    "모두 숫자 데이터이므로 가변수화 대상은 없습니다.\n"
   ]
  },
  {
   "cell_type": "markdown",
   "metadata": {
    "id": "fPJLj4PDDYUz"
   },
   "source": [
    "* 데이터 분할\n",
    "    * 이미 test set은 분할되어 있다고 가정합니다.\n",
    "    * 주어진 데이터를 train set : validation set 으로 분할"
   ]
  },
  {
   "cell_type": "code",
   "execution_count": 26,
   "metadata": {
    "executionInfo": {
     "elapsed": 379,
     "status": "ok",
     "timestamp": 1646366540463,
     "user": {
      "displayName": "한기영",
      "photoUrl": "https://lh3.googleusercontent.com/a/default-user=s64",
      "userId": "13049187003176135487"
     },
     "user_tz": -540
    },
    "id": "bVKB5_ZKDYUz"
   },
   "outputs": [],
   "source": [
    "from sklearn.model_selection import train_test_split"
   ]
  },
  {
   "cell_type": "code",
   "execution_count": 27,
   "metadata": {
    "executionInfo": {
     "elapsed": 2,
     "status": "ok",
     "timestamp": 1646366540837,
     "user": {
      "displayName": "한기영",
      "photoUrl": "https://lh3.googleusercontent.com/a/default-user=s64",
      "userId": "13049187003176135487"
     },
     "user_tz": -540
    },
    "id": "uWsT1wdRDYUz"
   },
   "outputs": [],
   "source": [
    "# train_val에서 train : val = 8 : 2\n",
    "x_train, x_val, y_train, y_val = train_test_split(x, y, test_size=0.2, random_state = 2022)"
   ]
  },
  {
   "cell_type": "code",
   "execution_count": 28,
   "metadata": {
    "colab": {
     "base_uri": "https://localhost:8080/"
    },
    "executionInfo": {
     "elapsed": 4,
     "status": "ok",
     "timestamp": 1646366541074,
     "user": {
      "displayName": "한기영",
      "photoUrl": "https://lh3.googleusercontent.com/a/default-user=s64",
      "userId": "13049187003176135487"
     },
     "user_tz": -540
    },
    "id": "D3KPdJ5PDYUz",
    "outputId": "cac86019-6280-43a5-b7ca-3df4ce622f7e"
   },
   "outputs": [
    {
     "name": "stdout",
     "output_type": "stream",
     "text": [
      "(1253, 52) (314, 52)\n"
     ]
    }
   ],
   "source": [
    "print(x_train.shape, x_val.shape)"
   ]
  },
  {
   "cell_type": "markdown",
   "metadata": {
    "id": "R01ZohkGDYU0"
   },
   "source": [
    "### 4.2 기본모델링\n",
    "> * 알고리즘은 로지스틱 회귀를 이용합시다.\n",
    "* 데이터셋을 그대로 모델링을 수행하시오.\n",
    "* validate set으로 예측하고 평가(classification report, f1 score)해 봅시다.\n"
   ]
  },
  {
   "cell_type": "code",
   "execution_count": 29,
   "metadata": {
    "id": "-V7yZzNTDYU0"
   },
   "outputs": [],
   "source": [
    "from sklearn.linear_model import LogisticRegression\n",
    "from sklearn.metrics import * "
   ]
  },
  {
   "cell_type": "code",
   "execution_count": 30,
   "metadata": {
    "colab": {
     "base_uri": "https://localhost:8080/"
    },
    "executionInfo": {
     "elapsed": 359,
     "status": "ok",
     "timestamp": 1646134612166,
     "user": {
      "displayName": "한기영",
      "photoUrl": "https://lh3.googleusercontent.com/a/default-user=s64",
      "userId": "13049187003176135487"
     },
     "user_tz": -540
    },
    "id": "BPNnuKJmDYU0",
    "outputId": "17b009b6-af4c-4b59-a1f5-1fe9789a9116"
   },
   "outputs": [
    {
     "name": "stdout",
     "output_type": "stream",
     "text": [
      "[[295   1]\n",
      " [ 18   0]]\n",
      "-------------------------------------------------------\n",
      "              precision    recall  f1-score   support\n",
      "\n",
      "           0       0.94      1.00      0.97       296\n",
      "           1       0.00      0.00      0.00        18\n",
      "\n",
      "    accuracy                           0.94       314\n",
      "   macro avg       0.47      0.50      0.48       314\n",
      "weighted avg       0.89      0.94      0.91       314\n",
      "\n"
     ]
    }
   ],
   "source": [
    "model = LogisticRegression(solver = 'liblinear')\n",
    "model.fit(x_train, y_train)\n",
    "pred = model.predict(x_val)\n",
    "\n",
    "print(confusion_matrix(y_val, pred))\n",
    "print('-' * 55)\n",
    "print(classification_report(y_val, pred))"
   ]
  },
  {
   "cell_type": "markdown",
   "metadata": {
    "id": "suaqUBduDYU0"
   },
   "source": [
    "### 4.3 모델링 with Resampling\n",
    "> * down, up, smote 샘플링후 각각 데이터를 이용하여 모델링 하시오.\n",
    "* 알고리즘 : 기존 샘플과 비교를 위해서 기본모델링에 사용한 알고리즘 사용\n",
    "* validate set으로 예측하고 평가(classification report, f1 score)해 봅시다.\n"
   ]
  },
  {
   "cell_type": "code",
   "execution_count": 31,
   "metadata": {
    "id": "FoVaA8lDDYU0"
   },
   "outputs": [],
   "source": [
    "from imblearn.under_sampling import RandomUnderSampler\n",
    "from imblearn.over_sampling import RandomOverSampler, SMOTE"
   ]
  },
  {
   "cell_type": "code",
   "execution_count": 32,
   "metadata": {
    "colab": {
     "base_uri": "https://localhost:8080/"
    },
    "executionInfo": {
     "elapsed": 3,
     "status": "ok",
     "timestamp": 1646134630029,
     "user": {
      "displayName": "한기영",
      "photoUrl": "https://lh3.googleusercontent.com/a/default-user=s64",
      "userId": "13049187003176135487"
     },
     "user_tz": -540
    },
    "id": "2T5lrWkfDYU0",
    "outputId": "d85ca18c-90a4-4c68-9732-65e2082f4c69"
   },
   "outputs": [
    {
     "name": "stdout",
     "output_type": "stream",
     "text": [
      "[86 86]\n",
      "[0.5 0.5]\n"
     ]
    }
   ],
   "source": [
    "# down sampling\n",
    "down_sample = RandomUnderSampler()\n",
    "d_x_train, d_y_train = down_sample.fit_resample(x_train, y_train)\n",
    "\n",
    "print(np.bincount(d_y_train))\n",
    "print(np.bincount(d_y_train) / d_y_train.shape[0])"
   ]
  },
  {
   "cell_type": "code",
   "execution_count": 33,
   "metadata": {
    "colab": {
     "base_uri": "https://localhost:8080/"
    },
    "executionInfo": {
     "elapsed": 3,
     "status": "ok",
     "timestamp": 1646134630397,
     "user": {
      "displayName": "한기영",
      "photoUrl": "https://lh3.googleusercontent.com/a/default-user=s64",
      "userId": "13049187003176135487"
     },
     "user_tz": -540
    },
    "id": "wvTUserkDYU0",
    "outputId": "5dfe70cd-9de3-4017-8243-cf14ceffe210"
   },
   "outputs": [
    {
     "name": "stdout",
     "output_type": "stream",
     "text": [
      "[1167 1167]\n",
      "[0.5 0.5]\n"
     ]
    }
   ],
   "source": [
    "# up sampling\n",
    "up_sample = RandomOverSampler()\n",
    "u_x_train, u_y_train = up_sample.fit_resample(x_train, y_train)\n",
    "\n",
    "print(np.bincount(u_y_train))\n",
    "print(np.bincount(u_y_train) / u_y_train.shape[0])\n"
   ]
  },
  {
   "cell_type": "code",
   "execution_count": 34,
   "metadata": {
    "colab": {
     "base_uri": "https://localhost:8080/"
    },
    "executionInfo": {
     "elapsed": 3,
     "status": "ok",
     "timestamp": 1646134630745,
     "user": {
      "displayName": "한기영",
      "photoUrl": "https://lh3.googleusercontent.com/a/default-user=s64",
      "userId": "13049187003176135487"
     },
     "user_tz": -540
    },
    "id": "-B2s-EZHDYU1",
    "outputId": "8ed8737d-1fbe-4a70-da0b-977275d39fff"
   },
   "outputs": [
    {
     "name": "stdout",
     "output_type": "stream",
     "text": [
      "[1167 1167]\n",
      "[0.5 0.5]\n"
     ]
    }
   ],
   "source": [
    "# SMOTE\n",
    "smote = SMOTE()\n",
    "s_x_train, s_y_train = smote.fit_resample(x_train, y_train)\n",
    "\n",
    "print(np.bincount(s_y_train))\n",
    "print(np.bincount(s_y_train) / s_y_train.shape[0])"
   ]
  },
  {
   "cell_type": "markdown",
   "metadata": {
    "id": "aul2pAvODYU1"
   },
   "source": [
    "* 모델링"
   ]
  },
  {
   "cell_type": "code",
   "execution_count": 35,
   "metadata": {
    "colab": {
     "base_uri": "https://localhost:8080/"
    },
    "executionInfo": {
     "elapsed": 339,
     "status": "ok",
     "timestamp": 1646134636772,
     "user": {
      "displayName": "한기영",
      "photoUrl": "https://lh3.googleusercontent.com/a/default-user=s64",
      "userId": "13049187003176135487"
     },
     "user_tz": -540
    },
    "id": "5_M914h7DYU1",
    "outputId": "db230a55-82a7-4a06-8ed7-a9f4ab127b36"
   },
   "outputs": [
    {
     "name": "stdout",
     "output_type": "stream",
     "text": [
      "0.13496932515337423\n",
      "-------------------------------------------------------\n",
      "[[162 134]\n",
      " [  7  11]]\n",
      "-------------------------------------------------------\n",
      "              precision    recall  f1-score   support\n",
      "\n",
      "           0       0.96      0.55      0.70       296\n",
      "           1       0.08      0.61      0.13        18\n",
      "\n",
      "    accuracy                           0.55       314\n",
      "   macro avg       0.52      0.58      0.42       314\n",
      "weighted avg       0.91      0.55      0.66       314\n",
      "\n"
     ]
    }
   ],
   "source": [
    "model_d = LogisticRegression(solver = 'liblinear')\n",
    "model_d.fit(d_x_train, d_y_train)\n",
    "pred_d = model_d.predict(x_val)\n",
    "\n",
    "print(f1_score(y_val,pred_d, pos_label=1))\n",
    "print('-' * 55)\n",
    "print(confusion_matrix(y_val, pred_d))\n",
    "print('-' * 55)\n",
    "print(classification_report(y_val, pred_d))"
   ]
  },
  {
   "cell_type": "code",
   "execution_count": 36,
   "metadata": {
    "colab": {
     "base_uri": "https://localhost:8080/"
    },
    "executionInfo": {
     "elapsed": 886,
     "status": "ok",
     "timestamp": 1646134642715,
     "user": {
      "displayName": "한기영",
      "photoUrl": "https://lh3.googleusercontent.com/a/default-user=s64",
      "userId": "13049187003176135487"
     },
     "user_tz": -540
    },
    "id": "Cb4fQKsDDYU1",
    "outputId": "ff7874f8-6d08-4bd0-ad6c-517a58767f90"
   },
   "outputs": [
    {
     "name": "stdout",
     "output_type": "stream",
     "text": [
      "0.13513513513513514\n",
      "-------------------------------------------------------\n",
      "[[176 120]\n",
      " [  8  10]]\n",
      "-------------------------------------------------------\n",
      "              precision    recall  f1-score   support\n",
      "\n",
      "           0       0.96      0.59      0.73       296\n",
      "           1       0.08      0.56      0.14        18\n",
      "\n",
      "    accuracy                           0.59       314\n",
      "   macro avg       0.52      0.58      0.43       314\n",
      "weighted avg       0.91      0.59      0.70       314\n",
      "\n"
     ]
    }
   ],
   "source": [
    "model_d = LogisticRegression(solver = 'liblinear')\n",
    "model_d.fit(u_x_train, u_y_train)\n",
    "pred_d = model_d.predict(x_val)\n",
    "\n",
    "print(f1_score(y_val,pred_d, pos_label=1))\n",
    "print('-' * 55)\n",
    "print(confusion_matrix(y_val, pred_d))\n",
    "print('-' * 55)\n",
    "print(classification_report(y_val, pred_d))"
   ]
  },
  {
   "cell_type": "code",
   "execution_count": 37,
   "metadata": {
    "colab": {
     "base_uri": "https://localhost:8080/"
    },
    "executionInfo": {
     "elapsed": 327,
     "status": "ok",
     "timestamp": 1646134645926,
     "user": {
      "displayName": "한기영",
      "photoUrl": "https://lh3.googleusercontent.com/a/default-user=s64",
      "userId": "13049187003176135487"
     },
     "user_tz": -540
    },
    "id": "hwJcfsVpDYU1",
    "outputId": "73059843-e01f-4045-e661-f0aa389adada"
   },
   "outputs": [
    {
     "name": "stdout",
     "output_type": "stream",
     "text": [
      "0.13496932515337423\n",
      "-------------------------------------------------------\n",
      "[[162 134]\n",
      " [  7  11]]\n",
      "-------------------------------------------------------\n",
      "              precision    recall  f1-score   support\n",
      "\n",
      "           0       0.96      0.55      0.70       296\n",
      "           1       0.08      0.61      0.13        18\n",
      "\n",
      "    accuracy                           0.55       314\n",
      "   macro avg       0.52      0.58      0.42       314\n",
      "weighted avg       0.91      0.55      0.66       314\n",
      "\n"
     ]
    }
   ],
   "source": [
    "model_d = LogisticRegression(solver = 'liblinear')\n",
    "model_d.fit(d_x_train, d_y_train)\n",
    "pred_d = model_d.predict(x_val)\n",
    "\n",
    "print(f1_score(y_val,pred_d, pos_label=1))\n",
    "print('-' * 55)\n",
    "print(confusion_matrix(y_val, pred_d))\n",
    "print('-' * 55)\n",
    "print(classification_report(y_val, pred_d))"
   ]
  },
  {
   "cell_type": "markdown",
   "metadata": {
    "id": "VByxOUgWDYU1"
   },
   "source": [
    "* 로지스틱 회귀- 여러번 반복 실행\n",
    "\n",
    "3.3의 코드를 붙여놓고 실행해 봅시다."
   ]
  },
  {
   "cell_type": "code",
   "execution_count": 38,
   "metadata": {
    "id": "RayUS6JKDYU2"
   },
   "outputs": [],
   "source": [
    "def lr_modeling(x_train, y_train, x_val, y_val) :\n",
    "    m = LogisticRegression(solver = 'liblinear')\n",
    "    m.fit(x_train, y_train)\n",
    "    pred = m.predict(x_val)\n",
    "    return f1_score(y_val,pred, pos_label=1)"
   ]
  },
  {
   "cell_type": "code",
   "execution_count": 39,
   "metadata": {
    "id": "Lo8Rwcv1DYU2"
   },
   "outputs": [
    {
     "name": "stdout",
     "output_type": "stream",
     "text": [
      "0\n",
      "1\n",
      "2\n",
      "3\n",
      "4\n",
      "5\n",
      "6\n",
      "7\n",
      "8\n",
      "9\n",
      "10\n",
      "11\n",
      "12\n",
      "13\n",
      "14\n",
      "15\n",
      "16\n",
      "17\n",
      "18\n",
      "19\n",
      "20\n",
      "21\n",
      "22\n",
      "23\n",
      "24\n",
      "25\n",
      "26\n",
      "27\n",
      "28\n",
      "29\n",
      "30\n",
      "31\n",
      "32\n",
      "33\n",
      "34\n",
      "35\n",
      "36\n",
      "37\n",
      "38\n",
      "39\n",
      "40\n",
      "41\n",
      "42\n",
      "43\n",
      "44\n",
      "45\n",
      "46\n",
      "47\n",
      "48\n",
      "49\n"
     ]
    }
   ],
   "source": [
    "result_d, result_u, result_s = [], [], []\n",
    "\n",
    "for i in range(50):\n",
    "    x_train, x_val, y_train, y_val = train_test_split(x, y, test_size = .4)\n",
    "    d_x_train, d_y_train = down_sample.fit_resample(x_train, y_train)\n",
    "    u_x_train, u_y_train = up_sample.fit_resample(x_train, y_train)\n",
    "    s_x_train, s_y_train = smote.fit_resample(x_train, y_train)\n",
    "\n",
    "    result_d.append(lr_modeling(d_x_train, d_y_train, x_val, y_val))\n",
    "    result_u.append(lr_modeling(u_x_train, u_y_train, x_val, y_val))\n",
    "    result_s.append(lr_modeling(s_x_train, s_y_train, x_val, y_val))\n",
    "    print(i)"
   ]
  },
  {
   "cell_type": "code",
   "execution_count": 40,
   "metadata": {
    "colab": {
     "base_uri": "https://localhost:8080/",
     "height": 499
    },
    "executionInfo": {
     "elapsed": 886,
     "status": "ok",
     "timestamp": 1645591359793,
     "user": {
      "displayName": "한기영",
      "photoUrl": "https://lh3.googleusercontent.com/a/default-user=s64",
      "userId": "13049187003176135487"
     },
     "user_tz": -540
    },
    "id": "mWWimrAeDYU2",
    "outputId": "0f2a27fb-2bf3-4a58-c66a-eda47ee734ea"
   },
   "outputs": [
    {
     "data": {
      "image/png": "[encoded data removed]",
      "text/plain": [
       "<Figure size 864x576 with 1 Axes>"
      ]
     },
     "metadata": {
      "needs_background": "light"
     },
     "output_type": "display_data"
    }
   ],
   "source": [
    "# 그래프로 비교\n",
    "plt.figure(figsize=(12, 8))\n",
    "sns.kdeplot(result_d, label= 'down')\n",
    "sns.kdeplot(result_u, label = 'up')\n",
    "sns.kdeplot(result_s, label = 'smote' )\n",
    "\n",
    "plt.title('F1 Score')\n",
    "plt.legend()\n",
    "plt.grid()\n",
    "plt.show()\n"
   ]
  },
  {
   "cell_type": "code",
   "execution_count": null,
   "metadata": {
    "id": "MgefrSeZDYU2"
   },
   "outputs": [],
   "source": []
  }
 ],
 "metadata": {
  "colab": {
   "collapsed_sections": [],
   "name": "3-2. Resampling_참조.ipynb",
   "provenance": [],
   "toc_visible": true
  },
  "kernelspec": {
   "display_name": "Python 3",
   "language": "python",
   "name": "python3"
  },
  "language_info": {
   "codemirror_mode": {
    "name": "ipython",
    "version": 3
   },
   "file_extension": ".py",
   "mimetype": "text/x-python",
   "name": "python",
   "nbconvert_exporter": "python",
   "pygments_lexer": "ipython3",
   "version": "3.8.8"
  }
 },
 "nbformat": 4,
 "nbformat_minor": 4
}
