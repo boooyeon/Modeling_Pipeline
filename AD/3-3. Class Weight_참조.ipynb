{
 "cells": [
  {
   "cell_type": "markdown",
   "metadata": {
    "id": "H2PiE6pYmBv7"
   },
   "source": [
    "# Class Weight\n",
    "\n"
   ]
  },
  {
   "cell_type": "markdown",
   "metadata": {
    "id": "Wyg1gRj8ZxMK"
   },
   "source": [
    "## 0.환경준비"
   ]
  },
  {
   "cell_type": "markdown",
   "metadata": {
    "id": "dSsCFlrNaQQW"
   },
   "source": [
    "### 0.1 라이브러리 로딩"
   ]
  },
  {
   "cell_type": "code",
   "execution_count": 1,
   "metadata": {
    "executionInfo": {
     "elapsed": 2230,
     "status": "ok",
     "timestamp": 1646369277899,
     "user": {
      "displayName": "한기영",
      "photoUrl": "https://lh3.googleusercontent.com/a/default-user=s64",
      "userId": "13049187003176135487"
     },
     "user_tz": -540
    },
    "id": "6g46eHDnW2QX"
   },
   "outputs": [],
   "source": [
    "import pandas as pd\n",
    "import numpy as np\n",
    "import matplotlib.pyplot as plt\n",
    "import seaborn as sns\n",
    "\n",
    "from sklearn.model_selection import train_test_split\n",
    "\n",
    "import warnings\n",
    "warnings.simplefilter(action='ignore', category=FutureWarning)"
   ]
  },
  {
   "cell_type": "markdown",
   "metadata": {
    "id": "oivLe5kRaO8V"
   },
   "source": [
    "### 0.2 데이터 로딩"
   ]
  },
  {
   "cell_type": "markdown",
   "metadata": {
    "id": "Ly9-R3Pyd-2L"
   },
   "source": [
    "> 예제 데이터는 공정간 불량을 예측하는 데이터입니다.  \n",
    "여기서는 class imbalance 에 대한 샘플링과 성능에만 초점을 맞추겠습니다.\n"
   ]
  },
  {
   "cell_type": "code",
   "execution_count": 2,
   "metadata": {
    "executionInfo": {
     "elapsed": 407,
     "status": "ok",
     "timestamp": 1646369278302,
     "user": {
      "displayName": "한기영",
      "photoUrl": "https://lh3.googleusercontent.com/a/default-user=s64",
      "userId": "13049187003176135487"
     },
     "user_tz": -540
    },
    "id": "4LQpkcFgm50W"
   },
   "outputs": [],
   "source": [
    "# data data\n",
    "path = \"https://raw.githubusercontent.com/DA4BAM/dataset/master/Attrition2.csv\"\n",
    "data = pd.read_csv(path)"
   ]
  },
  {
   "cell_type": "markdown",
   "metadata": {
    "id": "jECAaPceva4m"
   },
   "source": [
    "## 1.데이터 탐색"
   ]
  },
  {
   "cell_type": "code",
   "execution_count": 3,
   "metadata": {
    "colab": {
     "base_uri": "https://localhost:8080/"
    },
    "executionInfo": {
     "elapsed": 11,
     "status": "ok",
     "timestamp": 1646369278303,
     "user": {
      "displayName": "한기영",
      "photoUrl": "https://lh3.googleusercontent.com/a/default-user=s64",
      "userId": "13049187003176135487"
     },
     "user_tz": -540
    },
    "id": "ec3xuHRhva4n",
    "outputId": "3879afe3-df7c-46ad-edc6-b281e563435b"
   },
   "outputs": [
    {
     "data": {
      "text/plain": [
       "(1150, 17)"
      ]
     },
     "execution_count": 3,
     "metadata": {},
     "output_type": "execute_result"
    }
   ],
   "source": [
    "data.shape"
   ]
  },
  {
   "cell_type": "code",
   "execution_count": 4,
   "metadata": {
    "colab": {
     "base_uri": "https://localhost:8080/",
     "height": 357
    },
    "executionInfo": {
     "elapsed": 380,
     "status": "ok",
     "timestamp": 1646369279963,
     "user": {
      "displayName": "한기영",
      "photoUrl": "https://lh3.googleusercontent.com/a/default-user=s64",
      "userId": "13049187003176135487"
     },
     "user_tz": -540
    },
    "id": "K6toXun6uptd",
    "outputId": "cc0d9241-ef52-433a-da86-4a480db23887"
   },
   "outputs": [
    {
     "data": {
      "text/html": [
       "<div>\n",
       "<style scoped>\n",
       "    .dataframe tbody tr th:only-of-type {\n",
       "        vertical-align: middle;\n",
       "    }\n",
       "\n",
       "    .dataframe tbody tr th {\n",
       "        vertical-align: top;\n",
       "    }\n",
       "\n",
       "    .dataframe thead th {\n",
       "        text-align: right;\n",
       "    }\n",
       "</style>\n",
       "<table border=\"1\" class=\"dataframe\">\n",
       "  <thead>\n",
       "    <tr style=\"text-align: right;\">\n",
       "      <th></th>\n",
       "      <th>Attrition</th>\n",
       "      <th>Age</th>\n",
       "      <th>Department</th>\n",
       "      <th>DistanceFromHome</th>\n",
       "      <th>Education</th>\n",
       "      <th>EducationField</th>\n",
       "      <th>Gender</th>\n",
       "      <th>JobRole</th>\n",
       "      <th>JobSatisfaction</th>\n",
       "      <th>MaritalStatus</th>\n",
       "      <th>MonthlyIncome</th>\n",
       "      <th>NumCompaniesWorked</th>\n",
       "      <th>RelationshipSatisfaction</th>\n",
       "      <th>TotalWorkingYears</th>\n",
       "      <th>TrainingTimesLastYear</th>\n",
       "      <th>WorkLifeBalance</th>\n",
       "      <th>YearsAtCompany</th>\n",
       "    </tr>\n",
       "  </thead>\n",
       "  <tbody>\n",
       "    <tr>\n",
       "      <th>0</th>\n",
       "      <td>0</td>\n",
       "      <td>28</td>\n",
       "      <td>Research &amp; Development</td>\n",
       "      <td>1</td>\n",
       "      <td>3</td>\n",
       "      <td>Medical</td>\n",
       "      <td>Female</td>\n",
       "      <td>Research Scientist</td>\n",
       "      <td>1</td>\n",
       "      <td>Married</td>\n",
       "      <td>3591</td>\n",
       "      <td>1</td>\n",
       "      <td>3</td>\n",
       "      <td>3</td>\n",
       "      <td>3</td>\n",
       "      <td>3</td>\n",
       "      <td>3</td>\n",
       "    </tr>\n",
       "    <tr>\n",
       "      <th>1</th>\n",
       "      <td>1</td>\n",
       "      <td>37</td>\n",
       "      <td>Research &amp; Development</td>\n",
       "      <td>2</td>\n",
       "      <td>2</td>\n",
       "      <td>Other</td>\n",
       "      <td>Male</td>\n",
       "      <td>Laboratory Technician</td>\n",
       "      <td>3</td>\n",
       "      <td>Single</td>\n",
       "      <td>2090</td>\n",
       "      <td>6</td>\n",
       "      <td>2</td>\n",
       "      <td>7</td>\n",
       "      <td>3</td>\n",
       "      <td>3</td>\n",
       "      <td>0</td>\n",
       "    </tr>\n",
       "    <tr>\n",
       "      <th>2</th>\n",
       "      <td>0</td>\n",
       "      <td>27</td>\n",
       "      <td>Research &amp; Development</td>\n",
       "      <td>8</td>\n",
       "      <td>5</td>\n",
       "      <td>Life Sciences</td>\n",
       "      <td>Male</td>\n",
       "      <td>Laboratory Technician</td>\n",
       "      <td>3</td>\n",
       "      <td>Married</td>\n",
       "      <td>4621</td>\n",
       "      <td>1</td>\n",
       "      <td>4</td>\n",
       "      <td>3</td>\n",
       "      <td>4</td>\n",
       "      <td>3</td>\n",
       "      <td>3</td>\n",
       "    </tr>\n",
       "    <tr>\n",
       "      <th>3</th>\n",
       "      <td>0</td>\n",
       "      <td>18</td>\n",
       "      <td>Research &amp; Development</td>\n",
       "      <td>1</td>\n",
       "      <td>3</td>\n",
       "      <td>Life Sciences</td>\n",
       "      <td>Female</td>\n",
       "      <td>Laboratory Technician</td>\n",
       "      <td>4</td>\n",
       "      <td>Single</td>\n",
       "      <td>1611</td>\n",
       "      <td>1</td>\n",
       "      <td>3</td>\n",
       "      <td>0</td>\n",
       "      <td>5</td>\n",
       "      <td>4</td>\n",
       "      <td>0</td>\n",
       "    </tr>\n",
       "    <tr>\n",
       "      <th>4</th>\n",
       "      <td>0</td>\n",
       "      <td>29</td>\n",
       "      <td>Research &amp; Development</td>\n",
       "      <td>9</td>\n",
       "      <td>3</td>\n",
       "      <td>Life Sciences</td>\n",
       "      <td>Male</td>\n",
       "      <td>Research Scientist</td>\n",
       "      <td>3</td>\n",
       "      <td>Married</td>\n",
       "      <td>2451</td>\n",
       "      <td>6</td>\n",
       "      <td>1</td>\n",
       "      <td>5</td>\n",
       "      <td>2</td>\n",
       "      <td>2</td>\n",
       "      <td>1</td>\n",
       "    </tr>\n",
       "  </tbody>\n",
       "</table>\n",
       "</div>"
      ],
      "text/plain": [
       "   Attrition  Age              Department  DistanceFromHome  Education  \\\n",
       "0          0   28  Research & Development                 1          3   \n",
       "1          1   37  Research & Development                 2          2   \n",
       "2          0   27  Research & Development                 8          5   \n",
       "3          0   18  Research & Development                 1          3   \n",
       "4          0   29  Research & Development                 9          3   \n",
       "\n",
       "  EducationField  Gender                JobRole  JobSatisfaction  \\\n",
       "0        Medical  Female     Research Scientist                1   \n",
       "1          Other    Male  Laboratory Technician                3   \n",
       "2  Life Sciences    Male  Laboratory Technician                3   \n",
       "3  Life Sciences  Female  Laboratory Technician                4   \n",
       "4  Life Sciences    Male     Research Scientist                3   \n",
       "\n",
       "  MaritalStatus  MonthlyIncome  NumCompaniesWorked  RelationshipSatisfaction  \\\n",
       "0       Married           3591                   1                         3   \n",
       "1        Single           2090                   6                         2   \n",
       "2       Married           4621                   1                         4   \n",
       "3        Single           1611                   1                         3   \n",
       "4       Married           2451                   6                         1   \n",
       "\n",
       "   TotalWorkingYears  TrainingTimesLastYear  WorkLifeBalance  YearsAtCompany  \n",
       "0                  3                      3                3               3  \n",
       "1                  7                      3                3               0  \n",
       "2                  3                      4                3               3  \n",
       "3                  0                      5                4               0  \n",
       "4                  5                      2                2               1  "
      ]
     },
     "execution_count": 4,
     "metadata": {},
     "output_type": "execute_result"
    }
   ],
   "source": [
    "data.head()"
   ]
  },
  {
   "cell_type": "markdown",
   "metadata": {
    "id": "hDC9Z8vdP-TU"
   },
   "source": [
    "## 2.데이터 준비"
   ]
  },
  {
   "cell_type": "markdown",
   "metadata": {
    "id": "fE44VnZ7r4At"
   },
   "source": [
    "### 2.1 x, y 로 나누기"
   ]
  },
  {
   "cell_type": "code",
   "execution_count": 5,
   "metadata": {
    "executionInfo": {
     "elapsed": 287,
     "status": "ok",
     "timestamp": 1646369284208,
     "user": {
      "displayName": "한기영",
      "photoUrl": "https://lh3.googleusercontent.com/a/default-user=s64",
      "userId": "13049187003176135487"
     },
     "user_tz": -540
    },
    "id": "j7C7QYLAr6bq"
   },
   "outputs": [],
   "source": [
    "target = 'Attrition'\n",
    "x = data.drop(target, axis = 1)\n",
    "y = data.loc[:,target]"
   ]
  },
  {
   "cell_type": "markdown",
   "metadata": {
    "id": "FXPC5kwnr9Dt"
   },
   "source": [
    "### 2.2 가변수화\n"
   ]
  },
  {
   "cell_type": "code",
   "execution_count": 6,
   "metadata": {
    "executionInfo": {
     "elapsed": 337,
     "status": "ok",
     "timestamp": 1646369290123,
     "user": {
      "displayName": "한기영",
      "photoUrl": "https://lh3.googleusercontent.com/a/default-user=s64",
      "userId": "13049187003176135487"
     },
     "user_tz": -540
    },
    "id": "DVqEHhYFT7eQ"
   },
   "outputs": [],
   "source": [
    "dummy_vars = ['Education','Department','EducationField','Gender','JobRole','JobSatisfaction','MaritalStatus',\n",
    "              'RelationshipSatisfaction','WorkLifeBalance'] # 가변수화 대상 변수 이름 리스트 만든다\n",
    "x = pd.get_dummies(x, columns = dummy_vars, drop_first=True) "
   ]
  },
  {
   "cell_type": "markdown",
   "metadata": {
    "id": "s0Fg_JoHrwhG"
   },
   "source": [
    "### 2.3 데이터 분할"
   ]
  },
  {
   "cell_type": "code",
   "execution_count": 7,
   "metadata": {
    "executionInfo": {
     "elapsed": 3,
     "status": "ok",
     "timestamp": 1646369290559,
     "user": {
      "displayName": "한기영",
      "photoUrl": "https://lh3.googleusercontent.com/a/default-user=s64",
      "userId": "13049187003176135487"
     },
     "user_tz": -540
    },
    "id": "mENOR-4QP-TU"
   },
   "outputs": [],
   "source": [
    "x_train, x_val, y_train, y_val = train_test_split(x, y, test_size = .3, random_state=2022)"
   ]
  },
  {
   "cell_type": "code",
   "execution_count": 8,
   "metadata": {
    "colab": {
     "base_uri": "https://localhost:8080/"
    },
    "executionInfo": {
     "elapsed": 5,
     "status": "ok",
     "timestamp": 1646369290828,
     "user": {
      "displayName": "한기영",
      "photoUrl": "https://lh3.googleusercontent.com/a/default-user=s64",
      "userId": "13049187003176135487"
     },
     "user_tz": -540
    },
    "id": "CvCO5Pru_vuo",
    "outputId": "ef32e315-42c6-4022-e652-f0bc8454894d"
   },
   "outputs": [
    {
     "data": {
      "text/plain": [
       "((805, 38), (805,))"
      ]
     },
     "execution_count": 8,
     "metadata": {},
     "output_type": "execute_result"
    }
   ],
   "source": [
    "x_train.shape, y_train.shape"
   ]
  },
  {
   "cell_type": "markdown",
   "metadata": {
    "id": "LAzxx0nkh1LX"
   },
   "source": [
    "## 3.모델링 + class weight 조정하기"
   ]
  },
  {
   "cell_type": "code",
   "execution_count": 9,
   "metadata": {
    "executionInfo": {
     "elapsed": 424,
     "status": "ok",
     "timestamp": 1646369293806,
     "user": {
      "displayName": "한기영",
      "photoUrl": "https://lh3.googleusercontent.com/a/default-user=s64",
      "userId": "13049187003176135487"
     },
     "user_tz": -540
    },
    "id": "6VkF0-iXijKk"
   },
   "outputs": [],
   "source": [
    "# 필요한 라이브러리, 함수들을 불러옵시다.\n",
    "from sklearn.linear_model import LogisticRegression\n",
    "from sklearn.tree import DecisionTreeClassifier, plot_tree\n",
    "from sklearn.metrics import *\n",
    "\n",
    "from sklearn.model_selection import GridSearchCV, StratifiedKFold"
   ]
  },
  {
   "cell_type": "markdown",
   "metadata": {
    "id": "Z1XvZlGFcHbn"
   },
   "source": [
    "### 1) 기본 모델링\n",
    "\n",
    "* 로지스틱 회귀 + 데이터 그대로 이용"
   ]
  },
  {
   "cell_type": "code",
   "execution_count": 10,
   "metadata": {
    "colab": {
     "base_uri": "https://localhost:8080/"
    },
    "executionInfo": {
     "elapsed": 377,
     "status": "ok",
     "timestamp": 1646369298039,
     "user": {
      "displayName": "한기영",
      "photoUrl": "https://lh3.googleusercontent.com/a/default-user=s64",
      "userId": "13049187003176135487"
     },
     "user_tz": -540
    },
    "id": "01zxVgqYI797",
    "outputId": "6fc92f66-6ab3-46bd-a6cc-28f997041ab8"
   },
   "outputs": [
    {
     "name": "stdout",
     "output_type": "stream",
     "text": [
      "[[321   2]\n",
      " [ 20   2]]\n",
      "-------------------------------------------------------\n",
      "              precision    recall  f1-score   support\n",
      "\n",
      "           0       0.94      0.99      0.97       323\n",
      "           1       0.50      0.09      0.15        22\n",
      "\n",
      "    accuracy                           0.94       345\n",
      "   macro avg       0.72      0.54      0.56       345\n",
      "weighted avg       0.91      0.94      0.92       345\n",
      "\n"
     ]
    }
   ],
   "source": [
    "model = LogisticRegression(solver = 'liblinear')\n",
    "model.fit(x_train, y_train)\n",
    "pred = model.predict(x_val)\n",
    "\n",
    "print(confusion_matrix(y_val, pred))\n",
    "print('-' * 55)\n",
    "print(classification_report(y_val, pred))"
   ]
  },
  {
   "cell_type": "markdown",
   "metadata": {
    "id": "_FREl9UnaMm6"
   },
   "source": [
    "### 2) Class Weight 조정"
   ]
  },
  {
   "cell_type": "code",
   "execution_count": 11,
   "metadata": {
    "id": "-qgbfUcXZ5go"
   },
   "outputs": [],
   "source": [
    "def loss(y, y_hat):\n",
    "    loss = -np.mean(y*(np.log(y_hat)) - (1-y)*np.log(1-y_hat))\n",
    "    return loss\n",
    "\n"
   ]
  },
  {
   "cell_type": "markdown",
   "metadata": {
    "id": "4iSZtiKdIVYS"
   },
   "source": [
    "#### ① 로지스틱 회귀\n",
    "> * class_weight = 'balanced'\n",
    "* class_weight = 비율로 수동 조절"
   ]
  },
  {
   "cell_type": "code",
   "execution_count": 12,
   "metadata": {
    "colab": {
     "base_uri": "https://localhost:8080/"
    },
    "executionInfo": {
     "elapsed": 271,
     "status": "ok",
     "timestamp": 1646371765596,
     "user": {
      "displayName": "한기영",
      "photoUrl": "https://lh3.googleusercontent.com/a/default-user=s64",
      "userId": "13049187003176135487"
     },
     "user_tz": -540
    },
    "id": "3gjF85SNIYX_",
    "outputId": "7fbee85b-7a40-4771-c06c-37e1c9b59c6f"
   },
   "outputs": [
    {
     "name": "stdout",
     "output_type": "stream",
     "text": [
      "[[237  86]\n",
      " [  4  18]]\n",
      "-------------------------------------------------------\n",
      "              precision    recall  f1-score   support\n",
      "\n",
      "           0       0.98      0.73      0.84       323\n",
      "           1       0.17      0.82      0.29        22\n",
      "\n",
      "    accuracy                           0.74       345\n",
      "   macro avg       0.58      0.78      0.56       345\n",
      "weighted avg       0.93      0.74      0.81       345\n",
      "\n"
     ]
    }
   ],
   "source": [
    "# class_weight = 'balanced'\n",
    " \n",
    "model = LogisticRegression(solver = 'liblinear', class_weight='balanced')\n",
    "model.fit(x_train, y_train)\n",
    "pred = model.predict(x_val)\n",
    "\n",
    "print(confusion_matrix(y_val, pred))\n",
    "print('-' * 55)\n",
    "print(classification_report(y_val, pred))"
   ]
  },
  {
   "cell_type": "code",
   "execution_count": 13,
   "metadata": {
    "id": "TmqJXQZwgVIT"
   },
   "outputs": [
    {
     "name": "stdout",
     "output_type": "stream",
     "text": [
      "0\n",
      "1\n",
      "2\n",
      "3\n",
      "4\n",
      "5\n",
      "6\n",
      "7\n",
      "8\n",
      "9\n",
      "10\n",
      "11\n",
      "12\n",
      "13\n",
      "14\n",
      "15\n",
      "16\n",
      "17\n",
      "18\n",
      "19\n",
      "20\n",
      "21\n",
      "22\n",
      "23\n",
      "24\n",
      "25\n",
      "26\n",
      "27\n",
      "28\n",
      "29\n",
      "30\n",
      "31\n",
      "32\n",
      "33\n",
      "34\n",
      "35\n",
      "36\n",
      "37\n",
      "38\n",
      "39\n",
      "40\n",
      "41\n",
      "42\n",
      "43\n",
      "44\n",
      "45\n",
      "46\n",
      "47\n",
      "48\n",
      "49\n"
     ]
    }
   ],
   "source": [
    "result = []\n",
    "\n",
    "for i in range(50):\n",
    "    x_train, x_val, y_train, y_val = train_test_split(x, y, test_size = .4)\n",
    "    model = LogisticRegression(solver = 'liblinear', class_weight='balanced')\n",
    "    model.fit(x_train, y_train)\n",
    "    pred = model.predict(x_val)\n",
    "    result.append(f1_score(y_val, pred, pos_label=1))\n",
    "    print(i)"
   ]
  },
  {
   "cell_type": "code",
   "execution_count": 14,
   "metadata": {
    "colab": {
     "base_uri": "https://localhost:8080/",
     "height": 499
    },
    "executionInfo": {
     "elapsed": 441,
     "status": "ok",
     "timestamp": 1646135412460,
     "user": {
      "displayName": "한기영",
      "photoUrl": "https://lh3.googleusercontent.com/a/default-user=s64",
      "userId": "13049187003176135487"
     },
     "user_tz": -540
    },
    "id": "RKqVcBqfgkwD",
    "outputId": "2538db45-7b03-43c4-c057-56fa7395e730"
   },
   "outputs": [
    {
     "data": {
      "image/png": "[encoded data removed]",
      "text/plain": [
       "<Figure size 864x576 with 1 Axes>"
      ]
     },
     "metadata": {
      "needs_background": "light"
     },
     "output_type": "display_data"
    }
   ],
   "source": [
    "plt.figure(figsize=(12, 8))\n",
    "sns.kdeplot(result)\n",
    "plt.title('F1 Score')\n",
    "plt.grid()\n",
    "plt.show()"
   ]
  },
  {
   "cell_type": "code",
   "execution_count": 15,
   "metadata": {
    "id": "w1D5rILVgvHM"
   },
   "outputs": [
    {
     "data": {
      "text/plain": [
       "{'class_weight': [{0: 0.0, 1: 1.0},\n",
       "  {0: 0.01, 1: 0.99},\n",
       "  {0: 0.02, 1: 0.98},\n",
       "  {0: 0.03, 1: 0.97},\n",
       "  {0: 0.04, 1: 0.96},\n",
       "  {0: 0.05, 1: 0.95},\n",
       "  {0: 0.06, 1: 0.94},\n",
       "  {0: 0.07, 1: 0.9299999999999999},\n",
       "  {0: 0.08, 1: 0.92},\n",
       "  {0: 0.09, 1: 0.91},\n",
       "  {0: 0.1, 1: 0.9},\n",
       "  {0: 0.11, 1: 0.89},\n",
       "  {0: 0.12, 1: 0.88},\n",
       "  {0: 0.13, 1: 0.87},\n",
       "  {0: 0.14, 1: 0.86},\n",
       "  {0: 0.15, 1: 0.85},\n",
       "  {0: 0.16, 1: 0.84},\n",
       "  {0: 0.17, 1: 0.83},\n",
       "  {0: 0.18, 1: 0.8200000000000001},\n",
       "  {0: 0.19, 1: 0.81},\n",
       "  {0: 0.2, 1: 0.8},\n",
       "  {0: 0.21, 1: 0.79},\n",
       "  {0: 0.22, 1: 0.78},\n",
       "  {0: 0.23, 1: 0.77},\n",
       "  {0: 0.24, 1: 0.76},\n",
       "  {0: 0.25, 1: 0.75},\n",
       "  {0: 0.26, 1: 0.74},\n",
       "  {0: 0.27, 1: 0.73},\n",
       "  {0: 0.28, 1: 0.72},\n",
       "  {0: 0.29, 1: 0.71},\n",
       "  {0: 0.3, 1: 0.7},\n",
       "  {0: 0.31, 1: 0.69},\n",
       "  {0: 0.32, 1: 0.6799999999999999},\n",
       "  {0: 0.33, 1: 0.6699999999999999},\n",
       "  {0: 0.34, 1: 0.6599999999999999},\n",
       "  {0: 0.35000000000000003, 1: 0.6499999999999999},\n",
       "  {0: 0.36, 1: 0.64},\n",
       "  {0: 0.37, 1: 0.63},\n",
       "  {0: 0.38, 1: 0.62},\n",
       "  {0: 0.39, 1: 0.61},\n",
       "  {0: 0.4, 1: 0.6},\n",
       "  {0: 0.41000000000000003, 1: 0.59},\n",
       "  {0: 0.42, 1: 0.5800000000000001},\n",
       "  {0: 0.43, 1: 0.5700000000000001},\n",
       "  {0: 0.44, 1: 0.56},\n",
       "  {0: 0.45, 1: 0.55},\n",
       "  {0: 0.46, 1: 0.54},\n",
       "  {0: 0.47000000000000003, 1: 0.53},\n",
       "  {0: 0.48, 1: 0.52},\n",
       "  {0: 0.49, 1: 0.51},\n",
       "  {0: 0.5, 1: 0.5},\n",
       "  {0: 0.51, 1: 0.49},\n",
       "  {0: 0.52, 1: 0.48},\n",
       "  {0: 0.53, 1: 0.47},\n",
       "  {0: 0.54, 1: 0.45999999999999996},\n",
       "  {0: 0.55, 1: 0.44999999999999996},\n",
       "  {0: 0.56, 1: 0.43999999999999995},\n",
       "  {0: 0.5700000000000001, 1: 0.42999999999999994},\n",
       "  {0: 0.58, 1: 0.42000000000000004},\n",
       "  {0: 0.59, 1: 0.41000000000000003},\n",
       "  {0: 0.6, 1: 0.4},\n",
       "  {0: 0.61, 1: 0.39},\n",
       "  {0: 0.62, 1: 0.38},\n",
       "  {0: 0.63, 1: 0.37},\n",
       "  {0: 0.64, 1: 0.36},\n",
       "  {0: 0.65, 1: 0.35},\n",
       "  {0: 0.66, 1: 0.33999999999999997},\n",
       "  {0: 0.67, 1: 0.32999999999999996},\n",
       "  {0: 0.68, 1: 0.31999999999999995},\n",
       "  {0: 0.6900000000000001, 1: 0.30999999999999994},\n",
       "  {0: 0.7000000000000001, 1: 0.29999999999999993},\n",
       "  {0: 0.71, 1: 0.29000000000000004},\n",
       "  {0: 0.72, 1: 0.28},\n",
       "  {0: 0.73, 1: 0.27},\n",
       "  {0: 0.74, 1: 0.26},\n",
       "  {0: 0.75, 1: 0.25},\n",
       "  {0: 0.76, 1: 0.24},\n",
       "  {0: 0.77, 1: 0.22999999999999998},\n",
       "  {0: 0.78, 1: 0.21999999999999997},\n",
       "  {0: 0.79, 1: 0.20999999999999996},\n",
       "  {0: 0.8, 1: 0.19999999999999996},\n",
       "  {0: 0.81, 1: 0.18999999999999995},\n",
       "  {0: 0.8200000000000001, 1: 0.17999999999999994},\n",
       "  {0: 0.8300000000000001, 1: 0.16999999999999993},\n",
       "  {0: 0.84, 1: 0.16000000000000003},\n",
       "  {0: 0.85, 1: 0.15000000000000002},\n",
       "  {0: 0.86, 1: 0.14},\n",
       "  {0: 0.87, 1: 0.13},\n",
       "  {0: 0.88, 1: 0.12},\n",
       "  {0: 0.89, 1: 0.10999999999999999},\n",
       "  {0: 0.9, 1: 0.09999999999999998},\n",
       "  {0: 0.91, 1: 0.08999999999999997},\n",
       "  {0: 0.92, 1: 0.07999999999999996},\n",
       "  {0: 0.93, 1: 0.06999999999999995},\n",
       "  {0: 0.9400000000000001, 1: 0.05999999999999994},\n",
       "  {0: 0.9500000000000001, 1: 0.04999999999999993},\n",
       "  {0: 0.96, 1: 0.040000000000000036},\n",
       "  {0: 0.97, 1: 0.030000000000000027},\n",
       "  {0: 0.98, 1: 0.020000000000000018},\n",
       "  {0: 0.99, 1: 0.010000000000000009}]}"
      ]
     },
     "execution_count": 15,
     "metadata": {},
     "output_type": "execute_result"
    }
   ],
   "source": [
    "# class_weight = 비율로 수동 조절하도록 파라미터 설정\n",
    "weights = np.linspace(0.0,.99,100)\n",
    "params = {'class_weight': [{0:x, 1:1.0-x} for x in weights]}\n",
    "params"
   ]
  },
  {
   "cell_type": "code",
   "execution_count": 16,
   "metadata": {
    "id": "SMexkzTBedVd"
   },
   "outputs": [
    {
     "data": {
      "text/plain": [
       "GridSearchCV(cv=StratifiedKFold(n_splits=5, random_state=None, shuffle=False),\n",
       "             estimator=LogisticRegression(solver='liblinear'),\n",
       "             param_grid={'class_weight': [{0: 0.0, 1: 1.0}, {0: 0.01, 1: 0.99},\n",
       "                                          {0: 0.02, 1: 0.98},\n",
       "                                          {0: 0.03, 1: 0.97},\n",
       "                                          {0: 0.04, 1: 0.96},\n",
       "                                          {0: 0.05, 1: 0.95},\n",
       "                                          {0: 0.06, 1: 0.94},\n",
       "                                          {0: 0.07, 1: 0.9299999999999999},\n",
       "                                          {0: 0.08, 1: 0.92},\n",
       "                                          {0: 0.09, 1: 0.91}, {0: 0.1, 1: 0.9},\n",
       "                                          {0: 0.11, 1: 0.89},\n",
       "                                          {0: 0.12, 1: 0.88},\n",
       "                                          {0: 0.13, 1: 0.87},\n",
       "                                          {0: 0.14, 1: 0.86},\n",
       "                                          {0: 0.15, 1: 0.85},\n",
       "                                          {0: 0.16, 1: 0.84},\n",
       "                                          {0: 0.17, 1: 0.83},\n",
       "                                          {0: 0.18, 1: 0.8200000000000001},\n",
       "                                          {0: 0.19, 1: 0.81}, {0: 0.2, 1: 0.8},\n",
       "                                          {0: 0.21, 1: 0.79},\n",
       "                                          {0: 0.22, 1: 0.78},\n",
       "                                          {0: 0.23, 1: 0.77},\n",
       "                                          {0: 0.24, 1: 0.76},\n",
       "                                          {0: 0.25, 1: 0.75},\n",
       "                                          {0: 0.26, 1: 0.74},\n",
       "                                          {0: 0.27, 1: 0.73},\n",
       "                                          {0: 0.28, 1: 0.72},\n",
       "                                          {0: 0.29, 1: 0.71}, ...]},\n",
       "             scoring='f1')"
      ]
     },
     "execution_count": 16,
     "metadata": {},
     "output_type": "execute_result"
    }
   ],
   "source": [
    "# Grid Search : 그리드서치로 튜닝\n",
    "# StratifiedKFold : 층화추출\n",
    "model = GridSearchCV(LogisticRegression(solver = 'liblinear'), params\n",
    "                    , cv= StratifiedKFold(5), scoring='f1')\n",
    "model.fit(x_train, y_train)"
   ]
  },
  {
   "cell_type": "code",
   "execution_count": 17,
   "metadata": {
    "colab": {
     "base_uri": "https://localhost:8080/"
    },
    "executionInfo": {
     "elapsed": 342,
     "status": "ok",
     "timestamp": 1646135459858,
     "user": {
      "displayName": "한기영",
      "photoUrl": "https://lh3.googleusercontent.com/a/default-user=s64",
      "userId": "13049187003176135487"
     },
     "user_tz": -540
    },
    "id": "Tt-611DHwFFt",
    "outputId": "40997c9e-de01-4acc-dc27-b14b08cafcc6"
   },
   "outputs": [
    {
     "data": {
      "text/plain": [
       "0    0.911594\n",
       "1    0.088406\n",
       "Name: Attrition, dtype: float64"
      ]
     },
     "execution_count": 17,
     "metadata": {},
     "output_type": "execute_result"
    }
   ],
   "source": [
    "y_train.value_counts()/y_train.shape[0]"
   ]
  },
  {
   "cell_type": "code",
   "execution_count": 18,
   "metadata": {
    "id": "y2mjBYUJEASR"
   },
   "outputs": [
    {
     "data": {
      "text/plain": [
       "{'mean_fit_time': array([0.00200028, 0.00300069, 0.00320053, 0.00300069, 0.00300083,\n",
       "        0.00300093, 0.00300074, 0.00320077, 0.00320072, 0.0034008 ,\n",
       "        0.00300069, 0.00320067, 0.00299926, 0.00280061, 0.00300064,\n",
       "        0.00300059, 0.00305982, 0.00280061, 0.00320063, 0.00320077,\n",
       "        0.00320058, 0.00300078, 0.00320067, 0.00300059, 0.00300069,\n",
       "        0.00320082, 0.00320086, 0.00340066, 0.00320096, 0.00319963,\n",
       "        0.00340052, 0.00300074, 0.00320082, 0.0034008 , 0.00296073,\n",
       "        0.0032032 , 0.0028008 , 0.00280056, 0.00337434, 0.00320053,\n",
       "        0.00300069, 0.00300055, 0.00320082, 0.00299907, 0.00300074,\n",
       "        0.00340095, 0.00280051, 0.00301533, 0.0026062 , 0.00320082,\n",
       "        0.00300074, 0.00279341, 0.00320048, 0.0028007 , 0.00300074,\n",
       "        0.00280056, 0.00300059, 0.00280061, 0.00300059, 0.00300088,\n",
       "        0.00300064, 0.00300055, 0.00300069, 0.00300064, 0.00320077,\n",
       "        0.0028007 , 0.00280461, 0.00280037, 0.00300078, 0.00320044,\n",
       "        0.00280085, 0.00280046, 0.00200047, 0.00280075, 0.0028007 ,\n",
       "        0.00240059, 0.00280061, 0.00260072, 0.00200038, 0.00240054,\n",
       "        0.00240054, 0.00240064, 0.00239234, 0.00200062, 0.00240064,\n",
       "        0.00260062, 0.00220404, 0.00240049, 0.00280075, 0.00260053,\n",
       "        0.00260067, 0.00220037, 0.00260043, 0.00220051, 0.00260057,\n",
       "        0.00220051, 0.00240045, 0.00200038, 0.00220046, 0.00200043]),\n",
       " 'std_fit_time': array([1.78416128e-07, 9.53674316e-08, 4.00066404e-04, 2.78041453e-07,\n",
       "        3.87384339e-07, 3.16297988e-07, 3.37174788e-07, 4.00185596e-04,\n",
       "        4.00090257e-04, 4.90076613e-04, 2.78041453e-07, 7.48290004e-04,\n",
       "        2.48413396e-06, 4.00138082e-04, 2.43140197e-07, 1.16800773e-07,\n",
       "        1.17565205e-04, 4.00137940e-04, 4.00257309e-04, 4.00066461e-04,\n",
       "        4.00280992e-04, 6.32635879e-04, 4.00114074e-04, 6.32560600e-04,\n",
       "        6.32485107e-04, 4.00161772e-04, 3.99899493e-04, 4.89998745e-04,\n",
       "        3.99851810e-04, 4.00646157e-04, 4.90018183e-04, 3.37174788e-07,\n",
       "        3.99804183e-04, 4.90076682e-04, 7.96559862e-05, 3.98878327e-04,\n",
       "        3.99994975e-04, 4.00114187e-04, 5.13864112e-04, 4.00066404e-04,\n",
       "        1.78416128e-07, 6.32635932e-04, 4.00042630e-04, 3.00066618e-06,\n",
       "        3.37174788e-07, 4.90349148e-04, 4.00090285e-04, 6.32910424e-04,\n",
       "        4.82996156e-04, 4.00400176e-04, 2.13248060e-07, 3.96679270e-04,\n",
       "        4.00209441e-04, 4.00066404e-04, 2.13248060e-07, 3.99994975e-04,\n",
       "        6.32636026e-04, 4.00137940e-04, 6.32560528e-04, 2.43140197e-07,\n",
       "        1.90734863e-07, 9.53674316e-08, 2.78041453e-07, 2.43140197e-07,\n",
       "        4.00066404e-04, 4.00185596e-04, 4.02097485e-04, 4.00137997e-04,\n",
       "        2.78041453e-07, 3.99875669e-04, 4.00137997e-04, 4.00066461e-04,\n",
       "        2.86102295e-07, 4.00209498e-04, 4.00066461e-04, 4.90018230e-04,\n",
       "        4.00137940e-04, 4.89823515e-04, 2.78041453e-07, 4.90251808e-04,\n",
       "        4.89862534e-04, 4.90076682e-04, 4.96880733e-04, 4.10190833e-07,\n",
       "        4.89979428e-04, 4.90037671e-04, 3.98524956e-04, 4.89804116e-04,\n",
       "        4.00090313e-04, 4.89959881e-04, 4.90076659e-04, 4.00304837e-04,\n",
       "        4.89881968e-04, 3.99994918e-04, 4.89901475e-04, 3.99994889e-04,\n",
       "        4.90134984e-04, 2.33601546e-07, 4.00376331e-04, 4.15696997e-07]),\n",
       " 'mean_score_time': array([0.00180049, 0.00140047, 0.00120049, 0.00120025, 0.00099993,\n",
       "        0.00140018, 0.00140028, 0.00100026, 0.00160036, 0.00100021,\n",
       "        0.00120034, 0.00120039, 0.00100031, 0.00120044, 0.00140033,\n",
       "        0.00140042, 0.00094142, 0.00140028, 0.00120039, 0.00120025,\n",
       "        0.00120039, 0.00140023, 0.00140042, 0.00120025, 0.00140038,\n",
       "        0.0012002 , 0.00100017, 0.00100026, 0.00100007, 0.00120158,\n",
       "        0.00100031, 0.00140023, 0.00140014, 0.0010417 , 0.00159912,\n",
       "        0.00100017, 0.00120029, 0.0012002 , 0.00102692, 0.00100026,\n",
       "        0.00120025, 0.00140042, 0.00120206, 0.00120029, 0.00140014,\n",
       "        0.00100007, 0.0016005 , 0.00138593, 0.00119681, 0.00100007,\n",
       "        0.00140023, 0.00160804, 0.00120049, 0.00140033, 0.00100012,\n",
       "        0.00140047, 0.00120039, 0.00140033, 0.00140047, 0.00120006,\n",
       "        0.00140038, 0.00120034, 0.00120039, 0.00120029, 0.0012002 ,\n",
       "        0.00120049, 0.00139852, 0.00140052, 0.00120029, 0.00100045,\n",
       "        0.00140009, 0.00120034, 0.00099998, 0.00100012, 0.00140028,\n",
       "        0.00120029, 0.0010004 , 0.00140009, 0.00120029, 0.00140033,\n",
       "        0.00160041, 0.0012002 , 0.00100012, 0.00140028, 0.00140018,\n",
       "        0.00100012, 0.00159693, 0.00140038, 0.00100012, 0.00100031,\n",
       "        0.00120025, 0.00120034, 0.00140047, 0.00100036, 0.0012002 ,\n",
       "        0.00140047, 0.00120025, 0.00120039, 0.00120015, 0.00120025]),\n",
       " 'std_score_time': array([4.00281020e-04, 4.90174034e-04, 4.00042573e-04, 3.99923339e-04,\n",
       "        5.22348936e-07, 4.90212867e-04, 4.89940339e-04, 1.90734863e-07,\n",
       "        4.89959789e-04, 1.78416128e-07, 4.00114074e-04, 3.99971037e-04,\n",
       "        1.90734863e-07, 4.00185709e-04, 4.90096135e-04, 4.90115523e-04,\n",
       "        1.17731336e-04, 4.90135030e-04, 4.00567065e-04, 3.99804126e-04,\n",
       "        4.00209469e-04, 4.89979265e-04, 4.90018183e-04, 4.00280992e-04,\n",
       "        4.90154472e-04, 3.99947206e-04, 1.50789149e-07, 1.16800773e-07,\n",
       "        4.15696997e-07, 4.03428088e-04, 1.90734863e-07, 4.90076636e-04,\n",
       "        4.90057117e-04, 8.31847035e-05, 4.88661626e-04, 1.50789149e-07,\n",
       "        4.00138395e-04, 4.00066461e-04, 5.73858018e-05, 2.43140197e-07,\n",
       "        4.00042601e-04, 4.90018183e-04, 3.99152818e-04, 4.00137940e-04,\n",
       "        4.90154658e-04, 1.90734863e-07, 4.90076589e-04, 5.02643975e-04,\n",
       "        3.92937671e-04, 3.23406696e-07, 4.89881921e-04, 5.03377423e-04,\n",
       "        4.00042601e-04, 4.90096066e-04, 1.78416128e-07, 4.90076636e-04,\n",
       "        4.00209583e-04, 4.90096089e-04, 4.90076636e-04, 4.00018706e-04,\n",
       "        4.89959812e-04, 4.00233336e-04, 4.00090313e-04, 4.00137940e-04,\n",
       "        4.00185596e-04, 4.00161828e-04, 4.91684582e-04, 4.90232370e-04,\n",
       "        3.99899522e-04, 1.78416128e-07, 4.90096135e-04, 4.00233450e-04,\n",
       "        1.78416128e-07, 1.78416128e-07, 4.89842988e-04, 3.99899493e-04,\n",
       "        3.01578299e-07, 4.90096066e-04, 4.00137969e-04, 4.90096066e-04,\n",
       "        4.89998769e-04, 3.99947206e-04, 1.78416128e-07, 4.90037671e-04,\n",
       "        4.90115569e-04, 1.78416128e-07, 4.87097968e-04, 4.89765144e-04,\n",
       "        2.33601546e-07, 2.43140197e-07, 4.00042545e-04, 3.99994975e-04,\n",
       "        4.89979265e-04, 2.78041453e-07, 3.99947177e-04, 4.89979358e-04,\n",
       "        4.00280992e-04, 3.99851838e-04, 4.00209555e-04, 3.99923453e-04]),\n",
       " 'param_class_weight': masked_array(data=[{0: 0.0, 1: 1.0}, {0: 0.01, 1: 0.99},\n",
       "                    {0: 0.02, 1: 0.98}, {0: 0.03, 1: 0.97},\n",
       "                    {0: 0.04, 1: 0.96}, {0: 0.05, 1: 0.95},\n",
       "                    {0: 0.06, 1: 0.94}, {0: 0.07, 1: 0.9299999999999999},\n",
       "                    {0: 0.08, 1: 0.92}, {0: 0.09, 1: 0.91},\n",
       "                    {0: 0.1, 1: 0.9}, {0: 0.11, 1: 0.89},\n",
       "                    {0: 0.12, 1: 0.88}, {0: 0.13, 1: 0.87},\n",
       "                    {0: 0.14, 1: 0.86}, {0: 0.15, 1: 0.85},\n",
       "                    {0: 0.16, 1: 0.84}, {0: 0.17, 1: 0.83},\n",
       "                    {0: 0.18, 1: 0.8200000000000001}, {0: 0.19, 1: 0.81},\n",
       "                    {0: 0.2, 1: 0.8}, {0: 0.21, 1: 0.79},\n",
       "                    {0: 0.22, 1: 0.78}, {0: 0.23, 1: 0.77},\n",
       "                    {0: 0.24, 1: 0.76}, {0: 0.25, 1: 0.75},\n",
       "                    {0: 0.26, 1: 0.74}, {0: 0.27, 1: 0.73},\n",
       "                    {0: 0.28, 1: 0.72}, {0: 0.29, 1: 0.71},\n",
       "                    {0: 0.3, 1: 0.7}, {0: 0.31, 1: 0.69},\n",
       "                    {0: 0.32, 1: 0.6799999999999999},\n",
       "                    {0: 0.33, 1: 0.6699999999999999},\n",
       "                    {0: 0.34, 1: 0.6599999999999999},\n",
       "                    {0: 0.35000000000000003, 1: 0.6499999999999999},\n",
       "                    {0: 0.36, 1: 0.64}, {0: 0.37, 1: 0.63},\n",
       "                    {0: 0.38, 1: 0.62}, {0: 0.39, 1: 0.61},\n",
       "                    {0: 0.4, 1: 0.6}, {0: 0.41000000000000003, 1: 0.59},\n",
       "                    {0: 0.42, 1: 0.5800000000000001},\n",
       "                    {0: 0.43, 1: 0.5700000000000001}, {0: 0.44, 1: 0.56},\n",
       "                    {0: 0.45, 1: 0.55}, {0: 0.46, 1: 0.54},\n",
       "                    {0: 0.47000000000000003, 1: 0.53}, {0: 0.48, 1: 0.52},\n",
       "                    {0: 0.49, 1: 0.51}, {0: 0.5, 1: 0.5},\n",
       "                    {0: 0.51, 1: 0.49}, {0: 0.52, 1: 0.48},\n",
       "                    {0: 0.53, 1: 0.47}, {0: 0.54, 1: 0.45999999999999996},\n",
       "                    {0: 0.55, 1: 0.44999999999999996},\n",
       "                    {0: 0.56, 1: 0.43999999999999995},\n",
       "                    {0: 0.5700000000000001, 1: 0.42999999999999994},\n",
       "                    {0: 0.58, 1: 0.42000000000000004},\n",
       "                    {0: 0.59, 1: 0.41000000000000003}, {0: 0.6, 1: 0.4},\n",
       "                    {0: 0.61, 1: 0.39}, {0: 0.62, 1: 0.38},\n",
       "                    {0: 0.63, 1: 0.37}, {0: 0.64, 1: 0.36},\n",
       "                    {0: 0.65, 1: 0.35}, {0: 0.66, 1: 0.33999999999999997},\n",
       "                    {0: 0.67, 1: 0.32999999999999996},\n",
       "                    {0: 0.68, 1: 0.31999999999999995},\n",
       "                    {0: 0.6900000000000001, 1: 0.30999999999999994},\n",
       "                    {0: 0.7000000000000001, 1: 0.29999999999999993},\n",
       "                    {0: 0.71, 1: 0.29000000000000004}, {0: 0.72, 1: 0.28},\n",
       "                    {0: 0.73, 1: 0.27}, {0: 0.74, 1: 0.26},\n",
       "                    {0: 0.75, 1: 0.25}, {0: 0.76, 1: 0.24},\n",
       "                    {0: 0.77, 1: 0.22999999999999998},\n",
       "                    {0: 0.78, 1: 0.21999999999999997},\n",
       "                    {0: 0.79, 1: 0.20999999999999996},\n",
       "                    {0: 0.8, 1: 0.19999999999999996},\n",
       "                    {0: 0.81, 1: 0.18999999999999995},\n",
       "                    {0: 0.8200000000000001, 1: 0.17999999999999994},\n",
       "                    {0: 0.8300000000000001, 1: 0.16999999999999993},\n",
       "                    {0: 0.84, 1: 0.16000000000000003},\n",
       "                    {0: 0.85, 1: 0.15000000000000002}, {0: 0.86, 1: 0.14},\n",
       "                    {0: 0.87, 1: 0.13}, {0: 0.88, 1: 0.12},\n",
       "                    {0: 0.89, 1: 0.10999999999999999},\n",
       "                    {0: 0.9, 1: 0.09999999999999998},\n",
       "                    {0: 0.91, 1: 0.08999999999999997},\n",
       "                    {0: 0.92, 1: 0.07999999999999996},\n",
       "                    {0: 0.93, 1: 0.06999999999999995},\n",
       "                    {0: 0.9400000000000001, 1: 0.05999999999999994},\n",
       "                    {0: 0.9500000000000001, 1: 0.04999999999999993},\n",
       "                    {0: 0.96, 1: 0.040000000000000036},\n",
       "                    {0: 0.97, 1: 0.030000000000000027},\n",
       "                    {0: 0.98, 1: 0.020000000000000018},\n",
       "                    {0: 0.99, 1: 0.010000000000000009}],\n",
       "              mask=[False, False, False, False, False, False, False, False,\n",
       "                    False, False, False, False, False, False, False, False,\n",
       "                    False, False, False, False, False, False, False, False,\n",
       "                    False, False, False, False, False, False, False, False,\n",
       "                    False, False, False, False, False, False, False, False,\n",
       "                    False, False, False, False, False, False, False, False,\n",
       "                    False, False, False, False, False, False, False, False,\n",
       "                    False, False, False, False, False, False, False, False,\n",
       "                    False, False, False, False, False, False, False, False,\n",
       "                    False, False, False, False, False, False, False, False,\n",
       "                    False, False, False, False, False, False, False, False,\n",
       "                    False, False, False, False, False, False, False, False,\n",
       "                    False, False, False, False],\n",
       "        fill_value='?',\n",
       "             dtype=object),\n",
       " 'params': [{'class_weight': {0: 0.0, 1: 1.0}},\n",
       "  {'class_weight': {0: 0.01, 1: 0.99}},\n",
       "  {'class_weight': {0: 0.02, 1: 0.98}},\n",
       "  {'class_weight': {0: 0.03, 1: 0.97}},\n",
       "  {'class_weight': {0: 0.04, 1: 0.96}},\n",
       "  {'class_weight': {0: 0.05, 1: 0.95}},\n",
       "  {'class_weight': {0: 0.06, 1: 0.94}},\n",
       "  {'class_weight': {0: 0.07, 1: 0.9299999999999999}},\n",
       "  {'class_weight': {0: 0.08, 1: 0.92}},\n",
       "  {'class_weight': {0: 0.09, 1: 0.91}},\n",
       "  {'class_weight': {0: 0.1, 1: 0.9}},\n",
       "  {'class_weight': {0: 0.11, 1: 0.89}},\n",
       "  {'class_weight': {0: 0.12, 1: 0.88}},\n",
       "  {'class_weight': {0: 0.13, 1: 0.87}},\n",
       "  {'class_weight': {0: 0.14, 1: 0.86}},\n",
       "  {'class_weight': {0: 0.15, 1: 0.85}},\n",
       "  {'class_weight': {0: 0.16, 1: 0.84}},\n",
       "  {'class_weight': {0: 0.17, 1: 0.83}},\n",
       "  {'class_weight': {0: 0.18, 1: 0.8200000000000001}},\n",
       "  {'class_weight': {0: 0.19, 1: 0.81}},\n",
       "  {'class_weight': {0: 0.2, 1: 0.8}},\n",
       "  {'class_weight': {0: 0.21, 1: 0.79}},\n",
       "  {'class_weight': {0: 0.22, 1: 0.78}},\n",
       "  {'class_weight': {0: 0.23, 1: 0.77}},\n",
       "  {'class_weight': {0: 0.24, 1: 0.76}},\n",
       "  {'class_weight': {0: 0.25, 1: 0.75}},\n",
       "  {'class_weight': {0: 0.26, 1: 0.74}},\n",
       "  {'class_weight': {0: 0.27, 1: 0.73}},\n",
       "  {'class_weight': {0: 0.28, 1: 0.72}},\n",
       "  {'class_weight': {0: 0.29, 1: 0.71}},\n",
       "  {'class_weight': {0: 0.3, 1: 0.7}},\n",
       "  {'class_weight': {0: 0.31, 1: 0.69}},\n",
       "  {'class_weight': {0: 0.32, 1: 0.6799999999999999}},\n",
       "  {'class_weight': {0: 0.33, 1: 0.6699999999999999}},\n",
       "  {'class_weight': {0: 0.34, 1: 0.6599999999999999}},\n",
       "  {'class_weight': {0: 0.35000000000000003, 1: 0.6499999999999999}},\n",
       "  {'class_weight': {0: 0.36, 1: 0.64}},\n",
       "  {'class_weight': {0: 0.37, 1: 0.63}},\n",
       "  {'class_weight': {0: 0.38, 1: 0.62}},\n",
       "  {'class_weight': {0: 0.39, 1: 0.61}},\n",
       "  {'class_weight': {0: 0.4, 1: 0.6}},\n",
       "  {'class_weight': {0: 0.41000000000000003, 1: 0.59}},\n",
       "  {'class_weight': {0: 0.42, 1: 0.5800000000000001}},\n",
       "  {'class_weight': {0: 0.43, 1: 0.5700000000000001}},\n",
       "  {'class_weight': {0: 0.44, 1: 0.56}},\n",
       "  {'class_weight': {0: 0.45, 1: 0.55}},\n",
       "  {'class_weight': {0: 0.46, 1: 0.54}},\n",
       "  {'class_weight': {0: 0.47000000000000003, 1: 0.53}},\n",
       "  {'class_weight': {0: 0.48, 1: 0.52}},\n",
       "  {'class_weight': {0: 0.49, 1: 0.51}},\n",
       "  {'class_weight': {0: 0.5, 1: 0.5}},\n",
       "  {'class_weight': {0: 0.51, 1: 0.49}},\n",
       "  {'class_weight': {0: 0.52, 1: 0.48}},\n",
       "  {'class_weight': {0: 0.53, 1: 0.47}},\n",
       "  {'class_weight': {0: 0.54, 1: 0.45999999999999996}},\n",
       "  {'class_weight': {0: 0.55, 1: 0.44999999999999996}},\n",
       "  {'class_weight': {0: 0.56, 1: 0.43999999999999995}},\n",
       "  {'class_weight': {0: 0.5700000000000001, 1: 0.42999999999999994}},\n",
       "  {'class_weight': {0: 0.58, 1: 0.42000000000000004}},\n",
       "  {'class_weight': {0: 0.59, 1: 0.41000000000000003}},\n",
       "  {'class_weight': {0: 0.6, 1: 0.4}},\n",
       "  {'class_weight': {0: 0.61, 1: 0.39}},\n",
       "  {'class_weight': {0: 0.62, 1: 0.38}},\n",
       "  {'class_weight': {0: 0.63, 1: 0.37}},\n",
       "  {'class_weight': {0: 0.64, 1: 0.36}},\n",
       "  {'class_weight': {0: 0.65, 1: 0.35}},\n",
       "  {'class_weight': {0: 0.66, 1: 0.33999999999999997}},\n",
       "  {'class_weight': {0: 0.67, 1: 0.32999999999999996}},\n",
       "  {'class_weight': {0: 0.68, 1: 0.31999999999999995}},\n",
       "  {'class_weight': {0: 0.6900000000000001, 1: 0.30999999999999994}},\n",
       "  {'class_weight': {0: 0.7000000000000001, 1: 0.29999999999999993}},\n",
       "  {'class_weight': {0: 0.71, 1: 0.29000000000000004}},\n",
       "  {'class_weight': {0: 0.72, 1: 0.28}},\n",
       "  {'class_weight': {0: 0.73, 1: 0.27}},\n",
       "  {'class_weight': {0: 0.74, 1: 0.26}},\n",
       "  {'class_weight': {0: 0.75, 1: 0.25}},\n",
       "  {'class_weight': {0: 0.76, 1: 0.24}},\n",
       "  {'class_weight': {0: 0.77, 1: 0.22999999999999998}},\n",
       "  {'class_weight': {0: 0.78, 1: 0.21999999999999997}},\n",
       "  {'class_weight': {0: 0.79, 1: 0.20999999999999996}},\n",
       "  {'class_weight': {0: 0.8, 1: 0.19999999999999996}},\n",
       "  {'class_weight': {0: 0.81, 1: 0.18999999999999995}},\n",
       "  {'class_weight': {0: 0.8200000000000001, 1: 0.17999999999999994}},\n",
       "  {'class_weight': {0: 0.8300000000000001, 1: 0.16999999999999993}},\n",
       "  {'class_weight': {0: 0.84, 1: 0.16000000000000003}},\n",
       "  {'class_weight': {0: 0.85, 1: 0.15000000000000002}},\n",
       "  {'class_weight': {0: 0.86, 1: 0.14}},\n",
       "  {'class_weight': {0: 0.87, 1: 0.13}},\n",
       "  {'class_weight': {0: 0.88, 1: 0.12}},\n",
       "  {'class_weight': {0: 0.89, 1: 0.10999999999999999}},\n",
       "  {'class_weight': {0: 0.9, 1: 0.09999999999999998}},\n",
       "  {'class_weight': {0: 0.91, 1: 0.08999999999999997}},\n",
       "  {'class_weight': {0: 0.92, 1: 0.07999999999999996}},\n",
       "  {'class_weight': {0: 0.93, 1: 0.06999999999999995}},\n",
       "  {'class_weight': {0: 0.9400000000000001, 1: 0.05999999999999994}},\n",
       "  {'class_weight': {0: 0.9500000000000001, 1: 0.04999999999999993}},\n",
       "  {'class_weight': {0: 0.96, 1: 0.040000000000000036}},\n",
       "  {'class_weight': {0: 0.97, 1: 0.030000000000000027}},\n",
       "  {'class_weight': {0: 0.98, 1: 0.020000000000000018}},\n",
       "  {'class_weight': {0: 0.99, 1: 0.010000000000000009}}],\n",
       " 'split0_test_score': array([0.16      , 0.16438356, 0.17777778, 0.20168067, 0.21359223,\n",
       "        0.22222222, 0.24324324, 0.24615385, 0.2295082 , 0.24561404,\n",
       "        0.25454545, 0.28      , 0.31111111, 0.28571429, 0.3       ,\n",
       "        0.31578947, 0.32432432, 0.28571429, 0.3030303 , 0.33333333,\n",
       "        0.2962963 , 0.30769231, 0.32      , 0.27272727, 0.27272727,\n",
       "        0.3       , 0.3       , 0.3       , 0.33333333, 0.33333333,\n",
       "        0.35294118, 0.33333333, 0.35294118, 0.13333333, 0.25      ,\n",
       "        0.13333333, 0.13333333, 0.13333333, 0.13333333, 0.13333333,\n",
       "        0.13333333, 0.14285714, 0.14285714, 0.        , 0.14285714,\n",
       "        0.14285714, 0.14285714, 0.14285714, 0.14285714, 0.14285714,\n",
       "        0.14285714, 0.14285714, 0.        , 0.14285714, 0.        ,\n",
       "        0.        , 0.        , 0.        , 0.        , 0.        ,\n",
       "        0.        , 0.        , 0.        , 0.        , 0.        ,\n",
       "        0.        , 0.        , 0.        , 0.        , 0.        ,\n",
       "        0.        , 0.        , 0.        , 0.        , 0.        ,\n",
       "        0.        , 0.        , 0.        , 0.        , 0.        ,\n",
       "        0.        , 0.        , 0.        , 0.        , 0.        ,\n",
       "        0.        , 0.        , 0.        , 0.        , 0.        ,\n",
       "        0.        , 0.        , 0.        , 0.        , 0.        ,\n",
       "        0.        , 0.        , 0.        , 0.        , 0.        ]),\n",
       " 'split1_test_score': array([0.16      , 0.16793893, 0.18644068, 0.19417476, 0.21505376,\n",
       "        0.22222222, 0.2278481 , 0.23188406, 0.22222222, 0.24137931,\n",
       "        0.25454545, 0.2745098 , 0.31111111, 0.33333333, 0.34146341,\n",
       "        0.35897436, 0.34285714, 0.25      , 0.25806452, 0.25806452,\n",
       "        0.28571429, 0.28571429, 0.30769231, 0.30769231, 0.30769231,\n",
       "        0.25      , 0.25      , 0.27272727, 0.2       , 0.        ,\n",
       "        0.        , 0.125     , 0.        , 0.        , 0.        ,\n",
       "        0.        , 0.        , 0.        , 0.        , 0.        ,\n",
       "        0.        , 0.        , 0.        , 0.        , 0.        ,\n",
       "        0.        , 0.        , 0.        , 0.        , 0.        ,\n",
       "        0.        , 0.        , 0.        , 0.        , 0.        ,\n",
       "        0.        , 0.        , 0.        , 0.        , 0.        ,\n",
       "        0.        , 0.        , 0.        , 0.        , 0.        ,\n",
       "        0.        , 0.        , 0.        , 0.        , 0.        ,\n",
       "        0.        , 0.        , 0.        , 0.        , 0.        ,\n",
       "        0.        , 0.        , 0.        , 0.        , 0.        ,\n",
       "        0.        , 0.        , 0.        , 0.        , 0.        ,\n",
       "        0.        , 0.        , 0.        , 0.        , 0.        ,\n",
       "        0.        , 0.        , 0.        , 0.        , 0.        ,\n",
       "        0.        , 0.        , 0.        , 0.        , 0.        ]),\n",
       " 'split2_test_score': array([0.16      , 0.16666667, 0.192     , 0.18018018, 0.19354839,\n",
       "        0.22222222, 0.24242424, 0.26229508, 0.30769231, 0.32653061,\n",
       "        0.33333333, 0.26666667, 0.19512195, 0.21052632, 0.22222222,\n",
       "        0.22857143, 0.24242424, 0.25      , 0.26666667, 0.26666667,\n",
       "        0.28571429, 0.2962963 , 0.30769231, 0.30769231, 0.32      ,\n",
       "        0.34782609, 0.3       , 0.27272727, 0.21052632, 0.21052632,\n",
       "        0.11764706, 0.11764706, 0.11764706, 0.13333333, 0.11764706,\n",
       "        0.125     , 0.125     , 0.125     , 0.125     , 0.13333333,\n",
       "        0.125     , 0.14285714, 0.14285714, 0.14285714, 0.14285714,\n",
       "        0.        , 0.        , 0.14285714, 0.14285714, 0.14285714,\n",
       "        0.15384615, 0.14285714, 0.15384615, 0.15384615, 0.15384615,\n",
       "        0.        , 0.        , 0.15384615, 0.15384615, 0.15384615,\n",
       "        0.        , 0.15384615, 0.        , 0.        , 0.        ,\n",
       "        0.        , 0.        , 0.        , 0.        , 0.        ,\n",
       "        0.        , 0.        , 0.        , 0.        , 0.        ,\n",
       "        0.        , 0.        , 0.        , 0.        , 0.        ,\n",
       "        0.        , 0.        , 0.        , 0.        , 0.        ,\n",
       "        0.        , 0.        , 0.        , 0.        , 0.        ,\n",
       "        0.        , 0.        , 0.        , 0.        , 0.        ,\n",
       "        0.        , 0.        , 0.        , 0.        , 0.        ]),\n",
       " 'split3_test_score': array([0.16      , 0.16326531, 0.17647059, 0.19354839, 0.19607843,\n",
       "        0.19354839, 0.2       , 0.23529412, 0.22580645, 0.17857143,\n",
       "        0.16      , 0.16666667, 0.14285714, 0.16216216, 0.17647059,\n",
       "        0.13333333, 0.07407407, 0.07692308, 0.08333333, 0.09090909,\n",
       "        0.09090909, 0.0952381 , 0.10526316, 0.0952381 , 0.10526316,\n",
       "        0.10526316, 0.10526316, 0.10526316, 0.10526316, 0.10526316,\n",
       "        0.11111111, 0.11111111, 0.10526316, 0.125     , 0.125     ,\n",
       "        0.125     , 0.125     , 0.13333333, 0.125     , 0.14285714,\n",
       "        0.14285714, 0.14285714, 0.14285714, 0.14285714, 0.14285714,\n",
       "        0.14285714, 0.14285714, 0.14285714, 0.14285714, 0.14285714,\n",
       "        0.14285714, 0.14285714, 0.15384615, 0.        , 0.14285714,\n",
       "        0.14285714, 0.14285714, 0.14285714, 0.14285714, 0.        ,\n",
       "        0.        , 0.        , 0.        , 0.        , 0.        ,\n",
       "        0.        , 0.        , 0.        , 0.        , 0.        ,\n",
       "        0.        , 0.        , 0.        , 0.        , 0.        ,\n",
       "        0.        , 0.        , 0.        , 0.        , 0.        ,\n",
       "        0.        , 0.        , 0.        , 0.        , 0.        ,\n",
       "        0.        , 0.        , 0.        , 0.        , 0.        ,\n",
       "        0.        , 0.        , 0.        , 0.        , 0.        ,\n",
       "        0.        , 0.        , 0.        , 0.        , 0.        ]),\n",
       " 'split4_test_score': array([0.17218543, 0.17266187, 0.19672131, 0.22857143, 0.24444444,\n",
       "        0.25      , 0.24657534, 0.27272727, 0.30508475, 0.2962963 ,\n",
       "        0.25      , 0.27906977, 0.29268293, 0.33333333, 0.34285714,\n",
       "        0.35294118, 0.3125    , 0.28571429, 0.32      , 0.27272727,\n",
       "        0.10526316, 0.11111111, 0.125     , 0.125     , 0.125     ,\n",
       "        0.125     , 0.125     , 0.125     , 0.125     , 0.125     ,\n",
       "        0.125     , 0.125     , 0.125     , 0.13333333, 0.13333333,\n",
       "        0.14285714, 0.14285714, 0.14285714, 0.13333333, 0.14285714,\n",
       "        0.14285714, 0.14285714, 0.14285714, 0.        , 0.14285714,\n",
       "        0.14285714, 0.        , 0.14285714, 0.14285714, 0.        ,\n",
       "        0.        , 0.        , 0.        , 0.        , 0.        ,\n",
       "        0.        , 0.        , 0.        , 0.        , 0.        ,\n",
       "        0.        , 0.        , 0.        , 0.        , 0.        ,\n",
       "        0.        , 0.        , 0.        , 0.        , 0.        ,\n",
       "        0.        , 0.        , 0.        , 0.        , 0.        ,\n",
       "        0.        , 0.        , 0.        , 0.        , 0.        ,\n",
       "        0.        , 0.        , 0.        , 0.        , 0.        ,\n",
       "        0.        , 0.        , 0.        , 0.        , 0.        ,\n",
       "        0.        , 0.        , 0.        , 0.        , 0.        ,\n",
       "        0.        , 0.        , 0.        , 0.        , 0.        ]),\n",
       " 'mean_test_score': array([0.16243709, 0.16698327, 0.18588207, 0.19963109, 0.21254345,\n",
       "        0.22204301, 0.23201819, 0.24967088, 0.25806278, 0.25767834,\n",
       "        0.25048485, 0.25338258, 0.25057685, 0.26501389, 0.27660267,\n",
       "        0.27792195, 0.25923596, 0.22967033, 0.24621896, 0.24434018,\n",
       "        0.21277942, 0.21921042, 0.23312955, 0.22167   , 0.22613655,\n",
       "        0.22561785, 0.21605263, 0.21514354, 0.19482456, 0.15482456,\n",
       "        0.14133987, 0.1624183 , 0.14017028, 0.105     , 0.12519608,\n",
       "        0.1052381 , 0.1052381 , 0.10690476, 0.10333333, 0.11047619,\n",
       "        0.10880952, 0.11428571, 0.11428571, 0.05714286, 0.11428571,\n",
       "        0.08571429, 0.05714286, 0.11428571, 0.11428571, 0.08571429,\n",
       "        0.08791209, 0.08571429, 0.06153846, 0.05934066, 0.05934066,\n",
       "        0.02857143, 0.02857143, 0.05934066, 0.05934066, 0.03076923,\n",
       "        0.        , 0.03076923, 0.        , 0.        , 0.        ,\n",
       "        0.        , 0.        , 0.        , 0.        , 0.        ,\n",
       "        0.        , 0.        , 0.        , 0.        , 0.        ,\n",
       "        0.        , 0.        , 0.        , 0.        , 0.        ,\n",
       "        0.        , 0.        , 0.        , 0.        , 0.        ,\n",
       "        0.        , 0.        , 0.        , 0.        , 0.        ,\n",
       "        0.        , 0.        , 0.        , 0.        , 0.        ,\n",
       "        0.        , 0.        , 0.        , 0.        , 0.        ]),\n",
       " 'std_test_score': array([0.00487417, 0.00328152, 0.00786747, 0.01604277, 0.01820431,\n",
       "        0.01785292, 0.01725545, 0.01566141, 0.03953362, 0.05079585,\n",
       "        0.05492648, 0.04361375, 0.06896448, 0.06828026, 0.06652469,\n",
       "        0.08599147, 0.09862415, 0.07802585, 0.08457106, 0.08118317,\n",
       "        0.09383622, 0.09513006, 0.09665143, 0.09245176, 0.09216438,\n",
       "        0.09557327, 0.08463053, 0.08250085, 0.08044218, 0.11161053,\n",
       "        0.11532059, 0.08561437, 0.11565042, 0.05259911, 0.07921277,\n",
       "        0.05302953, 0.05302953, 0.05375049, 0.0518009 , 0.05540206,\n",
       "        0.05481157, 0.05714286, 0.05714286, 0.06998542, 0.05714286,\n",
       "        0.06998542, 0.06998542, 0.05714286, 0.05714286, 0.06998542,\n",
       "        0.07189199, 0.06998542, 0.07536892, 0.0727602 , 0.0727602 ,\n",
       "        0.05714286, 0.05714286, 0.0727602 , 0.0727602 , 0.06153846,\n",
       "        0.        , 0.06153846, 0.        , 0.        , 0.        ,\n",
       "        0.        , 0.        , 0.        , 0.        , 0.        ,\n",
       "        0.        , 0.        , 0.        , 0.        , 0.        ,\n",
       "        0.        , 0.        , 0.        , 0.        , 0.        ,\n",
       "        0.        , 0.        , 0.        , 0.        , 0.        ,\n",
       "        0.        , 0.        , 0.        , 0.        , 0.        ,\n",
       "        0.        , 0.        , 0.        , 0.        , 0.        ,\n",
       "        0.        , 0.        , 0.        , 0.        , 0.        ]),\n",
       " 'rank_test_score': array([29, 28, 27, 25, 24, 18, 14, 10,  5,  6,  9,  7,  8,  3,  2,  1,  4,\n",
       "        15, 11, 12, 23, 20, 13, 19, 16, 17, 21, 22, 26, 31, 32, 30, 33, 45,\n",
       "        34, 43, 43, 42, 46, 40, 41, 35, 35, 56, 35, 48, 56, 35, 35, 48, 47,\n",
       "        48, 51, 52, 52, 60, 60, 52, 52, 58, 62, 58, 62, 62, 62, 62, 62, 62,\n",
       "        62, 62, 62, 62, 62, 62, 62, 62, 62, 62, 62, 62, 62, 62, 62, 62, 62,\n",
       "        62, 62, 62, 62, 62, 62, 62, 62, 62, 62, 62, 62, 62, 62, 62])}"
      ]
     },
     "execution_count": 18,
     "metadata": {},
     "output_type": "execute_result"
    }
   ],
   "source": [
    "model.cv_results_"
   ]
  },
  {
   "cell_type": "code",
   "execution_count": 19,
   "metadata": {
    "colab": {
     "base_uri": "https://localhost:8080/",
     "height": 515
    },
    "executionInfo": {
     "elapsed": 7,
     "status": "ok",
     "timestamp": 1646135471340,
     "user": {
      "displayName": "한기영",
      "photoUrl": "https://lh3.googleusercontent.com/a/default-user=s64",
      "userId": "13049187003176135487"
     },
     "user_tz": -540
    },
    "id": "gB7j4EfPqpBp",
    "outputId": "5231d4c2-29ea-415c-f0f6-1ee83d95bbee"
   },
   "outputs": [
    {
     "name": "stdout",
     "output_type": "stream",
     "text": [
      "{'class_weight': {0: 0.15, 1: 0.85}}\n"
     ]
    },
    {
     "data": {
      "image/png": "[encoded data removed]",
      "text/plain": [
       "<Figure size 864x576 with 1 Axes>"
      ]
     },
     "metadata": {
      "needs_background": "light"
     },
     "output_type": "display_data"
    }
   ],
   "source": [
    "weight_1 = 1.0 - weights\n",
    "f1 = model.cv_results_['mean_test_score']\n",
    "\n",
    "print(model.best_params_)\n",
    "plt.figure(figsize=(12, 8))\n",
    "plt.plot(weight_1, f1)\n",
    "plt.ylabel('F1 Score')\n",
    "plt.xlabel('Class 1 weight')\n",
    "plt.grid()\n",
    "plt.show()"
   ]
  },
  {
   "cell_type": "markdown",
   "metadata": {
    "id": "Zq16p6wV84Rv"
   },
   "source": [
    "#### ③ 추가 실험\n",
    "\n",
    "* 이해하기, 사용하기 쉬운 데이터로 몇가지 실험을 해 봅시다."
   ]
  },
  {
   "cell_type": "code",
   "execution_count": 20,
   "metadata": {
    "id": "u_BM-LZm8-Qb"
   },
   "outputs": [],
   "source": [
    "path = 'https://raw.githubusercontent.com/DA4BAM/dataset/master/titanic.1.csv'\n",
    "titanic = pd.read_csv(path, usecols=['Survived', 'Age', 'Fare'])\n",
    "target = 'Survived'\n",
    "x1 = titanic.drop(target, axis = 1)\n",
    "y1 = titanic.loc[:, target]"
   ]
  },
  {
   "cell_type": "code",
   "execution_count": 21,
   "metadata": {
    "colab": {
     "base_uri": "https://localhost:8080/"
    },
    "executionInfo": {
     "elapsed": 3,
     "status": "ok",
     "timestamp": 1646135504507,
     "user": {
      "displayName": "한기영",
      "photoUrl": "https://lh3.googleusercontent.com/a/default-user=s64",
      "userId": "13049187003176135487"
     },
     "user_tz": -540
    },
    "id": "MDk5Eujy9ou4",
    "outputId": "bfc6f88c-dd69-4526-eb13-8452a8431b2e"
   },
   "outputs": [
    {
     "data": {
      "text/plain": [
       "array([0.61616162, 0.38383838])"
      ]
     },
     "execution_count": 21,
     "metadata": {},
     "output_type": "execute_result"
    }
   ],
   "source": [
    "# 클래스별 비율\n",
    "c_rate = np.bincount(y1) / y1.shape[0]\n",
    "c_rate"
   ]
  },
  {
   "cell_type": "code",
   "execution_count": 22,
   "metadata": {
    "colab": {
     "base_uri": "https://localhost:8080/"
    },
    "executionInfo": {
     "elapsed": 8,
     "status": "ok",
     "timestamp": 1646135504870,
     "user": {
      "displayName": "한기영",
      "photoUrl": "https://lh3.googleusercontent.com/a/default-user=s64",
      "userId": "13049187003176135487"
     },
     "user_tz": -540
    },
    "id": "uOcay1N0917A",
    "outputId": "d425639b-e351-4dad-a46d-cc7fc024bdbb"
   },
   "outputs": [
    {
     "data": {
      "text/plain": [
       "LogisticRegression(class_weight={0: 0.3838383838383838, 1: 0.6161616161616161},\n",
       "                   solver='liblinear')"
      ]
     },
     "execution_count": 22,
     "metadata": {},
     "output_type": "execute_result"
    }
   ],
   "source": [
    "# 실험1 : 아무것도 없으면 1:1 ?\n",
    "m1 = LogisticRegression(solver = 'liblinear')\n",
    "wt = 0.5\n",
    "m2 = LogisticRegression(solver = 'liblinear', class_weight= {0:wt, 1:1-wt})\n",
    "\n",
    "# 실험2 : balanced는 클래스비율 역으로 지정?\n",
    "m3 = LogisticRegression(solver = 'liblinear', class_weight='balanced')\n",
    "wt = c_rate[1]\n",
    "m4 = LogisticRegression(solver = 'liblinear', class_weight= {0:wt, 1:1-wt})\n",
    "\n",
    "m1.fit(x1, y1)\n",
    "m2.fit(x1, y1)\n",
    "m3.fit(x1, y1)\n",
    "m4.fit(x1, y1)"
   ]
  },
  {
   "cell_type": "code",
   "execution_count": 23,
   "metadata": {
    "colab": {
     "base_uri": "https://localhost:8080/"
    },
    "executionInfo": {
     "elapsed": 5,
     "status": "ok",
     "timestamp": 1646135505333,
     "user": {
      "displayName": "한기영",
      "photoUrl": "https://lh3.googleusercontent.com/a/default-user=s64",
      "userId": "13049187003176135487"
     },
     "user_tz": -540
    },
    "id": "d9POXeDw-qJ8",
    "outputId": "f57b0efd-618e-4d11-ee54-c5e0ac0b811d"
   },
   "outputs": [
    {
     "name": "stdout",
     "output_type": "stream",
     "text": [
      "['Age', 'Fare']\n",
      "--------------------------------------------------\n",
      "[[-0.0206713   0.01637549]] [-0.36489103]\n",
      "[[-0.02096103  0.01634554]] [-0.35387001]\n",
      "--------------------------------------------------\n",
      "[[-0.02122265  0.01795964]] [0.07551938]\n",
      "[[-0.02115997  0.01796662]] [0.07311523]\n"
     ]
    }
   ],
   "source": [
    "print(list(x1))\n",
    "print('-'*50)\n",
    "print(m1.coef_, m1.intercept_)\n",
    "print(m2.coef_, m2.intercept_)\n",
    "print('-'*50)\n",
    "print(m3.coef_, m3.intercept_)\n",
    "print(m4.coef_, m4.intercept_)"
   ]
  },
  {
   "cell_type": "markdown",
   "metadata": {
    "id": "GrGEwuWBsyV4"
   },
   "source": [
    "#### ② Decision Tree\n",
    "> * class_weight = 'balanced'\n",
    "* class_weight = 비율로 수동 조절"
   ]
  },
  {
   "cell_type": "code",
   "execution_count": 24,
   "metadata": {
    "colab": {
     "base_uri": "https://localhost:8080/",
     "height": 697
    },
    "executionInfo": {
     "elapsed": 1706,
     "status": "ok",
     "timestamp": 1646135507557,
     "user": {
      "displayName": "한기영",
      "photoUrl": "https://lh3.googleusercontent.com/a/default-user=s64",
      "userId": "13049187003176135487"
     },
     "user_tz": -540
    },
    "id": "oLQMKVB1HTIk",
    "outputId": "bb7ba522-bc7c-48ec-ca25-f3c30fc72910"
   },
   "outputs": [
    {
     "data": {
      "image/png": "[encoded data removed]",
      "text/plain": [
       "<Figure size 720x432 with 1 Axes>"
      ]
     },
     "metadata": {
      "needs_background": "light"
     },
     "output_type": "display_data"
    },
    {
     "data": {
      "image/png": "[encoded data removed]",
      "text/plain": [
       "<Figure size 720x432 with 1 Axes>"
      ]
     },
     "metadata": {
      "needs_background": "light"
     },
     "output_type": "display_data"
    }
   ],
   "source": [
    "# 실험1 \n",
    "m1 = DecisionTreeClassifier(max_depth = 2)\n",
    "\n",
    "wt = 0.5\n",
    "m2 = DecisionTreeClassifier(max_depth = 2, class_weight= {0:wt, 1:1-wt})\n",
    "\n",
    "m1.fit(x1, y1)\n",
    "m2.fit(x1, y1)\n",
    "\n",
    "plt.figure(figsize = (10,6))\n",
    "plot_tree(m1, feature_names = list(x1), class_names = ['Died', 'Survived'], rounded = True, filled = True)\n",
    "plt.show()\n",
    "plt.figure(figsize = (10,6))\n",
    "plot_tree(m2, feature_names = list(x1), class_names = ['Died', 'Survived'], rounded = True, filled = True)\n",
    "plt.show()"
   ]
  },
  {
   "cell_type": "code",
   "execution_count": 25,
   "metadata": {
    "colab": {
     "base_uri": "https://localhost:8080/"
    },
    "executionInfo": {
     "elapsed": 6,
     "status": "ok",
     "timestamp": 1646135507557,
     "user": {
      "displayName": "한기영",
      "photoUrl": "https://lh3.googleusercontent.com/a/default-user=s64",
      "userId": "13049187003176135487"
     },
     "user_tz": -540
    },
    "id": "gUKo2QY2NNfk",
    "outputId": "2ad41aa3-7e88-4405-9125-fae2a6fcb221"
   },
   "outputs": [
    {
     "data": {
      "text/plain": [
       "array([0.61616162, 0.38383838])"
      ]
     },
     "execution_count": 25,
     "metadata": {},
     "output_type": "execute_result"
    }
   ],
   "source": [
    "c_rate = np.bincount(y1) / y1.shape[0]\n",
    "c_rate"
   ]
  },
  {
   "cell_type": "code",
   "execution_count": 26,
   "metadata": {
    "colab": {
     "base_uri": "https://localhost:8080/",
     "height": 697
    },
    "executionInfo": {
     "elapsed": 1445,
     "status": "ok",
     "timestamp": 1646135508998,
     "user": {
      "displayName": "한기영",
      "photoUrl": "https://lh3.googleusercontent.com/a/default-user=s64",
      "userId": "13049187003176135487"
     },
     "user_tz": -540
    },
    "id": "qCZU8J-5JpGa",
    "outputId": "3490672f-937f-458e-a990-f0ddf65ff217"
   },
   "outputs": [
    {
     "data": {
      "image/png": "[encoded data removed]",
      "text/plain": [
       "<Figure size 720x432 with 1 Axes>"
      ]
     },
     "metadata": {
      "needs_background": "light"
     },
     "output_type": "display_data"
    },
    {
     "data": {
      "image/png": "[encoded data removed]",
      "text/plain": [
       "<Figure size 720x432 with 1 Axes>"
      ]
     },
     "metadata": {
      "needs_background": "light"
     },
     "output_type": "display_data"
    }
   ],
   "source": [
    "# 실험2 : balanced\n",
    "m3 = DecisionTreeClassifier(max_depth = 2, class_weight='balanced')\n",
    "\n",
    "wt = c_rate[1]\n",
    "m4 = DecisionTreeClassifier(max_depth = 2, class_weight= {0:wt, 1:1-wt})\n",
    "\n",
    "m3.fit(x1, y1)\n",
    "m4.fit(x1, y1)\n",
    "\n",
    "plt.figure(figsize = (10,6))\n",
    "plot_tree(m3, feature_names = list(x1), class_names = ['Died', 'Survived'], rounded = True, filled = True)\n",
    "plt.show()\n",
    "plt.figure(figsize = (10,6))\n",
    "plot_tree(m4, feature_names = list(x1), class_names = ['Died', 'Survived'], rounded = True, filled = True)\n",
    "plt.show()"
   ]
  },
  {
   "cell_type": "markdown",
   "metadata": {
    "id": "f4m9CpAlDYUx"
   },
   "source": [
    "## 4.실습 : Semiconductor manufacturing process dataset\n"
   ]
  },
  {
   "cell_type": "markdown",
   "metadata": {
    "id": "KKJNXBfDPOoT"
   },
   "source": [
    "![](https://assets.pandaily.com/uploads/2021/10/semiconductor.png)"
   ]
  },
  {
   "cell_type": "markdown",
   "metadata": {
    "id": "47h5Hv4JQOgE"
   },
   "source": [
    "* 반도체 제조 공정은 시점별로 수많은 센서로부터 정보를 수집하여 공정을 감시합니다. \n",
    "* 센서정보와 함께 공정간 발생된 불량품에 대한 정보를 저장하였습니다.\n",
    "* 불량을 예측해 봅시다."
   ]
  },
  {
   "cell_type": "markdown",
   "metadata": {
    "id": "QdJ4vZmRDYUx"
   },
   "source": [
    "### 4.1 데이터 준비"
   ]
  },
  {
   "cell_type": "markdown",
   "metadata": {
    "id": "P96JFMWpDYUy"
   },
   "source": [
    "* 데이터 로딩"
   ]
  },
  {
   "cell_type": "code",
   "execution_count": 27,
   "metadata": {
    "colab": {
     "base_uri": "https://localhost:8080/",
     "height": 270
    },
    "executionInfo": {
     "elapsed": 854,
     "status": "ok",
     "timestamp": 1646135516192,
     "user": {
      "displayName": "한기영",
      "photoUrl": "https://lh3.googleusercontent.com/a/default-user=s64",
      "userId": "13049187003176135487"
     },
     "user_tz": -540
    },
    "id": "kqFX10WKDYUy",
    "outputId": "96186b19-4828-4566-b862-4a8fae95d7c6"
   },
   "outputs": [
    {
     "data": {
      "text/html": [
       "<div>\n",
       "<style scoped>\n",
       "    .dataframe tbody tr th:only-of-type {\n",
       "        vertical-align: middle;\n",
       "    }\n",
       "\n",
       "    .dataframe tbody tr th {\n",
       "        vertical-align: top;\n",
       "    }\n",
       "\n",
       "    .dataframe thead th {\n",
       "        text-align: right;\n",
       "    }\n",
       "</style>\n",
       "<table border=\"1\" class=\"dataframe\">\n",
       "  <thead>\n",
       "    <tr style=\"text-align: right;\">\n",
       "      <th></th>\n",
       "      <th>v021</th>\n",
       "      <th>v087</th>\n",
       "      <th>v088</th>\n",
       "      <th>v089</th>\n",
       "      <th>v114</th>\n",
       "      <th>v115</th>\n",
       "      <th>v116</th>\n",
       "      <th>v117</th>\n",
       "      <th>v118</th>\n",
       "      <th>v120</th>\n",
       "      <th>...</th>\n",
       "      <th>v528</th>\n",
       "      <th>v571</th>\n",
       "      <th>v572</th>\n",
       "      <th>v573</th>\n",
       "      <th>v574</th>\n",
       "      <th>v575</th>\n",
       "      <th>v576</th>\n",
       "      <th>v577</th>\n",
       "      <th>v578</th>\n",
       "      <th>label</th>\n",
       "    </tr>\n",
       "  </thead>\n",
       "  <tbody>\n",
       "    <tr>\n",
       "      <th>0</th>\n",
       "      <td>1.4026</td>\n",
       "      <td>2.3895</td>\n",
       "      <td>0.9690</td>\n",
       "      <td>1747.6049</td>\n",
       "      <td>0.9460</td>\n",
       "      <td>0.0</td>\n",
       "      <td>748.6115</td>\n",
       "      <td>0.9908</td>\n",
       "      <td>58.4306</td>\n",
       "      <td>0.9804</td>\n",
       "      <td>...</td>\n",
       "      <td>6.6926</td>\n",
       "      <td>533.8500</td>\n",
       "      <td>2.1113</td>\n",
       "      <td>8.95</td>\n",
       "      <td>0.3157</td>\n",
       "      <td>3.0624</td>\n",
       "      <td>0.1026</td>\n",
       "      <td>1.6765</td>\n",
       "      <td>14.9509</td>\n",
       "      <td>0</td>\n",
       "    </tr>\n",
       "    <tr>\n",
       "      <th>1</th>\n",
       "      <td>1.3825</td>\n",
       "      <td>2.3754</td>\n",
       "      <td>0.9894</td>\n",
       "      <td>1931.6464</td>\n",
       "      <td>0.9425</td>\n",
       "      <td>0.0</td>\n",
       "      <td>731.2517</td>\n",
       "      <td>0.9902</td>\n",
       "      <td>58.6680</td>\n",
       "      <td>0.9731</td>\n",
       "      <td>...</td>\n",
       "      <td>8.8370</td>\n",
       "      <td>535.0164</td>\n",
       "      <td>2.4335</td>\n",
       "      <td>5.92</td>\n",
       "      <td>0.2653</td>\n",
       "      <td>2.0111</td>\n",
       "      <td>0.0772</td>\n",
       "      <td>1.1065</td>\n",
       "      <td>10.9003</td>\n",
       "      <td>0</td>\n",
       "    </tr>\n",
       "    <tr>\n",
       "      <th>2</th>\n",
       "      <td>1.4123</td>\n",
       "      <td>2.4532</td>\n",
       "      <td>0.9880</td>\n",
       "      <td>1685.8514</td>\n",
       "      <td>0.9231</td>\n",
       "      <td>0.0</td>\n",
       "      <td>718.5777</td>\n",
       "      <td>0.9899</td>\n",
       "      <td>58.4808</td>\n",
       "      <td>0.9772</td>\n",
       "      <td>...</td>\n",
       "      <td>6.4568</td>\n",
       "      <td>535.0245</td>\n",
       "      <td>2.0293</td>\n",
       "      <td>11.21</td>\n",
       "      <td>0.1882</td>\n",
       "      <td>4.0923</td>\n",
       "      <td>0.0640</td>\n",
       "      <td>2.0952</td>\n",
       "      <td>9.2721</td>\n",
       "      <td>1</td>\n",
       "    </tr>\n",
       "    <tr>\n",
       "      <th>3</th>\n",
       "      <td>1.4011</td>\n",
       "      <td>2.4004</td>\n",
       "      <td>0.9904</td>\n",
       "      <td>1752.0968</td>\n",
       "      <td>0.9564</td>\n",
       "      <td>0.0</td>\n",
       "      <td>709.0867</td>\n",
       "      <td>0.9906</td>\n",
       "      <td>58.6635</td>\n",
       "      <td>0.9761</td>\n",
       "      <td>...</td>\n",
       "      <td>6.4865</td>\n",
       "      <td>530.5682</td>\n",
       "      <td>2.0253</td>\n",
       "      <td>9.33</td>\n",
       "      <td>0.1738</td>\n",
       "      <td>2.8971</td>\n",
       "      <td>0.0525</td>\n",
       "      <td>1.7585</td>\n",
       "      <td>8.5831</td>\n",
       "      <td>0</td>\n",
       "    </tr>\n",
       "    <tr>\n",
       "      <th>4</th>\n",
       "      <td>1.3888</td>\n",
       "      <td>2.4530</td>\n",
       "      <td>0.9902</td>\n",
       "      <td>1828.3846</td>\n",
       "      <td>0.9424</td>\n",
       "      <td>0.0</td>\n",
       "      <td>796.5950</td>\n",
       "      <td>0.9908</td>\n",
       "      <td>58.3858</td>\n",
       "      <td>0.9628</td>\n",
       "      <td>...</td>\n",
       "      <td>6.3745</td>\n",
       "      <td>532.0155</td>\n",
       "      <td>2.0275</td>\n",
       "      <td>8.83</td>\n",
       "      <td>0.2224</td>\n",
       "      <td>3.1776</td>\n",
       "      <td>0.0706</td>\n",
       "      <td>1.6597</td>\n",
       "      <td>10.9698</td>\n",
       "      <td>0</td>\n",
       "    </tr>\n",
       "  </tbody>\n",
       "</table>\n",
       "<p>5 rows × 53 columns</p>\n",
       "</div>"
      ],
      "text/plain": [
       "     v021    v087    v088       v089    v114  v115      v116    v117     v118  \\\n",
       "0  1.4026  2.3895  0.9690  1747.6049  0.9460   0.0  748.6115  0.9908  58.4306   \n",
       "1  1.3825  2.3754  0.9894  1931.6464  0.9425   0.0  731.2517  0.9902  58.6680   \n",
       "2  1.4123  2.4532  0.9880  1685.8514  0.9231   0.0  718.5777  0.9899  58.4808   \n",
       "3  1.4011  2.4004  0.9904  1752.0968  0.9564   0.0  709.0867  0.9906  58.6635   \n",
       "4  1.3888  2.4530  0.9902  1828.3846  0.9424   0.0  796.5950  0.9908  58.3858   \n",
       "\n",
       "     v120  ...    v528      v571    v572   v573    v574    v575    v576  \\\n",
       "0  0.9804  ...  6.6926  533.8500  2.1113   8.95  0.3157  3.0624  0.1026   \n",
       "1  0.9731  ...  8.8370  535.0164  2.4335   5.92  0.2653  2.0111  0.0772   \n",
       "2  0.9772  ...  6.4568  535.0245  2.0293  11.21  0.1882  4.0923  0.0640   \n",
       "3  0.9761  ...  6.4865  530.5682  2.0253   9.33  0.1738  2.8971  0.0525   \n",
       "4  0.9628  ...  6.3745  532.0155  2.0275   8.83  0.2224  3.1776  0.0706   \n",
       "\n",
       "     v577     v578  label  \n",
       "0  1.6765  14.9509      0  \n",
       "1  1.1065  10.9003      0  \n",
       "2  2.0952   9.2721      1  \n",
       "3  1.7585   8.5831      0  \n",
       "4  1.6597  10.9698      0  \n",
       "\n",
       "[5 rows x 53 columns]"
      ]
     },
     "execution_count": 27,
     "metadata": {},
     "output_type": "execute_result"
    }
   ],
   "source": [
    "path = \"https://raw.githubusercontent.com/DA4BAM/dataset/master/secom_9.csv\"\n",
    "data = pd.read_csv(path)\n",
    "\n",
    "data['label'] = 0\n",
    "data.loc[data['defeat']== 'defeat', 'label']= 1\n",
    "data.drop(['datetime','defeat'], axis = 1, inplace=True)\n",
    "data.head()"
   ]
  },
  {
   "cell_type": "markdown",
   "metadata": {
    "id": "Tv7I7P8nQioh"
   },
   "source": [
    "변수 정보 \n",
    "* label : 1 - 불량, 0 - 정상\n",
    "* v### : 센서값들\n"
   ]
  },
  {
   "cell_type": "code",
   "execution_count": 28,
   "metadata": {
    "id": "6K9iIhabQzXS"
   },
   "outputs": [],
   "source": [
    "target = 'label'"
   ]
  },
  {
   "cell_type": "code",
   "execution_count": 29,
   "metadata": {
    "colab": {
     "base_uri": "https://localhost:8080/"
    },
    "executionInfo": {
     "elapsed": 8,
     "status": "ok",
     "timestamp": 1646135518105,
     "user": {
      "displayName": "한기영",
      "photoUrl": "https://lh3.googleusercontent.com/a/default-user=s64",
      "userId": "13049187003176135487"
     },
     "user_tz": -540
    },
    "id": "r6pjfmqLQ1UK",
    "outputId": "4ff04423-792a-4e83-b134-b4c5042c9548"
   },
   "outputs": [
    {
     "data": {
      "text/plain": [
       "0    0.933631\n",
       "1    0.066369\n",
       "Name: label, dtype: float64"
      ]
     },
     "execution_count": 29,
     "metadata": {},
     "output_type": "execute_result"
    }
   ],
   "source": [
    "data[target].value_counts() / data.shape[0]"
   ]
  },
  {
   "cell_type": "markdown",
   "metadata": {
    "id": "Qs56G2oKQskZ"
   },
   "source": [
    "* x, y로 나누기 "
   ]
  },
  {
   "cell_type": "code",
   "execution_count": 30,
   "metadata": {
    "id": "M6xgH4RtDYUy"
   },
   "outputs": [],
   "source": [
    "x = data.drop(target, axis = 1)\n",
    "y = data.loc[:, target]"
   ]
  },
  {
   "cell_type": "markdown",
   "metadata": {
    "id": "xN4Pa1qp8uwm"
   },
   "source": [
    "* 가변수화 Dummy Variable"
   ]
  },
  {
   "cell_type": "markdown",
   "metadata": {
    "id": "qwDykgEY8rHx"
   },
   "source": [
    "* 데이터 분할\n",
    "    * 이미 test set은 분할되어 있다고 가정합니다.\n",
    "    * 주어진 데이터를 train set : validation set 으로 분할"
   ]
  },
  {
   "cell_type": "code",
   "execution_count": 31,
   "metadata": {
    "id": "Boebo_Fc8rHy"
   },
   "outputs": [],
   "source": [
    "from sklearn.model_selection import train_test_split"
   ]
  },
  {
   "cell_type": "code",
   "execution_count": 32,
   "metadata": {
    "id": "tjglVI_a8rHy"
   },
   "outputs": [],
   "source": [
    "# train_val에서 train : val = 8 : 2\n",
    "x_train, x_val, y_train, y_val = train_test_split(x, y, test_size=0.2, random_state = 2022)"
   ]
  },
  {
   "cell_type": "code",
   "execution_count": 33,
   "metadata": {
    "colab": {
     "base_uri": "https://localhost:8080/"
    },
    "executionInfo": {
     "elapsed": 7,
     "status": "ok",
     "timestamp": 1646135519061,
     "user": {
      "displayName": "한기영",
      "photoUrl": "https://lh3.googleusercontent.com/a/default-user=s64",
      "userId": "13049187003176135487"
     },
     "user_tz": -540
    },
    "id": "AGYSbizf8rHy",
    "outputId": "5bafaf38-b15b-4b44-c25d-8f83382b9a6a"
   },
   "outputs": [
    {
     "name": "stdout",
     "output_type": "stream",
     "text": [
      "(1253, 52) (314, 52)\n"
     ]
    }
   ],
   "source": [
    "print(x_train.shape, x_val.shape)"
   ]
  },
  {
   "cell_type": "markdown",
   "metadata": {
    "id": "xKqqwwgOcr6l"
   },
   "source": [
    "### 2)기본모델링\n",
    "> * 데이터셋을 그대로 모델링을 수행하시오.\n",
    "* 알고리즘 : 로지스틱회귀, decision tree 중 하나 사용.\n",
    "* validate set으로 예측하고 평가(classification report, f1 score)해 봅시다.\n"
   ]
  },
  {
   "cell_type": "code",
   "execution_count": 34,
   "metadata": {
    "colab": {
     "base_uri": "https://localhost:8080/"
    },
    "executionInfo": {
     "elapsed": 459,
     "status": "ok",
     "timestamp": 1646135519983,
     "user": {
      "displayName": "한기영",
      "photoUrl": "https://lh3.googleusercontent.com/a/default-user=s64",
      "userId": "13049187003176135487"
     },
     "user_tz": -540
    },
    "id": "xVnwu6wmfD7N",
    "outputId": "87dc2e7c-a473-45d8-c85c-6ff3759e70d1"
   },
   "outputs": [
    {
     "name": "stdout",
     "output_type": "stream",
     "text": [
      "[[295   1]\n",
      " [ 18   0]]\n",
      "-------------------------------------------------------\n",
      "              precision    recall  f1-score   support\n",
      "\n",
      "           0       0.94      1.00      0.97       296\n",
      "           1       0.00      0.00      0.00        18\n",
      "\n",
      "    accuracy                           0.94       314\n",
      "   macro avg       0.47      0.50      0.48       314\n",
      "weighted avg       0.89      0.94      0.91       314\n",
      "\n"
     ]
    }
   ],
   "source": [
    "model = LogisticRegression(solver = 'liblinear')\n",
    "model.fit(x_train, y_train)\n",
    "pred = model.predict(x_val)\n",
    "\n",
    "print(confusion_matrix(y_val, pred))\n",
    "print('-' * 55)\n",
    "print(classification_report(y_val, pred))"
   ]
  },
  {
   "cell_type": "markdown",
   "metadata": {
    "id": "kp0fafqDk8Yz"
   },
   "source": [
    "### 2)모델링 + class weight 조정\n",
    "> * class_weight 값을 지정해서 모델링 해 봅시다.\n",
    "* 알고리즘 : 비교를 위해서 기본모델링에 사용한 알고리즘 사용\n",
    "* validate set으로 예측하고 평가(classification report, f1 score)해 봅시다.\n",
    "* resampling 후 수행한 모델과 성능에 대해 비교해 봅시다."
   ]
  },
  {
   "cell_type": "code",
   "execution_count": 35,
   "metadata": {
    "colab": {
     "base_uri": "https://localhost:8080/"
    },
    "executionInfo": {
     "elapsed": 484,
     "status": "ok",
     "timestamp": 1646135520464,
     "user": {
      "displayName": "한기영",
      "photoUrl": "https://lh3.googleusercontent.com/a/default-user=s64",
      "userId": "13049187003176135487"
     },
     "user_tz": -540
    },
    "id": "4G45yhmJk8Y0",
    "outputId": "920b3f40-90c9-4a61-e556-839d71390da8"
   },
   "outputs": [
    {
     "name": "stdout",
     "output_type": "stream",
     "text": [
      "[[180 116]\n",
      " [  8  10]]\n",
      "-------------------------------------------------------\n",
      "              precision    recall  f1-score   support\n",
      "\n",
      "           0       0.96      0.61      0.74       296\n",
      "           1       0.08      0.56      0.14        18\n",
      "\n",
      "    accuracy                           0.61       314\n",
      "   macro avg       0.52      0.58      0.44       314\n",
      "weighted avg       0.91      0.61      0.71       314\n",
      "\n"
     ]
    }
   ],
   "source": [
    "# class_weight = 'balanced'\n",
    " \n",
    "model = LogisticRegression(solver = 'liblinear', class_weight='balanced')\n",
    "model.fit(x_train, y_train)\n",
    "pred = model.predict(x_val)\n",
    "\n",
    "print(confusion_matrix(y_val, pred))\n",
    "print('-' * 55)\n",
    "print(classification_report(y_val, pred))"
   ]
  },
  {
   "cell_type": "code",
   "execution_count": 36,
   "metadata": {
    "colab": {
     "base_uri": "https://localhost:8080/"
    },
    "executionInfo": {
     "elapsed": 345,
     "status": "ok",
     "timestamp": 1646135573528,
     "user": {
      "displayName": "한기영",
      "photoUrl": "https://lh3.googleusercontent.com/a/default-user=s64",
      "userId": "13049187003176135487"
     },
     "user_tz": -540
    },
    "id": "CqKJgvb4k8Y0",
    "outputId": "a1c2a0ce-1d5b-4601-aeb3-a798e0d44d66"
   },
   "outputs": [
    {
     "name": "stdout",
     "output_type": "stream",
     "text": [
      "[[268  28]\n",
      " [ 17   1]]\n",
      "-------------------------------------------------------\n",
      "              precision    recall  f1-score   support\n",
      "\n",
      "           0       0.94      0.91      0.92       296\n",
      "           1       0.03      0.06      0.04        18\n",
      "\n",
      "    accuracy                           0.86       314\n",
      "   macro avg       0.49      0.48      0.48       314\n",
      "weighted avg       0.89      0.86      0.87       314\n",
      "\n"
     ]
    }
   ],
   "source": [
    "# class_weight = 'balanced'\n",
    " \n",
    "model = DecisionTreeClassifier(class_weight='balanced')\n",
    "model.fit(x_train, y_train)\n",
    "pred = model.predict(x_val)\n",
    "\n",
    "print(confusion_matrix(y_val, pred))\n",
    "print('-' * 55)\n",
    "print(classification_report(y_val, pred))"
   ]
  },
  {
   "cell_type": "markdown",
   "metadata": {
    "id": "_SRbA-_0HCmp"
   },
   "source": [
    "*로지스틱 회귀로 반복 실험"
   ]
  },
  {
   "cell_type": "code",
   "execution_count": 37,
   "metadata": {
    "id": "Wqircvatk8Y0"
   },
   "outputs": [
    {
     "name": "stdout",
     "output_type": "stream",
     "text": [
      "0\n",
      "1\n",
      "2\n",
      "3\n",
      "4\n",
      "5\n",
      "6\n",
      "7\n",
      "8\n",
      "9\n",
      "10\n",
      "11\n",
      "12\n",
      "13\n",
      "14\n",
      "15\n",
      "16\n",
      "17\n",
      "18\n",
      "19\n",
      "20\n",
      "21\n",
      "22\n",
      "23\n",
      "24\n",
      "25\n",
      "26\n",
      "27\n",
      "28\n",
      "29\n",
      "30\n",
      "31\n",
      "32\n",
      "33\n",
      "34\n",
      "35\n",
      "36\n",
      "37\n",
      "38\n",
      "39\n",
      "40\n",
      "41\n",
      "42\n",
      "43\n",
      "44\n",
      "45\n",
      "46\n",
      "47\n",
      "48\n",
      "49\n"
     ]
    }
   ],
   "source": [
    "result = []\n",
    "\n",
    "for i in range(50):\n",
    "    x_train, x_val, y_train, y_val = train_test_split(x, y, test_size = .4)\n",
    "    model = LogisticRegression(solver = 'liblinear', class_weight='balanced')\n",
    "    model.fit(x_train, y_train)\n",
    "    pred = model.predict(x_val)\n",
    "    result.append(f1_score(y_val, pred, pos_label=1))\n",
    "    print(i)"
   ]
  },
  {
   "cell_type": "code",
   "execution_count": 38,
   "metadata": {
    "colab": {
     "base_uri": "https://localhost:8080/",
     "height": 499
    },
    "executionInfo": {
     "elapsed": 633,
     "status": "ok",
     "timestamp": 1646135605111,
     "user": {
      "displayName": "한기영",
      "photoUrl": "https://lh3.googleusercontent.com/a/default-user=s64",
      "userId": "13049187003176135487"
     },
     "user_tz": -540
    },
    "id": "2MvqB3FVl2gy",
    "outputId": "6d9e9361-c96f-4c75-e478-3e7137470e73"
   },
   "outputs": [
    {
     "data": {
      "image/png": "[encoded data removed]",
      "text/plain": [
       "<Figure size 864x576 with 1 Axes>"
      ]
     },
     "metadata": {
      "needs_background": "light"
     },
     "output_type": "display_data"
    }
   ],
   "source": [
    "plt.figure(figsize=(12, 8))\n",
    "sns.distplot(result, hist = False)\n",
    "plt.title('F1 Score')\n",
    "plt.grid()\n",
    "plt.show()"
   ]
  },
  {
   "cell_type": "markdown",
   "metadata": {
    "id": "hyr516NoHMdI"
   },
   "source": [
    "* GridSearch로 class weight 조절"
   ]
  },
  {
   "cell_type": "code",
   "execution_count": 39,
   "metadata": {
    "id": "MF63oy62HTRa"
   },
   "outputs": [
    {
     "data": {
      "text/plain": [
       "{'class_weight': [{0: 0.0, 1: 1.0},\n",
       "  {0: 0.01, 1: 0.99},\n",
       "  {0: 0.02, 1: 0.98},\n",
       "  {0: 0.03, 1: 0.97},\n",
       "  {0: 0.04, 1: 0.96},\n",
       "  {0: 0.05, 1: 0.95},\n",
       "  {0: 0.06, 1: 0.94},\n",
       "  {0: 0.07, 1: 0.9299999999999999},\n",
       "  {0: 0.08, 1: 0.92},\n",
       "  {0: 0.09, 1: 0.91},\n",
       "  {0: 0.1, 1: 0.9},\n",
       "  {0: 0.11, 1: 0.89},\n",
       "  {0: 0.12, 1: 0.88},\n",
       "  {0: 0.13, 1: 0.87},\n",
       "  {0: 0.14, 1: 0.86},\n",
       "  {0: 0.15, 1: 0.85},\n",
       "  {0: 0.16, 1: 0.84},\n",
       "  {0: 0.17, 1: 0.83},\n",
       "  {0: 0.18, 1: 0.8200000000000001},\n",
       "  {0: 0.19, 1: 0.81},\n",
       "  {0: 0.2, 1: 0.8},\n",
       "  {0: 0.21, 1: 0.79},\n",
       "  {0: 0.22, 1: 0.78},\n",
       "  {0: 0.23, 1: 0.77},\n",
       "  {0: 0.24, 1: 0.76},\n",
       "  {0: 0.25, 1: 0.75},\n",
       "  {0: 0.26, 1: 0.74},\n",
       "  {0: 0.27, 1: 0.73},\n",
       "  {0: 0.28, 1: 0.72},\n",
       "  {0: 0.29, 1: 0.71},\n",
       "  {0: 0.3, 1: 0.7},\n",
       "  {0: 0.31, 1: 0.69},\n",
       "  {0: 0.32, 1: 0.6799999999999999},\n",
       "  {0: 0.33, 1: 0.6699999999999999},\n",
       "  {0: 0.34, 1: 0.6599999999999999},\n",
       "  {0: 0.35000000000000003, 1: 0.6499999999999999},\n",
       "  {0: 0.36, 1: 0.64},\n",
       "  {0: 0.37, 1: 0.63},\n",
       "  {0: 0.38, 1: 0.62},\n",
       "  {0: 0.39, 1: 0.61},\n",
       "  {0: 0.4, 1: 0.6},\n",
       "  {0: 0.41000000000000003, 1: 0.59},\n",
       "  {0: 0.42, 1: 0.5800000000000001},\n",
       "  {0: 0.43, 1: 0.5700000000000001},\n",
       "  {0: 0.44, 1: 0.56},\n",
       "  {0: 0.45, 1: 0.55},\n",
       "  {0: 0.46, 1: 0.54},\n",
       "  {0: 0.47000000000000003, 1: 0.53},\n",
       "  {0: 0.48, 1: 0.52},\n",
       "  {0: 0.49, 1: 0.51},\n",
       "  {0: 0.5, 1: 0.5},\n",
       "  {0: 0.51, 1: 0.49},\n",
       "  {0: 0.52, 1: 0.48},\n",
       "  {0: 0.53, 1: 0.47},\n",
       "  {0: 0.54, 1: 0.45999999999999996},\n",
       "  {0: 0.55, 1: 0.44999999999999996},\n",
       "  {0: 0.56, 1: 0.43999999999999995},\n",
       "  {0: 0.5700000000000001, 1: 0.42999999999999994},\n",
       "  {0: 0.58, 1: 0.42000000000000004},\n",
       "  {0: 0.59, 1: 0.41000000000000003},\n",
       "  {0: 0.6, 1: 0.4},\n",
       "  {0: 0.61, 1: 0.39},\n",
       "  {0: 0.62, 1: 0.38},\n",
       "  {0: 0.63, 1: 0.37},\n",
       "  {0: 0.64, 1: 0.36},\n",
       "  {0: 0.65, 1: 0.35},\n",
       "  {0: 0.66, 1: 0.33999999999999997},\n",
       "  {0: 0.67, 1: 0.32999999999999996},\n",
       "  {0: 0.68, 1: 0.31999999999999995},\n",
       "  {0: 0.6900000000000001, 1: 0.30999999999999994},\n",
       "  {0: 0.7000000000000001, 1: 0.29999999999999993},\n",
       "  {0: 0.71, 1: 0.29000000000000004},\n",
       "  {0: 0.72, 1: 0.28},\n",
       "  {0: 0.73, 1: 0.27},\n",
       "  {0: 0.74, 1: 0.26},\n",
       "  {0: 0.75, 1: 0.25},\n",
       "  {0: 0.76, 1: 0.24},\n",
       "  {0: 0.77, 1: 0.22999999999999998},\n",
       "  {0: 0.78, 1: 0.21999999999999997},\n",
       "  {0: 0.79, 1: 0.20999999999999996},\n",
       "  {0: 0.8, 1: 0.19999999999999996},\n",
       "  {0: 0.81, 1: 0.18999999999999995},\n",
       "  {0: 0.8200000000000001, 1: 0.17999999999999994},\n",
       "  {0: 0.8300000000000001, 1: 0.16999999999999993},\n",
       "  {0: 0.84, 1: 0.16000000000000003},\n",
       "  {0: 0.85, 1: 0.15000000000000002},\n",
       "  {0: 0.86, 1: 0.14},\n",
       "  {0: 0.87, 1: 0.13},\n",
       "  {0: 0.88, 1: 0.12},\n",
       "  {0: 0.89, 1: 0.10999999999999999},\n",
       "  {0: 0.9, 1: 0.09999999999999998},\n",
       "  {0: 0.91, 1: 0.08999999999999997},\n",
       "  {0: 0.92, 1: 0.07999999999999996},\n",
       "  {0: 0.93, 1: 0.06999999999999995},\n",
       "  {0: 0.9400000000000001, 1: 0.05999999999999994},\n",
       "  {0: 0.9500000000000001, 1: 0.04999999999999993},\n",
       "  {0: 0.96, 1: 0.040000000000000036},\n",
       "  {0: 0.97, 1: 0.030000000000000027},\n",
       "  {0: 0.98, 1: 0.020000000000000018},\n",
       "  {0: 0.99, 1: 0.010000000000000009}]}"
      ]
     },
     "execution_count": 39,
     "metadata": {},
     "output_type": "execute_result"
    }
   ],
   "source": [
    "# class_weight = 비율로 수동 조절하도록 파라미터 설정\n",
    "weights = np.linspace(0.0,.99,100)\n",
    "params = {'class_weight': [{0:x, 1:1.0-x} for x in weights]}\n",
    "params"
   ]
  },
  {
   "cell_type": "code",
   "execution_count": 40,
   "metadata": {
    "colab": {
     "base_uri": "https://localhost:8080/"
    },
    "executionInfo": {
     "elapsed": 27102,
     "status": "ok",
     "timestamp": 1646135651185,
     "user": {
      "displayName": "한기영",
      "photoUrl": "https://lh3.googleusercontent.com/a/default-user=s64",
      "userId": "13049187003176135487"
     },
     "user_tz": -540
    },
    "id": "Dux45502HTRb",
    "outputId": "3ac563c1-30a5-4d5c-f5e1-59c4ef9d4ae8"
   },
   "outputs": [
    {
     "data": {
      "text/plain": [
       "GridSearchCV(cv=StratifiedKFold(n_splits=5, random_state=None, shuffle=False),\n",
       "             estimator=LogisticRegression(solver='liblinear'),\n",
       "             param_grid={'class_weight': [{0: 0.0, 1: 1.0}, {0: 0.01, 1: 0.99},\n",
       "                                          {0: 0.02, 1: 0.98},\n",
       "                                          {0: 0.03, 1: 0.97},\n",
       "                                          {0: 0.04, 1: 0.96},\n",
       "                                          {0: 0.05, 1: 0.95},\n",
       "                                          {0: 0.06, 1: 0.94},\n",
       "                                          {0: 0.07, 1: 0.9299999999999999},\n",
       "                                          {0: 0.08, 1: 0.92},\n",
       "                                          {0: 0.09, 1: 0.91}, {0: 0.1, 1: 0.9},\n",
       "                                          {0: 0.11, 1: 0.89},\n",
       "                                          {0: 0.12, 1: 0.88},\n",
       "                                          {0: 0.13, 1: 0.87},\n",
       "                                          {0: 0.14, 1: 0.86},\n",
       "                                          {0: 0.15, 1: 0.85},\n",
       "                                          {0: 0.16, 1: 0.84},\n",
       "                                          {0: 0.17, 1: 0.83},\n",
       "                                          {0: 0.18, 1: 0.8200000000000001},\n",
       "                                          {0: 0.19, 1: 0.81}, {0: 0.2, 1: 0.8},\n",
       "                                          {0: 0.21, 1: 0.79},\n",
       "                                          {0: 0.22, 1: 0.78},\n",
       "                                          {0: 0.23, 1: 0.77},\n",
       "                                          {0: 0.24, 1: 0.76},\n",
       "                                          {0: 0.25, 1: 0.75},\n",
       "                                          {0: 0.26, 1: 0.74},\n",
       "                                          {0: 0.27, 1: 0.73},\n",
       "                                          {0: 0.28, 1: 0.72},\n",
       "                                          {0: 0.29, 1: 0.71}, ...]},\n",
       "             scoring='f1')"
      ]
     },
     "execution_count": 40,
     "metadata": {},
     "output_type": "execute_result"
    }
   ],
   "source": [
    "# Grid Search : 그리드서치로 튜닝\n",
    "# StratifiedKFold : 층화추출\n",
    "model = GridSearchCV(LogisticRegression(solver = 'liblinear'), params\n",
    "                    , cv= StratifiedKFold(5), scoring='f1')\n",
    "model.fit(x_train, y_train)"
   ]
  },
  {
   "cell_type": "code",
   "execution_count": 41,
   "metadata": {
    "colab": {
     "base_uri": "https://localhost:8080/"
    },
    "executionInfo": {
     "elapsed": 319,
     "status": "ok",
     "timestamp": 1645592845447,
     "user": {
      "displayName": "한기영",
      "photoUrl": "https://lh3.googleusercontent.com/a/default-user=s64",
      "userId": "13049187003176135487"
     },
     "user_tz": -540
    },
    "id": "GaH3SAsrHTRc",
    "outputId": "94712481-29a9-48af-badc-c23af5dc3df7"
   },
   "outputs": [
    {
     "data": {
      "text/plain": [
       "0    0.930851\n",
       "1    0.069149\n",
       "Name: label, dtype: float64"
      ]
     },
     "execution_count": 41,
     "metadata": {},
     "output_type": "execute_result"
    }
   ],
   "source": [
    "y_train.value_counts()/y_train.shape[0]"
   ]
  },
  {
   "cell_type": "code",
   "execution_count": 42,
   "metadata": {
    "id": "JfciFu9lHTRd"
   },
   "outputs": [
    {
     "data": {
      "text/plain": [
       "{'mean_fit_time': array([0.00320067, 0.00823359, 0.00860229, 0.00940218, 0.01000242,\n",
       "        0.01220264, 0.01180263, 0.01380305, 0.01140232, 0.01320314,\n",
       "        0.01200285, 0.01100259, 0.01180258, 0.01040225, 0.01160254,\n",
       "        0.01060247, 0.01200266, 0.01300311, 0.0116024 , 0.01180291,\n",
       "        0.01180277, 0.01180267, 0.01100249, 0.01120391, 0.01200266,\n",
       "        0.01140256, 0.01120281, 0.01200256, 0.01240268, 0.01200299,\n",
       "        0.01140251, 0.00960217, 0.01080227, 0.01040235, 0.01100259,\n",
       "        0.01120262, 0.01100249, 0.01120291, 0.01060247, 0.01040235,\n",
       "        0.01160254, 0.01080251, 0.01100287, 0.01100225, 0.0104022 ,\n",
       "        0.0104023 , 0.00940208, 0.01020226, 0.00940228, 0.00980248,\n",
       "        0.01020198, 0.0098021 , 0.0098022 , 0.01080246, 0.008602  ,\n",
       "        0.01060219, 0.00920229, 0.00880218, 0.00940208, 0.00920324,\n",
       "        0.00960236, 0.00840211, 0.00880203, 0.00820189, 0.008602  ,\n",
       "        0.00948114, 0.00740271, 0.01000285, 0.00840201, 0.00960569,\n",
       "        0.00824151, 0.0084022 , 0.00816746, 0.00800138, 0.00760274,\n",
       "        0.00757346, 0.00920258, 0.00720167, 0.00960326, 0.00820193,\n",
       "        0.00782533, 0.00760212, 0.0076035 , 0.00680203, 0.00850821,\n",
       "        0.00820308, 0.0078023 , 0.00820298, 0.00700231, 0.00660219,\n",
       "        0.00700107, 0.00710344, 0.00647497, 0.00700216, 0.00640216,\n",
       "        0.00580163, 0.00610261, 0.00450387, 0.00460196, 0.0032001 ]),\n",
       " 'std_fit_time': array([0.00039988, 0.00103875, 0.00049029, 0.00101978, 0.00063233,\n",
       "        0.00183332, 0.00074844, 0.00222744, 0.00049021, 0.00193952,\n",
       "        0.00209799, 0.00089447, 0.00292641, 0.00049004, 0.0019598 ,\n",
       "        0.00048998, 0.00167388, 0.00189776, 0.00135652, 0.00213588,\n",
       "        0.00160049, 0.00222771, 0.00167374, 0.001941  , 0.00167374,\n",
       "        0.00135667, 0.00172033, 0.00189768, 0.00120003, 0.00141462,\n",
       "        0.00174371, 0.00195994, 0.0014702 , 0.00135682, 0.00178931,\n",
       "        0.0017208 , 0.00200052, 0.00222727, 0.00048988, 0.00162507,\n",
       "        0.00120025, 0.00074852, 0.00063264, 0.00063256, 0.00101993,\n",
       "        0.00102017, 0.00135675, 0.00116653, 0.00048988, 0.00160037,\n",
       "        0.00074838, 0.0016005 , 0.00240041, 0.00147019, 0.001497  ,\n",
       "        0.00149699, 0.00213543, 0.00132698, 0.00101995, 0.0020424 ,\n",
       "        0.00049002, 0.00080031, 0.00116652, 0.00146987, 0.00120031,\n",
       "        0.00182494, 0.00048936, 0.00126501, 0.00102024, 0.00080203,\n",
       "        0.00116258, 0.00101994, 0.00114489, 0.00089575, 0.00079921,\n",
       "        0.00046884, 0.00146967, 0.00116642, 0.00102128, 0.00098004,\n",
       "        0.00041437, 0.00102017, 0.00048783, 0.00040028, 0.00180007,\n",
       "        0.00098039, 0.00147037, 0.0014691 , 0.00063256, 0.00079973,\n",
       "        0.00063271, 0.00128287, 0.00143584, 0.00063151, 0.00101982,\n",
       "        0.00098048, 0.00066429, 0.0007735 , 0.00079924, 0.00116715]),\n",
       " 'mean_score_time': array([0.0012002 , 0.00100026, 0.00120029, 0.0012001 , 0.00140014,\n",
       "        0.00100036, 0.00140038, 0.00120029, 0.00120053, 0.00120015,\n",
       "        0.00140004, 0.00100017, 0.00160041, 0.00120029, 0.00140038,\n",
       "        0.00140023, 0.00140033, 0.0012001 , 0.00140052, 0.00140004,\n",
       "        0.00160031, 0.00140014, 0.00160036, 0.00099921, 0.00100021,\n",
       "        0.00120029, 0.00140047, 0.00140038, 0.00120025, 0.00120015,\n",
       "        0.00160041, 0.00160036, 0.00180049, 0.00140038, 0.00120029,\n",
       "        0.00120006, 0.00140033, 0.00100017, 0.00160031, 0.00140023,\n",
       "        0.00160046, 0.00120034, 0.00140052, 0.00140052, 0.00160041,\n",
       "        0.00120039, 0.00160031, 0.00140047, 0.00140009, 0.00160022,\n",
       "        0.00140057, 0.00140052, 0.00140028, 0.0012001 , 0.00140023,\n",
       "        0.0010004 , 0.00120044, 0.00160017, 0.00180049, 0.00139942,\n",
       "        0.00120015, 0.00120034, 0.00140028, 0.00120025, 0.0012002 ,\n",
       "        0.00120029, 0.00119948, 0.00120006, 0.00100045, 0.00099692,\n",
       "        0.00116086, 0.00120029, 0.00123491, 0.00140138, 0.00139952,\n",
       "        0.00120325, 0.00099998, 0.00160031, 0.00100031, 0.0012002 ,\n",
       "        0.00120497, 0.00140028, 0.00140157, 0.00120163, 0.00132937,\n",
       "        0.00100007, 0.00120044, 0.00140028, 0.00120025, 0.00160041,\n",
       "        0.00100026, 0.00139961, 0.00092716, 0.00120029, 0.00100031,\n",
       "        0.00140028, 0.0016005 , 0.00159912, 0.00159979, 0.00100021]),\n",
       " 'std_score_time': array([4.00304837e-04, 1.16800773e-07, 4.00137940e-04, 3.99995003e-04,\n",
       "        4.90057140e-04, 2.78041453e-07, 4.89862464e-04, 4.00137912e-04,\n",
       "        4.00376359e-04, 4.00090228e-04, 4.89940362e-04, 1.50789149e-07,\n",
       "        4.89998815e-04, 4.00137940e-04, 4.89862557e-04, 4.90076636e-04,\n",
       "        4.90193437e-04, 4.00233365e-04, 4.90135007e-04, 4.89842988e-04,\n",
       "        4.90018206e-04, 4.89959858e-04, 4.89959812e-04, 1.55977509e-06,\n",
       "        2.78041453e-07, 4.00257139e-04, 4.90173964e-04, 4.90057140e-04,\n",
       "        3.99923396e-04, 3.99971037e-04, 4.90193390e-04, 4.90154518e-04,\n",
       "        4.00161828e-04, 4.90057117e-04, 3.99899493e-04, 4.00137912e-04,\n",
       "        4.90193483e-04, 2.61174468e-07, 4.90212913e-04, 4.89979265e-04,\n",
       "        4.89745687e-04, 4.00114102e-04, 4.90232347e-04, 4.89842988e-04,\n",
       "        4.89998745e-04, 4.00209469e-04, 4.90018183e-04, 4.89881991e-04,\n",
       "        4.89998861e-04, 4.89940339e-04, 4.89998861e-04, 4.90135007e-04,\n",
       "        4.89843034e-04, 3.99994889e-04, 4.90076589e-04, 1.50789149e-07,\n",
       "        4.00185709e-04, 4.89804047e-04, 4.00042630e-04, 4.90839054e-04,\n",
       "        4.00209498e-04, 4.00114130e-04, 4.89940362e-04, 4.00281020e-04,\n",
       "        4.00066404e-04, 4.00257253e-04, 4.00426428e-04, 3.99899522e-04,\n",
       "        1.78416128e-07, 6.61000193e-06, 4.26481219e-04, 4.00257139e-04,\n",
       "        3.89118422e-04, 4.89144833e-04, 4.90857407e-04, 4.06289111e-04,\n",
       "        5.51978917e-07, 4.89920871e-04, 3.87384339e-07, 4.00185624e-04,\n",
       "        3.97858678e-04, 4.90037718e-04, 4.86676776e-04, 3.99361667e-04,\n",
       "        4.17326601e-04, 2.43140197e-07, 4.00066404e-04, 4.89940316e-04,\n",
       "        3.99923396e-04, 4.89804139e-04, 1.16800773e-07, 4.90584626e-04,\n",
       "        1.46007849e-04, 4.00137912e-04, 1.90734863e-07, 4.90037671e-04,\n",
       "        4.89881991e-04, 4.91873082e-04, 4.90856249e-04, 2.78041453e-07]),\n",
       " 'param_class_weight': masked_array(data=[{0: 0.0, 1: 1.0}, {0: 0.01, 1: 0.99},\n",
       "                    {0: 0.02, 1: 0.98}, {0: 0.03, 1: 0.97},\n",
       "                    {0: 0.04, 1: 0.96}, {0: 0.05, 1: 0.95},\n",
       "                    {0: 0.06, 1: 0.94}, {0: 0.07, 1: 0.9299999999999999},\n",
       "                    {0: 0.08, 1: 0.92}, {0: 0.09, 1: 0.91},\n",
       "                    {0: 0.1, 1: 0.9}, {0: 0.11, 1: 0.89},\n",
       "                    {0: 0.12, 1: 0.88}, {0: 0.13, 1: 0.87},\n",
       "                    {0: 0.14, 1: 0.86}, {0: 0.15, 1: 0.85},\n",
       "                    {0: 0.16, 1: 0.84}, {0: 0.17, 1: 0.83},\n",
       "                    {0: 0.18, 1: 0.8200000000000001}, {0: 0.19, 1: 0.81},\n",
       "                    {0: 0.2, 1: 0.8}, {0: 0.21, 1: 0.79},\n",
       "                    {0: 0.22, 1: 0.78}, {0: 0.23, 1: 0.77},\n",
       "                    {0: 0.24, 1: 0.76}, {0: 0.25, 1: 0.75},\n",
       "                    {0: 0.26, 1: 0.74}, {0: 0.27, 1: 0.73},\n",
       "                    {0: 0.28, 1: 0.72}, {0: 0.29, 1: 0.71},\n",
       "                    {0: 0.3, 1: 0.7}, {0: 0.31, 1: 0.69},\n",
       "                    {0: 0.32, 1: 0.6799999999999999},\n",
       "                    {0: 0.33, 1: 0.6699999999999999},\n",
       "                    {0: 0.34, 1: 0.6599999999999999},\n",
       "                    {0: 0.35000000000000003, 1: 0.6499999999999999},\n",
       "                    {0: 0.36, 1: 0.64}, {0: 0.37, 1: 0.63},\n",
       "                    {0: 0.38, 1: 0.62}, {0: 0.39, 1: 0.61},\n",
       "                    {0: 0.4, 1: 0.6}, {0: 0.41000000000000003, 1: 0.59},\n",
       "                    {0: 0.42, 1: 0.5800000000000001},\n",
       "                    {0: 0.43, 1: 0.5700000000000001}, {0: 0.44, 1: 0.56},\n",
       "                    {0: 0.45, 1: 0.55}, {0: 0.46, 1: 0.54},\n",
       "                    {0: 0.47000000000000003, 1: 0.53}, {0: 0.48, 1: 0.52},\n",
       "                    {0: 0.49, 1: 0.51}, {0: 0.5, 1: 0.5},\n",
       "                    {0: 0.51, 1: 0.49}, {0: 0.52, 1: 0.48},\n",
       "                    {0: 0.53, 1: 0.47}, {0: 0.54, 1: 0.45999999999999996},\n",
       "                    {0: 0.55, 1: 0.44999999999999996},\n",
       "                    {0: 0.56, 1: 0.43999999999999995},\n",
       "                    {0: 0.5700000000000001, 1: 0.42999999999999994},\n",
       "                    {0: 0.58, 1: 0.42000000000000004},\n",
       "                    {0: 0.59, 1: 0.41000000000000003}, {0: 0.6, 1: 0.4},\n",
       "                    {0: 0.61, 1: 0.39}, {0: 0.62, 1: 0.38},\n",
       "                    {0: 0.63, 1: 0.37}, {0: 0.64, 1: 0.36},\n",
       "                    {0: 0.65, 1: 0.35}, {0: 0.66, 1: 0.33999999999999997},\n",
       "                    {0: 0.67, 1: 0.32999999999999996},\n",
       "                    {0: 0.68, 1: 0.31999999999999995},\n",
       "                    {0: 0.6900000000000001, 1: 0.30999999999999994},\n",
       "                    {0: 0.7000000000000001, 1: 0.29999999999999993},\n",
       "                    {0: 0.71, 1: 0.29000000000000004}, {0: 0.72, 1: 0.28},\n",
       "                    {0: 0.73, 1: 0.27}, {0: 0.74, 1: 0.26},\n",
       "                    {0: 0.75, 1: 0.25}, {0: 0.76, 1: 0.24},\n",
       "                    {0: 0.77, 1: 0.22999999999999998},\n",
       "                    {0: 0.78, 1: 0.21999999999999997},\n",
       "                    {0: 0.79, 1: 0.20999999999999996},\n",
       "                    {0: 0.8, 1: 0.19999999999999996},\n",
       "                    {0: 0.81, 1: 0.18999999999999995},\n",
       "                    {0: 0.8200000000000001, 1: 0.17999999999999994},\n",
       "                    {0: 0.8300000000000001, 1: 0.16999999999999993},\n",
       "                    {0: 0.84, 1: 0.16000000000000003},\n",
       "                    {0: 0.85, 1: 0.15000000000000002}, {0: 0.86, 1: 0.14},\n",
       "                    {0: 0.87, 1: 0.13}, {0: 0.88, 1: 0.12},\n",
       "                    {0: 0.89, 1: 0.10999999999999999},\n",
       "                    {0: 0.9, 1: 0.09999999999999998},\n",
       "                    {0: 0.91, 1: 0.08999999999999997},\n",
       "                    {0: 0.92, 1: 0.07999999999999996},\n",
       "                    {0: 0.93, 1: 0.06999999999999995},\n",
       "                    {0: 0.9400000000000001, 1: 0.05999999999999994},\n",
       "                    {0: 0.9500000000000001, 1: 0.04999999999999993},\n",
       "                    {0: 0.96, 1: 0.040000000000000036},\n",
       "                    {0: 0.97, 1: 0.030000000000000027},\n",
       "                    {0: 0.98, 1: 0.020000000000000018},\n",
       "                    {0: 0.99, 1: 0.010000000000000009}],\n",
       "              mask=[False, False, False, False, False, False, False, False,\n",
       "                    False, False, False, False, False, False, False, False,\n",
       "                    False, False, False, False, False, False, False, False,\n",
       "                    False, False, False, False, False, False, False, False,\n",
       "                    False, False, False, False, False, False, False, False,\n",
       "                    False, False, False, False, False, False, False, False,\n",
       "                    False, False, False, False, False, False, False, False,\n",
       "                    False, False, False, False, False, False, False, False,\n",
       "                    False, False, False, False, False, False, False, False,\n",
       "                    False, False, False, False, False, False, False, False,\n",
       "                    False, False, False, False, False, False, False, False,\n",
       "                    False, False, False, False, False, False, False, False,\n",
       "                    False, False, False, False],\n",
       "        fill_value='?',\n",
       "             dtype=object),\n",
       " 'params': [{'class_weight': {0: 0.0, 1: 1.0}},\n",
       "  {'class_weight': {0: 0.01, 1: 0.99}},\n",
       "  {'class_weight': {0: 0.02, 1: 0.98}},\n",
       "  {'class_weight': {0: 0.03, 1: 0.97}},\n",
       "  {'class_weight': {0: 0.04, 1: 0.96}},\n",
       "  {'class_weight': {0: 0.05, 1: 0.95}},\n",
       "  {'class_weight': {0: 0.06, 1: 0.94}},\n",
       "  {'class_weight': {0: 0.07, 1: 0.9299999999999999}},\n",
       "  {'class_weight': {0: 0.08, 1: 0.92}},\n",
       "  {'class_weight': {0: 0.09, 1: 0.91}},\n",
       "  {'class_weight': {0: 0.1, 1: 0.9}},\n",
       "  {'class_weight': {0: 0.11, 1: 0.89}},\n",
       "  {'class_weight': {0: 0.12, 1: 0.88}},\n",
       "  {'class_weight': {0: 0.13, 1: 0.87}},\n",
       "  {'class_weight': {0: 0.14, 1: 0.86}},\n",
       "  {'class_weight': {0: 0.15, 1: 0.85}},\n",
       "  {'class_weight': {0: 0.16, 1: 0.84}},\n",
       "  {'class_weight': {0: 0.17, 1: 0.83}},\n",
       "  {'class_weight': {0: 0.18, 1: 0.8200000000000001}},\n",
       "  {'class_weight': {0: 0.19, 1: 0.81}},\n",
       "  {'class_weight': {0: 0.2, 1: 0.8}},\n",
       "  {'class_weight': {0: 0.21, 1: 0.79}},\n",
       "  {'class_weight': {0: 0.22, 1: 0.78}},\n",
       "  {'class_weight': {0: 0.23, 1: 0.77}},\n",
       "  {'class_weight': {0: 0.24, 1: 0.76}},\n",
       "  {'class_weight': {0: 0.25, 1: 0.75}},\n",
       "  {'class_weight': {0: 0.26, 1: 0.74}},\n",
       "  {'class_weight': {0: 0.27, 1: 0.73}},\n",
       "  {'class_weight': {0: 0.28, 1: 0.72}},\n",
       "  {'class_weight': {0: 0.29, 1: 0.71}},\n",
       "  {'class_weight': {0: 0.3, 1: 0.7}},\n",
       "  {'class_weight': {0: 0.31, 1: 0.69}},\n",
       "  {'class_weight': {0: 0.32, 1: 0.6799999999999999}},\n",
       "  {'class_weight': {0: 0.33, 1: 0.6699999999999999}},\n",
       "  {'class_weight': {0: 0.34, 1: 0.6599999999999999}},\n",
       "  {'class_weight': {0: 0.35000000000000003, 1: 0.6499999999999999}},\n",
       "  {'class_weight': {0: 0.36, 1: 0.64}},\n",
       "  {'class_weight': {0: 0.37, 1: 0.63}},\n",
       "  {'class_weight': {0: 0.38, 1: 0.62}},\n",
       "  {'class_weight': {0: 0.39, 1: 0.61}},\n",
       "  {'class_weight': {0: 0.4, 1: 0.6}},\n",
       "  {'class_weight': {0: 0.41000000000000003, 1: 0.59}},\n",
       "  {'class_weight': {0: 0.42, 1: 0.5800000000000001}},\n",
       "  {'class_weight': {0: 0.43, 1: 0.5700000000000001}},\n",
       "  {'class_weight': {0: 0.44, 1: 0.56}},\n",
       "  {'class_weight': {0: 0.45, 1: 0.55}},\n",
       "  {'class_weight': {0: 0.46, 1: 0.54}},\n",
       "  {'class_weight': {0: 0.47000000000000003, 1: 0.53}},\n",
       "  {'class_weight': {0: 0.48, 1: 0.52}},\n",
       "  {'class_weight': {0: 0.49, 1: 0.51}},\n",
       "  {'class_weight': {0: 0.5, 1: 0.5}},\n",
       "  {'class_weight': {0: 0.51, 1: 0.49}},\n",
       "  {'class_weight': {0: 0.52, 1: 0.48}},\n",
       "  {'class_weight': {0: 0.53, 1: 0.47}},\n",
       "  {'class_weight': {0: 0.54, 1: 0.45999999999999996}},\n",
       "  {'class_weight': {0: 0.55, 1: 0.44999999999999996}},\n",
       "  {'class_weight': {0: 0.56, 1: 0.43999999999999995}},\n",
       "  {'class_weight': {0: 0.5700000000000001, 1: 0.42999999999999994}},\n",
       "  {'class_weight': {0: 0.58, 1: 0.42000000000000004}},\n",
       "  {'class_weight': {0: 0.59, 1: 0.41000000000000003}},\n",
       "  {'class_weight': {0: 0.6, 1: 0.4}},\n",
       "  {'class_weight': {0: 0.61, 1: 0.39}},\n",
       "  {'class_weight': {0: 0.62, 1: 0.38}},\n",
       "  {'class_weight': {0: 0.63, 1: 0.37}},\n",
       "  {'class_weight': {0: 0.64, 1: 0.36}},\n",
       "  {'class_weight': {0: 0.65, 1: 0.35}},\n",
       "  {'class_weight': {0: 0.66, 1: 0.33999999999999997}},\n",
       "  {'class_weight': {0: 0.67, 1: 0.32999999999999996}},\n",
       "  {'class_weight': {0: 0.68, 1: 0.31999999999999995}},\n",
       "  {'class_weight': {0: 0.6900000000000001, 1: 0.30999999999999994}},\n",
       "  {'class_weight': {0: 0.7000000000000001, 1: 0.29999999999999993}},\n",
       "  {'class_weight': {0: 0.71, 1: 0.29000000000000004}},\n",
       "  {'class_weight': {0: 0.72, 1: 0.28}},\n",
       "  {'class_weight': {0: 0.73, 1: 0.27}},\n",
       "  {'class_weight': {0: 0.74, 1: 0.26}},\n",
       "  {'class_weight': {0: 0.75, 1: 0.25}},\n",
       "  {'class_weight': {0: 0.76, 1: 0.24}},\n",
       "  {'class_weight': {0: 0.77, 1: 0.22999999999999998}},\n",
       "  {'class_weight': {0: 0.78, 1: 0.21999999999999997}},\n",
       "  {'class_weight': {0: 0.79, 1: 0.20999999999999996}},\n",
       "  {'class_weight': {0: 0.8, 1: 0.19999999999999996}},\n",
       "  {'class_weight': {0: 0.81, 1: 0.18999999999999995}},\n",
       "  {'class_weight': {0: 0.8200000000000001, 1: 0.17999999999999994}},\n",
       "  {'class_weight': {0: 0.8300000000000001, 1: 0.16999999999999993}},\n",
       "  {'class_weight': {0: 0.84, 1: 0.16000000000000003}},\n",
       "  {'class_weight': {0: 0.85, 1: 0.15000000000000002}},\n",
       "  {'class_weight': {0: 0.86, 1: 0.14}},\n",
       "  {'class_weight': {0: 0.87, 1: 0.13}},\n",
       "  {'class_weight': {0: 0.88, 1: 0.12}},\n",
       "  {'class_weight': {0: 0.89, 1: 0.10999999999999999}},\n",
       "  {'class_weight': {0: 0.9, 1: 0.09999999999999998}},\n",
       "  {'class_weight': {0: 0.91, 1: 0.08999999999999997}},\n",
       "  {'class_weight': {0: 0.92, 1: 0.07999999999999996}},\n",
       "  {'class_weight': {0: 0.93, 1: 0.06999999999999995}},\n",
       "  {'class_weight': {0: 0.9400000000000001, 1: 0.05999999999999994}},\n",
       "  {'class_weight': {0: 0.9500000000000001, 1: 0.04999999999999993}},\n",
       "  {'class_weight': {0: 0.96, 1: 0.040000000000000036}},\n",
       "  {'class_weight': {0: 0.97, 1: 0.030000000000000027}},\n",
       "  {'class_weight': {0: 0.98, 1: 0.020000000000000018}},\n",
       "  {'class_weight': {0: 0.99, 1: 0.010000000000000009}}],\n",
       " 'split0_test_score': array([0.12935323, 0.13333333, 0.125     , 0.12021858, 0.13253012,\n",
       "        0.11594203, 0.11111111, 0.11764706, 0.11267606, 0.14035088,\n",
       "        0.17021277, 0.19047619, 0.2       , 0.21428571, 0.17391304,\n",
       "        0.17391304, 0.19047619, 0.1       , 0.10526316, 0.11111111,\n",
       "        0.11111111, 0.        , 0.        , 0.        , 0.        ,\n",
       "        0.        , 0.        , 0.        , 0.        , 0.        ,\n",
       "        0.        , 0.        , 0.        , 0.        , 0.        ,\n",
       "        0.        , 0.        , 0.        , 0.        , 0.        ,\n",
       "        0.        , 0.        , 0.        , 0.        , 0.        ,\n",
       "        0.        , 0.        , 0.        , 0.        , 0.        ,\n",
       "        0.        , 0.        , 0.        , 0.        , 0.        ,\n",
       "        0.        , 0.        , 0.        , 0.        , 0.        ,\n",
       "        0.        , 0.        , 0.        , 0.        , 0.        ,\n",
       "        0.        , 0.        , 0.        , 0.        , 0.        ,\n",
       "        0.        , 0.        , 0.        , 0.        , 0.        ,\n",
       "        0.        , 0.        , 0.        , 0.        , 0.        ,\n",
       "        0.        , 0.        , 0.        , 0.        , 0.        ,\n",
       "        0.        , 0.        , 0.        , 0.        , 0.        ,\n",
       "        0.        , 0.        , 0.        , 0.        , 0.        ,\n",
       "        0.        , 0.        , 0.        , 0.        , 0.        ]),\n",
       " 'split1_test_score': array([0.12935323, 0.11702128, 0.12222222, 0.10843373, 0.1192053 ,\n",
       "        0.09230769, 0.07476636, 0.09195402, 0.10810811, 0.14814815,\n",
       "        0.09090909, 0.09756098, 0.125     , 0.14285714, 0.14814815,\n",
       "        0.08333333, 0.1       , 0.1       , 0.11111111, 0.11111111,\n",
       "        0.11764706, 0.125     , 0.125     , 0.125     , 0.125     ,\n",
       "        0.125     , 0.125     , 0.125     , 0.125     , 0.125     ,\n",
       "        0.125     , 0.125     , 0.125     , 0.125     , 0.125     ,\n",
       "        0.125     , 0.125     , 0.125     , 0.13333333, 0.13333333,\n",
       "        0.13333333, 0.13333333, 0.13333333, 0.13333333, 0.13333333,\n",
       "        0.13333333, 0.13333333, 0.13333333, 0.14285714, 0.14285714,\n",
       "        0.14285714, 0.14285714, 0.14285714, 0.14285714, 0.14285714,\n",
       "        0.14285714, 0.14285714, 0.14285714, 0.14285714, 0.14285714,\n",
       "        0.14285714, 0.14285714, 0.14285714, 0.14285714, 0.14285714,\n",
       "        0.14285714, 0.14285714, 0.14285714, 0.        , 0.14285714,\n",
       "        0.        , 0.        , 0.        , 0.        , 0.        ,\n",
       "        0.        , 0.        , 0.        , 0.        , 0.        ,\n",
       "        0.        , 0.        , 0.        , 0.        , 0.        ,\n",
       "        0.        , 0.        , 0.        , 0.        , 0.        ,\n",
       "        0.        , 0.        , 0.        , 0.        , 0.        ,\n",
       "        0.        , 0.        , 0.        , 0.        , 0.        ]),\n",
       " 'split2_test_score': array([0.12935323, 0.12903226, 0.13186813, 0.12865497, 0.12676056,\n",
       "        0.11111111, 0.11235955, 0.13888889, 0.0754717 , 0.09090909,\n",
       "        0.1       , 0.12121212, 0.13333333, 0.14814815, 0.08333333,\n",
       "        0.08333333, 0.08695652, 0.08695652, 0.0952381 , 0.10526316,\n",
       "        0.11111111, 0.11111111, 0.11111111, 0.11111111, 0.11764706,\n",
       "        0.        , 0.        , 0.        , 0.        , 0.        ,\n",
       "        0.        , 0.        , 0.        , 0.        , 0.        ,\n",
       "        0.        , 0.        , 0.        , 0.        , 0.        ,\n",
       "        0.        , 0.        , 0.        , 0.        , 0.        ,\n",
       "        0.        , 0.        , 0.        , 0.        , 0.        ,\n",
       "        0.        , 0.        , 0.        , 0.        , 0.        ,\n",
       "        0.        , 0.        , 0.        , 0.        , 0.        ,\n",
       "        0.        , 0.        , 0.        , 0.        , 0.        ,\n",
       "        0.        , 0.        , 0.        , 0.        , 0.        ,\n",
       "        0.        , 0.        , 0.        , 0.        , 0.        ,\n",
       "        0.        , 0.        , 0.        , 0.        , 0.        ,\n",
       "        0.        , 0.        , 0.        , 0.        , 0.        ,\n",
       "        0.        , 0.        , 0.        , 0.        , 0.        ,\n",
       "        0.        , 0.        , 0.        , 0.        , 0.        ,\n",
       "        0.        , 0.        , 0.        , 0.        , 0.        ]),\n",
       " 'split3_test_score': array([0.12935323, 0.13612565, 0.12903226, 0.12643678, 0.11320755,\n",
       "        0.10852713, 0.08928571, 0.08988764, 0.08      , 0.03225806,\n",
       "        0.03846154, 0.        , 0.        , 0.        , 0.        ,\n",
       "        0.        , 0.        , 0.        , 0.        , 0.        ,\n",
       "        0.        , 0.        , 0.        , 0.        , 0.        ,\n",
       "        0.        , 0.        , 0.        , 0.        , 0.        ,\n",
       "        0.        , 0.        , 0.        , 0.        , 0.        ,\n",
       "        0.        , 0.        , 0.        , 0.        , 0.        ,\n",
       "        0.        , 0.        , 0.        , 0.        , 0.        ,\n",
       "        0.        , 0.        , 0.        , 0.        , 0.        ,\n",
       "        0.        , 0.        , 0.        , 0.        , 0.        ,\n",
       "        0.        , 0.        , 0.        , 0.        , 0.        ,\n",
       "        0.        , 0.        , 0.        , 0.        , 0.        ,\n",
       "        0.        , 0.        , 0.        , 0.        , 0.        ,\n",
       "        0.        , 0.        , 0.        , 0.        , 0.        ,\n",
       "        0.        , 0.        , 0.        , 0.        , 0.        ,\n",
       "        0.        , 0.        , 0.        , 0.        , 0.        ,\n",
       "        0.        , 0.        , 0.        , 0.        , 0.        ,\n",
       "        0.        , 0.        , 0.        , 0.        , 0.        ,\n",
       "        0.        , 0.        , 0.        , 0.        , 0.        ]),\n",
       " 'split4_test_score': array([0.12935323, 0.125     , 0.11891892, 0.09815951, 0.07142857,\n",
       "        0.06722689, 0.06185567, 0.07594937, 0.08695652, 0.10169492,\n",
       "        0.11538462, 0.12765957, 0.09756098, 0.10526316, 0.125     ,\n",
       "        0.14285714, 0.15384615, 0.16666667, 0.1       , 0.1       ,\n",
       "        0.11111111, 0.11111111, 0.11111111, 0.11111111, 0.11111111,\n",
       "        0.11764706, 0.11764706, 0.125     , 0.        , 0.        ,\n",
       "        0.        , 0.        , 0.        , 0.        , 0.        ,\n",
       "        0.        , 0.        , 0.        , 0.        , 0.        ,\n",
       "        0.        , 0.        , 0.        , 0.        , 0.        ,\n",
       "        0.        , 0.        , 0.        , 0.        , 0.        ,\n",
       "        0.        , 0.        , 0.        , 0.        , 0.        ,\n",
       "        0.        , 0.        , 0.        , 0.        , 0.        ,\n",
       "        0.        , 0.        , 0.        , 0.        , 0.        ,\n",
       "        0.        , 0.        , 0.        , 0.        , 0.        ,\n",
       "        0.        , 0.        , 0.        , 0.        , 0.        ,\n",
       "        0.        , 0.        , 0.        , 0.        , 0.        ,\n",
       "        0.        , 0.        , 0.        , 0.        , 0.        ,\n",
       "        0.        , 0.        , 0.        , 0.        , 0.        ,\n",
       "        0.        , 0.        , 0.        , 0.        , 0.        ,\n",
       "        0.        , 0.        , 0.        , 0.        , 0.        ]),\n",
       " 'mean_test_score': array([0.12935323, 0.1281025 , 0.12540831, 0.11638072, 0.11262642,\n",
       "        0.09902297, 0.08987568, 0.1028654 , 0.09264248, 0.10267222,\n",
       "        0.1029936 , 0.10738177, 0.11117886, 0.12211083, 0.1060789 ,\n",
       "        0.09668737, 0.10625577, 0.09072464, 0.08232247, 0.08549708,\n",
       "        0.09019608, 0.06944444, 0.06944444, 0.06944444, 0.07075163,\n",
       "        0.04852941, 0.04852941, 0.05      , 0.025     , 0.025     ,\n",
       "        0.025     , 0.025     , 0.025     , 0.025     , 0.025     ,\n",
       "        0.025     , 0.025     , 0.025     , 0.02666667, 0.02666667,\n",
       "        0.02666667, 0.02666667, 0.02666667, 0.02666667, 0.02666667,\n",
       "        0.02666667, 0.02666667, 0.02666667, 0.02857143, 0.02857143,\n",
       "        0.02857143, 0.02857143, 0.02857143, 0.02857143, 0.02857143,\n",
       "        0.02857143, 0.02857143, 0.02857143, 0.02857143, 0.02857143,\n",
       "        0.02857143, 0.02857143, 0.02857143, 0.02857143, 0.02857143,\n",
       "        0.02857143, 0.02857143, 0.02857143, 0.        , 0.02857143,\n",
       "        0.        , 0.        , 0.        , 0.        , 0.        ,\n",
       "        0.        , 0.        , 0.        , 0.        , 0.        ,\n",
       "        0.        , 0.        , 0.        , 0.        , 0.        ,\n",
       "        0.        , 0.        , 0.        , 0.        , 0.        ,\n",
       "        0.        , 0.        , 0.        , 0.        , 0.        ,\n",
       "        0.        , 0.        , 0.        , 0.        , 0.        ]),\n",
       " 'std_test_score': array([0.        , 0.00670844, 0.00463233, 0.01150372, 0.02161857,\n",
       "        0.01776959, 0.01985059, 0.02248618, 0.01501684, 0.04143723,\n",
       "        0.04240598, 0.06186185, 0.06498804, 0.0704265 , 0.06082663,\n",
       "        0.05966668, 0.06489963, 0.0532624 , 0.04150026, 0.04294867,\n",
       "        0.04516903, 0.0569275 , 0.0569275 , 0.0569275 , 0.05793538,\n",
       "        0.05948161, 0.05948161, 0.06123724, 0.05      , 0.05      ,\n",
       "        0.05      , 0.05      , 0.05      , 0.05      , 0.05      ,\n",
       "        0.05      , 0.05      , 0.05      , 0.05333333, 0.05333333,\n",
       "        0.05333333, 0.05333333, 0.05333333, 0.05333333, 0.05333333,\n",
       "        0.05333333, 0.05333333, 0.05333333, 0.05714286, 0.05714286,\n",
       "        0.05714286, 0.05714286, 0.05714286, 0.05714286, 0.05714286,\n",
       "        0.05714286, 0.05714286, 0.05714286, 0.05714286, 0.05714286,\n",
       "        0.05714286, 0.05714286, 0.05714286, 0.05714286, 0.05714286,\n",
       "        0.05714286, 0.05714286, 0.05714286, 0.        , 0.05714286,\n",
       "        0.        , 0.        , 0.        , 0.        , 0.        ,\n",
       "        0.        , 0.        , 0.        , 0.        , 0.        ,\n",
       "        0.        , 0.        , 0.        , 0.        , 0.        ,\n",
       "        0.        , 0.        , 0.        , 0.        , 0.        ,\n",
       "        0.        , 0.        , 0.        , 0.        , 0.        ,\n",
       "        0.        , 0.        , 0.        , 0.        , 0.        ]),\n",
       " 'rank_test_score': array([ 1,  2,  3,  5,  6, 14, 19, 12, 16, 13, 11,  8,  7,  4, 10, 15,  9,\n",
       "        17, 21, 20, 18, 23, 23, 23, 22, 27, 27, 26, 60, 60, 60, 60, 60, 60,\n",
       "        60, 60, 60, 60, 50, 50, 50, 50, 50, 50, 50, 50, 50, 50, 29, 29, 29,\n",
       "        29, 29, 29, 29, 29, 29, 29, 29, 29, 29, 29, 29, 29, 29, 29, 29, 29,\n",
       "        70, 29, 70, 70, 70, 70, 70, 70, 70, 70, 70, 70, 70, 70, 70, 70, 70,\n",
       "        70, 70, 70, 70, 70, 70, 70, 70, 70, 70, 70, 70, 70, 70, 70])}"
      ]
     },
     "execution_count": 42,
     "metadata": {},
     "output_type": "execute_result"
    }
   ],
   "source": [
    "model.cv_results_"
   ]
  },
  {
   "cell_type": "code",
   "execution_count": 43,
   "metadata": {
    "colab": {
     "base_uri": "https://localhost:8080/",
     "height": 515
    },
    "executionInfo": {
     "elapsed": 422,
     "status": "ok",
     "timestamp": 1646135674014,
     "user": {
      "displayName": "한기영",
      "photoUrl": "https://lh3.googleusercontent.com/a/default-user=s64",
      "userId": "13049187003176135487"
     },
     "user_tz": -540
    },
    "id": "tQzjevwrHTRe",
    "outputId": "2355c73c-a7cf-4ee0-d588-643d843f9aa1"
   },
   "outputs": [
    {
     "name": "stdout",
     "output_type": "stream",
     "text": [
      "{'class_weight': {0: 0.0, 1: 1.0}}\n"
     ]
    },
    {
     "data": {
      "image/png": "[encoded data removed]",
      "text/plain": [
       "<Figure size 864x576 with 1 Axes>"
      ]
     },
     "metadata": {
      "needs_background": "light"
     },
     "output_type": "display_data"
    }
   ],
   "source": [
    "weight_1 = 1.0 - weights\n",
    "f1 = model.cv_results_['mean_test_score']\n",
    "cw = model.best_params_['class_weight'][1]\n",
    "\n",
    "\n",
    "print(model.best_params_)\n",
    "plt.figure(figsize=(12, 8))\n",
    "plt.plot(weight_1, f1)\n",
    "plt.axvline(cw, color = 'r', linewidth = .7)\n",
    "plt.axhline(max(f1), color = 'r', linewidth = .7)\n",
    "\n",
    "plt.ylabel('F1 Score')\n",
    "plt.xlabel('Class 1 weight')\n",
    "plt.grid()\n",
    "plt.show()"
   ]
  },
  {
   "cell_type": "code",
   "execution_count": null,
   "metadata": {
    "id": "wVbOmHZj-dxh"
   },
   "outputs": [],
   "source": []
  }
 ],
 "metadata": {
  "colab": {
   "collapsed_sections": [],
   "name": "3-3. Class Weight_참조.ipynb",
   "provenance": [],
   "toc_visible": true
  },
  "kernelspec": {
   "display_name": "Python 3",
   "language": "python",
   "name": "python3"
  },
  "language_info": {
   "codemirror_mode": {
    "name": "ipython",
    "version": 3
   },
   "file_extension": ".py",
   "mimetype": "text/x-python",
   "name": "python",
   "nbconvert_exporter": "python",
   "pygments_lexer": "ipython3",
   "version": "3.8.8"
  }
 },
 "nbformat": 4,
 "nbformat_minor": 4
}
