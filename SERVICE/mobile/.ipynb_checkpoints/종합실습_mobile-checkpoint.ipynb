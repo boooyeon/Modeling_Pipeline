{
 "cells": [
  {
   "cell_type": "markdown",
   "id": "wo-iPN8Y1V5r",
   "metadata": {
    "id": "wo-iPN8Y1V5r"
   },
   "source": [
    "# ML Pipeline\n",
    "\n",
    "* 이제 여러분은 코드를 작성할 때, 두 가지를 고려해야 합니다.\n",
    "    * 재사용 하려면 어떻게 작성해야 할까?\n",
    "    * 물 흐르듯이 pipeline을 구성하려면 어떻게 작성해야 할까?"
   ]
  },
  {
   "cell_type": "markdown",
   "id": "3355e782-d77e-4fa0-8faa-aba12399c367",
   "metadata": {
    "id": "cdQaCT5I0IL_"
   },
   "source": [
    "* 여러분은 OO 통신화사 데이터분석가 입니다.\n",
    "* 회사는 약정기간이 끝난 고객이 번호이동(이탈)해 가는 문제를 해결하고자 합니다.\n",
    "* 그래서 여러분에게, 어떤 고객이 번호이동(이탈)해 가는지 데이터분석을 의뢰하였습니다.\n",
    "* 고객 이탈여부(CHURN)에 영향을 주는 요인을 찾아 봅시다."
   ]
  },
  {
   "cell_type": "markdown",
   "id": "7b9e600f-b85f-4b26-8c58-a7b80811774b",
   "metadata": {
    "id": "ExPzmVxJGvxq"
   },
   "source": [
    "![](https://d18lkz4dllo6v2.cloudfront.net/cumulus_uploads/entry/23964/mobile%20phones.png)"
   ]
  },
  {
   "cell_type": "markdown",
   "id": "87975d0c-1fd1-4dc9-b866-0db5c5d639cd",
   "metadata": {
    "id": "2VGIfdrXAvw_"
   },
   "source": [
    "|변수 명|내용|구분|\n",
    "|\t----\t|\t----\t|\t----\t|\n",
    "|\tCOLLEGE\t|\t대학졸업 여부(1,0) - 범주\t|\t\t|\n",
    "|\tINCOME\t|\t연 수입액(달러)\t|\t\t|\n",
    "|\tOVERAGE\t|\t월 초과사용 시간(분)\t|\t\t|\n",
    "|\tLEFTOVER\t|\t월 사용 잔여시간비율(%)\t|\t\t|\n",
    "|\tHOUSE\t|\t집 가격(달러)\t|\t\t|\n",
    "|\tHANDSET_PRICE\t|\t핸드폰 가격(달러)\t|\t\t|\n",
    "|\tOVER_15MINS_CALLS_PER_MONTH\t|\t 평균 장기통화(15분 이상) 횟수\t|\t\t|\n",
    "|\tAVERAGE_CALL_DURATION\t|\t평균 통화시간(분)\t|\t\t|\n",
    "|\tREPORTED_SATISFACTION\t|\t만족도 설문('very_unsat', 'unsat', 'avg', 'sat', 'very_sat' ) - 범주\t|\t\t|\n",
    "|\tREPORTED_USAGE_LEVEL\t|\t사용 수준 설문('very_little', 'little', 'avg', 'high', 'very_high') - 범주\t|\t\t|\n",
    "|\tCONSIDERING_CHANGE_OF_PLAN\t|\t변경 계획 설문('never_thought', 'no', 'perhaps', 'considering',   'actively_looking_into_it') - 범주\t|\t\t|\n",
    "|\t**CHURN**\t|\t이탈여부(1 : 이탈, 0 : 잔류)\t|\t**Target**\t|\n"
   ]
  },
  {
   "cell_type": "markdown",
   "id": "gvFaKcmP1cwc",
   "metadata": {
    "id": "gvFaKcmP1cwc"
   },
   "source": [
    "## 0.환경준비 "
   ]
  },
  {
   "cell_type": "markdown",
   "id": "zWYL7Ojt1i_I",
   "metadata": {
    "id": "zWYL7Ojt1i_I"
   },
   "source": [
    "### 1) 라이브러리 "
   ]
  },
  {
   "cell_type": "code",
   "execution_count": 1,
   "id": "0d2934eb-098d-4480-8818-9147e3e8eb13",
   "metadata": {
    "id": "0d2934eb-098d-4480-8818-9147e3e8eb13"
   },
   "outputs": [],
   "source": [
    "import pandas as pd\n",
    "import numpy as np\n",
    "\n",
    "from sklearn.model_selection import train_test_split\n",
    "from sklearn.impute import SimpleImputer, KNNImputer\n",
    "from sklearn.preprocessing import MinMaxScaler\n",
    "\n",
    "from sklearn.svm import SVC\n",
    "from sklearn.metrics import classification_report"
   ]
  },
  {
   "cell_type": "markdown",
   "id": "kxg4SHQ91lMZ",
   "metadata": {
    "id": "kxg4SHQ91lMZ"
   },
   "source": [
    "### 2) 데이터 불러오기"
   ]
  },
  {
   "cell_type": "code",
   "execution_count": 2,
   "id": "29715899-12f6-440a-81b0-a3bb48996b30",
   "metadata": {
    "colab": {
     "base_uri": "https://localhost:8080/",
     "height": 206
    },
    "executionInfo": {
     "elapsed": 37,
     "status": "ok",
     "timestamp": 1647767628621,
     "user": {
      "displayName": "한기영",
      "photoUrl": "https://lh3.googleusercontent.com/a/default-user=s64",
      "userId": "13049187003176135487"
     },
     "user_tz": -540
    },
    "id": "29715899-12f6-440a-81b0-a3bb48996b30",
    "outputId": "5e81b7f1-6609-46d4-e065-c0d3726bed71"
   },
   "outputs": [
    {
     "data": {
      "text/html": [
       "<div>\n",
       "<style scoped>\n",
       "    .dataframe tbody tr th:only-of-type {\n",
       "        vertical-align: middle;\n",
       "    }\n",
       "\n",
       "    .dataframe tbody tr th {\n",
       "        vertical-align: top;\n",
       "    }\n",
       "\n",
       "    .dataframe thead th {\n",
       "        text-align: right;\n",
       "    }\n",
       "</style>\n",
       "<table border=\"1\" class=\"dataframe\">\n",
       "  <thead>\n",
       "    <tr style=\"text-align: right;\">\n",
       "      <th></th>\n",
       "      <th>INCOME</th>\n",
       "      <th>OVERAGE</th>\n",
       "      <th>LEFTOVER</th>\n",
       "      <th>HOUSE</th>\n",
       "      <th>HANDSET_PRICE</th>\n",
       "      <th>OVER_15MINS_CALLS_PER_MONTH</th>\n",
       "      <th>AVERAGE_CALL_DURATION</th>\n",
       "      <th>REPORTED_SATISFACTION</th>\n",
       "      <th>REPORTED_USAGE_LEVEL</th>\n",
       "      <th>CHURN</th>\n",
       "    </tr>\n",
       "  </thead>\n",
       "  <tbody>\n",
       "    <tr>\n",
       "      <th>0</th>\n",
       "      <td>47711</td>\n",
       "      <td>183</td>\n",
       "      <td>17</td>\n",
       "      <td>730589.0</td>\n",
       "      <td>192</td>\n",
       "      <td>19</td>\n",
       "      <td>5</td>\n",
       "      <td>unsat</td>\n",
       "      <td>little</td>\n",
       "      <td>0</td>\n",
       "    </tr>\n",
       "    <tr>\n",
       "      <th>1</th>\n",
       "      <td>74132</td>\n",
       "      <td>191</td>\n",
       "      <td>43</td>\n",
       "      <td>535092.0</td>\n",
       "      <td>349</td>\n",
       "      <td>15</td>\n",
       "      <td>2</td>\n",
       "      <td>unsat</td>\n",
       "      <td>very_little</td>\n",
       "      <td>1</td>\n",
       "    </tr>\n",
       "    <tr>\n",
       "      <th>2</th>\n",
       "      <td>150419</td>\n",
       "      <td>0</td>\n",
       "      <td>14</td>\n",
       "      <td>204004.0</td>\n",
       "      <td>682</td>\n",
       "      <td>0</td>\n",
       "      <td>6</td>\n",
       "      <td>unsat</td>\n",
       "      <td>very_high</td>\n",
       "      <td>0</td>\n",
       "    </tr>\n",
       "    <tr>\n",
       "      <th>3</th>\n",
       "      <td>159567</td>\n",
       "      <td>0</td>\n",
       "      <td>58</td>\n",
       "      <td>281969.0</td>\n",
       "      <td>634</td>\n",
       "      <td>1</td>\n",
       "      <td>1</td>\n",
       "      <td>very_unsat</td>\n",
       "      <td>very_high</td>\n",
       "      <td>0</td>\n",
       "    </tr>\n",
       "    <tr>\n",
       "      <th>4</th>\n",
       "      <td>23392</td>\n",
       "      <td>0</td>\n",
       "      <td>0</td>\n",
       "      <td>216707.0</td>\n",
       "      <td>233</td>\n",
       "      <td>0</td>\n",
       "      <td>15</td>\n",
       "      <td>unsat</td>\n",
       "      <td>very_little</td>\n",
       "      <td>1</td>\n",
       "    </tr>\n",
       "  </tbody>\n",
       "</table>\n",
       "</div>"
      ],
      "text/plain": [
       "   INCOME  OVERAGE  LEFTOVER     HOUSE  HANDSET_PRICE  \\\n",
       "0   47711      183        17  730589.0            192   \n",
       "1   74132      191        43  535092.0            349   \n",
       "2  150419        0        14  204004.0            682   \n",
       "3  159567        0        58  281969.0            634   \n",
       "4   23392        0         0  216707.0            233   \n",
       "\n",
       "   OVER_15MINS_CALLS_PER_MONTH  AVERAGE_CALL_DURATION REPORTED_SATISFACTION  \\\n",
       "0                           19                      5                 unsat   \n",
       "1                           15                      2                 unsat   \n",
       "2                            0                      6                 unsat   \n",
       "3                            1                      1            very_unsat   \n",
       "4                            0                     15                 unsat   \n",
       "\n",
       "  REPORTED_USAGE_LEVEL  CHURN  \n",
       "0               little      0  \n",
       "1          very_little      1  \n",
       "2            very_high      0  \n",
       "3            very_high      0  \n",
       "4          very_little      1  "
      ]
     },
     "execution_count": 2,
     "metadata": {},
     "output_type": "execute_result"
    }
   ],
   "source": [
    "use_cols = ['INCOME', 'OVERAGE', 'LEFTOVER', 'HOUSE', 'HANDSET_PRICE', 'OVER_15MINS_CALLS_PER_MONTH', 'AVERAGE_CALL_DURATION', 'CHURN', 'REPORTED_SATISFACTION', 'REPORTED_USAGE_LEVEL']\n",
    "data = pd.read_csv('data/mobile.csv', usecols = use_cols )\n",
    "data.head()"
   ]
  },
  {
   "cell_type": "markdown",
   "id": "ebk_wcdx1zkK",
   "metadata": {
    "id": "ebk_wcdx1zkK"
   },
   "source": [
    "## 2.데이터 전처리"
   ]
  },
  {
   "cell_type": "markdown",
   "id": "XDfKLZPE4dvx",
   "metadata": {
    "id": "XDfKLZPE4dvx"
   },
   "source": [
    "### 1) 불필요한 데이터 처리\n",
    "처음부터 꼭 필요한 칼럼만 지정하여 불러오는 것이 좋습니다."
   ]
  },
  {
   "cell_type": "markdown",
   "id": "3Fq2110K5jzZ",
   "metadata": {
    "id": "3Fq2110K5jzZ"
   },
   "source": [
    "### 2) 데이터 분할"
   ]
  },
  {
   "cell_type": "markdown",
   "id": "PtSEkpMXj7Gr",
   "metadata": {
    "id": "PtSEkpMXj7Gr"
   },
   "source": [
    "#### x, y 분할"
   ]
  },
  {
   "cell_type": "code",
   "execution_count": 3,
   "id": "2bc62c05-b3ca-4e7f-a6b5-61d2efd4d309",
   "metadata": {
    "id": "2bc62c05-b3ca-4e7f-a6b5-61d2efd4d309",
    "tags": []
   },
   "outputs": [],
   "source": [
    "target = 'CHURN'\n",
    "x0 = data.drop(target, axis = 1)\n",
    "y0 = data.loc[:, target]"
   ]
  },
  {
   "cell_type": "markdown",
   "id": "gx3dbA4B5rYs",
   "metadata": {
    "id": "gx3dbA4B5rYs"
   },
   "source": [
    "#### test 분할\n",
    "\n",
    "여기서는 조금만 떼어 냅시다."
   ]
  },
  {
   "cell_type": "code",
   "execution_count": 4,
   "id": "3b9bbb95-fd1d-424a-9f38-ddfdafbd729b",
   "metadata": {
    "id": "3b9bbb95-fd1d-424a-9f38-ddfdafbd729b"
   },
   "outputs": [],
   "source": [
    "x, x_test, y, y_test = train_test_split(x0, y0, test_size = 10, random_state = 2022)"
   ]
  },
  {
   "cell_type": "code",
   "execution_count": 5,
   "id": "559c2675-265d-4944-9a8d-cd080bd02474",
   "metadata": {
    "colab": {
     "base_uri": "https://localhost:8080/",
     "height": 206
    },
    "executionInfo": {
     "elapsed": 36,
     "status": "ok",
     "timestamp": 1647767628625,
     "user": {
      "displayName": "한기영",
      "photoUrl": "https://lh3.googleusercontent.com/a/default-user=s64",
      "userId": "13049187003176135487"
     },
     "user_tz": -540
    },
    "id": "559c2675-265d-4944-9a8d-cd080bd02474",
    "outputId": "8a196407-2dea-4f9a-93a2-f28d8d907b0a"
   },
   "outputs": [
    {
     "data": {
      "text/html": [
       "<div>\n",
       "<style scoped>\n",
       "    .dataframe tbody tr th:only-of-type {\n",
       "        vertical-align: middle;\n",
       "    }\n",
       "\n",
       "    .dataframe tbody tr th {\n",
       "        vertical-align: top;\n",
       "    }\n",
       "\n",
       "    .dataframe thead th {\n",
       "        text-align: right;\n",
       "    }\n",
       "</style>\n",
       "<table border=\"1\" class=\"dataframe\">\n",
       "  <thead>\n",
       "    <tr style=\"text-align: right;\">\n",
       "      <th></th>\n",
       "      <th>INCOME</th>\n",
       "      <th>OVERAGE</th>\n",
       "      <th>LEFTOVER</th>\n",
       "      <th>HOUSE</th>\n",
       "      <th>HANDSET_PRICE</th>\n",
       "      <th>OVER_15MINS_CALLS_PER_MONTH</th>\n",
       "      <th>AVERAGE_CALL_DURATION</th>\n",
       "      <th>REPORTED_SATISFACTION</th>\n",
       "      <th>REPORTED_USAGE_LEVEL</th>\n",
       "    </tr>\n",
       "  </thead>\n",
       "  <tbody>\n",
       "    <tr>\n",
       "      <th>17631</th>\n",
       "      <td>27296</td>\n",
       "      <td>104</td>\n",
       "      <td>18</td>\n",
       "      <td>293757.0</td>\n",
       "      <td>181</td>\n",
       "      <td>5</td>\n",
       "      <td>5</td>\n",
       "      <td>very_sat</td>\n",
       "      <td>little</td>\n",
       "    </tr>\n",
       "    <tr>\n",
       "      <th>548</th>\n",
       "      <td>89370</td>\n",
       "      <td>78</td>\n",
       "      <td>13</td>\n",
       "      <td>266922.0</td>\n",
       "      <td>344</td>\n",
       "      <td>4</td>\n",
       "      <td>5</td>\n",
       "      <td>unsat</td>\n",
       "      <td>avg</td>\n",
       "    </tr>\n",
       "    <tr>\n",
       "      <th>9178</th>\n",
       "      <td>39363</td>\n",
       "      <td>0</td>\n",
       "      <td>23</td>\n",
       "      <td>704168.0</td>\n",
       "      <td>217</td>\n",
       "      <td>1</td>\n",
       "      <td>4</td>\n",
       "      <td>very_unsat</td>\n",
       "      <td>little</td>\n",
       "    </tr>\n",
       "    <tr>\n",
       "      <th>17249</th>\n",
       "      <td>151891</td>\n",
       "      <td>0</td>\n",
       "      <td>14</td>\n",
       "      <td>829930.0</td>\n",
       "      <td>508</td>\n",
       "      <td>0</td>\n",
       "      <td>5</td>\n",
       "      <td>very_unsat</td>\n",
       "      <td>very_little</td>\n",
       "    </tr>\n",
       "    <tr>\n",
       "      <th>5057</th>\n",
       "      <td>94895</td>\n",
       "      <td>74</td>\n",
       "      <td>77</td>\n",
       "      <td>727593.0</td>\n",
       "      <td>307</td>\n",
       "      <td>3</td>\n",
       "      <td>4</td>\n",
       "      <td>unsat</td>\n",
       "      <td>little</td>\n",
       "    </tr>\n",
       "    <tr>\n",
       "      <th>11890</th>\n",
       "      <td>35551</td>\n",
       "      <td>138</td>\n",
       "      <td>0</td>\n",
       "      <td>896854.0</td>\n",
       "      <td>151</td>\n",
       "      <td>28</td>\n",
       "      <td>12</td>\n",
       "      <td>very_unsat</td>\n",
       "      <td>little</td>\n",
       "    </tr>\n",
       "    <tr>\n",
       "      <th>3310</th>\n",
       "      <td>64381</td>\n",
       "      <td>86</td>\n",
       "      <td>6</td>\n",
       "      <td>761415.0</td>\n",
       "      <td>354</td>\n",
       "      <td>23</td>\n",
       "      <td>1</td>\n",
       "      <td>avg</td>\n",
       "      <td>little</td>\n",
       "    </tr>\n",
       "    <tr>\n",
       "      <th>3154</th>\n",
       "      <td>138100</td>\n",
       "      <td>200</td>\n",
       "      <td>23</td>\n",
       "      <td>434073.0</td>\n",
       "      <td>717</td>\n",
       "      <td>21</td>\n",
       "      <td>4</td>\n",
       "      <td>very_sat</td>\n",
       "      <td>very_little</td>\n",
       "    </tr>\n",
       "    <tr>\n",
       "      <th>3901</th>\n",
       "      <td>24827</td>\n",
       "      <td>179</td>\n",
       "      <td>72</td>\n",
       "      <td>246542.0</td>\n",
       "      <td>144</td>\n",
       "      <td>29</td>\n",
       "      <td>1</td>\n",
       "      <td>very_unsat</td>\n",
       "      <td>very_high</td>\n",
       "    </tr>\n",
       "    <tr>\n",
       "      <th>5898</th>\n",
       "      <td>33434</td>\n",
       "      <td>40</td>\n",
       "      <td>16</td>\n",
       "      <td>415481.0</td>\n",
       "      <td>379</td>\n",
       "      <td>3</td>\n",
       "      <td>6</td>\n",
       "      <td>very_sat</td>\n",
       "      <td>little</td>\n",
       "    </tr>\n",
       "  </tbody>\n",
       "</table>\n",
       "</div>"
      ],
      "text/plain": [
       "       INCOME  OVERAGE  LEFTOVER     HOUSE  HANDSET_PRICE  \\\n",
       "17631   27296      104        18  293757.0            181   \n",
       "548     89370       78        13  266922.0            344   \n",
       "9178    39363        0        23  704168.0            217   \n",
       "17249  151891        0        14  829930.0            508   \n",
       "5057    94895       74        77  727593.0            307   \n",
       "11890   35551      138         0  896854.0            151   \n",
       "3310    64381       86         6  761415.0            354   \n",
       "3154   138100      200        23  434073.0            717   \n",
       "3901    24827      179        72  246542.0            144   \n",
       "5898    33434       40        16  415481.0            379   \n",
       "\n",
       "       OVER_15MINS_CALLS_PER_MONTH  AVERAGE_CALL_DURATION  \\\n",
       "17631                            5                      5   \n",
       "548                              4                      5   \n",
       "9178                             1                      4   \n",
       "17249                            0                      5   \n",
       "5057                             3                      4   \n",
       "11890                           28                     12   \n",
       "3310                            23                      1   \n",
       "3154                            21                      4   \n",
       "3901                            29                      1   \n",
       "5898                             3                      6   \n",
       "\n",
       "      REPORTED_SATISFACTION REPORTED_USAGE_LEVEL  \n",
       "17631              very_sat               little  \n",
       "548                   unsat                  avg  \n",
       "9178             very_unsat               little  \n",
       "17249            very_unsat          very_little  \n",
       "5057                  unsat               little  \n",
       "11890            very_unsat               little  \n",
       "3310                    avg               little  \n",
       "3154               very_sat          very_little  \n",
       "3901             very_unsat            very_high  \n",
       "5898               very_sat               little  "
      ]
     },
     "execution_count": 5,
     "metadata": {},
     "output_type": "execute_result"
    }
   ],
   "source": [
    "x_test"
   ]
  },
  {
   "cell_type": "markdown",
   "id": "SJ72dPUwbKO3",
   "metadata": {
    "id": "SJ72dPUwbKO3"
   },
   "source": [
    "#### train, val 분할"
   ]
  },
  {
   "cell_type": "code",
   "execution_count": 6,
   "id": "5b45c3c2-bc9d-4c5e-87b0-fd182d76fefd",
   "metadata": {
    "id": "5b45c3c2-bc9d-4c5e-87b0-fd182d76fefd"
   },
   "outputs": [],
   "source": [
    "x_train, x_val, y_train, y_val = train_test_split(x, y, test_size = .3, random_state = 2022)"
   ]
  },
  {
   "cell_type": "markdown",
   "id": "WS3xPbXr7ALa",
   "metadata": {
    "id": "WS3xPbXr7ALa"
   },
   "source": [
    "### 3) Feature Engineering"
   ]
  },
  {
   "cell_type": "markdown",
   "id": "2FCZUkU28m_s",
   "metadata": {
    "id": "2FCZUkU28m_s"
   },
   "source": [
    "### 4) NaN 조치①"
   ]
  },
  {
   "cell_type": "markdown",
   "id": "eDPXTMOr8w96",
   "metadata": {
    "id": "eDPXTMOr8w96"
   },
   "source": [
    "* 먼저 x의 NaN을 조사해 봅시다."
   ]
  },
  {
   "cell_type": "code",
   "execution_count": 7,
   "id": "yu38DJkw81YG",
   "metadata": {
    "colab": {
     "base_uri": "https://localhost:8080/"
    },
    "executionInfo": {
     "elapsed": 34,
     "status": "ok",
     "timestamp": 1647767628626,
     "user": {
      "displayName": "한기영",
      "photoUrl": "https://lh3.googleusercontent.com/a/default-user=s64",
      "userId": "13049187003176135487"
     },
     "user_tz": -540
    },
    "id": "yu38DJkw81YG",
    "outputId": "e5a1ca9c-1d10-4317-cc13-b6649a5f0c52"
   },
   "outputs": [
    {
     "data": {
      "text/plain": [
       "INCOME                          0\n",
       "OVERAGE                         0\n",
       "LEFTOVER                        0\n",
       "HOUSE                           9\n",
       "HANDSET_PRICE                   0\n",
       "OVER_15MINS_CALLS_PER_MONTH     0\n",
       "AVERAGE_CALL_DURATION           0\n",
       "REPORTED_SATISFACTION          29\n",
       "REPORTED_USAGE_LEVEL            0\n",
       "dtype: int64"
      ]
     },
     "execution_count": 7,
     "metadata": {},
     "output_type": "execute_result"
    }
   ],
   "source": [
    "x_train.isna().sum()"
   ]
  },
  {
   "cell_type": "markdown",
   "id": "77ee1e21-45b5-4976-96bb-881b4d05bb57",
   "metadata": {},
   "source": [
    "* 어떻게 조치 방법에 따라 처리 시점이 달라집니다.\n",
    "    * REPORTED_SATISFACTION는 중앙 값에 해당되는 avg로 **지금** 채우고\n",
    "    * HOUSE는 KNNImputer로 **가변수화 후에** 채우겠습니다.\n",
    "\n",
    "* NaN 행 삭제를 결정한다면...\n",
    "    * 운영에서 NaN이 들어오면 그 역시 버리겠다는 의미 입니다. \n",
    "        * 그래도 괜찮다면...\n",
    "        * 그러나 괜찮은 상황은 별로 없을 겁니다."
   ]
  },
  {
   "cell_type": "markdown",
   "id": "JmMoOjhN-byp",
   "metadata": {
    "id": "JmMoOjhN-byp"
   },
   "source": [
    "#### SimpleImputer \n",
    "\n",
    "https://scikit-learn.org/stable/modules/generated/sklearn.impute.SimpleImputer.html"
   ]
  },
  {
   "cell_type": "code",
   "execution_count": 8,
   "id": "h8X9ikWf-a85",
   "metadata": {
    "id": "h8X9ikWf-a85"
   },
   "outputs": [],
   "source": [
    "from sklearn.impute import SimpleImputer"
   ]
  },
  {
   "cell_type": "code",
   "execution_count": 9,
   "id": "Q3NDWUVwBPii",
   "metadata": {
    "colab": {
     "base_uri": "https://localhost:8080/"
    },
    "executionInfo": {
     "elapsed": 33,
     "status": "ok",
     "timestamp": 1647767628627,
     "user": {
      "displayName": "한기영",
      "photoUrl": "https://lh3.googleusercontent.com/a/default-user=s64",
      "userId": "13049187003176135487"
     },
     "user_tz": -540
    },
    "id": "Q3NDWUVwBPii",
    "outputId": "74899050-3fdb-4bc1-9b9a-23be9666bf5a"
   },
   "outputs": [
    {
     "data": {
      "text/plain": [
       "INCOME                         0\n",
       "OVERAGE                        0\n",
       "LEFTOVER                       0\n",
       "HOUSE                          9\n",
       "HANDSET_PRICE                  0\n",
       "OVER_15MINS_CALLS_PER_MONTH    0\n",
       "AVERAGE_CALL_DURATION          0\n",
       "REPORTED_SATISFACTION          0\n",
       "REPORTED_USAGE_LEVEL           0\n",
       "dtype: int64"
      ]
     },
     "execution_count": 9,
     "metadata": {},
     "output_type": "execute_result"
    }
   ],
   "source": [
    "# 대상을 리스트로 선언합시다. \n",
    "imputer1_list = ['REPORTED_SATISFACTION']\n",
    "\n",
    "# 선언하고 fit_transform\n",
    "imputer1 = SimpleImputer(strategy = 'constant', fill_value= avg)\n",
    "x_train[imputer1_list] = imputer1.fit_transform(x_train[imputer1_list])\n",
    "\n",
    "x_train.isna().sum()"
   ]
  },
  {
   "cell_type": "markdown",
   "id": "Eo7jUhhSkukR",
   "metadata": {
    "id": "Eo7jUhhSkukR"
   },
   "source": [
    "#### validation set에 적용하기"
   ]
  },
  {
   "cell_type": "code",
   "execution_count": 10,
   "id": "BTyheb3kku6i",
   "metadata": {
    "id": "BTyheb3kku6i"
   },
   "outputs": [
    {
     "data": {
      "text/plain": [
       "INCOME                         0\n",
       "OVERAGE                        0\n",
       "LEFTOVER                       0\n",
       "HOUSE                          5\n",
       "HANDSET_PRICE                  0\n",
       "OVER_15MINS_CALLS_PER_MONTH    0\n",
       "AVERAGE_CALL_DURATION          0\n",
       "REPORTED_SATISFACTION          0\n",
       "REPORTED_USAGE_LEVEL           0\n",
       "dtype: int64"
      ]
     },
     "execution_count": 10,
     "metadata": {},
     "output_type": "execute_result"
    }
   ],
   "source": [
    "x_val[imputer1_list] = imputer1.transform(x_val[imputer1_list])\n",
    "\n",
    "x_val.isna().sum()"
   ]
  },
  {
   "cell_type": "code",
   "execution_count": 11,
   "id": "865f89ed-4cc9-4a4f-980b-a8d89ebd41b1",
   "metadata": {},
   "outputs": [
    {
     "data": {
      "text/plain": [
       "very_unsat    2164\n",
       "very_sat      1333\n",
       "unsat         1057\n",
       "avg            516\n",
       "sat            267\n",
       "Name: REPORTED_SATISFACTION, dtype: int64"
      ]
     },
     "execution_count": 11,
     "metadata": {},
     "output_type": "execute_result"
    }
   ],
   "source": [
    "x_val['REPORTED_SATISFACTION'].value_counts()"
   ]
  },
  {
   "cell_type": "code",
   "execution_count": 12,
   "id": "a884c1c7-9b2c-4461-856e-01a8db026898",
   "metadata": {},
   "outputs": [
    {
     "data": {
      "text/plain": [
       "little         2130\n",
       "very_high      1374\n",
       "very_little    1045\n",
       "high            512\n",
       "avg             276\n",
       "Name: REPORTED_USAGE_LEVEL, dtype: int64"
      ]
     },
     "execution_count": 12,
     "metadata": {},
     "output_type": "execute_result"
    }
   ],
   "source": [
    "x_val['REPORTED_USAGE_LEVEL'].value_counts()"
   ]
  },
  {
   "cell_type": "markdown",
   "id": "NJtEw33yEGHv",
   "metadata": {
    "id": "NJtEw33yEGHv"
   },
   "source": [
    "### 5) 가변수화"
   ]
  },
  {
   "cell_type": "code",
   "execution_count": 13,
   "id": "b908767b-e73a-40ac-ab20-d7c0f8c5bfaa",
   "metadata": {
    "colab": {
     "base_uri": "https://localhost:8080/"
    },
    "executionInfo": {
     "elapsed": 282,
     "status": "ok",
     "timestamp": 1648167536204,
     "user": {
      "displayName": "한기영",
      "photoUrl": "https://lh3.googleusercontent.com/a/default-user=s64",
      "userId": "13049187003176135487"
     },
     "user_tz": -540
    },
    "id": "FlJjfxAzNQ-Z",
    "outputId": "831a1572-2133-4a8c-e08d-e81f965b549a"
   },
   "outputs": [
    {
     "data": {
      "text/html": [
       "<div>\n",
       "<style scoped>\n",
       "    .dataframe tbody tr th:only-of-type {\n",
       "        vertical-align: middle;\n",
       "    }\n",
       "\n",
       "    .dataframe tbody tr th {\n",
       "        vertical-align: top;\n",
       "    }\n",
       "\n",
       "    .dataframe thead th {\n",
       "        text-align: right;\n",
       "    }\n",
       "</style>\n",
       "<table border=\"1\" class=\"dataframe\">\n",
       "  <thead>\n",
       "    <tr style=\"text-align: right;\">\n",
       "      <th></th>\n",
       "      <th>INCOME</th>\n",
       "      <th>OVERAGE</th>\n",
       "      <th>LEFTOVER</th>\n",
       "      <th>HOUSE</th>\n",
       "      <th>HANDSET_PRICE</th>\n",
       "      <th>OVER_15MINS_CALLS_PER_MONTH</th>\n",
       "      <th>AVERAGE_CALL_DURATION</th>\n",
       "      <th>REPORTED_SATISFACTION</th>\n",
       "      <th>REPORTED_USAGE_LEVEL</th>\n",
       "    </tr>\n",
       "  </thead>\n",
       "  <tbody>\n",
       "    <tr>\n",
       "      <th>11788</th>\n",
       "      <td>107677</td>\n",
       "      <td>155</td>\n",
       "      <td>23</td>\n",
       "      <td>154007.0</td>\n",
       "      <td>859</td>\n",
       "      <td>15</td>\n",
       "      <td>4</td>\n",
       "      <td>very_sat</td>\n",
       "      <td>little</td>\n",
       "    </tr>\n",
       "    <tr>\n",
       "      <th>16055</th>\n",
       "      <td>64070</td>\n",
       "      <td>0</td>\n",
       "      <td>0</td>\n",
       "      <td>326646.0</td>\n",
       "      <td>275</td>\n",
       "      <td>1</td>\n",
       "      <td>9</td>\n",
       "      <td>sat</td>\n",
       "      <td>little</td>\n",
       "    </tr>\n",
       "    <tr>\n",
       "      <th>2880</th>\n",
       "      <td>58182</td>\n",
       "      <td>210</td>\n",
       "      <td>0</td>\n",
       "      <td>355513.0</td>\n",
       "      <td>312</td>\n",
       "      <td>19</td>\n",
       "      <td>1</td>\n",
       "      <td>very_unsat</td>\n",
       "      <td>little</td>\n",
       "    </tr>\n",
       "    <tr>\n",
       "      <th>3023</th>\n",
       "      <td>97009</td>\n",
       "      <td>228</td>\n",
       "      <td>0</td>\n",
       "      <td>165152.0</td>\n",
       "      <td>290</td>\n",
       "      <td>28</td>\n",
       "      <td>9</td>\n",
       "      <td>very_unsat</td>\n",
       "      <td>little</td>\n",
       "    </tr>\n",
       "    <tr>\n",
       "      <th>7528</th>\n",
       "      <td>33879</td>\n",
       "      <td>0</td>\n",
       "      <td>0</td>\n",
       "      <td>573076.0</td>\n",
       "      <td>221</td>\n",
       "      <td>1</td>\n",
       "      <td>14</td>\n",
       "      <td>very_unsat</td>\n",
       "      <td>little</td>\n",
       "    </tr>\n",
       "  </tbody>\n",
       "</table>\n",
       "</div>"
      ],
      "text/plain": [
       "       INCOME  OVERAGE  LEFTOVER     HOUSE  HANDSET_PRICE  \\\n",
       "11788  107677      155        23  154007.0            859   \n",
       "16055   64070        0         0  326646.0            275   \n",
       "2880    58182      210         0  355513.0            312   \n",
       "3023    97009      228         0  165152.0            290   \n",
       "7528    33879        0         0  573076.0            221   \n",
       "\n",
       "       OVER_15MINS_CALLS_PER_MONTH  AVERAGE_CALL_DURATION  \\\n",
       "11788                           15                      4   \n",
       "16055                            1                      9   \n",
       "2880                            19                      1   \n",
       "3023                            28                      9   \n",
       "7528                             1                     14   \n",
       "\n",
       "      REPORTED_SATISFACTION REPORTED_USAGE_LEVEL  \n",
       "11788              very_sat               little  \n",
       "16055                   sat               little  \n",
       "2880             very_unsat               little  \n",
       "3023             very_unsat               little  \n",
       "7528             very_unsat               little  "
      ]
     },
     "execution_count": 13,
     "metadata": {},
     "output_type": "execute_result"
    }
   ],
   "source": [
    "cat = {'REPORTED_SATISFACTION':[\"very_unsat\", \"very_sat\", \"unsat\", \"avg\", \"sat\"],\n",
    "       'REPORTED_USAGE_LEVEL':[\"little\", \"very_high\", \"very_little\", \"high\", \"avg\"]}\n",
    "\n",
    "for k, v in cat.items():\n",
    "    x_train[k] = pd.Categorical(x_train[k], categories=v, ordered=False)\n",
    "\n",
    "x_train.head()"
   ]
  },
  {
   "cell_type": "code",
   "execution_count": 14,
   "id": "acfd17c8-1291-43b7-9c1f-ba8a0994b7ef",
   "metadata": {
    "colab": {
     "base_uri": "https://localhost:8080/"
    },
    "executionInfo": {
     "elapsed": 257,
     "status": "ok",
     "timestamp": 1648167563125,
     "user": {
      "displayName": "한기영",
      "photoUrl": "https://lh3.googleusercontent.com/a/default-user=s64",
      "userId": "13049187003176135487"
     },
     "user_tz": -540
    },
    "id": "K4aMt7vRcSi7",
    "outputId": "66404647-6af6-41ea-c0fa-f9063376afbd"
   },
   "outputs": [
    {
     "data": {
      "text/html": [
       "<div>\n",
       "<style scoped>\n",
       "    .dataframe tbody tr th:only-of-type {\n",
       "        vertical-align: middle;\n",
       "    }\n",
       "\n",
       "    .dataframe tbody tr th {\n",
       "        vertical-align: top;\n",
       "    }\n",
       "\n",
       "    .dataframe thead th {\n",
       "        text-align: right;\n",
       "    }\n",
       "</style>\n",
       "<table border=\"1\" class=\"dataframe\">\n",
       "  <thead>\n",
       "    <tr style=\"text-align: right;\">\n",
       "      <th></th>\n",
       "      <th>INCOME</th>\n",
       "      <th>OVERAGE</th>\n",
       "      <th>LEFTOVER</th>\n",
       "      <th>HOUSE</th>\n",
       "      <th>HANDSET_PRICE</th>\n",
       "      <th>OVER_15MINS_CALLS_PER_MONTH</th>\n",
       "      <th>AVERAGE_CALL_DURATION</th>\n",
       "      <th>REPORTED_SATISFACTION_very_sat</th>\n",
       "      <th>REPORTED_SATISFACTION_unsat</th>\n",
       "      <th>REPORTED_SATISFACTION_avg</th>\n",
       "      <th>REPORTED_SATISFACTION_sat</th>\n",
       "      <th>REPORTED_USAGE_LEVEL_very_high</th>\n",
       "      <th>REPORTED_USAGE_LEVEL_very_little</th>\n",
       "      <th>REPORTED_USAGE_LEVEL_high</th>\n",
       "      <th>REPORTED_USAGE_LEVEL_avg</th>\n",
       "    </tr>\n",
       "  </thead>\n",
       "  <tbody>\n",
       "    <tr>\n",
       "      <th>11788</th>\n",
       "      <td>107677</td>\n",
       "      <td>155</td>\n",
       "      <td>23</td>\n",
       "      <td>154007.0</td>\n",
       "      <td>859</td>\n",
       "      <td>15</td>\n",
       "      <td>4</td>\n",
       "      <td>1</td>\n",
       "      <td>0</td>\n",
       "      <td>0</td>\n",
       "      <td>0</td>\n",
       "      <td>0</td>\n",
       "      <td>0</td>\n",
       "      <td>0</td>\n",
       "      <td>0</td>\n",
       "    </tr>\n",
       "    <tr>\n",
       "      <th>16055</th>\n",
       "      <td>64070</td>\n",
       "      <td>0</td>\n",
       "      <td>0</td>\n",
       "      <td>326646.0</td>\n",
       "      <td>275</td>\n",
       "      <td>1</td>\n",
       "      <td>9</td>\n",
       "      <td>0</td>\n",
       "      <td>0</td>\n",
       "      <td>0</td>\n",
       "      <td>1</td>\n",
       "      <td>0</td>\n",
       "      <td>0</td>\n",
       "      <td>0</td>\n",
       "      <td>0</td>\n",
       "    </tr>\n",
       "    <tr>\n",
       "      <th>2880</th>\n",
       "      <td>58182</td>\n",
       "      <td>210</td>\n",
       "      <td>0</td>\n",
       "      <td>355513.0</td>\n",
       "      <td>312</td>\n",
       "      <td>19</td>\n",
       "      <td>1</td>\n",
       "      <td>0</td>\n",
       "      <td>0</td>\n",
       "      <td>0</td>\n",
       "      <td>0</td>\n",
       "      <td>0</td>\n",
       "      <td>0</td>\n",
       "      <td>0</td>\n",
       "      <td>0</td>\n",
       "    </tr>\n",
       "    <tr>\n",
       "      <th>3023</th>\n",
       "      <td>97009</td>\n",
       "      <td>228</td>\n",
       "      <td>0</td>\n",
       "      <td>165152.0</td>\n",
       "      <td>290</td>\n",
       "      <td>28</td>\n",
       "      <td>9</td>\n",
       "      <td>0</td>\n",
       "      <td>0</td>\n",
       "      <td>0</td>\n",
       "      <td>0</td>\n",
       "      <td>0</td>\n",
       "      <td>0</td>\n",
       "      <td>0</td>\n",
       "      <td>0</td>\n",
       "    </tr>\n",
       "    <tr>\n",
       "      <th>7528</th>\n",
       "      <td>33879</td>\n",
       "      <td>0</td>\n",
       "      <td>0</td>\n",
       "      <td>573076.0</td>\n",
       "      <td>221</td>\n",
       "      <td>1</td>\n",
       "      <td>14</td>\n",
       "      <td>0</td>\n",
       "      <td>0</td>\n",
       "      <td>0</td>\n",
       "      <td>0</td>\n",
       "      <td>0</td>\n",
       "      <td>0</td>\n",
       "      <td>0</td>\n",
       "      <td>0</td>\n",
       "    </tr>\n",
       "  </tbody>\n",
       "</table>\n",
       "</div>"
      ],
      "text/plain": [
       "       INCOME  OVERAGE  LEFTOVER     HOUSE  HANDSET_PRICE  \\\n",
       "11788  107677      155        23  154007.0            859   \n",
       "16055   64070        0         0  326646.0            275   \n",
       "2880    58182      210         0  355513.0            312   \n",
       "3023    97009      228         0  165152.0            290   \n",
       "7528    33879        0         0  573076.0            221   \n",
       "\n",
       "       OVER_15MINS_CALLS_PER_MONTH  AVERAGE_CALL_DURATION  \\\n",
       "11788                           15                      4   \n",
       "16055                            1                      9   \n",
       "2880                            19                      1   \n",
       "3023                            28                      9   \n",
       "7528                             1                     14   \n",
       "\n",
       "       REPORTED_SATISFACTION_very_sat  REPORTED_SATISFACTION_unsat  \\\n",
       "11788                               1                            0   \n",
       "16055                               0                            0   \n",
       "2880                                0                            0   \n",
       "3023                                0                            0   \n",
       "7528                                0                            0   \n",
       "\n",
       "       REPORTED_SATISFACTION_avg  REPORTED_SATISFACTION_sat  \\\n",
       "11788                          0                          0   \n",
       "16055                          0                          1   \n",
       "2880                           0                          0   \n",
       "3023                           0                          0   \n",
       "7528                           0                          0   \n",
       "\n",
       "       REPORTED_USAGE_LEVEL_very_high  REPORTED_USAGE_LEVEL_very_little  \\\n",
       "11788                               0                                 0   \n",
       "16055                               0                                 0   \n",
       "2880                                0                                 0   \n",
       "3023                                0                                 0   \n",
       "7528                                0                                 0   \n",
       "\n",
       "       REPORTED_USAGE_LEVEL_high  REPORTED_USAGE_LEVEL_avg  \n",
       "11788                          0                         0  \n",
       "16055                          0                         0  \n",
       "2880                           0                         0  \n",
       "3023                           0                         0  \n",
       "7528                           0                         0  "
      ]
     },
     "execution_count": 14,
     "metadata": {},
     "output_type": "execute_result"
    }
   ],
   "source": [
    "x_train = pd.get_dummies(x_train, columns=cat.keys(), drop_first=True)"
   ]
  },
  {
   "cell_type": "code",
   "execution_count": null,
   "id": "e4ee960c-971a-4153-ac9d-bc8ac749eed1",
   "metadata": {},
   "outputs": [],
   "source": [
    "x_train.head()"
   ]
  },
  {
   "cell_type": "code",
   "execution_count": 15,
   "id": "258953f8-20c8-4c9e-8b7d-f0bef665242d",
   "metadata": {},
   "outputs": [],
   "source": [
    "# 함수로 생성\n",
    "cat = {'REPORTED_SATISFACTION':[\"very_unsat\", \"very_sat\", \"unsat\", \"avg\", \"sat\"],\n",
    "       'REPORTED_USAGE_LEVEL':[\"little\", \"very_high\", \"very_little\", \"high\", \"avg\"]}\n",
    "\n",
    "def mobile_dumm(df, cat):\n",
    "    temp = df.copy()\n",
    "    for k, v in cat.items():\n",
    "        temp[k] = pd.Categorical(temp[k], categories=v, ordered=False)\n",
    "\n",
    "    temp = pd.get_dummies(temp, columns=cat.keys(), drop_first=True)\n",
    "    return temp"
   ]
  },
  {
   "cell_type": "markdown",
   "id": "add5ed0f-c5d4-4761-853d-f0a2c210fe94",
   "metadata": {
    "id": "245yN7iqlSs5"
   },
   "source": [
    "#### validation set에 적용하기"
   ]
  },
  {
   "cell_type": "code",
   "execution_count": 16,
   "id": "97768214-811b-42c5-9cf6-e2dd147bff09",
   "metadata": {
    "colab": {
     "base_uri": "https://localhost:8080/",
     "height": 270
    },
    "executionInfo": {
     "elapsed": 275,
     "status": "ok",
     "timestamp": 1648167641749,
     "user": {
      "displayName": "한기영",
      "photoUrl": "https://lh3.googleusercontent.com/a/default-user=s64",
      "userId": "13049187003176135487"
     },
     "user_tz": -540
    },
    "id": "IquGZ7hdlWyP",
    "outputId": "3ac4fdd2-aaef-42b1-f9e4-c988631e837f"
   },
   "outputs": [
    {
     "data": {
      "text/html": [
       "<div>\n",
       "<style scoped>\n",
       "    .dataframe tbody tr th:only-of-type {\n",
       "        vertical-align: middle;\n",
       "    }\n",
       "\n",
       "    .dataframe tbody tr th {\n",
       "        vertical-align: top;\n",
       "    }\n",
       "\n",
       "    .dataframe thead th {\n",
       "        text-align: right;\n",
       "    }\n",
       "</style>\n",
       "<table border=\"1\" class=\"dataframe\">\n",
       "  <thead>\n",
       "    <tr style=\"text-align: right;\">\n",
       "      <th></th>\n",
       "      <th>INCOME</th>\n",
       "      <th>OVERAGE</th>\n",
       "      <th>LEFTOVER</th>\n",
       "      <th>HOUSE</th>\n",
       "      <th>HANDSET_PRICE</th>\n",
       "      <th>OVER_15MINS_CALLS_PER_MONTH</th>\n",
       "      <th>AVERAGE_CALL_DURATION</th>\n",
       "      <th>REPORTED_SATISFACTION_very_sat</th>\n",
       "      <th>REPORTED_SATISFACTION_unsat</th>\n",
       "      <th>REPORTED_SATISFACTION_avg</th>\n",
       "      <th>REPORTED_SATISFACTION_sat</th>\n",
       "      <th>REPORTED_USAGE_LEVEL_very_high</th>\n",
       "      <th>REPORTED_USAGE_LEVEL_very_little</th>\n",
       "      <th>REPORTED_USAGE_LEVEL_high</th>\n",
       "      <th>REPORTED_USAGE_LEVEL_avg</th>\n",
       "    </tr>\n",
       "  </thead>\n",
       "  <tbody>\n",
       "    <tr>\n",
       "      <th>14427</th>\n",
       "      <td>70306</td>\n",
       "      <td>223</td>\n",
       "      <td>76</td>\n",
       "      <td>233303.0</td>\n",
       "      <td>315</td>\n",
       "      <td>15</td>\n",
       "      <td>2</td>\n",
       "      <td>0</td>\n",
       "      <td>0</td>\n",
       "      <td>0</td>\n",
       "      <td>1</td>\n",
       "      <td>0</td>\n",
       "      <td>0</td>\n",
       "      <td>0</td>\n",
       "      <td>0</td>\n",
       "    </tr>\n",
       "    <tr>\n",
       "      <th>5559</th>\n",
       "      <td>36995</td>\n",
       "      <td>0</td>\n",
       "      <td>55</td>\n",
       "      <td>702443.0</td>\n",
       "      <td>174</td>\n",
       "      <td>1</td>\n",
       "      <td>2</td>\n",
       "      <td>0</td>\n",
       "      <td>0</td>\n",
       "      <td>0</td>\n",
       "      <td>0</td>\n",
       "      <td>0</td>\n",
       "      <td>1</td>\n",
       "      <td>0</td>\n",
       "      <td>0</td>\n",
       "    </tr>\n",
       "    <tr>\n",
       "      <th>17239</th>\n",
       "      <td>84922</td>\n",
       "      <td>0</td>\n",
       "      <td>0</td>\n",
       "      <td>240698.0</td>\n",
       "      <td>149</td>\n",
       "      <td>1</td>\n",
       "      <td>14</td>\n",
       "      <td>0</td>\n",
       "      <td>1</td>\n",
       "      <td>0</td>\n",
       "      <td>0</td>\n",
       "      <td>0</td>\n",
       "      <td>0</td>\n",
       "      <td>0</td>\n",
       "      <td>0</td>\n",
       "    </tr>\n",
       "    <tr>\n",
       "      <th>10538</th>\n",
       "      <td>46597</td>\n",
       "      <td>172</td>\n",
       "      <td>23</td>\n",
       "      <td>155241.0</td>\n",
       "      <td>169</td>\n",
       "      <td>0</td>\n",
       "      <td>6</td>\n",
       "      <td>1</td>\n",
       "      <td>0</td>\n",
       "      <td>0</td>\n",
       "      <td>0</td>\n",
       "      <td>1</td>\n",
       "      <td>0</td>\n",
       "      <td>0</td>\n",
       "      <td>0</td>\n",
       "    </tr>\n",
       "    <tr>\n",
       "      <th>16745</th>\n",
       "      <td>149379</td>\n",
       "      <td>224</td>\n",
       "      <td>0</td>\n",
       "      <td>528332.0</td>\n",
       "      <td>693</td>\n",
       "      <td>22</td>\n",
       "      <td>11</td>\n",
       "      <td>1</td>\n",
       "      <td>0</td>\n",
       "      <td>0</td>\n",
       "      <td>0</td>\n",
       "      <td>0</td>\n",
       "      <td>0</td>\n",
       "      <td>0</td>\n",
       "      <td>1</td>\n",
       "    </tr>\n",
       "  </tbody>\n",
       "</table>\n",
       "</div>"
      ],
      "text/plain": [
       "       INCOME  OVERAGE  LEFTOVER     HOUSE  HANDSET_PRICE  \\\n",
       "14427   70306      223        76  233303.0            315   \n",
       "5559    36995        0        55  702443.0            174   \n",
       "17239   84922        0         0  240698.0            149   \n",
       "10538   46597      172        23  155241.0            169   \n",
       "16745  149379      224         0  528332.0            693   \n",
       "\n",
       "       OVER_15MINS_CALLS_PER_MONTH  AVERAGE_CALL_DURATION  \\\n",
       "14427                           15                      2   \n",
       "5559                             1                      2   \n",
       "17239                            1                     14   \n",
       "10538                            0                      6   \n",
       "16745                           22                     11   \n",
       "\n",
       "       REPORTED_SATISFACTION_very_sat  REPORTED_SATISFACTION_unsat  \\\n",
       "14427                               0                            0   \n",
       "5559                                0                            0   \n",
       "17239                               0                            1   \n",
       "10538                               1                            0   \n",
       "16745                               1                            0   \n",
       "\n",
       "       REPORTED_SATISFACTION_avg  REPORTED_SATISFACTION_sat  \\\n",
       "14427                          0                          1   \n",
       "5559                           0                          0   \n",
       "17239                          0                          0   \n",
       "10538                          0                          0   \n",
       "16745                          0                          0   \n",
       "\n",
       "       REPORTED_USAGE_LEVEL_very_high  REPORTED_USAGE_LEVEL_very_little  \\\n",
       "14427                               0                                 0   \n",
       "5559                                0                                 1   \n",
       "17239                               0                                 0   \n",
       "10538                               1                                 0   \n",
       "16745                               0                                 0   \n",
       "\n",
       "       REPORTED_USAGE_LEVEL_high  REPORTED_USAGE_LEVEL_avg  \n",
       "14427                          0                         0  \n",
       "5559                           0                         0  \n",
       "17239                          0                         0  \n",
       "10538                          0                         0  \n",
       "16745                          0                         1  "
      ]
     },
     "execution_count": 16,
     "metadata": {},
     "output_type": "execute_result"
    }
   ],
   "source": [
    "x_val = mobile_dumm(x_val, cat)\n",
    "x_val.head()"
   ]
  },
  {
   "cell_type": "markdown",
   "id": "180a9267-511c-4743-b557-5baad1f36bfd",
   "metadata": {
    "id": "CS15WVnCbd47"
   },
   "source": [
    "### 6) 스케일링\n"
   ]
  },
  {
   "cell_type": "code",
   "execution_count": 19,
   "id": "58600971-ea22-4977-8801-c9e191441e61",
   "metadata": {
    "executionInfo": {
     "elapsed": 277,
     "status": "ok",
     "timestamp": 1648167717288,
     "user": {
      "displayName": "한기영",
      "photoUrl": "https://lh3.googleusercontent.com/a/default-user=s64",
      "userId": "13049187003176135487"
     },
     "user_tz": -540
    },
    "id": "hMc6VAEzc1Ku"
   },
   "outputs": [],
   "source": [
    "scaler = MinMaxScaler()\n",
    "x_train_s = scaler.fit_transform(x_train) # 이미 여기서 Numpy Array가 됨"
   ]
  },
  {
   "cell_type": "markdown",
   "id": "e342dd38-5491-4404-b542-b71ca6c4566b",
   "metadata": {
    "id": "pBFGCYp1nfmz"
   },
   "source": [
    "#### validation set에 적용하기"
   ]
  },
  {
   "cell_type": "code",
   "execution_count": 20,
   "id": "fc21c4a1-60da-4ae2-be56-cfeb9574d994",
   "metadata": {
    "executionInfo": {
     "elapsed": 271,
     "status": "ok",
     "timestamp": 1648167731591,
     "user": {
      "displayName": "한기영",
      "photoUrl": "https://lh3.googleusercontent.com/a/default-user=s64",
      "userId": "13049187003176135487"
     },
     "user_tz": -540
    },
    "id": "5zBcHvLtnfm0"
   },
   "outputs": [],
   "source": [
    "# validation 적용\n",
    "x_val_s = scaler.transform(x_val)"
   ]
  },
  {
   "cell_type": "markdown",
   "id": "oIpHRXv4blvU",
   "metadata": {
    "id": "oIpHRXv4blvU"
   },
   "source": [
    "### 7) NaN 조치②"
   ]
  },
  {
   "cell_type": "markdown",
   "id": "--vlRElYbsEn",
   "metadata": {
    "id": "--vlRElYbsEn"
   },
   "source": [
    "#### KNNImputer\n",
    "https://scikit-learn.org/stable/modules/generated/sklearn.impute.KNNImputer.html"
   ]
  },
  {
   "cell_type": "code",
   "execution_count": 21,
   "id": "MvX_sF9Dn9Sj",
   "metadata": {
    "executionInfo": {
     "elapsed": 3,
     "status": "ok",
     "timestamp": 1648167662878,
     "user": {
      "displayName": "한기영",
      "photoUrl": "https://lh3.googleusercontent.com/a/default-user=s64",
      "userId": "13049187003176135487"
     },
     "user_tz": -540
    },
    "id": "MvX_sF9Dn9Sj"
   },
   "outputs": [],
   "source": [
    "from sklearn.impute import KNNImputer"
   ]
  },
  {
   "cell_type": "code",
   "execution_count": 22,
   "id": "7ff0bbbf-2562-4e26-91e0-bf3c43acc95f",
   "metadata": {
    "colab": {
     "base_uri": "https://localhost:8080/"
    },
    "executionInfo": {
     "elapsed": 697,
     "status": "ok",
     "timestamp": 1648167672380,
     "user": {
      "displayName": "한기영",
      "photoUrl": "https://lh3.googleusercontent.com/a/default-user=s64",
      "userId": "13049187003176135487"
     },
     "user_tz": -540
    },
    "id": "7ff0bbbf-2562-4e26-91e0-bf3c43acc95f",
    "outputId": "3476ca2f-be5c-4776-c0d1-310eb2e7c3fe"
   },
   "outputs": [],
   "source": [
    "imputer2_list = list(x_train)\n",
    "\n",
    "# 선언하고 fit_transform\n",
    "imputer2 = KNNImputer()\n",
    "\n",
    "x_train_s = imputer2.fit_transform(x_train_s)\n",
    "# DataFrame을 넣었는데 결과가 Numpy Arrary로 나옴\n",
    "\n",
    "# x_train_s[imputer2_list] = imputer2.fit_transform(x_train_s[imputer2_list])\n",
    "# x_train_s.isna().sum()\n",
    "# DataFrame으로 하는 방법(Scaler적용시 이미 Numpy Array가 되어서 그냥 위에거로 진행)"
   ]
  },
  {
   "cell_type": "markdown",
   "id": "d49bd5fb-64ce-4f7a-867a-c23acd10f485",
   "metadata": {
    "id": "kDFEgZ0umuzU"
   },
   "source": [
    "#### validation set에 적용하기"
   ]
  },
  {
   "cell_type": "code",
   "execution_count": 23,
   "id": "pZZQbC97mvKw",
   "metadata": {
    "colab": {
     "base_uri": "https://localhost:8080/"
    },
    "executionInfo": {
     "elapsed": 296,
     "status": "ok",
     "timestamp": 1648167690078,
     "user": {
      "displayName": "한기영",
      "photoUrl": "https://lh3.googleusercontent.com/a/default-user=s64",
      "userId": "13049187003176135487"
     },
     "user_tz": -540
    },
    "id": "pZZQbC97mvKw",
    "outputId": "36be5a4a-acde-4905-9cdd-bda7488ec84c"
   },
   "outputs": [],
   "source": [
    "# validation 적용\n",
    "x_val_s = imputer2.transform(x_val_s)"
   ]
  },
  {
   "cell_type": "markdown",
   "id": "H4zsaCgtn5FJ",
   "metadata": {
    "id": "H4zsaCgtn5FJ"
   },
   "source": [
    "## 3.모델링\n"
   ]
  },
  {
   "cell_type": "code",
   "execution_count": 25,
   "id": "27143e60-a134-496e-b318-d52e45b19a8f",
   "metadata": {
    "colab": {
     "base_uri": "https://localhost:8080/"
    },
    "executionInfo": {
     "elapsed": 37,
     "status": "ok",
     "timestamp": 1647767629289,
     "user": {
      "displayName": "한기영",
      "photoUrl": "https://lh3.googleusercontent.com/a/default-user=s64",
      "userId": "13049187003176135487"
     },
     "user_tz": -540
    },
    "id": "27143e60-a134-496e-b318-d52e45b19a8f",
    "outputId": "2eda6d64-ac15-4058-c053-62edf835c725"
   },
   "outputs": [
    {
     "data": {
      "text/plain": [
       "SVC()"
      ]
     },
     "execution_count": 25,
     "metadata": {},
     "output_type": "execute_result"
    }
   ],
   "source": [
    "# SVM으로 모델링 수행\n",
    "model = SVC()\n",
    "model.fit(x_train_s, y_train)"
   ]
  },
  {
   "cell_type": "code",
   "execution_count": 26,
   "id": "16c71a0f-aead-4124-be9a-c8188abe3599",
   "metadata": {
    "colab": {
     "base_uri": "https://localhost:8080/"
    },
    "executionInfo": {
     "elapsed": 36,
     "status": "ok",
     "timestamp": 1647767629290,
     "user": {
      "displayName": "한기영",
      "photoUrl": "https://lh3.googleusercontent.com/a/default-user=s64",
      "userId": "13049187003176135487"
     },
     "user_tz": -540
    },
    "id": "16c71a0f-aead-4124-be9a-c8188abe3599",
    "outputId": "2f83a745-81e9-4060-b3e2-4c140f3bf589"
   },
   "outputs": [
    {
     "name": "stdout",
     "output_type": "stream",
     "text": [
      "              precision    recall  f1-score   support\n",
      "\n",
      "           0       0.66      0.74      0.70      2705\n",
      "           1       0.70      0.61      0.65      2632\n",
      "\n",
      "    accuracy                           0.68      5337\n",
      "   macro avg       0.68      0.68      0.68      5337\n",
      "weighted avg       0.68      0.68      0.68      5337\n",
      "\n"
     ]
    }
   ],
   "source": [
    "# validation\n",
    "pred = model.predict(x_val_s)\n",
    "print(classification_report(y_val, pred))"
   ]
  },
  {
   "cell_type": "markdown",
   "id": "exk5tsLfodSO",
   "metadata": {
    "id": "exk5tsLfodSO"
   },
   "source": [
    "## 4.Data Pipeline 정리\n",
    "\n",
    "* 이제 최적의 모델이 생성되어, 운영시스템에 배포되었습니다.\n",
    "* 운영에서 new data가 주어졌을 때, 어떤 절차로 파이프라인을 구성해야 할까요?"
   ]
  },
  {
   "cell_type": "code",
   "execution_count": 27,
   "id": "668cb59f-069b-497a-8680-e07e22455bd7",
   "metadata": {
    "colab": {
     "base_uri": "https://localhost:8080/",
     "height": 206
    },
    "executionInfo": {
     "elapsed": 34,
     "status": "ok",
     "timestamp": 1647767629290,
     "user": {
      "displayName": "한기영",
      "photoUrl": "https://lh3.googleusercontent.com/a/default-user=s64",
      "userId": "13049187003176135487"
     },
     "user_tz": -540
    },
    "id": "668cb59f-069b-497a-8680-e07e22455bd7",
    "outputId": "2b7a4870-bd58-49bf-efd0-f90fb72da8b0"
   },
   "outputs": [
    {
     "data": {
      "text/html": [
       "<div>\n",
       "<style scoped>\n",
       "    .dataframe tbody tr th:only-of-type {\n",
       "        vertical-align: middle;\n",
       "    }\n",
       "\n",
       "    .dataframe tbody tr th {\n",
       "        vertical-align: top;\n",
       "    }\n",
       "\n",
       "    .dataframe thead th {\n",
       "        text-align: right;\n",
       "    }\n",
       "</style>\n",
       "<table border=\"1\" class=\"dataframe\">\n",
       "  <thead>\n",
       "    <tr style=\"text-align: right;\">\n",
       "      <th></th>\n",
       "      <th>INCOME</th>\n",
       "      <th>OVERAGE</th>\n",
       "      <th>LEFTOVER</th>\n",
       "      <th>HOUSE</th>\n",
       "      <th>HANDSET_PRICE</th>\n",
       "      <th>OVER_15MINS_CALLS_PER_MONTH</th>\n",
       "      <th>AVERAGE_CALL_DURATION</th>\n",
       "      <th>REPORTED_SATISFACTION</th>\n",
       "      <th>REPORTED_USAGE_LEVEL</th>\n",
       "    </tr>\n",
       "  </thead>\n",
       "  <tbody>\n",
       "    <tr>\n",
       "      <th>17631</th>\n",
       "      <td>27296</td>\n",
       "      <td>104</td>\n",
       "      <td>18</td>\n",
       "      <td>293757.0</td>\n",
       "      <td>181</td>\n",
       "      <td>5</td>\n",
       "      <td>5</td>\n",
       "      <td>very_sat</td>\n",
       "      <td>little</td>\n",
       "    </tr>\n",
       "    <tr>\n",
       "      <th>548</th>\n",
       "      <td>89370</td>\n",
       "      <td>78</td>\n",
       "      <td>13</td>\n",
       "      <td>266922.0</td>\n",
       "      <td>344</td>\n",
       "      <td>4</td>\n",
       "      <td>5</td>\n",
       "      <td>unsat</td>\n",
       "      <td>avg</td>\n",
       "    </tr>\n",
       "    <tr>\n",
       "      <th>9178</th>\n",
       "      <td>39363</td>\n",
       "      <td>0</td>\n",
       "      <td>23</td>\n",
       "      <td>704168.0</td>\n",
       "      <td>217</td>\n",
       "      <td>1</td>\n",
       "      <td>4</td>\n",
       "      <td>very_unsat</td>\n",
       "      <td>little</td>\n",
       "    </tr>\n",
       "    <tr>\n",
       "      <th>17249</th>\n",
       "      <td>151891</td>\n",
       "      <td>0</td>\n",
       "      <td>14</td>\n",
       "      <td>829930.0</td>\n",
       "      <td>508</td>\n",
       "      <td>0</td>\n",
       "      <td>5</td>\n",
       "      <td>very_unsat</td>\n",
       "      <td>very_little</td>\n",
       "    </tr>\n",
       "    <tr>\n",
       "      <th>5057</th>\n",
       "      <td>94895</td>\n",
       "      <td>74</td>\n",
       "      <td>77</td>\n",
       "      <td>727593.0</td>\n",
       "      <td>307</td>\n",
       "      <td>3</td>\n",
       "      <td>4</td>\n",
       "      <td>unsat</td>\n",
       "      <td>little</td>\n",
       "    </tr>\n",
       "  </tbody>\n",
       "</table>\n",
       "</div>"
      ],
      "text/plain": [
       "       INCOME  OVERAGE  LEFTOVER     HOUSE  HANDSET_PRICE  \\\n",
       "17631   27296      104        18  293757.0            181   \n",
       "548     89370       78        13  266922.0            344   \n",
       "9178    39363        0        23  704168.0            217   \n",
       "17249  151891        0        14  829930.0            508   \n",
       "5057    94895       74        77  727593.0            307   \n",
       "\n",
       "       OVER_15MINS_CALLS_PER_MONTH  AVERAGE_CALL_DURATION  \\\n",
       "17631                            5                      5   \n",
       "548                              4                      5   \n",
       "9178                             1                      4   \n",
       "17249                            0                      5   \n",
       "5057                             3                      4   \n",
       "\n",
       "      REPORTED_SATISFACTION REPORTED_USAGE_LEVEL  \n",
       "17631              very_sat               little  \n",
       "548                   unsat                  avg  \n",
       "9178             very_unsat               little  \n",
       "17249            very_unsat          very_little  \n",
       "5057                  unsat               little  "
      ]
     },
     "execution_count": 27,
     "metadata": {},
     "output_type": "execute_result"
    }
   ],
   "source": [
    "# new data : x_test\n",
    "x_test.head()"
   ]
  },
  {
   "cell_type": "markdown",
   "id": "oD0iVH-n-BJ6",
   "metadata": {
    "id": "oD0iVH-n-BJ6"
   },
   "source": [
    "### 1) [validation에 적용하기] 코드들 가져오기"
   ]
  },
  {
   "cell_type": "markdown",
   "id": "WcXNpgsY-NLD",
   "metadata": {
    "id": "WcXNpgsY-NLD"
   },
   "source": [
    "* 함수, 변수 선언"
   ]
  },
  {
   "cell_type": "code",
   "execution_count": 28,
   "id": "_x4wiPV0_XbQ",
   "metadata": {
    "id": "_x4wiPV0_XbQ"
   },
   "outputs": [],
   "source": [
    "def mobile_dumm(df, cat):\n",
    "    for k, v in cat.items():\n",
    "        df[k] = pd.Categorical(df[k], categories=v, ordered=False)\n",
    "    df = pd.get_dummies(df, columns =cat.keys(), drop_first = 1)\n",
    "    return df\n",
    "\n",
    "imputer1_list = ['REPORTED_SATISFACTION']\n",
    "\n",
    "cat = {'REPORTED_SATISFACTION':[\"very_unsat\", \"very_sat\", \"unsat\", \"avg\", \"sat\"],\n",
    "       'REPORTED_USAGE_LEVEL':[\"little\", \"very_high\", \"very_little\", \"high\", \"avg\"]}\n"
   ]
  },
  {
   "cell_type": "markdown",
   "id": "ktCKmlWn_uFx",
   "metadata": {
    "id": "ktCKmlWn_uFx"
   },
   "source": [
    "* 전처리 실행"
   ]
  },
  {
   "cell_type": "code",
   "execution_count": 29,
   "id": "J1cgmE5oBNO9",
   "metadata": {
    "id": "J1cgmE5oBNO9"
   },
   "outputs": [],
   "source": [
    "temp = x_test.copy()"
   ]
  },
  {
   "cell_type": "code",
   "execution_count": 31,
   "id": "jny0TK0A9-RU",
   "metadata": {
    "colab": {
     "base_uri": "https://localhost:8080/"
    },
    "executionInfo": {
     "elapsed": 33,
     "status": "ok",
     "timestamp": 1647767629291,
     "user": {
      "displayName": "한기영",
      "photoUrl": "https://lh3.googleusercontent.com/a/default-user=s64",
      "userId": "13049187003176135487"
     },
     "user_tz": -540
    },
    "id": "jny0TK0A9-RU",
    "outputId": "06679068-eff9-46f1-b00e-b3bd89e3d641"
   },
   "outputs": [
    {
     "data": {
      "text/plain": [
       "array([[0.05205967, 0.31454006, 0.20224719, 0.16911719, 0.0663199 ,\n",
       "        0.17241379, 0.28571429, 1.        , 0.        , 0.        ,\n",
       "        0.        , 0.        , 0.        , 0.        , 0.        ],\n",
       "       [0.49552774, 0.23738872, 0.14606742, 0.13754493, 0.27828349,\n",
       "        0.13793103, 0.28571429, 0.        , 1.        , 0.        ,\n",
       "        0.        , 0.        , 0.        , 0.        , 1.        ],\n",
       "       [0.13826854, 0.00593472, 0.25842697, 0.65197922, 0.11313394,\n",
       "        0.03448276, 0.21428571, 0.        , 0.        , 0.        ,\n",
       "        0.        , 0.        , 0.        , 0.        , 0.        ],\n",
       "       [0.94218926, 0.00593472, 0.15730337, 0.79994235, 0.49154746,\n",
       "        0.        , 0.28571429, 0.        , 0.        , 0.        ,\n",
       "        0.        , 0.        , 1.        , 0.        , 0.        ],\n",
       "       [0.53499936, 0.22551929, 0.86516854, 0.67953951, 0.23016905,\n",
       "        0.10344828, 0.21428571, 0.        , 1.        , 0.        ,\n",
       "        0.        , 0.        , 0.        , 0.        , 0.        ],\n",
       "       [0.11103491, 0.41543027, 0.        , 0.87868064, 0.02730819,\n",
       "        0.96551724, 0.78571429, 0.        , 0.        , 0.        ,\n",
       "        0.        , 0.        , 0.        , 0.        , 0.        ],\n",
       "       [0.31700173, 0.2611276 , 0.06741573, 0.7193322 , 0.29128739,\n",
       "        0.79310345, 0.        , 0.        , 0.        , 1.        ,\n",
       "        0.        , 0.        , 0.        , 0.        , 0.        ],\n",
       "       [0.84366382, 0.59940653, 0.25842697, 0.33420358, 0.763329  ,\n",
       "        0.72413793, 0.21428571, 1.        , 0.        , 0.        ,\n",
       "        0.        , 0.        , 1.        , 0.        , 0.        ],\n",
       "       [0.03442068, 0.53709199, 0.80898876, 0.11356719, 0.01820546,\n",
       "        1.        , 0.        , 0.        , 0.        , 0.        ,\n",
       "        0.        , 1.        , 0.        , 0.        , 0.        ],\n",
       "       [0.09591067, 0.12462908, 0.17977528, 0.31232948, 0.32379714,\n",
       "        0.10344828, 0.35714286, 1.        , 0.        , 0.        ,\n",
       "        0.        , 0.        , 0.        , 0.        , 0.        ]])"
      ]
     },
     "execution_count": 31,
     "metadata": {},
     "output_type": "execute_result"
    }
   ],
   "source": [
    "# Feature Engineering\n",
    "# temp = mobile_fe(temp)\n",
    "\n",
    "# NaN 조치① : SimpleImputer\n",
    "temp[imputer1_list] = imputer1.fit_transform(temp[imputer1_list])\n",
    "\n",
    "# 가변수화\n",
    "temp = mobile_dumm(temp, cat)\n",
    "\n",
    "# 스케일링\n",
    "temp = scaler.transform(temp)\n",
    "\n",
    "# NaN 조치② : KNNImputer\n",
    "temp = imputer2.transform(temp)\n",
    "\n",
    "temp"
   ]
  },
  {
   "cell_type": "markdown",
   "id": "4tEvLvLlAH4h",
   "metadata": {
    "id": "4tEvLvLlAH4h"
   },
   "source": [
    "### 2) Data Pipeline 함수 만들고 실행하기"
   ]
  },
  {
   "cell_type": "code",
   "execution_count": 38,
   "id": "QsuAZDhzANXG",
   "metadata": {
    "id": "QsuAZDhzANXG"
   },
   "outputs": [],
   "source": [
    "def mobile_datapipeline(df, simpleimputer, simple_impute_list, dumm_list, scaler, knnimputer):\n",
    "\n",
    "    temp = df.copy()\n",
    "\n",
    "    # Feature Engineering\n",
    "#     temp = mobile_fe(temp)\n",
    "\n",
    "    # NaN 조치① : SimpleImputer\n",
    "    temp[simple_impute_list] = simpleimputer.fit_transform(temp[simple_impute_list])\n",
    "\n",
    "    # 가변수화\n",
    "    temp = mobile_dumm(temp, dumm_list)\n",
    "\n",
    "    x_cols = list(temp)\n",
    "    # 스케일링\n",
    "    temp = scaler.transform(temp)\n",
    "\n",
    "    # NaN 조치② : KNNImputer\n",
    "    temp = knnimputer.transform(temp)\n",
    "\n",
    "    return pd.DataFrame(temp, columns = x_cols)\n"
   ]
  },
  {
   "cell_type": "code",
   "execution_count": 39,
   "id": "eb4d0fe3-bdcb-4a77-8b45-6659a00bc5c1",
   "metadata": {},
   "outputs": [],
   "source": [
    "# 적용\n",
    "input = mobile_datapipeline(x_test, imputer1, imputer1_list, cat, scaler, imputer2)"
   ]
  },
  {
   "cell_type": "code",
   "execution_count": 40,
   "id": "04daa25d-8800-44b7-8ab8-c650750a47d9",
   "metadata": {},
   "outputs": [
    {
     "name": "stderr",
     "output_type": "stream",
     "text": [
      "C:\\Users\\User\\anaconda3\\lib\\site-packages\\sklearn\\base.py:443: UserWarning: X has feature names, but SVC was fitted without feature names\n",
      "  warnings.warn(\n"
     ]
    },
    {
     "data": {
      "text/plain": [
       "array([1, 0, 0, 0, 0, 0, 0, 1, 1, 0], dtype=int64)"
      ]
     },
     "execution_count": 40,
     "metadata": {},
     "output_type": "execute_result"
    }
   ],
   "source": [
    "# 예측\n",
    "model.predict(input)"
   ]
  },
  {
   "cell_type": "markdown",
   "id": "CvRIe0yEoYAH",
   "metadata": {
    "id": "CvRIe0yEoYAH"
   },
   "source": [
    "## 5.파이썬 오브젝트 저장하기"
   ]
  },
  {
   "cell_type": "code",
   "execution_count": null,
   "id": "mKKKelsypchE",
   "metadata": {
    "colab": {
     "base_uri": "https://localhost:8080/"
    },
    "executionInfo": {
     "elapsed": 344,
     "status": "ok",
     "timestamp": 1647768411450,
     "user": {
      "displayName": "한기영",
      "photoUrl": "https://lh3.googleusercontent.com/a/default-user=s64",
      "userId": "13049187003176135487"
     },
     "user_tz": -540
    },
    "id": "mKKKelsypchE",
    "outputId": "49561018-2d1d-4ac5-e8ec-1abbd7949495"
   },
   "outputs": [],
   "source": []
  },
  {
   "cell_type": "code",
   "execution_count": null,
   "id": "d8ebd574-a5b2-43d6-aca3-e6946b2d5e27",
   "metadata": {},
   "outputs": [],
   "source": []
  },
  {
   "cell_type": "code",
   "execution_count": null,
   "id": "87e3ba90-274c-451a-b77d-62445de5a7a3",
   "metadata": {},
   "outputs": [],
   "source": []
  },
  {
   "cell_type": "code",
   "execution_count": null,
   "id": "6ecbb81c-22f0-4698-939b-32b8cab7c461",
   "metadata": {},
   "outputs": [],
   "source": []
  },
  {
   "cell_type": "code",
   "execution_count": null,
   "id": "84f18af1-728d-4849-a603-b829f48d87d5",
   "metadata": {},
   "outputs": [],
   "source": []
  },
  {
   "cell_type": "code",
   "execution_count": null,
   "id": "Kh0bD3Jxvcl7",
   "metadata": {
    "id": "Kh0bD3Jxvcl7"
   },
   "outputs": [],
   "source": []
  }
 ],
 "metadata": {
  "colab": {
   "collapsed_sections": [
    "LFKrpA17bov8",
    "CoTKFUk0rDbr"
   ],
   "name": "3. 모델관리_예제.ipynb",
   "provenance": [],
   "toc_visible": true
  },
  "kernelspec": {
   "display_name": "Python 3",
   "language": "python",
   "name": "python3"
  },
  "language_info": {
   "codemirror_mode": {
    "name": "ipython",
    "version": 3
   },
   "file_extension": ".py",
   "mimetype": "text/x-python",
   "name": "python",
   "nbconvert_exporter": "python",
   "pygments_lexer": "ipython3",
   "version": "3.8.8"
  }
 },
 "nbformat": 4,
 "nbformat_minor": 5
}
