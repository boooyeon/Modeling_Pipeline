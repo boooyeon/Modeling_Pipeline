{
 "cells": [
  {
   "cell_type": "markdown",
   "id": "0fb8b4da-c92f-4328-9b49-deba08fa3d41",
   "metadata": {},
   "source": [
    "# 클라이언트 API호출"
   ]
  },
  {
   "cell_type": "code",
   "execution_count": 1,
   "id": "83afec4d-b384-432e-b7b8-1ab0e9637b67",
   "metadata": {},
   "outputs": [],
   "source": [
    "import pandas as pd\n",
    "import numpy as np\n",
    "import requests\n",
    "import json"
   ]
  },
  {
   "cell_type": "markdown",
   "id": "5e96a9d1-c8d8-4a03-803e-a841796a695e",
   "metadata": {},
   "source": [
    "## 1. 단일 값 호출"
   ]
  },
  {
   "cell_type": "code",
   "execution_count": 2,
   "id": "51d0176a-1a09-4cf3-8dc4-8fb1cc96ad4b",
   "metadata": {},
   "outputs": [
    {
     "data": {
      "text/plain": [
       "{'pred1': [1], 'pred2': ['Leave']}"
      ]
     },
     "execution_count": 2,
     "metadata": {},
     "output_type": "execute_result"
    }
   ],
   "source": [
    "import requests\n",
    "\n",
    "input = {'INCOME': 107677,'OVERAGE': 155,\n",
    "         'LEFTOVER': 23,\n",
    "         'HOUSE': 154007.0,\n",
    "         'HANDSET_PRICE': 859,\n",
    "         'OVER_15MINS_CALLS_PER_MONTH': 15,\n",
    "         'AVERAGE_CALL_DURATION': 4,\n",
    "         'REPORTED_SATISFACTION':  'very_sat',\n",
    "         'REPORTED_USAGE_LEVEL': 'little'}\n",
    "\n",
    "response = requests.post('http://127.0.0.1:8080/predict/', data = input)\n",
    "result = response.json() # 결과를 json 형태로 받아와 저장하지만, python에서는 딕셔너리로 저장됨.\n",
    "result"
   ]
  },
  {
   "cell_type": "markdown",
   "id": "b0907dea-4134-4727-9aaa-dd93f07974b6",
   "metadata": {},
   "source": [
    "## 2. 여러 값 호출"
   ]
  },
  {
   "cell_type": "code",
   "execution_count": 3,
   "id": "dbe9a5c7-b90c-4839-9b86-b7d165a0bed2",
   "metadata": {
    "tags": []
   },
   "outputs": [
    {
     "data": {
      "text/plain": [
       "{'pred1': [1, 1], 'pred2': ['Leave', 'Leave']}"
      ]
     },
     "execution_count": 3,
     "metadata": {},
     "output_type": "execute_result"
    }
   ],
   "source": [
    "import requests\n",
    "\n",
    "input = {'INCOME': [107677, 64070],\n",
    "         'OVERAGE': [155, 228],\n",
    "         'LEFTOVER': [23, 0],\n",
    "         'HOUSE': [154007.0, 326646.0],\n",
    "         'HANDSET_PRICE': [859, 275],\n",
    "         'OVER_15MINS_CALLS_PER_MONTH': [15, 28],\n",
    "         'AVERAGE_CALL_DURATION': [4, 9],        \n",
    "         'REPORTED_SATISFACTION':  ['very_sat', 'sat'],    \n",
    "         'REPORTED_USAGE_LEVEL': ['little', 'little']}\n",
    "\n",
    "response = requests.post('http://127.0.0.1:8080/predict/', data = input)\n",
    "result = response.json() # 결과를 json 형태로 받아와 저장하지만, python에서는 딕셔너리로 저장됨.\n",
    "result"
   ]
  },
  {
   "cell_type": "markdown",
   "id": "2dce1777-4979-4173-a2b8-b607603aae61",
   "metadata": {
    "tags": []
   },
   "source": [
    "## 3. 데이터셋(배치)으로 전달하기"
   ]
  },
  {
   "cell_type": "markdown",
   "id": "00eb14a9-8932-4988-a479-69d9da4e1a06",
   "metadata": {},
   "source": [
    "* 데이터프레임으로 부터 정보 전달하기1"
   ]
  },
  {
   "cell_type": "code",
   "execution_count": 4,
   "id": "c4acbf9a-aa5f-4ebd-b114-23a6b5f7e1f2",
   "metadata": {
    "tags": []
   },
   "outputs": [],
   "source": [
    "use_cols = ['INCOME', 'OVERAGE', 'LEFTOVER', 'HOUSE', 'HANDSET_PRICE', 'OVER_15MINS_CALLS_PER_MONTH', 'AVERAGE_CALL_DURATION', 'CHURN', 'REPORTED_SATISFACTION', 'REPORTED_USAGE_LEVEL']\n",
    "data = pd.read_csv('data/new_data.csv', usecols = use_cols )\n",
    "target = 'CHURN'\n",
    "x = data.drop(target, axis = 1)\n",
    "y = data.loc[:, target]"
   ]
  },
  {
   "cell_type": "code",
   "execution_count": 5,
   "id": "288bcd24-3750-412c-b396-80108040f790",
   "metadata": {},
   "outputs": [],
   "source": [
    "temp = x.sample(3)"
   ]
  },
  {
   "cell_type": "code",
   "execution_count": 6,
   "id": "4b360ea0-0841-4805-9e42-354dc306f8d4",
   "metadata": {},
   "outputs": [
    {
     "data": {
      "text/plain": [
       "{'INCOME': {'172': 154158.0, '131': 70053.0, '146': 117939.0},\n",
       " 'OVERAGE': {'172': 0, '131': 0, '146': 269},\n",
       " 'LEFTOVER': {'172': 9, '131': 41, '146': 16},\n",
       " 'HOUSE': {'172': None, '131': None, '146': None},\n",
       " 'HANDSET_PRICE': {'172': 889, '131': 355, '146': 794},\n",
       " 'OVER_15MINS_CALLS_PER_MONTH': {'172': 1, '131': 1, '146': 15},\n",
       " 'AVERAGE_CALL_DURATION': {'172': 4, '131': 2, '146': 4},\n",
       " 'REPORTED_SATISFACTION': {'172': 'very_unsat',\n",
       "  '131': 'very_unsat',\n",
       "  '146': 'avg'},\n",
       " 'REPORTED_USAGE_LEVEL': {'172': 'little',\n",
       "  '131': 'very_little',\n",
       "  '146': 'very_little'}}"
      ]
     },
     "execution_count": 6,
     "metadata": {},
     "output_type": "execute_result"
    }
   ],
   "source": [
    "input = temp.to_json(orient = 'columns')\n",
    "input = json.loads(input)\n",
    "input"
   ]
  },
  {
   "cell_type": "code",
   "execution_count": 7,
   "id": "33a5fd28-d293-4853-95be-191bda8ae260",
   "metadata": {},
   "outputs": [
    {
     "data": {
      "text/plain": [
       "{'INCOME': [154158.0, 70053.0, 117939.0],\n",
       " 'OVERAGE': [0, 0, 269],\n",
       " 'LEFTOVER': [9, 41, 16],\n",
       " 'HOUSE': [nan, nan, nan],\n",
       " 'HANDSET_PRICE': [889, 355, 794],\n",
       " 'OVER_15MINS_CALLS_PER_MONTH': [1, 1, 15],\n",
       " 'AVERAGE_CALL_DURATION': [4, 2, 4],\n",
       " 'REPORTED_SATISFACTION': ['very_unsat', 'very_unsat', 'avg'],\n",
       " 'REPORTED_USAGE_LEVEL': ['little', 'very_little', 'very_little']}"
      ]
     },
     "execution_count": 7,
     "metadata": {},
     "output_type": "execute_result"
    }
   ],
   "source": [
    "input = { key : list(temp[key]) for key in list(temp) }\n",
    "input"
   ]
  },
  {
   "cell_type": "code",
   "execution_count": 8,
   "id": "ca83fe01-d489-4642-843f-143c2a955b66",
   "metadata": {},
   "outputs": [
    {
     "data": {
      "text/plain": [
       "{'pred1': [0, 0, 1], 'pred2': ['Stay', 'Stay', 'Leave']}"
      ]
     },
     "execution_count": 8,
     "metadata": {},
     "output_type": "execute_result"
    }
   ],
   "source": [
    "response = requests.post('http://127.0.0.1:8080/predict/', data = input)\n",
    "result = response.json() \n",
    "result"
   ]
  },
  {
   "cell_type": "markdown",
   "id": "e7e3d6b1-983a-49c0-9479-2ce3c103a48c",
   "metadata": {},
   "source": [
    "* 데이터프레임으로 부터 정보전달하고, 예측결과 합치기"
   ]
  },
  {
   "cell_type": "code",
   "execution_count": 9,
   "id": "294a4bdd-6d69-4c96-a2e1-993e7e46524c",
   "metadata": {},
   "outputs": [],
   "source": [
    "# request\n",
    "input = { key : list(x[key]) for key in list(x) }\n",
    "response = requests.post('http://127.0.0.1:8080/predict/', data = input)\n",
    "result = response.json() "
   ]
  },
  {
   "cell_type": "code",
   "execution_count": 11,
   "id": "f1a3f45a-af14-47b3-858f-210c59609885",
   "metadata": {},
   "outputs": [
    {
     "data": {
      "text/html": [
       "<div>\n",
       "<style scoped>\n",
       "    .dataframe tbody tr th:only-of-type {\n",
       "        vertical-align: middle;\n",
       "    }\n",
       "\n",
       "    .dataframe tbody tr th {\n",
       "        vertical-align: top;\n",
       "    }\n",
       "\n",
       "    .dataframe thead th {\n",
       "        text-align: right;\n",
       "    }\n",
       "</style>\n",
       "<table border=\"1\" class=\"dataframe\">\n",
       "  <thead>\n",
       "    <tr style=\"text-align: right;\">\n",
       "      <th></th>\n",
       "      <th>INCOME</th>\n",
       "      <th>OVERAGE</th>\n",
       "      <th>LEFTOVER</th>\n",
       "      <th>HOUSE</th>\n",
       "      <th>HANDSET_PRICE</th>\n",
       "      <th>OVER_15MINS_CALLS_PER_MONTH</th>\n",
       "      <th>AVERAGE_CALL_DURATION</th>\n",
       "      <th>REPORTED_SATISFACTION</th>\n",
       "      <th>REPORTED_USAGE_LEVEL</th>\n",
       "      <th>y</th>\n",
       "      <th>y_pred</th>\n",
       "    </tr>\n",
       "  </thead>\n",
       "  <tbody>\n",
       "    <tr>\n",
       "      <th>0</th>\n",
       "      <td>111527.0</td>\n",
       "      <td>44</td>\n",
       "      <td>76</td>\n",
       "      <td>NaN</td>\n",
       "      <td>751</td>\n",
       "      <td>4</td>\n",
       "      <td>1</td>\n",
       "      <td>very_unsat</td>\n",
       "      <td>little</td>\n",
       "      <td>1</td>\n",
       "      <td>1</td>\n",
       "    </tr>\n",
       "    <tr>\n",
       "      <th>1</th>\n",
       "      <td>42472.0</td>\n",
       "      <td>61</td>\n",
       "      <td>0</td>\n",
       "      <td>NaN</td>\n",
       "      <td>156</td>\n",
       "      <td>3</td>\n",
       "      <td>9</td>\n",
       "      <td>very_sat</td>\n",
       "      <td>little</td>\n",
       "      <td>0</td>\n",
       "      <td>0</td>\n",
       "    </tr>\n",
       "    <tr>\n",
       "      <th>2</th>\n",
       "      <td>145276.0</td>\n",
       "      <td>66</td>\n",
       "      <td>18</td>\n",
       "      <td>NaN</td>\n",
       "      <td>516</td>\n",
       "      <td>15</td>\n",
       "      <td>4</td>\n",
       "      <td>avg</td>\n",
       "      <td>little</td>\n",
       "      <td>0</td>\n",
       "      <td>1</td>\n",
       "    </tr>\n",
       "    <tr>\n",
       "      <th>3</th>\n",
       "      <td>132847.0</td>\n",
       "      <td>0</td>\n",
       "      <td>22</td>\n",
       "      <td>NaN</td>\n",
       "      <td>830</td>\n",
       "      <td>1</td>\n",
       "      <td>5</td>\n",
       "      <td>very_unsat</td>\n",
       "      <td>little</td>\n",
       "      <td>0</td>\n",
       "      <td>0</td>\n",
       "    </tr>\n",
       "    <tr>\n",
       "      <th>4</th>\n",
       "      <td>52232.0</td>\n",
       "      <td>138</td>\n",
       "      <td>0</td>\n",
       "      <td>NaN</td>\n",
       "      <td>362</td>\n",
       "      <td>24</td>\n",
       "      <td>14</td>\n",
       "      <td>very_sat</td>\n",
       "      <td>little</td>\n",
       "      <td>1</td>\n",
       "      <td>1</td>\n",
       "    </tr>\n",
       "    <tr>\n",
       "      <th>...</th>\n",
       "      <td>...</td>\n",
       "      <td>...</td>\n",
       "      <td>...</td>\n",
       "      <td>...</td>\n",
       "      <td>...</td>\n",
       "      <td>...</td>\n",
       "      <td>...</td>\n",
       "      <td>...</td>\n",
       "      <td>...</td>\n",
       "      <td>...</td>\n",
       "      <td>...</td>\n",
       "    </tr>\n",
       "    <tr>\n",
       "      <th>195</th>\n",
       "      <td>31079.0</td>\n",
       "      <td>200</td>\n",
       "      <td>40</td>\n",
       "      <td>NaN</td>\n",
       "      <td>181</td>\n",
       "      <td>20</td>\n",
       "      <td>11</td>\n",
       "      <td>unsat</td>\n",
       "      <td>little</td>\n",
       "      <td>0</td>\n",
       "      <td>1</td>\n",
       "    </tr>\n",
       "    <tr>\n",
       "      <th>196</th>\n",
       "      <td>137194.0</td>\n",
       "      <td>63</td>\n",
       "      <td>0</td>\n",
       "      <td>NaN</td>\n",
       "      <td>787</td>\n",
       "      <td>3</td>\n",
       "      <td>11</td>\n",
       "      <td>very_unsat</td>\n",
       "      <td>little</td>\n",
       "      <td>1</td>\n",
       "      <td>0</td>\n",
       "    </tr>\n",
       "    <tr>\n",
       "      <th>197</th>\n",
       "      <td>82931.0</td>\n",
       "      <td>0</td>\n",
       "      <td>77</td>\n",
       "      <td>NaN</td>\n",
       "      <td>232</td>\n",
       "      <td>0</td>\n",
       "      <td>2</td>\n",
       "      <td>very_unsat</td>\n",
       "      <td>very_little</td>\n",
       "      <td>0</td>\n",
       "      <td>1</td>\n",
       "    </tr>\n",
       "    <tr>\n",
       "      <th>198</th>\n",
       "      <td>124391.0</td>\n",
       "      <td>0</td>\n",
       "      <td>19</td>\n",
       "      <td>NaN</td>\n",
       "      <td>862</td>\n",
       "      <td>0</td>\n",
       "      <td>2</td>\n",
       "      <td>unsat</td>\n",
       "      <td>very_high</td>\n",
       "      <td>0</td>\n",
       "      <td>0</td>\n",
       "    </tr>\n",
       "    <tr>\n",
       "      <th>199</th>\n",
       "      <td>104849.0</td>\n",
       "      <td>223</td>\n",
       "      <td>5</td>\n",
       "      <td>NaN</td>\n",
       "      <td>463</td>\n",
       "      <td>21</td>\n",
       "      <td>5</td>\n",
       "      <td>very_unsat</td>\n",
       "      <td>little</td>\n",
       "      <td>1</td>\n",
       "      <td>1</td>\n",
       "    </tr>\n",
       "  </tbody>\n",
       "</table>\n",
       "<p>200 rows × 11 columns</p>\n",
       "</div>"
      ],
      "text/plain": [
       "       INCOME  OVERAGE  LEFTOVER  HOUSE  HANDSET_PRICE  \\\n",
       "0    111527.0       44        76    NaN            751   \n",
       "1     42472.0       61         0    NaN            156   \n",
       "2    145276.0       66        18    NaN            516   \n",
       "3    132847.0        0        22    NaN            830   \n",
       "4     52232.0      138         0    NaN            362   \n",
       "..        ...      ...       ...    ...            ...   \n",
       "195   31079.0      200        40    NaN            181   \n",
       "196  137194.0       63         0    NaN            787   \n",
       "197   82931.0        0        77    NaN            232   \n",
       "198  124391.0        0        19    NaN            862   \n",
       "199  104849.0      223         5    NaN            463   \n",
       "\n",
       "     OVER_15MINS_CALLS_PER_MONTH  AVERAGE_CALL_DURATION REPORTED_SATISFACTION  \\\n",
       "0                              4                      1            very_unsat   \n",
       "1                              3                      9              very_sat   \n",
       "2                             15                      4                   avg   \n",
       "3                              1                      5            very_unsat   \n",
       "4                             24                     14              very_sat   \n",
       "..                           ...                    ...                   ...   \n",
       "195                           20                     11                 unsat   \n",
       "196                            3                     11            very_unsat   \n",
       "197                            0                      2            very_unsat   \n",
       "198                            0                      2                 unsat   \n",
       "199                           21                      5            very_unsat   \n",
       "\n",
       "    REPORTED_USAGE_LEVEL  y  y_pred  \n",
       "0                 little  1       1  \n",
       "1                 little  0       0  \n",
       "2                 little  0       1  \n",
       "3                 little  0       0  \n",
       "4                 little  1       1  \n",
       "..                   ... ..     ...  \n",
       "195               little  0       1  \n",
       "196               little  1       0  \n",
       "197          very_little  0       1  \n",
       "198            very_high  0       0  \n",
       "199               little  1       1  \n",
       "\n",
       "[200 rows x 11 columns]"
      ]
     },
     "execution_count": 11,
     "metadata": {},
     "output_type": "execute_result"
    }
   ],
   "source": [
    "# 결과 합치기\n",
    "x['y'] = y\n",
    "x['y_pred'] = result['pred1']\n",
    "x"
   ]
  },
  {
   "cell_type": "code",
   "execution_count": 12,
   "id": "3555c43e-2ed6-4223-a7cf-5c27e7bcc228",
   "metadata": {},
   "outputs": [],
   "source": [
    "from sklearn.metrics import *"
   ]
  },
  {
   "cell_type": "code",
   "execution_count": 13,
   "id": "676dadbe-faba-4be2-9fc7-2f88bdf4e44d",
   "metadata": {},
   "outputs": [
    {
     "data": {
      "text/plain": [
       "array([[83, 28],\n",
       "       [33, 56]], dtype=int64)"
      ]
     },
     "execution_count": 13,
     "metadata": {},
     "output_type": "execute_result"
    }
   ],
   "source": [
    "confusion_matrix(x['y'], x['y_pred'])"
   ]
  },
  {
   "cell_type": "code",
   "execution_count": 14,
   "id": "3dcc5754-7b7a-4518-8acb-0cb7da20db87",
   "metadata": {},
   "outputs": [
    {
     "name": "stdout",
     "output_type": "stream",
     "text": [
      "              precision    recall  f1-score   support\n",
      "\n",
      "           0       0.72      0.75      0.73       111\n",
      "           1       0.67      0.63      0.65        89\n",
      "\n",
      "    accuracy                           0.69       200\n",
      "   macro avg       0.69      0.69      0.69       200\n",
      "weighted avg       0.69      0.69      0.69       200\n",
      "\n"
     ]
    }
   ],
   "source": [
    "print(classification_report(x['y'], x['y_pred']))"
   ]
  }
 ],
 "metadata": {
  "kernelspec": {
   "display_name": "Python 3",
   "language": "python",
   "name": "python3"
  },
  "language_info": {
   "codemirror_mode": {
    "name": "ipython",
    "version": 3
   },
   "file_extension": ".py",
   "mimetype": "text/x-python",
   "name": "python",
   "nbconvert_exporter": "python",
   "pygments_lexer": "ipython3",
   "version": "3.8.8"
  }
 },
 "nbformat": 4,
 "nbformat_minor": 5
}
