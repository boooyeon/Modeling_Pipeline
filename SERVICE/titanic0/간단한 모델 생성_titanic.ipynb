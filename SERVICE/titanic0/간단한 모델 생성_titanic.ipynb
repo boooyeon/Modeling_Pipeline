{
 "cells": [
  {
   "cell_type": "markdown",
   "id": "wo-iPN8Y1V5r",
   "metadata": {
    "id": "wo-iPN8Y1V5r"
   },
   "source": [
    "# 간단한 모델 생성\n",
    "* 이제 여러분은 코드를 작성할 때, 두 가지를 고려해야 합니다.\n",
    "    * 재사용 하려면 어떻게 작성해야 할까?\n",
    "    * 물 흐르듯이 pipeline을 구성하려면 어떻게 작성해야 할까?"
   ]
  },
  {
   "cell_type": "markdown",
   "id": "gvFaKcmP1cwc",
   "metadata": {
    "id": "gvFaKcmP1cwc"
   },
   "source": [
    "## 0.환경준비 "
   ]
  },
  {
   "cell_type": "markdown",
   "id": "zWYL7Ojt1i_I",
   "metadata": {
    "id": "zWYL7Ojt1i_I"
   },
   "source": [
    "### 1) 라이브러리 "
   ]
  },
  {
   "cell_type": "code",
   "execution_count": 1,
   "id": "0d2934eb-098d-4480-8818-9147e3e8eb13",
   "metadata": {
    "id": "0d2934eb-098d-4480-8818-9147e3e8eb13"
   },
   "outputs": [],
   "source": [
    "import pandas as pd\n",
    "import numpy as np\n",
    "import joblib\n",
    "\n",
    "from sklearn.model_selection import train_test_split\n",
    "\n",
    "from sklearn.tree import DecisionTreeClassifier\n",
    "from sklearn.metrics import classification_report"
   ]
  },
  {
   "cell_type": "markdown",
   "id": "kxg4SHQ91lMZ",
   "metadata": {
    "id": "kxg4SHQ91lMZ"
   },
   "source": [
    "### 2) 데이터 불러오기"
   ]
  },
  {
   "cell_type": "code",
   "execution_count": 2,
   "id": "29715899-12f6-440a-81b0-a3bb48996b30",
   "metadata": {
    "colab": {
     "base_uri": "https://localhost:8080/",
     "height": 206
    },
    "executionInfo": {
     "elapsed": 37,
     "status": "ok",
     "timestamp": 1647767628621,
     "user": {
      "displayName": "한기영",
      "photoUrl": "https://lh3.googleusercontent.com/a/default-user=s64",
      "userId": "13049187003176135487"
     },
     "user_tz": -540
    },
    "id": "29715899-12f6-440a-81b0-a3bb48996b30",
    "outputId": "5e81b7f1-6609-46d4-e065-c0d3726bed71"
   },
   "outputs": [
    {
     "data": {
      "text/html": [
       "<div>\n",
       "<style scoped>\n",
       "    .dataframe tbody tr th:only-of-type {\n",
       "        vertical-align: middle;\n",
       "    }\n",
       "\n",
       "    .dataframe tbody tr th {\n",
       "        vertical-align: top;\n",
       "    }\n",
       "\n",
       "    .dataframe thead th {\n",
       "        text-align: right;\n",
       "    }\n",
       "</style>\n",
       "<table border=\"1\" class=\"dataframe\">\n",
       "  <thead>\n",
       "    <tr style=\"text-align: right;\">\n",
       "      <th></th>\n",
       "      <th>Survived</th>\n",
       "      <th>Pclass</th>\n",
       "      <th>Age</th>\n",
       "      <th>Sex</th>\n",
       "    </tr>\n",
       "  </thead>\n",
       "  <tbody>\n",
       "    <tr>\n",
       "      <th>0</th>\n",
       "      <td>0</td>\n",
       "      <td>3</td>\n",
       "      <td>22.0</td>\n",
       "      <td>1</td>\n",
       "    </tr>\n",
       "    <tr>\n",
       "      <th>1</th>\n",
       "      <td>1</td>\n",
       "      <td>1</td>\n",
       "      <td>38.0</td>\n",
       "      <td>0</td>\n",
       "    </tr>\n",
       "    <tr>\n",
       "      <th>2</th>\n",
       "      <td>1</td>\n",
       "      <td>3</td>\n",
       "      <td>26.0</td>\n",
       "      <td>0</td>\n",
       "    </tr>\n",
       "    <tr>\n",
       "      <th>3</th>\n",
       "      <td>1</td>\n",
       "      <td>1</td>\n",
       "      <td>35.0</td>\n",
       "      <td>0</td>\n",
       "    </tr>\n",
       "    <tr>\n",
       "      <th>4</th>\n",
       "      <td>0</td>\n",
       "      <td>3</td>\n",
       "      <td>35.0</td>\n",
       "      <td>1</td>\n",
       "    </tr>\n",
       "  </tbody>\n",
       "</table>\n",
       "</div>"
      ],
      "text/plain": [
       "   Survived  Pclass   Age  Sex\n",
       "0         0       3  22.0    1\n",
       "1         1       1  38.0    0\n",
       "2         1       3  26.0    0\n",
       "3         1       1  35.0    0\n",
       "4         0       3  35.0    1"
      ]
     },
     "execution_count": 2,
     "metadata": {},
     "output_type": "execute_result"
    }
   ],
   "source": [
    "data = pd.read_csv('data/titanic_simple.csv')\n",
    "data.head()"
   ]
  },
  {
   "cell_type": "markdown",
   "id": "ebk_wcdx1zkK",
   "metadata": {
    "id": "ebk_wcdx1zkK"
   },
   "source": [
    "## 2.데이터 전처리"
   ]
  },
  {
   "cell_type": "markdown",
   "id": "PtSEkpMXj7Gr",
   "metadata": {
    "id": "PtSEkpMXj7Gr"
   },
   "source": [
    "#### x, y 분할"
   ]
  },
  {
   "cell_type": "code",
   "execution_count": 3,
   "id": "2bc62c05-b3ca-4e7f-a6b5-61d2efd4d309",
   "metadata": {
    "id": "2bc62c05-b3ca-4e7f-a6b5-61d2efd4d309",
    "tags": []
   },
   "outputs": [],
   "source": [
    "target = 'Survived'\n",
    "x0 = data.drop(target, axis = 1)\n",
    "y0 = data.loc[:, target]"
   ]
  },
  {
   "cell_type": "markdown",
   "id": "gx3dbA4B5rYs",
   "metadata": {
    "id": "gx3dbA4B5rYs"
   },
   "source": [
    "#### test 분할\n",
    "\n",
    "여기서는 조금만 떼어 냅시다."
   ]
  },
  {
   "cell_type": "code",
   "execution_count": 4,
   "id": "3b9bbb95-fd1d-424a-9f38-ddfdafbd729b",
   "metadata": {
    "id": "3b9bbb95-fd1d-424a-9f38-ddfdafbd729b"
   },
   "outputs": [],
   "source": [
    "x, x_test, y, y_test = train_test_split(x0, y0, test_size = 5, random_state = 2022)"
   ]
  },
  {
   "cell_type": "code",
   "execution_count": 5,
   "id": "559c2675-265d-4944-9a8d-cd080bd02474",
   "metadata": {
    "colab": {
     "base_uri": "https://localhost:8080/",
     "height": 206
    },
    "executionInfo": {
     "elapsed": 36,
     "status": "ok",
     "timestamp": 1647767628625,
     "user": {
      "displayName": "한기영",
      "photoUrl": "https://lh3.googleusercontent.com/a/default-user=s64",
      "userId": "13049187003176135487"
     },
     "user_tz": -540
    },
    "id": "559c2675-265d-4944-9a8d-cd080bd02474",
    "outputId": "8a196407-2dea-4f9a-93a2-f28d8d907b0a"
   },
   "outputs": [
    {
     "data": {
      "text/html": [
       "<div>\n",
       "<style scoped>\n",
       "    .dataframe tbody tr th:only-of-type {\n",
       "        vertical-align: middle;\n",
       "    }\n",
       "\n",
       "    .dataframe tbody tr th {\n",
       "        vertical-align: top;\n",
       "    }\n",
       "\n",
       "    .dataframe thead th {\n",
       "        text-align: right;\n",
       "    }\n",
       "</style>\n",
       "<table border=\"1\" class=\"dataframe\">\n",
       "  <thead>\n",
       "    <tr style=\"text-align: right;\">\n",
       "      <th></th>\n",
       "      <th>Pclass</th>\n",
       "      <th>Age</th>\n",
       "      <th>Sex</th>\n",
       "    </tr>\n",
       "  </thead>\n",
       "  <tbody>\n",
       "    <tr>\n",
       "      <th>264</th>\n",
       "      <td>3</td>\n",
       "      <td>21.77</td>\n",
       "      <td>0</td>\n",
       "    </tr>\n",
       "    <tr>\n",
       "      <th>69</th>\n",
       "      <td>3</td>\n",
       "      <td>26.00</td>\n",
       "      <td>1</td>\n",
       "    </tr>\n",
       "    <tr>\n",
       "      <th>297</th>\n",
       "      <td>1</td>\n",
       "      <td>2.00</td>\n",
       "      <td>0</td>\n",
       "    </tr>\n",
       "    <tr>\n",
       "      <th>639</th>\n",
       "      <td>3</td>\n",
       "      <td>32.37</td>\n",
       "      <td>1</td>\n",
       "    </tr>\n",
       "    <tr>\n",
       "      <th>26</th>\n",
       "      <td>3</td>\n",
       "      <td>32.37</td>\n",
       "      <td>1</td>\n",
       "    </tr>\n",
       "  </tbody>\n",
       "</table>\n",
       "</div>"
      ],
      "text/plain": [
       "     Pclass    Age  Sex\n",
       "264       3  21.77    0\n",
       "69        3  26.00    1\n",
       "297       1   2.00    0\n",
       "639       3  32.37    1\n",
       "26        3  32.37    1"
      ]
     },
     "execution_count": 5,
     "metadata": {},
     "output_type": "execute_result"
    }
   ],
   "source": [
    "x_test"
   ]
  },
  {
   "cell_type": "markdown",
   "id": "SJ72dPUwbKO3",
   "metadata": {
    "id": "SJ72dPUwbKO3"
   },
   "source": [
    "#### train, val 분할"
   ]
  },
  {
   "cell_type": "code",
   "execution_count": 6,
   "id": "5b45c3c2-bc9d-4c5e-87b0-fd182d76fefd",
   "metadata": {
    "id": "5b45c3c2-bc9d-4c5e-87b0-fd182d76fefd"
   },
   "outputs": [],
   "source": [
    "x_train, x_val, y_train, y_val = train_test_split(x, y, test_size = .3, random_state = 2022)"
   ]
  },
  {
   "cell_type": "markdown",
   "id": "H4zsaCgtn5FJ",
   "metadata": {
    "id": "H4zsaCgtn5FJ"
   },
   "source": [
    "## 3.모델링\n",
    "\n",
    "여기에서는 성능 최적화가 주안점이 아니므로 기본값으로 모델링을 수행합니다."
   ]
  },
  {
   "cell_type": "code",
   "execution_count": 7,
   "id": "27143e60-a134-496e-b318-d52e45b19a8f",
   "metadata": {
    "colab": {
     "base_uri": "https://localhost:8080/"
    },
    "executionInfo": {
     "elapsed": 37,
     "status": "ok",
     "timestamp": 1647767629289,
     "user": {
      "displayName": "한기영",
      "photoUrl": "https://lh3.googleusercontent.com/a/default-user=s64",
      "userId": "13049187003176135487"
     },
     "user_tz": -540
    },
    "id": "27143e60-a134-496e-b318-d52e45b19a8f",
    "outputId": "2eda6d64-ac15-4058-c053-62edf835c725"
   },
   "outputs": [
    {
     "data": {
      "text/plain": [
       "DecisionTreeClassifier(max_depth=3)"
      ]
     },
     "execution_count": 7,
     "metadata": {},
     "output_type": "execute_result"
    }
   ],
   "source": [
    "# SVM으로 모델링 수행\n",
    "model = DecisionTreeClassifier(max_depth = 3)\n",
    "model.fit(x_train, y_train)"
   ]
  },
  {
   "cell_type": "code",
   "execution_count": 8,
   "id": "16c71a0f-aead-4124-be9a-c8188abe3599",
   "metadata": {
    "colab": {
     "base_uri": "https://localhost:8080/"
    },
    "executionInfo": {
     "elapsed": 36,
     "status": "ok",
     "timestamp": 1647767629290,
     "user": {
      "displayName": "한기영",
      "photoUrl": "https://lh3.googleusercontent.com/a/default-user=s64",
      "userId": "13049187003176135487"
     },
     "user_tz": -540
    },
    "id": "16c71a0f-aead-4124-be9a-c8188abe3599",
    "outputId": "2f83a745-81e9-4060-b3e2-4c140f3bf589"
   },
   "outputs": [
    {
     "name": "stdout",
     "output_type": "stream",
     "text": [
      "              precision    recall  f1-score   support\n",
      "\n",
      "           0       0.81      0.88      0.84       168\n",
      "           1       0.75      0.64      0.69        97\n",
      "\n",
      "    accuracy                           0.79       265\n",
      "   macro avg       0.78      0.76      0.76       265\n",
      "weighted avg       0.79      0.79      0.78       265\n",
      "\n"
     ]
    }
   ],
   "source": [
    "# validation\n",
    "pred = model.predict(x_val)\n",
    "print(classification_report(y_val, pred))"
   ]
  },
  {
   "cell_type": "markdown",
   "id": "exk5tsLfodSO",
   "metadata": {
    "id": "exk5tsLfodSO"
   },
   "source": [
    "## 4.Data Pipeline 정리\n",
    "\n",
    "* 이제 최적의 모델이 생성되어, 운영시스템에 배포되었습니다.\n",
    "* 운영에서 new data가 주어졌을 때, 어떤 절차로 파이프라인을 구성해야 할까요?"
   ]
  },
  {
   "cell_type": "code",
   "execution_count": 9,
   "id": "668cb59f-069b-497a-8680-e07e22455bd7",
   "metadata": {
    "colab": {
     "base_uri": "https://localhost:8080/",
     "height": 206
    },
    "executionInfo": {
     "elapsed": 34,
     "status": "ok",
     "timestamp": 1647767629290,
     "user": {
      "displayName": "한기영",
      "photoUrl": "https://lh3.googleusercontent.com/a/default-user=s64",
      "userId": "13049187003176135487"
     },
     "user_tz": -540
    },
    "id": "668cb59f-069b-497a-8680-e07e22455bd7",
    "outputId": "2b7a4870-bd58-49bf-efd0-f90fb72da8b0"
   },
   "outputs": [
    {
     "data": {
      "text/html": [
       "<div>\n",
       "<style scoped>\n",
       "    .dataframe tbody tr th:only-of-type {\n",
       "        vertical-align: middle;\n",
       "    }\n",
       "\n",
       "    .dataframe tbody tr th {\n",
       "        vertical-align: top;\n",
       "    }\n",
       "\n",
       "    .dataframe thead th {\n",
       "        text-align: right;\n",
       "    }\n",
       "</style>\n",
       "<table border=\"1\" class=\"dataframe\">\n",
       "  <thead>\n",
       "    <tr style=\"text-align: right;\">\n",
       "      <th></th>\n",
       "      <th>Pclass</th>\n",
       "      <th>Age</th>\n",
       "      <th>Sex</th>\n",
       "    </tr>\n",
       "  </thead>\n",
       "  <tbody>\n",
       "    <tr>\n",
       "      <th>264</th>\n",
       "      <td>3</td>\n",
       "      <td>21.77</td>\n",
       "      <td>0</td>\n",
       "    </tr>\n",
       "    <tr>\n",
       "      <th>69</th>\n",
       "      <td>3</td>\n",
       "      <td>26.00</td>\n",
       "      <td>1</td>\n",
       "    </tr>\n",
       "    <tr>\n",
       "      <th>297</th>\n",
       "      <td>1</td>\n",
       "      <td>2.00</td>\n",
       "      <td>0</td>\n",
       "    </tr>\n",
       "    <tr>\n",
       "      <th>639</th>\n",
       "      <td>3</td>\n",
       "      <td>32.37</td>\n",
       "      <td>1</td>\n",
       "    </tr>\n",
       "    <tr>\n",
       "      <th>26</th>\n",
       "      <td>3</td>\n",
       "      <td>32.37</td>\n",
       "      <td>1</td>\n",
       "    </tr>\n",
       "  </tbody>\n",
       "</table>\n",
       "</div>"
      ],
      "text/plain": [
       "     Pclass    Age  Sex\n",
       "264       3  21.77    0\n",
       "69        3  26.00    1\n",
       "297       1   2.00    0\n",
       "639       3  32.37    1\n",
       "26        3  32.37    1"
      ]
     },
     "execution_count": 9,
     "metadata": {},
     "output_type": "execute_result"
    }
   ],
   "source": [
    "# new data : x_test\n",
    "x_test.head()"
   ]
  },
  {
   "cell_type": "code",
   "execution_count": 10,
   "id": "dZE4TUEZb1j8",
   "metadata": {
    "colab": {
     "base_uri": "https://localhost:8080/"
    },
    "executionInfo": {
     "elapsed": 336,
     "status": "ok",
     "timestamp": 1647768816872,
     "user": {
      "displayName": "한기영",
      "photoUrl": "https://lh3.googleusercontent.com/a/default-user=s64",
      "userId": "13049187003176135487"
     },
     "user_tz": -540
    },
    "id": "dZE4TUEZb1j8",
    "outputId": "779e4dbb-3e16-4556-bda4-45ab690beca4"
   },
   "outputs": [
    {
     "data": {
      "text/plain": [
       "['model/model_ti0.pkl']"
      ]
     },
     "execution_count": 10,
     "metadata": {},
     "output_type": "execute_result"
    }
   ],
   "source": [
    "# model 저장\n",
    "joblib.dump(model, 'model/model_ti0.pkl')"
   ]
  }
 ],
 "metadata": {
  "colab": {
   "collapsed_sections": [
    "LFKrpA17bov8",
    "CoTKFUk0rDbr"
   ],
   "name": "3. 모델관리_예제.ipynb",
   "provenance": [],
   "toc_visible": true
  },
  "kernelspec": {
   "display_name": "Python 3",
   "language": "python",
   "name": "python3"
  },
  "language_info": {
   "codemirror_mode": {
    "name": "ipython",
    "version": 3
   },
   "file_extension": ".py",
   "mimetype": "text/x-python",
   "name": "python",
   "nbconvert_exporter": "python",
   "pygments_lexer": "ipython3",
   "version": "3.8.8"
  }
 },
 "nbformat": 4,
 "nbformat_minor": 5
}
