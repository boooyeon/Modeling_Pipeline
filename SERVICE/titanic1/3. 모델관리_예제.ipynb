{
 "cells": [
  {
   "cell_type": "markdown",
   "id": "wo-iPN8Y1V5r",
   "metadata": {
    "id": "wo-iPN8Y1V5r"
   },
   "source": [
    "# ML Pipeline\n",
    "\n",
    "* 이제 여러분은 코드를 작성할 때, 두 가지를 고려해야 합니다.\n",
    "    * 재사용 하려면 어떻게 작성해야 할까?\n",
    "    * 물 흐르듯이 pipeline을 구성하려면 어떻게 작성해야 할까?"
   ]
  },
  {
   "cell_type": "markdown",
   "id": "gvFaKcmP1cwc",
   "metadata": {
    "id": "gvFaKcmP1cwc"
   },
   "source": [
    "## 0.환경준비 "
   ]
  },
  {
   "cell_type": "markdown",
   "id": "zWYL7Ojt1i_I",
   "metadata": {
    "id": "zWYL7Ojt1i_I"
   },
   "source": [
    "### 1) 라이브러리 "
   ]
  },
  {
   "cell_type": "code",
   "execution_count": null,
   "id": "0d2934eb-098d-4480-8818-9147e3e8eb13",
   "metadata": {
    "id": "0d2934eb-098d-4480-8818-9147e3e8eb13"
   },
   "outputs": [],
   "source": [
    "import pandas as pd\n",
    "import numpy as np\n",
    "\n",
    "from sklearn.model_selection import train_test_split\n",
    "from sklearn.impute import SimpleImputer, KNNImputer\n",
    "from sklearn.preprocessing import MinMaxScaler\n",
    "\n",
    "from sklearn.svm import SVC\n",
    "from sklearn.metrics import classification_report"
   ]
  },
  {
   "cell_type": "markdown",
   "id": "kxg4SHQ91lMZ",
   "metadata": {
    "id": "kxg4SHQ91lMZ"
   },
   "source": [
    "### 2) 데이터 불러오기"
   ]
  },
  {
   "cell_type": "code",
   "execution_count": null,
   "id": "29715899-12f6-440a-81b0-a3bb48996b30",
   "metadata": {
    "id": "29715899-12f6-440a-81b0-a3bb48996b30"
   },
   "outputs": [],
   "source": [
    "use_cols = ['Survived', 'Pclass', 'Sex', 'Age', 'SibSp' ,'Parch', 'Fare', 'Embarked']\n",
    "data = pd.read_csv('data/titanic.csv', usecols = use_cols)\n",
    "data.head()"
   ]
  },
  {
   "cell_type": "markdown",
   "id": "ebk_wcdx1zkK",
   "metadata": {
    "id": "ebk_wcdx1zkK"
   },
   "source": [
    "## 2.데이터 전처리"
   ]
  },
  {
   "cell_type": "markdown",
   "id": "XDfKLZPE4dvx",
   "metadata": {
    "id": "XDfKLZPE4dvx"
   },
   "source": [
    "### 1) 불필요한 데이터 처리\n",
    "처음부터 꼭 필요한 칼럼만 지정하여 불러오는 것이 좋습니다."
   ]
  },
  {
   "cell_type": "markdown",
   "id": "3Fq2110K5jzZ",
   "metadata": {
    "id": "3Fq2110K5jzZ"
   },
   "source": [
    "### 2) 데이터 분할"
   ]
  },
  {
   "cell_type": "markdown",
   "id": "PtSEkpMXj7Gr",
   "metadata": {
    "id": "PtSEkpMXj7Gr"
   },
   "source": [
    "#### x, y 분할"
   ]
  },
  {
   "cell_type": "code",
   "execution_count": null,
   "id": "2bc62c05-b3ca-4e7f-a6b5-61d2efd4d309",
   "metadata": {
    "id": "2bc62c05-b3ca-4e7f-a6b5-61d2efd4d309",
    "tags": []
   },
   "outputs": [],
   "source": [
    "target = 'Survived'\n",
    "x0 = data.drop(target, axis = 1)\n",
    "y0 = data.loc[:, target]"
   ]
  },
  {
   "cell_type": "markdown",
   "id": "gx3dbA4B5rYs",
   "metadata": {
    "id": "gx3dbA4B5rYs"
   },
   "source": [
    "#### test 분할\n",
    "\n",
    "여기서는 조금만 떼어 냅시다."
   ]
  },
  {
   "cell_type": "code",
   "execution_count": null,
   "id": "3b9bbb95-fd1d-424a-9f38-ddfdafbd729b",
   "metadata": {
    "id": "3b9bbb95-fd1d-424a-9f38-ddfdafbd729b"
   },
   "outputs": [],
   "source": [
    "x, x_test, y, y_test = train_test_split(x0, y0, test_size = 5, random_state = 2022)"
   ]
  },
  {
   "cell_type": "code",
   "execution_count": null,
   "id": "559c2675-265d-4944-9a8d-cd080bd02474",
   "metadata": {
    "id": "559c2675-265d-4944-9a8d-cd080bd02474"
   },
   "outputs": [],
   "source": [
    "x_test"
   ]
  },
  {
   "cell_type": "markdown",
   "id": "SJ72dPUwbKO3",
   "metadata": {
    "id": "SJ72dPUwbKO3"
   },
   "source": [
    "#### train, val 분할"
   ]
  },
  {
   "cell_type": "code",
   "execution_count": null,
   "id": "5b45c3c2-bc9d-4c5e-87b0-fd182d76fefd",
   "metadata": {
    "id": "5b45c3c2-bc9d-4c5e-87b0-fd182d76fefd"
   },
   "outputs": [],
   "source": [
    "x_train, x_val, y_train, y_val = train_test_split(x, y, test_size = .3, random_state = 2022)"
   ]
  },
  {
   "cell_type": "markdown",
   "id": "WS3xPbXr7ALa",
   "metadata": {
    "id": "WS3xPbXr7ALa"
   },
   "source": [
    "### 3) Feature Engineering\n",
    "* family 변수를 추가하려고 합니다. 가족과 관련된 변수가 SibSp, Parch 입니다. 이 둘을 더하고 자기자신까지 포함시켜서 가족 수 변수를 만듭시다.\n",
    "* 그리고, SibSp, Parch 는 제거합니다."
   ]
  },
  {
   "cell_type": "code",
   "execution_count": null,
   "id": "kjH_JllN7Tyh",
   "metadata": {
    "id": "kjH_JllN7Tyh"
   },
   "outputs": [],
   "source": [
    "x_train['Family'] = x_train['SibSp'].astype('int') + x_train['Parch'].astype('int') + 1\n",
    "x_train.drop(['SibSp', 'Parch'], axis = 1, inplace = True)\n",
    "x_train.head()"
   ]
  },
  {
   "cell_type": "markdown",
   "id": "miMnMoZO9HOQ",
   "metadata": {
    "id": "miMnMoZO9HOQ"
   },
   "source": [
    "* 재사용을 위해서는 함수로 만드는 것이 좋습니다."
   ]
  },
  {
   "cell_type": "code",
   "execution_count": null,
   "id": "QT_Bc5_x9KkT",
   "metadata": {
    "id": "QT_Bc5_x9KkT"
   },
   "outputs": [],
   "source": [
    "def titanic_fe(df):\n",
    "    temp = df.copy()\n",
    "    # Family 변수 추가\n",
    "    temp['Family'] = temp['SibSp'] + temp['Parch'] + 1\n",
    "    temp.drop(['SibSp', 'Parch'], axis = 1, inplace = True)\n",
    "\n",
    "    # OOO 추가...\n",
    "    return temp"
   ]
  },
  {
   "cell_type": "markdown",
   "id": "eoAIgkWOkUov",
   "metadata": {
    "id": "eoAIgkWOkUov"
   },
   "source": [
    "#### validation set에 적용하기"
   ]
  },
  {
   "cell_type": "code",
   "execution_count": null,
   "id": "jQ5Ufb3f9GPM",
   "metadata": {
    "id": "jQ5Ufb3f9GPM"
   },
   "outputs": [],
   "source": [
    "x_val = titanic_fe(x_val)\n",
    "\n",
    "x_val.head()"
   ]
  },
  {
   "cell_type": "markdown",
   "id": "2FCZUkU28m_s",
   "metadata": {
    "id": "2FCZUkU28m_s"
   },
   "source": [
    "### 4) NaN 조치①"
   ]
  },
  {
   "cell_type": "markdown",
   "id": "eDPXTMOr8w96",
   "metadata": {
    "id": "eDPXTMOr8w96"
   },
   "source": [
    "* 먼저 x의 NaN을 조사해 봅시다."
   ]
  },
  {
   "cell_type": "code",
   "execution_count": null,
   "id": "yu38DJkw81YG",
   "metadata": {
    "id": "yu38DJkw81YG"
   },
   "outputs": [],
   "source": [
    "x_train.isna().sum()"
   ]
  },
  {
   "cell_type": "markdown",
   "id": "NAI7-HYK9kF4",
   "metadata": {
    "id": "NAI7-HYK9kF4"
   },
   "source": [
    "* 어떻게 조치 방법에 따라 처리 시점이 달라집니다.\n",
    "    * Embarked는 최빈값으로 **지금** 채우고\n",
    "    * Age는 KNNImputer로 **가변수화 후에** 채우겠습니다.\n",
    "\n",
    "* NaN 행 삭제를 결정한다면...\n",
    "    * 운영에서 NaN이 들어오면 그 역시 버리겠다는 의미 입니다. \n",
    "        * 그래도 괜찮다면...\n",
    "        * 그러나 괜찮은 상황은 별로 없을 겁니다."
   ]
  },
  {
   "cell_type": "markdown",
   "id": "JmMoOjhN-byp",
   "metadata": {
    "id": "JmMoOjhN-byp"
   },
   "source": [
    "#### SimpleImputer \n",
    "\n",
    "https://scikit-learn.org/stable/modules/generated/sklearn.impute.SimpleImputer.html"
   ]
  },
  {
   "cell_type": "code",
   "execution_count": null,
   "id": "h8X9ikWf-a85",
   "metadata": {
    "id": "h8X9ikWf-a85"
   },
   "outputs": [],
   "source": [
    "from sklearn.impute import SimpleImputer"
   ]
  },
  {
   "cell_type": "markdown",
   "id": "IIEBoPNXBYPK",
   "metadata": {
    "id": "IIEBoPNXBYPK"
   },
   "source": [
    "* 최빈값으로 채우기 : 보통 범주형(숫자는 이산형)을 채울 때 사용합니다.\n",
    "    * strategy = 'most_frequent'"
   ]
  },
  {
   "cell_type": "code",
   "execution_count": null,
   "id": "Q3NDWUVwBPii",
   "metadata": {
    "id": "Q3NDWUVwBPii"
   },
   "outputs": [],
   "source": [
    "# 대상을 리스트로 선언합시다. \n",
    "imputer1_list = ['Embarked']\n",
    "\n",
    "# 선언하고 fit_transform\n",
    "imputer1 = SimpleImputer(strategy = 'most_frequent')\n",
    "x_train[imputer1_list] = imputer1.fit_transform(x_train[imputer1_list])\n",
    "x_train.isna().sum()"
   ]
  },
  {
   "cell_type": "markdown",
   "id": "Eo7jUhhSkukR",
   "metadata": {
    "id": "Eo7jUhhSkukR"
   },
   "source": [
    "#### validation set에 적용하기"
   ]
  },
  {
   "cell_type": "code",
   "execution_count": null,
   "id": "BTyheb3kku6i",
   "metadata": {
    "id": "BTyheb3kku6i"
   },
   "outputs": [],
   "source": [
    "imputer1_list = ['Embarked']\n",
    "x_val[imputer1_list] = imputer1.fit_transform(x_val[imputer1_list])"
   ]
  },
  {
   "cell_type": "markdown",
   "id": "NJtEw33yEGHv",
   "metadata": {
    "id": "NJtEw33yEGHv"
   },
   "source": [
    "### 5) 가변수화"
   ]
  },
  {
   "cell_type": "code",
   "execution_count": null,
   "id": "FlJjfxAzNQ-Z",
   "metadata": {
    "id": "FlJjfxAzNQ-Z"
   },
   "outputs": [],
   "source": [
    "cat = {'Sex':[\"female\", \"male\"]\n",
    "       , 'Embarked':[\"C\", \"Q\", \"S\"]\n",
    "       ,'Pclass':[1,2,3]}\n",
    "\n",
    "for k, v in cat.items():\n",
    "    x_train[k] = pd.Categorical(x_train[k], categories=v, ordered=False)\n",
    "\n",
    "x.info()"
   ]
  },
  {
   "cell_type": "code",
   "execution_count": null,
   "id": "gXuRrHDMd-p8",
   "metadata": {
    "id": "gXuRrHDMd-p8"
   },
   "outputs": [],
   "source": [
    "x_train = pd.get_dummies(x_train, columns =cat.keys(), drop_first = 1)"
   ]
  },
  {
   "cell_type": "code",
   "execution_count": null,
   "id": "UNAVMCTbmW3b",
   "metadata": {
    "id": "UNAVMCTbmW3b"
   },
   "outputs": [],
   "source": [
    "x_train.head()"
   ]
  },
  {
   "cell_type": "markdown",
   "id": "245yN7iqlSs5",
   "metadata": {
    "id": "245yN7iqlSs5"
   },
   "source": [
    "#### validation set에 적용하기"
   ]
  },
  {
   "cell_type": "code",
   "execution_count": null,
   "id": "IquGZ7hdlWyP",
   "metadata": {
    "id": "IquGZ7hdlWyP"
   },
   "outputs": [],
   "source": [
    "# 함수로 생성\n",
    "\n",
    "cat = {'Sex':[\"female\", \"male\"]\n",
    "       , 'Embarked':[\"C\", \"Q\", \"S\"]\n",
    "       ,'Pclass':[1,2,3]}\n",
    "\n",
    "def titanic_dumm(df, cat):\n",
    "    temp = df.copy()\n",
    "    for k, v in cat.items():\n",
    "        temp[k] = pd.Categorical(temp[k], categories=v, ordered=False)\n",
    "    temp = pd.get_dummies(temp, columns =cat.keys(), drop_first = 1)\n",
    "    return temp\n",
    "x_val = titanic_dumm(x_val, cat)\n",
    "x_val.head()"
   ]
  },
  {
   "cell_type": "markdown",
   "id": "-2xRWYtL2iuU",
   "metadata": {
    "id": "-2xRWYtL2iuU"
   },
   "source": [
    "### 6) 스케일링\n"
   ]
  },
  {
   "cell_type": "code",
   "execution_count": null,
   "id": "9U1E7u4u2iuV",
   "metadata": {
    "id": "9U1E7u4u2iuV"
   },
   "outputs": [],
   "source": [
    "scaler = MinMaxScaler()\n",
    "x_train_s = scaler.fit_transform(x_train)"
   ]
  },
  {
   "cell_type": "markdown",
   "id": "qUN4Fve52iuV",
   "metadata": {
    "id": "qUN4Fve52iuV"
   },
   "source": [
    "#### validation set에 적용하기"
   ]
  },
  {
   "cell_type": "code",
   "execution_count": null,
   "id": "umMtJmiu2iuV",
   "metadata": {
    "id": "umMtJmiu2iuV"
   },
   "outputs": [],
   "source": [
    "# validation 적용\n",
    "x_val_s = scaler.transform(x_val)"
   ]
  },
  {
   "cell_type": "markdown",
   "id": "mORb7DAV2iuW",
   "metadata": {
    "id": "mORb7DAV2iuW"
   },
   "source": [
    "### 7) NaN 조치②"
   ]
  },
  {
   "cell_type": "markdown",
   "id": "EKkV0tOi2iuW",
   "metadata": {
    "id": "EKkV0tOi2iuW"
   },
   "source": [
    "#### KNNImputer\n",
    "https://scikit-learn.org/stable/modules/generated/sklearn.impute.KNNImputer.html"
   ]
  },
  {
   "cell_type": "code",
   "execution_count": null,
   "id": "heYA5lfU2iuW",
   "metadata": {
    "id": "heYA5lfU2iuW"
   },
   "outputs": [],
   "source": [
    "from sklearn.impute import KNNImputer"
   ]
  },
  {
   "cell_type": "code",
   "execution_count": null,
   "id": "IVRTPpc_0Y-Z",
   "metadata": {
    "id": "IVRTPpc_0Y-Z"
   },
   "outputs": [],
   "source": [
    "imputer2_list = list(x_train)\n",
    "imputer2_list"
   ]
  },
  {
   "cell_type": "code",
   "execution_count": null,
   "id": "kBVZY-P62iuW",
   "metadata": {
    "id": "kBVZY-P62iuW"
   },
   "outputs": [],
   "source": [
    "# 선언하고 fit_transform\n",
    "imputer2 = KNNImputer()\n",
    "x_train_s = imputer2.fit_transform(x_train_s)"
   ]
  },
  {
   "cell_type": "markdown",
   "id": "dP1ZgLZf2iuX",
   "metadata": {
    "id": "dP1ZgLZf2iuX"
   },
   "source": [
    "#### validation set에 적용하기"
   ]
  },
  {
   "cell_type": "code",
   "execution_count": null,
   "id": "94MwTYVG2iuX",
   "metadata": {
    "id": "94MwTYVG2iuX"
   },
   "outputs": [],
   "source": [
    "# validation 적용\n",
    "x_val_s = imputer2.transform(x_val_s)"
   ]
  },
  {
   "cell_type": "markdown",
   "id": "Ylj4JJqt2iuX",
   "metadata": {
    "id": "Ylj4JJqt2iuX"
   },
   "source": [
    "## 3.모델링\n",
    "\n",
    "여기에서는 성능 최적화가 주안점이 아니므로 기본값으로 모델링을 수행합니다."
   ]
  },
  {
   "cell_type": "code",
   "execution_count": null,
   "id": "jr4TCApS2iuX",
   "metadata": {
    "id": "jr4TCApS2iuX"
   },
   "outputs": [],
   "source": [
    "# SVM으로 모델링 수행\n",
    "model = SVC()\n",
    "model.fit(x_train_s, y_train)"
   ]
  },
  {
   "cell_type": "code",
   "execution_count": null,
   "id": "9Rxrhg_92iuX",
   "metadata": {
    "id": "9Rxrhg_92iuX"
   },
   "outputs": [],
   "source": [
    "# validation\n",
    "pred = model.predict(x_val_s)\n",
    "print(classification_report(y_val, pred))"
   ]
  },
  {
   "cell_type": "markdown",
   "id": "1uiJYAwU2iuX",
   "metadata": {
    "id": "1uiJYAwU2iuX"
   },
   "source": [
    "## 4.Data Pipeline 정리\n",
    "\n",
    "* 이제 최적의 모델이 생성되어, 운영시스템에 배포되었습니다.\n",
    "* 운영에서 new data가 주어졌을 때, 어떤 절차로 파이프라인을 구성해야 할까요?"
   ]
  },
  {
   "cell_type": "code",
   "execution_count": null,
   "id": "2vEYTdF12iuY",
   "metadata": {
    "id": "2vEYTdF12iuY"
   },
   "outputs": [],
   "source": [
    "# new data : x_test\n",
    "x_test.head()"
   ]
  },
  {
   "cell_type": "markdown",
   "id": "ruBY69362iuY",
   "metadata": {
    "id": "ruBY69362iuY"
   },
   "source": [
    "### 1) [validation에 적용하기] 코드들 가져오기"
   ]
  },
  {
   "cell_type": "markdown",
   "id": "vsDOdGa52iuY",
   "metadata": {
    "id": "vsDOdGa52iuY"
   },
   "source": [
    "* 함수, 변수 선언"
   ]
  },
  {
   "cell_type": "code",
   "execution_count": null,
   "id": "theLxC6W2iuY",
   "metadata": {
    "id": "theLxC6W2iuY"
   },
   "outputs": [],
   "source": [
    "def titanic_fe(df):\n",
    "    temp = df.copy()\n",
    "    # Family 변수 추가\n",
    "    temp['Family'] = temp['SibSp'] + temp['Parch'] + 1\n",
    "    temp.drop(['SibSp', 'Parch'], axis = 1, inplace = True)\n",
    "\n",
    "    # OOO 추가...\n",
    "    return temp\n",
    "\n",
    "def titanic_dumm(df, cat):\n",
    "    for k, v in cat.items():\n",
    "        df[k] = pd.Categorical(df[k], categories=v, ordered=False)\n",
    "    df = pd.get_dummies(df, columns =cat.keys(), drop_first = 1)\n",
    "    return df\n",
    "\n",
    "imputer1_list = ['Embarked']\n",
    "\n",
    "cat = {'Sex':[\"female\", \"male\"]\n",
    "       , 'Embarked':[\"C\", \"Q\", \"S\"]\n",
    "       ,'Pclass':[1,2,3]}"
   ]
  },
  {
   "cell_type": "markdown",
   "id": "PQTTcMs42iuY",
   "metadata": {
    "id": "PQTTcMs42iuY"
   },
   "source": [
    "* 전처리 실행"
   ]
  },
  {
   "cell_type": "code",
   "execution_count": null,
   "id": "BwoaTEfG2iuY",
   "metadata": {
    "id": "BwoaTEfG2iuY"
   },
   "outputs": [],
   "source": [
    "temp = x_test.copy()"
   ]
  },
  {
   "cell_type": "code",
   "execution_count": null,
   "id": "luN0T9I02iuY",
   "metadata": {
    "id": "luN0T9I02iuY"
   },
   "outputs": [],
   "source": [
    "# Feature Engineering\n",
    "temp = titanic_fe(temp)\n",
    "\n",
    "# NaN 조치① : SimpleImputer\n",
    "temp[imputer1_list] = imputer1.fit_transform(temp[imputer1_list])\n",
    "\n",
    "# 가변수화\n",
    "temp = titanic_dumm(temp, cat)\n",
    "\n",
    "# 스케일링\n",
    "temp = scaler.transform(temp)\n",
    "\n",
    "# NaN 조치② : KNNImputer\n",
    "temp = imputer2.transform(temp)\n",
    "\n",
    "temp"
   ]
  },
  {
   "cell_type": "markdown",
   "id": "Znaw76ZE2iuZ",
   "metadata": {
    "id": "Znaw76ZE2iuZ"
   },
   "source": [
    "### 2) Data Pipeline 함수 만들고 실행하기"
   ]
  },
  {
   "cell_type": "code",
   "execution_count": null,
   "id": "wYIca-Xz2iuZ",
   "metadata": {
    "id": "wYIca-Xz2iuZ"
   },
   "outputs": [],
   "source": [
    "def titanic_datapipeline(df, simpleimputer, simple_impute_list, dumm_list, scaler, knnimputer):\n",
    "\n",
    "    temp = df.copy()\n",
    "\n",
    "    # Feature Engineering\n",
    "    temp = titanic_fe(temp)\n",
    "\n",
    "    # NaN 조치① : SimpleImputer\n",
    "    temp[simple_impute_list] = simpleimputer.fit_transform(temp[simple_impute_list])\n",
    "\n",
    "    # 가변수화\n",
    "    temp = titanic_dumm(temp, dumm_list)\n",
    "\n",
    "    x_cols = list(temp)\n",
    "    # 스케일링\n",
    "    temp = scaler.transform(temp)\n",
    "\n",
    "    # NaN 조치② : KNNImputer\n",
    "    temp = knnimputer.transform(temp)\n",
    "\n",
    "    return pd.DataFrame(temp, columns = x_cols)\n"
   ]
  },
  {
   "cell_type": "markdown",
   "id": "CvRIe0yEoYAH",
   "metadata": {
    "id": "CvRIe0yEoYAH"
   },
   "source": [
    "## 5.파이썬 오브젝트 저장하기"
   ]
  },
  {
   "cell_type": "markdown",
   "id": "PfqlzAhYpQOc",
   "metadata": {
    "id": "PfqlzAhYpQOc"
   },
   "source": [
    "* data의 Embarked를 카테고리로 만들고 저장 \n"
   ]
  },
  {
   "cell_type": "code",
   "execution_count": null,
   "id": "mKKKelsypchE",
   "metadata": {
    "id": "mKKKelsypchE"
   },
   "outputs": [],
   "source": [
    "data['Embarked'] = pd.Categorical(data['Embarked'], categories=['C','Q','S'], ordered=False)\n",
    "data.info()"
   ]
  },
  {
   "cell_type": "markdown",
   "id": "n-D_ZojkpaRm",
   "metadata": {
    "id": "n-D_ZojkpaRm"
   },
   "source": [
    "* csv로 저장하고 불러옵시다."
   ]
  },
  {
   "cell_type": "code",
   "execution_count": null,
   "id": "70HT6X7gpWtr",
   "metadata": {
    "id": "70HT6X7gpWtr"
   },
   "outputs": [],
   "source": [
    "data.to_csv('data.csv', index = False)"
   ]
  },
  {
   "cell_type": "code",
   "execution_count": null,
   "id": "NrXbR3qqpve5",
   "metadata": {
    "id": "NrXbR3qqpve5"
   },
   "outputs": [],
   "source": [
    "data = pd.read_csv('data.csv')\n",
    "data.info()"
   ]
  },
  {
   "cell_type": "code",
   "execution_count": null,
   "id": "Sfc9NGIbbz6j",
   "metadata": {
    "id": "Sfc9NGIbbz6j"
   },
   "outputs": [],
   "source": [
    "import joblib"
   ]
  },
  {
   "cell_type": "markdown",
   "id": "gzOYrir3dAC8",
   "metadata": {
    "id": "gzOYrir3dAC8"
   },
   "source": [
    "* 파일로 저장"
   ]
  },
  {
   "cell_type": "code",
   "execution_count": null,
   "id": "0K2OsLT5rLAd",
   "metadata": {
    "id": "0K2OsLT5rLAd"
   },
   "outputs": [],
   "source": [
    "data['Embarked'] = pd.Categorical(data['Embarked'], categories=['C','Q','S'], ordered=False)\n",
    "data.info()"
   ]
  },
  {
   "cell_type": "code",
   "execution_count": null,
   "id": "dZE4TUEZb1j8",
   "metadata": {
    "id": "dZE4TUEZb1j8"
   },
   "outputs": [],
   "source": [
    "joblib.dump(data, 'data_df.pkl')"
   ]
  },
  {
   "cell_type": "markdown",
   "id": "Y0ptm57HdGag",
   "metadata": {
    "id": "Y0ptm57HdGag"
   },
   "source": [
    "* 파일로 부터 읽어 오기"
   ]
  },
  {
   "cell_type": "code",
   "execution_count": null,
   "id": "l-0Pf1dfcBm7",
   "metadata": {
    "id": "l-0Pf1dfcBm7"
   },
   "outputs": [],
   "source": [
    "data2 = joblib.load('data_df.pkl')\n",
    "data2.info()"
   ]
  },
  {
   "cell_type": "markdown",
   "id": "EM3Si_W1uudA",
   "metadata": {
    "id": "EM3Si_W1uudA"
   },
   "source": [
    "* 딕셔너리  \n",
    "        b = { 'v1':[1,2,3,4,5], 'v2':[6,7,8,9,0] }\n"
   ]
  },
  {
   "cell_type": "code",
   "execution_count": null,
   "id": "hWex9uLgu37t",
   "metadata": {
    "id": "hWex9uLgu37t"
   },
   "outputs": [],
   "source": [
    "b = { 'v1':[1,2,3,4,5], 'v2':[6,7,8,9,0] }\n",
    "joblib.dump(b, 'b.pkl')\n",
    "del b"
   ]
  },
  {
   "cell_type": "code",
   "execution_count": null,
   "id": "XIj2icu1u37u",
   "metadata": {
    "id": "XIj2icu1u37u"
   },
   "outputs": [],
   "source": [
    "b = joblib.load('b.pkl')\n",
    "b"
   ]
  },
  {
   "cell_type": "markdown",
   "id": "GwBMDt4cuwS5",
   "metadata": {
    "id": "GwBMDt4cuwS5"
   },
   "source": [
    "* 시리즈  \n",
    "        data['Fare']"
   ]
  },
  {
   "cell_type": "code",
   "execution_count": null,
   "id": "qQSrWuVpu-yJ",
   "metadata": {
    "id": "qQSrWuVpu-yJ"
   },
   "outputs": [],
   "source": [
    "joblib.dump(data['Fare'], 'data_Fare.pkl')\n",
    "data.drop('Fare', axis = 1, inplace = True)"
   ]
  },
  {
   "cell_type": "code",
   "execution_count": null,
   "id": "Tfka4uuxu-yJ",
   "metadata": {
    "id": "Tfka4uuxu-yJ"
   },
   "outputs": [],
   "source": [
    "data['Fare'] = joblib.load('data_Fare.pkl')\n",
    "data.head()"
   ]
  },
  {
   "cell_type": "markdown",
   "id": "Fye-0ACAgzaH",
   "metadata": {
    "id": "Fye-0ACAgzaH",
    "tags": []
   },
   "source": [
    "* 저장해야 할 오브젝트는 어떤 것들일까요?"
   ]
  },
  {
   "cell_type": "markdown",
   "id": "B1DuEstdhEY1",
   "metadata": {
    "id": "B1DuEstdhEY1"
   },
   "source": [
    "* 자료형 : imputer1_list, cat"
   ]
  },
  {
   "cell_type": "code",
   "execution_count": null,
   "id": "b5fP1jB6g6OT",
   "metadata": {
    "id": "b5fP1jB6g6OT"
   },
   "outputs": [],
   "source": [
    "joblib.dump(imputer1_list, 'imputer1_list.pkl')\n",
    "joblib.dump(cat, 'cat.pkl')"
   ]
  },
  {
   "cell_type": "markdown",
   "id": "y7VtLQHAhc_s",
   "metadata": {
    "id": "y7VtLQHAhc_s"
   },
   "source": [
    "* fitting된 함수 : imputer1, imputer2, model"
   ]
  },
  {
   "cell_type": "code",
   "execution_count": null,
   "id": "G1yjTKlGhdc_",
   "metadata": {
    "id": "G1yjTKlGhdc_"
   },
   "outputs": [],
   "source": [
    "joblib.dump(imputer1, 'preprocess/imputer1_ti1.pkl')\n",
    "joblib.dump(imputer2, 'preprocess/imputer2_ti1.pkl')\n",
    "joblib.dump(scaler, 'preprocess/scaler_ti1.pkl')\n",
    "joblib.dump(model, 'model/model_ti1.pkl')"
   ]
  },
  {
   "cell_type": "markdown",
   "id": "9vYw53y3kZAl",
   "metadata": {
    "id": "9vYw53y3kZAl"
   },
   "source": [
    "* 커널 재시작"
   ]
  },
  {
   "cell_type": "markdown",
   "id": "68AH5RiskfJm",
   "metadata": {
    "id": "68AH5RiskfJm"
   },
   "source": [
    "* 환경 및 데이터 준비"
   ]
  },
  {
   "cell_type": "code",
   "execution_count": null,
   "id": "XhTQ5K3Gkh-a",
   "metadata": {
    "id": "XhTQ5K3Gkh-a"
   },
   "outputs": [],
   "source": [
    "import pandas as pd\n",
    "import numpy as np\n",
    "import joblib\n",
    "\n",
    "from sklearn.model_selection import train_test_split\n",
    "from sklearn.impute import SimpleImputer, KNNImputer\n",
    "from sklearn.preprocessing import MinMaxScaler\n",
    "\n",
    "from sklearn.svm import SVC\n",
    "from sklearn.metrics import classification_report"
   ]
  },
  {
   "cell_type": "code",
   "execution_count": null,
   "id": "ciw-c8dPkh-b",
   "metadata": {
    "id": "ciw-c8dPkh-b"
   },
   "outputs": [],
   "source": [
    "use_cols = ['Survived', 'Pclass', 'Sex', 'Age', 'SibSp' ,'Parch', 'Fare', 'Embarked']\n",
    "data = pd.read_csv('data/titanic.csv', usecols = use_cols)"
   ]
  },
  {
   "cell_type": "code",
   "execution_count": null,
   "id": "Xosiv-MUknpf",
   "metadata": {
    "id": "Xosiv-MUknpf",
    "tags": []
   },
   "outputs": [],
   "source": [
    "target = 'Survived'\n",
    "x0 = data.drop(target, axis = 1)\n",
    "y0 = data.loc[:, target]"
   ]
  },
  {
   "cell_type": "code",
   "execution_count": null,
   "id": "c-zP2E9Nknpg",
   "metadata": {
    "id": "c-zP2E9Nknpg"
   },
   "outputs": [],
   "source": [
    "x_train, x_test, y_train, y_test = train_test_split(x0, y0, test_size = 10, random_state = 2022)"
   ]
  },
  {
   "cell_type": "markdown",
   "id": "w2x9jPYDl2eD",
   "metadata": {
    "id": "w2x9jPYDl2eD"
   },
   "source": [
    "* 함수 생성하기"
   ]
  },
  {
   "cell_type": "code",
   "execution_count": null,
   "id": "xiq4c0bQl5fm",
   "metadata": {
    "id": "xiq4c0bQl5fm"
   },
   "outputs": [],
   "source": [
    "def titanic_fe(df):\n",
    "    temp = df.copy()\n",
    "    # Family 변수 추가\n",
    "    temp['Family'] = temp['SibSp'] + temp['Parch'] + 1\n",
    "    temp.drop(['SibSp', 'Parch'], axis = 1, inplace = True)\n",
    "\n",
    "    # OOO 추가...\n",
    "    return temp\n",
    "\n",
    "def titanic_dumm(df, cat):\n",
    "    for k, v in cat.items():\n",
    "        df[k] = pd.Categorical(df[k], categories=v, ordered=False)\n",
    "    df = pd.get_dummies(df, columns =cat.keys(), drop_first = 1)\n",
    "    return df\n",
    "\n",
    "def titanic_datapipeline(df, simpleimputer, simple_impute_list, dumm_list, , scaler, knnimputer):\n",
    "\n",
    "    temp = df.copy()\n",
    "\n",
    "    # Feature Engineering\n",
    "    temp = titanic_fe(temp)\n",
    "\n",
    "    # NaN 조치① : SimpleImputer\n",
    "    temp[simple_impute_list] = simpleimputer.fit_transform(temp[simple_impute_list])\n",
    "\n",
    "    # 가변수화\n",
    "    temp = titanic_dumm(temp, dumm_list)\n",
    "\n",
    "    x_cols = list(temp)\n",
    "\n",
    "    # 스케일링\n",
    "    temp = scaler.transform(temp)\n",
    "\n",
    "    # NaN 조치② : KNNImputer\n",
    "    temp = knnimputer.transform(temp)\n",
    "\n",
    "    return pd.DataFrame(temp, columns = x_cols)\n"
   ]
  },
  {
   "cell_type": "markdown",
   "id": "2pXrHi6lkuvP",
   "metadata": {
    "id": "2pXrHi6lkuvP"
   },
   "source": [
    "* 오브젝트들 불러오기"
   ]
  },
  {
   "cell_type": "code",
   "execution_count": null,
   "id": "c1Sh4L5_k7rW",
   "metadata": {
    "id": "c1Sh4L5_k7rW"
   },
   "outputs": [],
   "source": [
    "imputer1_list = joblib.load('imputer1_list.pkl')\n",
    "cat = joblib.load('cat.pkl')\n",
    "\n",
    "imputer1 = joblib.load('preprocess/imputer1.pkl')\n",
    "imputer2 = joblib.load('preprocess/imputer2.pkl')\n",
    "scaler = joblib.load('preprocess/scaler.pkl')\n",
    "model = joblib.load('model/model.pkl')"
   ]
  },
  {
   "cell_type": "code",
   "execution_count": null,
   "id": "2Q1xH3p5k0Ph",
   "metadata": {
    "id": "2Q1xH3p5k0Ph"
   },
   "outputs": [],
   "source": []
  },
  {
   "cell_type": "markdown",
   "id": "zfYDTnVVmB3b",
   "metadata": {
    "id": "zfYDTnVVmB3b"
   },
   "source": [
    "* 적용하기"
   ]
  },
  {
   "cell_type": "code",
   "execution_count": null,
   "id": "gEobfBor_1us",
   "metadata": {
    "id": "gEobfBor_1us"
   },
   "outputs": [],
   "source": [
    "# 적용\n",
    "input = titanic_datapipeline(x_test, imputer1, imputer1_list, cat, scaler, imputer2)"
   ]
  },
  {
   "cell_type": "code",
   "execution_count": null,
   "id": "CUKyHVqynFMq",
   "metadata": {
    "id": "CUKyHVqynFMq"
   },
   "outputs": [],
   "source": [
    "input"
   ]
  },
  {
   "cell_type": "code",
   "execution_count": null,
   "id": "xCLyPjMZ_2mG",
   "metadata": {
    "id": "xCLyPjMZ_2mG"
   },
   "outputs": [],
   "source": [
    "# 예측\n",
    "model.predict(input)"
   ]
  },
  {
   "cell_type": "markdown",
   "id": "aZD55y7EyEnw",
   "metadata": {
    "id": "aZD55y7EyEnw"
   },
   "source": [
    "* 모델_timestamp.pkl 형식으로 모델에 대한 버전관리를 해 봅시다."
   ]
  },
  {
   "cell_type": "markdown",
   "id": "F4qZ_Yleznc5",
   "metadata": {
    "id": "F4qZ_Yleznc5"
   },
   "source": [
    "* timestamp 만들기"
   ]
  },
  {
   "cell_type": "code",
   "execution_count": null,
   "id": "e6kniok5vcx8",
   "metadata": {
    "id": "e6kniok5vcx8"
   },
   "outputs": [],
   "source": [
    "import datetime\n",
    "\n",
    "now = datetime.datetime.now()\n",
    "timestamp = now.strftime(\"%Y%m%d_%H%M%S\")\n",
    "print(timestamp)"
   ]
  },
  {
   "cell_type": "markdown",
   "id": "tW9p4Gh1zsMh",
   "metadata": {
    "id": "tW9p4Gh1zsMh"
   },
   "source": [
    "* 모델 이름에 붙이기"
   ]
  },
  {
   "cell_type": "code",
   "execution_count": null,
   "id": "OSmLEGDYvcsI",
   "metadata": {
    "id": "OSmLEGDYvcsI"
   },
   "outputs": [],
   "source": [
    "now = datetime.datetime.now()\n",
    "timestamp = now.strftime(\"%Y%m%d_%H%M%S\")\n",
    "\n",
    "model_fname = 'model_' + timestamp + '.pkl'\n",
    "joblib.dump(model, model_fname)"
   ]
  },
  {
   "cell_type": "markdown",
   "id": "RIthx2IJztxF",
   "metadata": {
    "id": "RIthx2IJztxF"
   },
   "source": [
    "* 모델을 추가해 봅시다."
   ]
  },
  {
   "cell_type": "code",
   "execution_count": null,
   "id": "9UPLUbkqvco8",
   "metadata": {
    "id": "9UPLUbkqvco8"
   },
   "outputs": [],
   "source": [
    "x_train = titanic_datapipeline(x_train, imputer1, imputer1_list, cat, imputer2, scaler)\n",
    "\n",
    "model = SVC(C=0.1)\n",
    "model.fit(x_train, y_train)\n",
    "\n",
    "now = datetime.datetime.now()\n",
    "timestamp = now.strftime(\"%Y%m%d_%H%M%S\")\n",
    "\n",
    "model_fname = 'model_' + timestamp + '.pkl'\n",
    "joblib.dump(model, model_fname)"
   ]
  }
 ],
 "metadata": {
  "colab": {
   "collapsed_sections": [],
   "name": "3. 모델관리_예제.ipynb",
   "provenance": [],
   "toc_visible": true
  },
  "kernelspec": {
   "display_name": "Python 3",
   "language": "python",
   "name": "python3"
  },
  "language_info": {
   "codemirror_mode": {
    "name": "ipython",
    "version": 3
   },
   "file_extension": ".py",
   "mimetype": "text/x-python",
   "name": "python",
   "nbconvert_exporter": "python",
   "pygments_lexer": "ipython3",
   "version": "3.8.8"
  }
 },
 "nbformat": 4,
 "nbformat_minor": 5
}
