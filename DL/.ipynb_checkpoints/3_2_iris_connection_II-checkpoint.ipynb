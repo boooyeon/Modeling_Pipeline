{
 "cells": [
  {
   "cell_type": "markdown",
   "metadata": {
    "id": "JR8jlMMPdIn8"
   },
   "source": [
    "# IRIS - Connection II\n",
    "\n",
    "![Add layer](https://github.com/DrKAI/image/blob/main/Add%20Layer.png?raw=true)"
   ]
  },
  {
   "cell_type": "code",
   "execution_count": 1,
   "metadata": {
    "id": "5Ryk5eNOb4-w"
   },
   "outputs": [],
   "source": [
    "import numpy as np\n",
    "import pandas as pd\n",
    "\n",
    "import tensorflow as tf\n",
    "from tensorflow import keras\n",
    "\n",
    "from sklearn.datasets import load_iris"
   ]
  },
  {
   "cell_type": "markdown",
   "metadata": {
    "id": "Y0a0ns5LXhDt"
   },
   "source": [
    "## 데이터 불러오기\n",
    "* iris.feature_names를 이용하여 판다스 데이터 프레임 만들기!"
   ]
  },
  {
   "cell_type": "code",
   "execution_count": 5,
   "metadata": {
    "id": "ZwstpfJnJj_M"
   },
   "outputs": [],
   "source": [
    "iris = load_iris()"
   ]
  },
  {
   "cell_type": "code",
   "execution_count": 6,
   "metadata": {},
   "outputs": [],
   "source": [
    "x = iris.data\n",
    "y = iris.target"
   ]
  },
  {
   "cell_type": "code",
   "execution_count": 7,
   "metadata": {},
   "outputs": [
    {
     "data": {
      "text/html": [
       "<div>\n",
       "<style scoped>\n",
       "    .dataframe tbody tr th:only-of-type {\n",
       "        vertical-align: middle;\n",
       "    }\n",
       "\n",
       "    .dataframe tbody tr th {\n",
       "        vertical-align: top;\n",
       "    }\n",
       "\n",
       "    .dataframe thead th {\n",
       "        text-align: right;\n",
       "    }\n",
       "</style>\n",
       "<table border=\"1\" class=\"dataframe\">\n",
       "  <thead>\n",
       "    <tr style=\"text-align: right;\">\n",
       "      <th></th>\n",
       "      <th>sepal length (cm)</th>\n",
       "      <th>sepal width (cm)</th>\n",
       "      <th>petal length (cm)</th>\n",
       "      <th>petal width (cm)</th>\n",
       "    </tr>\n",
       "  </thead>\n",
       "  <tbody>\n",
       "    <tr>\n",
       "      <th>0</th>\n",
       "      <td>5.1</td>\n",
       "      <td>3.5</td>\n",
       "      <td>1.4</td>\n",
       "      <td>0.2</td>\n",
       "    </tr>\n",
       "    <tr>\n",
       "      <th>1</th>\n",
       "      <td>4.9</td>\n",
       "      <td>3.0</td>\n",
       "      <td>1.4</td>\n",
       "      <td>0.2</td>\n",
       "    </tr>\n",
       "    <tr>\n",
       "      <th>2</th>\n",
       "      <td>4.7</td>\n",
       "      <td>3.2</td>\n",
       "      <td>1.3</td>\n",
       "      <td>0.2</td>\n",
       "    </tr>\n",
       "    <tr>\n",
       "      <th>3</th>\n",
       "      <td>4.6</td>\n",
       "      <td>3.1</td>\n",
       "      <td>1.5</td>\n",
       "      <td>0.2</td>\n",
       "    </tr>\n",
       "    <tr>\n",
       "      <th>4</th>\n",
       "      <td>5.0</td>\n",
       "      <td>3.6</td>\n",
       "      <td>1.4</td>\n",
       "      <td>0.2</td>\n",
       "    </tr>\n",
       "  </tbody>\n",
       "</table>\n",
       "</div>"
      ],
      "text/plain": [
       "   sepal length (cm)  sepal width (cm)  petal length (cm)  petal width (cm)\n",
       "0                5.1               3.5                1.4               0.2\n",
       "1                4.9               3.0                1.4               0.2\n",
       "2                4.7               3.2                1.3               0.2\n",
       "3                4.6               3.1                1.5               0.2\n",
       "4                5.0               3.6                1.4               0.2"
      ]
     },
     "execution_count": 7,
     "metadata": {},
     "output_type": "execute_result"
    }
   ],
   "source": [
    "df_x = pd.DataFrame(x, columns=iris.feature_names)\n",
    "\n",
    "df_x.head()"
   ]
  },
  {
   "cell_type": "markdown",
   "metadata": {
    "id": "JQb8AGsxgX9D"
   },
   "source": [
    "## train set, test set 구분하기"
   ]
  },
  {
   "cell_type": "code",
   "execution_count": 8,
   "metadata": {
    "id": "CwSPTbtVJiyi"
   },
   "outputs": [],
   "source": [
    "from sklearn.model_selection import train_test_split"
   ]
  },
  {
   "cell_type": "code",
   "execution_count": 9,
   "metadata": {},
   "outputs": [],
   "source": [
    "train_x, test_x, train_y, test_y = train_test_split(df_x, y, random_state=2022, test_size=0.2)"
   ]
  },
  {
   "cell_type": "code",
   "execution_count": 10,
   "metadata": {},
   "outputs": [
    {
     "data": {
      "text/plain": [
       "((120, 4), (120,))"
      ]
     },
     "execution_count": 10,
     "metadata": {},
     "output_type": "execute_result"
    }
   ],
   "source": [
    "train_x.shape, train_y.shape"
   ]
  },
  {
   "cell_type": "markdown",
   "metadata": {
    "id": "vk5ON1iNgHZv"
   },
   "source": [
    "## **sepal끼리, petal끼리**"
   ]
  },
  {
   "cell_type": "code",
   "execution_count": 11,
   "metadata": {
    "id": "sjhmJMjLJhqq"
   },
   "outputs": [
    {
     "data": {
      "text/plain": [
       "Index(['sepal length (cm)', 'sepal width (cm)', 'petal length (cm)',\n",
       "       'petal width (cm)'],\n",
       "      dtype='object')"
      ]
     },
     "execution_count": 11,
     "metadata": {},
     "output_type": "execute_result"
    }
   ],
   "source": [
    "train_x.columns"
   ]
  },
  {
   "cell_type": "code",
   "execution_count": 12,
   "metadata": {},
   "outputs": [],
   "source": [
    "tr_x_se = train_x[['sepal length (cm)', 'sepal width (cm)']]\n",
    "tr_x_pe = train_x[['petal length (cm)', 'petal width (cm)']]"
   ]
  },
  {
   "cell_type": "code",
   "execution_count": 13,
   "metadata": {},
   "outputs": [
    {
     "data": {
      "text/plain": [
       "((120, 2), (120, 2))"
      ]
     },
     "execution_count": 13,
     "metadata": {},
     "output_type": "execute_result"
    }
   ],
   "source": [
    "tr_x_se.shape, tr_x_pe.shape"
   ]
  },
  {
   "cell_type": "code",
   "execution_count": 14,
   "metadata": {},
   "outputs": [
    {
     "data": {
      "text/html": [
       "<div>\n",
       "<style scoped>\n",
       "    .dataframe tbody tr th:only-of-type {\n",
       "        vertical-align: middle;\n",
       "    }\n",
       "\n",
       "    .dataframe tbody tr th {\n",
       "        vertical-align: top;\n",
       "    }\n",
       "\n",
       "    .dataframe thead th {\n",
       "        text-align: right;\n",
       "    }\n",
       "</style>\n",
       "<table border=\"1\" class=\"dataframe\">\n",
       "  <thead>\n",
       "    <tr style=\"text-align: right;\">\n",
       "      <th></th>\n",
       "      <th>sepal length (cm)</th>\n",
       "      <th>sepal width (cm)</th>\n",
       "    </tr>\n",
       "  </thead>\n",
       "  <tbody>\n",
       "    <tr>\n",
       "      <th>38</th>\n",
       "      <td>4.4</td>\n",
       "      <td>3.0</td>\n",
       "    </tr>\n",
       "    <tr>\n",
       "      <th>82</th>\n",
       "      <td>5.8</td>\n",
       "      <td>2.7</td>\n",
       "    </tr>\n",
       "    <tr>\n",
       "      <th>89</th>\n",
       "      <td>5.5</td>\n",
       "      <td>2.5</td>\n",
       "    </tr>\n",
       "    <tr>\n",
       "      <th>1</th>\n",
       "      <td>4.9</td>\n",
       "      <td>3.0</td>\n",
       "    </tr>\n",
       "    <tr>\n",
       "      <th>74</th>\n",
       "      <td>6.4</td>\n",
       "      <td>2.9</td>\n",
       "    </tr>\n",
       "  </tbody>\n",
       "</table>\n",
       "</div>"
      ],
      "text/plain": [
       "    sepal length (cm)  sepal width (cm)\n",
       "38                4.4               3.0\n",
       "82                5.8               2.7\n",
       "89                5.5               2.5\n",
       "1                 4.9               3.0\n",
       "74                6.4               2.9"
      ]
     },
     "execution_count": 14,
     "metadata": {},
     "output_type": "execute_result"
    }
   ],
   "source": [
    "tr_x_se.head()"
   ]
  },
  {
   "cell_type": "code",
   "execution_count": 15,
   "metadata": {},
   "outputs": [
    {
     "data": {
      "text/html": [
       "<div>\n",
       "<style scoped>\n",
       "    .dataframe tbody tr th:only-of-type {\n",
       "        vertical-align: middle;\n",
       "    }\n",
       "\n",
       "    .dataframe tbody tr th {\n",
       "        vertical-align: top;\n",
       "    }\n",
       "\n",
       "    .dataframe thead th {\n",
       "        text-align: right;\n",
       "    }\n",
       "</style>\n",
       "<table border=\"1\" class=\"dataframe\">\n",
       "  <thead>\n",
       "    <tr style=\"text-align: right;\">\n",
       "      <th></th>\n",
       "      <th>petal length (cm)</th>\n",
       "      <th>petal width (cm)</th>\n",
       "    </tr>\n",
       "  </thead>\n",
       "  <tbody>\n",
       "    <tr>\n",
       "      <th>38</th>\n",
       "      <td>1.3</td>\n",
       "      <td>0.2</td>\n",
       "    </tr>\n",
       "    <tr>\n",
       "      <th>82</th>\n",
       "      <td>3.9</td>\n",
       "      <td>1.2</td>\n",
       "    </tr>\n",
       "    <tr>\n",
       "      <th>89</th>\n",
       "      <td>4.0</td>\n",
       "      <td>1.3</td>\n",
       "    </tr>\n",
       "    <tr>\n",
       "      <th>1</th>\n",
       "      <td>1.4</td>\n",
       "      <td>0.2</td>\n",
       "    </tr>\n",
       "    <tr>\n",
       "      <th>74</th>\n",
       "      <td>4.3</td>\n",
       "      <td>1.3</td>\n",
       "    </tr>\n",
       "  </tbody>\n",
       "</table>\n",
       "</div>"
      ],
      "text/plain": [
       "    petal length (cm)  petal width (cm)\n",
       "38                1.3               0.2\n",
       "82                3.9               1.2\n",
       "89                4.0               1.3\n",
       "1                 1.4               0.2\n",
       "74                4.3               1.3"
      ]
     },
     "execution_count": 15,
     "metadata": {},
     "output_type": "execute_result"
    }
   ],
   "source": [
    "tr_x_pe.head()"
   ]
  },
  {
   "cell_type": "code",
   "execution_count": 16,
   "metadata": {},
   "outputs": [],
   "source": [
    "te_x_se = test_x[['sepal length (cm)', 'sepal width (cm)']]\n",
    "te_x_pe = test_x[['petal length (cm)', 'petal width (cm)']]"
   ]
  },
  {
   "cell_type": "markdown",
   "metadata": {
    "id": "BubbIvpJmZhX"
   },
   "source": [
    "## One-hot Encoding"
   ]
  },
  {
   "cell_type": "code",
   "execution_count": 17,
   "metadata": {
    "id": "qTUl-T5Hmc8F"
   },
   "outputs": [],
   "source": [
    "from tensorflow.keras.utils import to_categorical"
   ]
  },
  {
   "cell_type": "code",
   "execution_count": 20,
   "metadata": {},
   "outputs": [],
   "source": [
    "y_len = len(set(train_y))"
   ]
  },
  {
   "cell_type": "code",
   "execution_count": 21,
   "metadata": {},
   "outputs": [],
   "source": [
    "train_y = to_categorical(train_y, y_len)\n",
    "test_y = to_categorical(test_y, y_len)"
   ]
  },
  {
   "cell_type": "code",
   "execution_count": 22,
   "metadata": {},
   "outputs": [
    {
     "data": {
      "text/plain": [
       "(120, 3)"
      ]
     },
     "execution_count": 22,
     "metadata": {},
     "output_type": "execute_result"
    }
   ],
   "source": [
    "train_y.shape"
   ]
  },
  {
   "cell_type": "markdown",
   "metadata": {
    "id": "KJYhtxM3mc_R"
   },
   "source": [
    "## Modeling : multi-input & Add layer"
   ]
  },
  {
   "cell_type": "code",
   "execution_count": 24,
   "metadata": {},
   "outputs": [],
   "source": [
    "## 라이브러리 불러오기\n",
    "import tensorflow as tf\n",
    "from tensorflow import keras"
   ]
  },
  {
   "cell_type": "code",
   "execution_count": 30,
   "metadata": {
    "id": "5celtavonw75"
   },
   "outputs": [
    {
     "name": "stdout",
     "output_type": "stream",
     "text": [
      "Model: \"model\"\n",
      "__________________________________________________________________________________________________\n",
      " Layer (type)                   Output Shape         Param #     Connected to                     \n",
      "==================================================================================================\n",
      " petal_input (InputLayer)       [(None, 2)]          0           []                               \n",
      "                                                                                                  \n",
      " sepal_input (InputLayer)       [(None, 2)]          0           []                               \n",
      "                                                                                                  \n",
      " dense (Dense)                  (None, 4)            12          ['petal_input[0][0]']            \n",
      "                                                                                                  \n",
      " dense_1 (Dense)                (None, 4)            12          ['sepal_input[0][0]']            \n",
      "                                                                                                  \n",
      " add_layer (Add)                (None, 4)            0           ['dense[0][0]',                  \n",
      "                                                                  'dense_1[0][0]']                \n",
      "                                                                                                  \n",
      " dense_2 (Dense)                (None, 3)            15          ['add_layer[0][0]']              \n",
      "                                                                                                  \n",
      "==================================================================================================\n",
      "Total params: 39\n",
      "Trainable params: 39\n",
      "Non-trainable params: 0\n",
      "__________________________________________________________________________________________________\n"
     ]
    }
   ],
   "source": [
    "## Functional API\n",
    "\n",
    "# 1. 세션 클리어\n",
    "keras.backend.clear_session()\n",
    "\n",
    "# 2. 레이어 사슬처럼 엮기 : input 2개!\n",
    "il_pe = keras.layers.Input(shape=(2,), name='petal_input')\n",
    "hl_pe = keras.layers.Dense(4, activation='relu')(il_pe)\n",
    "\n",
    "il_se = keras.layers.Input(shape=(2,),name='sepal_input')\n",
    "hl_se = keras.layers.Dense(4, activation='relu')(il_se)\n",
    "\n",
    "al = keras.layers.Add(name='add_layer')([hl_pe, hl_se])\n",
    "ol = keras.layers.Dense(3, activation='softmax')(al)\n",
    "\n",
    "# 3. 모델 시작 끝 지정\n",
    "il_list = [il_pe, il_se]\n",
    "model = keras.models.Model(il_list, ol)\n",
    "\n",
    "# 4. 컴파일\n",
    "model.compile(loss='categorical_crossentropy', metrics=['accuracy'], optimizer='adam')\n",
    "\n",
    "# 양념\n",
    "model.summary()"
   ]
  },
  {
   "cell_type": "markdown",
   "metadata": {
    "id": "qIg-W5eSWhyc"
   },
   "source": [
    "## 모델 시각화"
   ]
  },
  {
   "cell_type": "code",
   "execution_count": 31,
   "metadata": {
    "id": "22HFw8xavgGI"
   },
   "outputs": [],
   "source": [
    "from tensorflow.keras.utils import plot_model"
   ]
  },
  {
   "cell_type": "code",
   "execution_count": 32,
   "metadata": {},
   "outputs": [
    {
     "data": {
      "image/png": "[encoded data removed]",
      "text/plain": [
       "<IPython.core.display.Image object>"
      ]
     },
     "execution_count": 32,
     "metadata": {},
     "output_type": "execute_result"
    }
   ],
   "source": [
    "plot_model(model, show_shapes=True, show_layer_names=True)"
   ]
  },
  {
   "cell_type": "markdown",
   "metadata": {
    "id": "vuJ7eKLkWnm2"
   },
   "source": [
    "## 학습 시켜보기!"
   ]
  },
  {
   "cell_type": "code",
   "execution_count": 33,
   "metadata": {
    "id": "6g05eHJAJdwg"
   },
   "outputs": [],
   "source": [
    "tr_list = [tr_x_pe, tr_x_se]"
   ]
  },
  {
   "cell_type": "code",
   "execution_count": 34,
   "metadata": {},
   "outputs": [
    {
     "name": "stdout",
     "output_type": "stream",
     "text": [
      "Epoch 1/100\n",
      "3/3 [==============================] - 0s 50ms/step - loss: 1.3389 - accuracy: 0.3438 - val_loss: 1.3231 - val_accuracy: 0.3750\n",
      "Epoch 2/100\n",
      "3/3 [==============================] - 0s 8ms/step - loss: 1.3094 - accuracy: 0.3438 - val_loss: 1.3028 - val_accuracy: 0.3750\n",
      "Epoch 3/100\n",
      "3/3 [==============================] - 0s 8ms/step - loss: 1.2787 - accuracy: 0.3438 - val_loss: 1.2835 - val_accuracy: 0.3750\n",
      "Epoch 4/100\n",
      "3/3 [==============================] - 0s 8ms/step - loss: 1.2512 - accuracy: 0.3438 - val_loss: 1.2652 - val_accuracy: 0.3750\n",
      "Epoch 5/100\n",
      "3/3 [==============================] - 0s 8ms/step - loss: 1.2244 - accuracy: 0.3438 - val_loss: 1.2480 - val_accuracy: 0.3750\n",
      "Epoch 6/100\n",
      "3/3 [==============================] - 0s 8ms/step - loss: 1.2012 - accuracy: 0.3438 - val_loss: 1.2318 - val_accuracy: 0.3750\n",
      "Epoch 7/100\n",
      "3/3 [==============================] - 0s 7ms/step - loss: 1.1768 - accuracy: 0.3438 - val_loss: 1.2171 - val_accuracy: 0.3750\n",
      "Epoch 8/100\n",
      "3/3 [==============================] - 0s 7ms/step - loss: 1.1553 - accuracy: 0.3438 - val_loss: 1.2036 - val_accuracy: 0.3750\n",
      "Epoch 9/100\n",
      "3/3 [==============================] - 0s 8ms/step - loss: 1.1357 - accuracy: 0.3438 - val_loss: 1.1912 - val_accuracy: 0.3750\n",
      "Epoch 10/100\n",
      "3/3 [==============================] - 0s 7ms/step - loss: 1.1173 - accuracy: 0.3438 - val_loss: 1.1801 - val_accuracy: 0.3750\n",
      "Epoch 11/100\n",
      "3/3 [==============================] - 0s 8ms/step - loss: 1.1023 - accuracy: 0.3438 - val_loss: 1.1699 - val_accuracy: 0.3750\n",
      "Epoch 12/100\n",
      "3/3 [==============================] - 0s 8ms/step - loss: 1.0865 - accuracy: 0.3438 - val_loss: 1.1607 - val_accuracy: 0.3750\n",
      "Epoch 13/100\n",
      "3/3 [==============================] - 0s 7ms/step - loss: 1.0728 - accuracy: 0.3438 - val_loss: 1.1524 - val_accuracy: 0.3750\n",
      "Epoch 14/100\n",
      "3/3 [==============================] - 0s 8ms/step - loss: 1.0615 - accuracy: 0.3438 - val_loss: 1.1448 - val_accuracy: 0.3750\n",
      "Epoch 15/100\n",
      "3/3 [==============================] - 0s 7ms/step - loss: 1.0497 - accuracy: 0.3438 - val_loss: 1.1381 - val_accuracy: 0.3750\n",
      "Epoch 16/100\n",
      "3/3 [==============================] - 0s 8ms/step - loss: 1.0397 - accuracy: 0.3646 - val_loss: 1.1320 - val_accuracy: 0.4167\n",
      "Epoch 17/100\n",
      "3/3 [==============================] - 0s 8ms/step - loss: 1.0309 - accuracy: 0.3750 - val_loss: 1.1265 - val_accuracy: 0.4167\n",
      "Epoch 18/100\n",
      "3/3 [==============================] - 0s 8ms/step - loss: 1.0228 - accuracy: 0.4062 - val_loss: 1.1211 - val_accuracy: 0.4167\n",
      "Epoch 19/100\n",
      "3/3 [==============================] - 0s 8ms/step - loss: 1.0160 - accuracy: 0.4375 - val_loss: 1.1160 - val_accuracy: 0.4167\n",
      "Epoch 20/100\n",
      "3/3 [==============================] - 0s 8ms/step - loss: 1.0095 - accuracy: 0.4896 - val_loss: 1.1113 - val_accuracy: 0.5000\n",
      "Epoch 21/100\n",
      "3/3 [==============================] - 0s 8ms/step - loss: 1.0041 - accuracy: 0.5104 - val_loss: 1.1068 - val_accuracy: 0.5000\n",
      "Epoch 22/100\n",
      "3/3 [==============================] - 0s 8ms/step - loss: 0.9983 - accuracy: 0.5312 - val_loss: 1.1025 - val_accuracy: 0.4583\n",
      "Epoch 23/100\n",
      "3/3 [==============================] - 0s 7ms/step - loss: 0.9935 - accuracy: 0.5521 - val_loss: 1.0981 - val_accuracy: 0.4583\n",
      "Epoch 24/100\n",
      "3/3 [==============================] - 0s 7ms/step - loss: 0.9885 - accuracy: 0.5521 - val_loss: 1.0939 - val_accuracy: 0.4583\n",
      "Epoch 25/100\n",
      "3/3 [==============================] - 0s 8ms/step - loss: 0.9853 - accuracy: 0.4792 - val_loss: 1.0898 - val_accuracy: 0.4167\n",
      "Epoch 26/100\n",
      "3/3 [==============================] - 0s 8ms/step - loss: 0.9804 - accuracy: 0.4583 - val_loss: 1.0858 - val_accuracy: 0.3750\n",
      "Epoch 27/100\n",
      "3/3 [==============================] - 0s 8ms/step - loss: 0.9772 - accuracy: 0.4479 - val_loss: 1.0817 - val_accuracy: 0.3333\n",
      "Epoch 28/100\n",
      "3/3 [==============================] - 0s 8ms/step - loss: 0.9733 - accuracy: 0.4167 - val_loss: 1.0775 - val_accuracy: 0.2917\n",
      "Epoch 29/100\n",
      "3/3 [==============================] - 0s 8ms/step - loss: 0.9699 - accuracy: 0.4062 - val_loss: 1.0734 - val_accuracy: 0.2917\n",
      "Epoch 30/100\n",
      "3/3 [==============================] - 0s 8ms/step - loss: 0.9667 - accuracy: 0.3958 - val_loss: 1.0696 - val_accuracy: 0.2917\n",
      "Epoch 31/100\n",
      "3/3 [==============================] - 0s 8ms/step - loss: 0.9636 - accuracy: 0.3854 - val_loss: 1.0658 - val_accuracy: 0.2500\n",
      "Epoch 32/100\n",
      "3/3 [==============================] - 0s 7ms/step - loss: 0.9603 - accuracy: 0.3854 - val_loss: 1.0621 - val_accuracy: 0.2500\n",
      "Epoch 33/100\n",
      "3/3 [==============================] - 0s 7ms/step - loss: 0.9582 - accuracy: 0.3854 - val_loss: 1.0585 - val_accuracy: 0.2500\n",
      "Epoch 34/100\n",
      "3/3 [==============================] - 0s 7ms/step - loss: 0.9548 - accuracy: 0.3854 - val_loss: 1.0547 - val_accuracy: 0.2500\n",
      "Epoch 35/100\n",
      "3/3 [==============================] - 0s 8ms/step - loss: 0.9528 - accuracy: 0.3750 - val_loss: 1.0512 - val_accuracy: 0.2083\n",
      "Epoch 36/100\n",
      "3/3 [==============================] - 0s 7ms/step - loss: 0.9499 - accuracy: 0.3750 - val_loss: 1.0475 - val_accuracy: 0.2083\n",
      "Epoch 37/100\n",
      "3/3 [==============================] - 0s 8ms/step - loss: 0.9475 - accuracy: 0.3750 - val_loss: 1.0442 - val_accuracy: 0.2500\n",
      "Epoch 38/100\n",
      "3/3 [==============================] - 0s 7ms/step - loss: 0.9451 - accuracy: 0.3750 - val_loss: 1.0407 - val_accuracy: 0.2500\n",
      "Epoch 39/100\n",
      "3/3 [==============================] - 0s 8ms/step - loss: 0.9427 - accuracy: 0.3750 - val_loss: 1.0374 - val_accuracy: 0.2500\n",
      "Epoch 40/100\n",
      "3/3 [==============================] - 0s 7ms/step - loss: 0.9405 - accuracy: 0.3750 - val_loss: 1.0344 - val_accuracy: 0.2500\n",
      "Epoch 41/100\n",
      "3/3 [==============================] - 0s 8ms/step - loss: 0.9387 - accuracy: 0.3750 - val_loss: 1.0313 - val_accuracy: 0.2500\n",
      "Epoch 42/100\n",
      "3/3 [==============================] - 0s 7ms/step - loss: 0.9363 - accuracy: 0.3750 - val_loss: 1.0284 - val_accuracy: 0.2500\n",
      "Epoch 43/100\n",
      "3/3 [==============================] - 0s 7ms/step - loss: 0.9344 - accuracy: 0.3750 - val_loss: 1.0255 - val_accuracy: 0.2500\n",
      "Epoch 44/100\n",
      "3/3 [==============================] - 0s 7ms/step - loss: 0.9322 - accuracy: 0.3854 - val_loss: 1.0226 - val_accuracy: 0.2500\n",
      "Epoch 45/100\n",
      "3/3 [==============================] - 0s 8ms/step - loss: 0.9306 - accuracy: 0.3854 - val_loss: 1.0198 - val_accuracy: 0.2500\n",
      "Epoch 46/100\n",
      "3/3 [==============================] - 0s 8ms/step - loss: 0.9286 - accuracy: 0.3646 - val_loss: 1.0174 - val_accuracy: 0.2500\n",
      "Epoch 47/100\n",
      "3/3 [==============================] - 0s 8ms/step - loss: 0.9268 - accuracy: 0.3750 - val_loss: 1.0146 - val_accuracy: 0.2500\n",
      "Epoch 48/100\n",
      "3/3 [==============================] - 0s 8ms/step - loss: 0.9249 - accuracy: 0.3750 - val_loss: 1.0122 - val_accuracy: 0.2500\n",
      "Epoch 49/100\n",
      "3/3 [==============================] - 0s 7ms/step - loss: 0.9231 - accuracy: 0.3750 - val_loss: 1.0099 - val_accuracy: 0.2500\n",
      "Epoch 50/100\n",
      "3/3 [==============================] - 0s 7ms/step - loss: 0.9214 - accuracy: 0.3646 - val_loss: 1.0076 - val_accuracy: 0.2500\n",
      "Epoch 51/100\n",
      "3/3 [==============================] - 0s 8ms/step - loss: 0.9197 - accuracy: 0.3542 - val_loss: 1.0053 - val_accuracy: 0.2500\n",
      "Epoch 52/100\n",
      "3/3 [==============================] - 0s 8ms/step - loss: 0.9181 - accuracy: 0.3542 - val_loss: 1.0033 - val_accuracy: 0.2500\n",
      "Epoch 53/100\n",
      "3/3 [==============================] - 0s 8ms/step - loss: 0.9164 - accuracy: 0.3542 - val_loss: 1.0010 - val_accuracy: 0.2500\n",
      "Epoch 54/100\n",
      "3/3 [==============================] - 0s 7ms/step - loss: 0.9148 - accuracy: 0.3542 - val_loss: 0.9986 - val_accuracy: 0.2500\n",
      "Epoch 55/100\n",
      "3/3 [==============================] - 0s 8ms/step - loss: 0.9130 - accuracy: 0.3646 - val_loss: 0.9964 - val_accuracy: 0.2500\n",
      "Epoch 56/100\n",
      "3/3 [==============================] - 0s 8ms/step - loss: 0.9115 - accuracy: 0.3646 - val_loss: 0.9941 - val_accuracy: 0.2500\n",
      "Epoch 57/100\n",
      "3/3 [==============================] - 0s 8ms/step - loss: 0.9098 - accuracy: 0.3646 - val_loss: 0.9920 - val_accuracy: 0.2500\n",
      "Epoch 58/100\n",
      "3/3 [==============================] - 0s 8ms/step - loss: 0.9083 - accuracy: 0.3646 - val_loss: 0.9902 - val_accuracy: 0.2500\n",
      "Epoch 59/100\n",
      "3/3 [==============================] - 0s 8ms/step - loss: 0.9068 - accuracy: 0.3646 - val_loss: 0.9881 - val_accuracy: 0.2500\n",
      "Epoch 60/100\n",
      "3/3 [==============================] - 0s 8ms/step - loss: 0.9052 - accuracy: 0.3646 - val_loss: 0.9861 - val_accuracy: 0.2500\n",
      "Epoch 61/100\n",
      "3/3 [==============================] - 0s 7ms/step - loss: 0.9038 - accuracy: 0.3646 - val_loss: 0.9839 - val_accuracy: 0.2500\n",
      "Epoch 62/100\n",
      "3/3 [==============================] - 0s 8ms/step - loss: 0.9022 - accuracy: 0.3646 - val_loss: 0.9816 - val_accuracy: 0.2500\n",
      "Epoch 63/100\n",
      "3/3 [==============================] - 0s 8ms/step - loss: 0.9006 - accuracy: 0.3646 - val_loss: 0.9798 - val_accuracy: 0.2500\n",
      "Epoch 64/100\n",
      "3/3 [==============================] - 0s 7ms/step - loss: 0.8991 - accuracy: 0.3646 - val_loss: 0.9780 - val_accuracy: 0.2500\n",
      "Epoch 65/100\n",
      "3/3 [==============================] - 0s 8ms/step - loss: 0.8975 - accuracy: 0.3646 - val_loss: 0.9761 - val_accuracy: 0.2500\n",
      "Epoch 66/100\n",
      "3/3 [==============================] - 0s 7ms/step - loss: 0.8960 - accuracy: 0.3646 - val_loss: 0.9740 - val_accuracy: 0.2500\n",
      "Epoch 67/100\n",
      "3/3 [==============================] - 0s 8ms/step - loss: 0.8948 - accuracy: 0.3646 - val_loss: 0.9718 - val_accuracy: 0.2500\n",
      "Epoch 68/100\n",
      "3/3 [==============================] - 0s 7ms/step - loss: 0.8931 - accuracy: 0.3750 - val_loss: 0.9698 - val_accuracy: 0.2500\n",
      "Epoch 69/100\n",
      "3/3 [==============================] - 0s 8ms/step - loss: 0.8916 - accuracy: 0.3750 - val_loss: 0.9683 - val_accuracy: 0.2500\n",
      "Epoch 70/100\n",
      "3/3 [==============================] - 0s 8ms/step - loss: 0.8901 - accuracy: 0.3750 - val_loss: 0.9665 - val_accuracy: 0.2500\n",
      "Epoch 71/100\n",
      "3/3 [==============================] - 0s 8ms/step - loss: 0.8886 - accuracy: 0.3750 - val_loss: 0.9647 - val_accuracy: 0.2500\n",
      "Epoch 72/100\n",
      "3/3 [==============================] - 0s 8ms/step - loss: 0.8871 - accuracy: 0.3750 - val_loss: 0.9630 - val_accuracy: 0.2500\n",
      "Epoch 73/100\n",
      "3/3 [==============================] - 0s 7ms/step - loss: 0.8857 - accuracy: 0.3750 - val_loss: 0.9611 - val_accuracy: 0.2500\n",
      "Epoch 74/100\n",
      "3/3 [==============================] - 0s 7ms/step - loss: 0.8843 - accuracy: 0.3750 - val_loss: 0.9592 - val_accuracy: 0.2500\n",
      "Epoch 75/100\n",
      "3/3 [==============================] - 0s 8ms/step - loss: 0.8827 - accuracy: 0.3854 - val_loss: 0.9578 - val_accuracy: 0.2500\n",
      "Epoch 76/100\n",
      "3/3 [==============================] - 0s 7ms/step - loss: 0.8814 - accuracy: 0.3854 - val_loss: 0.9558 - val_accuracy: 0.2500\n",
      "Epoch 77/100\n",
      "3/3 [==============================] - 0s 7ms/step - loss: 0.8800 - accuracy: 0.3958 - val_loss: 0.9545 - val_accuracy: 0.2500\n",
      "Epoch 78/100\n",
      "3/3 [==============================] - 0s 8ms/step - loss: 0.8784 - accuracy: 0.3854 - val_loss: 0.9528 - val_accuracy: 0.2500\n",
      "Epoch 79/100\n",
      "3/3 [==============================] - 0s 7ms/step - loss: 0.8770 - accuracy: 0.3854 - val_loss: 0.9507 - val_accuracy: 0.2500\n",
      "Epoch 80/100\n",
      "3/3 [==============================] - 0s 8ms/step - loss: 0.8754 - accuracy: 0.3958 - val_loss: 0.9491 - val_accuracy: 0.2500\n",
      "Epoch 81/100\n",
      "3/3 [==============================] - 0s 8ms/step - loss: 0.8740 - accuracy: 0.3958 - val_loss: 0.9473 - val_accuracy: 0.2500\n",
      "Epoch 82/100\n",
      "3/3 [==============================] - 0s 7ms/step - loss: 0.8726 - accuracy: 0.3958 - val_loss: 0.9459 - val_accuracy: 0.2500\n",
      "Epoch 83/100\n",
      "3/3 [==============================] - 0s 7ms/step - loss: 0.8712 - accuracy: 0.3958 - val_loss: 0.9438 - val_accuracy: 0.2500\n",
      "Epoch 84/100\n",
      "3/3 [==============================] - 0s 8ms/step - loss: 0.8697 - accuracy: 0.3958 - val_loss: 0.9420 - val_accuracy: 0.2500\n",
      "Epoch 85/100\n",
      "3/3 [==============================] - 0s 7ms/step - loss: 0.8684 - accuracy: 0.3958 - val_loss: 0.9400 - val_accuracy: 0.2500\n",
      "Epoch 86/100\n",
      "3/3 [==============================] - 0s 8ms/step - loss: 0.8668 - accuracy: 0.3958 - val_loss: 0.9386 - val_accuracy: 0.2500\n",
      "Epoch 87/100\n",
      "3/3 [==============================] - 0s 8ms/step - loss: 0.8653 - accuracy: 0.3958 - val_loss: 0.9370 - val_accuracy: 0.2500\n",
      "Epoch 88/100\n",
      "3/3 [==============================] - 0s 7ms/step - loss: 0.8640 - accuracy: 0.3958 - val_loss: 0.9352 - val_accuracy: 0.2500\n",
      "Epoch 89/100\n",
      "3/3 [==============================] - 0s 8ms/step - loss: 0.8625 - accuracy: 0.3958 - val_loss: 0.9337 - val_accuracy: 0.2500\n",
      "Epoch 90/100\n",
      "3/3 [==============================] - 0s 7ms/step - loss: 0.8612 - accuracy: 0.3958 - val_loss: 0.9322 - val_accuracy: 0.2500\n",
      "Epoch 91/100\n",
      "3/3 [==============================] - 0s 8ms/step - loss: 0.8597 - accuracy: 0.3958 - val_loss: 0.9302 - val_accuracy: 0.2500\n",
      "Epoch 92/100\n",
      "3/3 [==============================] - 0s 7ms/step - loss: 0.8583 - accuracy: 0.3958 - val_loss: 0.9282 - val_accuracy: 0.2500\n",
      "Epoch 93/100\n",
      "3/3 [==============================] - 0s 8ms/step - loss: 0.8568 - accuracy: 0.3958 - val_loss: 0.9267 - val_accuracy: 0.2500\n",
      "Epoch 94/100\n",
      "3/3 [==============================] - 0s 8ms/step - loss: 0.8554 - accuracy: 0.3958 - val_loss: 0.9249 - val_accuracy: 0.2917\n",
      "Epoch 95/100\n",
      "3/3 [==============================] - 0s 7ms/step - loss: 0.8540 - accuracy: 0.3958 - val_loss: 0.9230 - val_accuracy: 0.3333\n",
      "Epoch 96/100\n",
      "3/3 [==============================] - 0s 7ms/step - loss: 0.8525 - accuracy: 0.4062 - val_loss: 0.9214 - val_accuracy: 0.3333\n",
      "Epoch 97/100\n",
      "3/3 [==============================] - 0s 8ms/step - loss: 0.8511 - accuracy: 0.4062 - val_loss: 0.9196 - val_accuracy: 0.3333\n",
      "Epoch 98/100\n",
      "3/3 [==============================] - 0s 7ms/step - loss: 0.8498 - accuracy: 0.4167 - val_loss: 0.9177 - val_accuracy: 0.3333\n",
      "Epoch 99/100\n",
      "3/3 [==============================] - 0s 7ms/step - loss: 0.8483 - accuracy: 0.4167 - val_loss: 0.9163 - val_accuracy: 0.3333\n",
      "Epoch 100/100\n",
      "3/3 [==============================] - 0s 7ms/step - loss: 0.8469 - accuracy: 0.4167 - val_loss: 0.9148 - val_accuracy: 0.3333\n"
     ]
    },
    {
     "data": {
      "text/plain": [
       "<keras.callbacks.History at 0x1d4f2cfce80>"
      ]
     },
     "execution_count": 34,
     "metadata": {},
     "output_type": "execute_result"
    }
   ],
   "source": [
    "model.fit(tr_list, train_y, validation_split=0.2, epochs=100, verbose=1)"
   ]
  }
 ],
 "metadata": {
  "colab": {
   "collapsed_sections": [],
   "name": "3_2_iris_connection_II.ipynb",
   "provenance": []
  },
  "kernelspec": {
   "display_name": "Python 3",
   "language": "python",
   "name": "python3"
  },
  "language_info": {
   "codemirror_mode": {
    "name": "ipython",
    "version": 3
   },
   "file_extension": ".py",
   "mimetype": "text/x-python",
   "name": "python",
   "nbconvert_exporter": "python",
   "pygments_lexer": "ipython3",
   "version": "3.8.8"
  }
 },
 "nbformat": 4,
 "nbformat_minor": 1
}
