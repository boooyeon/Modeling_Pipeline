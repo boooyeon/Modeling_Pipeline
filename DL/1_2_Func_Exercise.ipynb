{
 "cells": [
  {
   "cell_type": "markdown",
   "metadata": {
    "id": "keUh6GP3UUZK"
   },
   "source": [
    "# Keras로 Linear&Logistic Regression 조금 더 맛보기"
   ]
  },
  {
   "cell_type": "code",
   "execution_count": null,
   "metadata": {
    "id": "hHMVH_IRUffh"
   },
   "outputs": [],
   "source": [
    "import tensorflow as tf\n",
    "from tensorflow import keras\n",
    "\n",
    "import numpy as np\n",
    "import pandas as pd"
   ]
  },
  {
   "cell_type": "markdown",
   "metadata": {
    "id": "usKNktcHU7Ey"
   },
   "source": [
    "# Linear Regression on 쬐금 더 어려운 데이터"
   ]
  },
  {
   "cell_type": "code",
   "execution_count": null,
   "metadata": {
    "id": "BVEo_dbtWYRw"
   },
   "outputs": [],
   "source": [
    "from sklearn.datasets import load_boston"
   ]
  },
  {
   "cell_type": "code",
   "execution_count": null,
   "metadata": {
    "id": "bfEYfAjuWfYV"
   },
   "outputs": [],
   "source": [
    "boston = load_boston()"
   ]
  },
  {
   "cell_type": "code",
   "execution_count": null,
   "metadata": {
    "id": "kIYkQ9CmWglQ"
   },
   "outputs": [],
   "source": [
    "x = boston.data\n",
    "y = boston.target\n",
    "\n",
    "x.shape, y.shape"
   ]
  },
  {
   "cell_type": "code",
   "execution_count": null,
   "metadata": {
    "id": "wcp6Y_5LWiFz"
   },
   "outputs": [],
   "source": [
    "# 1번. 세션 클리어\n",
    "keras.backend.clear_session()\n",
    "\n",
    "# 2번. 레이어 엮기\n",
    "il = keras.layers.Input(shape=(13,))\n",
    "ol = keras.layers.Dense(1)(il)\n",
    "\n",
    "# 3번. 모델의 시작과 끝 지정\n",
    "model = keras.models.Model(il, ol)\n",
    "\n",
    "# 4번. 모델 컴파일\n",
    "model.compile(loss='mse', optimizer='adam')"
   ]
  },
  {
   "cell_type": "code",
   "execution_count": null,
   "metadata": {
    "id": "txzwhxFlWoxF"
   },
   "outputs": [],
   "source": [
    "model.fit(x, y, epochs=10, verbose=1)"
   ]
  },
  {
   "cell_type": "code",
   "execution_count": null,
   "metadata": {
    "id": "n-ApmxDN38LI"
   },
   "outputs": [],
   "source": [
    "model.predict(x)"
   ]
  },
  {
   "cell_type": "markdown",
   "metadata": {
    "id": "2WKWxkFcWuIS"
   },
   "source": [
    "# Logistic Regression 쬐금 더 어려운 데이터"
   ]
  },
  {
   "cell_type": "code",
   "execution_count": null,
   "metadata": {
    "id": "tcpM1yMBXPMV"
   },
   "outputs": [],
   "source": [
    "from sklearn.datasets import load_breast_cancer"
   ]
  },
  {
   "cell_type": "code",
   "execution_count": null,
   "metadata": {
    "id": "kywnQJlHXZCg"
   },
   "outputs": [],
   "source": [
    "cancer = load_breast_cancer()"
   ]
  },
  {
   "cell_type": "code",
   "execution_count": null,
   "metadata": {
    "id": "Fbgs4YZrXcCB"
   },
   "outputs": [],
   "source": [
    "x = cancer.data\n",
    "y = cancer.target\n",
    "\n",
    "# 모양 확인해볼 것"
   ]
  },
  {
   "cell_type": "code",
   "execution_count": null,
   "metadata": {
    "id": "8VXrsX4_Xgrl"
   },
   "outputs": [],
   "source": [
    "# 1번. 세션 클리어\n",
    "keras.backend.clear_session()\n",
    "\n",
    "# 2번. 레이어 엮기\n",
    "il = keras.layers.Input(shape=(30,))\n",
    "ol = keras.layers.Dense(1, activation='sigmoid')(il)\n",
    "\n",
    "# 3번. 모델의 시작과 끝 지정\n",
    "model = keras.models.Model(il, ol)\n",
    "\n",
    "# 4번. 모델 컴파일\n",
    "model.compile(loss='binary_crossentropy', metrics=['accuracy'],\n",
    "              optimizer='adam')"
   ]
  },
  {
   "cell_type": "code",
   "execution_count": null,
   "metadata": {
    "id": "IC3v2qfA4Dpf"
   },
   "outputs": [],
   "source": [
    "model.fit(x, y, epochs=10, verbose=1)"
   ]
  },
  {
   "cell_type": "code",
   "execution_count": null,
   "metadata": {
    "id": "U75n8WgT4Dpg"
   },
   "outputs": [],
   "source": [
    "model.predict(x)"
   ]
  }
 ],
 "metadata": {
  "colab": {
   "collapsed_sections": [],
   "name": "1_2_Func_Exercise_sol.ipynb",
   "provenance": []
  },
  "kernelspec": {
   "display_name": "Python 3",
   "language": "python",
   "name": "python3"
  },
  "language_info": {
   "codemirror_mode": {
    "name": "ipython",
    "version": 3
   },
   "file_extension": ".py",
   "mimetype": "text/x-python",
   "name": "python",
   "nbconvert_exporter": "python",
   "pygments_lexer": "ipython3",
   "version": "3.8.8"
  }
 },
 "nbformat": 4,
 "nbformat_minor": 1
}
