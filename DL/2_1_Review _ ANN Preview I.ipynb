{
 "cells": [
  {
   "cell_type": "markdown",
   "metadata": {
    "id": "T7kdgJptO50L"
   },
   "source": [
    "# 1일차 Review : 같은 문제 다시 풀어보기\n",
    "\n",
    "    학습은 10번으로!"
   ]
  },
  {
   "cell_type": "code",
   "execution_count": 1,
   "metadata": {
    "id": "3-aSPBeFQViu"
   },
   "outputs": [],
   "source": [
    "from sklearn.datasets import load_boston"
   ]
  },
  {
   "cell_type": "code",
   "execution_count": 2,
   "metadata": {
    "id": "Ke9zTQOpQo3R"
   },
   "outputs": [
    {
     "name": "stderr",
     "output_type": "stream",
     "text": [
      "C:\\ProgramData\\Anaconda3\\lib\\site-packages\\sklearn\\utils\\deprecation.py:87: FutureWarning: Function load_boston is deprecated; `load_boston` is deprecated in 1.0 and will be removed in 1.2.\n",
      "\n",
      "    The Boston housing prices dataset has an ethical problem. You can refer to\n",
      "    the documentation of this function for further details.\n",
      "\n",
      "    The scikit-learn maintainers therefore strongly discourage the use of this\n",
      "    dataset unless the purpose of the code is to study and educate about\n",
      "    ethical issues in data science and machine learning.\n",
      "\n",
      "    In this special case, you can fetch the dataset from the original\n",
      "    source::\n",
      "\n",
      "        import pandas as pd\n",
      "        import numpy as np\n",
      "\n",
      "\n",
      "        data_url = \"http://lib.stat.cmu.edu/datasets/boston\"\n",
      "        raw_df = pd.read_csv(data_url, sep=\"\\s+\", skiprows=22, header=None)\n",
      "        data = np.hstack([raw_df.values[::2, :], raw_df.values[1::2, :2]])\n",
      "        target = raw_df.values[1::2, 2]\n",
      "\n",
      "    Alternative datasets include the California housing dataset (i.e.\n",
      "    :func:`~sklearn.datasets.fetch_california_housing`) and the Ames housing\n",
      "    dataset. You can load the datasets as follows::\n",
      "\n",
      "        from sklearn.datasets import fetch_california_housing\n",
      "        housing = fetch_california_housing()\n",
      "\n",
      "    for the California housing dataset and::\n",
      "\n",
      "        from sklearn.datasets import fetch_openml\n",
      "        housing = fetch_openml(name=\"house_prices\", as_frame=True)\n",
      "\n",
      "    for the Ames housing dataset.\n",
      "    \n",
      "  warnings.warn(msg, category=FutureWarning)\n"
     ]
    }
   ],
   "source": [
    "boston = load_boston()"
   ]
  },
  {
   "cell_type": "code",
   "execution_count": 3,
   "metadata": {
    "id": "VElJM9LJQrdf"
   },
   "outputs": [],
   "source": [
    "x = boston.data\n",
    "y = boston.target"
   ]
  },
  {
   "cell_type": "code",
   "execution_count": 4,
   "metadata": {
    "id": "kVvDsvptQyQ_"
   },
   "outputs": [
    {
     "data": {
      "text/plain": [
       "((506, 13), (506,))"
      ]
     },
     "execution_count": 4,
     "metadata": {},
     "output_type": "execute_result"
    }
   ],
   "source": [
    "x.shape, y.shape"
   ]
  },
  {
   "cell_type": "code",
   "execution_count": 5,
   "metadata": {
    "id": "puqIL3FCRBs6"
   },
   "outputs": [],
   "source": [
    "#####################\n",
    "# 라이브러리 불러오기\n",
    "#####################\n",
    "import tensorflow as tf\n",
    "from tensorflow import keras\n",
    "\n",
    "from sklearn.model_selection import train_test_split"
   ]
  },
  {
   "cell_type": "code",
   "execution_count": 8,
   "metadata": {},
   "outputs": [],
   "source": [
    "x_train, x_test, y_train, y_test =\\\n",
    "        train_test_split(x, y, random_state=2022, test_size=0.2)"
   ]
  },
  {
   "cell_type": "code",
   "execution_count": 9,
   "metadata": {},
   "outputs": [
    {
     "data": {
      "text/plain": [
       "((404, 13), (404,))"
      ]
     },
     "execution_count": 9,
     "metadata": {},
     "output_type": "execute_result"
    }
   ],
   "source": [
    "x_train.shape, y_train.shape"
   ]
  },
  {
   "cell_type": "code",
   "execution_count": 10,
   "metadata": {
    "id": "broVdGpGbqrC"
   },
   "outputs": [
    {
     "name": "stdout",
     "output_type": "stream",
     "text": [
      "Model: \"sequential\"\n",
      "_________________________________________________________________\n",
      " Layer (type)                Output Shape              Param #   \n",
      "=================================================================\n",
      " dense (Dense)               (None, 1)                 14        \n",
      "                                                                 \n",
      "=================================================================\n",
      "Total params: 14\n",
      "Trainable params: 14\n",
      "Non-trainable params: 0\n",
      "_________________________________________________________________\n"
     ]
    }
   ],
   "source": [
    "########\n",
    "# 모델링 : Sequential API\n",
    "########\n",
    "\n",
    "# 1번 세션 클리어\n",
    "keras.backend.clear_session()\n",
    "\n",
    "# 2번 모델 선언 : 레이어 블록을 조립할 발판 생성\n",
    "model = keras.models.Sequential()\n",
    "\n",
    "# 3번 레이어 블록 조립 : .add()\n",
    "model.add( keras.layers.Input(shape=(13,)) )\n",
    "model.add( keras.layers.Dense(1) )\n",
    "\n",
    "# 4번 컴파일\n",
    "model.compile(loss='mse', optimizer=keras.optimizers.Adam(learning_rate=0.01) )\n",
    "\n",
    "# 양념\n",
    "model.summary()"
   ]
  },
  {
   "cell_type": "code",
   "execution_count": 11,
   "metadata": {
    "id": "4U3tZ7PvbljS"
   },
   "outputs": [
    {
     "name": "stdout",
     "output_type": "stream",
     "text": [
      "Epoch 1/10\n",
      "13/13 [==============================] - 0s 583us/step - loss: 31945.3887\n",
      "Epoch 2/10\n",
      "13/13 [==============================] - 0s 500us/step - loss: 9402.9277\n",
      "Epoch 3/10\n",
      "13/13 [==============================] - 0s 500us/step - loss: 5665.4580\n",
      "Epoch 4/10\n",
      "13/13 [==============================] - 0s 500us/step - loss: 4901.1270\n",
      "Epoch 5/10\n",
      "13/13 [==============================] - 0s 583us/step - loss: 3754.3335\n",
      "Epoch 6/10\n",
      "13/13 [==============================] - 0s 584us/step - loss: 2859.7905\n",
      "Epoch 7/10\n",
      "13/13 [==============================] - 0s 500us/step - loss: 2254.5581\n",
      "Epoch 8/10\n",
      "13/13 [==============================] - 0s 583us/step - loss: 1738.2661\n",
      "Epoch 9/10\n",
      "13/13 [==============================] - 0s 500us/step - loss: 1368.9333\n",
      "Epoch 10/10\n",
      "13/13 [==============================] - 0s 417us/step - loss: 1079.3507\n"
     ]
    },
    {
     "data": {
      "text/plain": [
       "<keras.callbacks.History at 0x174bbe814f0>"
      ]
     },
     "execution_count": 11,
     "metadata": {},
     "output_type": "execute_result"
    }
   ],
   "source": [
    "###########\n",
    "# 모델 학습\n",
    "###########\n",
    "\n",
    "model.fit(x_train, y_train, epochs=10, verbose=1)"
   ]
  },
  {
   "cell_type": "code",
   "execution_count": 13,
   "metadata": {
    "id": "prSYRU-_AlYz"
   },
   "outputs": [],
   "source": [
    "###########\n",
    "# 모델 예측\n",
    "###########\n",
    "\n",
    "y_pred = model.predict(x_test)"
   ]
  },
  {
   "cell_type": "code",
   "execution_count": 14,
   "metadata": {},
   "outputs": [
    {
     "data": {
      "text/plain": [
       "array([22.934908 , 23.643503 ,  7.2012143, 17.286657 , 36.241936 ],\n",
       "      dtype=float32)"
      ]
     },
     "execution_count": 14,
     "metadata": {},
     "output_type": "execute_result"
    }
   ],
   "source": [
    "y_pred[:5].reshape(-1)"
   ]
  },
  {
   "cell_type": "code",
   "execution_count": 16,
   "metadata": {},
   "outputs": [
    {
     "data": {
      "text/plain": [
       "array([20.1, 11.9, 20.6, 33.2, 20.8])"
      ]
     },
     "execution_count": 16,
     "metadata": {},
     "output_type": "execute_result"
    }
   ],
   "source": [
    "y_test[:5].reshape(-1)"
   ]
  },
  {
   "cell_type": "markdown",
   "metadata": {
    "id": "0xVNQT9V-Iev"
   },
   "source": [
    "# 히든 레이어 추가하여 모델링!\n",
    "\n",
    "    히든 레이어 2개를 추가하여 다시 모델링!\n",
    "    히든 레이어 노드 수 : 32\n",
    "    히든 레이어 activation = 'relu'"
   ]
  },
  {
   "cell_type": "code",
   "execution_count": 17,
   "metadata": {},
   "outputs": [
    {
     "data": {
      "text/plain": [
       "((404, 13), (404,))"
      ]
     },
     "execution_count": 17,
     "metadata": {},
     "output_type": "execute_result"
    }
   ],
   "source": [
    "x_train.shape, y_train.shape"
   ]
  },
  {
   "cell_type": "code",
   "execution_count": 18,
   "metadata": {
    "id": "y3PTU3m--xMa"
   },
   "outputs": [
    {
     "name": "stdout",
     "output_type": "stream",
     "text": [
      "Model: \"sequential\"\n",
      "_________________________________________________________________\n",
      " Layer (type)                Output Shape              Param #   \n",
      "=================================================================\n",
      " dense (Dense)               (None, 32)                448       \n",
      "                                                                 \n",
      " dense_1 (Dense)             (None, 32)                1056      \n",
      "                                                                 \n",
      " output_layer (Dense)        (None, 1)                 33        \n",
      "                                                                 \n",
      "=================================================================\n",
      "Total params: 1,537\n",
      "Trainable params: 1,537\n",
      "Non-trainable params: 0\n",
      "_________________________________________________________________\n"
     ]
    }
   ],
   "source": [
    "########\n",
    "# 모델링 : Sequential API\n",
    "########\n",
    "\n",
    "# 1번 세션 클리어\n",
    "keras.backend.clear_session()\n",
    "\n",
    "# 2번 모델 발판 선언\n",
    "model = keras.models.Sequential()\n",
    "\n",
    "# 3번 모델 블록 조립\n",
    "model.add( keras.layers.Input(shape=(13,), name='input_layer') )\n",
    "model.add( keras.layers.Dense(32, activation='relu') )\n",
    "model.add( keras.layers.Dense(32, activation='relu') )\n",
    "model.add( keras.layers.Dense(1, name='output_layer'))\n",
    "\n",
    "# 4번 컴파일\n",
    "model.compile(loss='mse', optimizer=keras.optimizers.Adam(learning_rate=0.01))\n",
    "\n",
    "# 양념\n",
    "model.summary()"
   ]
  },
  {
   "cell_type": "code",
   "execution_count": 19,
   "metadata": {
    "id": "HbvMea71-xMb"
   },
   "outputs": [
    {
     "name": "stdout",
     "output_type": "stream",
     "text": [
      "Epoch 1/10\n",
      "13/13 [==============================] - 0s 667us/step - loss: 1575.4532\n",
      "Epoch 2/10\n",
      "13/13 [==============================] - 0s 584us/step - loss: 185.1937\n",
      "Epoch 3/10\n",
      "13/13 [==============================] - 0s 583us/step - loss: 71.9873\n",
      "Epoch 4/10\n",
      "13/13 [==============================] - 0s 618us/step - loss: 67.8257\n",
      "Epoch 5/10\n",
      "13/13 [==============================] - 0s 584us/step - loss: 64.3515\n",
      "Epoch 6/10\n",
      "13/13 [==============================] - 0s 500us/step - loss: 64.0996\n",
      "Epoch 7/10\n",
      "13/13 [==============================] - 0s 583us/step - loss: 60.6719\n",
      "Epoch 8/10\n",
      "13/13 [==============================] - 0s 583us/step - loss: 59.4374\n",
      "Epoch 9/10\n",
      "13/13 [==============================] - 0s 583us/step - loss: 60.6191\n",
      "Epoch 10/10\n",
      "13/13 [==============================] - 0s 583us/step - loss: 57.8535\n"
     ]
    },
    {
     "data": {
      "text/plain": [
       "<keras.callbacks.History at 0x174c43f33d0>"
      ]
     },
     "execution_count": 19,
     "metadata": {},
     "output_type": "execute_result"
    }
   ],
   "source": [
    "###########\n",
    "# 모델 학습\n",
    "###########\n",
    "\n",
    "model.fit(x_train, y_train, epochs=10, verbose=1)"
   ]
  },
  {
   "cell_type": "code",
   "execution_count": 21,
   "metadata": {
    "id": "_BZMmR5--xMb"
   },
   "outputs": [
    {
     "data": {
      "text/plain": [
       "array([22.02787 , 15.325505, 17.008503, 30.425903, 14.221279],\n",
       "      dtype=float32)"
      ]
     },
     "execution_count": 21,
     "metadata": {},
     "output_type": "execute_result"
    }
   ],
   "source": [
    "###########\n",
    "# 모델 예측\n",
    "###########\n",
    "\n",
    "y_pred = model.predict(x_test)\n",
    "\n",
    "y_pred[:5].reshape(-1)"
   ]
  },
  {
   "cell_type": "code",
   "execution_count": 22,
   "metadata": {},
   "outputs": [
    {
     "data": {
      "text/plain": [
       "array([20.1, 11.9, 20.6, 33.2, 20.8])"
      ]
     },
     "execution_count": 22,
     "metadata": {},
     "output_type": "execute_result"
    }
   ],
   "source": [
    "y_test[:5]"
   ]
  }
 ],
 "metadata": {
  "colab": {
   "collapsed_sections": [
    "0xVNQT9V-Iev"
   ],
   "name": "2_1_Review _ ANN Preview I.ipynb",
   "provenance": []
  },
  "kernelspec": {
   "display_name": "Python 3",
   "language": "python",
   "name": "python3"
  },
  "language_info": {
   "codemirror_mode": {
    "name": "ipython",
    "version": 3
   },
   "file_extension": ".py",
   "mimetype": "text/x-python",
   "name": "python",
   "nbconvert_exporter": "python",
   "pygments_lexer": "ipython3",
   "version": "3.8.8"
  }
 },
 "nbformat": 4,
 "nbformat_minor": 1
}
