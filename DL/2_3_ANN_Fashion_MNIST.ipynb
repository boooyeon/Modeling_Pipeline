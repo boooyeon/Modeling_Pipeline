{
 "cells": [
  {
   "cell_type": "markdown",
   "metadata": {
    "id": "UdrP_vI3QcNd"
   },
   "source": [
    "# ANN\n",
    "\n",
    "# Fashion MNIST\n",
    "\n",
    "\n",
    "<br> By Margaret Maynard-Reid, 4/24/2018\n",
    "\n",
    "![alt text](https://github.com/margaretmz/deep-learning/blob/master/images/modern%20dl_fash-mnist_keras.png?raw=1)"
   ]
  },
  {
   "cell_type": "markdown",
   "metadata": {
    "id": "XLMRPLVCFwEc"
   },
   "source": [
    "## Why Fashion-MNIST?\n",
    "\n",
    "\n",
    "*   MNIST is too easy\n",
    "*   MNIST is overused\n",
    "*   MNIST can not represent modern Computer Vision tasks\n",
    "\n",
    "Read more about the Fashion-MINST dataset in this paper [here](https://arxiv.org/abs/1708.07747) (**Fashion-MNIST: a Novel Image Dataset for Benchmarking Machine Learning Algorithms**)\n",
    "\n"
   ]
  },
  {
   "cell_type": "code",
   "execution_count": 16,
   "metadata": {
    "id": "d44TznbgZZgm"
   },
   "outputs": [
    {
     "name": "stdout",
     "output_type": "stream",
     "text": [
      "x_train shape: (60000, 28, 28) y_train shape: (60000,)\n"
     ]
    }
   ],
   "source": [
    "import tensorflow as tf\n",
    "from tensorflow import keras\n",
    "\n",
    "import numpy as np\n",
    "import matplotlib.pyplot as plt\n",
    "\n",
    "# Load the fashion-mnist pre-shuffled train data and test data\n",
    "(x_train, y_train), (x_test, y_test) = keras.datasets.fashion_mnist.load_data()\n",
    "\n",
    "print(\"x_train shape:\", x_train.shape, \"y_train shape:\", y_train.shape)"
   ]
  },
  {
   "cell_type": "markdown",
   "metadata": {
    "id": "tWORMSC8FDR4"
   },
   "source": [
    "## Visualize the data 반복실행 해보자"
   ]
  },
  {
   "cell_type": "code",
   "execution_count": 17,
   "metadata": {
    "id": "aFe4wHGRFKle"
   },
   "outputs": [
    {
     "name": "stdout",
     "output_type": "stream",
     "text": [
      "x_train shape: (60000, 28, 28) y_train shape: (60000,)\n",
      "60000 train set\n",
      "10000 test set\n",
      "y = 7 Sneaker\n"
     ]
    },
    {
     "data": {
      "text/plain": [
       "<matplotlib.image.AxesImage at 0x15ebc2e68e0>"
      ]
     },
     "execution_count": 17,
     "metadata": {},
     "output_type": "execute_result"
    },
    {
     "data": {
      "image/png": "[encoded data removed]",
      "text/plain": [
       "<Figure size 432x288 with 1 Axes>"
      ]
     },
     "metadata": {
      "needs_background": "light"
     },
     "output_type": "display_data"
    }
   ],
   "source": [
    "# Print training set shape - note there are 60,000 training data of image size of 28x28, 60,000 train labels)\n",
    "print(\"x_train shape:\", x_train.shape, \"y_train shape:\", y_train.shape)\n",
    "\n",
    "# Print the number of training and test datasets\n",
    "print(x_train.shape[0], 'train set')\n",
    "print(x_test.shape[0], 'test set')\n",
    "\n",
    "# Define the text labels\n",
    "fashion_mnist_labels = [\"T-shirt/top\",  # index 0\n",
    "                        \"Trouser\",      # index 1\n",
    "                        \"Pullover\",     # index 2 \n",
    "                        \"Dress\",        # index 3 \n",
    "                        \"Coat\",         # index 4\n",
    "                        \"Sandal\",       # index 5\n",
    "                        \"Shirt\",        # index 6 \n",
    "                        \"Sneaker\",      # index 7 \n",
    "                        \"Bag\",          # index 8 \n",
    "                        \"Ankle boot\"]   # index 9\n",
    "\n",
    "# Image index, you can pick any number between 0 and 59,999\n",
    "img_index = np.random.randint(0, 59999)\n",
    "# y_train contains the lables, ranging from 0 to 9\n",
    "label_index = y_train[img_index]\n",
    "# Print the label, for example 2 Pullover\n",
    "print (\"y = \" + str(label_index) + \" \" +(fashion_mnist_labels[label_index]))\n",
    "# # Show one of the images from the training dataset\n",
    "plt.imshow(x_train[img_index])"
   ]
  },
  {
   "cell_type": "code",
   "execution_count": 18,
   "metadata": {
    "id": "XqUyZdcCe6Ja"
   },
   "outputs": [
    {
     "name": "stdout",
     "output_type": "stream",
     "text": [
      "(60000, 28, 28) (10000, 28, 28) (60000,) (10000,)\n"
     ]
    }
   ],
   "source": [
    "print(x_train.shape, x_test.shape, y_train.shape, y_test.shape)"
   ]
  },
  {
   "cell_type": "markdown",
   "metadata": {
    "id": "Zx-Ee6LHZZgt"
   },
   "source": [
    "##  코딩 task!\n",
    "\n",
    "1. 전처리\n",
    "    * x : sc_____\n",
    "    * y : _______ encoding\n",
    "\n",
    "2. 모델링\n",
    "    * model에 모델 선언\n",
    "    * Input layer에 어떻게 전달할 것인지 고민 필요\n",
    "    * 쭈우우우욱 늘려주는 레이어를 사용할 것 (F______)\n",
    "    * 히든레이어는 최소 3개를 쓸 것!\n",
    "    * 노드 수는 512개를 기본으로 시작\n",
    "    * 자유롭게 바꿔가며 성능을 볼 것\n",
    "\n",
    "3. 학습\n",
    "    * epochs=50, validation_split=0.2\n",
    "    * early stopping"
   ]
  },
  {
   "cell_type": "code",
   "execution_count": 19,
   "metadata": {
    "id": "oRTnVHB7uiHz"
   },
   "outputs": [
    {
     "data": {
      "text/plain": [
       "(255, 0)"
      ]
     },
     "execution_count": 19,
     "metadata": {},
     "output_type": "execute_result"
    }
   ],
   "source": [
    "#############\n",
    "# 전처리 #\n",
    "#############\n",
    "x_train.max(), x_train.min()"
   ]
  },
  {
   "cell_type": "code",
   "execution_count": 20,
   "metadata": {},
   "outputs": [],
   "source": [
    "max_n = x_train.max() # \n",
    "\n",
    "x_train = x_train / max_n\n",
    "x_test = x_test / max_n"
   ]
  },
  {
   "cell_type": "code",
   "execution_count": 21,
   "metadata": {},
   "outputs": [
    {
     "data": {
      "text/plain": [
       "(1.0, 0.0)"
      ]
     },
     "execution_count": 21,
     "metadata": {},
     "output_type": "execute_result"
    }
   ],
   "source": [
    "x_train.max(), x_train.min()"
   ]
  },
  {
   "cell_type": "code",
   "execution_count": 22,
   "metadata": {
    "scrolled": false
   },
   "outputs": [
    {
     "data": {
      "text/plain": [
       "(60000,)"
      ]
     },
     "execution_count": 22,
     "metadata": {},
     "output_type": "execute_result"
    }
   ],
   "source": [
    "y_train.shape"
   ]
  },
  {
   "cell_type": "code",
   "execution_count": 23,
   "metadata": {},
   "outputs": [],
   "source": [
    "y_len = len(set(y_train))"
   ]
  },
  {
   "cell_type": "code",
   "execution_count": 24,
   "metadata": {},
   "outputs": [],
   "source": [
    "from tensorflow.keras.utils import to_categorical"
   ]
  },
  {
   "cell_type": "code",
   "execution_count": 25,
   "metadata": {},
   "outputs": [],
   "source": [
    "y_train = to_categorical(y_train, y_len)\n",
    "y_test = to_categorical(y_test, y_len)"
   ]
  },
  {
   "cell_type": "code",
   "execution_count": 26,
   "metadata": {},
   "outputs": [
    {
     "data": {
      "text/plain": [
       "((60000, 28, 28), (60000, 10))"
      ]
     },
     "execution_count": 26,
     "metadata": {},
     "output_type": "execute_result"
    }
   ],
   "source": [
    "x_train.shape, y_train.shape"
   ]
  },
  {
   "cell_type": "code",
   "execution_count": 27,
   "metadata": {
    "id": "uVSPMrDEe4im"
   },
   "outputs": [
    {
     "name": "stdout",
     "output_type": "stream",
     "text": [
      "Model: \"sequential\"\n",
      "_________________________________________________________________\n",
      " Layer (type)                Output Shape              Param #   \n",
      "=================================================================\n",
      " flatten (Flatten)           (None, 784)               0         \n",
      "                                                                 \n",
      " dense (Dense)               (None, 512)               401920    \n",
      "                                                                 \n",
      " dense_1 (Dense)             (None, 512)               262656    \n",
      "                                                                 \n",
      " dense_2 (Dense)             (None, 512)               262656    \n",
      "                                                                 \n",
      " dense_3 (Dense)             (None, 256)               131328    \n",
      "                                                                 \n",
      " dense_4 (Dense)             (None, 128)               32896     \n",
      "                                                                 \n",
      " dense_5 (Dense)             (None, 64)                8256      \n",
      "                                                                 \n",
      " dense_6 (Dense)             (None, 10)                650       \n",
      "                                                                 \n",
      "=================================================================\n",
      "Total params: 1,100,362\n",
      "Trainable params: 1,100,362\n",
      "Non-trainable params: 0\n",
      "_________________________________________________________________\n"
     ]
    }
   ],
   "source": [
    "##################\n",
    "# Sequential API #\n",
    "##################\n",
    "\n",
    "# 1번. 세션 클리어\n",
    "keras.backend.clear_session()\n",
    "\n",
    "# 2번. 모델 블록 발판 생성\n",
    "model = keras.models.Sequential()\n",
    "\n",
    "# 3번. 모델 블록 조립\n",
    "model.add(keras.layers.Input(shape=(x_train[1].shape)))\n",
    "model.add(keras.layers.Flatten())\n",
    "model.add(keras.layers.Dense(512, activation='relu'))\n",
    "model.add(keras.layers.Dense(512, activation='relu'))\n",
    "model.add(keras.layers.Dense(512, activation='relu'))\n",
    "model.add(keras.layers.Dense(256, activation='relu'))\n",
    "model.add(keras.layers.Dense(128, activation='relu'))\n",
    "model.add(keras.layers.Dense(64, activation='relu'))\n",
    "model.add(keras.layers.Dense(10, activation='softmax'))\n",
    "\n",
    "# 4번. 컴파일\n",
    "model.compile(loss=keras.losses.categorical_crossentropy, metrics=['accuracy'], optimizer='adam')\n",
    "\n",
    "# 양념\n",
    "model.summary()"
   ]
  },
  {
   "cell_type": "code",
   "execution_count": 28,
   "metadata": {
    "id": "gQ1GIsfafE07"
   },
   "outputs": [
    {
     "name": "stdout",
     "output_type": "stream",
     "text": [
      "Epoch 1/100\n",
      "750/750 [==============================] - 16s 18ms/step - loss: 0.5236 - accuracy: 0.8091 - val_loss: 0.4515 - val_accuracy: 0.8327\n",
      "Epoch 2/100\n",
      "750/750 [==============================] - 13s 17ms/step - loss: 0.3818 - accuracy: 0.8616 - val_loss: 0.3809 - val_accuracy: 0.8665\n",
      "Epoch 3/100\n",
      "750/750 [==============================] - 13s 17ms/step - loss: 0.3478 - accuracy: 0.8719 - val_loss: 0.3548 - val_accuracy: 0.8732\n",
      "Epoch 4/100\n",
      "750/750 [==============================] - 13s 17ms/step - loss: 0.3190 - accuracy: 0.8846 - val_loss: 0.3595 - val_accuracy: 0.8696\n",
      "Epoch 5/100\n",
      "750/750 [==============================] - 13s 18ms/step - loss: 0.3079 - accuracy: 0.8882 - val_loss: 0.3615 - val_accuracy: 0.8781\n",
      "Epoch 6/100\n",
      "750/750 [==============================] - 13s 17ms/step - loss: 0.2893 - accuracy: 0.8936 - val_loss: 0.3482 - val_accuracy: 0.8808\n",
      "Epoch 7/100\n",
      "750/750 [==============================] - 13s 17ms/step - loss: 0.2781 - accuracy: 0.8968 - val_loss: 0.3318 - val_accuracy: 0.8834\n",
      "Epoch 8/100\n",
      "750/750 [==============================] - 13s 17ms/step - loss: 0.2657 - accuracy: 0.9010 - val_loss: 0.3480 - val_accuracy: 0.8790\n",
      "Epoch 9/100\n",
      "750/750 [==============================] - 12s 17ms/step - loss: 0.2629 - accuracy: 0.9033 - val_loss: 0.3325 - val_accuracy: 0.8889\n",
      "Epoch 10/100\n",
      "750/750 [==============================] - 13s 17ms/step - loss: 0.2447 - accuracy: 0.9097 - val_loss: 0.3248 - val_accuracy: 0.8873\n",
      "Epoch 11/100\n",
      "750/750 [==============================] - 13s 17ms/step - loss: 0.2381 - accuracy: 0.9101 - val_loss: 0.3282 - val_accuracy: 0.8874\n",
      "Epoch 12/100\n",
      "750/750 [==============================] - 14s 18ms/step - loss: 0.2306 - accuracy: 0.9143 - val_loss: 0.3424 - val_accuracy: 0.8888\n",
      "Epoch 13/100\n",
      "750/750 [==============================] - 14s 18ms/step - loss: 0.2188 - accuracy: 0.9178 - val_loss: 0.3685 - val_accuracy: 0.8795\n",
      "Epoch 14/100\n",
      "750/750 [==============================] - 13s 18ms/step - loss: 0.2188 - accuracy: 0.9175 - val_loss: 0.3446 - val_accuracy: 0.8876\n",
      "Epoch 15/100\n",
      "750/750 [==============================] - 13s 18ms/step - loss: 0.2107 - accuracy: 0.9208 - val_loss: 0.3689 - val_accuracy: 0.8887\n",
      "Epoch 16/100\n",
      "750/750 [==============================] - 13s 18ms/step - loss: 0.1987 - accuracy: 0.9246 - val_loss: 0.3569 - val_accuracy: 0.8916\n",
      "Epoch 17/100\n",
      "750/750 [==============================] - 13s 17ms/step - loss: 0.1966 - accuracy: 0.9253 - val_loss: 0.3716 - val_accuracy: 0.8902\n",
      "Epoch 18/100\n",
      "750/750 [==============================] - 13s 18ms/step - loss: 0.1899 - accuracy: 0.9287 - val_loss: 0.3557 - val_accuracy: 0.8908\n",
      "Epoch 19/100\n",
      "750/750 [==============================] - 13s 17ms/step - loss: 0.1858 - accuracy: 0.9287 - val_loss: 0.3451 - val_accuracy: 0.8928\n",
      "Epoch 20/100\n",
      "749/750 [============================>.] - ETA: 0s - loss: 0.1731 - accuracy: 0.9342Restoring model weights from the end of the best epoch: 10.\n",
      "750/750 [==============================] - 13s 17ms/step - loss: 0.1731 - accuracy: 0.9342 - val_loss: 0.3480 - val_accuracy: 0.8943\n",
      "Epoch 20: early stopping\n"
     ]
    }
   ],
   "source": [
    "#################\n",
    "# 모델 학습하기 #\n",
    "#################\n",
    "from tensorflow.keras.callbacks import EarlyStopping\n",
    "\n",
    "es = EarlyStopping(monitor='val_loss',\n",
    "                   min_delta=0,\n",
    "                   patience=10,\n",
    "                   verbose=1,\n",
    "                   restore_best_weights=True)\n",
    "\n",
    "hist = model.fit(x_train, y_train, epochs=100, verbose=1,\n",
    "                batch_size=64, validation_split=0.2, callbacks=[es])"
   ]
  },
  {
   "cell_type": "markdown",
   "metadata": {
    "id": "oJv7XEk10bOv"
   },
   "source": [
    "## Visualize prediction\n",
    "\n",
    "위에서 지키라고 한 사항들 안지키면 동작을 안할껄...?"
   ]
  },
  {
   "cell_type": "code",
   "execution_count": 29,
   "metadata": {
    "id": "L_B3UemLh6ON"
   },
   "outputs": [
    {
     "name": "stdout",
     "output_type": "stream",
     "text": [
      "\n",
      " Test accuracy: 0.8801000118255615\n"
     ]
    }
   ],
   "source": [
    "score = model.evaluate(x_test, y_test, verbose=0)\n",
    "\n",
    "# Print test accuracy\n",
    "print('\\n', 'Test accuracy:', score[1])\n",
    "y_hat = model.predict(x_test).argmax(axis=1)"
   ]
  },
  {
   "cell_type": "code",
   "execution_count": 30,
   "metadata": {
    "id": "QwNmlfIC0YxM"
   },
   "outputs": [
    {
     "data": {
      "image/png": "[encoded data removed]",
      "text/plain": [
       "<Figure size 1440x576 with 15 Axes>"
      ]
     },
     "metadata": {},
     "output_type": "display_data"
    }
   ],
   "source": [
    "####### 반복실행해보자\n",
    "\n",
    "# Plot a random sample of 10 test images, their predicted labels and ground truth\n",
    "figure = plt.figure(figsize=(20, 8))\n",
    "for i, index in enumerate(np.random.choice(x_test.shape[0], size=15, replace=False)):\n",
    "    ax = figure.add_subplot(3, 5, i + 1, xticks=[], yticks=[])\n",
    "    # Display each image\n",
    "    ax.imshow(np.squeeze(x_test[index].reshape([28,-1]) ) )\n",
    "    predict_index = y_hat[index]\n",
    "    true_index = y_test[index].argmax(axis=0)\n",
    "    # Set the title for each image\n",
    "    ax.set_title(\"{} ({})\".format(fashion_mnist_labels[predict_index], \n",
    "                                  fashion_mnist_labels[true_index]),\n",
    "                                  color=(\"green\" if predict_index == true_index else \"red\"))"
   ]
  }
 ],
 "metadata": {
  "accelerator": "GPU",
  "colab": {
   "collapsed_sections": [],
   "name": "2_3_ANN_Fashion_MNIST.ipynb",
   "provenance": []
  },
  "kernelspec": {
   "display_name": "Python 3",
   "language": "python",
   "name": "python3"
  },
  "language_info": {
   "codemirror_mode": {
    "name": "ipython",
    "version": 3
   },
   "file_extension": ".py",
   "mimetype": "text/x-python",
   "name": "python",
   "nbconvert_exporter": "python",
   "pygments_lexer": "ipython3",
   "version": "3.8.8"
  }
 },
 "nbformat": 4,
 "nbformat_minor": 1
}
