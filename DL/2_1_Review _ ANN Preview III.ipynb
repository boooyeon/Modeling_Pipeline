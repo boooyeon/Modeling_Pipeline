{
 "cells": [
  {
   "cell_type": "markdown",
   "metadata": {
    "id": "T7kdgJptO50L"
   },
   "source": [
    "# 1일차 Review : 같은 문제 다시 풀어보기\n",
    "\n",
    "    학습은 10번으로!"
   ]
  },
  {
   "cell_type": "code",
   "execution_count": 1,
   "metadata": {
    "id": "k-kIj84JQdd3"
   },
   "outputs": [],
   "source": [
    "from sklearn.datasets import load_iris"
   ]
  },
  {
   "cell_type": "code",
   "execution_count": 2,
   "metadata": {
    "id": "1F1kZLpEQof_"
   },
   "outputs": [],
   "source": [
    "iris = load_iris()"
   ]
  },
  {
   "cell_type": "code",
   "execution_count": 3,
   "metadata": {
    "id": "4uNPvbD_QyUh"
   },
   "outputs": [],
   "source": [
    "x = iris.data\n",
    "y = iris.target"
   ]
  },
  {
   "cell_type": "code",
   "execution_count": 4,
   "metadata": {
    "id": "6DfGrWUsQ3WC"
   },
   "outputs": [
    {
     "data": {
      "text/plain": [
       "((150, 4), (150,))"
      ]
     },
     "execution_count": 4,
     "metadata": {},
     "output_type": "execute_result"
    }
   ],
   "source": [
    "x.shape, y.shape"
   ]
  },
  {
   "cell_type": "code",
   "execution_count": 5,
   "metadata": {
    "id": "puqIL3FCRBs6"
   },
   "outputs": [],
   "source": [
    "#####################\n",
    "# 라이브러리 불러오기\n",
    "#####################\n",
    "import tensorflow as tf\n",
    "from tensorflow import keras"
   ]
  },
  {
   "cell_type": "code",
   "execution_count": 6,
   "metadata": {
    "id": "TY0leKum_owG"
   },
   "outputs": [],
   "source": [
    "#######################\n",
    "# 어떤 전처리 작업 필요\n",
    "# Hint : y.shape\n",
    "#######################\n",
    "# training set / test set 구분\n",
    "from sklearn.model_selection import train_test_split\n",
    "\n",
    "# y에 대한 One-Hot Encoding\n",
    "from tensorflow.keras.utils import to_categorical"
   ]
  },
  {
   "cell_type": "code",
   "execution_count": 7,
   "metadata": {
    "scrolled": true
   },
   "outputs": [],
   "source": [
    "x_train, x_test, y_train, y_test =\\\n",
    "        train_test_split(x,y, random_state=2022, test_size=0.2)"
   ]
  },
  {
   "cell_type": "code",
   "execution_count": 8,
   "metadata": {},
   "outputs": [
    {
     "data": {
      "text/plain": [
       "((120, 4), (120,))"
      ]
     },
     "execution_count": 8,
     "metadata": {},
     "output_type": "execute_result"
    }
   ],
   "source": [
    "x_train.shape, y_train.shape"
   ]
  },
  {
   "cell_type": "code",
   "execution_count": 9,
   "metadata": {},
   "outputs": [],
   "source": [
    "y_len = len(set(y_train))"
   ]
  },
  {
   "cell_type": "code",
   "execution_count": 10,
   "metadata": {},
   "outputs": [],
   "source": [
    "y_train = to_categorical(y_train, y_len)\n",
    "y_test = to_categorical(y_test, y_len)"
   ]
  },
  {
   "cell_type": "code",
   "execution_count": 27,
   "metadata": {},
   "outputs": [
    {
     "data": {
      "text/plain": [
       "((120, 4), (120, 3))"
      ]
     },
     "execution_count": 27,
     "metadata": {},
     "output_type": "execute_result"
    }
   ],
   "source": [
    "x_train.shape, y_train.shape"
   ]
  },
  {
   "cell_type": "code",
   "execution_count": 11,
   "metadata": {
    "id": "broVdGpGbqrC",
    "scrolled": false
   },
   "outputs": [
    {
     "name": "stdout",
     "output_type": "stream",
     "text": [
      "Model: \"sequential\"\n",
      "_________________________________________________________________\n",
      " Layer (type)                Output Shape              Param #   \n",
      "=================================================================\n",
      " dense (Dense)               (None, 3)                 15        \n",
      "                                                                 \n",
      "=================================================================\n",
      "Total params: 15\n",
      "Trainable params: 15\n",
      "Non-trainable params: 0\n",
      "_________________________________________________________________\n"
     ]
    }
   ],
   "source": [
    "########\n",
    "# 모델링 : Sequential API style\n",
    "########\n",
    "\n",
    "# 1번 청소 : 이미 만들어진 모델이 있다면 그 모델을 없애줘\n",
    "keras.backend.clear_session()\n",
    "\n",
    "# 2번 모델 선언\n",
    "model_1 = keras.models.Sequential()\n",
    "\n",
    "# 3번 모델 블록 조립\n",
    "model_1.add( keras.layers.Input(shape=(4,)) )\n",
    "model_1.add( keras.layers.Dense(3, activation='softmax') )\n",
    "\n",
    "## 오리지널 Sequential API\n",
    "# model.add( keras.layers.Dense(1, input_shape=(1,)) )\n",
    "\n",
    "# 4번 컴파일 \n",
    "model_1.compile(loss=keras.losses.categorical_crossentropy, metrics=['accuracy'], optimizer='adam')\n",
    " \n",
    "# model summary\n",
    "model_1.summary()"
   ]
  },
  {
   "cell_type": "code",
   "execution_count": 12,
   "metadata": {},
   "outputs": [],
   "source": [
    "from tensorflow.keras.backend import clear_session\n",
    "from tensorflow.keras.models import Model\n",
    "from tensorflow.keras.layers import Input, Dense\n",
    "from tensorflow.keras.losses import categorical_crossentropy\n",
    "from tensorflow.keras.activations import softmax"
   ]
  },
  {
   "cell_type": "code",
   "execution_count": 13,
   "metadata": {},
   "outputs": [
    {
     "name": "stdout",
     "output_type": "stream",
     "text": [
      "Model: \"model\"\n",
      "_________________________________________________________________\n",
      " Layer (type)                Output Shape              Param #   \n",
      "=================================================================\n",
      " input_layer (InputLayer)    [(None, 4)]               0         \n",
      "                                                                 \n",
      " softmax_layer (Dense)       (None, 3)                 15        \n",
      "                                                                 \n",
      "=================================================================\n",
      "Total params: 15\n",
      "Trainable params: 15\n",
      "Non-trainable params: 0\n",
      "_________________________________________________________________\n"
     ]
    }
   ],
   "source": [
    "###########\n",
    "# 모델링 : Functional.API\n",
    "###########\n",
    "\n",
    "# 1번. 세션 클리어\n",
    "clear_session()\n",
    "\n",
    "# 2번. 레이어 사슬처럼 엮기\n",
    "il = Input(shape=(4,), name='input_layer')\n",
    "ol = Dense(3, softmax, name='softmax_layer')(il)\n",
    "\n",
    "#3번. 모델의 시작과 끝 지정\n",
    "model_2 = Model(il, ol)\n",
    "\n",
    "#4번. 컴파일\n",
    "model_2.compile(loss=categorical_crossentropy, metrics=['accuracy'], optimizer='adam')\n",
    "\n",
    "#양념\n",
    "model_2.summary()"
   ]
  },
  {
   "cell_type": "code",
   "execution_count": 14,
   "metadata": {
    "id": "4U3tZ7PvbljS"
   },
   "outputs": [
    {
     "name": "stdout",
     "output_type": "stream",
     "text": [
      "Epoch 1/10\n",
      "3/3 [==============================] - 2s 302ms/step - loss: 6.3833 - accuracy: 0.3333 - val_loss: 7.2716 - val_accuracy: 0.2083\n",
      "Epoch 2/10\n",
      "3/3 [==============================] - 0s 24ms/step - loss: 6.3301 - accuracy: 0.3333 - val_loss: 7.2100 - val_accuracy: 0.2083\n",
      "Epoch 3/10\n",
      "3/3 [==============================] - 0s 22ms/step - loss: 6.2804 - accuracy: 0.3333 - val_loss: 7.1481 - val_accuracy: 0.2083\n",
      "Epoch 4/10\n",
      "3/3 [==============================] - 0s 22ms/step - loss: 6.2262 - accuracy: 0.3333 - val_loss: 7.0866 - val_accuracy: 0.2083\n",
      "Epoch 5/10\n",
      "3/3 [==============================] - 0s 22ms/step - loss: 6.1753 - accuracy: 0.3333 - val_loss: 7.0248 - val_accuracy: 0.2083\n",
      "Epoch 6/10\n",
      "3/3 [==============================] - 0s 29ms/step - loss: 6.1207 - accuracy: 0.3333 - val_loss: 6.9635 - val_accuracy: 0.2083\n",
      "Epoch 7/10\n",
      "3/3 [==============================] - 0s 25ms/step - loss: 6.0697 - accuracy: 0.3333 - val_loss: 6.9018 - val_accuracy: 0.2083\n",
      "Epoch 8/10\n",
      "3/3 [==============================] - 0s 23ms/step - loss: 6.0161 - accuracy: 0.3333 - val_loss: 6.8404 - val_accuracy: 0.2083\n",
      "Epoch 9/10\n",
      "3/3 [==============================] - 0s 22ms/step - loss: 5.9634 - accuracy: 0.3333 - val_loss: 6.7790 - val_accuracy: 0.2083\n",
      "Epoch 10/10\n",
      "3/3 [==============================] - 0s 22ms/step - loss: 5.9110 - accuracy: 0.3333 - val_loss: 6.7176 - val_accuracy: 0.2083\n"
     ]
    },
    {
     "data": {
      "text/plain": [
       "<keras.callbacks.History at 0x1d42bb84e80>"
      ]
     },
     "execution_count": 14,
     "metadata": {},
     "output_type": "execute_result"
    }
   ],
   "source": [
    "###########\n",
    "# 모델 학습\n",
    "###########\n",
    "model_2.fit(x_train, y_train, epochs=10, verbose=1, validation_split=0.2)"
   ]
  },
  {
   "cell_type": "code",
   "execution_count": 15,
   "metadata": {
    "id": "prSYRU-_AlYz"
   },
   "outputs": [
    {
     "data": {
      "text/plain": [
       "array([[7.8147709e-01, 3.6567631e-08, 2.1852294e-01],\n",
       "       [7.6909667e-01, 3.2317404e-09, 2.3090334e-01],\n",
       "       [5.8730787e-01, 1.8966042e-05, 4.1267312e-01],\n",
       "       [7.7340043e-01, 4.3136307e-08, 2.2659956e-01],\n",
       "       [6.1184853e-01, 9.3925000e-06, 3.8814205e-01]], dtype=float32)"
      ]
     },
     "execution_count": 15,
     "metadata": {},
     "output_type": "execute_result"
    }
   ],
   "source": [
    "###########\n",
    "# 모델 예측\n",
    "###########\n",
    "y_pred_1 = model_1.predict(x_test)\n",
    "y_pred_1[:5]"
   ]
  },
  {
   "cell_type": "code",
   "execution_count": 16,
   "metadata": {},
   "outputs": [
    {
     "data": {
      "text/plain": [
       "array([[0],\n",
       "       [0],\n",
       "       [0],\n",
       "       [0],\n",
       "       [0]], dtype=int64)"
      ]
     },
     "execution_count": 16,
     "metadata": {},
     "output_type": "execute_result"
    }
   ],
   "source": [
    "y_pred_1[:5].argmax(axis=1).reshape(-1,1)"
   ]
  },
  {
   "cell_type": "markdown",
   "metadata": {
    "id": "0xVNQT9V-Iev"
   },
   "source": [
    "# 히든 레이어 추가하여 모델링! (Functional API)\n",
    "\n",
    "    히든 레이어 2개를 추가하여 다시 모델링!\n",
    "    히든 레이어 노드 수 : 32\n",
    "    히든 레이어 activation = 'relu'"
   ]
  },
  {
   "cell_type": "code",
   "execution_count": 17,
   "metadata": {},
   "outputs": [
    {
     "data": {
      "text/plain": [
       "((120, 4), (120, 3))"
      ]
     },
     "execution_count": 17,
     "metadata": {},
     "output_type": "execute_result"
    }
   ],
   "source": [
    "x_train.shape, y_train.shape"
   ]
  },
  {
   "cell_type": "code",
   "execution_count": 18,
   "metadata": {
    "id": "HbvMea71-xMb",
    "scrolled": false
   },
   "outputs": [
    {
     "name": "stdout",
     "output_type": "stream",
     "text": [
      "Model: \"model\"\n",
      "_________________________________________________________________\n",
      " Layer (type)                Output Shape              Param #   \n",
      "=================================================================\n",
      " input_1 (InputLayer)        [(None, 4)]               0         \n",
      "                                                                 \n",
      " dense (Dense)               (None, 32)                160       \n",
      "                                                                 \n",
      " dense_1 (Dense)             (None, 32)                1056      \n",
      "                                                                 \n",
      " dense_2 (Dense)             (None, 3)                 99        \n",
      "                                                                 \n",
      "=================================================================\n",
      "Total params: 1,315\n",
      "Trainable params: 1,315\n",
      "Non-trainable params: 0\n",
      "_________________________________________________________________\n"
     ]
    }
   ],
   "source": [
    "########\n",
    "# 모델링\n",
    "########\n",
    "# 1번. 세션 클리어\n",
    "clear_session()\n",
    "\n",
    "# 2번. 레이어 사슬처럼 엮기\n",
    "il = Input(shape=(4,))\n",
    "h1 = Dense(32, activation='relu')(il)\n",
    "h1 = Dense(32, activation='relu')(h1)\n",
    "ol = Dense(3, activation=softmax)(h1)\n",
    "\n",
    "# 3번. 모델의 시작과 끝 지정\n",
    "model = Model(il, ol)\n",
    "\n",
    "# 4번. 컴파일\n",
    "model.compile(loss=categorical_crossentropy, metrics=['accuracy'], optimizer='adam')\n",
    "\n",
    "# 양념\n",
    "model.summary()"
   ]
  },
  {
   "cell_type": "markdown",
   "metadata": {},
   "source": [
    "###### - Param(160)의 의미: (4+1) * 32 / Param(1056)의 의미: (32+1) * 32\n",
    "#### - Feature Representation: 기존의 연결된 것으로부터 새로운 특징을 추출하는것 (Feature Learning, Representation Learning이라고도 함)\n",
    "- 첫번째 hidden layer의 노드 갯수(32)의 의미: input layer에서 새로운 feature를 32개 뽑아낸다 즉, new feature\n",
    "- 두번째 hidden layer의 노드 갯수(32)의 의미: 첫번째 hidden layer에서 새로운 feature를 32개 뽑아낸다. 즉, low level에서 32개의 새로운 feature를 뽑아 내는 것"
   ]
  },
  {
   "cell_type": "code",
   "execution_count": 19,
   "metadata": {},
   "outputs": [],
   "source": [
    "## Early Stopping\n",
    "from tensorflow.keras.callbacks import EarlyStopping"
   ]
  },
  {
   "cell_type": "code",
   "execution_count": 20,
   "metadata": {},
   "outputs": [],
   "source": [
    "\n",
    "\n",
    "es = EarlyStopping(monitor='val_loss',         # 무엇을 관찰할래? (loss는 낮을 수록 좋음)\n",
    "                   min_delta=0,                # 0이면, 최소한 나빠지지만 않으면 괜찮아\n",
    "                   patience=3,                 # monitor가 개선되지 않는 거를 몇 번 참을래?\n",
    "                   verbose=1,                  # Early Stopping 된 것을 보여줍니다\n",
    "                   restore_best_weights=True) # 중요! 최적의 학습 가중치를 모델에 전달합니다 "
   ]
  },
  {
   "cell_type": "code",
   "execution_count": 21,
   "metadata": {},
   "outputs": [
    {
     "name": "stdout",
     "output_type": "stream",
     "text": [
      "Epoch 1/500\n",
      "3/3 [==============================] - 2s 234ms/step - loss: 1.5954 - accuracy: 0.3229 - val_loss: 1.3755 - val_accuracy: 0.4167\n",
      "Epoch 2/500\n",
      "3/3 [==============================] - 0s 36ms/step - loss: 1.4376 - accuracy: 0.2917 - val_loss: 1.2889 - val_accuracy: 0.1250\n",
      "Epoch 3/500\n",
      "3/3 [==============================] - 0s 36ms/step - loss: 1.3157 - accuracy: 0.0312 - val_loss: 1.2395 - val_accuracy: 0.0000e+00\n",
      "Epoch 4/500\n",
      "3/3 [==============================] - 0s 37ms/step - loss: 1.2425 - accuracy: 0.0729 - val_loss: 1.2200 - val_accuracy: 0.3333\n",
      "Epoch 5/500\n",
      "3/3 [==============================] - 0s 54ms/step - loss: 1.2084 - accuracy: 0.3229 - val_loss: 1.2153 - val_accuracy: 0.3750\n",
      "Epoch 6/500\n",
      "3/3 [==============================] - 0s 46ms/step - loss: 1.1801 - accuracy: 0.3542 - val_loss: 1.2087 - val_accuracy: 0.4167\n",
      "Epoch 7/500\n",
      "3/3 [==============================] - 0s 24ms/step - loss: 1.1450 - accuracy: 0.5208 - val_loss: 1.2074 - val_accuracy: 0.4583\n",
      "Epoch 8/500\n",
      "3/3 [==============================] - 0s 25ms/step - loss: 1.1314 - accuracy: 0.5312 - val_loss: 1.2022 - val_accuracy: 0.4583\n",
      "Epoch 9/500\n",
      "3/3 [==============================] - 0s 23ms/step - loss: 1.1134 - accuracy: 0.4896 - val_loss: 1.1843 - val_accuracy: 0.3333\n",
      "Epoch 10/500\n",
      "3/3 [==============================] - 0s 23ms/step - loss: 1.0927 - accuracy: 0.4375 - val_loss: 1.1566 - val_accuracy: 0.3333\n",
      "Epoch 11/500\n",
      "3/3 [==============================] - 0s 27ms/step - loss: 1.0708 - accuracy: 0.3750 - val_loss: 1.1287 - val_accuracy: 0.2917\n",
      "Epoch 12/500\n",
      "3/3 [==============================] - 0s 50ms/step - loss: 1.0469 - accuracy: 0.3542 - val_loss: 1.0986 - val_accuracy: 0.2917\n",
      "Epoch 13/500\n",
      "3/3 [==============================] - 0s 42ms/step - loss: 1.0255 - accuracy: 0.3646 - val_loss: 1.0637 - val_accuracy: 0.3333\n",
      "Epoch 14/500\n",
      "3/3 [==============================] - 0s 45ms/step - loss: 1.0002 - accuracy: 0.4479 - val_loss: 1.0301 - val_accuracy: 0.4583\n",
      "Epoch 15/500\n",
      "3/3 [==============================] - 0s 43ms/step - loss: 0.9778 - accuracy: 0.5000 - val_loss: 0.9995 - val_accuracy: 0.4167\n",
      "Epoch 16/500\n",
      "3/3 [==============================] - 0s 45ms/step - loss: 0.9570 - accuracy: 0.5833 - val_loss: 0.9697 - val_accuracy: 0.7083\n",
      "Epoch 17/500\n",
      "3/3 [==============================] - 0s 54ms/step - loss: 0.9368 - accuracy: 0.7708 - val_loss: 0.9429 - val_accuracy: 0.7917\n",
      "Epoch 18/500\n",
      "3/3 [==============================] - 0s 47ms/step - loss: 0.9169 - accuracy: 0.8333 - val_loss: 0.9184 - val_accuracy: 0.8750\n",
      "Epoch 19/500\n",
      "3/3 [==============================] - 0s 48ms/step - loss: 0.8959 - accuracy: 0.8646 - val_loss: 0.8970 - val_accuracy: 0.8750\n",
      "Epoch 20/500\n",
      "3/3 [==============================] - 0s 56ms/step - loss: 0.8774 - accuracy: 0.8958 - val_loss: 0.8779 - val_accuracy: 0.8333\n",
      "Epoch 21/500\n",
      "3/3 [==============================] - 0s 40ms/step - loss: 0.8640 - accuracy: 0.8542 - val_loss: 0.8598 - val_accuracy: 0.8750\n",
      "Epoch 22/500\n",
      "3/3 [==============================] - 0s 25ms/step - loss: 0.8439 - accuracy: 0.8438 - val_loss: 0.8387 - val_accuracy: 0.9167\n",
      "Epoch 23/500\n",
      "3/3 [==============================] - 0s 22ms/step - loss: 0.8268 - accuracy: 0.8854 - val_loss: 0.8191 - val_accuracy: 0.8750\n",
      "Epoch 24/500\n",
      "3/3 [==============================] - 0s 25ms/step - loss: 0.8107 - accuracy: 0.8958 - val_loss: 0.8022 - val_accuracy: 0.8750\n",
      "Epoch 25/500\n",
      "3/3 [==============================] - 0s 30ms/step - loss: 0.7943 - accuracy: 0.8958 - val_loss: 0.7834 - val_accuracy: 0.8750\n",
      "Epoch 26/500\n",
      "3/3 [==============================] - 0s 27ms/step - loss: 0.7782 - accuracy: 0.9062 - val_loss: 0.7630 - val_accuracy: 0.8750\n",
      "Epoch 27/500\n",
      "3/3 [==============================] - 0s 26ms/step - loss: 0.7592 - accuracy: 0.9167 - val_loss: 0.7408 - val_accuracy: 0.8750\n",
      "Epoch 28/500\n",
      "3/3 [==============================] - 0s 23ms/step - loss: 0.7385 - accuracy: 0.9062 - val_loss: 0.7179 - val_accuracy: 0.8750\n",
      "Epoch 29/500\n",
      "3/3 [==============================] - 0s 25ms/step - loss: 0.7179 - accuracy: 0.9167 - val_loss: 0.6947 - val_accuracy: 0.8750\n",
      "Epoch 30/500\n",
      "3/3 [==============================] - 0s 23ms/step - loss: 0.6976 - accuracy: 0.9062 - val_loss: 0.6710 - val_accuracy: 0.9167\n",
      "Epoch 31/500\n",
      "3/3 [==============================] - 0s 25ms/step - loss: 0.6745 - accuracy: 0.9167 - val_loss: 0.6444 - val_accuracy: 0.9583\n",
      "Epoch 32/500\n",
      "3/3 [==============================] - 0s 25ms/step - loss: 0.6565 - accuracy: 0.9375 - val_loss: 0.6224 - val_accuracy: 0.8750\n",
      "Epoch 33/500\n",
      "3/3 [==============================] - 0s 23ms/step - loss: 0.6407 - accuracy: 0.9167 - val_loss: 0.6048 - val_accuracy: 0.8750\n",
      "Epoch 34/500\n",
      "3/3 [==============================] - 0s 23ms/step - loss: 0.6212 - accuracy: 0.9375 - val_loss: 0.5930 - val_accuracy: 0.9583\n",
      "Epoch 35/500\n",
      "3/3 [==============================] - 0s 34ms/step - loss: 0.6053 - accuracy: 0.9062 - val_loss: 0.5821 - val_accuracy: 0.9167\n",
      "Epoch 36/500\n",
      "3/3 [==============================] - 0s 37ms/step - loss: 0.5890 - accuracy: 0.8750 - val_loss: 0.5650 - val_accuracy: 0.9167\n",
      "Epoch 37/500\n",
      "3/3 [==============================] - 0s 40ms/step - loss: 0.5727 - accuracy: 0.8854 - val_loss: 0.5464 - val_accuracy: 0.9583\n",
      "Epoch 38/500\n",
      "3/3 [==============================] - 0s 35ms/step - loss: 0.5570 - accuracy: 0.9375 - val_loss: 0.5288 - val_accuracy: 0.9583\n",
      "Epoch 39/500\n",
      "3/3 [==============================] - 0s 25ms/step - loss: 0.5436 - accuracy: 0.9479 - val_loss: 0.5129 - val_accuracy: 0.9583\n",
      "Epoch 40/500\n",
      "3/3 [==============================] - 0s 21ms/step - loss: 0.5301 - accuracy: 0.9479 - val_loss: 0.4993 - val_accuracy: 0.9583\n",
      "Epoch 41/500\n",
      "3/3 [==============================] - 0s 16ms/step - loss: 0.5158 - accuracy: 0.9583 - val_loss: 0.4886 - val_accuracy: 0.9583\n",
      "Epoch 42/500\n",
      "3/3 [==============================] - 0s 22ms/step - loss: 0.5044 - accuracy: 0.9375 - val_loss: 0.4793 - val_accuracy: 0.9583\n",
      "Epoch 43/500\n",
      "3/3 [==============================] - 0s 46ms/step - loss: 0.4944 - accuracy: 0.9167 - val_loss: 0.4686 - val_accuracy: 0.9583\n",
      "Epoch 44/500\n",
      "3/3 [==============================] - 0s 47ms/step - loss: 0.4801 - accuracy: 0.9271 - val_loss: 0.4537 - val_accuracy: 0.9583\n",
      "Epoch 45/500\n",
      "3/3 [==============================] - 0s 58ms/step - loss: 0.4713 - accuracy: 0.9479 - val_loss: 0.4386 - val_accuracy: 1.0000\n",
      "Epoch 46/500\n",
      "3/3 [==============================] - 0s 35ms/step - loss: 0.4607 - accuracy: 0.9375 - val_loss: 0.4283 - val_accuracy: 1.0000\n",
      "Epoch 47/500\n",
      "3/3 [==============================] - 0s 22ms/step - loss: 0.4491 - accuracy: 0.9583 - val_loss: 0.4220 - val_accuracy: 0.9583\n",
      "Epoch 48/500\n",
      "3/3 [==============================] - 0s 21ms/step - loss: 0.4410 - accuracy: 0.9583 - val_loss: 0.4184 - val_accuracy: 0.9583\n",
      "Epoch 49/500\n",
      "3/3 [==============================] - 0s 23ms/step - loss: 0.4321 - accuracy: 0.9375 - val_loss: 0.4075 - val_accuracy: 0.9583\n",
      "Epoch 50/500\n",
      "3/3 [==============================] - 0s 50ms/step - loss: 0.4218 - accuracy: 0.9583 - val_loss: 0.3961 - val_accuracy: 1.0000\n",
      "Epoch 51/500\n",
      "3/3 [==============================] - 0s 54ms/step - loss: 0.4132 - accuracy: 0.9583 - val_loss: 0.3863 - val_accuracy: 1.0000\n",
      "Epoch 52/500\n",
      "3/3 [==============================] - 0s 39ms/step - loss: 0.4056 - accuracy: 0.9583 - val_loss: 0.3800 - val_accuracy: 1.0000\n",
      "Epoch 53/500\n",
      "3/3 [==============================] - 0s 24ms/step - loss: 0.3974 - accuracy: 0.9583 - val_loss: 0.3725 - val_accuracy: 1.0000\n",
      "Epoch 54/500\n",
      "3/3 [==============================] - 0s 24ms/step - loss: 0.3900 - accuracy: 0.9583 - val_loss: 0.3659 - val_accuracy: 1.0000\n",
      "Epoch 55/500\n",
      "3/3 [==============================] - 0s 23ms/step - loss: 0.3841 - accuracy: 0.9583 - val_loss: 0.3610 - val_accuracy: 1.0000\n",
      "Epoch 56/500\n",
      "3/3 [==============================] - 0s 28ms/step - loss: 0.3759 - accuracy: 0.9583 - val_loss: 0.3532 - val_accuracy: 1.0000\n",
      "Epoch 57/500\n",
      "3/3 [==============================] - 0s 43ms/step - loss: 0.3707 - accuracy: 0.9583 - val_loss: 0.3477 - val_accuracy: 1.0000\n",
      "Epoch 58/500\n",
      "3/3 [==============================] - 0s 49ms/step - loss: 0.3646 - accuracy: 0.9583 - val_loss: 0.3390 - val_accuracy: 1.0000\n",
      "Epoch 59/500\n"
     ]
    },
    {
     "name": "stdout",
     "output_type": "stream",
     "text": [
      "3/3 [==============================] - 0s 57ms/step - loss: 0.3574 - accuracy: 0.9583 - val_loss: 0.3328 - val_accuracy: 1.0000\n",
      "Epoch 60/500\n",
      "3/3 [==============================] - 0s 24ms/step - loss: 0.3505 - accuracy: 0.9583 - val_loss: 0.3285 - val_accuracy: 1.0000\n",
      "Epoch 61/500\n",
      "3/3 [==============================] - 0s 22ms/step - loss: 0.3449 - accuracy: 0.9583 - val_loss: 0.3252 - val_accuracy: 1.0000\n",
      "Epoch 62/500\n",
      "3/3 [==============================] - 0s 21ms/step - loss: 0.3401 - accuracy: 0.9583 - val_loss: 0.3215 - val_accuracy: 1.0000\n",
      "Epoch 63/500\n",
      "3/3 [==============================] - 0s 22ms/step - loss: 0.3355 - accuracy: 0.9583 - val_loss: 0.3156 - val_accuracy: 1.0000\n",
      "Epoch 64/500\n",
      "3/3 [==============================] - 0s 23ms/step - loss: 0.3279 - accuracy: 0.9583 - val_loss: 0.3065 - val_accuracy: 1.0000\n",
      "Epoch 65/500\n",
      "3/3 [==============================] - 0s 23ms/step - loss: 0.3247 - accuracy: 0.9688 - val_loss: 0.3003 - val_accuracy: 0.9583\n",
      "Epoch 66/500\n",
      "3/3 [==============================] - 0s 22ms/step - loss: 0.3194 - accuracy: 0.9688 - val_loss: 0.2967 - val_accuracy: 1.0000\n",
      "Epoch 67/500\n",
      "3/3 [==============================] - 0s 21ms/step - loss: 0.3136 - accuracy: 0.9583 - val_loss: 0.2945 - val_accuracy: 1.0000\n",
      "Epoch 68/500\n",
      "3/3 [==============================] - 0s 25ms/step - loss: 0.3079 - accuracy: 0.9583 - val_loss: 0.2902 - val_accuracy: 1.0000\n",
      "Epoch 69/500\n",
      "3/3 [==============================] - 0s 24ms/step - loss: 0.3033 - accuracy: 0.9583 - val_loss: 0.2845 - val_accuracy: 1.0000\n",
      "Epoch 70/500\n",
      "3/3 [==============================] - 0s 25ms/step - loss: 0.2984 - accuracy: 0.9583 - val_loss: 0.2799 - val_accuracy: 1.0000\n",
      "Epoch 71/500\n",
      "3/3 [==============================] - 0s 33ms/step - loss: 0.2938 - accuracy: 0.9583 - val_loss: 0.2746 - val_accuracy: 1.0000\n",
      "Epoch 72/500\n",
      "3/3 [==============================] - 0s 35ms/step - loss: 0.2896 - accuracy: 0.9688 - val_loss: 0.2707 - val_accuracy: 1.0000\n",
      "Epoch 73/500\n",
      "3/3 [==============================] - 0s 26ms/step - loss: 0.2846 - accuracy: 0.9688 - val_loss: 0.2675 - val_accuracy: 1.0000\n",
      "Epoch 74/500\n",
      "3/3 [==============================] - 0s 23ms/step - loss: 0.2816 - accuracy: 0.9583 - val_loss: 0.2627 - val_accuracy: 1.0000\n",
      "Epoch 75/500\n",
      "3/3 [==============================] - 0s 24ms/step - loss: 0.2761 - accuracy: 0.9688 - val_loss: 0.2598 - val_accuracy: 1.0000\n",
      "Epoch 76/500\n",
      "3/3 [==============================] - 0s 23ms/step - loss: 0.2719 - accuracy: 0.9688 - val_loss: 0.2559 - val_accuracy: 1.0000\n",
      "Epoch 77/500\n",
      "3/3 [==============================] - 0s 25ms/step - loss: 0.2678 - accuracy: 0.9688 - val_loss: 0.2517 - val_accuracy: 1.0000\n",
      "Epoch 78/500\n",
      "3/3 [==============================] - 0s 30ms/step - loss: 0.2658 - accuracy: 0.9688 - val_loss: 0.2467 - val_accuracy: 1.0000\n",
      "Epoch 79/500\n",
      "3/3 [==============================] - 0s 22ms/step - loss: 0.2625 - accuracy: 0.9688 - val_loss: 0.2451 - val_accuracy: 1.0000\n",
      "Epoch 80/500\n",
      "3/3 [==============================] - 0s 22ms/step - loss: 0.2562 - accuracy: 0.9688 - val_loss: 0.2410 - val_accuracy: 1.0000\n",
      "Epoch 81/500\n",
      "3/3 [==============================] - 0s 21ms/step - loss: 0.2523 - accuracy: 0.9688 - val_loss: 0.2367 - val_accuracy: 1.0000\n",
      "Epoch 82/500\n",
      "3/3 [==============================] - 0s 22ms/step - loss: 0.2494 - accuracy: 0.9688 - val_loss: 0.2328 - val_accuracy: 1.0000\n",
      "Epoch 83/500\n",
      "3/3 [==============================] - 0s 21ms/step - loss: 0.2457 - accuracy: 0.9688 - val_loss: 0.2296 - val_accuracy: 1.0000\n",
      "Epoch 84/500\n",
      "3/3 [==============================] - 0s 23ms/step - loss: 0.2436 - accuracy: 0.9688 - val_loss: 0.2284 - val_accuracy: 1.0000\n",
      "Epoch 85/500\n",
      "3/3 [==============================] - 0s 23ms/step - loss: 0.2434 - accuracy: 0.9688 - val_loss: 0.2229 - val_accuracy: 1.0000\n",
      "Epoch 86/500\n",
      "3/3 [==============================] - 0s 22ms/step - loss: 0.2374 - accuracy: 0.9688 - val_loss: 0.2218 - val_accuracy: 1.0000\n",
      "Epoch 87/500\n",
      "3/3 [==============================] - 0s 22ms/step - loss: 0.2324 - accuracy: 0.9688 - val_loss: 0.2174 - val_accuracy: 1.0000\n",
      "Epoch 88/500\n",
      "3/3 [==============================] - 0s 22ms/step - loss: 0.2284 - accuracy: 0.9688 - val_loss: 0.2139 - val_accuracy: 1.0000\n",
      "Epoch 89/500\n",
      "3/3 [==============================] - 0s 24ms/step - loss: 0.2254 - accuracy: 0.9688 - val_loss: 0.2111 - val_accuracy: 1.0000\n",
      "Epoch 90/500\n",
      "3/3 [==============================] - 0s 24ms/step - loss: 0.2238 - accuracy: 0.9688 - val_loss: 0.2077 - val_accuracy: 1.0000\n",
      "Epoch 91/500\n",
      "3/3 [==============================] - 0s 27ms/step - loss: 0.2213 - accuracy: 0.9688 - val_loss: 0.2049 - val_accuracy: 1.0000\n",
      "Epoch 92/500\n",
      "3/3 [==============================] - 0s 26ms/step - loss: 0.2171 - accuracy: 0.9688 - val_loss: 0.2039 - val_accuracy: 1.0000\n",
      "Epoch 93/500\n",
      "3/3 [==============================] - 0s 28ms/step - loss: 0.2142 - accuracy: 0.9688 - val_loss: 0.2005 - val_accuracy: 1.0000\n",
      "Epoch 94/500\n",
      "3/3 [==============================] - 0s 22ms/step - loss: 0.2115 - accuracy: 0.9688 - val_loss: 0.1975 - val_accuracy: 1.0000\n",
      "Epoch 95/500\n",
      "3/3 [==============================] - 0s 24ms/step - loss: 0.2079 - accuracy: 0.9688 - val_loss: 0.1948 - val_accuracy: 1.0000\n",
      "Epoch 96/500\n",
      "3/3 [==============================] - 0s 25ms/step - loss: 0.2080 - accuracy: 0.9688 - val_loss: 0.1917 - val_accuracy: 1.0000\n",
      "Epoch 97/500\n",
      "3/3 [==============================] - 0s 25ms/step - loss: 0.2034 - accuracy: 0.9688 - val_loss: 0.1900 - val_accuracy: 1.0000\n",
      "Epoch 98/500\n",
      "3/3 [==============================] - 0s 24ms/step - loss: 0.2012 - accuracy: 0.9688 - val_loss: 0.1870 - val_accuracy: 1.0000\n",
      "Epoch 99/500\n",
      "3/3 [==============================] - 0s 22ms/step - loss: 0.1977 - accuracy: 0.9688 - val_loss: 0.1853 - val_accuracy: 1.0000\n",
      "Epoch 100/500\n",
      "3/3 [==============================] - 0s 21ms/step - loss: 0.1954 - accuracy: 0.9688 - val_loss: 0.1820 - val_accuracy: 1.0000\n",
      "Epoch 101/500\n",
      "3/3 [==============================] - 0s 22ms/step - loss: 0.1925 - accuracy: 0.9688 - val_loss: 0.1785 - val_accuracy: 1.0000\n",
      "Epoch 102/500\n",
      "3/3 [==============================] - 0s 23ms/step - loss: 0.1888 - accuracy: 0.9688 - val_loss: 0.1755 - val_accuracy: 1.0000\n",
      "Epoch 103/500\n",
      "3/3 [==============================] - 0s 26ms/step - loss: 0.1857 - accuracy: 0.9688 - val_loss: 0.1729 - val_accuracy: 1.0000\n",
      "Epoch 104/500\n",
      "3/3 [==============================] - 0s 27ms/step - loss: 0.1839 - accuracy: 0.9688 - val_loss: 0.1710 - val_accuracy: 1.0000\n",
      "Epoch 105/500\n",
      "3/3 [==============================] - 0s 46ms/step - loss: 0.1809 - accuracy: 0.9688 - val_loss: 0.1680 - val_accuracy: 1.0000\n",
      "Epoch 106/500\n",
      "3/3 [==============================] - 0s 42ms/step - loss: 0.1777 - accuracy: 0.9688 - val_loss: 0.1655 - val_accuracy: 1.0000\n",
      "Epoch 107/500\n",
      "3/3 [==============================] - 0s 35ms/step - loss: 0.1756 - accuracy: 0.9688 - val_loss: 0.1631 - val_accuracy: 1.0000\n",
      "Epoch 108/500\n",
      "3/3 [==============================] - 0s 38ms/step - loss: 0.1730 - accuracy: 0.9688 - val_loss: 0.1605 - val_accuracy: 1.0000\n",
      "Epoch 109/500\n",
      "3/3 [==============================] - 0s 47ms/step - loss: 0.1747 - accuracy: 0.9792 - val_loss: 0.1588 - val_accuracy: 1.0000\n",
      "Epoch 110/500\n",
      "3/3 [==============================] - 0s 43ms/step - loss: 0.1686 - accuracy: 0.9688 - val_loss: 0.1563 - val_accuracy: 1.0000\n",
      "Epoch 111/500\n",
      "3/3 [==============================] - 0s 42ms/step - loss: 0.1668 - accuracy: 0.9688 - val_loss: 0.1552 - val_accuracy: 1.0000\n",
      "Epoch 112/500\n",
      "3/3 [==============================] - 0s 38ms/step - loss: 0.1645 - accuracy: 0.9688 - val_loss: 0.1518 - val_accuracy: 1.0000\n",
      "Epoch 113/500\n",
      "3/3 [==============================] - 0s 42ms/step - loss: 0.1613 - accuracy: 0.9688 - val_loss: 0.1497 - val_accuracy: 1.0000\n",
      "Epoch 114/500\n",
      "3/3 [==============================] - 0s 41ms/step - loss: 0.1638 - accuracy: 0.9792 - val_loss: 0.1490 - val_accuracy: 1.0000\n",
      "Epoch 115/500\n",
      "3/3 [==============================] - 0s 37ms/step - loss: 0.1577 - accuracy: 0.9792 - val_loss: 0.1456 - val_accuracy: 1.0000\n",
      "Epoch 116/500\n",
      "3/3 [==============================] - 0s 37ms/step - loss: 0.1567 - accuracy: 0.9688 - val_loss: 0.1451 - val_accuracy: 1.0000\n",
      "Epoch 117/500\n"
     ]
    },
    {
     "name": "stdout",
     "output_type": "stream",
     "text": [
      "3/3 [==============================] - 0s 41ms/step - loss: 0.1555 - accuracy: 0.9688 - val_loss: 0.1419 - val_accuracy: 1.0000\n",
      "Epoch 118/500\n",
      "3/3 [==============================] - 0s 38ms/step - loss: 0.1515 - accuracy: 0.9688 - val_loss: 0.1400 - val_accuracy: 1.0000\n",
      "Epoch 119/500\n",
      "3/3 [==============================] - 0s 45ms/step - loss: 0.1499 - accuracy: 0.9792 - val_loss: 0.1386 - val_accuracy: 1.0000\n",
      "Epoch 120/500\n",
      "3/3 [==============================] - 0s 42ms/step - loss: 0.1493 - accuracy: 0.9792 - val_loss: 0.1363 - val_accuracy: 1.0000\n",
      "Epoch 121/500\n",
      "3/3 [==============================] - 0s 36ms/step - loss: 0.1463 - accuracy: 0.9792 - val_loss: 0.1347 - val_accuracy: 1.0000\n",
      "Epoch 122/500\n",
      "3/3 [==============================] - 0s 18ms/step - loss: 0.1453 - accuracy: 0.9688 - val_loss: 0.1330 - val_accuracy: 1.0000\n",
      "Epoch 123/500\n",
      "3/3 [==============================] - 0s 20ms/step - loss: 0.1429 - accuracy: 0.9688 - val_loss: 0.1313 - val_accuracy: 1.0000\n",
      "Epoch 124/500\n",
      "3/3 [==============================] - 0s 24ms/step - loss: 0.1412 - accuracy: 0.9792 - val_loss: 0.1299 - val_accuracy: 1.0000\n",
      "Epoch 125/500\n",
      "3/3 [==============================] - 0s 22ms/step - loss: 0.1397 - accuracy: 0.9792 - val_loss: 0.1283 - val_accuracy: 1.0000\n",
      "Epoch 126/500\n",
      "3/3 [==============================] - 0s 30ms/step - loss: 0.1385 - accuracy: 0.9792 - val_loss: 0.1268 - val_accuracy: 1.0000\n",
      "Epoch 127/500\n",
      "3/3 [==============================] - 0s 34ms/step - loss: 0.1377 - accuracy: 0.9792 - val_loss: 0.1254 - val_accuracy: 1.0000\n",
      "Epoch 128/500\n",
      "3/3 [==============================] - 0s 43ms/step - loss: 0.1352 - accuracy: 0.9792 - val_loss: 0.1236 - val_accuracy: 1.0000\n",
      "Epoch 129/500\n",
      "3/3 [==============================] - 0s 61ms/step - loss: 0.1338 - accuracy: 0.9792 - val_loss: 0.1223 - val_accuracy: 1.0000\n",
      "Epoch 130/500\n",
      "3/3 [==============================] - 0s 49ms/step - loss: 0.1336 - accuracy: 0.9688 - val_loss: 0.1209 - val_accuracy: 1.0000\n",
      "Epoch 131/500\n",
      "3/3 [==============================] - 0s 29ms/step - loss: 0.1316 - accuracy: 0.9688 - val_loss: 0.1194 - val_accuracy: 1.0000\n",
      "Epoch 132/500\n",
      "3/3 [==============================] - 0s 24ms/step - loss: 0.1296 - accuracy: 0.9792 - val_loss: 0.1200 - val_accuracy: 1.0000\n",
      "Epoch 133/500\n",
      "3/3 [==============================] - 0s 26ms/step - loss: 0.1309 - accuracy: 0.9792 - val_loss: 0.1195 - val_accuracy: 1.0000\n",
      "Epoch 134/500\n",
      "3/3 [==============================] - 0s 28ms/step - loss: 0.1281 - accuracy: 0.9792 - val_loss: 0.1161 - val_accuracy: 1.0000\n",
      "Epoch 135/500\n",
      "3/3 [==============================] - 0s 27ms/step - loss: 0.1284 - accuracy: 0.9792 - val_loss: 0.1156 - val_accuracy: 1.0000\n",
      "Epoch 136/500\n",
      "3/3 [==============================] - 0s 30ms/step - loss: 0.1274 - accuracy: 0.9688 - val_loss: 0.1140 - val_accuracy: 1.0000\n",
      "Epoch 137/500\n",
      "3/3 [==============================] - 0s 29ms/step - loss: 0.1237 - accuracy: 0.9688 - val_loss: 0.1119 - val_accuracy: 1.0000\n",
      "Epoch 138/500\n",
      "3/3 [==============================] - 0s 25ms/step - loss: 0.1220 - accuracy: 0.9792 - val_loss: 0.1139 - val_accuracy: 1.0000\n",
      "Epoch 139/500\n",
      "3/3 [==============================] - 0s 28ms/step - loss: 0.1232 - accuracy: 0.9792 - val_loss: 0.1125 - val_accuracy: 1.0000\n",
      "Epoch 140/500\n",
      "3/3 [==============================] - 0s 28ms/step - loss: 0.1201 - accuracy: 0.9792 - val_loss: 0.1086 - val_accuracy: 1.0000\n",
      "Epoch 141/500\n",
      "3/3 [==============================] - 0s 29ms/step - loss: 0.1184 - accuracy: 0.9792 - val_loss: 0.1075 - val_accuracy: 1.0000\n",
      "Epoch 142/500\n",
      "3/3 [==============================] - 0s 24ms/step - loss: 0.1189 - accuracy: 0.9688 - val_loss: 0.1064 - val_accuracy: 1.0000\n",
      "Epoch 143/500\n",
      "3/3 [==============================] - 0s 43ms/step - loss: 0.1168 - accuracy: 0.9792 - val_loss: 0.1051 - val_accuracy: 1.0000\n",
      "Epoch 144/500\n",
      "3/3 [==============================] - 0s 46ms/step - loss: 0.1152 - accuracy: 0.9792 - val_loss: 0.1060 - val_accuracy: 1.0000\n",
      "Epoch 145/500\n",
      "3/3 [==============================] - 0s 42ms/step - loss: 0.1161 - accuracy: 0.9792 - val_loss: 0.1054 - val_accuracy: 1.0000\n",
      "Epoch 146/500\n",
      "3/3 [==============================] - 0s 57ms/step - loss: 0.1137 - accuracy: 0.9792 - val_loss: 0.1025 - val_accuracy: 1.0000\n",
      "Epoch 147/500\n",
      "3/3 [==============================] - 0s 48ms/step - loss: 0.1119 - accuracy: 0.9792 - val_loss: 0.1010 - val_accuracy: 1.0000\n",
      "Epoch 148/500\n",
      "3/3 [==============================] - 0s 36ms/step - loss: 0.1137 - accuracy: 0.9792 - val_loss: 0.1005 - val_accuracy: 1.0000\n",
      "Epoch 149/500\n",
      "3/3 [==============================] - 0s 30ms/step - loss: 0.1117 - accuracy: 0.9792 - val_loss: 0.0992 - val_accuracy: 1.0000\n",
      "Epoch 150/500\n",
      "3/3 [==============================] - 0s 29ms/step - loss: 0.1094 - accuracy: 0.9792 - val_loss: 0.0998 - val_accuracy: 1.0000\n",
      "Epoch 151/500\n",
      "3/3 [==============================] - 0s 31ms/step - loss: 0.1106 - accuracy: 0.9792 - val_loss: 0.0999 - val_accuracy: 1.0000\n",
      "Epoch 152/500\n",
      "3/3 [==============================] - 0s 31ms/step - loss: 0.1078 - accuracy: 0.9792 - val_loss: 0.0970 - val_accuracy: 1.0000\n",
      "Epoch 153/500\n",
      "3/3 [==============================] - 0s 27ms/step - loss: 0.1063 - accuracy: 0.9792 - val_loss: 0.0958 - val_accuracy: 1.0000\n",
      "Epoch 154/500\n",
      "3/3 [==============================] - 0s 28ms/step - loss: 0.1077 - accuracy: 0.9792 - val_loss: 0.0951 - val_accuracy: 1.0000\n",
      "Epoch 155/500\n",
      "3/3 [==============================] - 0s 25ms/step - loss: 0.1076 - accuracy: 0.9792 - val_loss: 0.0951 - val_accuracy: 1.0000\n",
      "Epoch 156/500\n",
      "3/3 [==============================] - 0s 36ms/step - loss: 0.1052 - accuracy: 0.9792 - val_loss: 0.0938 - val_accuracy: 1.0000\n",
      "Epoch 157/500\n",
      "3/3 [==============================] - 0s 45ms/step - loss: 0.1037 - accuracy: 0.9792 - val_loss: 0.0939 - val_accuracy: 1.0000\n",
      "Epoch 158/500\n",
      "3/3 [==============================] - 0s 40ms/step - loss: 0.1038 - accuracy: 0.9792 - val_loss: 0.0927 - val_accuracy: 1.0000\n",
      "Epoch 159/500\n",
      "3/3 [==============================] - 0s 39ms/step - loss: 0.1022 - accuracy: 0.9792 - val_loss: 0.0915 - val_accuracy: 1.0000\n",
      "Epoch 160/500\n",
      "3/3 [==============================] - 0s 39ms/step - loss: 0.1011 - accuracy: 0.9792 - val_loss: 0.0907 - val_accuracy: 1.0000\n",
      "Epoch 161/500\n",
      "3/3 [==============================] - 0s 39ms/step - loss: 0.1006 - accuracy: 0.9792 - val_loss: 0.0904 - val_accuracy: 1.0000\n",
      "Epoch 162/500\n",
      "3/3 [==============================] - 0s 48ms/step - loss: 0.1003 - accuracy: 0.9792 - val_loss: 0.0901 - val_accuracy: 1.0000\n",
      "Epoch 163/500\n",
      "3/3 [==============================] - 0s 46ms/step - loss: 0.0989 - accuracy: 0.9792 - val_loss: 0.0891 - val_accuracy: 1.0000\n",
      "Epoch 164/500\n",
      "3/3 [==============================] - 0s 43ms/step - loss: 0.0993 - accuracy: 0.9792 - val_loss: 0.0880 - val_accuracy: 1.0000\n",
      "Epoch 165/500\n",
      "3/3 [==============================] - 0s 44ms/step - loss: 0.0978 - accuracy: 0.9792 - val_loss: 0.0874 - val_accuracy: 1.0000\n",
      "Epoch 166/500\n",
      "3/3 [==============================] - 0s 42ms/step - loss: 0.0981 - accuracy: 0.9792 - val_loss: 0.0881 - val_accuracy: 1.0000\n",
      "Epoch 167/500\n",
      "3/3 [==============================] - 0s 41ms/step - loss: 0.0974 - accuracy: 0.9792 - val_loss: 0.0880 - val_accuracy: 1.0000\n",
      "Epoch 168/500\n",
      "3/3 [==============================] - 0s 42ms/step - loss: 0.0956 - accuracy: 0.9792 - val_loss: 0.0860 - val_accuracy: 1.0000\n",
      "Epoch 169/500\n",
      "3/3 [==============================] - 0s 43ms/step - loss: 0.0951 - accuracy: 0.9792 - val_loss: 0.0850 - val_accuracy: 1.0000\n",
      "Epoch 170/500\n",
      "3/3 [==============================] - 0s 34ms/step - loss: 0.0977 - accuracy: 0.9792 - val_loss: 0.0849 - val_accuracy: 1.0000\n",
      "Epoch 171/500\n",
      "3/3 [==============================] - 0s 25ms/step - loss: 0.0950 - accuracy: 0.9792 - val_loss: 0.0842 - val_accuracy: 1.0000\n",
      "Epoch 172/500\n",
      "3/3 [==============================] - 0s 26ms/step - loss: 0.0947 - accuracy: 0.9792 - val_loss: 0.0859 - val_accuracy: 1.0000\n",
      "Epoch 173/500\n",
      "3/3 [==============================] - 0s 27ms/step - loss: 0.0935 - accuracy: 0.9792 - val_loss: 0.0841 - val_accuracy: 1.0000\n",
      "Epoch 174/500\n",
      "3/3 [==============================] - 0s 28ms/step - loss: 0.0934 - accuracy: 0.9792 - val_loss: 0.0829 - val_accuracy: 1.0000\n"
     ]
    },
    {
     "name": "stdout",
     "output_type": "stream",
     "text": [
      "Epoch 175/500\n",
      "3/3 [==============================] - 0s 23ms/step - loss: 0.0920 - accuracy: 0.9792 - val_loss: 0.0818 - val_accuracy: 1.0000\n",
      "Epoch 176/500\n",
      "3/3 [==============================] - 0s 23ms/step - loss: 0.0915 - accuracy: 0.9792 - val_loss: 0.0814 - val_accuracy: 1.0000\n",
      "Epoch 177/500\n",
      "3/3 [==============================] - 0s 24ms/step - loss: 0.0905 - accuracy: 0.9792 - val_loss: 0.0811 - val_accuracy: 1.0000\n",
      "Epoch 178/500\n",
      "3/3 [==============================] - 0s 24ms/step - loss: 0.0899 - accuracy: 0.9792 - val_loss: 0.0810 - val_accuracy: 1.0000\n",
      "Epoch 179/500\n",
      "3/3 [==============================] - 0s 26ms/step - loss: 0.0898 - accuracy: 0.9792 - val_loss: 0.0810 - val_accuracy: 1.0000\n",
      "Epoch 180/500\n",
      "3/3 [==============================] - 0s 35ms/step - loss: 0.0902 - accuracy: 0.9792 - val_loss: 0.0794 - val_accuracy: 1.0000\n",
      "Epoch 181/500\n",
      "3/3 [==============================] - 0s 34ms/step - loss: 0.0895 - accuracy: 0.9792 - val_loss: 0.0789 - val_accuracy: 1.0000\n",
      "Epoch 182/500\n",
      "3/3 [==============================] - 0s 35ms/step - loss: 0.0881 - accuracy: 0.9792 - val_loss: 0.0793 - val_accuracy: 1.0000\n",
      "Epoch 183/500\n",
      "3/3 [==============================] - 0s 35ms/step - loss: 0.0881 - accuracy: 0.9792 - val_loss: 0.0794 - val_accuracy: 1.0000\n",
      "Epoch 184/500\n",
      "1/3 [=========>....................] - ETA: 0s - loss: 0.0587 - accuracy: 0.9688Restoring model weights from the end of the best epoch: 181.\n",
      "3/3 [==============================] - 0s 33ms/step - loss: 0.0875 - accuracy: 0.9792 - val_loss: 0.0790 - val_accuracy: 1.0000\n",
      "Epoch 184: early stopping\n"
     ]
    }
   ],
   "source": [
    "###########\n",
    "# 모델 학습\n",
    "###########\n",
    "\n",
    "hist = model.fit(x_train, y_train, epochs=500, verbose=1, validation_split=0.2, callbacks=[es] )"
   ]
  },
  {
   "cell_type": "code",
   "execution_count": 22,
   "metadata": {
    "id": "_BZMmR5--xMb",
    "scrolled": true
   },
   "outputs": [
    {
     "data": {
      "text/plain": [
       "array([[1.24520075e-05, 8.91203154e-03, 9.91075516e-01],\n",
       "       [2.91071387e-06, 8.43937136e-03, 9.91557717e-01],\n",
       "       [9.82422590e-01, 1.75747126e-02, 2.69471047e-06],\n",
       "       [1.45122511e-04, 1.01673722e-01, 8.98181200e-01],\n",
       "       [9.95286703e-01, 4.71293833e-03, 3.19649644e-07]], dtype=float32)"
      ]
     },
     "execution_count": 22,
     "metadata": {},
     "output_type": "execute_result"
    }
   ],
   "source": [
    "###########\n",
    "# 모델 예측\n",
    "###########\n",
    "y_pred = model.predict(x_test)\n",
    "y_pred[:5]"
   ]
  },
  {
   "cell_type": "code",
   "execution_count": 23,
   "metadata": {},
   "outputs": [
    {
     "data": {
      "text/plain": [
       "array([[2],\n",
       "       [2],\n",
       "       [0],\n",
       "       [2],\n",
       "       [0]], dtype=int64)"
      ]
     },
     "execution_count": 23,
     "metadata": {},
     "output_type": "execute_result"
    }
   ],
   "source": [
    "y_pred[:5].argmax(axis=1).reshape(-1,1)"
   ]
  },
  {
   "cell_type": "code",
   "execution_count": 24,
   "metadata": {
    "scrolled": true
   },
   "outputs": [
    {
     "data": {
      "text/plain": [
       "array([[2],\n",
       "       [2],\n",
       "       [0],\n",
       "       [2],\n",
       "       [0]], dtype=int64)"
      ]
     },
     "execution_count": 24,
     "metadata": {},
     "output_type": "execute_result"
    }
   ],
   "source": [
    "y_test[:5].argmax(axis=1).reshape(-1,1)"
   ]
  },
  {
   "cell_type": "code",
   "execution_count": 25,
   "metadata": {},
   "outputs": [],
   "source": [
    "import matplotlib.pyplot as plt"
   ]
  },
  {
   "cell_type": "code",
   "execution_count": 26,
   "metadata": {},
   "outputs": [
    {
     "data": {
      "image/png": "[encoded data removed]",
      "text/plain": [
       "<Figure size 864x432 with 1 Axes>"
      ]
     },
     "metadata": {
      "needs_background": "light"
     },
     "output_type": "display_data"
    }
   ],
   "source": [
    "# hist.history: loss와 accuracy가 딕셔너리 형태로 나옴\n",
    "plt.figure(figsize=(12,6))\n",
    "\n",
    "plt.plot(hist.history['accuracy'], label='acc')\n",
    "plt.plot(hist.history['val_accuracy'], label='val_acc')\n",
    "plt.legend()\n",
    "\n",
    "# x축은 epochs, y축은 accuracy\n",
    "plt.show() "
   ]
  }
 ],
 "metadata": {
  "colab": {
   "collapsed_sections": [
    "0xVNQT9V-Iev"
   ],
   "name": "2_1_Review _ ANN Preview III.ipynb",
   "provenance": []
  },
  "kernelspec": {
   "display_name": "Python 3",
   "language": "python",
   "name": "python3"
  },
  "language_info": {
   "codemirror_mode": {
    "name": "ipython",
    "version": 3
   },
   "file_extension": ".py",
   "mimetype": "text/x-python",
   "name": "python",
   "nbconvert_exporter": "python",
   "pygments_lexer": "ipython3",
   "version": "3.8.8"
  }
 },
 "nbformat": 4,
 "nbformat_minor": 1
}
