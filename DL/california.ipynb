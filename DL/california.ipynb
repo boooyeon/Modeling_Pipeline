{
 "cells": [
  {
   "cell_type": "code",
   "execution_count": 38,
   "id": "e541976d",
   "metadata": {},
   "outputs": [],
   "source": [
    "from sklearn.datasets import fetch_california_housing"
   ]
  },
  {
   "cell_type": "code",
   "execution_count": 39,
   "id": "296ecd84",
   "metadata": {},
   "outputs": [],
   "source": [
    "california = fetch_california_housing()"
   ]
  },
  {
   "cell_type": "code",
   "execution_count": 40,
   "id": "c34654f3",
   "metadata": {},
   "outputs": [],
   "source": [
    "x = california.data\n",
    "y = california.target"
   ]
  },
  {
   "cell_type": "code",
   "execution_count": 41,
   "id": "098eff3b",
   "metadata": {},
   "outputs": [
    {
     "data": {
      "text/plain": [
       "((20640, 8), (20640,))"
      ]
     },
     "execution_count": 41,
     "metadata": {},
     "output_type": "execute_result"
    }
   ],
   "source": [
    "x.shape, y.shape"
   ]
  },
  {
   "cell_type": "code",
   "execution_count": 42,
   "id": "c0fa0bb6",
   "metadata": {},
   "outputs": [
    {
     "data": {
      "text/plain": [
       "(8,)"
      ]
     },
     "execution_count": 42,
     "metadata": {},
     "output_type": "execute_result"
    }
   ],
   "source": [
    "x[1].shape"
   ]
  },
  {
   "cell_type": "code",
   "execution_count": 43,
   "id": "346e562f",
   "metadata": {},
   "outputs": [],
   "source": [
    "## 라이브러리 불러오기\n",
    "import tensorflow as tf\n",
    "from tensorflow import keras"
   ]
  },
  {
   "cell_type": "code",
   "execution_count": 44,
   "id": "93845f9a",
   "metadata": {},
   "outputs": [],
   "source": [
    "## 전처리 : train_test_split\n",
    "\n",
    "from sklearn.model_selection import train_test_split"
   ]
  },
  {
   "cell_type": "code",
   "execution_count": 45,
   "id": "d0487c59",
   "metadata": {},
   "outputs": [],
   "source": [
    "x_train, x_test, y_train, y_test =\\\n",
    "    train_test_split(x, y, random_state=2022, test_size=0.2)"
   ]
  },
  {
   "cell_type": "code",
   "execution_count": 46,
   "id": "91477296",
   "metadata": {},
   "outputs": [
    {
     "data": {
      "text/plain": [
       "((16512, 8), (16512,))"
      ]
     },
     "execution_count": 46,
     "metadata": {},
     "output_type": "execute_result"
    }
   ],
   "source": [
    "x_train.shape, y_train.shape"
   ]
  },
  {
   "cell_type": "code",
   "execution_count": 10,
   "id": "f0c3f515",
   "metadata": {},
   "outputs": [],
   "source": [
    "## 강사 실수!\n",
    "## 전처리 : min-max scaling"
   ]
  },
  {
   "cell_type": "code",
   "execution_count": 11,
   "id": "748cf331",
   "metadata": {},
   "outputs": [],
   "source": [
    "import pandas as pd"
   ]
  },
  {
   "cell_type": "code",
   "execution_count": 12,
   "id": "14bbfa5b",
   "metadata": {},
   "outputs": [
    {
     "data": {
      "text/html": [
       "<div>\n",
       "<style scoped>\n",
       "    .dataframe tbody tr th:only-of-type {\n",
       "        vertical-align: middle;\n",
       "    }\n",
       "\n",
       "    .dataframe tbody tr th {\n",
       "        vertical-align: top;\n",
       "    }\n",
       "\n",
       "    .dataframe thead th {\n",
       "        text-align: right;\n",
       "    }\n",
       "</style>\n",
       "<table border=\"1\" class=\"dataframe\">\n",
       "  <thead>\n",
       "    <tr style=\"text-align: right;\">\n",
       "      <th></th>\n",
       "      <th>MedInc</th>\n",
       "      <th>HouseAge</th>\n",
       "      <th>AveRooms</th>\n",
       "      <th>AveBedrms</th>\n",
       "      <th>Population</th>\n",
       "      <th>AveOccup</th>\n",
       "      <th>Latitude</th>\n",
       "      <th>Longitude</th>\n",
       "    </tr>\n",
       "  </thead>\n",
       "  <tbody>\n",
       "    <tr>\n",
       "      <th>count</th>\n",
       "      <td>20640.000000</td>\n",
       "      <td>20640.000000</td>\n",
       "      <td>20640.000000</td>\n",
       "      <td>20640.000000</td>\n",
       "      <td>20640.000000</td>\n",
       "      <td>20640.000000</td>\n",
       "      <td>20640.000000</td>\n",
       "      <td>20640.000000</td>\n",
       "    </tr>\n",
       "    <tr>\n",
       "      <th>mean</th>\n",
       "      <td>3.870671</td>\n",
       "      <td>28.639486</td>\n",
       "      <td>5.429000</td>\n",
       "      <td>1.096675</td>\n",
       "      <td>1425.476744</td>\n",
       "      <td>3.070655</td>\n",
       "      <td>35.631861</td>\n",
       "      <td>-119.569704</td>\n",
       "    </tr>\n",
       "    <tr>\n",
       "      <th>std</th>\n",
       "      <td>1.899822</td>\n",
       "      <td>12.585558</td>\n",
       "      <td>2.474173</td>\n",
       "      <td>0.473911</td>\n",
       "      <td>1132.462122</td>\n",
       "      <td>10.386050</td>\n",
       "      <td>2.135952</td>\n",
       "      <td>2.003532</td>\n",
       "    </tr>\n",
       "    <tr>\n",
       "      <th>min</th>\n",
       "      <td>0.499900</td>\n",
       "      <td>1.000000</td>\n",
       "      <td>0.846154</td>\n",
       "      <td>0.333333</td>\n",
       "      <td>3.000000</td>\n",
       "      <td>0.692308</td>\n",
       "      <td>32.540000</td>\n",
       "      <td>-124.350000</td>\n",
       "    </tr>\n",
       "    <tr>\n",
       "      <th>25%</th>\n",
       "      <td>2.563400</td>\n",
       "      <td>18.000000</td>\n",
       "      <td>4.440716</td>\n",
       "      <td>1.006079</td>\n",
       "      <td>787.000000</td>\n",
       "      <td>2.429741</td>\n",
       "      <td>33.930000</td>\n",
       "      <td>-121.800000</td>\n",
       "    </tr>\n",
       "    <tr>\n",
       "      <th>50%</th>\n",
       "      <td>3.534800</td>\n",
       "      <td>29.000000</td>\n",
       "      <td>5.229129</td>\n",
       "      <td>1.048780</td>\n",
       "      <td>1166.000000</td>\n",
       "      <td>2.818116</td>\n",
       "      <td>34.260000</td>\n",
       "      <td>-118.490000</td>\n",
       "    </tr>\n",
       "    <tr>\n",
       "      <th>75%</th>\n",
       "      <td>4.743250</td>\n",
       "      <td>37.000000</td>\n",
       "      <td>6.052381</td>\n",
       "      <td>1.099526</td>\n",
       "      <td>1725.000000</td>\n",
       "      <td>3.282261</td>\n",
       "      <td>37.710000</td>\n",
       "      <td>-118.010000</td>\n",
       "    </tr>\n",
       "    <tr>\n",
       "      <th>max</th>\n",
       "      <td>15.000100</td>\n",
       "      <td>52.000000</td>\n",
       "      <td>141.909091</td>\n",
       "      <td>34.066667</td>\n",
       "      <td>35682.000000</td>\n",
       "      <td>1243.333333</td>\n",
       "      <td>41.950000</td>\n",
       "      <td>-114.310000</td>\n",
       "    </tr>\n",
       "  </tbody>\n",
       "</table>\n",
       "</div>"
      ],
      "text/plain": [
       "             MedInc      HouseAge      AveRooms     AveBedrms    Population  \\\n",
       "count  20640.000000  20640.000000  20640.000000  20640.000000  20640.000000   \n",
       "mean       3.870671     28.639486      5.429000      1.096675   1425.476744   \n",
       "std        1.899822     12.585558      2.474173      0.473911   1132.462122   \n",
       "min        0.499900      1.000000      0.846154      0.333333      3.000000   \n",
       "25%        2.563400     18.000000      4.440716      1.006079    787.000000   \n",
       "50%        3.534800     29.000000      5.229129      1.048780   1166.000000   \n",
       "75%        4.743250     37.000000      6.052381      1.099526   1725.000000   \n",
       "max       15.000100     52.000000    141.909091     34.066667  35682.000000   \n",
       "\n",
       "           AveOccup      Latitude     Longitude  \n",
       "count  20640.000000  20640.000000  20640.000000  \n",
       "mean       3.070655     35.631861   -119.569704  \n",
       "std       10.386050      2.135952      2.003532  \n",
       "min        0.692308     32.540000   -124.350000  \n",
       "25%        2.429741     33.930000   -121.800000  \n",
       "50%        2.818116     34.260000   -118.490000  \n",
       "75%        3.282261     37.710000   -118.010000  \n",
       "max     1243.333333     41.950000   -114.310000  "
      ]
     },
     "execution_count": 12,
     "metadata": {},
     "output_type": "execute_result"
    }
   ],
   "source": [
    "pd.DataFrame(x, columns=california.feature_names).describe()"
   ]
  },
  {
   "cell_type": "code",
   "execution_count": 13,
   "id": "a7440346",
   "metadata": {},
   "outputs": [],
   "source": [
    "x_train.max(), x_train.min()\n",
    "\n",
    "max_n = x_train.max()\n",
    "min_n = x_train.min()"
   ]
  },
  {
   "cell_type": "code",
   "execution_count": 14,
   "id": "2c49a68a",
   "metadata": {},
   "outputs": [],
   "source": [
    "x_train = (x_train - min_n) / (max_n - min_n)\n",
    "x_test = (x_test - min_n) / (max_n - min_n)"
   ]
  },
  {
   "cell_type": "code",
   "execution_count": 15,
   "id": "78cdadce",
   "metadata": {},
   "outputs": [
    {
     "data": {
      "text/plain": [
       "(1.0, 0.0)"
      ]
     },
     "execution_count": 15,
     "metadata": {},
     "output_type": "execute_result"
    }
   ],
   "source": [
    "x_train.max(), x_train.min()"
   ]
  },
  {
   "cell_type": "code",
   "execution_count": 16,
   "id": "cab69025",
   "metadata": {},
   "outputs": [
    {
     "data": {
      "text/html": [
       "<div>\n",
       "<style scoped>\n",
       "    .dataframe tbody tr th:only-of-type {\n",
       "        vertical-align: middle;\n",
       "    }\n",
       "\n",
       "    .dataframe tbody tr th {\n",
       "        vertical-align: top;\n",
       "    }\n",
       "\n",
       "    .dataframe thead th {\n",
       "        text-align: right;\n",
       "    }\n",
       "</style>\n",
       "<table border=\"1\" class=\"dataframe\">\n",
       "  <thead>\n",
       "    <tr style=\"text-align: right;\">\n",
       "      <th></th>\n",
       "      <th>MedInc</th>\n",
       "      <th>HouseAge</th>\n",
       "      <th>AveRooms</th>\n",
       "      <th>AveBedrms</th>\n",
       "      <th>Population</th>\n",
       "      <th>AveOccup</th>\n",
       "      <th>Latitude</th>\n",
       "      <th>Longitude</th>\n",
       "    </tr>\n",
       "  </thead>\n",
       "  <tbody>\n",
       "    <tr>\n",
       "      <th>count</th>\n",
       "      <td>16512.000000</td>\n",
       "      <td>16512.000000</td>\n",
       "      <td>16512.000000</td>\n",
       "      <td>16512.000000</td>\n",
       "      <td>16512.000000</td>\n",
       "      <td>16512.000000</td>\n",
       "      <td>16512.000000</td>\n",
       "      <td>16512.000000</td>\n",
       "    </tr>\n",
       "    <tr>\n",
       "      <th>mean</th>\n",
       "      <td>0.003581</td>\n",
       "      <td>0.004274</td>\n",
       "      <td>0.003624</td>\n",
       "      <td>0.003503</td>\n",
       "      <td>0.043359</td>\n",
       "      <td>0.003556</td>\n",
       "      <td>0.004468</td>\n",
       "      <td>0.000134</td>\n",
       "    </tr>\n",
       "    <tr>\n",
       "      <th>std</th>\n",
       "      <td>0.000053</td>\n",
       "      <td>0.000352</td>\n",
       "      <td>0.000065</td>\n",
       "      <td>0.000013</td>\n",
       "      <td>0.032062</td>\n",
       "      <td>0.000134</td>\n",
       "      <td>0.000059</td>\n",
       "      <td>0.000056</td>\n",
       "    </tr>\n",
       "    <tr>\n",
       "      <th>min</th>\n",
       "      <td>0.003487</td>\n",
       "      <td>0.003501</td>\n",
       "      <td>0.003496</td>\n",
       "      <td>0.003482</td>\n",
       "      <td>0.003557</td>\n",
       "      <td>0.003492</td>\n",
       "      <td>0.004382</td>\n",
       "      <td>0.000000</td>\n",
       "    </tr>\n",
       "    <tr>\n",
       "      <th>25%</th>\n",
       "      <td>0.003545</td>\n",
       "      <td>0.003976</td>\n",
       "      <td>0.003597</td>\n",
       "      <td>0.003501</td>\n",
       "      <td>0.025452</td>\n",
       "      <td>0.003541</td>\n",
       "      <td>0.004420</td>\n",
       "      <td>0.000071</td>\n",
       "    </tr>\n",
       "    <tr>\n",
       "      <th>50%</th>\n",
       "      <td>0.003572</td>\n",
       "      <td>0.004283</td>\n",
       "      <td>0.003619</td>\n",
       "      <td>0.003502</td>\n",
       "      <td>0.036023</td>\n",
       "      <td>0.003552</td>\n",
       "      <td>0.004429</td>\n",
       "      <td>0.000164</td>\n",
       "    </tr>\n",
       "    <tr>\n",
       "      <th>75%</th>\n",
       "      <td>0.003606</td>\n",
       "      <td>0.004506</td>\n",
       "      <td>0.003642</td>\n",
       "      <td>0.003504</td>\n",
       "      <td>0.051760</td>\n",
       "      <td>0.003565</td>\n",
       "      <td>0.004526</td>\n",
       "      <td>0.000177</td>\n",
       "    </tr>\n",
       "    <tr>\n",
       "      <th>max</th>\n",
       "      <td>0.003892</td>\n",
       "      <td>0.004925</td>\n",
       "      <td>0.007174</td>\n",
       "      <td>0.004424</td>\n",
       "      <td>1.000000</td>\n",
       "      <td>0.020222</td>\n",
       "      <td>0.004644</td>\n",
       "      <td>0.000280</td>\n",
       "    </tr>\n",
       "  </tbody>\n",
       "</table>\n",
       "</div>"
      ],
      "text/plain": [
       "             MedInc      HouseAge      AveRooms     AveBedrms    Population  \\\n",
       "count  16512.000000  16512.000000  16512.000000  16512.000000  16512.000000   \n",
       "mean       0.003581      0.004274      0.003624      0.003503      0.043359   \n",
       "std        0.000053      0.000352      0.000065      0.000013      0.032062   \n",
       "min        0.003487      0.003501      0.003496      0.003482      0.003557   \n",
       "25%        0.003545      0.003976      0.003597      0.003501      0.025452   \n",
       "50%        0.003572      0.004283      0.003619      0.003502      0.036023   \n",
       "75%        0.003606      0.004506      0.003642      0.003504      0.051760   \n",
       "max        0.003892      0.004925      0.007174      0.004424      1.000000   \n",
       "\n",
       "           AveOccup      Latitude     Longitude  \n",
       "count  16512.000000  16512.000000  16512.000000  \n",
       "mean       0.003556      0.004468      0.000134  \n",
       "std        0.000134      0.000059      0.000056  \n",
       "min        0.003492      0.004382      0.000000  \n",
       "25%        0.003541      0.004420      0.000071  \n",
       "50%        0.003552      0.004429      0.000164  \n",
       "75%        0.003565      0.004526      0.000177  \n",
       "max        0.020222      0.004644      0.000280  "
      ]
     },
     "execution_count": 16,
     "metadata": {},
     "output_type": "execute_result"
    }
   ],
   "source": [
    "pd.DataFrame(x_train, columns=california.feature_names).describe()"
   ]
  },
  {
   "cell_type": "code",
   "execution_count": 47,
   "id": "f2e95831",
   "metadata": {},
   "outputs": [
    {
     "name": "stdout",
     "output_type": "stream",
     "text": [
      "Model: \"sequential\"\n",
      "_________________________________________________________________\n",
      " Layer (type)                Output Shape              Param #   \n",
      "=================================================================\n",
      " dense (Dense)               (None, 32)                288       \n",
      "                                                                 \n",
      " dense_1 (Dense)             (None, 32)                1056      \n",
      "                                                                 \n",
      " dense_2 (Dense)             (None, 1)                 33        \n",
      "                                                                 \n",
      "=================================================================\n",
      "Total params: 1,377\n",
      "Trainable params: 1,377\n",
      "Non-trainable params: 0\n",
      "_________________________________________________________________\n"
     ]
    }
   ],
   "source": [
    "## 모델링 : Sequential API\n",
    "\n",
    "# 1번. 세션 클리어\n",
    "keras.backend.clear_session()\n",
    "\n",
    "# 2번. 모델 발판 생성\n",
    "model = keras.models.Sequential()\n",
    "\n",
    "# 3번. 모델 블록 조립\n",
    "model.add( keras.layers.Input(shape=(x.shape[1])) )\n",
    "model.add( keras.layers.Dense(32, activation='relu') )\n",
    "model.add( keras.layers.Dense(32, activation='relu') )\n",
    "model.add( keras.layers.Dense(1) )\n",
    "\n",
    "# 4번. 컴파일 : learning_rate\n",
    "model.compile(loss='mse', optimizer=keras.optimizers.Adam(0.001) )\n",
    "\n",
    "# 양념\n",
    "model.summary()"
   ]
  },
  {
   "cell_type": "code",
   "execution_count": 48,
   "id": "2c052db5",
   "metadata": {},
   "outputs": [],
   "source": [
    "## Early stopping\n",
    "\n",
    "from tensorflow.keras.callbacks import EarlyStopping"
   ]
  },
  {
   "cell_type": "code",
   "execution_count": 49,
   "id": "03222b85",
   "metadata": {},
   "outputs": [],
   "source": [
    "es = EarlyStopping(monitor='val_loss',           # 무엇을 관찰할래\n",
    "                   min_delta=0,                  # 0이면, 나빠지지만 않아도 괜찮아\n",
    "                   patience=5,                   # 5번까지 참을래\n",
    "                   verbose=1,                 \n",
    "                   restore_best_weights=True)    # 학습 최적 가중치를 모델에 전달"
   ]
  },
  {
   "cell_type": "code",
   "execution_count": 50,
   "id": "65b95e6b",
   "metadata": {},
   "outputs": [
    {
     "name": "stdout",
     "output_type": "stream",
     "text": [
      "Epoch 1/1000\n",
      "104/104 [==============================] - 0s 1ms/step - loss: 11816.1807 - val_loss: 45.5562\n",
      "Epoch 2/1000\n",
      "104/104 [==============================] - 0s 680us/step - loss: 38.1481 - val_loss: 14.5779\n",
      "Epoch 3/1000\n",
      "104/104 [==============================] - 0s 699us/step - loss: 5.9986 - val_loss: 2.8012\n",
      "Epoch 4/1000\n",
      "104/104 [==============================] - 0s 709us/step - loss: 3.1869 - val_loss: 2.6034\n",
      "Epoch 5/1000\n",
      "104/104 [==============================] - 0s 699us/step - loss: 2.9726 - val_loss: 2.5079\n",
      "Epoch 6/1000\n",
      "104/104 [==============================] - 0s 699us/step - loss: 2.8317 - val_loss: 2.3326\n",
      "Epoch 7/1000\n",
      "104/104 [==============================] - 0s 709us/step - loss: 2.6633 - val_loss: 2.2888\n",
      "Epoch 8/1000\n",
      "104/104 [==============================] - 0s 709us/step - loss: 2.5236 - val_loss: 2.1009\n",
      "Epoch 9/1000\n",
      "104/104 [==============================] - 0s 699us/step - loss: 2.3751 - val_loss: 1.9962\n",
      "Epoch 10/1000\n",
      "104/104 [==============================] - 0s 709us/step - loss: 2.2503 - val_loss: 1.9868\n",
      "Epoch 11/1000\n",
      "104/104 [==============================] - 0s 660us/step - loss: 2.1743 - val_loss: 1.9728\n",
      "Epoch 12/1000\n",
      "104/104 [==============================] - 0s 689us/step - loss: 2.0476 - val_loss: 1.8133\n",
      "Epoch 13/1000\n",
      "104/104 [==============================] - 0s 689us/step - loss: 1.6594 - val_loss: 1.3192\n",
      "Epoch 14/1000\n",
      "104/104 [==============================] - 0s 689us/step - loss: 1.3673 - val_loss: 1.1323\n",
      "Epoch 15/1000\n",
      "104/104 [==============================] - 0s 680us/step - loss: 1.0969 - val_loss: 0.9528\n",
      "Epoch 16/1000\n",
      "104/104 [==============================] - 0s 689us/step - loss: 0.9679 - val_loss: 1.0200\n",
      "Epoch 17/1000\n",
      "104/104 [==============================] - 0s 680us/step - loss: 0.8686 - val_loss: 0.7679\n",
      "Epoch 18/1000\n",
      "104/104 [==============================] - 0s 689us/step - loss: 0.8112 - val_loss: 0.7278\n",
      "Epoch 19/1000\n",
      "104/104 [==============================] - 0s 689us/step - loss: 0.7709 - val_loss: 0.7188\n",
      "Epoch 20/1000\n",
      "104/104 [==============================] - 0s 689us/step - loss: 0.7296 - val_loss: 0.7015\n",
      "Epoch 21/1000\n",
      "104/104 [==============================] - 0s 680us/step - loss: 0.7290 - val_loss: 0.7057\n",
      "Epoch 22/1000\n",
      "104/104 [==============================] - 0s 699us/step - loss: 0.8226 - val_loss: 0.6709\n",
      "Epoch 23/1000\n",
      "104/104 [==============================] - 0s 689us/step - loss: 0.6989 - val_loss: 0.6773\n",
      "Epoch 24/1000\n",
      "104/104 [==============================] - 0s 699us/step - loss: 0.6988 - val_loss: 0.7735\n",
      "Epoch 25/1000\n",
      "104/104 [==============================] - 0s 699us/step - loss: 0.7164 - val_loss: 0.6639\n",
      "Epoch 26/1000\n",
      "104/104 [==============================] - 0s 689us/step - loss: 0.6758 - val_loss: 0.6565\n",
      "Epoch 27/1000\n",
      "104/104 [==============================] - 0s 670us/step - loss: 0.6700 - val_loss: 0.6448\n",
      "Epoch 28/1000\n",
      "104/104 [==============================] - 0s 670us/step - loss: 0.7033 - val_loss: 0.6424\n",
      "Epoch 29/1000\n",
      "104/104 [==============================] - 0s 680us/step - loss: 0.6683 - val_loss: 0.6325\n",
      "Epoch 30/1000\n",
      "104/104 [==============================] - 0s 680us/step - loss: 0.6831 - val_loss: 0.6362\n",
      "Epoch 31/1000\n",
      "104/104 [==============================] - 0s 699us/step - loss: 0.6754 - val_loss: 0.6442\n",
      "Epoch 32/1000\n",
      "104/104 [==============================] - 0s 670us/step - loss: 0.7060 - val_loss: 0.6247\n",
      "Epoch 33/1000\n",
      "104/104 [==============================] - 0s 689us/step - loss: 0.7259 - val_loss: 0.6477\n",
      "Epoch 34/1000\n",
      "104/104 [==============================] - 0s 689us/step - loss: 0.6733 - val_loss: 0.6271\n",
      "Epoch 35/1000\n",
      "104/104 [==============================] - 0s 670us/step - loss: 0.6609 - val_loss: 0.6453\n",
      "Epoch 36/1000\n",
      "104/104 [==============================] - 0s 689us/step - loss: 0.6570 - val_loss: 0.6244\n",
      "Epoch 37/1000\n",
      "104/104 [==============================] - 0s 670us/step - loss: 0.7078 - val_loss: 0.6221\n",
      "Epoch 38/1000\n",
      "104/104 [==============================] - 0s 699us/step - loss: 0.8230 - val_loss: 0.7111\n",
      "Epoch 39/1000\n",
      "104/104 [==============================] - 0s 689us/step - loss: 0.6764 - val_loss: 0.6337\n",
      "Epoch 40/1000\n",
      "104/104 [==============================] - 0s 670us/step - loss: 0.6592 - val_loss: 0.7985\n",
      "Epoch 41/1000\n",
      "104/104 [==============================] - 0s 670us/step - loss: 0.6916 - val_loss: 0.6898\n",
      "Epoch 42/1000\n",
      "  1/104 [..............................] - ETA: 0s - loss: 0.6277Restoring model weights from the end of the best epoch: 37.\n",
      "104/104 [==============================] - 0s 699us/step - loss: 0.6598 - val_loss: 0.6617\n",
      "Epoch 42: early stopping\n"
     ]
    },
    {
     "data": {
      "text/plain": [
       "<keras.callbacks.History at 0x25372035af0>"
      ]
     },
     "execution_count": 50,
     "metadata": {},
     "output_type": "execute_result"
    }
   ],
   "source": [
    "## 학습 : validation_split, batch_size\n",
    "\n",
    "model.fit(x_train, y_train, epochs=1000, verbose=1, validation_split=0.2, batch_size=128, callbacks=[es])"
   ]
  },
  {
   "cell_type": "code",
   "execution_count": 51,
   "id": "f34587d3",
   "metadata": {},
   "outputs": [
    {
     "data": {
      "text/plain": [
       "array([4.4344873, 1.7776269, 1.9468697, 1.7813958, 3.094308 ],\n",
       "      dtype=float32)"
      ]
     },
     "execution_count": 51,
     "metadata": {},
     "output_type": "execute_result"
    }
   ],
   "source": [
    "## 예측\n",
    "\n",
    "y_pred = model.predict(x_test)\n",
    "\n",
    "y_pred[:5].reshape(-1)"
   ]
  },
  {
   "cell_type": "code",
   "execution_count": 52,
   "id": "81b755d4",
   "metadata": {},
   "outputs": [
    {
     "data": {
      "text/plain": [
       "array([4.771, 1.371, 1.233, 0.938, 3.26 ])"
      ]
     },
     "execution_count": 52,
     "metadata": {},
     "output_type": "execute_result"
    }
   ],
   "source": [
    "y_test[:5].reshape(-1)"
   ]
  },
  {
   "cell_type": "code",
   "execution_count": null,
   "id": "6e1636b2",
   "metadata": {},
   "outputs": [],
   "source": []
  }
 ],
 "metadata": {
  "kernelspec": {
   "display_name": "Python 3",
   "language": "python",
   "name": "python3"
  },
  "language_info": {
   "codemirror_mode": {
    "name": "ipython",
    "version": 3
   },
   "file_extension": ".py",
   "mimetype": "text/x-python",
   "name": "python",
   "nbconvert_exporter": "python",
   "pygments_lexer": "ipython3",
   "version": "3.8.8"
  }
 },
 "nbformat": 4,
 "nbformat_minor": 5
}
