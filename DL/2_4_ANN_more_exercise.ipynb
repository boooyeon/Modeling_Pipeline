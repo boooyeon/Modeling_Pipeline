{
 "cells": [
  {
   "cell_type": "markdown",
   "metadata": {
    "id": "HZc219MFFibh"
   },
   "source": [
    "# Before Convolutional Neural Network"
   ]
  },
  {
   "cell_type": "markdown",
   "metadata": {
    "id": "iLYle-HPFNgx"
   },
   "source": [
    "## Real Game : CIFAR-10\n",
    "\n",
    "여기에서는 여러분이 직접 코드를 완성해야 하는 문제가 곳곳에 있습니다!"
   ]
  },
  {
   "cell_type": "code",
   "execution_count": 1,
   "metadata": {
    "id": "SpxQtfTUUI5r"
   },
   "outputs": [],
   "source": [
    "'''\n",
    "matplolib inline 명령어를 통해서\n",
    "matplot으로 그리는 플롯들을 주피터 노트북 내에서 볼 수 있게 해준다.\n",
    "포맷을 retina로 바꾸면 그래프의 화질이 훨씬 좋아진다.\n",
    "'''\n",
    "# %matplotlib inline\n",
    "# %config InlineBackend.figure_format = 'retina'\n",
    "\n",
    "'''\n",
    "라이브러리들을 불러오자.\n",
    "'''\n",
    "import numpy as np\n",
    "import pandas as pd\n",
    "import matplotlib.pyplot as plt\n",
    "\n",
    "import tensorflow as tf\n",
    "from tensorflow import keras\n",
    "\n",
    "import random as rd\n",
    "\n",
    "from sklearn.metrics import accuracy_score"
   ]
  },
  {
   "cell_type": "markdown",
   "metadata": {
    "id": "dxB_-9itUhFy"
   },
   "source": [
    "### 데이터를 불러옵시다."
   ]
  },
  {
   "cell_type": "code",
   "execution_count": 2,
   "metadata": {
    "id": "4uNApF4YVdf7"
   },
   "outputs": [],
   "source": [
    "(train_x, train_y), (test_x, test_y) = tf.keras.datasets.cifar10.load_data()"
   ]
  },
  {
   "cell_type": "code",
   "execution_count": 3,
   "metadata": {
    "id": "0EcfUETOUhIy"
   },
   "outputs": [
    {
     "name": "stdout",
     "output_type": "stream",
     "text": [
      "(50000, 32, 32, 3) (50000, 1) (10000, 32, 32, 3) (10000, 1)\n"
     ]
    }
   ],
   "source": [
    "print(train_x.shape, train_y.shape, test_x.shape, test_y.shape)"
   ]
  },
  {
   "cell_type": "code",
   "execution_count": 4,
   "metadata": {
    "id": "D7-ICNlAVhIM"
   },
   "outputs": [
    {
     "name": "stdout",
     "output_type": "stream",
     "text": [
      "{0: 'Airplane', 1: 'Automobile', 2: 'Bird', 3: 'Cat', 4: 'Deer', 5: 'Dog', 6: 'Frog', 7: 'Horse', 8: 'Ship', 9: 'Truck'}\n"
     ]
    }
   ],
   "source": [
    "labels = { 0 : 'Airplane',\n",
    "          1 : 'Automobile',\n",
    "          2 : 'Bird',\n",
    "          3 : 'Cat',\n",
    "          4 : 'Deer',\n",
    "          5 : 'Dog',\n",
    "          6 : 'Frog',\n",
    "          7 : 'Horse',\n",
    "          8 : 'Ship',\n",
    "          9 : 'Truck' }\n",
    "\n",
    "print(labels)"
   ]
  },
  {
   "cell_type": "code",
   "execution_count": 5,
   "metadata": {
    "id": "06UwAC3JV7uj"
   },
   "outputs": [
    {
     "name": "stdout",
     "output_type": "stream",
     "text": [
      "id = 1066\n",
      "다음 그림은 Truck 입니다.\n"
     ]
    },
    {
     "data": {
      "image/png": "[encoded data removed]",
      "text/plain": [
       "<Figure size 432x288 with 1 Axes>"
      ]
     },
     "metadata": {
      "needs_background": "light"
     },
     "output_type": "display_data"
    }
   ],
   "source": [
    "'''\n",
    "Ctrl+Enter를 이용하여\n",
    "반복 실행 해보자!\n",
    "'''\n",
    "\n",
    "id = rd.randrange(0,10000)\n",
    "\n",
    "print('id = {}'.format(id))\n",
    "print('다음 그림은 {} 입니다.'.format( labels[test_y[id][0]] ))\n",
    "plt.imshow(test_x[id])\n",
    "plt.show()"
   ]
  },
  {
   "cell_type": "code",
   "execution_count": 6,
   "metadata": {
    "id": "cWL_no_LR3U8"
   },
   "outputs": [
    {
     "name": "stdout",
     "output_type": "stream",
     "text": [
      "max : 255   min : 0\n"
     ]
    }
   ],
   "source": [
    "print('max :', train_x.max(),'  min :', train_x.min())"
   ]
  },
  {
   "cell_type": "markdown",
   "metadata": {
    "id": "mQ_FTTj7XAtC"
   },
   "source": [
    "### 코드를 완성해주세요!\n",
    "\n",
    "해야 할 일\n",
    "\n",
    "1. 전처리\n",
    "    * x, y에 대하여 모두! 단, x에 대하여 reshape를 의도한 것은 아닙니다!\n",
    "\n",
    "2. 모델링\n",
    "    * 이미지 데이터를 펼쳐주는 레이어를 사용하세요.\n",
    "    * 히든 레이어 4개 사용, 각 노드는 512, 512, 256, 128\n",
    "    * 이 문제는 회귀? 분류?\n",
    "\n",
    "3. 학습\n",
    "    * epochs=50, validation_split=0.2, early stopping\n",
    "    * epoch별 accuracy, loss가 보고 싶다면 history라는 변수에 담아내자!"
   ]
  },
  {
   "cell_type": "code",
   "execution_count": 7,
   "metadata": {},
   "outputs": [],
   "source": [
    "from sklearn.preprocessing import MinMaxScaler"
   ]
  },
  {
   "cell_type": "code",
   "execution_count": 11,
   "metadata": {},
   "outputs": [
    {
     "data": {
      "text/plain": [
       "((50000, 32, 32, 3), 4)"
      ]
     },
     "execution_count": 11,
     "metadata": {},
     "output_type": "execute_result"
    }
   ],
   "source": [
    "train_x.shape, np.ndim(train_x)"
   ]
  },
  {
   "cell_type": "code",
   "execution_count": 8,
   "metadata": {},
   "outputs": [],
   "source": [
    "mm_scaler = MinMaxScaler()"
   ]
  },
  {
   "cell_type": "code",
   "execution_count": 12,
   "metadata": {},
   "outputs": [],
   "source": [
    "train_x_mm = mm_scaler.fit_transform(train_x.reshape(train_x.shape[0], -1))"
   ]
  },
  {
   "cell_type": "code",
   "execution_count": 13,
   "metadata": {},
   "outputs": [
    {
     "data": {
      "text/plain": [
       "(1.0, 0.0)"
      ]
     },
     "execution_count": 13,
     "metadata": {},
     "output_type": "execute_result"
    }
   ],
   "source": [
    "train_x_mm.max(), train_x_mm.min()"
   ]
  },
  {
   "cell_type": "code",
   "execution_count": 14,
   "metadata": {},
   "outputs": [
    {
     "data": {
      "text/plain": [
       "(2, (50000, 3072))"
      ]
     },
     "execution_count": 14,
     "metadata": {},
     "output_type": "execute_result"
    }
   ],
   "source": [
    "np.ndim(train_x_mm), train_x_mm.shape"
   ]
  },
  {
   "cell_type": "code",
   "execution_count": 7,
   "metadata": {},
   "outputs": [
    {
     "data": {
      "text/plain": [
       "255"
      ]
     },
     "execution_count": 7,
     "metadata": {},
     "output_type": "execute_result"
    }
   ],
   "source": [
    "train_x.max()"
   ]
  },
  {
   "cell_type": "code",
   "execution_count": 8,
   "metadata": {
    "id": "3An_EZn0R4wM"
   },
   "outputs": [],
   "source": [
    "#############\n",
    "# Your Code # : min-max scale\n",
    "#############\n",
    "\n",
    "max_n = train_x.max()\n",
    "\n",
    "train_x = train_x / max_n\n",
    "test_x = test_x / max_n"
   ]
  },
  {
   "cell_type": "code",
   "execution_count": 9,
   "metadata": {},
   "outputs": [
    {
     "data": {
      "text/plain": [
       "(1.0, 0.0)"
      ]
     },
     "execution_count": 9,
     "metadata": {},
     "output_type": "execute_result"
    }
   ],
   "source": [
    "train_x.max(), train_x.min()"
   ]
  },
  {
   "cell_type": "code",
   "execution_count": 10,
   "metadata": {
    "id": "94brYg2lXPwO"
   },
   "outputs": [],
   "source": [
    "#############\n",
    "# Your Code #\n",
    "#############\n",
    "from tensorflow.keras.utils import to_categorical"
   ]
  },
  {
   "cell_type": "code",
   "execution_count": 11,
   "metadata": {},
   "outputs": [],
   "source": [
    "y_len = len(np.unique(train_y))"
   ]
  },
  {
   "cell_type": "code",
   "execution_count": 12,
   "metadata": {},
   "outputs": [],
   "source": [
    "train_y = to_categorical(train_y, y_len)\n",
    "test_y = to_categorical(test_y, y_len)"
   ]
  },
  {
   "cell_type": "code",
   "execution_count": 13,
   "metadata": {},
   "outputs": [
    {
     "data": {
      "text/plain": [
       "((50000, 32, 32, 3), (50000, 10))"
      ]
     },
     "execution_count": 13,
     "metadata": {},
     "output_type": "execute_result"
    }
   ],
   "source": [
    "train_x.shape, train_y.shape"
   ]
  },
  {
   "cell_type": "code",
   "execution_count": 14,
   "metadata": {},
   "outputs": [
    {
     "data": {
      "text/plain": [
       "(32, 32, 3)"
      ]
     },
     "execution_count": 14,
     "metadata": {},
     "output_type": "execute_result"
    }
   ],
   "source": [
    "train_x[0].shape"
   ]
  },
  {
   "cell_type": "code",
   "execution_count": 15,
   "metadata": {
    "id": "CBr9O24_JGPT"
   },
   "outputs": [
    {
     "name": "stdout",
     "output_type": "stream",
     "text": [
      "Model: \"sequential\"\n",
      "_________________________________________________________________\n",
      " Layer (type)                Output Shape              Param #   \n",
      "=================================================================\n",
      " flatten (Flatten)           (None, 3072)              0         \n",
      "                                                                 \n",
      " dense (Dense)               (None, 512)               1573376   \n",
      "                                                                 \n",
      " dense_1 (Dense)             (None, 512)               262656    \n",
      "                                                                 \n",
      " dense_2 (Dense)             (None, 256)               131328    \n",
      "                                                                 \n",
      " dense_3 (Dense)             (None, 128)               32896     \n",
      "                                                                 \n",
      " dense_4 (Dense)             (None, 10)                1290      \n",
      "                                                                 \n",
      "=================================================================\n",
      "Total params: 2,001,546\n",
      "Trainable params: 2,001,546\n",
      "Non-trainable params: 0\n",
      "_________________________________________________________________\n"
     ]
    }
   ],
   "source": [
    "#############\n",
    "# Your Code # : 모델링 Sequential API\n",
    "#############\n",
    "\n",
    "# 1. 세션 클리어\n",
    "keras.backend.clear_session()\n",
    "\n",
    "# 2. 모델 발판 생성\n",
    "model = keras.models.Sequential()\n",
    "\n",
    "# 3. 모델 블록 조립\n",
    "model.add( keras.layers.Input(shape=train_x[0].shape))\n",
    "model.add( keras.layers.Flatten() )\n",
    "model.add( keras.layers.Dense(512, activation='relu') )\n",
    "model.add( keras.layers.Dense(512, activation='relu') )\n",
    "model.add( keras.layers.Dense(256, activation='relu') )\n",
    "model.add( keras.layers.Dense(128, activation='relu') )\n",
    "model.add( keras.layers.Dense(10, activation='softmax') )\n",
    "\n",
    "# 4. 컴파일\n",
    "model.compile(loss=keras.losses.categorical_crossentropy, metrics=['accuracy'], optimizer='adam')\n",
    "\n",
    "# 양념\n",
    "model.summary()"
   ]
  },
  {
   "cell_type": "code",
   "execution_count": 16,
   "metadata": {},
   "outputs": [
    {
     "name": "stdout",
     "output_type": "stream",
     "text": [
      "Model: \"model\"\n",
      "_________________________________________________________________\n",
      " Layer (type)                Output Shape              Param #   \n",
      "=================================================================\n",
      " input_1 (InputLayer)        [(None, 32, 32, 3)]       0         \n",
      "                                                                 \n",
      " flatten (Flatten)           (None, 3072)              0         \n",
      "                                                                 \n",
      " dense (Dense)               (None, 512)               1573376   \n",
      "                                                                 \n",
      " dense_1 (Dense)             (None, 512)               262656    \n",
      "                                                                 \n",
      " dense_2 (Dense)             (None, 256)               131328    \n",
      "                                                                 \n",
      " dense_3 (Dense)             (None, 128)               32896     \n",
      "                                                                 \n",
      " dense_4 (Dense)             (None, 10)                1290      \n",
      "                                                                 \n",
      "=================================================================\n",
      "Total params: 2,001,546\n",
      "Trainable params: 2,001,546\n",
      "Non-trainable params: 0\n",
      "_________________________________________________________________\n"
     ]
    }
   ],
   "source": [
    "# Functional API\n",
    "\n",
    "# 1. 세션 클리어\n",
    "keras.backend.clear_session()\n",
    "\n",
    "# 2. 레이어 사슬처럼 엮기\n",
    "il = keras.layers.Input(shape=(32,32,3) )\n",
    "fl = keras.layers.Flatten()(il)\n",
    "hl = keras.layers.Dense(512, activation='relu')(fl)\n",
    "hl = keras.layers.Dense(512, activation='relu')(hl)\n",
    "hl = keras.layers.Dense(256, activation='relu')(hl)\n",
    "hl = keras.layers.Dense(128, activation='relu')(hl)\n",
    "ol = keras.layers.Dense(10, activation='softmax')(hl)\n",
    "\n",
    "# 3. 모델의 시작과 끝 지정\n",
    "model = keras.models.Model(il, ol)\n",
    "\n",
    "# 4. 컴파일\n",
    "model.compile(loss='categorical_crossentropy', metrics=['accuracy'], optimizer='adam')\n",
    "\n",
    "model.summary()"
   ]
  },
  {
   "cell_type": "code",
   "execution_count": 17,
   "metadata": {
    "id": "JfLvdpqBJrs9"
   },
   "outputs": [],
   "source": [
    "#############\n",
    "# Your Code #\n",
    "#############\n",
    "\n",
    "from tensorflow.keras.callbacks import EarlyStopping"
   ]
  },
  {
   "cell_type": "code",
   "execution_count": 18,
   "metadata": {},
   "outputs": [],
   "source": [
    "es = EarlyStopping(monitor='val_loss', min_delta=0, verbose=1, patience=5, restore_best_weights=True)"
   ]
  },
  {
   "cell_type": "code",
   "execution_count": 19,
   "metadata": {},
   "outputs": [
    {
     "name": "stdout",
     "output_type": "stream",
     "text": [
      "Epoch 1/50\n",
      "313/313 [==============================] - 3s 10ms/step - loss: 1.9205 - accuracy: 0.3014 - val_loss: 1.8198 - val_accuracy: 0.3488\n",
      "Epoch 2/50\n",
      "313/313 [==============================] - 3s 10ms/step - loss: 1.7124 - accuracy: 0.3826 - val_loss: 1.6658 - val_accuracy: 0.4008\n",
      "Epoch 3/50\n",
      "313/313 [==============================] - 3s 10ms/step - loss: 1.6178 - accuracy: 0.4166 - val_loss: 1.6147 - val_accuracy: 0.4231\n",
      "Epoch 4/50\n",
      "313/313 [==============================] - 3s 10ms/step - loss: 1.5493 - accuracy: 0.4449 - val_loss: 1.6004 - val_accuracy: 0.4235\n",
      "Epoch 5/50\n",
      "313/313 [==============================] - 3s 10ms/step - loss: 1.5040 - accuracy: 0.4602 - val_loss: 1.6002 - val_accuracy: 0.4328\n",
      "Epoch 6/50\n",
      "313/313 [==============================] - 3s 10ms/step - loss: 1.4607 - accuracy: 0.4730 - val_loss: 1.5187 - val_accuracy: 0.4611\n",
      "Epoch 7/50\n",
      "313/313 [==============================] - 3s 10ms/step - loss: 1.4257 - accuracy: 0.4867 - val_loss: 1.5935 - val_accuracy: 0.4370\n",
      "Epoch 8/50\n",
      "313/313 [==============================] - 3s 10ms/step - loss: 1.3938 - accuracy: 0.5013 - val_loss: 1.4770 - val_accuracy: 0.4782\n",
      "Epoch 9/50\n",
      "313/313 [==============================] - 3s 10ms/step - loss: 1.3615 - accuracy: 0.5117 - val_loss: 1.4678 - val_accuracy: 0.4836\n",
      "Epoch 10/50\n",
      "313/313 [==============================] - 3s 10ms/step - loss: 1.3284 - accuracy: 0.5248 - val_loss: 1.4839 - val_accuracy: 0.4768\n",
      "Epoch 11/50\n",
      "313/313 [==============================] - 3s 10ms/step - loss: 1.2986 - accuracy: 0.5363 - val_loss: 1.4634 - val_accuracy: 0.4872\n",
      "Epoch 12/50\n",
      "313/313 [==============================] - 3s 10ms/step - loss: 1.2713 - accuracy: 0.5439 - val_loss: 1.4589 - val_accuracy: 0.4861\n",
      "Epoch 13/50\n",
      "313/313 [==============================] - 3s 10ms/step - loss: 1.2303 - accuracy: 0.5556 - val_loss: 1.4786 - val_accuracy: 0.4895\n",
      "Epoch 14/50\n",
      "313/313 [==============================] - 3s 10ms/step - loss: 1.2033 - accuracy: 0.5691 - val_loss: 1.4411 - val_accuracy: 0.5018\n",
      "Epoch 15/50\n",
      "313/313 [==============================] - 3s 10ms/step - loss: 1.1729 - accuracy: 0.5772 - val_loss: 1.4704 - val_accuracy: 0.4900\n",
      "Epoch 16/50\n",
      "313/313 [==============================] - 3s 10ms/step - loss: 1.1512 - accuracy: 0.5845 - val_loss: 1.4636 - val_accuracy: 0.4959\n",
      "Epoch 17/50\n",
      "313/313 [==============================] - 3s 10ms/step - loss: 1.1066 - accuracy: 0.6016 - val_loss: 1.4510 - val_accuracy: 0.5016\n",
      "Epoch 18/50\n",
      "313/313 [==============================] - 3s 10ms/step - loss: 1.0804 - accuracy: 0.6095 - val_loss: 1.5094 - val_accuracy: 0.5021\n",
      "Epoch 19/50\n",
      "308/313 [============================>.] - ETA: 0s - loss: 1.0356 - accuracy: 0.6273Restoring model weights from the end of the best epoch: 14.\n",
      "313/313 [==============================] - 3s 10ms/step - loss: 1.0367 - accuracy: 0.6267 - val_loss: 1.5389 - val_accuracy: 0.4945\n",
      "Epoch 19: early stopping\n"
     ]
    }
   ],
   "source": [
    "history = model.fit(train_x, train_y, epochs=50, verbose=1, validation_split=0.2, batch_size=128, callbacks=[es])"
   ]
  },
  {
   "cell_type": "markdown",
   "metadata": {
    "id": "AakFAYG8XlCh"
   },
   "source": [
    "\n",
    "\n",
    "---\n",
    "\n"
   ]
  },
  {
   "cell_type": "code",
   "execution_count": 20,
   "metadata": {
    "id": "HEFalxVhJrvu"
   },
   "outputs": [
    {
     "name": "stdout",
     "output_type": "stream",
     "text": [
      "313/313 [==============================] - 0s 991us/step - loss: 1.4187 - accuracy: 0.5073\n",
      "Test Loss : 1.418655,  Test Accuracy : 50.730%\n"
     ]
    }
   ],
   "source": [
    "performance_test = model.evaluate(test_x, test_y)\n",
    "\n",
    "print('Test Loss : {:.6f},  Test Accuracy : {:.3f}%'.format(performance_test[0], performance_test[1]*100))"
   ]
  },
  {
   "cell_type": "code",
   "execution_count": 21,
   "metadata": {
    "id": "E3pexEleJryC"
   },
   "outputs": [
    {
     "data": {
      "image/png": "[encoded data removed]",
      "text/plain": [
       "<Figure size 432x288 with 1 Axes>"
      ]
     },
     "metadata": {
      "needs_background": "light"
     },
     "output_type": "display_data"
    }
   ],
   "source": [
    "if not isinstance(history, dict):\n",
    "    history = history.history\n",
    "\n",
    "plt.plot(history['accuracy'])\n",
    "plt.plot(history['val_accuracy'])\n",
    "plt.title('Accuracy : Training vs Validation')\n",
    "plt.ylabel('Accuracy')\n",
    "plt.xlabel('Epoch')\n",
    "plt.legend(['Training', 'Validation'], loc=0)\n",
    "plt.show()"
   ]
  },
  {
   "cell_type": "code",
   "execution_count": 22,
   "metadata": {
    "id": "btFU0ZYtNkvf"
   },
   "outputs": [
    {
     "data": {
      "image/png": "[encoded data removed]",
      "text/plain": [
       "<Figure size 432x288 with 1 Axes>"
      ]
     },
     "metadata": {
      "needs_background": "light"
     },
     "output_type": "display_data"
    }
   ],
   "source": [
    "if not isinstance(history, dict):\n",
    "    history = history.history\n",
    "\n",
    "plt.plot(history['loss'])\n",
    "plt.plot(history['val_loss'])\n",
    "plt.title('Loss : Training vs Validation')\n",
    "plt.ylabel('Loss')\n",
    "plt.xlabel('Epoch')\n",
    "plt.legend(['Training', 'Validation'], loc=0)\n",
    "plt.show()"
   ]
  },
  {
   "cell_type": "code",
   "execution_count": 23,
   "metadata": {
    "id": "qc3Ap5q_bNgN"
   },
   "outputs": [
    {
     "name": "stdout",
     "output_type": "stream",
     "text": [
      "트레이닝 정확도 : 57.95%\n",
      "테스트 정확도 : 50.73%\n"
     ]
    }
   ],
   "source": [
    "pred_train = model.predict(train_x)\n",
    "pred_test = model.predict(test_x)\n",
    "\n",
    "single_pred_train = pred_train.argmax(axis=1)\n",
    "single_pred_test = pred_test.argmax(axis=1)\n",
    "\n",
    "logi_train_accuracy = accuracy_score(train_y.argmax(axis=1), single_pred_train)\n",
    "logi_test_accuracy = accuracy_score(test_y.argmax(axis=1), single_pred_test)\n",
    "\n",
    "\n",
    "print('트레이닝 정확도 : {:.2f}%'.format(logi_train_accuracy*100))\n",
    "print('테스트 정확도 : {:.2f}%'.format(logi_test_accuracy*100))"
   ]
  },
  {
   "cell_type": "code",
   "execution_count": 28,
   "metadata": {
    "id": "4D5LN9iNR3aW"
   },
   "outputs": [
    {
     "name": "stdout",
     "output_type": "stream",
     "text": [
      "id = 5462\n",
      "다음 그림은 Airplane 입니다.\n",
      "모델의 예측 : Frog\n",
      "모델의 카테고리별 확률 : \n",
      "{'Airplane': 12.0, 'Automobile': 0.0, 'Bird': 4.0, 'Cat': 7.0, 'Deer': 0.0, 'Dog': 1.0, 'Frog': 71.0, 'Horse': 0.0, 'Ship': 0.0, 'Truck': 0.0}\n",
      "틀렸어요\n"
     ]
    },
    {
     "data": {
      "image/png": "[encoded data removed]",
      "text/plain": [
       "<Figure size 432x288 with 1 Axes>"
      ]
     },
     "metadata": {
      "needs_background": "light"
     },
     "output_type": "display_data"
    }
   ],
   "source": [
    "'''\n",
    "성능 확인을 위해\n",
    "Ctrl+Enter를 이용하여\n",
    "반복 실행 해보자!\n",
    "'''\n",
    "\n",
    "id = rd.randrange(0,10000)\n",
    "\n",
    "print('id = {}'.format(id))\n",
    "print('다음 그림은 {} 입니다.'.format(labels[test_y.argmax(axis=1)[id]] ))\n",
    "print('모델의 예측 : {}'.format(labels[single_pred_test[id]] ))\n",
    "\n",
    "prob = np.floor(pred_test[id]*100).tolist()\n",
    "prob_dict = {}\n",
    "\n",
    "for idx, prob in enumerate(prob) :\n",
    "    prob_dict[ labels[idx] ] = prob\n",
    "\n",
    "print('모델의 카테고리별 확률 : ')\n",
    "print(prob_dict)\n",
    "\n",
    "if test_y.argmax(axis=1)[id] == single_pred_test[id] :\n",
    "    print('정답입니다')\n",
    "else : \n",
    "    print('틀렸어요')\n",
    "    \n",
    "plt.imshow(test_x[id].reshape([32,32,-1]))\n",
    "plt.show()"
   ]
  }
 ],
 "metadata": {
  "accelerator": "GPU",
  "colab": {
   "collapsed_sections": [],
   "name": "2_4_ANN_more_exercise.ipynb",
   "provenance": []
  },
  "kernelspec": {
   "display_name": "Python 3",
   "language": "python",
   "name": "python3"
  },
  "language_info": {
   "codemirror_mode": {
    "name": "ipython",
    "version": 3
   },
   "file_extension": ".py",
   "mimetype": "text/x-python",
   "name": "python",
   "nbconvert_exporter": "python",
   "pygments_lexer": "ipython3",
   "version": "3.8.8"
  }
 },
 "nbformat": 4,
 "nbformat_minor": 1
}
