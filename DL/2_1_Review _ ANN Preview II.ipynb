{
 "cells": [
  {
   "cell_type": "markdown",
   "metadata": {
    "id": "T7kdgJptO50L"
   },
   "source": [
    "# 1일차 Review : 같은 문제 다시 풀어보기\n",
    "\n",
    "    학습은 10번으로!"
   ]
  },
  {
   "cell_type": "code",
   "execution_count": 1,
   "metadata": {},
   "outputs": [
    {
     "name": "stdout",
     "output_type": "stream",
     "text": [
      "Requirement already satisfied: pydot in c:\\programdata\\anaconda3\\lib\\site-packages (1.4.2)\n",
      "Requirement already satisfied: pyparsing>=2.1.4 in c:\\programdata\\anaconda3\\lib\\site-packages (from pydot) (2.4.7)\n"
     ]
    }
   ],
   "source": [
    "!pip install pydot"
   ]
  },
  {
   "cell_type": "code",
   "execution_count": 2,
   "metadata": {
    "id": "tcpM1yMBXPMV"
   },
   "outputs": [],
   "source": [
    "from sklearn.datasets import load_breast_cancer"
   ]
  },
  {
   "cell_type": "code",
   "execution_count": 3,
   "metadata": {
    "id": "kywnQJlHXZCg"
   },
   "outputs": [],
   "source": [
    "cancer = load_breast_cancer()"
   ]
  },
  {
   "cell_type": "code",
   "execution_count": 4,
   "metadata": {
    "id": "Fbgs4YZrXcCB"
   },
   "outputs": [],
   "source": [
    "x = cancer.data\n",
    "y = cancer.target"
   ]
  },
  {
   "cell_type": "code",
   "execution_count": 5,
   "metadata": {
    "id": "kVvDsvptQyQ_"
   },
   "outputs": [
    {
     "data": {
      "text/plain": [
       "((569, 30), (569,))"
      ]
     },
     "execution_count": 5,
     "metadata": {},
     "output_type": "execute_result"
    }
   ],
   "source": [
    "x.shape, y.shape"
   ]
  },
  {
   "cell_type": "code",
   "execution_count": 6,
   "metadata": {},
   "outputs": [],
   "source": [
    "# train / test set\n",
    "# validation split\n",
    "# function api"
   ]
  },
  {
   "cell_type": "code",
   "execution_count": 7,
   "metadata": {
    "id": "puqIL3FCRBs6"
   },
   "outputs": [],
   "source": [
    "#####################\n",
    "# 라이브러리 불러오기\n",
    "#####################\n",
    "import tensorflow as tf\n",
    "from tensorflow import keras\n",
    "\n",
    "from sklearn.model_selection import train_test_split"
   ]
  },
  {
   "cell_type": "code",
   "execution_count": 8,
   "metadata": {},
   "outputs": [],
   "source": [
    "x_train, x_test, y_train, y_test =\\\n",
    "    train_test_split(x, y, test_size=0.2, random_state=2022)"
   ]
  },
  {
   "cell_type": "code",
   "execution_count": 9,
   "metadata": {},
   "outputs": [
    {
     "data": {
      "text/plain": [
       "((455, 30), (455,))"
      ]
     },
     "execution_count": 9,
     "metadata": {},
     "output_type": "execute_result"
    }
   ],
   "source": [
    "x_train.shape, y_train.shape"
   ]
  },
  {
   "cell_type": "code",
   "execution_count": 10,
   "metadata": {
    "id": "broVdGpGbqrC"
   },
   "outputs": [
    {
     "name": "stdout",
     "output_type": "stream",
     "text": [
      "Model: \"model\"\n",
      "_________________________________________________________________\n",
      " Layer (type)                Output Shape              Param #   \n",
      "=================================================================\n",
      " input_1 (InputLayer)        [(None, 30)]              0         \n",
      "                                                                 \n",
      " dense (Dense)               (None, 1)                 31        \n",
      "                                                                 \n",
      "=================================================================\n",
      "Total params: 31\n",
      "Trainable params: 31\n",
      "Non-trainable params: 0\n",
      "_________________________________________________________________\n"
     ]
    }
   ],
   "source": [
    "########\n",
    "# 모델링 : Functional API\n",
    "########\n",
    "# 1번 세션 클리어\n",
    "keras.backend.clear_session()\n",
    "\n",
    "# 2번 레이어 사슬처럼 엮기\n",
    "il = keras.layers.Input(shape=(30,))\n",
    "ol = keras.layers.Dense(1, activation='sigmoid')(il)\n",
    "\n",
    "# 3번 모델의 시작과 끝 지정\n",
    "model = keras.models.Model(il, ol)\n",
    "\n",
    "# 4번 컴파일\n",
    "model.compile(loss=keras.losses.binary_crossentropy, metrics=['accuracy'],\n",
    "             optimizer='adam')\n",
    "\n",
    "# 양념\n",
    "model.summary()"
   ]
  },
  {
   "cell_type": "code",
   "execution_count": 11,
   "metadata": {},
   "outputs": [],
   "source": [
    "from tensorflow.keras.utils import plot_model"
   ]
  },
  {
   "cell_type": "code",
   "execution_count": 12,
   "metadata": {},
   "outputs": [
    {
     "data": {
      "image/png": "[encoded data removed]",
      "text/plain": [
       "<IPython.core.display.Image object>"
      ]
     },
     "execution_count": 12,
     "metadata": {},
     "output_type": "execute_result"
    }
   ],
   "source": [
    "plot_model(model, show_shapes=True)"
   ]
  },
  {
   "cell_type": "code",
   "execution_count": 11,
   "metadata": {
    "id": "4U3tZ7PvbljS"
   },
   "outputs": [
    {
     "name": "stdout",
     "output_type": "stream",
     "text": [
      "Epoch 1/10\n",
      "12/12 [==============================] - 0s 9ms/step - loss: 58.6534 - accuracy: 0.6209 - val_loss: 40.5246 - val_accuracy: 0.6923\n",
      "Epoch 2/10\n",
      "12/12 [==============================] - 0s 2ms/step - loss: 46.1490 - accuracy: 0.6209 - val_loss: 30.6233 - val_accuracy: 0.6923\n",
      "Epoch 3/10\n",
      "12/12 [==============================] - 0s 2ms/step - loss: 33.6899 - accuracy: 0.6209 - val_loss: 20.6610 - val_accuracy: 0.6923\n",
      "Epoch 4/10\n",
      "12/12 [==============================] - 0s 2ms/step - loss: 21.6148 - accuracy: 0.6209 - val_loss: 10.5693 - val_accuracy: 0.7033\n",
      "Epoch 5/10\n",
      "12/12 [==============================] - 0s 2ms/step - loss: 9.7621 - accuracy: 0.6429 - val_loss: 2.2747 - val_accuracy: 0.8022\n",
      "Epoch 6/10\n",
      "12/12 [==============================] - 0s 2ms/step - loss: 2.0322 - accuracy: 0.7940 - val_loss: 0.7759 - val_accuracy: 0.8242\n",
      "Epoch 7/10\n",
      "12/12 [==============================] - 0s 2ms/step - loss: 1.6207 - accuracy: 0.7473 - val_loss: 1.0715 - val_accuracy: 0.7253\n",
      "Epoch 8/10\n",
      "12/12 [==============================] - 0s 2ms/step - loss: 1.4851 - accuracy: 0.7610 - val_loss: 0.6750 - val_accuracy: 0.8352\n",
      "Epoch 9/10\n",
      "12/12 [==============================] - 0s 2ms/step - loss: 1.2320 - accuracy: 0.8159 - val_loss: 0.6269 - val_accuracy: 0.8681\n",
      "Epoch 10/10\n",
      "12/12 [==============================] - 0s 2ms/step - loss: 1.2347 - accuracy: 0.8297 - val_loss: 0.6180 - val_accuracy: 0.8901\n"
     ]
    },
    {
     "data": {
      "text/plain": [
       "<keras.callbacks.History at 0x1dc8b566dc0>"
      ]
     },
     "execution_count": 11,
     "metadata": {},
     "output_type": "execute_result"
    }
   ],
   "source": [
    "###########\n",
    "# 모델 학습 : validation_split\n",
    "###########\n",
    "\n",
    "model.fit(x_train, y_train, epochs=10, verbose=1, validation_split=0.2)"
   ]
  },
  {
   "cell_type": "code",
   "execution_count": 12,
   "metadata": {
    "id": "prSYRU-_AlYz"
   },
   "outputs": [
    {
     "data": {
      "text/plain": [
       "array([0.9414184 , 0.999012  , 0.9991544 , 0.9993317 , 0.99999815],\n",
       "      dtype=float32)"
      ]
     },
     "execution_count": 12,
     "metadata": {},
     "output_type": "execute_result"
    }
   ],
   "source": [
    "###########\n",
    "# 모델 예측\n",
    "###########\n",
    "\n",
    "y_pred = model.predict(x_test)\n",
    "\n",
    "y_pred[:5].reshape(-1)"
   ]
  },
  {
   "cell_type": "code",
   "execution_count": 13,
   "metadata": {},
   "outputs": [
    {
     "data": {
      "text/plain": [
       "array([1, 1, 0, 1, 1])"
      ]
     },
     "execution_count": 13,
     "metadata": {},
     "output_type": "execute_result"
    }
   ],
   "source": [
    "y_test[:5]"
   ]
  },
  {
   "cell_type": "markdown",
   "metadata": {
    "id": "0xVNQT9V-Iev"
   },
   "source": [
    "# 히든 레이어 추가하여 모델링!\n",
    "\n",
    "    히든 레이어 2개를 추가하여 다시 모델링!\n",
    "    히든 레이어 노드 수 : 32\n",
    "    히든 레이어 activation = 'relu'"
   ]
  },
  {
   "cell_type": "code",
   "execution_count": 14,
   "metadata": {},
   "outputs": [
    {
     "data": {
      "text/plain": [
       "((455, 30), (455,))"
      ]
     },
     "execution_count": 14,
     "metadata": {},
     "output_type": "execute_result"
    }
   ],
   "source": [
    "x_train.shape, y_train.shape"
   ]
  },
  {
   "cell_type": "code",
   "execution_count": 17,
   "metadata": {
    "id": "y3PTU3m--xMa"
   },
   "outputs": [
    {
     "name": "stdout",
     "output_type": "stream",
     "text": [
      "Model: \"model\"\n",
      "_________________________________________________________________\n",
      " Layer (type)                Output Shape              Param #   \n",
      "=================================================================\n",
      " Input (InputLayer)          [(None, 30)]              0         \n",
      "                                                                 \n",
      " H1 (Dense)                  (None, 32)                992       \n",
      "                                                                 \n",
      " H2 (Dense)                  (None, 32)                1056      \n",
      "                                                                 \n",
      " Output (Dense)              (None, 1)                 33        \n",
      "                                                                 \n",
      "=================================================================\n",
      "Total params: 2,081\n",
      "Trainable params: 2,081\n",
      "Non-trainable params: 0\n",
      "_________________________________________________________________\n"
     ]
    }
   ],
   "source": [
    "########\n",
    "# 모델링 : Functional API\n",
    "########\n",
    "\n",
    "# 1번 세션 클리어\n",
    "keras.backend.clear_session()\n",
    "\n",
    "# 2번 레이어 사슬처럼 엮기\n",
    "il = keras.layers.Input(shape=(30,), name='Input' )\n",
    "hl = keras.layers.Dense(32, activation='relu', name='H1')(il)\n",
    "hl = keras.layers.Dense(32, activation='relu', name='H2')(hl)\n",
    "ol = keras.layers.Dense(1, activation='sigmoid', name='Output')(hl)\n",
    "\n",
    "# 3번 레이어의 시작과 끝 지정\n",
    "model = keras.models.Model(il, ol)\n",
    "\n",
    "# 4번 컴파일\n",
    "model.compile(loss='binary_crossentropy', metrics=['accuracy'], optimizer='adam')\n",
    "\n",
    "# 양념\n",
    "model.summary()"
   ]
  },
  {
   "cell_type": "code",
   "execution_count": 18,
   "metadata": {},
   "outputs": [],
   "source": [
    "from tensorflow.keras.utils import plot_model"
   ]
  },
  {
   "cell_type": "code",
   "execution_count": 19,
   "metadata": {},
   "outputs": [
    {
     "data": {
      "image/png": "[encoded data removed]",
      "text/plain": [
       "<IPython.core.display.Image object>"
      ]
     },
     "execution_count": 19,
     "metadata": {},
     "output_type": "execute_result"
    }
   ],
   "source": [
    "plot_model(model, show_shapes=True, show_layer_names=True)"
   ]
  },
  {
   "cell_type": "code",
   "execution_count": 16,
   "metadata": {
    "id": "HbvMea71-xMb"
   },
   "outputs": [
    {
     "name": "stdout",
     "output_type": "stream",
     "text": [
      "Epoch 1/10\n",
      "12/12 [==============================] - 0s 7ms/step - loss: 16.8842 - accuracy: 0.4121 - val_loss: 10.6003 - val_accuracy: 0.3077\n",
      "Epoch 2/10\n",
      "12/12 [==============================] - 0s 2ms/step - loss: 5.7339 - accuracy: 0.4423 - val_loss: 3.7126 - val_accuracy: 0.2088\n",
      "Epoch 3/10\n",
      "12/12 [==============================] - 0s 2ms/step - loss: 3.0494 - accuracy: 0.3901 - val_loss: 1.3517 - val_accuracy: 0.3407\n",
      "Epoch 4/10\n",
      "12/12 [==============================] - 0s 2ms/step - loss: 1.2758 - accuracy: 0.5467 - val_loss: 0.9359 - val_accuracy: 0.5055\n",
      "Epoch 5/10\n",
      "12/12 [==============================] - 0s 2ms/step - loss: 0.8665 - accuracy: 0.7225 - val_loss: 0.5973 - val_accuracy: 0.6703\n",
      "Epoch 6/10\n",
      "12/12 [==============================] - 0s 2ms/step - loss: 0.7828 - accuracy: 0.7060 - val_loss: 0.3478 - val_accuracy: 0.8681\n",
      "Epoch 7/10\n",
      "12/12 [==============================] - 0s 2ms/step - loss: 0.6091 - accuracy: 0.7692 - val_loss: 0.4164 - val_accuracy: 0.8462\n",
      "Epoch 8/10\n",
      "12/12 [==============================] - 0s 2ms/step - loss: 0.5534 - accuracy: 0.7967 - val_loss: 0.3374 - val_accuracy: 0.8571\n",
      "Epoch 9/10\n",
      "12/12 [==============================] - 0s 2ms/step - loss: 0.4598 - accuracy: 0.8407 - val_loss: 0.2730 - val_accuracy: 0.9121\n",
      "Epoch 10/10\n",
      "12/12 [==============================] - 0s 2ms/step - loss: 0.4031 - accuracy: 0.8434 - val_loss: 0.2568 - val_accuracy: 0.9341\n"
     ]
    },
    {
     "data": {
      "text/plain": [
       "<keras.callbacks.History at 0x1b3bf1058e0>"
      ]
     },
     "execution_count": 16,
     "metadata": {},
     "output_type": "execute_result"
    }
   ],
   "source": [
    "###########\n",
    "# 모델 학습\n",
    "###########\n",
    "\n",
    "model.fit(x_train, y_train, epochs=10, verbose=1, validation_split=0.2)"
   ]
  },
  {
   "cell_type": "code",
   "execution_count": null,
   "metadata": {
    "id": "_BZMmR5--xMb"
   },
   "outputs": [],
   "source": [
    "###########\n",
    "# 모델 예측\n",
    "###########\n",
    "\n"
   ]
  }
 ],
 "metadata": {
  "colab": {
   "collapsed_sections": [
    "0xVNQT9V-Iev"
   ],
   "name": "2_1_Review _ ANN Preview II.ipynb",
   "provenance": []
  },
  "kernelspec": {
   "display_name": "Python 3",
   "language": "python",
   "name": "python3"
  },
  "language_info": {
   "codemirror_mode": {
    "name": "ipython",
    "version": 3
   },
   "file_extension": ".py",
   "mimetype": "text/x-python",
   "name": "python",
   "nbconvert_exporter": "python",
   "pygments_lexer": "ipython3",
   "version": "3.8.8"
  }
 },
 "nbformat": 4,
 "nbformat_minor": 1
}
