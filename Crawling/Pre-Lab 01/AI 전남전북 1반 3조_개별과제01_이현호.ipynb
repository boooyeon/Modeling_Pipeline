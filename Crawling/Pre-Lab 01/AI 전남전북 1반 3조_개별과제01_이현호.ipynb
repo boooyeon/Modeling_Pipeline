{
 "cells": [
  {
   "cell_type": "markdown",
   "metadata": {
    "id": "gjb4QFVumX9X"
   },
   "source": [
    "### Netflix EDA\n",
    "- 아래의 서비스에서 데이터를 수집하여 EDA를 수행하세요.\n",
    "\n",
    "\n",
    "- flixpatrol 사이트에서 데이터 수집\n",
    "    - `https://flixpatrol.com/top10/netflix/world/2021/full/#netflix-1`\n",
    "\n",
    "\n",
    "- kaggle에서 netflix 컨텐츠 데이터 수집\n",
    "    - `https://www.kaggle.com/shivamb/netflix-shows`\n",
    "\n",
    "\n",
    "- 컨텐츠의 등급데이터는 아래의 코드 사용\n",
    "```\n",
    "ratings_ages = {'TV-PG': 'Older Kids', 'TV-MA': 'Adults', 'TV-Y7-FV': 'Older Kids',\n",
    "                  'TV-Y7': 'Older Kids', 'TV-14': 'Teens', 'R': 'Adults', 'TV-Y': 'Kids',\n",
    "                  'NR': 'Adults', 'PG-13': 'Teens', 'TV-G': 'Kids', 'PG': 'Older Kids',\n",
    "                  'G': 'Kids', 'UR': 'Adults', 'NC-17': 'Adults'}\n",
    "```"
   ]
  },
  {
   "cell_type": "markdown",
   "metadata": {},
   "source": [
    "#### EDA의 수행 절차\n",
    "- 데이터 수집\n",
    "- 결측 데이터의 처리\n",
    "- 데이터 탐색\n",
    "    - 수집한 데이터에서 자유롭게 주제를 선정하여 데이터 분석을 통한 인사이트 도출\n",
    "    - 예시 : 인도영화는 다른 국가보다 러닝타임이 길것이다. 컨텐츠의 퀄리티가 가장 좋은 국가는?"
   ]
  },
  {
   "cell_type": "markdown",
   "metadata": {
    "id": "g4w1j7NAynBx"
   },
   "source": [
    "#### 컨텐츠 타입과 컨텐츠 등급별 컨텐츠의 비율"
   ]
  },
  {
   "cell_type": "markdown",
   "metadata": {
    "id": "fqY1Bl980g24"
   },
   "source": [
    "결론 : 영화가 TV쇼 보다 청소년 관람불가 등급의 비율이 더 높고 TV가 영화보다 청소년관람등급의 컨텐츠의 비율이 더 높습니다."
   ]
  },
  {
   "cell_type": "markdown",
   "metadata": {},
   "source": [
    "# 패키지 불러오기"
   ]
  },
  {
   "cell_type": "code",
   "execution_count": 1,
   "metadata": {},
   "outputs": [],
   "source": [
    "import pandas as pd\n",
    "import requests\n",
    "import json\n",
    "from bs4 import BeautifulSoup"
   ]
  },
  {
   "cell_type": "markdown",
   "metadata": {},
   "source": [
    "# flixpatrol 데이터 크롤링"
   ]
  },
  {
   "cell_type": "code",
   "execution_count": 2,
   "metadata": {},
   "outputs": [],
   "source": [
    "url = \"https://flixpatrol.com/top10/netflix/world/2021/full/\""
   ]
  },
  {
   "cell_type": "code",
   "execution_count": 3,
   "metadata": {},
   "outputs": [
    {
     "data": {
      "text/plain": [
       "<Response [200]>"
      ]
     },
     "execution_count": 3,
     "metadata": {},
     "output_type": "execute_result"
    }
   ],
   "source": [
    "response = requests.get(url)\n",
    "response"
   ]
  },
  {
   "cell_type": "code",
   "execution_count": 4,
   "metadata": {},
   "outputs": [],
   "source": [
    "dom = BeautifulSoup(response.text, \"html.parser\")"
   ]
  },
  {
   "cell_type": "code",
   "execution_count": 5,
   "metadata": {},
   "outputs": [
    {
     "data": {
      "text/plain": [
       "176"
      ]
     },
     "execution_count": 5,
     "metadata": {},
     "output_type": "execute_result"
    }
   ],
   "source": [
    "elements = dom.select(\"#netflix-1 > div.-mx-content > div > div > table > tbody > tr\")\n",
    "len(elements)"
   ]
  },
  {
   "cell_type": "code",
   "execution_count": 8,
   "metadata": {},
   "outputs": [
    {
     "ename": "NameError",
     "evalue": "name 'element' is not defined",
     "output_type": "error",
     "traceback": [
      "\u001b[1;31m---------------------------------------------------------------------------\u001b[0m",
      "\u001b[1;31mNameError\u001b[0m                                 Traceback (most recent call last)",
      "\u001b[1;32m<ipython-input-8-b8af5854f011>\u001b[0m in \u001b[0;36m<module>\u001b[1;34m\u001b[0m\n\u001b[0;32m      1\u001b[0m \u001b[0mdatas\u001b[0m \u001b[1;33m=\u001b[0m \u001b[1;33m[\u001b[0m\u001b[1;33m]\u001b[0m\u001b[1;33m\u001b[0m\u001b[1;33m\u001b[0m\u001b[0m\n\u001b[0;32m      2\u001b[0m datas.append({\n\u001b[1;32m----> 3\u001b[1;33m     \u001b[1;34m\"title\"\u001b[0m \u001b[1;33m:\u001b[0m \u001b[0melement\u001b[0m\u001b[1;33m.\u001b[0m\u001b[0mselect\u001b[0m\u001b[1;33m(\u001b[0m\u001b[1;34m\"td\"\u001b[0m\u001b[1;33m)\u001b[0m\u001b[1;33m[\u001b[0m\u001b[1;36m2\u001b[0m\u001b[1;33m]\u001b[0m\u001b[1;33m.\u001b[0m\u001b[0mtext\u001b[0m\u001b[1;33m.\u001b[0m\u001b[0mstrip\u001b[0m\u001b[1;33m(\u001b[0m\u001b[1;33m)\u001b[0m\u001b[1;33m\u001b[0m\u001b[1;33m\u001b[0m\u001b[0m\n\u001b[0m\u001b[0;32m      4\u001b[0m })\n\u001b[0;32m      5\u001b[0m \u001b[0mdatas\u001b[0m\u001b[1;33m\u001b[0m\u001b[1;33m\u001b[0m\u001b[0m\n",
      "\u001b[1;31mNameError\u001b[0m: name 'element' is not defined"
     ]
    }
   ],
   "source": [
    "datas = []\n",
    "datas.append({\n",
    "    \"title\" : element.select(\"td\")[2].text.strip()\n",
    "})\n",
    "datas"
   ]
  },
  {
   "cell_type": "code",
   "execution_count": null,
   "metadata": {},
   "outputs": [],
   "source": [
    "datas = []\n",
    "for element in elements:\n",
    "    datas.append({\n",
    "        \"title\" : element.select(\"td\")[2].text.strip(),\n",
    "        \"point\" : element.select(\"td\")[3].text.strip(),\n",
    "        \"countries\" : element.select(\"td\")[5].text.strip(),\n",
    "        \"point/countries\" : element.select(\"td\")[6].text.strip(),\n",
    "        \"days\" : element.select(\"td\")[7].text.strip(),\n",
    "        \"point/days\" : element.select(\"td\")[8].text.strip(),\n",
    "    })\n",
    "top_netflix = pd.DataFrame(datas)\n",
    "top_netflix.head()"
   ]
  },
  {
   "cell_type": "markdown",
   "metadata": {},
   "source": [
    "# kaggle 데이터"
   ]
  },
  {
   "cell_type": "code",
   "execution_count": null,
   "metadata": {},
   "outputs": [],
   "source": [
    "netflix = pd.read_csv(\"netflix_titles.csv\")\n",
    "netflix.info()"
   ]
  },
  {
   "cell_type": "markdown",
   "metadata": {},
   "source": [
    "# flixpatrol + kaggle merge"
   ]
  },
  {
   "cell_type": "code",
   "execution_count": null,
   "metadata": {},
   "outputs": [],
   "source": [
    "new = pd.merge(top_netflix, netflix, on = \"title\")\n",
    "new.head(2)"
   ]
  },
  {
   "cell_type": "code",
   "execution_count": null,
   "metadata": {},
   "outputs": [],
   "source": [
    "new.info()"
   ]
  },
  {
   "cell_type": "code",
   "execution_count": null,
   "metadata": {},
   "outputs": [],
   "source": [
    "netflix.loc[netflix[\"type\"] == \"TV Show\"].info()"
   ]
  },
  {
   "cell_type": "code",
   "execution_count": null,
   "metadata": {},
   "outputs": [],
   "source": [
    "netflix.loc[netflix[\"type\"] == \"Movie\"].info()"
   ]
  },
  {
   "cell_type": "markdown",
   "metadata": {},
   "source": [
    "# kaggle 데이터 수정"
   ]
  },
  {
   "cell_type": "code",
   "execution_count": null,
   "metadata": {},
   "outputs": [],
   "source": [
    "ratings_ages = {'TV-PG': 'Older Kids', 'TV-MA': 'Adults', 'TV-Y7-FV': 'Older Kids',\n",
    "                'TV-Y7': 'Older Kids', 'TV-14': 'Teens', 'R': 'Adults', 'TV-Y': 'Kids',\n",
    "                'NR': 'Adults', 'PG-13': 'Teens', 'TV-G': 'Kids', 'PG': 'Older Kids',\n",
    "                'G': 'Kids', 'UR': 'Adults', 'NC-17': 'Adults'}\n",
    "\n",
    "for i in range(len(netflix[\"rating\"])) :\n",
    "    if netflix[\"rating\"][i] in ratings_ages :\n",
    "        netflix[\"rating\"][i] = ratings_ages[netflix[\"rating\"][i]]"
   ]
  },
  {
   "cell_type": "markdown",
   "metadata": {},
   "source": [
    "# "
   ]
  },
  {
   "cell_type": "code",
   "execution_count": 9,
   "metadata": {},
   "outputs": [
    {
     "name": "stdout",
     "output_type": "stream",
     "text": [
      "https://flixpatrol.com//title/red-notice/\n",
      "https://flixpatrol.com//title/we-can-be-heroes-2020/\n",
      "https://flixpatrol.com//title/army-of-the-dead/\n",
      "https://flixpatrol.com//title/wish-dragon/\n",
      "https://flixpatrol.com//title/army-of-thieves/\n",
      "https://flixpatrol.com//title/the-mitchells-vs-the-machines/\n",
      "https://flixpatrol.com//title/fatherhood/\n",
      "https://flixpatrol.com//title/the-unforgivable/\n",
      "https://flixpatrol.com//title/the-guilty-2021/\n",
      "https://flixpatrol.com//title/yes-day/\n",
      "https://flixpatrol.com//title/love-hard/\n",
      "https://flixpatrol.com//title/outside-the-wire/\n",
      "https://flixpatrol.com//title/love-and-monsters/\n",
      "https://flixpatrol.com//title/kate/\n",
      "https://flixpatrol.com//title/vivo/\n",
      "https://flixpatrol.com//title/minions/\n",
      "https://flixpatrol.com//title/back-to-the-outback/\n",
      "https://flixpatrol.com//title/hes-all-that/\n",
      "https://flixpatrol.com//title/sweet-girl/\n",
      "https://flixpatrol.com//title/blood-red-sky/\n",
      "https://flixpatrol.com//title/major-grom-plague-doctor/\n",
      "https://flixpatrol.com//title/my-little-pony-a-new-generation/\n",
      "https://flixpatrol.com//title/the-forgotten-battle/\n",
      "https://flixpatrol.com//title/the-kissing-booth-3/\n",
      "https://flixpatrol.com//title/to-all-the-boys-always-and-forever/\n",
      "https://flixpatrol.com//title/fast-furious-presents-hobbs-shaw/\n",
      "https://flixpatrol.com//title/thunder-force/\n",
      "https://flixpatrol.com//title/i-care-a-lot/\n",
      "https://flixpatrol.com//title/the-woman-in-the-window/\n",
      "https://flixpatrol.com//title/365-days/\n",
      "https://flixpatrol.com//title/the-harder-they-fall/\n",
      "https://flixpatrol.com//title/afterlife-of-the-party/\n",
      "https://flixpatrol.com//title/the-secret-life-of-pets-2/\n",
      "https://flixpatrol.com//title/the-last-mercenary/\n",
      "https://flixpatrol.com//title/a-boy-called-christmas/\n",
      "https://flixpatrol.com//title/finding-ohana/\n",
      "https://flixpatrol.com//title/night-teeth/\n",
      "https://flixpatrol.com//title/fifty-shades-of-grey/\n",
      "https://flixpatrol.com//title/resort-to-love/\n",
      "https://flixpatrol.com//title/news-of-the-world/\n",
      "https://flixpatrol.com//title/gemini-man/\n",
      "https://flixpatrol.com//title/things-heard-seen/\n",
      "https://flixpatrol.com//title/spider-man-homecoming/\n",
      "https://flixpatrol.com//title/awake-2021/\n",
      "https://flixpatrol.com//title/venom-2018/\n",
      "https://flixpatrol.com//title/deadly-illusions/\n",
      "https://flixpatrol.com//title/below-zero/\n",
      "https://flixpatrol.com//title/the-white-tiger/\n",
      "https://flixpatrol.com//title/sas-red-notice/\n",
      "https://flixpatrol.com//title/fear-street-1994/\n",
      "https://flixpatrol.com//title/spoiled-brats/\n",
      "https://flixpatrol.com//title/bruised/\n",
      "https://flixpatrol.com//title/sentinelle-2021/\n",
      "https://flixpatrol.com//title/hotel-transylvania-3-summer-vacation/\n",
      "https://flixpatrol.com//title/the-dig/\n",
      "https://flixpatrol.com//title/moxie/\n",
      "https://flixpatrol.com//title/intrusion/\n",
      "https://flixpatrol.com//title/sonic-the-hedgehog-2020/\n",
      "https://flixpatrol.com//title/a-castle-for-christmas/\n",
      "https://flixpatrol.com//title/pieces-of-a-woman/\n",
      "https://flixpatrol.com//title/man-on-fire-2004/\n",
      "https://flixpatrol.com//title/space-sweepers/\n",
      "https://flixpatrol.com//title/paper-lives/\n",
      "https://flixpatrol.com//title/spider-man-far-from-home/\n",
      "https://flixpatrol.com//title/secret-magic-control-agency/\n",
      "https://flixpatrol.com//title/xtreme/\n",
      "https://flixpatrol.com//title/chernobyl-abyss/\n",
      "https://flixpatrol.com//title/hypnotic/\n",
      "https://flixpatrol.com//title/beckett/\n",
      "https://flixpatrol.com//title/blackhat/\n",
      "https://flixpatrol.com//title/central-intelligence/\n",
      "https://flixpatrol.com//title/dont-look-up-2021/\n",
      "https://flixpatrol.com//title/the-loud-house-movie-2021/\n",
      "https://flixpatrol.com//title/the-grinch/\n",
      "https://flixpatrol.com//title/the-last-letter-from-your-lover/\n",
      "https://flixpatrol.com//title/penguins-of-madagascar/\n",
      "https://flixpatrol.com//title/schumacher/\n",
      "https://flixpatrol.com//title/the-princess-switch-3-romancing-the-star/\n",
      "https://flixpatrol.com//title/stowaway/\n",
      "https://flixpatrol.com//title/seaspiracy/\n",
      "https://flixpatrol.com//title/death-to-2020/\n",
      "https://flixpatrol.com//title/sky-high-2020/\n",
      "https://flixpatrol.com//title/kingdom-ashin-of-the-north/\n",
      "https://flixpatrol.com//title/aftermath-2021/\n",
      "https://flixpatrol.com//title/blue-miracle/\n",
      "https://flixpatrol.com//title/shrek/\n",
      "https://flixpatrol.com//title/the-secret-life-of-pets/\n",
      "https://flixpatrol.com//title/good-on-paper/\n",
      "https://flixpatrol.com//title/trollhunters-rise-of-the-titans/\n",
      "https://flixpatrol.com//title/theres-someone-inside-your-house/\n",
      "https://flixpatrol.com//title/jack-reacher-never-go-back/\n",
      "https://flixpatrol.com//title/squared-love/\n",
      "https://flixpatrol.com//title/the-equalizer-2/\n",
      "https://flixpatrol.com//title/the-silver-skates/\n",
      "https://flixpatrol.com//title/the-croods/\n",
      "https://flixpatrol.com//title/fear-street-1978/\n",
      "https://flixpatrol.com//title/i-am-all-girls/\n",
      "https://flixpatrol.com//title/bad-trip-2021/\n",
      "https://flixpatrol.com//title/double-dad/\n",
      "https://flixpatrol.com//title/stuck-together/\n",
      "https://flixpatrol.com//title/baywatch/\n",
      "https://flixpatrol.com//title/run-2021/\n",
      "https://flixpatrol.com//title/nightbooks/\n",
      "https://flixpatrol.com//title/crazy-about-her/\n",
      "https://flixpatrol.com//title/the-starling/\n",
      "https://flixpatrol.com//title/home/\n",
      "https://flixpatrol.com//title/fear-street-1666/\n",
      "https://flixpatrol.com//title/skater-girl/\n",
      "https://flixpatrol.com//title/yara/\n",
      "https://flixpatrol.com//title/prey-2021/\n",
      "https://flixpatrol.com//title/no-one-gets-out-alive/\n",
      "https://flixpatrol.com//title/the-water-man/\n",
      "https://flixpatrol.com//title/trouble/\n",
      "https://flixpatrol.com//title/rurouni-kenshin-the-final-2021/\n",
      "https://flixpatrol.com//title/the-stronghold-2021/\n",
      "https://flixpatrol.com//title/the-magnificent-seven-2016/\n",
      "https://flixpatrol.com//title/britney-vs-spears/\n",
      "https://flixpatrol.com//title/oxygen-2021/\n",
      "https://flixpatrol.com//title/ride-along-2/\n",
      "https://flixpatrol.com//title/the-father-who-moves-mountains/\n",
      "https://flixpatrol.com//title/how-i-became-a-superhero/\n",
      "https://flixpatrol.com//title/rurouni-kenshin-the-beginning/\n",
      "https://flixpatrol.com//title/kung-fu-panda-3/\n",
      "https://flixpatrol.com//title/the-midnight-sky/\n",
      "https://flixpatrol.com//title/security-2021/\n",
      "https://flixpatrol.com//title/red-dot/\n",
      "https://flixpatrol.com//title/warcraft/\n",
      "https://flixpatrol.com//title/the-girl-on-the-train-2021/\n",
      "https://flixpatrol.com//title/the-informer/\n",
      "https://flixpatrol.com//title/the-witcher-nightmare-of-the-wolf/\n",
      "https://flixpatrol.com//title/dracula-untold/\n",
      "https://flixpatrol.com//title/jumanji-welcome-to-the-jungle/\n",
      "https://flixpatrol.com//title/the-spongebob-movie-sponge-on-the-run/\n",
      "https://flixpatrol.com//title/into-the-beat/\n",
      "https://flixpatrol.com//title/shrek-2/\n",
      "https://flixpatrol.com//title/how-to-train-your-dragon-the-hidden-world/\n",
      "https://flixpatrol.com//title/once-upon-a-time-in-hollywood/\n",
      "https://flixpatrol.com//title/believe-me-the-abduction-of-lisa-mcvey/\n",
      "https://flixpatrol.com//title/what-men-want-2019/\n",
      "https://flixpatrol.com//title/jurassic-world/\n",
      "https://flixpatrol.com//title/dora-and-the-lost-city-of-gold/\n",
      "https://flixpatrol.com//title/seventh-son/\n",
      "https://flixpatrol.com//title/animals-on-the-loose-a-you-vs-wild-interactive-movie/\n",
      "https://flixpatrol.com//title/i-feel-pretty/\n",
      "https://flixpatrol.com//title/sightless/\n",
      "https://flixpatrol.com//title/the-swarm-2021/\n",
      "https://flixpatrol.com//title/tower-heist/\n",
      "https://flixpatrol.com//title/47-ronin/\n",
      "https://flixpatrol.com//title/monster-2018/\n",
      "https://flixpatrol.com//title/mortal-engines/\n",
      "https://flixpatrol.com//title/ted-2/\n",
      "https://flixpatrol.com//title/ripd/\n",
      "https://flixpatrol.com//title/a-week-away/\n",
      "https://flixpatrol.com//title/this-little-love-of-mine/\n",
      "https://flixpatrol.com//title/men-in-black-international/\n",
      "https://flixpatrol.com//title/the-emoji-movie/\n",
      "https://flixpatrol.com//title/operation-varsity-blues-the-college-admissions-scandal/\n",
      "https://flixpatrol.com//title/madame-claude/\n",
      "https://flixpatrol.com//title/the-yin-yang-master/\n",
      "https://flixpatrol.com//title/the-adventures-of-sharkboy-and-lavagirl/\n",
      "https://flixpatrol.com//title/rurouni-kenshin-part-i-origins/\n",
      "https://flixpatrol.com//title/sniper-ultimate-kill/\n",
      "https://flixpatrol.com//title/angel-has-fallen/\n",
      "https://flixpatrol.com//title/twilight/\n",
      "https://flixpatrol.com//title/the-twilight-saga-breaking-dawn--part-2/\n",
      "https://flixpatrol.com//title/aquaman/\n",
      "https://flixpatrol.com//title/room/\n",
      "https://flixpatrol.com//title/i-see-you/\n",
      "https://flixpatrol.com//title/2012/\n",
      "https://flixpatrol.com//title/wanted/\n",
      "https://flixpatrol.com//title/just-say-yes/\n",
      "https://flixpatrol.com//title/scoob/\n",
      "https://flixpatrol.com//title/the-son-of-bigfoot/\n",
      "https://flixpatrol.com//title/ava-2020/\n",
      "https://flixpatrol.com//title/bombshell/\n",
      "https://flixpatrol.com//title/man-on-a-ledge/\n"
     ]
    }
   ],
   "source": [
    "for element in elements:\n",
    "    print(\"https://flixpatrol.com/\" + element.select(\"td\")[2].select_one(\"a\").get(\"href\"))\n"
   ]
  },
  {
   "cell_type": "code",
   "execution_count": null,
   "metadata": {},
   "outputs": [],
   "source": [
    "def mois():\n",
    "    url = \"https://flixpatrol.com//title/red-notice/\"\n",
    "    response = requests.get(url)\n",
    "    dom = BeautifulSoup(response.text, \"html.parser\")\n",
    "    country = dom.select_one(\"body > div.content.mt-4 > div > div.flex-grow > div.mb-6 > div.flex.flex-wrap.text-gray-500 > div > span:nth-child(3)\").text\n",
    "    return country"
   ]
  },
  {
   "cell_type": "code",
   "execution_count": null,
   "metadata": {},
   "outputs": [],
   "source": [
    "mois()"
   ]
  }
 ],
 "metadata": {
  "colab": {
   "collapsed_sections": [],
   "name": "netflix_project.ipynb",
   "provenance": []
  },
  "kernelspec": {
   "display_name": "Python 3",
   "language": "python",
   "name": "python3"
  },
  "language_info": {
   "codemirror_mode": {
    "name": "ipython",
    "version": 3
   },
   "file_extension": ".py",
   "mimetype": "text/x-python",
   "name": "python",
   "nbconvert_exporter": "python",
   "pygments_lexer": "ipython3",
   "version": "3.8.8"
  },
  "toc": {
   "base_numbering": 1,
   "nav_menu": {},
   "number_sections": false,
   "sideBar": true,
   "skip_h1_title": false,
   "title_cell": "Table of Contents",
   "title_sidebar": "Contents",
   "toc_cell": false,
   "toc_position": {},
   "toc_section_display": true,
   "toc_window_display": false
  }
 },
 "nbformat": 4,
 "nbformat_minor": 1
}
