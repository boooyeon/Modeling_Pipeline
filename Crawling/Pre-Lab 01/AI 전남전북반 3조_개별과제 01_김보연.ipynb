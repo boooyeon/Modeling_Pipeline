{
 "cells": [
  {
   "cell_type": "markdown",
   "metadata": {
    "id": "gjb4QFVumX9X"
   },
   "source": [
    "### Netflix EDA\n",
    "- 아래의 서비스에서 데이터를 수집하여 EDA를 수행하세요.\n",
    "\n",
    "\n",
    "- flixpatrol 사이트에서 데이터 수집\n",
    "    - `https://flixpatrol.com/top10/netflix/world/2021/full/#netflix-1`\n",
    "\n",
    "\n",
    "- kaggle에서 netflix 컨텐츠 데이터 수집\n",
    "    - `https://www.kaggle.com/shivamb/netflix-shows`\n",
    "\n",
    "\n",
    "- 컨텐츠의 등급데이터는 아래의 코드 사용\n",
    "```\n",
    "ratings_ages = {'TV-PG': 'Older Kids', 'TV-MA': 'Adults', 'TV-Y7-FV': 'Older Kids',\n",
    "                  'TV-Y7': 'Older Kids', 'TV-14': 'Teens', 'R': 'Adults', 'TV-Y': 'Kids',\n",
    "                  'NR': 'Adults', 'PG-13': 'Teens', 'TV-G': 'Kids', 'PG': 'Older Kids',\n",
    "                  'G': 'Kids', 'UR': 'Adults', 'NC-17': 'Adults'}\n",
    "```"
   ]
  },
  {
   "cell_type": "markdown",
   "metadata": {},
   "source": [
    "#### EDA의 수행 절차\n",
    "- 데이터 수집\n",
    "- 결측 데이터의 처리\n",
    "- 데이터 탐색\n",
    "    - 수집한 데이터에서 자유롭게 주제를 선정하여 데이터 분석을 통한 인사이트 도출\n",
    "    - 예시 : 인도영화는 다른 국가보다 러닝타임이 길것이다. 컨텐츠의 퀄리티가 가장 좋은 국가는?"
   ]
  },
  {
   "cell_type": "markdown",
   "metadata": {},
   "source": [
    "### 한국 Top10 영화 데이터 수집"
   ]
  },
  {
   "cell_type": "code",
   "execution_count": 67,
   "metadata": {},
   "outputs": [],
   "source": [
    "import requests\n",
    "import pandas as pd\n",
    "from bs4 import BeautifulSoup"
   ]
  },
  {
   "cell_type": "code",
   "execution_count": 68,
   "metadata": {},
   "outputs": [],
   "source": [
    "# 1. 웹서비스 분석 : URL"
   ]
  },
  {
   "cell_type": "code",
   "execution_count": 69,
   "metadata": {},
   "outputs": [
    {
     "data": {
      "text/plain": [
       "'https://flixpatrol.com/top10/netflix/south-korea/2021/'"
      ]
     },
     "execution_count": 69,
     "metadata": {},
     "output_type": "execute_result"
    }
   ],
   "source": [
    "country = \"south-korea\"\n",
    "year = \"2021\"\n",
    "url = f\"https://flixpatrol.com/top10/netflix/{country}/{year}/\"\n",
    "url"
   ]
  },
  {
   "cell_type": "code",
   "execution_count": 70,
   "metadata": {},
   "outputs": [],
   "source": [
    "# 2. request(url) > response(data) : data(html) *이때, html문자열은 한페이지 모두"
   ]
  },
  {
   "cell_type": "code",
   "execution_count": 71,
   "metadata": {},
   "outputs": [
    {
     "data": {
      "text/plain": [
       "<Response [200]>"
      ]
     },
     "execution_count": 71,
     "metadata": {},
     "output_type": "execute_result"
    }
   ],
   "source": [
    "response = requests.get(url)\n",
    "response"
   ]
  },
  {
   "cell_type": "code",
   "execution_count": 72,
   "metadata": {},
   "outputs": [
    {
     "data": {
      "text/plain": [
       "'<!DOCTYPE html>\\n<html lang=\"en\">\\n<head>\\n\\t<meta http-equiv=\"Content-Type\" content=\"text/html; charset=UTF-8\">\\n\\t<meta name=\"viewport\" content=\"width=device-width, initial-scale=1, shrink-to-fit=no\">\\n\\t<title>TOP 10 on Netflix in South Korea in 2021 • FlixPatrol</title>\\n\\t<link rel=\"preload\" as=\"font\" type=\"font/woff2\" crossorigin href=\"/static/fonts/Inter-roman.var.woff2?v=3.18\" nonce=\"ObITytRtXq/jyzs7JIzFEQ==\">\\n\\t<link rel=\"stylesheet\" type=\"text/css\" href=\"/static/dist/all.min.css?v=ec3a8b3a\" nonce'"
      ]
     },
     "execution_count": 72,
     "metadata": {},
     "output_type": "execute_result"
    }
   ],
   "source": [
    "response.text[:500]"
   ]
  },
  {
   "cell_type": "code",
   "execution_count": 73,
   "metadata": {},
   "outputs": [],
   "source": [
    "# 3. data(html) > bs_obj.select(css-selector) > text "
   ]
  },
  {
   "cell_type": "code",
   "execution_count": 74,
   "metadata": {},
   "outputs": [],
   "source": [
    "dom = BeautifulSoup(response.text, \"html.parser\")"
   ]
  },
  {
   "cell_type": "code",
   "execution_count": 75,
   "metadata": {},
   "outputs": [
    {
     "data": {
      "text/plain": [
       "10"
      ]
     },
     "execution_count": 75,
     "metadata": {},
     "output_type": "execute_result"
    }
   ],
   "source": [
    "elements = dom.select(\"#netflix-1 > div.-mx-content > div > div > table > tbody > tr\")\n",
    "len(elements)"
   ]
  },
  {
   "cell_type": "code",
   "execution_count": 76,
   "metadata": {},
   "outputs": [
    {
     "data": {
      "text/plain": [
       "{'no': '1.', 'title': '365 Days', 'points': '573'}"
      ]
     },
     "execution_count": 76,
     "metadata": {},
     "output_type": "execute_result"
    }
   ],
   "source": [
    "# 각 데이터에서 필요한 정보 수집\n",
    "element = elements[0]\n",
    "data = {\n",
    "    #strip() : 앞뒤 공백 문자 제거\n",
    "    \"no\":element.select(\"td\")[0].text.strip(),\n",
    "    \"title\":element.select(\"td\")[1].select_one(\"a\").text.strip(),\n",
    "    \"points\":element.select(\"td\")[2].text.strip(),\n",
    "\n",
    "}\n",
    "\n",
    "data"
   ]
  },
  {
   "cell_type": "code",
   "execution_count": 77,
   "metadata": {
    "scrolled": true
   },
   "outputs": [
    {
     "data": {
      "text/html": [
       "<div>\n",
       "<style scoped>\n",
       "    .dataframe tbody tr th:only-of-type {\n",
       "        vertical-align: middle;\n",
       "    }\n",
       "\n",
       "    .dataframe tbody tr th {\n",
       "        vertical-align: top;\n",
       "    }\n",
       "\n",
       "    .dataframe thead th {\n",
       "        text-align: right;\n",
       "    }\n",
       "</style>\n",
       "<table border=\"1\" class=\"dataframe\">\n",
       "  <thead>\n",
       "    <tr style=\"text-align: right;\">\n",
       "      <th></th>\n",
       "      <th>no</th>\n",
       "      <th>title</th>\n",
       "      <th>points</th>\n",
       "    </tr>\n",
       "  </thead>\n",
       "  <tbody>\n",
       "    <tr>\n",
       "      <th>8</th>\n",
       "      <td>9.</td>\n",
       "      <td>Parasite</td>\n",
       "      <td>241</td>\n",
       "    </tr>\n",
       "    <tr>\n",
       "      <th>9</th>\n",
       "      <td>10.</td>\n",
       "      <td>Samjin Company English Class</td>\n",
       "      <td>238</td>\n",
       "    </tr>\n",
       "  </tbody>\n",
       "</table>\n",
       "</div>"
      ],
      "text/plain": [
       "    no                         title points\n",
       "8   9.                      Parasite    241\n",
       "9  10.  Samjin Company English Class    238"
      ]
     },
     "execution_count": 77,
     "metadata": {},
     "output_type": "execute_result"
    }
   ],
   "source": [
    "# [{row1}, {row2}, ...] 형태의 데이터프레임으로 만들어주기\n",
    "data = []\n",
    "for element in elements:\n",
    "    data.append({\n",
    "        \"no\":element.select(\"td\")[0].text.strip(),\n",
    "        \"title\":element.select(\"td\")[1].select_one(\"a\").text.strip(),\n",
    "        \"points\":element.select(\"td\")[2].text.strip(),\n",
    "    })\n",
    "df = pd.DataFrame(data)\n",
    "df.tail(2)"
   ]
  },
  {
   "cell_type": "code",
   "execution_count": 78,
   "metadata": {},
   "outputs": [],
   "source": [
    "# function 함수화 : 국가별 Top10 영화 데이터 수집"
   ]
  },
  {
   "cell_type": "code",
   "execution_count": 79,
   "metadata": {},
   "outputs": [],
   "source": [
    "def topmovies(country, year):\n",
    "    # 1. 웹서비스 분석 : URL\n",
    "    url = f\"https://flixpatrol.com/top10/netflix/{country}/{year}/\"\n",
    "    # 2. request(url) > response(data) : data(html) *이때, html문자열은 한페이지 모두\n",
    "    response = requests.get(url)\n",
    "    # 3. data(html) > bs_obj.select(css-selector) > text \n",
    "    dom = BeautifulSoup(response.text, \"html.parser\")\n",
    "    elements = dom.select(\"#netflix-1 > div.-mx-content > div > div > table > tbody > tr\")\n",
    "    element = elements[0]\n",
    "    # [{row1}, {row2}, ...] 형태의 데이터프레임으로 만들어주기\n",
    "    data = []\n",
    "    for element in elements:\n",
    "        data.append({\n",
    "            \"no\":element.select(\"td\")[0].text.strip(),\n",
    "            \"title\":element.select(\"td\")[1].select_one(\"a\").text.strip(),\n",
    "            \"points\":element.select(\"td\")[2].text.strip(),\n",
    "        })\n",
    "    df = pd.DataFrame(data)\n",
    "    return df"
   ]
  },
  {
   "cell_type": "code",
   "execution_count": 80,
   "metadata": {},
   "outputs": [
    {
     "data": {
      "text/html": [
       "<div>\n",
       "<style scoped>\n",
       "    .dataframe tbody tr th:only-of-type {\n",
       "        vertical-align: middle;\n",
       "    }\n",
       "\n",
       "    .dataframe tbody tr th {\n",
       "        vertical-align: top;\n",
       "    }\n",
       "\n",
       "    .dataframe thead th {\n",
       "        text-align: right;\n",
       "    }\n",
       "</style>\n",
       "<table border=\"1\" class=\"dataframe\">\n",
       "  <thead>\n",
       "    <tr style=\"text-align: right;\">\n",
       "      <th></th>\n",
       "      <th>no</th>\n",
       "      <th>title</th>\n",
       "      <th>points</th>\n",
       "    </tr>\n",
       "  </thead>\n",
       "  <tbody>\n",
       "    <tr>\n",
       "      <th>0</th>\n",
       "      <td>1.</td>\n",
       "      <td>Don't Look Up</td>\n",
       "      <td>265</td>\n",
       "    </tr>\n",
       "    <tr>\n",
       "      <th>1</th>\n",
       "      <td>2.</td>\n",
       "      <td>Despicable Me 2</td>\n",
       "      <td>173</td>\n",
       "    </tr>\n",
       "    <tr>\n",
       "      <th>2</th>\n",
       "      <td>3.</td>\n",
       "      <td>The Tinder Swindler</td>\n",
       "      <td>165</td>\n",
       "    </tr>\n",
       "    <tr>\n",
       "      <th>3</th>\n",
       "      <td>4.</td>\n",
       "      <td>Just Go with It</td>\n",
       "      <td>148</td>\n",
       "    </tr>\n",
       "    <tr>\n",
       "      <th>4</th>\n",
       "      <td>5.</td>\n",
       "      <td>The Royal Treatment</td>\n",
       "      <td>117</td>\n",
       "    </tr>\n",
       "    <tr>\n",
       "      <th>5</th>\n",
       "      <td>6.</td>\n",
       "      <td>Journey 2: The Mysterious Island</td>\n",
       "      <td>109</td>\n",
       "    </tr>\n",
       "    <tr>\n",
       "      <th>6</th>\n",
       "      <td>7.</td>\n",
       "      <td>Despicable Me</td>\n",
       "      <td>107</td>\n",
       "    </tr>\n",
       "    <tr>\n",
       "      <th>7</th>\n",
       "      <td>8.</td>\n",
       "      <td>Brazen</td>\n",
       "      <td>103</td>\n",
       "    </tr>\n",
       "    <tr>\n",
       "      <th>8</th>\n",
       "      <td>9.</td>\n",
       "      <td>Home Team</td>\n",
       "      <td>99</td>\n",
       "    </tr>\n",
       "    <tr>\n",
       "      <th>9</th>\n",
       "      <td>10.</td>\n",
       "      <td>The Longest Yard</td>\n",
       "      <td>97</td>\n",
       "    </tr>\n",
       "  </tbody>\n",
       "</table>\n",
       "</div>"
      ],
      "text/plain": [
       "    no                             title points\n",
       "0   1.                     Don't Look Up    265\n",
       "1   2.                   Despicable Me 2    173\n",
       "2   3.               The Tinder Swindler    165\n",
       "3   4.                   Just Go with It    148\n",
       "4   5.               The Royal Treatment    117\n",
       "5   6.  Journey 2: The Mysterious Island    109\n",
       "6   7.                     Despicable Me    107\n",
       "7   8.                            Brazen    103\n",
       "8   9.                         Home Team     99\n",
       "9  10.                  The Longest Yard     97"
      ]
     },
     "execution_count": 80,
     "metadata": {},
     "output_type": "execute_result"
    }
   ],
   "source": [
    "country = \"united-states\"\n",
    "year = \"2022\"\n",
    "topmovies(country, year)"
   ]
  },
  {
   "cell_type": "code",
   "execution_count": null,
   "metadata": {},
   "outputs": [],
   "source": []
  },
  {
   "cell_type": "markdown",
   "metadata": {},
   "source": [
    "### 한국 Top10 드라마 데이터 수집"
   ]
  },
  {
   "cell_type": "code",
   "execution_count": 81,
   "metadata": {},
   "outputs": [],
   "source": [
    "# 1. 웹서비스 분석 : URL"
   ]
  },
  {
   "cell_type": "code",
   "execution_count": 82,
   "metadata": {},
   "outputs": [],
   "source": [
    "url = \"https://flixpatrol.com/top10/netflix/south-korea/2021/\""
   ]
  },
  {
   "cell_type": "code",
   "execution_count": 83,
   "metadata": {},
   "outputs": [],
   "source": [
    "# 2. request(url) > response(data) : data(html) *이때, html문자열은 한페이지 모두"
   ]
  },
  {
   "cell_type": "code",
   "execution_count": 84,
   "metadata": {},
   "outputs": [
    {
     "data": {
      "text/plain": [
       "<Response [200]>"
      ]
     },
     "execution_count": 84,
     "metadata": {},
     "output_type": "execute_result"
    }
   ],
   "source": [
    "response = requests.get(url)\n",
    "response"
   ]
  },
  {
   "cell_type": "code",
   "execution_count": 85,
   "metadata": {},
   "outputs": [
    {
     "data": {
      "text/plain": [
       "'<!DOCTYPE html>\\n<html lang=\"en\">\\n<head>\\n\\t<meta http-equiv=\"Content-Type\" content=\"text/html; charset=UTF-8\">\\n\\t<meta name=\"viewport\" content=\"width=device-width, initial-scale=1, shrink-to-fit=no\">\\n\\t<title>TOP 10 on Netflix in South Korea in 2021 • FlixPatrol</title>\\n\\t<link rel=\"preload\" as=\"font\" type=\"font/woff2\" crossorigin href=\"/static/fonts/Inter-roman.var.woff2?v=3.18\" nonce=\"9GKKEvlJUH+ZaatWTBKCXw==\">\\n\\t<link rel=\"stylesheet\" type=\"text/css\" href=\"/static/dist/all.min.css?v=ec3a8b3a\" nonce'"
      ]
     },
     "execution_count": 85,
     "metadata": {},
     "output_type": "execute_result"
    }
   ],
   "source": [
    "response.text[:500]"
   ]
  },
  {
   "cell_type": "code",
   "execution_count": 86,
   "metadata": {},
   "outputs": [],
   "source": [
    "# 3. data(html) > bs_obj.select(css-selector) > text "
   ]
  },
  {
   "cell_type": "code",
   "execution_count": 87,
   "metadata": {},
   "outputs": [],
   "source": [
    "dom = BeautifulSoup(response.text, \"html.parser\")"
   ]
  },
  {
   "cell_type": "code",
   "execution_count": 88,
   "metadata": {},
   "outputs": [
    {
     "data": {
      "text/plain": [
       "10"
      ]
     },
     "execution_count": 88,
     "metadata": {},
     "output_type": "execute_result"
    }
   ],
   "source": [
    "elements = dom.select(\"#netflix-2 > div.-mx-content > div > div > table > tbody > tr\")\n",
    "len(elements)"
   ]
  },
  {
   "cell_type": "code",
   "execution_count": 89,
   "metadata": {},
   "outputs": [
    {
     "data": {
      "text/plain": [
       "{'no': '1.', 'title': 'Hospital Playlist', 'points': '1,215'}"
      ]
     },
     "execution_count": 89,
     "metadata": {},
     "output_type": "execute_result"
    }
   ],
   "source": [
    "# 각 데이터에서 필요한 정보 수집\n",
    "element = elements[0]\n",
    "data = {\n",
    "    #strip() : 앞뒤 공백 문자 제거\n",
    "    \"no\":element.select(\"td\")[0].text.strip(),\n",
    "    \"title\":element.select(\"td\")[1].select_one(\"a\").text.strip(),\n",
    "    \"points\":element.select(\"td\")[2].text.strip(),\n",
    "\n",
    "}\n",
    "\n",
    "data"
   ]
  },
  {
   "cell_type": "code",
   "execution_count": 90,
   "metadata": {},
   "outputs": [
    {
     "data": {
      "text/html": [
       "<div>\n",
       "<style scoped>\n",
       "    .dataframe tbody tr th:only-of-type {\n",
       "        vertical-align: middle;\n",
       "    }\n",
       "\n",
       "    .dataframe tbody tr th {\n",
       "        vertical-align: top;\n",
       "    }\n",
       "\n",
       "    .dataframe thead th {\n",
       "        text-align: right;\n",
       "    }\n",
       "</style>\n",
       "<table border=\"1\" class=\"dataframe\">\n",
       "  <thead>\n",
       "    <tr style=\"text-align: right;\">\n",
       "      <th></th>\n",
       "      <th>no</th>\n",
       "      <th>title</th>\n",
       "      <th>points</th>\n",
       "    </tr>\n",
       "  </thead>\n",
       "  <tbody>\n",
       "    <tr>\n",
       "      <th>8</th>\n",
       "      <td>9.</td>\n",
       "      <td>Sisyphus: The Myth</td>\n",
       "      <td>542</td>\n",
       "    </tr>\n",
       "    <tr>\n",
       "      <th>9</th>\n",
       "      <td>10.</td>\n",
       "      <td>The King's Affection</td>\n",
       "      <td>540</td>\n",
       "    </tr>\n",
       "  </tbody>\n",
       "</table>\n",
       "</div>"
      ],
      "text/plain": [
       "    no                 title points\n",
       "8   9.    Sisyphus: The Myth    542\n",
       "9  10.  The King's Affection    540"
      ]
     },
     "execution_count": 90,
     "metadata": {},
     "output_type": "execute_result"
    }
   ],
   "source": [
    "# [{row1}, {row2}, ...] 형태의 데이터프레임으로 만들어주기\n",
    "data = []\n",
    "for element in elements:\n",
    "    data.append({\n",
    "        \"no\":element.select(\"td\")[0].text.strip(),\n",
    "        \"title\":element.select(\"td\")[1].select_one(\"a\").text.strip(),\n",
    "        \"points\":element.select(\"td\")[2].text.strip(),\n",
    "    })\n",
    "df = pd.DataFrame(data)\n",
    "df.tail(2)"
   ]
  },
  {
   "cell_type": "code",
   "execution_count": 91,
   "metadata": {},
   "outputs": [],
   "source": [
    "def topshows(country, year):\n",
    "    # 1. 웹서비스 분석 : URL\n",
    "    url = f\"https://flixpatrol.com/top10/netflix/{country}/{year}/\"\n",
    "    # 2. request(url) > response(data) : data(html) *이때, html문자열은 한페이지 모두\n",
    "    response = requests.get(url)\n",
    "    # 3. data(html) > bs_obj.select(css-selector) > text \n",
    "    dom = BeautifulSoup(response.text, \"html.parser\")\n",
    "    elements = dom.select(\"#netflix-2 > div.-mx-content > div > div > table > tbody > tr\")\n",
    "    element = elements[0]\n",
    "    # [{row1}, {row2}, ...] 형태의 데이터프레임으로 만들어주기\n",
    "    data = []\n",
    "    for element in elements:\n",
    "        data.append({\n",
    "            \"no\":element.select(\"td\")[0].text.strip(),\n",
    "            \"title\":element.select(\"td\")[1].select_one(\"a\").text.strip(),\n",
    "            \"points\":element.select(\"td\")[2].text.strip(),\n",
    "        })\n",
    "\n",
    "    return pd.DataFrame(data)"
   ]
  },
  {
   "cell_type": "code",
   "execution_count": 92,
   "metadata": {},
   "outputs": [
    {
     "data": {
      "text/html": [
       "<div>\n",
       "<style scoped>\n",
       "    .dataframe tbody tr th:only-of-type {\n",
       "        vertical-align: middle;\n",
       "    }\n",
       "\n",
       "    .dataframe tbody tr th {\n",
       "        vertical-align: top;\n",
       "    }\n",
       "\n",
       "    .dataframe thead th {\n",
       "        text-align: right;\n",
       "    }\n",
       "</style>\n",
       "<table border=\"1\" class=\"dataframe\">\n",
       "  <thead>\n",
       "    <tr style=\"text-align: right;\">\n",
       "      <th></th>\n",
       "      <th>no</th>\n",
       "      <th>title</th>\n",
       "      <th>points</th>\n",
       "    </tr>\n",
       "  </thead>\n",
       "  <tbody>\n",
       "    <tr>\n",
       "      <th>0</th>\n",
       "      <td>1.</td>\n",
       "      <td>Ozark</td>\n",
       "      <td>262</td>\n",
       "    </tr>\n",
       "    <tr>\n",
       "      <th>1</th>\n",
       "      <td>2.</td>\n",
       "      <td>Cobra Kai</td>\n",
       "      <td>230</td>\n",
       "    </tr>\n",
       "    <tr>\n",
       "      <th>2</th>\n",
       "      <td>3.</td>\n",
       "      <td>All of Us are Dead</td>\n",
       "      <td>180</td>\n",
       "    </tr>\n",
       "    <tr>\n",
       "      <th>3</th>\n",
       "      <td>4.</td>\n",
       "      <td>Stay Close</td>\n",
       "      <td>172</td>\n",
       "    </tr>\n",
       "    <tr>\n",
       "      <th>4</th>\n",
       "      <td>5.</td>\n",
       "      <td>The Witcher</td>\n",
       "      <td>171</td>\n",
       "    </tr>\n",
       "    <tr>\n",
       "      <th>5</th>\n",
       "      <td>6.</td>\n",
       "      <td>Archive 81</td>\n",
       "      <td>167</td>\n",
       "    </tr>\n",
       "    <tr>\n",
       "      <th>6</th>\n",
       "      <td>7.</td>\n",
       "      <td>Sweet Magnolias</td>\n",
       "      <td>152</td>\n",
       "    </tr>\n",
       "    <tr>\n",
       "      <th>7</th>\n",
       "      <td>8.</td>\n",
       "      <td>CoComelon</td>\n",
       "      <td>151</td>\n",
       "    </tr>\n",
       "    <tr>\n",
       "      <th>8</th>\n",
       "      <td>9.</td>\n",
       "      <td>Cheer</td>\n",
       "      <td>133</td>\n",
       "    </tr>\n",
       "    <tr>\n",
       "      <th>9</th>\n",
       "      <td>10.</td>\n",
       "      <td>The Woman in the House Across the Street from ...</td>\n",
       "      <td>128</td>\n",
       "    </tr>\n",
       "  </tbody>\n",
       "</table>\n",
       "</div>"
      ],
      "text/plain": [
       "    no                                              title points\n",
       "0   1.                                              Ozark    262\n",
       "1   2.                                          Cobra Kai    230\n",
       "2   3.                                 All of Us are Dead    180\n",
       "3   4.                                         Stay Close    172\n",
       "4   5.                                        The Witcher    171\n",
       "5   6.                                         Archive 81    167\n",
       "6   7.                                    Sweet Magnolias    152\n",
       "7   8.                                          CoComelon    151\n",
       "8   9.                                              Cheer    133\n",
       "9  10.  The Woman in the House Across the Street from ...    128"
      ]
     },
     "execution_count": 92,
     "metadata": {},
     "output_type": "execute_result"
    }
   ],
   "source": [
    "country = \"united-states\"\n",
    "year = \"2022\"\n",
    "topshows(country, year)"
   ]
  },
  {
   "cell_type": "markdown",
   "metadata": {},
   "source": [
    "### Total Movies on Netflix in 2021"
   ]
  },
  {
   "cell_type": "code",
   "execution_count": 132,
   "metadata": {},
   "outputs": [],
   "source": [
    "def totalmovies(year):\n",
    "    # 1. 웹서비스 분석 : URL\n",
    "    url = f\"https://flixpatrol.com/top10/netflix/world/{year}/full/\"\n",
    "    # 2. request(url) > response(data) : data(html) *이때, html문자열은 한페이지 모두\n",
    "    response = requests.get(url)\n",
    "    # 3. data(html) > bs_obj.select(css-selector) > text \n",
    "    dom = BeautifulSoup(response.text, \"html.parser\")\n",
    "    elements = dom.select(\"#netflix-1 > div.-mx-content > div > div > table > tbody > tr\")\n",
    "    element = elements[0]\n",
    "    # [{row1}, {row2}, ...] 형태의 데이터프레임으로 만들어주기\n",
    "    data = []\n",
    "    for element in elements:\n",
    "        data.append({\n",
    "            \"title\" : element.select(\"td\")[2].text.strip(),\n",
    "            \"point\" : element.select(\"td\")[3].text.strip(),\n",
    "            \"countries\" : element.select(\"td\")[5].text.strip(),\n",
    "            \"point/countries\" : element.select(\"td\")[6].text.strip(),\n",
    "            \"days\" : element.select(\"td\")[7].text.strip(),\n",
    "            \"point/days\" : element.select(\"td\")[8].text.strip(),\n",
    "        })\n",
    "    totalmovies = pd.DataFrame(data)\n",
    "    return totalmovies"
   ]
  },
  {
   "cell_type": "code",
   "execution_count": 133,
   "metadata": {
    "scrolled": false
   },
   "outputs": [],
   "source": [
    "year = \"2021\"\n",
    "totalmovies = totalmovies(year)\n"
   ]
  },
  {
   "cell_type": "code",
   "execution_count": 134,
   "metadata": {},
   "outputs": [
    {
     "data": {
      "text/html": [
       "<div>\n",
       "<style scoped>\n",
       "    .dataframe tbody tr th:only-of-type {\n",
       "        vertical-align: middle;\n",
       "    }\n",
       "\n",
       "    .dataframe tbody tr th {\n",
       "        vertical-align: top;\n",
       "    }\n",
       "\n",
       "    .dataframe thead th {\n",
       "        text-align: right;\n",
       "    }\n",
       "</style>\n",
       "<table border=\"1\" class=\"dataframe\">\n",
       "  <thead>\n",
       "    <tr style=\"text-align: right;\">\n",
       "      <th></th>\n",
       "      <th>title</th>\n",
       "      <th>point</th>\n",
       "      <th>countries</th>\n",
       "      <th>point/countries</th>\n",
       "      <th>days</th>\n",
       "      <th>point/days</th>\n",
       "    </tr>\n",
       "  </thead>\n",
       "  <tbody>\n",
       "    <tr>\n",
       "      <th>0</th>\n",
       "      <td>Red Notice</td>\n",
       "      <td>25,918</td>\n",
       "      <td>90</td>\n",
       "      <td>288</td>\n",
       "      <td>48</td>\n",
       "      <td>540</td>\n",
       "    </tr>\n",
       "    <tr>\n",
       "      <th>1</th>\n",
       "      <td>We Can Be Heroes</td>\n",
       "      <td>25,311</td>\n",
       "      <td>82</td>\n",
       "      <td>309</td>\n",
       "      <td>214</td>\n",
       "      <td>118</td>\n",
       "    </tr>\n",
       "    <tr>\n",
       "      <th>2</th>\n",
       "      <td>Army of the Dead</td>\n",
       "      <td>18,888</td>\n",
       "      <td>89</td>\n",
       "      <td>212</td>\n",
       "      <td>92</td>\n",
       "      <td>205</td>\n",
       "    </tr>\n",
       "    <tr>\n",
       "      <th>3</th>\n",
       "      <td>Wish Dragon</td>\n",
       "      <td>16,953</td>\n",
       "      <td>82</td>\n",
       "      <td>207</td>\n",
       "      <td>88</td>\n",
       "      <td>193</td>\n",
       "    </tr>\n",
       "    <tr>\n",
       "      <th>4</th>\n",
       "      <td>Army of Thieves</td>\n",
       "      <td>15,081</td>\n",
       "      <td>90</td>\n",
       "      <td>168</td>\n",
       "      <td>52</td>\n",
       "      <td>290</td>\n",
       "    </tr>\n",
       "    <tr>\n",
       "      <th>...</th>\n",
       "      <td>...</td>\n",
       "      <td>...</td>\n",
       "      <td>...</td>\n",
       "      <td>...</td>\n",
       "      <td>...</td>\n",
       "      <td>...</td>\n",
       "    </tr>\n",
       "    <tr>\n",
       "      <th>171</th>\n",
       "      <td>Scoob!</td>\n",
       "      <td>202</td>\n",
       "      <td>1</td>\n",
       "      <td>202</td>\n",
       "      <td>28</td>\n",
       "      <td>7</td>\n",
       "    </tr>\n",
       "    <tr>\n",
       "      <th>172</th>\n",
       "      <td>The Son of Bigfoot</td>\n",
       "      <td>192</td>\n",
       "      <td>7</td>\n",
       "      <td>27</td>\n",
       "      <td>8</td>\n",
       "      <td>24</td>\n",
       "    </tr>\n",
       "    <tr>\n",
       "      <th>173</th>\n",
       "      <td>Ava</td>\n",
       "      <td>186</td>\n",
       "      <td>4</td>\n",
       "      <td>47</td>\n",
       "      <td>29</td>\n",
       "      <td>6</td>\n",
       "    </tr>\n",
       "    <tr>\n",
       "      <th>174</th>\n",
       "      <td>Bombshell</td>\n",
       "      <td>181</td>\n",
       "      <td>2</td>\n",
       "      <td>91</td>\n",
       "      <td>14</td>\n",
       "      <td>13</td>\n",
       "    </tr>\n",
       "    <tr>\n",
       "      <th>175</th>\n",
       "      <td>Man on a Ledge</td>\n",
       "      <td>174</td>\n",
       "      <td>4</td>\n",
       "      <td>44</td>\n",
       "      <td>13</td>\n",
       "      <td>13</td>\n",
       "    </tr>\n",
       "  </tbody>\n",
       "</table>\n",
       "<p>176 rows × 6 columns</p>\n",
       "</div>"
      ],
      "text/plain": [
       "                  title   point countries point/countries days point/days\n",
       "0            Red Notice  25,918        90             288   48        540\n",
       "1      We Can Be Heroes  25,311        82             309  214        118\n",
       "2      Army of the Dead  18,888        89             212   92        205\n",
       "3           Wish Dragon  16,953        82             207   88        193\n",
       "4       Army of Thieves  15,081        90             168   52        290\n",
       "..                  ...     ...       ...             ...  ...        ...\n",
       "171              Scoob!     202         1             202   28          7\n",
       "172  The Son of Bigfoot     192         7              27    8         24\n",
       "173                 Ava     186         4              47   29          6\n",
       "174           Bombshell     181         2              91   14         13\n",
       "175      Man on a Ledge     174         4              44   13         13\n",
       "\n",
       "[176 rows x 6 columns]"
      ]
     },
     "execution_count": 134,
     "metadata": {},
     "output_type": "execute_result"
    }
   ],
   "source": [
    "totalmovies"
   ]
  },
  {
   "cell_type": "markdown",
   "metadata": {},
   "source": [
    "### Total TV shows on Netflix in 2021"
   ]
  },
  {
   "cell_type": "code",
   "execution_count": 95,
   "metadata": {},
   "outputs": [],
   "source": [
    "def totalshows(year):\n",
    "    # 1. 웹서비스 분석 : URL\n",
    "    url = f\"https://flixpatrol.com/top10/netflix/world/{year}/full/\"\n",
    "    # 2. request(url) > response(data) : data(html) *이때, html문자열은 한페이지 모두\n",
    "    response = requests.get(url)\n",
    "    # 3. data(html) > bs_obj.select(css-selector) > text \n",
    "    dom = BeautifulSoup(response.text, \"html.parser\")\n",
    "    elements = dom.select(\"#netflix-2 > div.-mx-content > div > div > table > tbody > tr\")\n",
    "    element = elements[0]\n",
    "    # [{row1}, {row2}, ...] 형태의 데이터프레임으로 만들어주기\n",
    "    data = []\n",
    "    for element in elements:\n",
    "        data.append({\n",
    "           \"title\" : element.select(\"td\")[2].text.strip(),\n",
    "            \"point\" : element.select(\"td\")[3].text.strip(),\n",
    "            \"countries\" : element.select(\"td\")[5].text.strip(),\n",
    "            \"point/countries\" : element.select(\"td\")[6].text.strip(),\n",
    "            \"days\" : element.select(\"td\")[7].text.strip(),\n",
    "            \"point/days\" : element.select(\"td\")[8].text.strip(),\n",
    "        })\n",
    "    totalshows = pd.DataFrame(data)\n",
    "    return totalshows"
   ]
  },
  {
   "cell_type": "code",
   "execution_count": 96,
   "metadata": {
    "scrolled": true
   },
   "outputs": [
    {
     "data": {
      "text/html": [
       "<div>\n",
       "<style scoped>\n",
       "    .dataframe tbody tr th:only-of-type {\n",
       "        vertical-align: middle;\n",
       "    }\n",
       "\n",
       "    .dataframe tbody tr th {\n",
       "        vertical-align: top;\n",
       "    }\n",
       "\n",
       "    .dataframe thead th {\n",
       "        text-align: right;\n",
       "    }\n",
       "</style>\n",
       "<table border=\"1\" class=\"dataframe\">\n",
       "  <thead>\n",
       "    <tr style=\"text-align: right;\">\n",
       "      <th></th>\n",
       "      <th>title</th>\n",
       "      <th>point</th>\n",
       "      <th>countries</th>\n",
       "      <th>point/countries</th>\n",
       "      <th>days</th>\n",
       "      <th>point/days</th>\n",
       "    </tr>\n",
       "  </thead>\n",
       "  <tbody>\n",
       "    <tr>\n",
       "      <th>0</th>\n",
       "      <td>Squid Game</td>\n",
       "      <td>57,980</td>\n",
       "      <td>90</td>\n",
       "      <td>644</td>\n",
       "      <td>104</td>\n",
       "      <td>558</td>\n",
       "    </tr>\n",
       "    <tr>\n",
       "      <th>1</th>\n",
       "      <td>Money Heist</td>\n",
       "      <td>44,382</td>\n",
       "      <td>91</td>\n",
       "      <td>488</td>\n",
       "      <td>364</td>\n",
       "      <td>122</td>\n",
       "    </tr>\n",
       "    <tr>\n",
       "      <th>2</th>\n",
       "      <td>Lupin</td>\n",
       "      <td>42,690</td>\n",
       "      <td>83</td>\n",
       "      <td>514</td>\n",
       "      <td>256</td>\n",
       "      <td>167</td>\n",
       "    </tr>\n",
       "    <tr>\n",
       "      <th>3</th>\n",
       "      <td>Sex/Life</td>\n",
       "      <td>34,609</td>\n",
       "      <td>82</td>\n",
       "      <td>422</td>\n",
       "      <td>141</td>\n",
       "      <td>245</td>\n",
       "    </tr>\n",
       "    <tr>\n",
       "      <th>4</th>\n",
       "      <td>Bridgerton</td>\n",
       "      <td>33,973</td>\n",
       "      <td>82</td>\n",
       "      <td>414</td>\n",
       "      <td>146</td>\n",
       "      <td>233</td>\n",
       "    </tr>\n",
       "    <tr>\n",
       "      <th>...</th>\n",
       "      <td>...</td>\n",
       "      <td>...</td>\n",
       "      <td>...</td>\n",
       "      <td>...</td>\n",
       "      <td>...</td>\n",
       "      <td>...</td>\n",
       "    </tr>\n",
       "    <tr>\n",
       "      <th>147</th>\n",
       "      <td>Fatma</td>\n",
       "      <td>1,680</td>\n",
       "      <td>44</td>\n",
       "      <td>38</td>\n",
       "      <td>47</td>\n",
       "      <td>36</td>\n",
       "    </tr>\n",
       "    <tr>\n",
       "      <th>148</th>\n",
       "      <td>Sweet Home</td>\n",
       "      <td>1,656</td>\n",
       "      <td>22</td>\n",
       "      <td>75</td>\n",
       "      <td>50</td>\n",
       "      <td>33</td>\n",
       "    </tr>\n",
       "    <tr>\n",
       "      <th>149</th>\n",
       "      <td>Outlander</td>\n",
       "      <td>1,642</td>\n",
       "      <td>22</td>\n",
       "      <td>75</td>\n",
       "      <td>104</td>\n",
       "      <td>16</td>\n",
       "    </tr>\n",
       "    <tr>\n",
       "      <th>150</th>\n",
       "      <td>Beauty and the Baker</td>\n",
       "      <td>1,638</td>\n",
       "      <td>18</td>\n",
       "      <td>91</td>\n",
       "      <td>28</td>\n",
       "      <td>58</td>\n",
       "    </tr>\n",
       "    <tr>\n",
       "      <th>151</th>\n",
       "      <td>Zero Chill</td>\n",
       "      <td>1,631</td>\n",
       "      <td>49</td>\n",
       "      <td>33</td>\n",
       "      <td>20</td>\n",
       "      <td>82</td>\n",
       "    </tr>\n",
       "  </tbody>\n",
       "</table>\n",
       "<p>152 rows × 6 columns</p>\n",
       "</div>"
      ],
      "text/plain": [
       "                    title   point countries point/countries days point/days\n",
       "0              Squid Game  57,980        90             644  104        558\n",
       "1             Money Heist  44,382        91             488  364        122\n",
       "2                   Lupin  42,690        83             514  256        167\n",
       "3                Sex/Life  34,609        82             422  141        245\n",
       "4              Bridgerton  33,973        82             414  146        233\n",
       "..                    ...     ...       ...             ...  ...        ...\n",
       "147                 Fatma   1,680        44              38   47         36\n",
       "148            Sweet Home   1,656        22              75   50         33\n",
       "149             Outlander   1,642        22              75  104         16\n",
       "150  Beauty and the Baker   1,638        18              91   28         58\n",
       "151            Zero Chill   1,631        49              33   20         82\n",
       "\n",
       "[152 rows x 6 columns]"
      ]
     },
     "execution_count": 96,
     "metadata": {},
     "output_type": "execute_result"
    }
   ],
   "source": [
    "year = \"2021\"\n",
    "totalshows(year)"
   ]
  },
  {
   "cell_type": "markdown",
   "metadata": {},
   "source": [
    "### flixpatrol + kaggle merge"
   ]
  },
  {
   "cell_type": "code",
   "execution_count": 97,
   "metadata": {},
   "outputs": [
    {
     "name": "stdout",
     "output_type": "stream",
     "text": [
      "<class 'pandas.core.frame.DataFrame'>\n",
      "RangeIndex: 8807 entries, 0 to 8806\n",
      "Data columns (total 12 columns):\n",
      " #   Column        Non-Null Count  Dtype \n",
      "---  ------        --------------  ----- \n",
      " 0   show_id       8807 non-null   object\n",
      " 1   type          8807 non-null   object\n",
      " 2   title         8807 non-null   object\n",
      " 3   director      6173 non-null   object\n",
      " 4   cast          7982 non-null   object\n",
      " 5   country       7976 non-null   object\n",
      " 6   date_added    8797 non-null   object\n",
      " 7   release_year  8807 non-null   int64 \n",
      " 8   rating        8803 non-null   object\n",
      " 9   duration      8804 non-null   object\n",
      " 10  listed_in     8807 non-null   object\n",
      " 11  description   8807 non-null   object\n",
      "dtypes: int64(1), object(11)\n",
      "memory usage: 825.8+ KB\n"
     ]
    }
   ],
   "source": [
    "netflix = pd.read_csv(\"netflix_titles.csv\")\n",
    "netflix.info()"
   ]
  },
  {
   "cell_type": "code",
   "execution_count": 98,
   "metadata": {
    "scrolled": true
   },
   "outputs": [
    {
     "data": {
      "text/html": [
       "<div>\n",
       "<style scoped>\n",
       "    .dataframe tbody tr th:only-of-type {\n",
       "        vertical-align: middle;\n",
       "    }\n",
       "\n",
       "    .dataframe tbody tr th {\n",
       "        vertical-align: top;\n",
       "    }\n",
       "\n",
       "    .dataframe thead th {\n",
       "        text-align: right;\n",
       "    }\n",
       "</style>\n",
       "<table border=\"1\" class=\"dataframe\">\n",
       "  <thead>\n",
       "    <tr style=\"text-align: right;\">\n",
       "      <th></th>\n",
       "      <th>title</th>\n",
       "      <th>point</th>\n",
       "      <th>countries</th>\n",
       "      <th>point/countries</th>\n",
       "      <th>days</th>\n",
       "      <th>point/days</th>\n",
       "      <th>show_id</th>\n",
       "      <th>type</th>\n",
       "      <th>director</th>\n",
       "      <th>cast</th>\n",
       "      <th>country</th>\n",
       "      <th>date_added</th>\n",
       "      <th>release_year</th>\n",
       "      <th>rating</th>\n",
       "      <th>duration</th>\n",
       "      <th>listed_in</th>\n",
       "      <th>description</th>\n",
       "    </tr>\n",
       "  </thead>\n",
       "  <tbody>\n",
       "    <tr>\n",
       "      <th>0</th>\n",
       "      <td>We Can Be Heroes</td>\n",
       "      <td>25,311</td>\n",
       "      <td>82</td>\n",
       "      <td>309</td>\n",
       "      <td>214</td>\n",
       "      <td>118</td>\n",
       "      <td>s1495</td>\n",
       "      <td>Movie</td>\n",
       "      <td>Robert Rodriguez</td>\n",
       "      <td>YaYa Gosselin, Pedro Pascal, Priyanka Chopra, ...</td>\n",
       "      <td>United States</td>\n",
       "      <td>December 25, 2020</td>\n",
       "      <td>2020</td>\n",
       "      <td>PG</td>\n",
       "      <td>101 min</td>\n",
       "      <td>Children &amp; Family Movies, Comedies</td>\n",
       "      <td>When alien invaders capture Earth’s superheroe...</td>\n",
       "    </tr>\n",
       "    <tr>\n",
       "      <th>1</th>\n",
       "      <td>Army of the Dead</td>\n",
       "      <td>18,888</td>\n",
       "      <td>89</td>\n",
       "      <td>212</td>\n",
       "      <td>92</td>\n",
       "      <td>205</td>\n",
       "      <td>s854</td>\n",
       "      <td>Movie</td>\n",
       "      <td>Zack Snyder</td>\n",
       "      <td>Dave Bautista, Ella Purnell, Omari Hardwick, G...</td>\n",
       "      <td>United States</td>\n",
       "      <td>May 21, 2021</td>\n",
       "      <td>2021</td>\n",
       "      <td>R</td>\n",
       "      <td>148 min</td>\n",
       "      <td>Action &amp; Adventure, Horror Movies</td>\n",
       "      <td>After a zombie outbreak in Las Vegas, a group ...</td>\n",
       "    </tr>\n",
       "    <tr>\n",
       "      <th>2</th>\n",
       "      <td>Wish Dragon</td>\n",
       "      <td>16,953</td>\n",
       "      <td>82</td>\n",
       "      <td>207</td>\n",
       "      <td>88</td>\n",
       "      <td>193</td>\n",
       "      <td>s740</td>\n",
       "      <td>Movie</td>\n",
       "      <td>Chris Appelhans</td>\n",
       "      <td>Jimmy Wong, John Cho, Constance Wu, Will Yun L...</td>\n",
       "      <td>China, United States, Canada</td>\n",
       "      <td>June 11, 2021</td>\n",
       "      <td>2021</td>\n",
       "      <td>PG</td>\n",
       "      <td>102 min</td>\n",
       "      <td>Children &amp; Family Movies, Comedies</td>\n",
       "      <td>Determined teen Din is longing to reconnect wi...</td>\n",
       "    </tr>\n",
       "    <tr>\n",
       "      <th>3</th>\n",
       "      <td>The Mitchells vs. The Machines</td>\n",
       "      <td>14,902</td>\n",
       "      <td>82</td>\n",
       "      <td>182</td>\n",
       "      <td>74</td>\n",
       "      <td>201</td>\n",
       "      <td>s962</td>\n",
       "      <td>Movie</td>\n",
       "      <td>Mike Rianda, Jeff Rowe</td>\n",
       "      <td>Danny McBride, Abbi Jacobson, Maya Rudolph, Mi...</td>\n",
       "      <td>NaN</td>\n",
       "      <td>April 30, 2021</td>\n",
       "      <td>2021</td>\n",
       "      <td>PG</td>\n",
       "      <td>114 min</td>\n",
       "      <td>Children &amp; Family Movies, Comedies</td>\n",
       "      <td>A robot apocalypse put the brakes on their cro...</td>\n",
       "    </tr>\n",
       "    <tr>\n",
       "      <th>4</th>\n",
       "      <td>Fatherhood</td>\n",
       "      <td>14,660</td>\n",
       "      <td>82</td>\n",
       "      <td>179</td>\n",
       "      <td>54</td>\n",
       "      <td>271</td>\n",
       "      <td>s686</td>\n",
       "      <td>Movie</td>\n",
       "      <td>Paul Weitz</td>\n",
       "      <td>Kevin Hart, Alfre Woodard, Lil Rel Howery, DeW...</td>\n",
       "      <td>United States</td>\n",
       "      <td>June 18, 2021</td>\n",
       "      <td>2021</td>\n",
       "      <td>PG-13</td>\n",
       "      <td>111 min</td>\n",
       "      <td>Dramas</td>\n",
       "      <td>A widowed new dad copes with doubts, fears, he...</td>\n",
       "    </tr>\n",
       "    <tr>\n",
       "      <th>...</th>\n",
       "      <td>...</td>\n",
       "      <td>...</td>\n",
       "      <td>...</td>\n",
       "      <td>...</td>\n",
       "      <td>...</td>\n",
       "      <td>...</td>\n",
       "      <td>...</td>\n",
       "      <td>...</td>\n",
       "      <td>...</td>\n",
       "      <td>...</td>\n",
       "      <td>...</td>\n",
       "      <td>...</td>\n",
       "      <td>...</td>\n",
       "      <td>...</td>\n",
       "      <td>...</td>\n",
       "      <td>...</td>\n",
       "      <td>...</td>\n",
       "    </tr>\n",
       "    <tr>\n",
       "      <th>84</th>\n",
       "      <td>2012</td>\n",
       "      <td>1,886</td>\n",
       "      <td>31</td>\n",
       "      <td>61</td>\n",
       "      <td>51</td>\n",
       "      <td>37</td>\n",
       "      <td>s1114</td>\n",
       "      <td>Movie</td>\n",
       "      <td>Roland Emmerich</td>\n",
       "      <td>John Cusack, Amanda Peet, Chiwetel Ejiofor, Th...</td>\n",
       "      <td>United States</td>\n",
       "      <td>April 1, 2021</td>\n",
       "      <td>2009</td>\n",
       "      <td>PG-13</td>\n",
       "      <td>158 min</td>\n",
       "      <td>Action &amp; Adventure, Sci-Fi &amp; Fantasy</td>\n",
       "      <td>When a flood of natural disasters begins to de...</td>\n",
       "    </tr>\n",
       "    <tr>\n",
       "      <th>85</th>\n",
       "      <td>Wanted</td>\n",
       "      <td>1,878</td>\n",
       "      <td>32</td>\n",
       "      <td>59</td>\n",
       "      <td>20</td>\n",
       "      <td>94</td>\n",
       "      <td>s633</td>\n",
       "      <td>Movie</td>\n",
       "      <td>Nibal Arakji</td>\n",
       "      <td>Daad Rizk, Georges Diab, Sihame Haddad, George...</td>\n",
       "      <td>NaN</td>\n",
       "      <td>June 28, 2021</td>\n",
       "      <td>2019</td>\n",
       "      <td>TV-14</td>\n",
       "      <td>90 min</td>\n",
       "      <td>Comedies, International Movies</td>\n",
       "      <td>Four seniors embark on misadventures after bre...</td>\n",
       "    </tr>\n",
       "    <tr>\n",
       "      <th>86</th>\n",
       "      <td>Just Say Yes</td>\n",
       "      <td>1,878</td>\n",
       "      <td>43</td>\n",
       "      <td>44</td>\n",
       "      <td>16</td>\n",
       "      <td>117</td>\n",
       "      <td>s1110</td>\n",
       "      <td>Movie</td>\n",
       "      <td>Appie Boudellah, Aram van de Rest</td>\n",
       "      <td>Yolanthe Cabau, Noortje Herlaar, Kim-Lian van ...</td>\n",
       "      <td>Netherlands</td>\n",
       "      <td>April 2, 2021</td>\n",
       "      <td>2021</td>\n",
       "      <td>TV-MA</td>\n",
       "      <td>98 min</td>\n",
       "      <td>Comedies, International Movies, Romantic Movies</td>\n",
       "      <td>Incurable romantic Lotte finds her life upende...</td>\n",
       "    </tr>\n",
       "    <tr>\n",
       "      <th>87</th>\n",
       "      <td>Ava</td>\n",
       "      <td>186</td>\n",
       "      <td>4</td>\n",
       "      <td>47</td>\n",
       "      <td>29</td>\n",
       "      <td>6</td>\n",
       "      <td>s1585</td>\n",
       "      <td>Movie</td>\n",
       "      <td>Tate Taylor</td>\n",
       "      <td>Jessica Chastain, Colin Farrell, John Malkovic...</td>\n",
       "      <td>United States</td>\n",
       "      <td>December 7, 2020</td>\n",
       "      <td>2020</td>\n",
       "      <td>R</td>\n",
       "      <td>97 min</td>\n",
       "      <td>Action &amp; Adventure, Dramas</td>\n",
       "      <td>An elite assassin wrestling with doubts about ...</td>\n",
       "    </tr>\n",
       "    <tr>\n",
       "      <th>88</th>\n",
       "      <td>Bombshell</td>\n",
       "      <td>181</td>\n",
       "      <td>2</td>\n",
       "      <td>91</td>\n",
       "      <td>14</td>\n",
       "      <td>13</td>\n",
       "      <td>s5765</td>\n",
       "      <td>Movie</td>\n",
       "      <td>Riccardo Pilizzeri</td>\n",
       "      <td>Ande Cunningham, Mark Mitchinson, Mia Pistoriu...</td>\n",
       "      <td>New Zealand</td>\n",
       "      <td>October 1, 2016</td>\n",
       "      <td>2016</td>\n",
       "      <td>TV-MA</td>\n",
       "      <td>86 min</td>\n",
       "      <td>Dramas</td>\n",
       "      <td>In 1985, when a vessel protesting nuclear test...</td>\n",
       "    </tr>\n",
       "  </tbody>\n",
       "</table>\n",
       "<p>89 rows × 17 columns</p>\n",
       "</div>"
      ],
      "text/plain": [
       "                             title   point countries point/countries days  \\\n",
       "0                 We Can Be Heroes  25,311        82             309  214   \n",
       "1                 Army of the Dead  18,888        89             212   92   \n",
       "2                      Wish Dragon  16,953        82             207   88   \n",
       "3   The Mitchells vs. The Machines  14,902        82             182   74   \n",
       "4                       Fatherhood  14,660        82             179   54   \n",
       "..                             ...     ...       ...             ...  ...   \n",
       "84                            2012   1,886        31              61   51   \n",
       "85                          Wanted   1,878        32              59   20   \n",
       "86                    Just Say Yes   1,878        43              44   16   \n",
       "87                             Ava     186         4              47   29   \n",
       "88                       Bombshell     181         2              91   14   \n",
       "\n",
       "   point/days show_id   type                           director  \\\n",
       "0         118   s1495  Movie                   Robert Rodriguez   \n",
       "1         205    s854  Movie                        Zack Snyder   \n",
       "2         193    s740  Movie                    Chris Appelhans   \n",
       "3         201    s962  Movie             Mike Rianda, Jeff Rowe   \n",
       "4         271    s686  Movie                         Paul Weitz   \n",
       "..        ...     ...    ...                                ...   \n",
       "84         37   s1114  Movie                    Roland Emmerich   \n",
       "85         94    s633  Movie                       Nibal Arakji   \n",
       "86        117   s1110  Movie  Appie Boudellah, Aram van de Rest   \n",
       "87          6   s1585  Movie                        Tate Taylor   \n",
       "88         13   s5765  Movie                 Riccardo Pilizzeri   \n",
       "\n",
       "                                                 cast  \\\n",
       "0   YaYa Gosselin, Pedro Pascal, Priyanka Chopra, ...   \n",
       "1   Dave Bautista, Ella Purnell, Omari Hardwick, G...   \n",
       "2   Jimmy Wong, John Cho, Constance Wu, Will Yun L...   \n",
       "3   Danny McBride, Abbi Jacobson, Maya Rudolph, Mi...   \n",
       "4   Kevin Hart, Alfre Woodard, Lil Rel Howery, DeW...   \n",
       "..                                                ...   \n",
       "84  John Cusack, Amanda Peet, Chiwetel Ejiofor, Th...   \n",
       "85  Daad Rizk, Georges Diab, Sihame Haddad, George...   \n",
       "86  Yolanthe Cabau, Noortje Herlaar, Kim-Lian van ...   \n",
       "87  Jessica Chastain, Colin Farrell, John Malkovic...   \n",
       "88  Ande Cunningham, Mark Mitchinson, Mia Pistoriu...   \n",
       "\n",
       "                         country         date_added  release_year rating  \\\n",
       "0                  United States  December 25, 2020          2020     PG   \n",
       "1                  United States       May 21, 2021          2021      R   \n",
       "2   China, United States, Canada      June 11, 2021          2021     PG   \n",
       "3                            NaN     April 30, 2021          2021     PG   \n",
       "4                  United States      June 18, 2021          2021  PG-13   \n",
       "..                           ...                ...           ...    ...   \n",
       "84                 United States      April 1, 2021          2009  PG-13   \n",
       "85                           NaN      June 28, 2021          2019  TV-14   \n",
       "86                   Netherlands      April 2, 2021          2021  TV-MA   \n",
       "87                 United States   December 7, 2020          2020      R   \n",
       "88                   New Zealand    October 1, 2016          2016  TV-MA   \n",
       "\n",
       "   duration                                        listed_in  \\\n",
       "0   101 min               Children & Family Movies, Comedies   \n",
       "1   148 min                Action & Adventure, Horror Movies   \n",
       "2   102 min               Children & Family Movies, Comedies   \n",
       "3   114 min               Children & Family Movies, Comedies   \n",
       "4   111 min                                           Dramas   \n",
       "..      ...                                              ...   \n",
       "84  158 min             Action & Adventure, Sci-Fi & Fantasy   \n",
       "85   90 min                   Comedies, International Movies   \n",
       "86   98 min  Comedies, International Movies, Romantic Movies   \n",
       "87   97 min                       Action & Adventure, Dramas   \n",
       "88   86 min                                           Dramas   \n",
       "\n",
       "                                          description  \n",
       "0   When alien invaders capture Earth’s superheroe...  \n",
       "1   After a zombie outbreak in Las Vegas, a group ...  \n",
       "2   Determined teen Din is longing to reconnect wi...  \n",
       "3   A robot apocalypse put the brakes on their cro...  \n",
       "4   A widowed new dad copes with doubts, fears, he...  \n",
       "..                                                ...  \n",
       "84  When a flood of natural disasters begins to de...  \n",
       "85  Four seniors embark on misadventures after bre...  \n",
       "86  Incurable romantic Lotte finds her life upende...  \n",
       "87  An elite assassin wrestling with doubts about ...  \n",
       "88  In 1985, when a vessel protesting nuclear test...  \n",
       "\n",
       "[89 rows x 17 columns]"
      ]
     },
     "execution_count": 98,
     "metadata": {},
     "output_type": "execute_result"
    }
   ],
   "source": [
    "new = pd.merge(totalmovies, netflix, on = \"title\")\n",
    "new"
   ]
  },
  {
   "cell_type": "code",
   "execution_count": 99,
   "metadata": {
    "scrolled": true
   },
   "outputs": [
    {
     "name": "stdout",
     "output_type": "stream",
     "text": [
      "<class 'pandas.core.frame.DataFrame'>\n",
      "Int64Index: 89 entries, 0 to 88\n",
      "Data columns (total 17 columns):\n",
      " #   Column           Non-Null Count  Dtype \n",
      "---  ------           --------------  ----- \n",
      " 0   title            89 non-null     object\n",
      " 1   point            89 non-null     object\n",
      " 2   countries        89 non-null     object\n",
      " 3   point/countries  89 non-null     object\n",
      " 4   days             89 non-null     object\n",
      " 5   point/days       89 non-null     object\n",
      " 6   show_id          89 non-null     object\n",
      " 7   type             89 non-null     object\n",
      " 8   director         88 non-null     object\n",
      " 9   cast             88 non-null     object\n",
      " 10  country          65 non-null     object\n",
      " 11  date_added       89 non-null     object\n",
      " 12  release_year     89 non-null     int64 \n",
      " 13  rating           89 non-null     object\n",
      " 14  duration         89 non-null     object\n",
      " 15  listed_in        89 non-null     object\n",
      " 16  description      89 non-null     object\n",
      "dtypes: int64(1), object(16)\n",
      "memory usage: 12.5+ KB\n"
     ]
    }
   ],
   "source": [
    "new.info()"
   ]
  },
  {
   "cell_type": "code",
   "execution_count": 100,
   "metadata": {},
   "outputs": [
    {
     "name": "stdout",
     "output_type": "stream",
     "text": [
      "<class 'pandas.core.frame.DataFrame'>\n",
      "Int64Index: 2676 entries, 1 to 8803\n",
      "Data columns (total 12 columns):\n",
      " #   Column        Non-Null Count  Dtype \n",
      "---  ------        --------------  ----- \n",
      " 0   show_id       2676 non-null   object\n",
      " 1   type          2676 non-null   object\n",
      " 2   title         2676 non-null   object\n",
      " 3   director      230 non-null    object\n",
      " 4   cast          2326 non-null   object\n",
      " 5   country       2285 non-null   object\n",
      " 6   date_added    2666 non-null   object\n",
      " 7   release_year  2676 non-null   int64 \n",
      " 8   rating        2674 non-null   object\n",
      " 9   duration      2676 non-null   object\n",
      " 10  listed_in     2676 non-null   object\n",
      " 11  description   2676 non-null   object\n",
      "dtypes: int64(1), object(11)\n",
      "memory usage: 271.8+ KB\n"
     ]
    }
   ],
   "source": [
    "netflix.loc[netflix[\"type\"] == \"TV Show\"].info()"
   ]
  },
  {
   "cell_type": "code",
   "execution_count": 101,
   "metadata": {},
   "outputs": [
    {
     "name": "stdout",
     "output_type": "stream",
     "text": [
      "<class 'pandas.core.frame.DataFrame'>\n",
      "Int64Index: 6131 entries, 0 to 8806\n",
      "Data columns (total 12 columns):\n",
      " #   Column        Non-Null Count  Dtype \n",
      "---  ------        --------------  ----- \n",
      " 0   show_id       6131 non-null   object\n",
      " 1   type          6131 non-null   object\n",
      " 2   title         6131 non-null   object\n",
      " 3   director      5943 non-null   object\n",
      " 4   cast          5656 non-null   object\n",
      " 5   country       5691 non-null   object\n",
      " 6   date_added    6131 non-null   object\n",
      " 7   release_year  6131 non-null   int64 \n",
      " 8   rating        6129 non-null   object\n",
      " 9   duration      6128 non-null   object\n",
      " 10  listed_in     6131 non-null   object\n",
      " 11  description   6131 non-null   object\n",
      "dtypes: int64(1), object(11)\n",
      "memory usage: 622.7+ KB\n"
     ]
    }
   ],
   "source": [
    "netflix.loc[netflix[\"type\"] == \"Movie\"].info()"
   ]
  },
  {
   "cell_type": "code",
   "execution_count": 102,
   "metadata": {
    "scrolled": false
   },
   "outputs": [
    {
     "name": "stderr",
     "output_type": "stream",
     "text": [
      "<ipython-input-102-8f6ab5ce2ed1>:8: SettingWithCopyWarning: \n",
      "A value is trying to be set on a copy of a slice from a DataFrame\n",
      "\n",
      "See the caveats in the documentation: https://pandas.pydata.org/pandas-docs/stable/user_guide/indexing.html#returning-a-view-versus-a-copy\n",
      "  netflix[\"rating\"][i] = ratings_ages[netflix[\"rating\"][i]]\n"
     ]
    }
   ],
   "source": [
    "ratings_ages = {'TV-PG': 'Older Kids', 'TV-MA': 'Adults', 'TV-Y7-FV': 'Older Kids',\n",
    "                'TV-Y7': 'Older Kids', 'TV-14': 'Teens', 'R': 'Adults', 'TV-Y': 'Kids',\n",
    "                'NR': 'Adults', 'PG-13': 'Teens', 'TV-G': 'Kids', 'PG': 'Older Kids',\n",
    "                'G': 'Kids', 'UR': 'Adults', 'NC-17': 'Adults'}\n",
    "\n",
    "for i in range(len(netflix[\"rating\"])) :\n",
    "    if netflix[\"rating\"][i] in ratings_ages :\n",
    "        netflix[\"rating\"][i] = ratings_ages[netflix[\"rating\"][i]]"
   ]
  },
  {
   "cell_type": "code",
   "execution_count": null,
   "metadata": {},
   "outputs": [],
   "source": []
  },
  {
   "cell_type": "markdown",
   "metadata": {},
   "source": [
    "### Genre of Top Movies on 2021 "
   ]
  },
  {
   "cell_type": "code",
   "execution_count": 37,
   "metadata": {},
   "outputs": [],
   "source": [
    "# elements = dom.select(\"#netflix-1 > div.-mx-content > div > div > table > tbody > tr\")"
   ]
  },
  {
   "cell_type": "code",
   "execution_count": 127,
   "metadata": {},
   "outputs": [],
   "source": [
    "url = \"https://flixpatrol.com/top10/netflix/world/2021/full/\""
   ]
  },
  {
   "cell_type": "code",
   "execution_count": 128,
   "metadata": {},
   "outputs": [
    {
     "data": {
      "text/plain": [
       "<Response [200]>"
      ]
     },
     "execution_count": 128,
     "metadata": {},
     "output_type": "execute_result"
    }
   ],
   "source": [
    "response = requests.get(url)\n",
    "response"
   ]
  },
  {
   "cell_type": "code",
   "execution_count": 129,
   "metadata": {},
   "outputs": [],
   "source": [
    "dom = BeautifulSoup(response.text, \"html.parser\")"
   ]
  },
  {
   "cell_type": "code",
   "execution_count": 130,
   "metadata": {},
   "outputs": [
    {
     "data": {
      "text/plain": [
       "176"
      ]
     },
     "execution_count": 130,
     "metadata": {},
     "output_type": "execute_result"
    }
   ],
   "source": [
    "elements = dom.select(\"#netflix-1 > div.-mx-content > div > div > table > tbody > tr\")\n",
    "len(elements)"
   ]
  },
  {
   "cell_type": "code",
   "execution_count": 131,
   "metadata": {},
   "outputs": [
    {
     "name": "stdout",
     "output_type": "stream",
     "text": [
      "https://flixpatrol.com//title/red-notice/\n",
      "https://flixpatrol.com//title/we-can-be-heroes-2020/\n",
      "https://flixpatrol.com//title/army-of-the-dead/\n",
      "https://flixpatrol.com//title/wish-dragon/\n",
      "https://flixpatrol.com//title/army-of-thieves/\n",
      "https://flixpatrol.com//title/the-mitchells-vs-the-machines/\n",
      "https://flixpatrol.com//title/fatherhood/\n",
      "https://flixpatrol.com//title/the-unforgivable/\n",
      "https://flixpatrol.com//title/the-guilty-2021/\n",
      "https://flixpatrol.com//title/yes-day/\n",
      "https://flixpatrol.com//title/love-hard/\n",
      "https://flixpatrol.com//title/outside-the-wire/\n",
      "https://flixpatrol.com//title/love-and-monsters/\n",
      "https://flixpatrol.com//title/kate/\n",
      "https://flixpatrol.com//title/vivo/\n",
      "https://flixpatrol.com//title/minions/\n",
      "https://flixpatrol.com//title/back-to-the-outback/\n",
      "https://flixpatrol.com//title/hes-all-that/\n",
      "https://flixpatrol.com//title/sweet-girl/\n",
      "https://flixpatrol.com//title/blood-red-sky/\n",
      "https://flixpatrol.com//title/major-grom-plague-doctor/\n",
      "https://flixpatrol.com//title/my-little-pony-a-new-generation/\n",
      "https://flixpatrol.com//title/the-forgotten-battle/\n",
      "https://flixpatrol.com//title/the-kissing-booth-3/\n",
      "https://flixpatrol.com//title/to-all-the-boys-always-and-forever/\n",
      "https://flixpatrol.com//title/fast-furious-presents-hobbs-shaw/\n",
      "https://flixpatrol.com//title/thunder-force/\n",
      "https://flixpatrol.com//title/i-care-a-lot/\n",
      "https://flixpatrol.com//title/the-woman-in-the-window/\n",
      "https://flixpatrol.com//title/365-days/\n",
      "https://flixpatrol.com//title/the-harder-they-fall/\n",
      "https://flixpatrol.com//title/afterlife-of-the-party/\n",
      "https://flixpatrol.com//title/the-secret-life-of-pets-2/\n",
      "https://flixpatrol.com//title/the-last-mercenary/\n",
      "https://flixpatrol.com//title/a-boy-called-christmas/\n",
      "https://flixpatrol.com//title/finding-ohana/\n",
      "https://flixpatrol.com//title/night-teeth/\n",
      "https://flixpatrol.com//title/fifty-shades-of-grey/\n",
      "https://flixpatrol.com//title/resort-to-love/\n",
      "https://flixpatrol.com//title/news-of-the-world/\n",
      "https://flixpatrol.com//title/gemini-man/\n",
      "https://flixpatrol.com//title/things-heard-seen/\n",
      "https://flixpatrol.com//title/spider-man-homecoming/\n",
      "https://flixpatrol.com//title/awake-2021/\n",
      "https://flixpatrol.com//title/venom-2018/\n",
      "https://flixpatrol.com//title/deadly-illusions/\n",
      "https://flixpatrol.com//title/below-zero/\n",
      "https://flixpatrol.com//title/the-white-tiger/\n",
      "https://flixpatrol.com//title/sas-red-notice/\n",
      "https://flixpatrol.com//title/fear-street-1994/\n",
      "https://flixpatrol.com//title/spoiled-brats/\n",
      "https://flixpatrol.com//title/bruised/\n",
      "https://flixpatrol.com//title/sentinelle-2021/\n",
      "https://flixpatrol.com//title/hotel-transylvania-3-summer-vacation/\n",
      "https://flixpatrol.com//title/the-dig/\n",
      "https://flixpatrol.com//title/moxie/\n",
      "https://flixpatrol.com//title/intrusion/\n",
      "https://flixpatrol.com//title/sonic-the-hedgehog-2020/\n",
      "https://flixpatrol.com//title/a-castle-for-christmas/\n",
      "https://flixpatrol.com//title/pieces-of-a-woman/\n",
      "https://flixpatrol.com//title/man-on-fire-2004/\n",
      "https://flixpatrol.com//title/space-sweepers/\n",
      "https://flixpatrol.com//title/paper-lives/\n",
      "https://flixpatrol.com//title/spider-man-far-from-home/\n",
      "https://flixpatrol.com//title/secret-magic-control-agency/\n",
      "https://flixpatrol.com//title/xtreme/\n",
      "https://flixpatrol.com//title/chernobyl-abyss/\n",
      "https://flixpatrol.com//title/hypnotic/\n",
      "https://flixpatrol.com//title/beckett/\n",
      "https://flixpatrol.com//title/blackhat/\n",
      "https://flixpatrol.com//title/central-intelligence/\n",
      "https://flixpatrol.com//title/dont-look-up-2021/\n",
      "https://flixpatrol.com//title/the-loud-house-movie-2021/\n",
      "https://flixpatrol.com//title/the-grinch/\n",
      "https://flixpatrol.com//title/the-last-letter-from-your-lover/\n",
      "https://flixpatrol.com//title/penguins-of-madagascar/\n",
      "https://flixpatrol.com//title/schumacher/\n",
      "https://flixpatrol.com//title/the-princess-switch-3-romancing-the-star/\n",
      "https://flixpatrol.com//title/stowaway/\n",
      "https://flixpatrol.com//title/seaspiracy/\n",
      "https://flixpatrol.com//title/death-to-2020/\n",
      "https://flixpatrol.com//title/sky-high-2020/\n",
      "https://flixpatrol.com//title/kingdom-ashin-of-the-north/\n",
      "https://flixpatrol.com//title/aftermath-2021/\n",
      "https://flixpatrol.com//title/blue-miracle/\n",
      "https://flixpatrol.com//title/shrek/\n",
      "https://flixpatrol.com//title/the-secret-life-of-pets/\n",
      "https://flixpatrol.com//title/good-on-paper/\n",
      "https://flixpatrol.com//title/trollhunters-rise-of-the-titans/\n",
      "https://flixpatrol.com//title/theres-someone-inside-your-house/\n",
      "https://flixpatrol.com//title/jack-reacher-never-go-back/\n",
      "https://flixpatrol.com//title/squared-love/\n",
      "https://flixpatrol.com//title/the-equalizer-2/\n",
      "https://flixpatrol.com//title/the-silver-skates/\n",
      "https://flixpatrol.com//title/the-croods/\n",
      "https://flixpatrol.com//title/fear-street-1978/\n",
      "https://flixpatrol.com//title/i-am-all-girls/\n",
      "https://flixpatrol.com//title/bad-trip-2021/\n",
      "https://flixpatrol.com//title/double-dad/\n",
      "https://flixpatrol.com//title/stuck-together/\n",
      "https://flixpatrol.com//title/baywatch/\n",
      "https://flixpatrol.com//title/run-2021/\n",
      "https://flixpatrol.com//title/nightbooks/\n",
      "https://flixpatrol.com//title/crazy-about-her/\n",
      "https://flixpatrol.com//title/the-starling/\n",
      "https://flixpatrol.com//title/home/\n",
      "https://flixpatrol.com//title/fear-street-1666/\n",
      "https://flixpatrol.com//title/skater-girl/\n",
      "https://flixpatrol.com//title/yara/\n",
      "https://flixpatrol.com//title/prey-2021/\n",
      "https://flixpatrol.com//title/no-one-gets-out-alive/\n",
      "https://flixpatrol.com//title/the-water-man/\n",
      "https://flixpatrol.com//title/trouble/\n",
      "https://flixpatrol.com//title/rurouni-kenshin-the-final-2021/\n",
      "https://flixpatrol.com//title/the-stronghold-2021/\n",
      "https://flixpatrol.com//title/the-magnificent-seven-2016/\n",
      "https://flixpatrol.com//title/britney-vs-spears/\n",
      "https://flixpatrol.com//title/oxygen-2021/\n",
      "https://flixpatrol.com//title/ride-along-2/\n",
      "https://flixpatrol.com//title/the-father-who-moves-mountains/\n",
      "https://flixpatrol.com//title/how-i-became-a-superhero/\n",
      "https://flixpatrol.com//title/rurouni-kenshin-the-beginning/\n",
      "https://flixpatrol.com//title/kung-fu-panda-3/\n",
      "https://flixpatrol.com//title/the-midnight-sky/\n",
      "https://flixpatrol.com//title/security-2021/\n",
      "https://flixpatrol.com//title/red-dot/\n",
      "https://flixpatrol.com//title/warcraft/\n",
      "https://flixpatrol.com//title/the-girl-on-the-train-2021/\n",
      "https://flixpatrol.com//title/the-informer/\n",
      "https://flixpatrol.com//title/the-witcher-nightmare-of-the-wolf/\n",
      "https://flixpatrol.com//title/dracula-untold/\n",
      "https://flixpatrol.com//title/jumanji-welcome-to-the-jungle/\n",
      "https://flixpatrol.com//title/the-spongebob-movie-sponge-on-the-run/\n",
      "https://flixpatrol.com//title/into-the-beat/\n",
      "https://flixpatrol.com//title/shrek-2/\n",
      "https://flixpatrol.com//title/how-to-train-your-dragon-the-hidden-world/\n",
      "https://flixpatrol.com//title/once-upon-a-time-in-hollywood/\n",
      "https://flixpatrol.com//title/believe-me-the-abduction-of-lisa-mcvey/\n",
      "https://flixpatrol.com//title/what-men-want-2019/\n",
      "https://flixpatrol.com//title/jurassic-world/\n",
      "https://flixpatrol.com//title/dora-and-the-lost-city-of-gold/\n",
      "https://flixpatrol.com//title/seventh-son/\n",
      "https://flixpatrol.com//title/animals-on-the-loose-a-you-vs-wild-interactive-movie/\n",
      "https://flixpatrol.com//title/i-feel-pretty/\n",
      "https://flixpatrol.com//title/sightless/\n",
      "https://flixpatrol.com//title/the-swarm-2021/\n",
      "https://flixpatrol.com//title/tower-heist/\n",
      "https://flixpatrol.com//title/47-ronin/\n",
      "https://flixpatrol.com//title/monster-2018/\n",
      "https://flixpatrol.com//title/mortal-engines/\n",
      "https://flixpatrol.com//title/ted-2/\n",
      "https://flixpatrol.com//title/ripd/\n",
      "https://flixpatrol.com//title/a-week-away/\n",
      "https://flixpatrol.com//title/this-little-love-of-mine/\n",
      "https://flixpatrol.com//title/men-in-black-international/\n",
      "https://flixpatrol.com//title/the-emoji-movie/\n",
      "https://flixpatrol.com//title/operation-varsity-blues-the-college-admissions-scandal/\n",
      "https://flixpatrol.com//title/madame-claude/\n",
      "https://flixpatrol.com//title/the-yin-yang-master/\n",
      "https://flixpatrol.com//title/the-adventures-of-sharkboy-and-lavagirl/\n",
      "https://flixpatrol.com//title/rurouni-kenshin-part-i-origins/\n",
      "https://flixpatrol.com//title/sniper-ultimate-kill/\n",
      "https://flixpatrol.com//title/angel-has-fallen/\n",
      "https://flixpatrol.com//title/twilight/\n",
      "https://flixpatrol.com//title/the-twilight-saga-breaking-dawn--part-2/\n",
      "https://flixpatrol.com//title/aquaman/\n",
      "https://flixpatrol.com//title/room/\n",
      "https://flixpatrol.com//title/i-see-you/\n",
      "https://flixpatrol.com//title/2012/\n",
      "https://flixpatrol.com//title/wanted/\n",
      "https://flixpatrol.com//title/just-say-yes/\n",
      "https://flixpatrol.com//title/scoob/\n",
      "https://flixpatrol.com//title/the-son-of-bigfoot/\n",
      "https://flixpatrol.com//title/ava-2020/\n",
      "https://flixpatrol.com//title/bombshell/\n",
      "https://flixpatrol.com//title/man-on-a-ledge/\n"
     ]
    }
   ],
   "source": [
    "for element in elements:\n",
    "    \n",
    "    print(\"https://flixpatrol.com/\" + element.select(\"td\")[2].select_one(\"a\").get(\"href\"))"
   ]
  },
  {
   "cell_type": "code",
   "execution_count": 135,
   "metadata": {
    "scrolled": true
   },
   "outputs": [],
   "source": [
    "for element in elements:\n",
    "    url = \"https://flixpatrol.com/\" + element.select(\"td\")[2].select_one(\"a\").get(\"href\")\n",
    "    response = requests.get(url)\n",
    "    dom = BeautifulSoup(response.text, \"html.parser\")\n",
    "    country = dom.select_one(\"body > div.content.mt-4 > div > div.flex-grow > div.mb-6 > div.flex.flex-wrap.text-gray-500 > div > span:nth-child(3)\").text\n",
    "\n",
    "    totalmovies[\"country\"] = country"
   ]
  },
  {
   "cell_type": "code",
   "execution_count": 123,
   "metadata": {},
   "outputs": [],
   "source": [
    "for element in elements:\n",
    "    url = \"https://flixpatrol.com/\" + element.select(\"td\")[2].select_one(\"a\").get(\"href\")\n",
    "    response = requests.get(url)\n",
    "    dom = BeautifulSoup(response.text, \"html.parser\")\n",
    "    try:\n",
    "        gerne = dom.select_one(\"body > div.content.mt-4 > div > div.flex-grow > div.mb-6 > div.flex.flex-wrap.text-gray-500 > div > span:nth-child(9)\").text\n",
    "        totalmovies[\"genre\"] = genre\n",
    "    except:\n",
    "        totalmovies[\"genre\"] = \"no genre\""
   ]
  },
  {
   "cell_type": "code",
   "execution_count": 121,
   "metadata": {},
   "outputs": [
    {
     "data": {
      "text/plain": [
       "Heist    176\n",
       "Name: gerne, dtype: int64"
      ]
     },
     "execution_count": 121,
     "metadata": {},
     "output_type": "execute_result"
    }
   ],
   "source": [
    "totalmovies[\"gerne\"].value_counts()"
   ]
  },
  {
   "cell_type": "code",
   "execution_count": 122,
   "metadata": {
    "scrolled": true
   },
   "outputs": [
    {
     "data": {
      "text/html": [
       "<div>\n",
       "<style scoped>\n",
       "    .dataframe tbody tr th:only-of-type {\n",
       "        vertical-align: middle;\n",
       "    }\n",
       "\n",
       "    .dataframe tbody tr th {\n",
       "        vertical-align: top;\n",
       "    }\n",
       "\n",
       "    .dataframe thead th {\n",
       "        text-align: right;\n",
       "    }\n",
       "</style>\n",
       "<table border=\"1\" class=\"dataframe\">\n",
       "  <thead>\n",
       "    <tr style=\"text-align: right;\">\n",
       "      <th></th>\n",
       "      <th>title</th>\n",
       "      <th>point</th>\n",
       "      <th>countries</th>\n",
       "      <th>point/countries</th>\n",
       "      <th>days</th>\n",
       "      <th>point/days</th>\n",
       "      <th>country</th>\n",
       "      <th>gerne</th>\n",
       "    </tr>\n",
       "  </thead>\n",
       "  <tbody>\n",
       "    <tr>\n",
       "      <th>0</th>\n",
       "      <td>Red Notice</td>\n",
       "      <td>25,918</td>\n",
       "      <td>90</td>\n",
       "      <td>288</td>\n",
       "      <td>48</td>\n",
       "      <td>540</td>\n",
       "      <td>United States</td>\n",
       "      <td>Heist</td>\n",
       "    </tr>\n",
       "    <tr>\n",
       "      <th>1</th>\n",
       "      <td>We Can Be Heroes</td>\n",
       "      <td>25,311</td>\n",
       "      <td>82</td>\n",
       "      <td>309</td>\n",
       "      <td>214</td>\n",
       "      <td>118</td>\n",
       "      <td>United States</td>\n",
       "      <td>Heist</td>\n",
       "    </tr>\n",
       "    <tr>\n",
       "      <th>2</th>\n",
       "      <td>Army of the Dead</td>\n",
       "      <td>18,888</td>\n",
       "      <td>89</td>\n",
       "      <td>212</td>\n",
       "      <td>92</td>\n",
       "      <td>205</td>\n",
       "      <td>United States</td>\n",
       "      <td>Heist</td>\n",
       "    </tr>\n",
       "    <tr>\n",
       "      <th>3</th>\n",
       "      <td>Wish Dragon</td>\n",
       "      <td>16,953</td>\n",
       "      <td>82</td>\n",
       "      <td>207</td>\n",
       "      <td>88</td>\n",
       "      <td>193</td>\n",
       "      <td>United States</td>\n",
       "      <td>Heist</td>\n",
       "    </tr>\n",
       "    <tr>\n",
       "      <th>4</th>\n",
       "      <td>Army of Thieves</td>\n",
       "      <td>15,081</td>\n",
       "      <td>90</td>\n",
       "      <td>168</td>\n",
       "      <td>52</td>\n",
       "      <td>290</td>\n",
       "      <td>United States</td>\n",
       "      <td>Heist</td>\n",
       "    </tr>\n",
       "    <tr>\n",
       "      <th>5</th>\n",
       "      <td>The Mitchells vs. The Machines</td>\n",
       "      <td>14,902</td>\n",
       "      <td>82</td>\n",
       "      <td>182</td>\n",
       "      <td>74</td>\n",
       "      <td>201</td>\n",
       "      <td>United States</td>\n",
       "      <td>Heist</td>\n",
       "    </tr>\n",
       "    <tr>\n",
       "      <th>6</th>\n",
       "      <td>Fatherhood</td>\n",
       "      <td>14,660</td>\n",
       "      <td>82</td>\n",
       "      <td>179</td>\n",
       "      <td>54</td>\n",
       "      <td>271</td>\n",
       "      <td>United States</td>\n",
       "      <td>Heist</td>\n",
       "    </tr>\n",
       "    <tr>\n",
       "      <th>7</th>\n",
       "      <td>The Unforgivable</td>\n",
       "      <td>13,458</td>\n",
       "      <td>89</td>\n",
       "      <td>151</td>\n",
       "      <td>20</td>\n",
       "      <td>673</td>\n",
       "      <td>United States</td>\n",
       "      <td>Heist</td>\n",
       "    </tr>\n",
       "    <tr>\n",
       "      <th>8</th>\n",
       "      <td>The Guilty</td>\n",
       "      <td>12,930</td>\n",
       "      <td>83</td>\n",
       "      <td>156</td>\n",
       "      <td>43</td>\n",
       "      <td>301</td>\n",
       "      <td>United States</td>\n",
       "      <td>Heist</td>\n",
       "    </tr>\n",
       "    <tr>\n",
       "      <th>9</th>\n",
       "      <td>Yes Day</td>\n",
       "      <td>12,809</td>\n",
       "      <td>81</td>\n",
       "      <td>158</td>\n",
       "      <td>66</td>\n",
       "      <td>194</td>\n",
       "      <td>United States</td>\n",
       "      <td>Heist</td>\n",
       "    </tr>\n",
       "  </tbody>\n",
       "</table>\n",
       "</div>"
      ],
      "text/plain": [
       "                            title   point countries point/countries days  \\\n",
       "0                      Red Notice  25,918        90             288   48   \n",
       "1                We Can Be Heroes  25,311        82             309  214   \n",
       "2                Army of the Dead  18,888        89             212   92   \n",
       "3                     Wish Dragon  16,953        82             207   88   \n",
       "4                 Army of Thieves  15,081        90             168   52   \n",
       "5  The Mitchells vs. The Machines  14,902        82             182   74   \n",
       "6                      Fatherhood  14,660        82             179   54   \n",
       "7                The Unforgivable  13,458        89             151   20   \n",
       "8                      The Guilty  12,930        83             156   43   \n",
       "9                         Yes Day  12,809        81             158   66   \n",
       "\n",
       "  point/days        country  gerne  \n",
       "0        540  United States  Heist  \n",
       "1        118  United States  Heist  \n",
       "2        205  United States  Heist  \n",
       "3        193  United States  Heist  \n",
       "4        290  United States  Heist  \n",
       "5        201  United States  Heist  \n",
       "6        271  United States  Heist  \n",
       "7        673  United States  Heist  \n",
       "8        301  United States  Heist  \n",
       "9        194  United States  Heist  "
      ]
     },
     "execution_count": 122,
     "metadata": {},
     "output_type": "execute_result"
    }
   ],
   "source": [
    "totalmovies.head(10)"
   ]
  },
  {
   "cell_type": "code",
   "execution_count": null,
   "metadata": {},
   "outputs": [],
   "source": [
    "def nation(url):\n",
    "\n",
    "    response = requests.get(url)\n",
    "\n",
    "    dom = BeautifulSoup(response.text, \"html.parser\")\n",
    "\n",
    "    country = dom.select_one(\"body > div.content.mt-4 > div > div.flex-grow > div.mb-6 > div.flex.flex-wrap.text-gray-500 > div > span:nth-child(3)\").text\n",
    "\n",
    "    return country\n",
    "\n",
    "\n",
    "\n",
    "def genre(url):\n",
    "\n",
    "    response = requests.get(url)\n",
    "\n",
    "    dom = BeautifulSoup(response.text, \"html.parser\")\n",
    "\n",
    "    fail = []\n",
    "\n",
    "    genre = dom.select_one(\"body > div.content.mt-4 > div > div.flex-grow > div.mb-6 > div.flex.flex-wrap.text-gray-500 > div > span:nth-child(9)\")\n",
    "\n",
    "    return genre"
   ]
  },
  {
   "cell_type": "code",
   "execution_count": null,
   "metadata": {},
   "outputs": [],
   "source": [
    "nations = []\n",
    "for i in movies_df[\"link\"] :\n",
    "    nations.append(nation(i))\n",
    "\n",
    "genres = []\n",
    "for i in movies_df[\"link\"] :\n",
    "    genres.append(genre(i))"
   ]
  },
  {
   "cell_type": "markdown",
   "metadata": {},
   "source": [
    "### "
   ]
  }
 ],
 "metadata": {
  "colab": {
   "collapsed_sections": [],
   "name": "netflix_project.ipynb",
   "provenance": []
  },
  "kernelspec": {
   "display_name": "Python 3",
   "language": "python",
   "name": "python3"
  },
  "language_info": {
   "codemirror_mode": {
    "name": "ipython",
    "version": 3
   },
   "file_extension": ".py",
   "mimetype": "text/x-python",
   "name": "python",
   "nbconvert_exporter": "python",
   "pygments_lexer": "ipython3",
   "version": "3.8.8"
  },
  "toc": {
   "base_numbering": 1,
   "nav_menu": {},
   "number_sections": false,
   "sideBar": true,
   "skip_h1_title": false,
   "title_cell": "Table of Contents",
   "title_sidebar": "Contents",
   "toc_cell": false,
   "toc_position": {},
   "toc_section_display": true,
   "toc_window_display": false
  }
 },
 "nbformat": 4,
 "nbformat_minor": 1
}
