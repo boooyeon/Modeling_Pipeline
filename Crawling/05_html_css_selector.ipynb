{
 "cells": [
  {
   "cell_type": "markdown",
   "id": "fcdc8474",
   "metadata": {},
   "source": [
    "## Web\n",
    "- client-server : url\n",
    "- 동적페이지 : json포맷으로 데이터를 response\n",
    "    1. 웹페이지 분석 : url\n",
    "    2. request(url) > response(data) : data(json(str))\n",
    "    3. data(json(str)) > parsing(response.json()) > list or dict\n",
    "- 정적페이지 : html포맷으로 데이터를 response\n",
    "    1. 웹페이지 분석 : url\n",
    "    2. request(url) > response(data) : data(html(str))\n",
    "    3. data(html(str)) > parsing(bs(css-selector)) > text"
   ]
  },
  {
   "cell_type": "markdown",
   "id": "54ffbb8a",
   "metadata": {},
   "source": [
    "## Html\n",
    "- 웹페이지에서 레이아웃, 문자열, 속서값 등등을 나타내는 문법이다\n",
    "- 웹문서를 작성하는 가장 기본적인 문법\n",
    "#### Html의 구성요소\n",
    "- Document : 한페이지 전체의 html code\n",
    "- Element : 하나의 레이아웃을 나타내는 단위\n",
    "- Tag : 레이아웃의 종류를 나타내는 단위 : 주로 시작태그와 꿀태그가 있다\n",
    "- Attribute : 속성값 : 시작 태그에 포함 : 태그에서 특정 기능을 하는 값\n",
    "- Text : 시작 태그와 끝태그 사이에 있는 문자열"
   ]
  },
  {
   "cell_type": "code",
   "execution_count": 30,
   "id": "7ccc764f",
   "metadata": {},
   "outputs": [],
   "source": [
    "# html code에서 text를 가져오기위해 엘리먼트를 선택해야함\n",
    "# css-selector : 엘리먼트를 선택하는 문법\n",
    "# bs : css-selector를 사용할 수 있게 해주는 패키지"
   ]
  },
  {
   "cell_type": "code",
   "execution_count": 31,
   "id": "2c484bd8",
   "metadata": {},
   "outputs": [
    {
     "data": {
      "text/html": [
       "<div>\n",
       "    <button class=\"btn no1\" value=\"1\">click1</button>\n",
       "    <button class=\"btn no1\" value=\"1\">click1</button>\n",
       "    <a href=\"https://google.com\" target=\"_blinck\">click!!</a>\n",
       "</div>\n"
      ],
      "text/plain": [
       "<IPython.core.display.HTML object>"
      ]
     },
     "metadata": {},
     "output_type": "display_data"
    }
   ],
   "source": [
    "%%html\n",
    "<div>\n",
    "    <button class=\"btn no1\" value=\"1\">click1</button>\n",
    "    <button class=\"btn no1\" value=\"1\">click1</button>\n",
    "    <a href=\"https://google.com\" target=\"_blinck\">click!!</a>\n",
    "</div>"
   ]
  },
  {
   "cell_type": "code",
   "execution_count": 32,
   "id": "a13a6e60",
   "metadata": {},
   "outputs": [],
   "source": [
    "# p : 한줄의 문자열 출력"
   ]
  },
  {
   "cell_type": "code",
   "execution_count": 33,
   "id": "39f00b99",
   "metadata": {},
   "outputs": [
    {
     "data": {
      "text/html": [
       "<p>kt 1</p>\n",
       "<p>kt 2</p>\n"
      ],
      "text/plain": [
       "<IPython.core.display.HTML object>"
      ]
     },
     "metadata": {},
     "output_type": "display_data"
    }
   ],
   "source": [
    "%%html\n",
    "<p>kt 1</p>\n",
    "<p>kt 2</p>"
   ]
  },
  {
   "cell_type": "code",
   "execution_count": 34,
   "id": "07c14510",
   "metadata": {},
   "outputs": [],
   "source": [
    "# span : 한블럭의 문자열 출력"
   ]
  },
  {
   "cell_type": "code",
   "execution_count": 35,
   "id": "a72778dc",
   "metadata": {},
   "outputs": [
    {
     "data": {
      "text/html": [
       "<span>kt 1</span>\n",
       "<span>kt 2</span>\n"
      ],
      "text/plain": [
       "<IPython.core.display.HTML object>"
      ]
     },
     "metadata": {},
     "output_type": "display_data"
    }
   ],
   "source": [
    "%%html\n",
    "<span>kt 1</span>\n",
    "<span>kt 2</span>"
   ]
  },
  {
   "cell_type": "code",
   "execution_count": 36,
   "id": "3b09d708",
   "metadata": {},
   "outputs": [],
   "source": [
    "# div : 레이아웃(영역)을 출력"
   ]
  },
  {
   "cell_type": "code",
   "execution_count": 37,
   "id": "2f13fae9",
   "metadata": {},
   "outputs": [
    {
     "data": {
      "text/html": [
       "<div>\n",
       "    <p>kt 1</p>\n",
       "    <p>kt 2</p>\n",
       "</div>\n",
       "<div>\n",
       "    <span>kt 3</span>\n",
       "</div>\n"
      ],
      "text/plain": [
       "<IPython.core.display.HTML object>"
      ]
     },
     "metadata": {},
     "output_type": "display_data"
    }
   ],
   "source": [
    "%%html\n",
    "<div>\n",
    "    <p>kt 1</p>\n",
    "    <p>kt 2</p>\n",
    "</div>\n",
    "<div>\n",
    "    <span>kt 3</span>\n",
    "</div>"
   ]
  },
  {
   "cell_type": "code",
   "execution_count": 38,
   "id": "c6ee07db",
   "metadata": {},
   "outputs": [],
   "source": [
    "# table : 행과 열로 이루어진 데이터를 출력"
   ]
  },
  {
   "cell_type": "code",
   "execution_count": 39,
   "id": "f391a56b",
   "metadata": {},
   "outputs": [
    {
     "data": {
      "text/html": [
       "<table>\n",
       "    <caption>table tag</caption>\n",
       "    <thead>\n",
       "        <tr>\n",
       "            <th>column1</th>\n",
       "            <th>column2</th>\n",
       "        </tr>\n",
       "    </thead>\n",
       "    <tbody>\n",
       "        <tr>\n",
       "            <th>kt 1</th>\n",
       "            <th>kt 2</th>\n",
       "        </tr>\n",
       "        <tr>\n",
       "            <th>kt 3</th>\n",
       "            <th>kt 4</th>\n",
       "        </tr>\n",
       "    </tbody>\n",
       "</table>\n"
      ],
      "text/plain": [
       "<IPython.core.display.HTML object>"
      ]
     },
     "metadata": {},
     "output_type": "display_data"
    }
   ],
   "source": [
    "%%html\n",
    "<table>\n",
    "    <caption>table tag</caption>\n",
    "    <thead>\n",
    "        <tr>\n",
    "            <th>column1</th>\n",
    "            <th>column2</th>\n",
    "        </tr>\n",
    "    </thead>\n",
    "    <tbody>\n",
    "        <tr>\n",
    "            <th>kt 1</th>\n",
    "            <th>kt 2</th>\n",
    "        </tr>\n",
    "        <tr>\n",
    "            <th>kt 3</th>\n",
    "            <th>kt 4</th>\n",
    "        </tr>\n",
    "    </tbody>\n",
    "</table>"
   ]
  },
  {
   "cell_type": "code",
   "execution_count": 40,
   "id": "cbc2f560",
   "metadata": {},
   "outputs": [],
   "source": [
    "# ul, li : 리스트 문자열 출력"
   ]
  },
  {
   "cell_type": "code",
   "execution_count": 41,
   "id": "456ab660",
   "metadata": {},
   "outputs": [
    {
     "data": {
      "text/html": [
       "<ul>\n",
       "    <li>kt1</li>\n",
       "    <li>kt2</li>\n",
       "</ul>    \n"
      ],
      "text/plain": [
       "<IPython.core.display.HTML object>"
      ]
     },
     "metadata": {},
     "output_type": "display_data"
    }
   ],
   "source": [
    "%%html\n",
    "<ul>\n",
    "    <li>kt1</li>\n",
    "    <li>kt2</li>\n",
    "</ul>    "
   ]
  },
  {
   "cell_type": "code",
   "execution_count": 42,
   "id": "2da8c132",
   "metadata": {},
   "outputs": [],
   "source": [
    "# a : 링크 출력\n",
    "# target=\"_blink\" : 새로운 탭에서 띄우는 기능"
   ]
  },
  {
   "cell_type": "code",
   "execution_count": 43,
   "id": "df57029d",
   "metadata": {},
   "outputs": [
    {
     "data": {
      "text/html": [
       "<a href=\"https://naver.com\" target=\"_blink\">more naver</a>\n"
      ],
      "text/plain": [
       "<IPython.core.display.HTML object>"
      ]
     },
     "metadata": {},
     "output_type": "display_data"
    }
   ],
   "source": [
    "%%html\n",
    "<a href=\"https://naver.com\" target=\"_blink\">more naver</a>"
   ]
  },
  {
   "cell_type": "code",
   "execution_count": 44,
   "id": "0724fe5d",
   "metadata": {},
   "outputs": [],
   "source": [
    "# img : 이미지 출력"
   ]
  },
  {
   "cell_type": "code",
   "execution_count": 45,
   "id": "b05d44e5",
   "metadata": {},
   "outputs": [
    {
     "data": {
      "text/html": [
       "<img src=\"https://cfm.kt.com/images/v2/layout/gnb-ktlogo.png\" alt=\"kt\">\n"
      ],
      "text/plain": [
       "<IPython.core.display.HTML object>"
      ]
     },
     "metadata": {},
     "output_type": "display_data"
    }
   ],
   "source": [
    "%%html\n",
    "<img src=\"https://cfm.kt.com/images/v2/layout/gnb-ktlogo.png\" alt=\"kt\">"
   ]
  },
  {
   "cell_type": "markdown",
   "id": "4f49d350",
   "metadata": {},
   "source": [
    "## CSS selector\n",
    "- html element를 선택하기 위한 문법\n",
    "\n",
    "#### element를 선택하기 위한 방법들\n",
    "- tag\n",
    "- id\n",
    "- class\n",
    "- attr"
   ]
  },
  {
   "cell_type": "code",
   "execution_count": 46,
   "id": "79997386",
   "metadata": {},
   "outputs": [],
   "source": [
    "# tag\n",
    "# css selector : span => kt 3가 선택"
   ]
  },
  {
   "cell_type": "code",
   "execution_count": 47,
   "id": "37f8c38c",
   "metadata": {},
   "outputs": [
    {
     "data": {
      "text/html": [
       "<div>kt 1</div>\n",
       "<p>kt 2</p>\n",
       "<span>kt 3</span>\n"
      ],
      "text/plain": [
       "<IPython.core.display.HTML object>"
      ]
     },
     "metadata": {},
     "output_type": "display_data"
    }
   ],
   "source": [
    "%%html\n",
    "<div>kt 1</div>\n",
    "<p>kt 2</p>\n",
    "<span>kt 3</span>"
   ]
  },
  {
   "cell_type": "code",
   "execution_count": 48,
   "id": "b1c56dd6",
   "metadata": {},
   "outputs": [],
   "source": [
    "# id : 한페이지에 같은 id 값을 사용하지 않음. 즉, id는 고유하게 설정해줌\n",
    "# 태그와 id값중 하나를 select한다면 id로 선택하는게 좀 더 디테일하게 선택\n",
    "# css selector : d3 => kt 3가 선택"
   ]
  },
  {
   "cell_type": "code",
   "execution_count": 49,
   "id": "df72728a",
   "metadata": {},
   "outputs": [
    {
     "data": {
      "text/html": [
       "<p id=\"d1\"> kt 1</p>\n",
       "<p id=\"d2\"> kt 2</p>\n",
       "<p id=\"d3\"> kt 3</p>\n"
      ],
      "text/plain": [
       "<IPython.core.display.HTML object>"
      ]
     },
     "metadata": {},
     "output_type": "display_data"
    }
   ],
   "source": [
    "%%html\n",
    "<p id=\"d1\"> kt 1</p>\n",
    "<p id=\"d2\"> kt 2</p>\n",
    "<p id=\"d3\"> kt 3</p>"
   ]
  },
  {
   "cell_type": "code",
   "execution_count": 50,
   "id": "1f4f0cc3",
   "metadata": {},
   "outputs": [],
   "source": [
    "# class : 하나의 태그에 여러개의 값을 사용할 수 있음, 한페이지에서 동일값을 여러번 사용할 수 있음\n",
    "# css selector : .txt => kt 1, kt 3 선택"
   ]
  },
  {
   "cell_type": "code",
   "execution_count": 52,
   "id": "becf395e",
   "metadata": {},
   "outputs": [
    {
     "data": {
      "text/html": [
       "<p class=\"txt d1\"> kt 1</p>\n",
       "<p class=\"d2\"> kt 2</p>\n",
       "<p class=\"txt d3\"> kt 3</p>\n"
      ],
      "text/plain": [
       "<IPython.core.display.HTML object>"
      ]
     },
     "metadata": {},
     "output_type": "display_data"
    }
   ],
   "source": [
    "%%html\n",
    "<p class=\"txt d1\"> kt 1</p>\n",
    "<p class=\"d2\"> kt 2</p>\n",
    "<p class=\"txt d3\"> kt 3</p>"
   ]
  },
  {
   "cell_type": "code",
   "execution_count": 53,
   "id": "05fc1fb8",
   "metadata": {},
   "outputs": [],
   "source": [
    "# attr\n",
    "# css selector : [value=\"no2\"] => kt 2가 선택"
   ]
  },
  {
   "cell_type": "code",
   "execution_count": 54,
   "id": "e15ad625",
   "metadata": {},
   "outputs": [
    {
     "data": {
      "text/html": [
       "<p value=\"no 1\"> kt 1</p>\n",
       "<p value=\"no 2\"> kt 2</p>\n",
       "<p value=\"no 3\"> kt 3</p>\n"
      ],
      "text/plain": [
       "<IPython.core.display.HTML object>"
      ]
     },
     "metadata": {},
     "output_type": "display_data"
    }
   ],
   "source": [
    "%%html\n",
    "<p value=\"no 1\"> kt 1</p>\n",
    "<p value=\"no 2\"> kt 2</p>\n",
    "<p value=\"no 3\"> kt 3</p>"
   ]
  },
  {
   "cell_type": "code",
   "execution_count": 56,
   "id": "de2131f8",
   "metadata": {},
   "outputs": [],
   "source": [
    "# 계층적으로 엘리먼트 선택\n",
    "# css-selector : p : kt 1, kt 2 선택\n",
    "\n",
    "# > : 한단계 하위 엘리먼트 선택\n",
    "# css-selector : .wrap > p : kt 1\n",
    "# css-selector : .wrap > div > p : kt 2 선택\n",
    "\n",
    "# 공백 : 하위 엘리먼트 모두 선택\n",
    "# css-selector : .wrap p : kt 1, kt 2 선택\n",
    "\n",
    "# span태그이면서 no1클래스를 가진 엘리먼트 선택\n",
    "# css-selector : span.no1: kt 3 선택"
   ]
  },
  {
   "cell_type": "code",
   "execution_count": 57,
   "id": "15a4d90f",
   "metadata": {},
   "outputs": [
    {
     "data": {
      "text/html": [
       "<div class=\"wrap\">\n",
       "    <p class=\"no1\">kt 1</p>\n",
       "    <div>\n",
       "        <p class=\"no1\">kt 2</p>\n",
       "        <span class=\"no1\">kt 3</span>\n",
       "    </div>\n",
       "</div>\n"
      ],
      "text/plain": [
       "<IPython.core.display.HTML object>"
      ]
     },
     "metadata": {},
     "output_type": "display_data"
    }
   ],
   "source": [
    "%%html\n",
    "<div class=\"wrap\">\n",
    "    <p class=\"no1\">kt 1</p>\n",
    "    <div>\n",
    "        <p class=\"no1\">kt 2</p>\n",
    "        <span class=\"no1\">kt 3</span>\n",
    "    </div>\n",
    "</div>"
   ]
  },
  {
   "cell_type": "code",
   "execution_count": null,
   "id": "d68ae0a7",
   "metadata": {},
   "outputs": [],
   "source": [
    "# nth-child(n) : n번째 엘리먼트 선택\n",
    "# css-selector : .wrap > p:nth-child(2) => .warp에 있는 2번째가 p태그이면 선택하라: kt 2 선택\n",
    "# css-selector : .wrap > p:nth-child(2), .wrap > p:nth-child(3) : kt 2, kt 3 선택"
   ]
  },
  {
   "cell_type": "code",
   "execution_count": 1,
   "id": "c2feeb67",
   "metadata": {},
   "outputs": [
    {
     "data": {
      "text/html": [
       "<div class=\"wrap\">\n",
       "    <span>kt ㅅㅂ</span>\n",
       "    <p>kt 1</p>\n",
       "    <p>kt 2</p>\n",
       "    <p>kt 3</p>\n",
       "</div>\n"
      ],
      "text/plain": [
       "<IPython.core.display.HTML object>"
      ]
     },
     "metadata": {},
     "output_type": "display_data"
    }
   ],
   "source": [
    "%%html\n",
    "<div class=\"wrap\">\n",
    "    <p>kt 1</p>\n",
    "    <p>kt 2</p>\n",
    "    <p>kt 3</p>\n",
    "</div>"
   ]
  },
  {
   "cell_type": "code",
   "execution_count": null,
   "id": "42f87856",
   "metadata": {},
   "outputs": [],
   "source": []
  }
 ],
 "metadata": {
  "kernelspec": {
   "display_name": "Python 3",
   "language": "python",
   "name": "python3"
  },
  "language_info": {
   "codemirror_mode": {
    "name": "ipython",
    "version": 3
   },
   "file_extension": ".py",
   "mimetype": "text/x-python",
   "name": "python",
   "nbconvert_exporter": "python",
   "pygments_lexer": "ipython3",
   "version": "3.8.8"
  }
 },
 "nbformat": 4,
 "nbformat_minor": 5
}
