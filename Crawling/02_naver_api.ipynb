{
 "cells": [
  {
   "cell_type": "markdown",
   "id": "57d2f88b",
   "metadata": {},
   "source": [
    "### 크롤링 정책\n",
    "- robots.txt : 크롤링 정책을 설명한 페이지\n",
    "- 과도한 크롤링으로 서비스에 영향을 주었을때 법적 문제가 있을 수 있다.\n",
    "- 사람인, 잡코리아 : 2008 > 2018년\n",
    "- api 사용 > robots.txt > 서비스에 피해가 가지 않는 선에서 수집\n",
    "- 서비스 피해\n",
    "    - 지적재산권\n",
    "    - 서비스 과부하\n",
    "    - 데이터 사용표준"
   ]
  },
  {
   "cell_type": "markdown",
   "id": "17cff33f",
   "metadata": {},
   "source": [
    "### API 서비스를 이용한 데이터 수집\n",
    "- naver api(application programing interface)\n",
    "#### [절차]\n",
    "- application 등록 : app key\n",
    "- document 확인 : url\n",
    "- request(url, app_key, data) > response(json(str))\n",
    "- json(str) > list, dict"
   ]
  },
  {
   "cell_type": "code",
   "execution_count": 9,
   "id": "0ad9d406",
   "metadata": {},
   "outputs": [],
   "source": [
    "import json\n",
    "import requests\n",
    "import pandas as pd"
   ]
  },
  {
   "cell_type": "code",
   "execution_count": 10,
   "id": "c1acc8de",
   "metadata": {},
   "outputs": [],
   "source": [
    "#### papago : 번역 api"
   ]
  },
  {
   "cell_type": "code",
   "execution_count": 34,
   "id": "45b65a82",
   "metadata": {},
   "outputs": [],
   "source": [
    "# 1. application 등록 : app key"
   ]
  },
  {
   "cell_type": "code",
   "execution_count": 35,
   "id": "afbb94ea",
   "metadata": {},
   "outputs": [],
   "source": [
    "APP_KEY = \"1740f890a7465f3bd420204545716b02\""
   ]
  },
  {
   "cell_type": "code",
   "execution_count": 36,
   "id": "9c355fa6",
   "metadata": {},
   "outputs": [],
   "source": [
    "# 2. document 확인 : url\n",
    "# POST : url, params, headers"
   ]
  },
  {
   "cell_type": "code",
   "execution_count": 37,
   "id": "0ff0dc2a",
   "metadata": {},
   "outputs": [],
   "source": [
    "url = \"https://dapi.kakao.com/v2/translation/translate\"\n",
    "params = {\"query\":\"파이썬 웹크롤링 수업 입니다.\", \"src_lang\":\"kr\", \"target_lang\":\"en\"}\n",
    "headers = {\"Authorization\": f\"KakaoAK {APP_KEY}\"}"
   ]
  },
  {
   "cell_type": "code",
   "execution_count": 38,
   "id": "fca165d0",
   "metadata": {},
   "outputs": [],
   "source": [
    "# 3. request(url, app_key, data) > response(json(str))"
   ]
  },
  {
   "cell_type": "code",
   "execution_count": 39,
   "id": "365abb57",
   "metadata": {},
   "outputs": [
    {
     "data": {
      "text/plain": [
       "<Response [200]>"
      ]
     },
     "execution_count": 39,
     "metadata": {},
     "output_type": "execute_result"
    }
   ],
   "source": [
    "response = requests.post(url, params, headers=headers)\n",
    "response"
   ]
  },
  {
   "cell_type": "code",
   "execution_count": 40,
   "id": "890a29d3",
   "metadata": {},
   "outputs": [
    {
     "data": {
      "text/plain": [
       "'{\"translated_text\":[[\"Python Webcrolling class.\"]]}'"
      ]
     },
     "execution_count": 40,
     "metadata": {},
     "output_type": "execute_result"
    }
   ],
   "source": [
    "response.text"
   ]
  },
  {
   "cell_type": "code",
   "execution_count": 41,
   "id": "7bb3da9a",
   "metadata": {},
   "outputs": [],
   "source": [
    "# 4. json(str) > list, dict"
   ]
  },
  {
   "cell_type": "code",
   "execution_count": 42,
   "id": "fbbca66d",
   "metadata": {},
   "outputs": [
    {
     "data": {
      "text/plain": [
       "'Python Webcrolling class.'"
      ]
     },
     "execution_count": 42,
     "metadata": {},
     "output_type": "execute_result"
    }
   ],
   "source": [
    "en_txt = response.json()[\"translated_text\"][0][0]\n",
    "en_txt"
   ]
  },
  {
   "cell_type": "code",
   "execution_count": 43,
   "id": "d1011f24",
   "metadata": {},
   "outputs": [],
   "source": [
    "# 5. function"
   ]
  },
  {
   "cell_type": "code",
   "execution_count": 51,
   "id": "e6b70d26",
   "metadata": {},
   "outputs": [],
   "source": [
    "def translate(text, src=\"kr\", target=\"en\"):\n",
    "    APP_KEY = \"1740f890a7465f3bd420204545716b02\"\n",
    "    \n",
    "    url = \"https://dapi.kakao.com/v2/translation/translate\"\n",
    "    params = {\"query\":text, \"src_lang\":\"kr\", \"target_lang\":\"en\"}\n",
    "    headers = {\"Authorization\": f\"KakaoAK {APP_KEY}\"}\n",
    "    response = requests.post(url, params, headers=headers)\n",
    "    return response.json()[\"translated_text\"][0][0]"
   ]
  },
  {
   "cell_type": "code",
   "execution_count": 52,
   "id": "a03356a1",
   "metadata": {},
   "outputs": [
    {
     "data": {
      "text/plain": [
       "'Python programming is fun'"
      ]
     },
     "execution_count": 52,
     "metadata": {},
     "output_type": "execute_result"
    }
   ],
   "source": [
    "text = \"파이썬 프로그래밍은 재미있습니다\"\n",
    "en_text = translate(text)\n",
    "en_text"
   ]
  },
  {
   "cell_type": "code",
   "execution_count": 53,
   "id": "1fd40bec",
   "metadata": {},
   "outputs": [
    {
     "data": {
      "text/html": [
       "<div>\n",
       "<style scoped>\n",
       "    .dataframe tbody tr th:only-of-type {\n",
       "        vertical-align: middle;\n",
       "    }\n",
       "\n",
       "    .dataframe tbody tr th {\n",
       "        vertical-align: top;\n",
       "    }\n",
       "\n",
       "    .dataframe thead th {\n",
       "        text-align: right;\n",
       "    }\n",
       "</style>\n",
       "<table border=\"1\" class=\"dataframe\">\n",
       "  <thead>\n",
       "    <tr style=\"text-align: right;\">\n",
       "      <th></th>\n",
       "      <th>id</th>\n",
       "      <th>title</th>\n",
       "    </tr>\n",
       "  </thead>\n",
       "  <tbody>\n",
       "    <tr>\n",
       "      <th>0</th>\n",
       "      <td>1</td>\n",
       "      <td>파이썬은 재미있습니다.</td>\n",
       "    </tr>\n",
       "    <tr>\n",
       "      <th>1</th>\n",
       "      <td>2</td>\n",
       "      <td>웹크롤링은 재미있습니다.</td>\n",
       "    </tr>\n",
       "  </tbody>\n",
       "</table>\n",
       "</div>"
      ],
      "text/plain": [
       "   id          title\n",
       "0   1   파이썬은 재미있습니다.\n",
       "1   2  웹크롤링은 재미있습니다."
      ]
     },
     "execution_count": 53,
     "metadata": {},
     "output_type": "execute_result"
    }
   ],
   "source": [
    "df = pd.DataFrame(\n",
    "    [{\"id\":1, \"title\":\"파이썬은 재미있습니다.\"},\n",
    "    {\"id\":2, \"title\":\"웹크롤링은 재미있습니다.\"}]\n",
    ")\n",
    "df"
   ]
  },
  {
   "cell_type": "code",
   "execution_count": 54,
   "id": "064b0a7f",
   "metadata": {},
   "outputs": [
    {
     "data": {
      "text/html": [
       "<div>\n",
       "<style scoped>\n",
       "    .dataframe tbody tr th:only-of-type {\n",
       "        vertical-align: middle;\n",
       "    }\n",
       "\n",
       "    .dataframe tbody tr th {\n",
       "        vertical-align: top;\n",
       "    }\n",
       "\n",
       "    .dataframe thead th {\n",
       "        text-align: right;\n",
       "    }\n",
       "</style>\n",
       "<table border=\"1\" class=\"dataframe\">\n",
       "  <thead>\n",
       "    <tr style=\"text-align: right;\">\n",
       "      <th></th>\n",
       "      <th>id</th>\n",
       "      <th>title</th>\n",
       "      <th>en_title</th>\n",
       "    </tr>\n",
       "  </thead>\n",
       "  <tbody>\n",
       "    <tr>\n",
       "      <th>0</th>\n",
       "      <td>1</td>\n",
       "      <td>파이썬은 재미있습니다.</td>\n",
       "      <td>Python is fun.</td>\n",
       "    </tr>\n",
       "    <tr>\n",
       "      <th>1</th>\n",
       "      <td>2</td>\n",
       "      <td>웹크롤링은 재미있습니다.</td>\n",
       "      <td>Web crawling is fun.</td>\n",
       "    </tr>\n",
       "  </tbody>\n",
       "</table>\n",
       "</div>"
      ],
      "text/plain": [
       "   id          title              en_title\n",
       "0   1   파이썬은 재미있습니다.        Python is fun.\n",
       "1   2  웹크롤링은 재미있습니다.  Web crawling is fun."
      ]
     },
     "execution_count": 54,
     "metadata": {},
     "output_type": "execute_result"
    }
   ],
   "source": [
    "df[\"en_title\"] = df[\"title\"].apply(translate)\n",
    "df"
   ]
  },
  {
   "cell_type": "code",
   "execution_count": null,
   "id": "58069442",
   "metadata": {},
   "outputs": [],
   "source": []
  },
  {
   "cell_type": "code",
   "execution_count": null,
   "id": "7ea714b3",
   "metadata": {},
   "outputs": [],
   "source": []
  }
 ],
 "metadata": {
  "kernelspec": {
   "display_name": "Python 3",
   "language": "python",
   "name": "python3"
  },
  "language_info": {
   "codemirror_mode": {
    "name": "ipython",
    "version": 3
   },
   "file_extension": ".py",
   "mimetype": "text/x-python",
   "name": "python",
   "nbconvert_exporter": "python",
   "pygments_lexer": "ipython3",
   "version": "3.8.8"
  }
 },
 "nbformat": 4,
 "nbformat_minor": 5
}
