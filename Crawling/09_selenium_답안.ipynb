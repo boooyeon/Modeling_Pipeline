{
 "cells": [
  {
   "cell_type": "markdown",
   "id": "2d9b025d",
   "metadata": {},
   "source": [
    "### 웹크롤링 방법\n",
    "- 동적페이지 : json : response.json() : dict, list : DataFrame\n",
    "- 정적페이지 : html : bs : css-selecter : text : DataFrame\n",
    "- selenium 을 이용한 크롤링\n",
    "    - 동적페이지, 정적페이지, API의 방법으로 데이터를 수집할수 없을때 사용\n",
    "    - 파이썬 코드로 컨트롤 할수 있는 자동화된 브라우져를 띄워서 크롤링할 페이지로 이동한 후에 브라우져에 있는 정보를 수집\n",
    "    - 웹서비스 테스트 자동화를 목적으로 만들어진 패키지, 다양한 언어로 사용 가능, 다양한 브라우져를 지원\n",
    "- 동적페이지(json, api) > 정적페이지(html) >>> selenium(browser)\n",
    "- 설정 : 크롬브라우져 설치, 크롬드라이버 다운로드, seleniumn 설치\n",
    "    - 패키지 인스톨 : `!pip install selenium`\n",
    "    - 크롬 드라이버 다운로드 : `https://chromedriver.chromium.org/downloads`\n",
    "    - 압축해제\n",
    "    - 현재 디렉토리로 파일 이동"
   ]
  },
  {
   "cell_type": "code",
   "execution_count": 2,
   "id": "a83a2043",
   "metadata": {},
   "outputs": [],
   "source": [
    "# !pip install selenium"
   ]
  },
  {
   "cell_type": "code",
   "execution_count": 4,
   "id": "75334eb4",
   "metadata": {},
   "outputs": [],
   "source": [
    "import pandas as pd\n",
    "from selenium import webdriver"
   ]
  },
  {
   "cell_type": "code",
   "execution_count": 2,
   "id": "e364b7d7",
   "metadata": {},
   "outputs": [],
   "source": [
    "# 브라우져 열기"
   ]
  },
  {
   "cell_type": "code",
   "execution_count": 3,
   "id": "ff3b584f",
   "metadata": {},
   "outputs": [],
   "source": [
    "driver = webdriver.Chrome()"
   ]
  },
  {
   "cell_type": "code",
   "execution_count": 6,
   "id": "0432e8b3",
   "metadata": {},
   "outputs": [],
   "source": [
    "# 페이지 이동"
   ]
  },
  {
   "cell_type": "code",
   "execution_count": 7,
   "id": "b85fc213",
   "metadata": {},
   "outputs": [],
   "source": [
    "driver.get(\"https://daum.net\")"
   ]
  },
  {
   "cell_type": "code",
   "execution_count": 8,
   "id": "250d6896",
   "metadata": {},
   "outputs": [],
   "source": [
    "# 브라우져 사이즈 조절"
   ]
  },
  {
   "cell_type": "code",
   "execution_count": 12,
   "id": "a9f7b639",
   "metadata": {},
   "outputs": [],
   "source": [
    "driver.set_window_size(900, 1000)"
   ]
  },
  {
   "cell_type": "code",
   "execution_count": 13,
   "id": "b3a20802",
   "metadata": {},
   "outputs": [],
   "source": [
    "# 브라우져 종료 : 메모리 100m 절약"
   ]
  },
  {
   "cell_type": "code",
   "execution_count": 14,
   "id": "ec54068a",
   "metadata": {},
   "outputs": [],
   "source": [
    "driver.quit()"
   ]
  },
  {
   "cell_type": "markdown",
   "id": "719c5d1e",
   "metadata": {},
   "source": [
    "#### ted 사이트에서 영상 목록 데이터 수집"
   ]
  },
  {
   "cell_type": "code",
   "execution_count": 15,
   "id": "09238b9f",
   "metadata": {},
   "outputs": [],
   "source": [
    "# 1. 브라우져 열기"
   ]
  },
  {
   "cell_type": "code",
   "execution_count": 39,
   "id": "232e0862",
   "metadata": {},
   "outputs": [],
   "source": [
    "driver = webdriver.Chrome()"
   ]
  },
  {
   "cell_type": "code",
   "execution_count": 41,
   "id": "cc4eb48e",
   "metadata": {},
   "outputs": [],
   "source": [
    "driver.get(\"https://search.shopping.naver.com/search/all?query=%EC%8B%A4%EB%82%B4%EC%9E%90%EC%A0%84%EA%B1%B0&cat_id=&frm=NVSHATC#\")"
   ]
  },
  {
   "cell_type": "code",
   "execution_count": null,
   "id": "a2e718a0",
   "metadata": {},
   "outputs": [],
   "source": [
    "# select : find_elements_by_css_selector\n",
    "# select_one : find_element_by_css_selector"
   ]
  },
  {
   "cell_type": "code",
   "execution_count": 42,
   "id": "775686f5",
   "metadata": {},
   "outputs": [],
   "source": [
    "import warnings\n",
    "warnings.filterwarnings(\"ignore\")"
   ]
  },
  {
   "cell_type": "code",
   "execution_count": 49,
   "id": "cbb7687c",
   "metadata": {},
   "outputs": [
    {
     "data": {
      "text/plain": [
       "'https://search.shopping.naver.com/search/all?query=%EC%8B%A4%EB%82%B4%EC%9E%90%EC%A0%84%EA%B1%B0&cat_id=&frm=NVSHATC#'"
      ]
     },
     "execution_count": 49,
     "metadata": {},
     "output_type": "execute_result"
    }
   ],
   "source": [
    "selector = \"#__next > div > div.style_container__1YjHN > div.style_inner__18zZX > div.style_content_wrap__1PzEo > div.style_content__2T20F > div.seller_filter_area > div > div.subFilter_sort_choice__1SFXG > div.subFilter_mall_choice__37Xyj > a\"\n",
    "driver.find_element_by_css_selector(selector).get_attribute(\"href\")"
   ]
  },
  {
   "cell_type": "code",
   "execution_count": 34,
   "id": "2e478b7a",
   "metadata": {},
   "outputs": [],
   "source": [
    "# 하나의 element에서 필요한 데이터 수집"
   ]
  },
  {
   "cell_type": "code",
   "execution_count": null,
   "id": "2a45761d",
   "metadata": {},
   "outputs": [],
   "source": [
    "# bs : attr : .get(\"href\")\n",
    "# selenium : .get_attribute(\"href\")"
   ]
  },
  {
   "cell_type": "code",
   "execution_count": 41,
   "id": "936154ae",
   "metadata": {},
   "outputs": [
    {
     "data": {
      "text/plain": [
       "{'title': 'Climate action needs new frontline leadership',\n",
       " 'link': 'https://www.ted.com/talks/ozawa_bineshi_albert_climate_action_needs_new_frontline_leadership'}"
      ]
     },
     "execution_count": 41,
     "metadata": {},
     "output_type": "execute_result"
    }
   ],
   "source": [
    "element = elements[0]\n",
    "data = {\n",
    "    \"title\": element.find_element_by_css_selector('h4 > .ga-link').text,\n",
    "    \"link\": element.find_element_by_css_selector('h4 > .ga-link').get_attribute(\"href\"),\n",
    "}\n",
    "data"
   ]
  },
  {
   "cell_type": "code",
   "execution_count": 44,
   "id": "64f670d8",
   "metadata": {},
   "outputs": [
    {
     "name": "stdout",
     "output_type": "stream",
     "text": [
      "Wall time: 482 ms\n"
     ]
    },
    {
     "data": {
      "text/html": [
       "<div>\n",
       "<style scoped>\n",
       "    .dataframe tbody tr th:only-of-type {\n",
       "        vertical-align: middle;\n",
       "    }\n",
       "\n",
       "    .dataframe tbody tr th {\n",
       "        vertical-align: top;\n",
       "    }\n",
       "\n",
       "    .dataframe thead th {\n",
       "        text-align: right;\n",
       "    }\n",
       "</style>\n",
       "<table border=\"1\" class=\"dataframe\">\n",
       "  <thead>\n",
       "    <tr style=\"text-align: right;\">\n",
       "      <th></th>\n",
       "      <th>title</th>\n",
       "      <th>link</th>\n",
       "    </tr>\n",
       "  </thead>\n",
       "  <tbody>\n",
       "    <tr>\n",
       "      <th>34</th>\n",
       "      <td>How to boost nature-based solutions to climate...</td>\n",
       "      <td>https://www.ted.com/talks/zac_goldsmith_how_to...</td>\n",
       "    </tr>\n",
       "    <tr>\n",
       "      <th>35</th>\n",
       "      <td>Which animal has the best eyesight?</td>\n",
       "      <td>https://www.ted.com/talks/thomas_w_cronin_whic...</td>\n",
       "    </tr>\n",
       "  </tbody>\n",
       "</table>\n",
       "</div>"
      ],
      "text/plain": [
       "                                                title  \\\n",
       "34  How to boost nature-based solutions to climate...   \n",
       "35                Which animal has the best eyesight?   \n",
       "\n",
       "                                                 link  \n",
       "34  https://www.ted.com/talks/zac_goldsmith_how_to...  \n",
       "35  https://www.ted.com/talks/thomas_w_cronin_whic...  "
      ]
     },
     "execution_count": 44,
     "metadata": {},
     "output_type": "execute_result"
    }
   ],
   "source": [
    "%%time\n",
    "datas = []\n",
    "for element in elements:\n",
    "    datas.append({\n",
    "        \"title\": element.find_element_by_css_selector('h4 > .ga-link').text,\n",
    "        \"link\": element.find_element_by_css_selector('h4 > .ga-link').get_attribute(\"href\"),\n",
    "    })\n",
    "df = pd.DataFrame(datas)\n",
    "df.tail(2)"
   ]
  },
  {
   "cell_type": "code",
   "execution_count": 23,
   "id": "9491e2db",
   "metadata": {},
   "outputs": [],
   "source": [
    "# 5. 셀렉트 박스의 한국어 클릭하기"
   ]
  },
  {
   "cell_type": "code",
   "execution_count": 31,
   "id": "ee79e7d5",
   "metadata": {},
   "outputs": [
    {
     "ename": "ElementClickInterceptedException",
     "evalue": "Message: element click intercepted: Element <input readonly=\"\" type=\"checkbox\" name=\"lb_brand_0\" id=\"lb_brand_0\" class=\"subFilter_checkbox__Qlrs8\"> is not clickable at point (126, 391). Other element would receive the click: <label for=\"lb_brand_0\" class=\"subFilter_label_mall__anN3O\">...</label>\n  (Session info: chrome=98.0.4758.102)\nStacktrace:\nBacktrace:\n\tOrdinal0 [0x011269A3+2582947]\n\tOrdinal0 [0x010BA6D1+2139857]\n\tOrdinal0 [0x00FB3A98+1063576]\n\tOrdinal0 [0x00FE636F+1270639]\n\tOrdinal0 [0x00FE45B7+1263031]\n\tOrdinal0 [0x00FE220B+1253899]\n\tOrdinal0 [0x00FE0FF9+1249273]\n\tOrdinal0 [0x00FD6B53+1207123]\n\tOrdinal0 [0x00FF854C+1344844]\n\tOrdinal0 [0x00FD6524+1205540]\n\tOrdinal0 [0x00FF86A4+1345188]\n\tOrdinal0 [0x0100834A+1409866]\n\tOrdinal0 [0x00FF8366+1344358]\n\tOrdinal0 [0x00FD5176+1200502]\n\tOrdinal0 [0x00FD6066+1204326]\n\tGetHandleVerifier [0x012CBE02+1675858]\n\tGetHandleVerifier [0x0138036C+2414524]\n\tGetHandleVerifier [0x011BBB01+560977]\n\tGetHandleVerifier [0x011BA8D3+556323]\n\tOrdinal0 [0x010C020E+2163214]\n\tOrdinal0 [0x010C5078+2183288]\n\tOrdinal0 [0x010C51C0+2183616]\n\tOrdinal0 [0x010CEE1C+2223644]\n\tBaseThreadInitThunk [0x75C5FA29+25]\n\tRtlGetAppContainerNamedObjectPath [0x77437A9E+286]\n\tRtlGetAppContainerNamedObjectPath [0x77437A6E+238]\n",
     "output_type": "error",
     "traceback": [
      "\u001b[1;31m---------------------------------------------------------------------------\u001b[0m",
      "\u001b[1;31mElementClickInterceptedException\u001b[0m          Traceback (most recent call last)",
      "\u001b[1;32m<ipython-input-31-652b6269733f>\u001b[0m in \u001b[0;36m<module>\u001b[1;34m\u001b[0m\n\u001b[0;32m      1\u001b[0m \u001b[1;32mfor\u001b[0m \u001b[0mnum\u001b[0m \u001b[1;32min\u001b[0m \u001b[0mrange\u001b[0m\u001b[1;33m(\u001b[0m\u001b[1;36m0\u001b[0m\u001b[1;33m,\u001b[0m\u001b[1;36m201\u001b[0m\u001b[1;33m)\u001b[0m\u001b[1;33m:\u001b[0m\u001b[1;33m\u001b[0m\u001b[1;33m\u001b[0m\u001b[0m\n\u001b[1;32m----> 2\u001b[1;33m     \u001b[0mdriver\u001b[0m\u001b[1;33m.\u001b[0m\u001b[0mfind_element_by_css_selector\u001b[0m\u001b[1;33m(\u001b[0m\u001b[1;34mf'#lb_brand_{num}'\u001b[0m\u001b[1;33m)\u001b[0m\u001b[1;33m.\u001b[0m\u001b[0mclick\u001b[0m\u001b[1;33m(\u001b[0m\u001b[1;33m)\u001b[0m\u001b[1;33m\u001b[0m\u001b[1;33m\u001b[0m\u001b[0m\n\u001b[0m",
      "\u001b[1;32m~\\anaconda3\\lib\\site-packages\\selenium\\webdriver\\remote\\webelement.py\u001b[0m in \u001b[0;36mclick\u001b[1;34m(self)\u001b[0m\n\u001b[0;32m     79\u001b[0m     \u001b[1;32mdef\u001b[0m \u001b[0mclick\u001b[0m\u001b[1;33m(\u001b[0m\u001b[0mself\u001b[0m\u001b[1;33m)\u001b[0m \u001b[1;33m->\u001b[0m \u001b[1;32mNone\u001b[0m\u001b[1;33m:\u001b[0m\u001b[1;33m\u001b[0m\u001b[1;33m\u001b[0m\u001b[0m\n\u001b[0;32m     80\u001b[0m         \u001b[1;34m\"\"\"Clicks the element.\"\"\"\u001b[0m\u001b[1;33m\u001b[0m\u001b[1;33m\u001b[0m\u001b[0m\n\u001b[1;32m---> 81\u001b[1;33m         \u001b[0mself\u001b[0m\u001b[1;33m.\u001b[0m\u001b[0m_execute\u001b[0m\u001b[1;33m(\u001b[0m\u001b[0mCommand\u001b[0m\u001b[1;33m.\u001b[0m\u001b[0mCLICK_ELEMENT\u001b[0m\u001b[1;33m)\u001b[0m\u001b[1;33m\u001b[0m\u001b[1;33m\u001b[0m\u001b[0m\n\u001b[0m\u001b[0;32m     82\u001b[0m \u001b[1;33m\u001b[0m\u001b[0m\n\u001b[0;32m     83\u001b[0m     \u001b[1;32mdef\u001b[0m \u001b[0msubmit\u001b[0m\u001b[1;33m(\u001b[0m\u001b[0mself\u001b[0m\u001b[1;33m)\u001b[0m\u001b[1;33m:\u001b[0m\u001b[1;33m\u001b[0m\u001b[1;33m\u001b[0m\u001b[0m\n",
      "\u001b[1;32m~\\anaconda3\\lib\\site-packages\\selenium\\webdriver\\remote\\webelement.py\u001b[0m in \u001b[0;36m_execute\u001b[1;34m(self, command, params)\u001b[0m\n\u001b[0;32m    708\u001b[0m             \u001b[0mparams\u001b[0m \u001b[1;33m=\u001b[0m \u001b[1;33m{\u001b[0m\u001b[1;33m}\u001b[0m\u001b[1;33m\u001b[0m\u001b[1;33m\u001b[0m\u001b[0m\n\u001b[0;32m    709\u001b[0m         \u001b[0mparams\u001b[0m\u001b[1;33m[\u001b[0m\u001b[1;34m'id'\u001b[0m\u001b[1;33m]\u001b[0m \u001b[1;33m=\u001b[0m \u001b[0mself\u001b[0m\u001b[1;33m.\u001b[0m\u001b[0m_id\u001b[0m\u001b[1;33m\u001b[0m\u001b[1;33m\u001b[0m\u001b[0m\n\u001b[1;32m--> 710\u001b[1;33m         \u001b[1;32mreturn\u001b[0m \u001b[0mself\u001b[0m\u001b[1;33m.\u001b[0m\u001b[0m_parent\u001b[0m\u001b[1;33m.\u001b[0m\u001b[0mexecute\u001b[0m\u001b[1;33m(\u001b[0m\u001b[0mcommand\u001b[0m\u001b[1;33m,\u001b[0m \u001b[0mparams\u001b[0m\u001b[1;33m)\u001b[0m\u001b[1;33m\u001b[0m\u001b[1;33m\u001b[0m\u001b[0m\n\u001b[0m\u001b[0;32m    711\u001b[0m \u001b[1;33m\u001b[0m\u001b[0m\n\u001b[0;32m    712\u001b[0m     \u001b[1;32mdef\u001b[0m \u001b[0mfind_element\u001b[0m\u001b[1;33m(\u001b[0m\u001b[0mself\u001b[0m\u001b[1;33m,\u001b[0m \u001b[0mby\u001b[0m\u001b[1;33m=\u001b[0m\u001b[0mBy\u001b[0m\u001b[1;33m.\u001b[0m\u001b[0mID\u001b[0m\u001b[1;33m,\u001b[0m \u001b[0mvalue\u001b[0m\u001b[1;33m=\u001b[0m\u001b[1;32mNone\u001b[0m\u001b[1;33m)\u001b[0m\u001b[1;33m:\u001b[0m\u001b[1;33m\u001b[0m\u001b[1;33m\u001b[0m\u001b[0m\n",
      "\u001b[1;32m~\\anaconda3\\lib\\site-packages\\selenium\\webdriver\\remote\\webdriver.py\u001b[0m in \u001b[0;36mexecute\u001b[1;34m(self, driver_command, params)\u001b[0m\n\u001b[0;32m    422\u001b[0m         \u001b[0mresponse\u001b[0m \u001b[1;33m=\u001b[0m \u001b[0mself\u001b[0m\u001b[1;33m.\u001b[0m\u001b[0mcommand_executor\u001b[0m\u001b[1;33m.\u001b[0m\u001b[0mexecute\u001b[0m\u001b[1;33m(\u001b[0m\u001b[0mdriver_command\u001b[0m\u001b[1;33m,\u001b[0m \u001b[0mparams\u001b[0m\u001b[1;33m)\u001b[0m\u001b[1;33m\u001b[0m\u001b[1;33m\u001b[0m\u001b[0m\n\u001b[0;32m    423\u001b[0m         \u001b[1;32mif\u001b[0m \u001b[0mresponse\u001b[0m\u001b[1;33m:\u001b[0m\u001b[1;33m\u001b[0m\u001b[1;33m\u001b[0m\u001b[0m\n\u001b[1;32m--> 424\u001b[1;33m             \u001b[0mself\u001b[0m\u001b[1;33m.\u001b[0m\u001b[0merror_handler\u001b[0m\u001b[1;33m.\u001b[0m\u001b[0mcheck_response\u001b[0m\u001b[1;33m(\u001b[0m\u001b[0mresponse\u001b[0m\u001b[1;33m)\u001b[0m\u001b[1;33m\u001b[0m\u001b[1;33m\u001b[0m\u001b[0m\n\u001b[0m\u001b[0;32m    425\u001b[0m             response['value'] = self._unwrap_value(\n\u001b[0;32m    426\u001b[0m                 response.get('value', None))\n",
      "\u001b[1;32m~\\anaconda3\\lib\\site-packages\\selenium\\webdriver\\remote\\errorhandler.py\u001b[0m in \u001b[0;36mcheck_response\u001b[1;34m(self, response)\u001b[0m\n\u001b[0;32m    245\u001b[0m                 \u001b[0malert_text\u001b[0m \u001b[1;33m=\u001b[0m \u001b[0mvalue\u001b[0m\u001b[1;33m[\u001b[0m\u001b[1;34m'alert'\u001b[0m\u001b[1;33m]\u001b[0m\u001b[1;33m.\u001b[0m\u001b[0mget\u001b[0m\u001b[1;33m(\u001b[0m\u001b[1;34m'text'\u001b[0m\u001b[1;33m)\u001b[0m\u001b[1;33m\u001b[0m\u001b[1;33m\u001b[0m\u001b[0m\n\u001b[0;32m    246\u001b[0m             \u001b[1;32mraise\u001b[0m \u001b[0mexception_class\u001b[0m\u001b[1;33m(\u001b[0m\u001b[0mmessage\u001b[0m\u001b[1;33m,\u001b[0m \u001b[0mscreen\u001b[0m\u001b[1;33m,\u001b[0m \u001b[0mstacktrace\u001b[0m\u001b[1;33m,\u001b[0m \u001b[0malert_text\u001b[0m\u001b[1;33m)\u001b[0m  \u001b[1;31m# type: ignore[call-arg]  # mypy is not smart enough here\u001b[0m\u001b[1;33m\u001b[0m\u001b[1;33m\u001b[0m\u001b[0m\n\u001b[1;32m--> 247\u001b[1;33m         \u001b[1;32mraise\u001b[0m \u001b[0mexception_class\u001b[0m\u001b[1;33m(\u001b[0m\u001b[0mmessage\u001b[0m\u001b[1;33m,\u001b[0m \u001b[0mscreen\u001b[0m\u001b[1;33m,\u001b[0m \u001b[0mstacktrace\u001b[0m\u001b[1;33m)\u001b[0m\u001b[1;33m\u001b[0m\u001b[1;33m\u001b[0m\u001b[0m\n\u001b[0m\u001b[0;32m    248\u001b[0m \u001b[1;33m\u001b[0m\u001b[0m\n\u001b[0;32m    249\u001b[0m     \u001b[1;32mdef\u001b[0m \u001b[0m_value_or_default\u001b[0m\u001b[1;33m(\u001b[0m\u001b[0mself\u001b[0m\u001b[1;33m,\u001b[0m \u001b[0mobj\u001b[0m\u001b[1;33m:\u001b[0m \u001b[0mMapping\u001b[0m\u001b[1;33m[\u001b[0m\u001b[0m_KT\u001b[0m\u001b[1;33m,\u001b[0m \u001b[0m_VT\u001b[0m\u001b[1;33m]\u001b[0m\u001b[1;33m,\u001b[0m \u001b[0mkey\u001b[0m\u001b[1;33m:\u001b[0m \u001b[0m_KT\u001b[0m\u001b[1;33m,\u001b[0m \u001b[0mdefault\u001b[0m\u001b[1;33m:\u001b[0m \u001b[0m_VT\u001b[0m\u001b[1;33m)\u001b[0m \u001b[1;33m->\u001b[0m \u001b[0m_VT\u001b[0m\u001b[1;33m:\u001b[0m\u001b[1;33m\u001b[0m\u001b[1;33m\u001b[0m\u001b[0m\n",
      "\u001b[1;31mElementClickInterceptedException\u001b[0m: Message: element click intercepted: Element <input readonly=\"\" type=\"checkbox\" name=\"lb_brand_0\" id=\"lb_brand_0\" class=\"subFilter_checkbox__Qlrs8\"> is not clickable at point (126, 391). Other element would receive the click: <label for=\"lb_brand_0\" class=\"subFilter_label_mall__anN3O\">...</label>\n  (Session info: chrome=98.0.4758.102)\nStacktrace:\nBacktrace:\n\tOrdinal0 [0x011269A3+2582947]\n\tOrdinal0 [0x010BA6D1+2139857]\n\tOrdinal0 [0x00FB3A98+1063576]\n\tOrdinal0 [0x00FE636F+1270639]\n\tOrdinal0 [0x00FE45B7+1263031]\n\tOrdinal0 [0x00FE220B+1253899]\n\tOrdinal0 [0x00FE0FF9+1249273]\n\tOrdinal0 [0x00FD6B53+1207123]\n\tOrdinal0 [0x00FF854C+1344844]\n\tOrdinal0 [0x00FD6524+1205540]\n\tOrdinal0 [0x00FF86A4+1345188]\n\tOrdinal0 [0x0100834A+1409866]\n\tOrdinal0 [0x00FF8366+1344358]\n\tOrdinal0 [0x00FD5176+1200502]\n\tOrdinal0 [0x00FD6066+1204326]\n\tGetHandleVerifier [0x012CBE02+1675858]\n\tGetHandleVerifier [0x0138036C+2414524]\n\tGetHandleVerifier [0x011BBB01+560977]\n\tGetHandleVerifier [0x011BA8D3+556323]\n\tOrdinal0 [0x010C020E+2163214]\n\tOrdinal0 [0x010C5078+2183288]\n\tOrdinal0 [0x010C51C0+2183616]\n\tOrdinal0 [0x010CEE1C+2223644]\n\tBaseThreadInitThunk [0x75C5FA29+25]\n\tRtlGetAppContainerNamedObjectPath [0x77437A9E+286]\n\tRtlGetAppContainerNamedObjectPath [0x77437A6E+238]\n"
     ]
    }
   ],
   "source": [
    "for num in range(0,201):\n",
    "    driver.find_element_by_css_selector(f'#lb_brand_{num}').click()"
   ]
  },
  {
   "cell_type": "code",
   "execution_count": 24,
   "id": "aad048cf",
   "metadata": {},
   "outputs": [],
   "source": [
    "# 6. 출력된 영상의 제목 데이터 수집하기"
   ]
  },
  {
   "cell_type": "code",
   "execution_count": 49,
   "id": "7c91fcd9",
   "metadata": {},
   "outputs": [],
   "source": [
    "selector = \"#browse-results > div.row > div\"\n",
    "elements = driver.find_elements_by_css_selector(selector)"
   ]
  },
  {
   "cell_type": "code",
   "execution_count": 50,
   "id": "5068952b",
   "metadata": {},
   "outputs": [
    {
     "data": {
      "text/html": [
       "<div>\n",
       "<style scoped>\n",
       "    .dataframe tbody tr th:only-of-type {\n",
       "        vertical-align: middle;\n",
       "    }\n",
       "\n",
       "    .dataframe tbody tr th {\n",
       "        vertical-align: top;\n",
       "    }\n",
       "\n",
       "    .dataframe thead th {\n",
       "        text-align: right;\n",
       "    }\n",
       "</style>\n",
       "<table border=\"1\" class=\"dataframe\">\n",
       "  <thead>\n",
       "    <tr style=\"text-align: right;\">\n",
       "      <th></th>\n",
       "      <th>title</th>\n",
       "      <th>link</th>\n",
       "    </tr>\n",
       "  </thead>\n",
       "  <tbody>\n",
       "    <tr>\n",
       "      <th>34</th>\n",
       "      <td>자연의 요새: 선인장은 어떻게 수분을 유지하고 포식자를 쫓아내는가 - 루카스 C. ...</td>\n",
       "      <td>https://www.ted.com/talks/lucas_c_majure_natur...</td>\n",
       "    </tr>\n",
       "    <tr>\n",
       "      <th>35</th>\n",
       "      <td>슬픈 이야기를 재밌게 만드는 법 - 조디 홀스턴 라우</td>\n",
       "      <td>https://www.ted.com/talks/jodie_houlston_lau_h...</td>\n",
       "    </tr>\n",
       "  </tbody>\n",
       "</table>\n",
       "</div>"
      ],
      "text/plain": [
       "                                                title  \\\n",
       "34  자연의 요새: 선인장은 어떻게 수분을 유지하고 포식자를 쫓아내는가 - 루카스 C. ...   \n",
       "35                      슬픈 이야기를 재밌게 만드는 법 - 조디 홀스턴 라우   \n",
       "\n",
       "                                                 link  \n",
       "34  https://www.ted.com/talks/lucas_c_majure_natur...  \n",
       "35  https://www.ted.com/talks/jodie_houlston_lau_h...  "
      ]
     },
     "execution_count": 50,
     "metadata": {},
     "output_type": "execute_result"
    }
   ],
   "source": [
    "datas = []\n",
    "for element in elements:\n",
    "    datas.append({\n",
    "        \"title\": element.find_element_by_css_selector('h4 > .ga-link').text,\n",
    "        \"link\": element.find_element_by_css_selector('h4 > .ga-link').get_attribute(\"href\"),\n",
    "    })\n",
    "df = pd.DataFrame(datas)\n",
    "df.tail(2)"
   ]
  },
  {
   "cell_type": "code",
   "execution_count": 51,
   "id": "9857b368",
   "metadata": {},
   "outputs": [],
   "source": [
    "# 페이지 이동"
   ]
  },
  {
   "cell_type": "code",
   "execution_count": 52,
   "id": "0bc478a7",
   "metadata": {},
   "outputs": [],
   "source": [
    "driver.get(\"https://daum.net\")"
   ]
  },
  {
   "cell_type": "code",
   "execution_count": 54,
   "id": "f9e3e096",
   "metadata": {},
   "outputs": [],
   "source": [
    "driver.find_element_by_css_selector(\"#q\").send_keys(\"kt\")"
   ]
  },
  {
   "cell_type": "code",
   "execution_count": 55,
   "id": "9fd4bfba",
   "metadata": {},
   "outputs": [],
   "source": [
    "driver.find_element_by_css_selector(\".ico_pctop.btn_search\").click()"
   ]
  },
  {
   "cell_type": "code",
   "execution_count": 56,
   "id": "8a36b4ac",
   "metadata": {},
   "outputs": [],
   "source": [
    "driver.quit()"
   ]
  }
 ],
 "metadata": {
  "kernelspec": {
   "display_name": "Python 3",
   "language": "python",
   "name": "python3"
  },
  "language_info": {
   "codemirror_mode": {
    "name": "ipython",
    "version": 3
   },
   "file_extension": ".py",
   "mimetype": "text/x-python",
   "name": "python",
   "nbconvert_exporter": "python",
   "pygments_lexer": "ipython3",
   "version": "3.8.8"
  }
 },
 "nbformat": 4,
 "nbformat_minor": 5
}
