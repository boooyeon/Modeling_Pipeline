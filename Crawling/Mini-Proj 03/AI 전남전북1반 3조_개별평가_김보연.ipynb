{
 "cells": [
  {
   "cell_type": "markdown",
   "id": "35037132",
   "metadata": {},
   "source": [
    "### 네이버 쇼핑 키워드 인사이트\n",
    "\n",
    "#### 개인과제\n",
    "- 키워드에 대한 검색량 데이터 수집\n",
    "- 검색어에 대한 상품등록수 수집\n",
    "- 수집한 데이터에 대한 인사이트 도출 : 예시) 경쟁률\n",
    "\n",
    "#### 조별과제\n",
    "- 스마트 스토어를 운영한다고 생각하고 경쟁력이 낮으면서 많은 수익을 낼수 있는 키워드와 상품 찾기\n",
    "    - 예시외의 추가적인 페이지 데이터 수집하여 프로젝트 수행가능"
   ]
  },
  {
   "cell_type": "markdown",
   "id": "171b691d",
   "metadata": {},
   "source": [
    "#### 참고 서비스\n",
    "- 신사임당 유투브 : https://youtu.be/Z0hL9khbpIw\n",
    "- 응용 서비스 : https://whereispost.com/keyword, https://itemscout.io"
   ]
  },
  {
   "cell_type": "markdown",
   "id": "78c32252",
   "metadata": {},
   "source": [
    "#### 데이터 수집 프로세스\n",
    "1. 네이버 검색광고 회원가입 및 로그인 : https://searchad.naver.com\n",
    "2. 광고 시스템 > 도구 > API 사용관리\n",
    "3. CUSTOMER_ID, API_KEY, SECRET_KEY 획득\n",
    "4. 네이버 검색 광고 API 매뉴얼 사이트 참고 : http://naver.github.io/searchad-apidoc/#/guides\n",
    "5. github 페이지 참고\n",
    "    - https://github.com/naver/searchad-apidoc\n",
    "    - https://github.com/naver/searchad-apidoc/blob/master/python-sample/examples/ad_management_sample.py\n",
    "6. 키워드 입력하면 해당 키워드에 대한 데이터 수집"
   ]
  },
  {
   "cell_type": "markdown",
   "id": "825fab2d",
   "metadata": {},
   "source": [
    "- hint\n",
    "    - github 페이지의 코드에서 signaturehelper.py 파일을 이용하여 header를 만들어야 합니다."
   ]
  },
  {
   "cell_type": "code",
   "execution_count": 1,
   "id": "1d3ec014",
   "metadata": {},
   "outputs": [],
   "source": [
    "import requests, json, time\n",
    "import pandas as pd\n",
    "import signaturehelper\n",
    "import warnings\n",
    "from bs4 import BeautifulSoup\n",
    "warnings.filterwarnings('ignore')"
   ]
  },
  {
   "cell_type": "markdown",
   "id": "2eaa0573",
   "metadata": {},
   "source": [
    "#### 1. 생성된 key를 변수에 저장"
   ]
  },
  {
   "cell_type": "code",
   "execution_count": 2,
   "id": "a8984ff0",
   "metadata": {},
   "outputs": [],
   "source": [
    "BASE_URL = 'https://api.naver.com'\n",
    "API_KEY = '01000000002e4be86c2682ead4b17add22f9609aa03730d356e9f0f4a3cde779abdceb3e2a'\n",
    "SECRET_KEY = 'AQAAAAAuS+hsJoLq1LF63SL5YJqgKZ95ZgSX98xuJvZibX1CxA=='\n",
    "CUSTOMER_ID = '2488401'"
   ]
  },
  {
   "cell_type": "markdown",
   "id": "0d247c55",
   "metadata": {},
   "source": [
    "#### 2. header 함수 생성"
   ]
  },
  {
   "cell_type": "code",
   "execution_count": 3,
   "id": "34d273c7",
   "metadata": {},
   "outputs": [],
   "source": [
    "import hashlib, hmac, base64, requests, time\n",
    "\n",
    "def generate(timestamp, method, uri, secret_key):\n",
    "    message = \"{}.{}.{}\".format(timestamp, method, uri)\n",
    "#     hash = hmac.new(bytes(secret_key, \"utf-8\"), bytes(message, \"utf-8\"), hashlib.sha256)\n",
    "    hash = hmac.new(secret_key.encode(\"utf-8\"), message.encode(\"utf-8\"), hashlib.sha256)\n",
    "\n",
    "    hash.hexdigest()\n",
    "    return base64.b64encode(hash.digest())\n",
    "\n",
    "def get_header(method, uri, api_key, secret_key, customer_id):\n",
    "    timestamp = str(int(time.time() * 1000))\n",
    "    signature = generate(timestamp, method, uri, SECRET_KEY)\n",
    "    return {'Content-Type': 'application/json; charset=UTF-8', 'X-Timestamp': timestamp, 'X-API-KEY': API_KEY, 'X-Customer': str(CUSTOMER_ID), 'X-Signature': signature}"
   ]
  },
  {
   "cell_type": "markdown",
   "id": "f49ba7aa",
   "metadata": {},
   "source": [
    "#### 1. 개별과제 : 키워드에 대한 검색량 데이터 수집"
   ]
  },
  {
   "cell_type": "code",
   "execution_count": 4,
   "id": "e62b720c",
   "metadata": {},
   "outputs": [],
   "source": [
    "def keyword_master(keyword):\n",
    "    # 1. 웹서비스 분석: URL\n",
    "    uri = '/keywordstool'\n",
    "    method = 'GET'\n",
    "    prm = {'hintKeywords' : keyword, 'showDetail':1}\n",
    "    \n",
    "    # 2. request(url) : url, params, header\n",
    "    r = requests.get(BASE_URL + uri, params=prm, headers=get_header(method, uri, API_KEY, SECRET_KEY, CUSTOMER_ID))\n",
    "    r_data = r.json()['keywordList'][0]\n",
    "    df=pd.DataFrame(r.json()['keywordList'])\n",
    "    \n",
    "    return df"
   ]
  },
  {
   "cell_type": "code",
   "execution_count": 5,
   "id": "e1f4c2da",
   "metadata": {},
   "outputs": [],
   "source": [
    "keyword = \"실내자전거\"\n",
    "df = keyword_master(keyword)"
   ]
  },
  {
   "cell_type": "code",
   "execution_count": 6,
   "id": "f6776f8b",
   "metadata": {},
   "outputs": [
    {
     "data": {
      "text/html": [
       "<div>\n",
       "<style scoped>\n",
       "    .dataframe tbody tr th:only-of-type {\n",
       "        vertical-align: middle;\n",
       "    }\n",
       "\n",
       "    .dataframe tbody tr th {\n",
       "        vertical-align: top;\n",
       "    }\n",
       "\n",
       "    .dataframe thead th {\n",
       "        text-align: right;\n",
       "    }\n",
       "</style>\n",
       "<table border=\"1\" class=\"dataframe\">\n",
       "  <thead>\n",
       "    <tr style=\"text-align: right;\">\n",
       "      <th></th>\n",
       "      <th>relKeyword</th>\n",
       "      <th>monthlyPcQcCnt</th>\n",
       "      <th>monthlyMobileQcCnt</th>\n",
       "      <th>monthlyAvePcClkCnt</th>\n",
       "      <th>monthlyAveMobileClkCnt</th>\n",
       "      <th>monthlyAvePcCtr</th>\n",
       "      <th>monthlyAveMobileCtr</th>\n",
       "      <th>plAvgDepth</th>\n",
       "      <th>compIdx</th>\n",
       "    </tr>\n",
       "  </thead>\n",
       "  <tbody>\n",
       "    <tr>\n",
       "      <th>0</th>\n",
       "      <td>실내자전거</td>\n",
       "      <td>19400</td>\n",
       "      <td>163400</td>\n",
       "      <td>112.1</td>\n",
       "      <td>2643.0</td>\n",
       "      <td>0.66</td>\n",
       "      <td>1.76</td>\n",
       "      <td>15</td>\n",
       "      <td>높음</td>\n",
       "    </tr>\n",
       "    <tr>\n",
       "      <th>1</th>\n",
       "      <td>하체운동기구</td>\n",
       "      <td>1070</td>\n",
       "      <td>7790</td>\n",
       "      <td>8.0</td>\n",
       "      <td>120.8</td>\n",
       "      <td>0.81</td>\n",
       "      <td>1.66</td>\n",
       "      <td>15</td>\n",
       "      <td>높음</td>\n",
       "    </tr>\n",
       "    <tr>\n",
       "      <th>2</th>\n",
       "      <td>헬스자전거</td>\n",
       "      <td>1240</td>\n",
       "      <td>11900</td>\n",
       "      <td>17.4</td>\n",
       "      <td>318.0</td>\n",
       "      <td>1.56</td>\n",
       "      <td>2.86</td>\n",
       "      <td>15</td>\n",
       "      <td>높음</td>\n",
       "    </tr>\n",
       "    <tr>\n",
       "      <th>3</th>\n",
       "      <td>스피닝자전거</td>\n",
       "      <td>2330</td>\n",
       "      <td>24200</td>\n",
       "      <td>12.5</td>\n",
       "      <td>360.5</td>\n",
       "      <td>0.58</td>\n",
       "      <td>1.56</td>\n",
       "      <td>15</td>\n",
       "      <td>높음</td>\n",
       "    </tr>\n",
       "    <tr>\n",
       "      <th>4</th>\n",
       "      <td>스쿼트머신</td>\n",
       "      <td>2260</td>\n",
       "      <td>16800</td>\n",
       "      <td>5.0</td>\n",
       "      <td>195.0</td>\n",
       "      <td>0.24</td>\n",
       "      <td>1.23</td>\n",
       "      <td>15</td>\n",
       "      <td>높음</td>\n",
       "    </tr>\n",
       "  </tbody>\n",
       "</table>\n",
       "</div>"
      ],
      "text/plain": [
       "  relKeyword monthlyPcQcCnt monthlyMobileQcCnt  monthlyAvePcClkCnt  \\\n",
       "0      실내자전거          19400             163400               112.1   \n",
       "1     하체운동기구           1070               7790                 8.0   \n",
       "2      헬스자전거           1240              11900                17.4   \n",
       "3     스피닝자전거           2330              24200                12.5   \n",
       "4      스쿼트머신           2260              16800                 5.0   \n",
       "\n",
       "   monthlyAveMobileClkCnt  monthlyAvePcCtr  monthlyAveMobileCtr  plAvgDepth  \\\n",
       "0                  2643.0             0.66                 1.76          15   \n",
       "1                   120.8             0.81                 1.66          15   \n",
       "2                   318.0             1.56                 2.86          15   \n",
       "3                   360.5             0.58                 1.56          15   \n",
       "4                   195.0             0.24                 1.23          15   \n",
       "\n",
       "  compIdx  \n",
       "0      높음  \n",
       "1      높음  \n",
       "2      높음  \n",
       "3      높음  \n",
       "4      높음  "
      ]
     },
     "execution_count": 6,
     "metadata": {},
     "output_type": "execute_result"
    }
   ],
   "source": [
    "df.head()"
   ]
  },
  {
   "cell_type": "markdown",
   "id": "e4e07971",
   "metadata": {},
   "source": [
    "#### 2. 개별과제 : 검색어에 대한 상품등록수 수집\n",
    "- item_count : 등록된 상품수\n",
    "- total_search_count : PC, Mobile 을 합친 검색량"
   ]
  },
  {
   "cell_type": "code",
   "execution_count": 7,
   "id": "33c0e6cb",
   "metadata": {},
   "outputs": [
    {
     "data": {
      "text/html": [
       "<div>\n",
       "<style scoped>\n",
       "    .dataframe tbody tr th:only-of-type {\n",
       "        vertical-align: middle;\n",
       "    }\n",
       "\n",
       "    .dataframe tbody tr th {\n",
       "        vertical-align: top;\n",
       "    }\n",
       "\n",
       "    .dataframe thead th {\n",
       "        text-align: right;\n",
       "    }\n",
       "</style>\n",
       "<table border=\"1\" class=\"dataframe\">\n",
       "  <thead>\n",
       "    <tr style=\"text-align: right;\">\n",
       "      <th></th>\n",
       "      <th>relKeyword</th>\n",
       "      <th>monthlyPcQcCnt</th>\n",
       "      <th>monthlyMobileQcCnt</th>\n",
       "    </tr>\n",
       "  </thead>\n",
       "  <tbody>\n",
       "    <tr>\n",
       "      <th>0</th>\n",
       "      <td>실내자전거</td>\n",
       "      <td>19400</td>\n",
       "      <td>163400</td>\n",
       "    </tr>\n",
       "    <tr>\n",
       "      <th>1</th>\n",
       "      <td>하체운동기구</td>\n",
       "      <td>1070</td>\n",
       "      <td>7790</td>\n",
       "    </tr>\n",
       "    <tr>\n",
       "      <th>2</th>\n",
       "      <td>헬스자전거</td>\n",
       "      <td>1240</td>\n",
       "      <td>11900</td>\n",
       "    </tr>\n",
       "    <tr>\n",
       "      <th>3</th>\n",
       "      <td>스피닝자전거</td>\n",
       "      <td>2330</td>\n",
       "      <td>24200</td>\n",
       "    </tr>\n",
       "    <tr>\n",
       "      <th>4</th>\n",
       "      <td>스쿼트머신</td>\n",
       "      <td>2260</td>\n",
       "      <td>16800</td>\n",
       "    </tr>\n",
       "    <tr>\n",
       "      <th>...</th>\n",
       "      <td>...</td>\n",
       "      <td>...</td>\n",
       "      <td>...</td>\n",
       "    </tr>\n",
       "    <tr>\n",
       "      <th>1005</th>\n",
       "      <td>종아리스트레칭기구</td>\n",
       "      <td>140</td>\n",
       "      <td>1360</td>\n",
       "    </tr>\n",
       "    <tr>\n",
       "      <th>1006</th>\n",
       "      <td>발목경사대</td>\n",
       "      <td>110</td>\n",
       "      <td>920</td>\n",
       "    </tr>\n",
       "    <tr>\n",
       "      <th>1007</th>\n",
       "      <td>종아리운동기구</td>\n",
       "      <td>90</td>\n",
       "      <td>1420</td>\n",
       "    </tr>\n",
       "    <tr>\n",
       "      <th>1008</th>\n",
       "      <td>종아리운동</td>\n",
       "      <td>450</td>\n",
       "      <td>3230</td>\n",
       "    </tr>\n",
       "    <tr>\n",
       "      <th>1009</th>\n",
       "      <td>암슬리브</td>\n",
       "      <td>190</td>\n",
       "      <td>870</td>\n",
       "    </tr>\n",
       "  </tbody>\n",
       "</table>\n",
       "<p>1010 rows × 3 columns</p>\n",
       "</div>"
      ],
      "text/plain": [
       "     relKeyword monthlyPcQcCnt monthlyMobileQcCnt\n",
       "0         실내자전거          19400             163400\n",
       "1        하체운동기구           1070               7790\n",
       "2         헬스자전거           1240              11900\n",
       "3        스피닝자전거           2330              24200\n",
       "4         스쿼트머신           2260              16800\n",
       "...         ...            ...                ...\n",
       "1005  종아리스트레칭기구            140               1360\n",
       "1006      발목경사대            110                920\n",
       "1007    종아리운동기구             90               1420\n",
       "1008      종아리운동            450               3230\n",
       "1009       암슬리브            190                870\n",
       "\n",
       "[1010 rows x 3 columns]"
      ]
     },
     "execution_count": 7,
     "metadata": {},
     "output_type": "execute_result"
    }
   ],
   "source": [
    "df2 = df.iloc[:,[0,1,2]]\n",
    "df2"
   ]
  },
  {
   "cell_type": "markdown",
   "id": "afd61ca0",
   "metadata": {},
   "source": [
    "#### 클라이언트 아이디, 클라이언트 시크릿"
   ]
  },
  {
   "cell_type": "code",
   "execution_count": 10,
   "id": "7ab6fc26",
   "metadata": {},
   "outputs": [],
   "source": [
    "client_id = \"aQvBJ43Ls53JgtglTDAC\"# Your client_id\n",
    "client_secret = \"eN7FPg_oaj\" # Your client_secret"
   ]
  },
  {
   "cell_type": "code",
   "execution_count": 38,
   "id": "30369d59",
   "metadata": {},
   "outputs": [],
   "source": [
    "import requests\n",
    "import urllib\n",
    "\n",
    "def item_count(keyword):\n",
    "\n",
    "    keyword = urllib.parse.quote(keyword)\n",
    "\n",
    "    url = \"https://openapi.naver.com/v1/search/shop?query=\" + keyword\n",
    "\n",
    "    request = urllib.request.Request(url)\n",
    "    request.add_header('X-Naver-Client-Id', client_id)\n",
    "    request.add_header('X-Naver-Client-Secret', client_secret)\n",
    "\n",
    "    response = urllib.request.urlopen(request)\n",
    "\n",
    "    data = response.read().decode('utf-8')\n",
    "    jdata = json.loads(data)\n",
    "    \n",
    "    return jdata[\"total\"]"
   ]
  },
  {
   "cell_type": "code",
   "execution_count": 39,
   "id": "b738a03b",
   "metadata": {},
   "outputs": [
    {
     "name": "stdout",
     "output_type": "stream",
     "text": [
      "255088\n"
     ]
    }
   ],
   "source": [
    "keyword = \"실내자전거\"\n",
    "print(item_count(keyword))"
   ]
  },
  {
   "cell_type": "code",
   "execution_count": null,
   "id": "aa228bd7",
   "metadata": {},
   "outputs": [],
   "source": [
    "for idx in df.index:"
   ]
  },
  {
   "cell_type": "markdown",
   "id": "8562cbc5",
   "metadata": {},
   "source": [
    "#### 3. 개별과제 : 경쟁률\n",
    "- 아이템수/검색수 : 높을수록 경쟁이 심한 상품 키워드\n",
    "- 수집된 데이터에서 추가로 얻을수 있는 인사이트 추가\n",
    "    - 논리적인 인사이트이면 인사이트 수준에 대한 평가는 하지 않음"
   ]
  },
  {
   "cell_type": "markdown",
   "id": "54d12ec8",
   "metadata": {},
   "source": [
    "#### 4. 조별과제 : 스마트 스토어를 운영한다고 생각하고 경쟁력이 낮으면서 많은 수익을 낼수 있는 키워드 찾기\n",
    "- 정답이 있는것은 아닙니다\n",
    "- 여러가지 가정과 데이터를 수집, 분석하여 판매할 상품과 키워드를 선정해 보시면 됩니다.\n",
    "- 앞서 2일간 했던 프로젝트와 같은 방법으로 수행하시면 됩니다."
   ]
  },
  {
   "cell_type": "markdown",
   "id": "d084960f",
   "metadata": {},
   "source": [
    "### 평가기준\n",
    "\n",
    "#### 개인평가(70)\n",
    "\n",
    "    - 기본 문제 해결(30)\n",
    "        - 데이터 수집 방법 : 10점\n",
    "            - 최적의 수집 방법을 사용했는지 확인\n",
    "        - 수집된 데이터의 결과 : 20점\n",
    "            - 1번: 키워드에 대한 검색량 데이터 수집 : 15점\n",
    "            - 2번: 검색어에 대한 상품등록수 수집 : 5점\n",
    "            \n",
    "    - 적절한 주석 및 설명(10)\n",
    "        - 코드의 가독성 및 코드의 설명 : 10점\n",
    "        \n",
    "    - 코드 오류(10)\n",
    "        - 발생 오류마다 : -2점\n",
    "        \n",
    "    - 추가 분석(20)\n",
    "        - 인사이트 도출\n",
    "            - 경쟁률 데이터 출력 : 10점\n",
    "            - 추가 인사이트 : 10점\n",
    "            \n",
    "#### 조별평가(30)\n",
    "    \n",
    "    - 비지니스 인사이트 도출(5)\n",
    "        - 스마트 스토어 운영자 입장에서의 추가 인사이트 도출\n",
    "        - 예시) 선정한 상품으로 소호몰에서 1위 하였을경우 예상되는 매출\n",
    "        - 인사이트 도출을 위한 프로세스\n",
    "        \n",
    "    - 실습문제의 분석(5)\n",
    "        - 제출 자료가 잘 정리되고 판매 상품과 키워드를 논리적으로 잘 선정\n",
    "        - 상품과 키워드 선정 자동화 > 가독성 좋은 키워드와 상품 선정 프로세스\n",
    "        \n",
    "    - 실습문제의 적절한 정리(20)\n",
    "        - 프로젝트 주제(상품과 키워드 선정)에 맞는 논리적 인사이트가 있는지 확인\n",
    "        - 프로젝트 수행 후 추후 과제 및 느낀점"
   ]
  }
 ],
 "metadata": {
  "kernelspec": {
   "display_name": "Python 3",
   "language": "python",
   "name": "python3"
  },
  "language_info": {
   "codemirror_mode": {
    "name": "ipython",
    "version": 3
   },
   "file_extension": ".py",
   "mimetype": "text/x-python",
   "name": "python",
   "nbconvert_exporter": "python",
   "pygments_lexer": "ipython3",
   "version": "3.8.8"
  },
  "toc": {
   "base_numbering": 1,
   "nav_menu": {},
   "number_sections": false,
   "sideBar": true,
   "skip_h1_title": false,
   "title_cell": "Table of Contents",
   "title_sidebar": "Contents",
   "toc_cell": false,
   "toc_position": {},
   "toc_section_display": true,
   "toc_window_display": false
  }
 },
 "nbformat": 4,
 "nbformat_minor": 5
}
