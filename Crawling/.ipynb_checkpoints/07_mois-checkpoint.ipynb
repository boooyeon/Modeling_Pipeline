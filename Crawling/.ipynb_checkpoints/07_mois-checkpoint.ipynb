{
 "cells": [
  {
   "cell_type": "markdown",
   "id": "92bda1e4",
   "metadata": {},
   "source": [
    "### 행정안전부 보도자료 데이터 수집\n",
    "- 행정안전부 : https://www.mois.go.kr/frt/a01/frtMain.do\n",
    "- 정적페이지 데이터 수집 : html : bs, css-selector\n",
    "- post 방식\n",
    "- 여러개의 페이지 데이터 수집"
   ]
  },
  {
   "cell_type": "code",
   "execution_count": 1,
   "id": "a282b743",
   "metadata": {},
   "outputs": [],
   "source": [
    "import pandas as pd\n",
    "import requests\n",
    "from bs4 import BeautifulSoup"
   ]
  },
  {
   "cell_type": "code",
   "execution_count": 2,
   "id": "47fbf207",
   "metadata": {},
   "outputs": [],
   "source": [
    "# 1. 웹서비스 분석 : url"
   ]
  },
  {
   "cell_type": "markdown",
   "id": "f5fd85f7",
   "metadata": {},
   "source": [
    "#### 멀티라인 코드 수정 TIP\n",
    "1. alt\n",
    "2. ctrl+오른쪽키\n",
    "3. 오른쪽키두번\n",
    "4. end키"
   ]
  },
  {
   "cell_type": "code",
   "execution_count": 4,
   "id": "b10907ec",
   "metadata": {},
   "outputs": [],
   "source": [
    "url = \"https://www.mois.go.kr/frt/bbs/type010/commonSelectBoardList.do?bbsId=BBSMSTR_000000000008\"\n",
    "params = {\n",
    "    \"nttId\": \"0\",\n",
    "    \"bbsTyCode\": \"BBST03\",\n",
    "    \"bbsAttrbCode\": \"BBSA03\",\n",
    "    \"authFlag\": \"Y\",\n",
    "    \"pageIndex\": \"3\",\n",
    "    \"cal_url\": \"/sym/cal/EgovNormalCalPopup.do\",\n",
    "    \"searchCnd\": \"0\",\n",
    "}"
   ]
  },
  {
   "cell_type": "code",
   "execution_count": 5,
   "id": "5e96e9c4",
   "metadata": {},
   "outputs": [],
   "source": [
    "# 2. request(url, params) > response : html"
   ]
  },
  {
   "cell_type": "code",
   "execution_count": 6,
   "id": "e6a9bc4c",
   "metadata": {},
   "outputs": [
    {
     "data": {
      "text/plain": [
       "<Response [200]>"
      ]
     },
     "execution_count": 6,
     "metadata": {},
     "output_type": "execute_result"
    }
   ],
   "source": [
    "response = requests.post(url, params)\n",
    "response"
   ]
  },
  {
   "cell_type": "code",
   "execution_count": 8,
   "id": "d9546b37",
   "metadata": {
    "scrolled": true
   },
   "outputs": [
    {
     "data": {
      "text/plain": [
       "'<!DOCTYPE html>\\r\\n<html lang=\"ko\">\\r\\n<head>\\r\\n<title>\\r\\n\\r\\n행정안전부&gt;  뉴스·소식&gt; 보도자료&gt; 보도자료</title>\\r\\n<meta http-equiv=\"X-UA-Compatible\" content=\"IE=edge\" />\\r\\n<meta charset=\"utf-8\" />\\r\\n<meta name=\"viewport\" content=\"width=device-width,maximum-scale=1,minimum-scale=1,user-scalable=no\" />\\r\\n<meta name=\"author\" content=\"행정안전부\" />\\r\\n<meta name=\"subject\" content=\"행정안전부\" />\\r\\n<meta name=\"keywords\" content=\"행정안전부, 행안부, 정부혁신, 지방자치, 생활자치, 규제개혁, 지역경제 활성화, 국민생활 불편해소, 지방재정 개혁, 행정관리, 디지털 정부, 복지서비스, 복지사각지대, 지방공기업 경쟁'"
      ]
     },
     "execution_count": 8,
     "metadata": {},
     "output_type": "execute_result"
    }
   ],
   "source": [
    "response.text[:500]"
   ]
  },
  {
   "cell_type": "code",
   "execution_count": 25,
   "id": "d84d6a66",
   "metadata": {},
   "outputs": [],
   "source": [
    "# 3. html(str) > bs_obj > bs_obj.select(css-selector) > text > DataFrame"
   ]
  },
  {
   "cell_type": "code",
   "execution_count": 26,
   "id": "e550747f",
   "metadata": {},
   "outputs": [],
   "source": [
    "dom = BeautifulSoup(response.text, \"html.parser\")"
   ]
  },
  {
   "cell_type": "code",
   "execution_count": 27,
   "id": "f8ddd9b7",
   "metadata": {},
   "outputs": [
    {
     "data": {
      "text/plain": [
       "10"
      ]
     },
     "execution_count": 27,
     "metadata": {},
     "output_type": "execute_result"
    }
   ],
   "source": [
    "# 게시글 리스트 데이터 수집 : 10개\n",
    "elements = dom.select(\"#print_area > div.table_wrap.type_01 > form > table > tbody > tr\")\n",
    "len(elements)"
   ]
  },
  {
   "cell_type": "code",
   "execution_count": 28,
   "id": "2b8767f5",
   "metadata": {
    "scrolled": true
   },
   "outputs": [
    {
     "data": {
      "text/plain": [
       "{'no': '12931',\n",
       " 'title': '사이버대학 성적·졸업증명서도 모바일 전자증명서로 발급한다',\n",
       " 'writer': '공공지능정책과',\n",
       " 'date': '2022.02.15.',\n",
       " 'page_view': '812',\n",
       " 'link': '/frt/bbs/type010/commonSelectBoardArticle.do;jsessionid=moq-VM7jEOtPaTDppsyZv-a6.node20?bbsId=BBSMSTR_000000000008&nttId=90455'}"
      ]
     },
     "execution_count": 28,
     "metadata": {},
     "output_type": "execute_result"
    }
   ],
   "source": [
    "# 각 데이터에서 필요한 정보 수집\n",
    "element = elements[0]\n",
    "data = {\n",
    "    #strip() : 앞뒤 공백 문자 제거\n",
    "    \"no\":element.select(\"td\")[0].text.strip(),\n",
    "    \"title\":element.select(\"td\")[1].text.strip(),\n",
    "    \"writer\":element.select(\"td\")[3].text.strip(),\n",
    "    \"date\":element.select(\"td\")[4].text.strip(),\n",
    "    \"page_view\":element.select(\"td\")[5].text.strip(),\n",
    "    # 속성값을 가져올땐 .get()\n",
    "    \"link\":element.select(\"td\")[1].select_one(\"a\").get(\"href\"),\n",
    "}\n",
    "\n",
    "data"
   ]
  },
  {
   "cell_type": "code",
   "execution_count": 31,
   "id": "eb00595c",
   "metadata": {},
   "outputs": [
    {
     "data": {
      "text/html": [
       "<div>\n",
       "<style scoped>\n",
       "    .dataframe tbody tr th:only-of-type {\n",
       "        vertical-align: middle;\n",
       "    }\n",
       "\n",
       "    .dataframe tbody tr th {\n",
       "        vertical-align: top;\n",
       "    }\n",
       "\n",
       "    .dataframe thead th {\n",
       "        text-align: right;\n",
       "    }\n",
       "</style>\n",
       "<table border=\"1\" class=\"dataframe\">\n",
       "  <thead>\n",
       "    <tr style=\"text-align: right;\">\n",
       "      <th></th>\n",
       "      <th>no</th>\n",
       "      <th>title</th>\n",
       "      <th>writer</th>\n",
       "      <th>date</th>\n",
       "      <th>page_view</th>\n",
       "      <th>link</th>\n",
       "    </tr>\n",
       "  </thead>\n",
       "  <tbody>\n",
       "    <tr>\n",
       "      <th>8</th>\n",
       "      <td>12923</td>\n",
       "      <td>스마트워크센터 밀집현상 해소를 위해 서울역 2호점 추가 개소</td>\n",
       "      <td>스마트행정기반과</td>\n",
       "      <td>2022.02.10.</td>\n",
       "      <td>1042</td>\n",
       "      <td>/frt/bbs/type010/commonSelectBoardArticle.do;j...</td>\n",
       "    </tr>\n",
       "    <tr>\n",
       "      <th>9</th>\n",
       "      <td>12922</td>\n",
       "      <td>2022년 지방규제, 지역활력 제고에 초점 맞추기로</td>\n",
       "      <td>지방규제혁신과</td>\n",
       "      <td>2022.02.10.</td>\n",
       "      <td>1120</td>\n",
       "      <td>/frt/bbs/type010/commonSelectBoardArticle.do;j...</td>\n",
       "    </tr>\n",
       "  </tbody>\n",
       "</table>\n",
       "</div>"
      ],
      "text/plain": [
       "      no                              title    writer         date page_view  \\\n",
       "8  12923  스마트워크센터 밀집현상 해소를 위해 서울역 2호점 추가 개소  스마트행정기반과  2022.02.10.      1042   \n",
       "9  12922       2022년 지방규제, 지역활력 제고에 초점 맞추기로   지방규제혁신과  2022.02.10.      1120   \n",
       "\n",
       "                                                link  \n",
       "8  /frt/bbs/type010/commonSelectBoardArticle.do;j...  \n",
       "9  /frt/bbs/type010/commonSelectBoardArticle.do;j...  "
      ]
     },
     "execution_count": 31,
     "metadata": {},
     "output_type": "execute_result"
    }
   ],
   "source": [
    "# [{row1}, {row2}, ...] 형태의 데이터프레임으로 만들어주기\n",
    "data = []\n",
    "for element in elements:\n",
    "    data.append({\n",
    "        \"no\":element.select(\"td\")[0].text.strip(),\n",
    "        \"title\":element.select(\"td\")[1].text.strip(),\n",
    "        \"writer\":element.select(\"td\")[3].text.strip(),\n",
    "        \"date\":element.select(\"td\")[4].text.strip(),\n",
    "        \"page_view\":element.select(\"td\")[5].text.strip(),\n",
    "        # 속성값을 가져올땐 .get()\n",
    "        \"link\":element.select(\"td\")[1].select_one(\"a\").get(\"href\"),\n",
    "    })\n",
    "df = pd.DataFrame(data)\n",
    "df.tail(2)"
   ]
  },
  {
   "cell_type": "code",
   "execution_count": 29,
   "id": "f9351f73",
   "metadata": {},
   "outputs": [],
   "source": [
    "# 4. function : params : page(1번페이지, 2번페이지, ...)"
   ]
  },
  {
   "cell_type": "code",
   "execution_count": 32,
   "id": "56a5d054",
   "metadata": {},
   "outputs": [],
   "source": [
    "def mois(page):\n",
    "    # 1. 웹서비스 분석 : url\n",
    "    url = \"https://www.mois.go.kr/frt/bbs/type010/commonSelectBoardList.do?bbsId=BBSMSTR_000000000008\"\n",
    "    params = {\n",
    "        \"nttId\": \"0\",\n",
    "        \"bbsTyCode\": \"BBST03\",\n",
    "        \"bbsAttrbCode\": \"BBSA03\",\n",
    "        \"authFlag\": \"Y\",\n",
    "        \"pageIndex\": \"3\",\n",
    "        \"cal_url\": \"/sym/cal/EgovNormalCalPopup.do\",\n",
    "        \"searchCnd\": \"0\",\n",
    "    }\n",
    "    # 2. request(url, params) > response : html\n",
    "    response = requests.post(url, params)\n",
    "    \n",
    "    # 3. html(str) > bs_obj > bs_obj.select(css-selector) > text > DataFrame\n",
    "    dom = BeautifulSoup(response.text, \"html.parser\")\n",
    "    # 게시글 리스트 데이터 수집 : 10개\n",
    "    elements = dom.select(\"#print_area > div.table_wrap.type_01 > form > table > tbody > tr\")\n",
    "    # 각 데이터에서 필요한 정보 수집\n",
    "    data = []\n",
    "    for element in elements:\n",
    "        data.append({\n",
    "            \"no\":element.select(\"td\")[0].text.strip(),\n",
    "            \"title\":element.select(\"td\")[1].text.strip(),\n",
    "            \"writer\":element.select(\"td\")[3].text.strip(),\n",
    "            \"date\":element.select(\"td\")[4].text.strip(),\n",
    "            \"page_view\":element.select(\"td\")[5].text.strip(),\n",
    "            # 속성값을 가져올땐 .get()\n",
    "            \"link\":element.select(\"td\")[1].select_one(\"a\").get(\"href\"),\n",
    "        })\n",
    "    df = pd.DataFrame(data)\n",
    "    \n",
    "    \n",
    "    return df"
   ]
  },
  {
   "cell_type": "code",
   "execution_count": 33,
   "id": "3c2a67af",
   "metadata": {
    "scrolled": true
   },
   "outputs": [
    {
     "data": {
      "text/html": [
       "<div>\n",
       "<style scoped>\n",
       "    .dataframe tbody tr th:only-of-type {\n",
       "        vertical-align: middle;\n",
       "    }\n",
       "\n",
       "    .dataframe tbody tr th {\n",
       "        vertical-align: top;\n",
       "    }\n",
       "\n",
       "    .dataframe thead th {\n",
       "        text-align: right;\n",
       "    }\n",
       "</style>\n",
       "<table border=\"1\" class=\"dataframe\">\n",
       "  <thead>\n",
       "    <tr style=\"text-align: right;\">\n",
       "      <th></th>\n",
       "      <th>no</th>\n",
       "      <th>title</th>\n",
       "      <th>writer</th>\n",
       "      <th>date</th>\n",
       "      <th>page_view</th>\n",
       "      <th>link</th>\n",
       "    </tr>\n",
       "  </thead>\n",
       "  <tbody>\n",
       "    <tr>\n",
       "      <th>0</th>\n",
       "      <td>12931</td>\n",
       "      <td>사이버대학 성적·졸업증명서도 모바일 전자증명서로 발급한다</td>\n",
       "      <td>공공지능정책과</td>\n",
       "      <td>2022.02.15.</td>\n",
       "      <td>825</td>\n",
       "      <td>/frt/bbs/type010/commonSelectBoardArticle.do;j...</td>\n",
       "    </tr>\n",
       "    <tr>\n",
       "      <th>1</th>\n",
       "      <td>12930</td>\n",
       "      <td>2022 지방행정혁신, 주민이 체감하는 확실한 변화 만든다</td>\n",
       "      <td>지역사회혁신정책과</td>\n",
       "      <td>2022.02.15.</td>\n",
       "      <td>682</td>\n",
       "      <td>/frt/bbs/type010/commonSelectBoardArticle.do;j...</td>\n",
       "    </tr>\n",
       "    <tr>\n",
       "      <th>2</th>\n",
       "      <td>12929</td>\n",
       "      <td>적극행정을 일상적 공직문화로 자리매김하여 국민이 현장에서 체감하는 성과를 창출하겠습니다</td>\n",
       "      <td>지역사회혁신정책과</td>\n",
       "      <td>2022.02.15.</td>\n",
       "      <td>560</td>\n",
       "      <td>/frt/bbs/type010/commonSelectBoardArticle.do;j...</td>\n",
       "    </tr>\n",
       "    <tr>\n",
       "      <th>3</th>\n",
       "      <td>12928</td>\n",
       "      <td>'가명정보 결합전문기관 실무협의회' 출범</td>\n",
       "      <td>공공데이터정책과</td>\n",
       "      <td>2022.02.14.</td>\n",
       "      <td>649</td>\n",
       "      <td>/frt/bbs/type010/commonSelectBoardArticle.do;j...</td>\n",
       "    </tr>\n",
       "    <tr>\n",
       "      <th>4</th>\n",
       "      <td>12927</td>\n",
       "      <td>코로나19로 지친 국민들에게 지방세 지원을 강화한다</td>\n",
       "      <td>지방세정책과</td>\n",
       "      <td>2022.02.14.</td>\n",
       "      <td>947</td>\n",
       "      <td>/frt/bbs/type010/commonSelectBoardArticle.do;j...</td>\n",
       "    </tr>\n",
       "    <tr>\n",
       "      <th>5</th>\n",
       "      <td>12926</td>\n",
       "      <td>행정안전부 소통협력공간, 인구감소지역 최초 선정</td>\n",
       "      <td>지역사회혁신정책과</td>\n",
       "      <td>2022.02.13.</td>\n",
       "      <td>955</td>\n",
       "      <td>/frt/bbs/type010/commonSelectBoardArticle.do;j...</td>\n",
       "    </tr>\n",
       "    <tr>\n",
       "      <th>6</th>\n",
       "      <td>12925</td>\n",
       "      <td>국민이 제안하고 풀어가는 민생규제 혁신과제 공모전 개최</td>\n",
       "      <td>지방규제혁신과</td>\n",
       "      <td>2022.02.13.</td>\n",
       "      <td>789</td>\n",
       "      <td>/frt/bbs/type010/commonSelectBoardArticle.do;j...</td>\n",
       "    </tr>\n",
       "    <tr>\n",
       "      <th>7</th>\n",
       "      <td>12924</td>\n",
       "      <td>이제 스마트폰으로 주민등록증 확인 가능해진다... 4월 시범실시 예정</td>\n",
       "      <td>주민과</td>\n",
       "      <td>2022.02.10.</td>\n",
       "      <td>1762</td>\n",
       "      <td>/frt/bbs/type010/commonSelectBoardArticle.do;j...</td>\n",
       "    </tr>\n",
       "    <tr>\n",
       "      <th>8</th>\n",
       "      <td>12923</td>\n",
       "      <td>스마트워크센터 밀집현상 해소를 위해 서울역 2호점 추가 개소</td>\n",
       "      <td>스마트행정기반과</td>\n",
       "      <td>2022.02.10.</td>\n",
       "      <td>1044</td>\n",
       "      <td>/frt/bbs/type010/commonSelectBoardArticle.do;j...</td>\n",
       "    </tr>\n",
       "    <tr>\n",
       "      <th>9</th>\n",
       "      <td>12922</td>\n",
       "      <td>2022년 지방규제, 지역활력 제고에 초점 맞추기로</td>\n",
       "      <td>지방규제혁신과</td>\n",
       "      <td>2022.02.10.</td>\n",
       "      <td>1122</td>\n",
       "      <td>/frt/bbs/type010/commonSelectBoardArticle.do;j...</td>\n",
       "    </tr>\n",
       "  </tbody>\n",
       "</table>\n",
       "</div>"
      ],
      "text/plain": [
       "      no                                             title     writer  \\\n",
       "0  12931                   사이버대학 성적·졸업증명서도 모바일 전자증명서로 발급한다    공공지능정책과   \n",
       "1  12930                  2022 지방행정혁신, 주민이 체감하는 확실한 변화 만든다  지역사회혁신정책과   \n",
       "2  12929  적극행정을 일상적 공직문화로 자리매김하여 국민이 현장에서 체감하는 성과를 창출하겠습니다  지역사회혁신정책과   \n",
       "3  12928                            '가명정보 결합전문기관 실무협의회' 출범   공공데이터정책과   \n",
       "4  12927                      코로나19로 지친 국민들에게 지방세 지원을 강화한다     지방세정책과   \n",
       "5  12926                        행정안전부 소통협력공간, 인구감소지역 최초 선정  지역사회혁신정책과   \n",
       "6  12925                    국민이 제안하고 풀어가는 민생규제 혁신과제 공모전 개최    지방규제혁신과   \n",
       "7  12924            이제 스마트폰으로 주민등록증 확인 가능해진다... 4월 시범실시 예정        주민과   \n",
       "8  12923                 스마트워크센터 밀집현상 해소를 위해 서울역 2호점 추가 개소   스마트행정기반과   \n",
       "9  12922                      2022년 지방규제, 지역활력 제고에 초점 맞추기로    지방규제혁신과   \n",
       "\n",
       "          date page_view                                               link  \n",
       "0  2022.02.15.       825  /frt/bbs/type010/commonSelectBoardArticle.do;j...  \n",
       "1  2022.02.15.       682  /frt/bbs/type010/commonSelectBoardArticle.do;j...  \n",
       "2  2022.02.15.       560  /frt/bbs/type010/commonSelectBoardArticle.do;j...  \n",
       "3  2022.02.14.       649  /frt/bbs/type010/commonSelectBoardArticle.do;j...  \n",
       "4  2022.02.14.       947  /frt/bbs/type010/commonSelectBoardArticle.do;j...  \n",
       "5  2022.02.13.       955  /frt/bbs/type010/commonSelectBoardArticle.do;j...  \n",
       "6  2022.02.13.       789  /frt/bbs/type010/commonSelectBoardArticle.do;j...  \n",
       "7  2022.02.10.      1762  /frt/bbs/type010/commonSelectBoardArticle.do;j...  \n",
       "8  2022.02.10.      1044  /frt/bbs/type010/commonSelectBoardArticle.do;j...  \n",
       "9  2022.02.10.      1122  /frt/bbs/type010/commonSelectBoardArticle.do;j...  "
      ]
     },
     "execution_count": 33,
     "metadata": {},
     "output_type": "execute_result"
    }
   ],
   "source": [
    "mois(2)"
   ]
  },
  {
   "cell_type": "code",
   "execution_count": null,
   "id": "2950e5f4",
   "metadata": {},
   "outputs": [],
   "source": [
    "# 5. 여러 페이지 데이터 수집 : pandas.concat()사용"
   ]
  },
  {
   "cell_type": "code",
   "execution_count": 35,
   "id": "c43a5d2b",
   "metadata": {},
   "outputs": [
    {
     "name": "stdout",
     "output_type": "stream",
     "text": [
      "1 2 3 "
     ]
    }
   ],
   "source": [
    "dfs = []\n",
    "for page in range(1,4):\n",
    "    print(page, end=\" \")\n",
    "    # 1페이지 수집해서 dfs에 저장하면 dfs에는 3페이지에서 수집된 데이터가 들어감\n",
    "    dfs.append(mois(page)) "
   ]
  },
  {
   "cell_type": "code",
   "execution_count": null,
   "id": "abaf1999",
   "metadata": {},
   "outputs": [],
   "source": [
    "# 1페이지\n",
    "dfs[0] \n",
    "# 2페이지\n",
    "dfs[1]\n",
    "# 3페이지\n",
    "dfs[2]"
   ]
  },
  {
   "cell_type": "code",
   "execution_count": 36,
   "id": "b5af49b1",
   "metadata": {},
   "outputs": [
    {
     "data": {
      "text/html": [
       "<div>\n",
       "<style scoped>\n",
       "    .dataframe tbody tr th:only-of-type {\n",
       "        vertical-align: middle;\n",
       "    }\n",
       "\n",
       "    .dataframe tbody tr th {\n",
       "        vertical-align: top;\n",
       "    }\n",
       "\n",
       "    .dataframe thead th {\n",
       "        text-align: right;\n",
       "    }\n",
       "</style>\n",
       "<table border=\"1\" class=\"dataframe\">\n",
       "  <thead>\n",
       "    <tr style=\"text-align: right;\">\n",
       "      <th></th>\n",
       "      <th>no</th>\n",
       "      <th>title</th>\n",
       "      <th>writer</th>\n",
       "      <th>date</th>\n",
       "      <th>page_view</th>\n",
       "      <th>link</th>\n",
       "    </tr>\n",
       "  </thead>\n",
       "  <tbody>\n",
       "    <tr>\n",
       "      <th>28</th>\n",
       "      <td>12923</td>\n",
       "      <td>스마트워크센터 밀집현상 해소를 위해 서울역 2호점 추가 개소</td>\n",
       "      <td>스마트행정기반과</td>\n",
       "      <td>2022.02.10.</td>\n",
       "      <td>1044</td>\n",
       "      <td>/frt/bbs/type010/commonSelectBoardArticle.do;j...</td>\n",
       "    </tr>\n",
       "    <tr>\n",
       "      <th>29</th>\n",
       "      <td>12922</td>\n",
       "      <td>2022년 지방규제, 지역활력 제고에 초점 맞추기로</td>\n",
       "      <td>지방규제혁신과</td>\n",
       "      <td>2022.02.10.</td>\n",
       "      <td>1122</td>\n",
       "      <td>/frt/bbs/type010/commonSelectBoardArticle.do;j...</td>\n",
       "    </tr>\n",
       "  </tbody>\n",
       "</table>\n",
       "</div>"
      ],
      "text/plain": [
       "       no                              title    writer         date page_view  \\\n",
       "28  12923  스마트워크센터 밀집현상 해소를 위해 서울역 2호점 추가 개소  스마트행정기반과  2022.02.10.      1044   \n",
       "29  12922       2022년 지방규제, 지역활력 제고에 초점 맞추기로   지방규제혁신과  2022.02.10.      1122   \n",
       "\n",
       "                                                 link  \n",
       "28  /frt/bbs/type010/commonSelectBoardArticle.do;j...  \n",
       "29  /frt/bbs/type010/commonSelectBoardArticle.do;j...  "
      ]
     },
     "execution_count": 36,
     "metadata": {},
     "output_type": "execute_result"
    }
   ],
   "source": [
    "result_df = pd.concat(dfs, ignore_index=True)\n",
    "result_df.tail(2)"
   ]
  }
 ],
 "metadata": {
  "kernelspec": {
   "display_name": "Python 3",
   "language": "python",
   "name": "python3"
  },
  "language_info": {
   "codemirror_mode": {
    "name": "ipython",
    "version": 3
   },
   "file_extension": ".py",
   "mimetype": "text/x-python",
   "name": "python",
   "nbconvert_exporter": "python",
   "pygments_lexer": "ipython3",
   "version": "3.8.8"
  }
 },
 "nbformat": 4,
 "nbformat_minor": 5
}
