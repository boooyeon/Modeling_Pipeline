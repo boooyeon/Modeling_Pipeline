{
 "cells": [
  {
   "cell_type": "markdown",
   "metadata": {
    "id": "gjb4QFVumX9X"
   },
   "source": [
    "### Netflix EDA\n",
    "- 아래의 서비스에서 데이터를 수집하여 EDA를 수행하세요.\n",
    "\n",
    "\n",
    "- flixpatrol 사이트에서 데이터 수집\n",
    "    - `https://flixpatrol.com/top10/netflix/world/2021/full/#netflix-1`\n",
    "\n",
    "\n",
    "- kaggle에서 netflix 컨텐츠 데이터 수집\n",
    "    - `https://www.kaggle.com/shivamb/netflix-shows`\n",
    "\n",
    "\n",
    "- 컨텐츠의 등급데이터는 아래의 코드 사용\n",
    "```\n",
    "ratings_ages = {'TV-PG': 'Older Kids', 'TV-MA': 'Adults', 'TV-Y7-FV': 'Older Kids',\n",
    "                  'TV-Y7': 'Older Kids', 'TV-14': 'Teens', 'R': 'Adults', 'TV-Y': 'Kids',\n",
    "                  'NR': 'Adults', 'PG-13': 'Teens', 'TV-G': 'Kids', 'PG': 'Older Kids',\n",
    "                  'G': 'Kids', 'UR': 'Adults', 'NC-17': 'Adults'}\n",
    "```"
   ]
  },
  {
   "cell_type": "markdown",
   "metadata": {},
   "source": [
    "#### EDA의 수행 절차\n",
    "- 데이터 수집\n",
    "- 결측 데이터의 처리\n",
    "- 데이터 탐색\n",
    "    - 수집한 데이터에서 자유롭게 주제를 선정하여 데이터 분석을 통한 인사이트 도출\n",
    "    - 예시 : 인도영화는 다른 국가보다 러닝타임이 길것이다. 컨텐츠의 퀄리티가 가장 좋은 국가는?"
   ]
  },
  {
   "cell_type": "markdown",
   "metadata": {},
   "source": [
    "### 한국 Top10 영화 데이터 수집"
   ]
  },
  {
   "cell_type": "code",
   "execution_count": 1,
   "metadata": {},
   "outputs": [],
   "source": [
    "import requests\n",
    "import pandas as pd\n",
    "from bs4 import BeautifulSoup"
   ]
  },
  {
   "cell_type": "code",
   "execution_count": 2,
   "metadata": {},
   "outputs": [],
   "source": [
    "# 1. 웹서비스 분석 : URL"
   ]
  },
  {
   "cell_type": "code",
   "execution_count": 3,
   "metadata": {},
   "outputs": [
    {
     "data": {
      "text/plain": [
       "'https://flixpatrol.com/top10/netflix/south-korea/2021/'"
      ]
     },
     "execution_count": 3,
     "metadata": {},
     "output_type": "execute_result"
    }
   ],
   "source": [
    "country = \"south-korea\"\n",
    "year = \"2021\"\n",
    "url = f\"https://flixpatrol.com/top10/netflix/{country}/{year}/\"\n",
    "url"
   ]
  },
  {
   "cell_type": "code",
   "execution_count": 4,
   "metadata": {},
   "outputs": [],
   "source": [
    "# 2. request(url) > response(data) : data(html) *이때, html문자열은 한페이지 모두"
   ]
  },
  {
   "cell_type": "code",
   "execution_count": 5,
   "metadata": {},
   "outputs": [
    {
     "data": {
      "text/plain": [
       "<Response [200]>"
      ]
     },
     "execution_count": 5,
     "metadata": {},
     "output_type": "execute_result"
    }
   ],
   "source": [
    "response = requests.get(url)\n",
    "response"
   ]
  },
  {
   "cell_type": "code",
   "execution_count": 6,
   "metadata": {},
   "outputs": [
    {
     "data": {
      "text/plain": [
       "'<!DOCTYPE html>\\n<html lang=\"en\">\\n<head>\\n\\t<meta http-equiv=\"Content-Type\" content=\"text/html; charset=UTF-8\">\\n\\t<meta name=\"viewport\" content=\"width=device-width, initial-scale=1, shrink-to-fit=no\">\\n\\t<title>TOP 10 on Netflix in South Korea in 2021 • FlixPatrol</title>\\n\\t<link rel=\"preload\" as=\"font\" type=\"font/woff2\" crossorigin href=\"/static/fonts/Inter-roman.var.woff2?v=3.18\" nonce=\"h1scZX6pgK44s4WFbx6Qvg==\">\\n\\t<link rel=\"stylesheet\" type=\"text/css\" href=\"/static/dist/all.min.css?v=ec3a8b3a\" nonce'"
      ]
     },
     "execution_count": 6,
     "metadata": {},
     "output_type": "execute_result"
    }
   ],
   "source": [
    "response.text[:500]"
   ]
  },
  {
   "cell_type": "code",
   "execution_count": 7,
   "metadata": {},
   "outputs": [],
   "source": [
    "# 3. data(html) > bs_obj.select(css-selector) > text "
   ]
  },
  {
   "cell_type": "code",
   "execution_count": 8,
   "metadata": {},
   "outputs": [],
   "source": [
    "dom = BeautifulSoup(response.text, \"html.parser\")"
   ]
  },
  {
   "cell_type": "code",
   "execution_count": 9,
   "metadata": {},
   "outputs": [
    {
     "data": {
      "text/plain": [
       "10"
      ]
     },
     "execution_count": 9,
     "metadata": {},
     "output_type": "execute_result"
    }
   ],
   "source": [
    "elements = dom.select(\"#netflix-1 > div.-mx-content > div > div > table > tbody > tr\")\n",
    "len(elements)"
   ]
  },
  {
   "cell_type": "code",
   "execution_count": 10,
   "metadata": {},
   "outputs": [
    {
     "data": {
      "text/plain": [
       "{'no': '1.', 'title': '365 Days', 'points': '573'}"
      ]
     },
     "execution_count": 10,
     "metadata": {},
     "output_type": "execute_result"
    }
   ],
   "source": [
    "# 각 데이터에서 필요한 정보 수집\n",
    "element = elements[0]\n",
    "data = {\n",
    "    #strip() : 앞뒤 공백 문자 제거\n",
    "    \"no\":element.select(\"td\")[0].text.strip(),\n",
    "    \"title\":element.select(\"td\")[1].select_one(\"a\").text.strip(),\n",
    "    \"points\":element.select(\"td\")[2].text.strip(),\n",
    "\n",
    "}\n",
    "\n",
    "data"
   ]
  },
  {
   "cell_type": "code",
   "execution_count": 11,
   "metadata": {
    "scrolled": true
   },
   "outputs": [
    {
     "data": {
      "text/html": [
       "<div>\n",
       "<style scoped>\n",
       "    .dataframe tbody tr th:only-of-type {\n",
       "        vertical-align: middle;\n",
       "    }\n",
       "\n",
       "    .dataframe tbody tr th {\n",
       "        vertical-align: top;\n",
       "    }\n",
       "\n",
       "    .dataframe thead th {\n",
       "        text-align: right;\n",
       "    }\n",
       "</style>\n",
       "<table border=\"1\" class=\"dataframe\">\n",
       "  <thead>\n",
       "    <tr style=\"text-align: right;\">\n",
       "      <th></th>\n",
       "      <th>no</th>\n",
       "      <th>title</th>\n",
       "      <th>points</th>\n",
       "    </tr>\n",
       "  </thead>\n",
       "  <tbody>\n",
       "    <tr>\n",
       "      <th>8</th>\n",
       "      <td>9.</td>\n",
       "      <td>Parasite</td>\n",
       "      <td>241</td>\n",
       "    </tr>\n",
       "    <tr>\n",
       "      <th>9</th>\n",
       "      <td>10.</td>\n",
       "      <td>Samjin Company English Class</td>\n",
       "      <td>238</td>\n",
       "    </tr>\n",
       "  </tbody>\n",
       "</table>\n",
       "</div>"
      ],
      "text/plain": [
       "    no                         title points\n",
       "8   9.                      Parasite    241\n",
       "9  10.  Samjin Company English Class    238"
      ]
     },
     "execution_count": 11,
     "metadata": {},
     "output_type": "execute_result"
    }
   ],
   "source": [
    "# [{row1}, {row2}, ...] 형태의 데이터프레임으로 만들어주기\n",
    "data = []\n",
    "for element in elements:\n",
    "    data.append({\n",
    "        \"no\":element.select(\"td\")[0].text.strip(),\n",
    "        \"title\":element.select(\"td\")[1].select_one(\"a\").text.strip(),\n",
    "        \"points\":element.select(\"td\")[2].text.strip(),\n",
    "    })\n",
    "df = pd.DataFrame(data)\n",
    "df.tail(2)"
   ]
  },
  {
   "cell_type": "code",
   "execution_count": 12,
   "metadata": {},
   "outputs": [],
   "source": [
    "# function 함수화 : 국가별 Top10 영화 데이터 수집"
   ]
  },
  {
   "cell_type": "code",
   "execution_count": 13,
   "metadata": {},
   "outputs": [],
   "source": [
    "def topmovies(country, year):\n",
    "    # 1. 웹서비스 분석 : URL\n",
    "    url = f\"https://flixpatrol.com/top10/netflix/{country}/{year}/\"\n",
    "    # 2. request(url) > response(data) : data(html) *이때, html문자열은 한페이지 모두\n",
    "    response = requests.get(url)\n",
    "    # 3. data(html) > bs_obj.select(css-selector) > text \n",
    "    dom = BeautifulSoup(response.text, \"html.parser\")\n",
    "    elements = dom.select(\"#netflix-1 > div.-mx-content > div > div > table > tbody > tr\")\n",
    "    element = elements[0]\n",
    "    # [{row1}, {row2}, ...] 형태의 데이터프레임으로 만들어주기\n",
    "    data = []\n",
    "    for element in elements:\n",
    "        data.append({\n",
    "            \"no\":element.select(\"td\")[0].text.strip(),\n",
    "            \"title\":element.select(\"td\")[1].select_one(\"a\").text.strip(),\n",
    "            \"points\":element.select(\"td\")[2].text.strip(),\n",
    "        })\n",
    "    df = pd.DataFrame(data)\n",
    "    return df"
   ]
  },
  {
   "cell_type": "code",
   "execution_count": 14,
   "metadata": {},
   "outputs": [
    {
     "data": {
      "text/html": [
       "<div>\n",
       "<style scoped>\n",
       "    .dataframe tbody tr th:only-of-type {\n",
       "        vertical-align: middle;\n",
       "    }\n",
       "\n",
       "    .dataframe tbody tr th {\n",
       "        vertical-align: top;\n",
       "    }\n",
       "\n",
       "    .dataframe thead th {\n",
       "        text-align: right;\n",
       "    }\n",
       "</style>\n",
       "<table border=\"1\" class=\"dataframe\">\n",
       "  <thead>\n",
       "    <tr style=\"text-align: right;\">\n",
       "      <th></th>\n",
       "      <th>no</th>\n",
       "      <th>title</th>\n",
       "      <th>points</th>\n",
       "    </tr>\n",
       "  </thead>\n",
       "  <tbody>\n",
       "    <tr>\n",
       "      <th>0</th>\n",
       "      <td>1.</td>\n",
       "      <td>Don't Look Up</td>\n",
       "      <td>265</td>\n",
       "    </tr>\n",
       "    <tr>\n",
       "      <th>1</th>\n",
       "      <td>2.</td>\n",
       "      <td>Despicable Me 2</td>\n",
       "      <td>173</td>\n",
       "    </tr>\n",
       "    <tr>\n",
       "      <th>2</th>\n",
       "      <td>3.</td>\n",
       "      <td>The Tinder Swindler</td>\n",
       "      <td>165</td>\n",
       "    </tr>\n",
       "    <tr>\n",
       "      <th>3</th>\n",
       "      <td>4.</td>\n",
       "      <td>Just Go with It</td>\n",
       "      <td>148</td>\n",
       "    </tr>\n",
       "    <tr>\n",
       "      <th>4</th>\n",
       "      <td>5.</td>\n",
       "      <td>The Royal Treatment</td>\n",
       "      <td>117</td>\n",
       "    </tr>\n",
       "    <tr>\n",
       "      <th>5</th>\n",
       "      <td>6.</td>\n",
       "      <td>Journey 2: The Mysterious Island</td>\n",
       "      <td>109</td>\n",
       "    </tr>\n",
       "    <tr>\n",
       "      <th>6</th>\n",
       "      <td>7.</td>\n",
       "      <td>Despicable Me</td>\n",
       "      <td>107</td>\n",
       "    </tr>\n",
       "    <tr>\n",
       "      <th>7</th>\n",
       "      <td>8.</td>\n",
       "      <td>Brazen</td>\n",
       "      <td>103</td>\n",
       "    </tr>\n",
       "    <tr>\n",
       "      <th>8</th>\n",
       "      <td>9.</td>\n",
       "      <td>Home Team</td>\n",
       "      <td>99</td>\n",
       "    </tr>\n",
       "    <tr>\n",
       "      <th>9</th>\n",
       "      <td>10.</td>\n",
       "      <td>The Longest Yard</td>\n",
       "      <td>97</td>\n",
       "    </tr>\n",
       "  </tbody>\n",
       "</table>\n",
       "</div>"
      ],
      "text/plain": [
       "    no                             title points\n",
       "0   1.                     Don't Look Up    265\n",
       "1   2.                   Despicable Me 2    173\n",
       "2   3.               The Tinder Swindler    165\n",
       "3   4.                   Just Go with It    148\n",
       "4   5.               The Royal Treatment    117\n",
       "5   6.  Journey 2: The Mysterious Island    109\n",
       "6   7.                     Despicable Me    107\n",
       "7   8.                            Brazen    103\n",
       "8   9.                         Home Team     99\n",
       "9  10.                  The Longest Yard     97"
      ]
     },
     "execution_count": 14,
     "metadata": {},
     "output_type": "execute_result"
    }
   ],
   "source": [
    "country = \"united-states\"\n",
    "year = \"2022\"\n",
    "topmovies(country, year)"
   ]
  },
  {
   "cell_type": "code",
   "execution_count": null,
   "metadata": {},
   "outputs": [],
   "source": []
  },
  {
   "cell_type": "markdown",
   "metadata": {},
   "source": [
    "### 한국 Top10 드라마 데이터 수집"
   ]
  },
  {
   "cell_type": "code",
   "execution_count": 15,
   "metadata": {},
   "outputs": [],
   "source": [
    "# 1. 웹서비스 분석 : URL"
   ]
  },
  {
   "cell_type": "code",
   "execution_count": 16,
   "metadata": {},
   "outputs": [],
   "source": [
    "url = \"https://flixpatrol.com/top10/netflix/south-korea/2021/\""
   ]
  },
  {
   "cell_type": "code",
   "execution_count": 17,
   "metadata": {},
   "outputs": [],
   "source": [
    "# 2. request(url) > response(data) : data(html) *이때, html문자열은 한페이지 모두"
   ]
  },
  {
   "cell_type": "code",
   "execution_count": 18,
   "metadata": {},
   "outputs": [
    {
     "data": {
      "text/plain": [
       "<Response [200]>"
      ]
     },
     "execution_count": 18,
     "metadata": {},
     "output_type": "execute_result"
    }
   ],
   "source": [
    "response = requests.get(url)\n",
    "response"
   ]
  },
  {
   "cell_type": "code",
   "execution_count": 19,
   "metadata": {},
   "outputs": [
    {
     "data": {
      "text/plain": [
       "'<!DOCTYPE html>\\n<html lang=\"en\">\\n<head>\\n\\t<meta http-equiv=\"Content-Type\" content=\"text/html; charset=UTF-8\">\\n\\t<meta name=\"viewport\" content=\"width=device-width, initial-scale=1, shrink-to-fit=no\">\\n\\t<title>TOP 10 on Netflix in South Korea in 2021 • FlixPatrol</title>\\n\\t<link rel=\"preload\" as=\"font\" type=\"font/woff2\" crossorigin href=\"/static/fonts/Inter-roman.var.woff2?v=3.18\" nonce=\"ZoGOsgvdfiji7ixJEvd+/w==\">\\n\\t<link rel=\"stylesheet\" type=\"text/css\" href=\"/static/dist/all.min.css?v=ec3a8b3a\" nonce'"
      ]
     },
     "execution_count": 19,
     "metadata": {},
     "output_type": "execute_result"
    }
   ],
   "source": [
    "response.text[:500]"
   ]
  },
  {
   "cell_type": "code",
   "execution_count": 20,
   "metadata": {},
   "outputs": [],
   "source": [
    "# 3. data(html) > bs_obj.select(css-selector) > text "
   ]
  },
  {
   "cell_type": "code",
   "execution_count": 21,
   "metadata": {},
   "outputs": [],
   "source": [
    "dom = BeautifulSoup(response.text, \"html.parser\")"
   ]
  },
  {
   "cell_type": "code",
   "execution_count": 22,
   "metadata": {},
   "outputs": [
    {
     "data": {
      "text/plain": [
       "10"
      ]
     },
     "execution_count": 22,
     "metadata": {},
     "output_type": "execute_result"
    }
   ],
   "source": [
    "elements = dom.select(\"#netflix-2 > div.-mx-content > div > div > table > tbody > tr\")\n",
    "len(elements)"
   ]
  },
  {
   "cell_type": "code",
   "execution_count": 23,
   "metadata": {},
   "outputs": [
    {
     "data": {
      "text/plain": [
       "{'no': '1.', 'title': 'Hospital Playlist', 'points': '1,215'}"
      ]
     },
     "execution_count": 23,
     "metadata": {},
     "output_type": "execute_result"
    }
   ],
   "source": [
    "# 각 데이터에서 필요한 정보 수집\n",
    "element = elements[0]\n",
    "data = {\n",
    "    #strip() : 앞뒤 공백 문자 제거\n",
    "    \"no\":element.select(\"td\")[0].text.strip(),\n",
    "    \"title\":element.select(\"td\")[1].select_one(\"a\").text.strip(),\n",
    "    \"points\":element.select(\"td\")[2].text.strip(),\n",
    "\n",
    "}\n",
    "\n",
    "data"
   ]
  },
  {
   "cell_type": "code",
   "execution_count": 24,
   "metadata": {},
   "outputs": [
    {
     "data": {
      "text/html": [
       "<div>\n",
       "<style scoped>\n",
       "    .dataframe tbody tr th:only-of-type {\n",
       "        vertical-align: middle;\n",
       "    }\n",
       "\n",
       "    .dataframe tbody tr th {\n",
       "        vertical-align: top;\n",
       "    }\n",
       "\n",
       "    .dataframe thead th {\n",
       "        text-align: right;\n",
       "    }\n",
       "</style>\n",
       "<table border=\"1\" class=\"dataframe\">\n",
       "  <thead>\n",
       "    <tr style=\"text-align: right;\">\n",
       "      <th></th>\n",
       "      <th>no</th>\n",
       "      <th>title</th>\n",
       "      <th>points</th>\n",
       "    </tr>\n",
       "  </thead>\n",
       "  <tbody>\n",
       "    <tr>\n",
       "      <th>8</th>\n",
       "      <td>9.</td>\n",
       "      <td>Sisyphus: The Myth</td>\n",
       "      <td>542</td>\n",
       "    </tr>\n",
       "    <tr>\n",
       "      <th>9</th>\n",
       "      <td>10.</td>\n",
       "      <td>The King's Affection</td>\n",
       "      <td>540</td>\n",
       "    </tr>\n",
       "  </tbody>\n",
       "</table>\n",
       "</div>"
      ],
      "text/plain": [
       "    no                 title points\n",
       "8   9.    Sisyphus: The Myth    542\n",
       "9  10.  The King's Affection    540"
      ]
     },
     "execution_count": 24,
     "metadata": {},
     "output_type": "execute_result"
    }
   ],
   "source": [
    "# [{row1}, {row2}, ...] 형태의 데이터프레임으로 만들어주기\n",
    "data = []\n",
    "for element in elements:\n",
    "    data.append({\n",
    "        \"no\":element.select(\"td\")[0].text.strip(),\n",
    "        \"title\":element.select(\"td\")[1].select_one(\"a\").text.strip(),\n",
    "        \"points\":element.select(\"td\")[2].text.strip(),\n",
    "    })\n",
    "df = pd.DataFrame(data)\n",
    "df.tail(2)"
   ]
  },
  {
   "cell_type": "code",
   "execution_count": 25,
   "metadata": {},
   "outputs": [],
   "source": [
    "def topshows(country, year):\n",
    "    # 1. 웹서비스 분석 : URL\n",
    "    url = f\"https://flixpatrol.com/top10/netflix/{country}/{year}/\"\n",
    "    # 2. request(url) > response(data) : data(html) *이때, html문자열은 한페이지 모두\n",
    "    response = requests.get(url)\n",
    "    # 3. data(html) > bs_obj.select(css-selector) > text \n",
    "    dom = BeautifulSoup(response.text, \"html.parser\")\n",
    "    elements = dom.select(\"#netflix-2 > div.-mx-content > div > div > table > tbody > tr\")\n",
    "    element = elements[0]\n",
    "    # [{row1}, {row2}, ...] 형태의 데이터프레임으로 만들어주기\n",
    "    data = []\n",
    "    for element in elements:\n",
    "        data.append({\n",
    "            \"no\":element.select(\"td\")[0].text.strip(),\n",
    "            \"title\":element.select(\"td\")[1].select_one(\"a\").text.strip(),\n",
    "            \"points\":element.select(\"td\")[2].text.strip(),\n",
    "        })\n",
    "\n",
    "    return pd.DataFrame(data)"
   ]
  },
  {
   "cell_type": "code",
   "execution_count": 26,
   "metadata": {},
   "outputs": [
    {
     "data": {
      "text/html": [
       "<div>\n",
       "<style scoped>\n",
       "    .dataframe tbody tr th:only-of-type {\n",
       "        vertical-align: middle;\n",
       "    }\n",
       "\n",
       "    .dataframe tbody tr th {\n",
       "        vertical-align: top;\n",
       "    }\n",
       "\n",
       "    .dataframe thead th {\n",
       "        text-align: right;\n",
       "    }\n",
       "</style>\n",
       "<table border=\"1\" class=\"dataframe\">\n",
       "  <thead>\n",
       "    <tr style=\"text-align: right;\">\n",
       "      <th></th>\n",
       "      <th>no</th>\n",
       "      <th>title</th>\n",
       "      <th>points</th>\n",
       "    </tr>\n",
       "  </thead>\n",
       "  <tbody>\n",
       "    <tr>\n",
       "      <th>0</th>\n",
       "      <td>1.</td>\n",
       "      <td>Ozark</td>\n",
       "      <td>262</td>\n",
       "    </tr>\n",
       "    <tr>\n",
       "      <th>1</th>\n",
       "      <td>2.</td>\n",
       "      <td>Cobra Kai</td>\n",
       "      <td>230</td>\n",
       "    </tr>\n",
       "    <tr>\n",
       "      <th>2</th>\n",
       "      <td>3.</td>\n",
       "      <td>All of Us are Dead</td>\n",
       "      <td>180</td>\n",
       "    </tr>\n",
       "    <tr>\n",
       "      <th>3</th>\n",
       "      <td>4.</td>\n",
       "      <td>Stay Close</td>\n",
       "      <td>172</td>\n",
       "    </tr>\n",
       "    <tr>\n",
       "      <th>4</th>\n",
       "      <td>5.</td>\n",
       "      <td>The Witcher</td>\n",
       "      <td>171</td>\n",
       "    </tr>\n",
       "    <tr>\n",
       "      <th>5</th>\n",
       "      <td>6.</td>\n",
       "      <td>Archive 81</td>\n",
       "      <td>167</td>\n",
       "    </tr>\n",
       "    <tr>\n",
       "      <th>6</th>\n",
       "      <td>7.</td>\n",
       "      <td>Sweet Magnolias</td>\n",
       "      <td>152</td>\n",
       "    </tr>\n",
       "    <tr>\n",
       "      <th>7</th>\n",
       "      <td>8.</td>\n",
       "      <td>CoComelon</td>\n",
       "      <td>151</td>\n",
       "    </tr>\n",
       "    <tr>\n",
       "      <th>8</th>\n",
       "      <td>9.</td>\n",
       "      <td>Cheer</td>\n",
       "      <td>133</td>\n",
       "    </tr>\n",
       "    <tr>\n",
       "      <th>9</th>\n",
       "      <td>10.</td>\n",
       "      <td>The Woman in the House Across the Street from ...</td>\n",
       "      <td>128</td>\n",
       "    </tr>\n",
       "  </tbody>\n",
       "</table>\n",
       "</div>"
      ],
      "text/plain": [
       "    no                                              title points\n",
       "0   1.                                              Ozark    262\n",
       "1   2.                                          Cobra Kai    230\n",
       "2   3.                                 All of Us are Dead    180\n",
       "3   4.                                         Stay Close    172\n",
       "4   5.                                        The Witcher    171\n",
       "5   6.                                         Archive 81    167\n",
       "6   7.                                    Sweet Magnolias    152\n",
       "7   8.                                          CoComelon    151\n",
       "8   9.                                              Cheer    133\n",
       "9  10.  The Woman in the House Across the Street from ...    128"
      ]
     },
     "execution_count": 26,
     "metadata": {},
     "output_type": "execute_result"
    }
   ],
   "source": [
    "country = \"united-states\"\n",
    "year = \"2022\"\n",
    "topshows(country, year)"
   ]
  },
  {
   "cell_type": "markdown",
   "metadata": {},
   "source": [
    "### Total Movies on Netflix in 2021"
   ]
  },
  {
   "cell_type": "code",
   "execution_count": 42,
   "metadata": {},
   "outputs": [],
   "source": [
    "def totalmovies(year):\n",
    "    # 1. 웹서비스 분석 : URL\n",
    "    url = f\"https://flixpatrol.com/top10/netflix/world/{year}/full/\"\n",
    "    # 2. request(url) > response(data) : data(html) *이때, html문자열은 한페이지 모두\n",
    "    response = requests.get(url)\n",
    "    # 3. data(html) > bs_obj.select(css-selector) > text \n",
    "    dom = BeautifulSoup(response.text, \"html.parser\")\n",
    "    elements = dom.select(\"#netflix-1 > div.-mx-content > div > div > table > tbody > tr\")\n",
    "    element = elements[0]\n",
    "    # [{row1}, {row2}, ...] 형태의 데이터프레임으로 만들어주기\n",
    "    data = []\n",
    "    for element in elements:\n",
    "        data.append({\n",
    "            \"title\" : element.select(\"td\")[2].text.strip(),\n",
    "            \"point\" : element.select(\"td\")[3].text.strip(),\n",
    "            \"countries\" : element.select(\"td\")[5].text.strip(),\n",
    "            \"point/countries\" : element.select(\"td\")[6].text.strip(),\n",
    "            \"days\" : element.select(\"td\")[7].text.strip(),\n",
    "            \"point/days\" : element.select(\"td\")[8].text.strip(),\n",
    "        })\n",
    "    totalmovies = pd.DataFrame(data)\n",
    "    return totalmovies"
   ]
  },
  {
   "cell_type": "code",
   "execution_count": 43,
   "metadata": {
    "scrolled": false
   },
   "outputs": [],
   "source": [
    "year = \"2021\"\n",
    "totalmovies = totalmovies(year)\n"
   ]
  },
  {
   "cell_type": "code",
   "execution_count": null,
   "metadata": {},
   "outputs": [],
   "source": []
  },
  {
   "cell_type": "markdown",
   "metadata": {},
   "source": [
    "### Total TV shows on Netflix in 2021"
   ]
  },
  {
   "cell_type": "code",
   "execution_count": 29,
   "metadata": {},
   "outputs": [],
   "source": [
    "def totalshows(year):\n",
    "    # 1. 웹서비스 분석 : URL\n",
    "    url = f\"https://flixpatrol.com/top10/netflix/world/{year}/full/\"\n",
    "    # 2. request(url) > response(data) : data(html) *이때, html문자열은 한페이지 모두\n",
    "    response = requests.get(url)\n",
    "    # 3. data(html) > bs_obj.select(css-selector) > text \n",
    "    dom = BeautifulSoup(response.text, \"html.parser\")\n",
    "    elements = dom.select(\"#netflix-2 > div.-mx-content > div > div > table > tbody > tr\")\n",
    "    element = elements[0]\n",
    "    # [{row1}, {row2}, ...] 형태의 데이터프레임으로 만들어주기\n",
    "    data = []\n",
    "    for element in elements:\n",
    "        data.append({\n",
    "           \"title\" : element.select(\"td\")[2].text.strip(),\n",
    "            \"point\" : element.select(\"td\")[3].text.strip(),\n",
    "            \"countries\" : element.select(\"td\")[5].text.strip(),\n",
    "            \"point/countries\" : element.select(\"td\")[6].text.strip(),\n",
    "            \"days\" : element.select(\"td\")[7].text.strip(),\n",
    "            \"point/days\" : element.select(\"td\")[8].text.strip(),\n",
    "        })\n",
    "    totalshows = pd.DataFrame(data)\n",
    "    return totalshows"
   ]
  },
  {
   "cell_type": "code",
   "execution_count": 47,
   "metadata": {
    "scrolled": true
   },
   "outputs": [
    {
     "ename": "TypeError",
     "evalue": "'DataFrame' object is not callable",
     "output_type": "error",
     "traceback": [
      "\u001b[1;31m---------------------------------------------------------------------------\u001b[0m",
      "\u001b[1;31mTypeError\u001b[0m                                 Traceback (most recent call last)",
      "\u001b[1;32m<ipython-input-47-df84b53843e3>\u001b[0m in \u001b[0;36m<module>\u001b[1;34m\u001b[0m\n\u001b[0;32m      1\u001b[0m \u001b[0myear\u001b[0m \u001b[1;33m=\u001b[0m \u001b[1;34m\"2021\"\u001b[0m\u001b[1;33m\u001b[0m\u001b[1;33m\u001b[0m\u001b[0m\n\u001b[1;32m----> 2\u001b[1;33m \u001b[0mtotalshows\u001b[0m\u001b[1;33m(\u001b[0m\u001b[0myear\u001b[0m\u001b[1;33m)\u001b[0m\u001b[1;33m\u001b[0m\u001b[1;33m\u001b[0m\u001b[0m\n\u001b[0m",
      "\u001b[1;31mTypeError\u001b[0m: 'DataFrame' object is not callable"
     ]
    }
   ],
   "source": [
    "year = \"2021\"\n",
    "totalshows(year)"
   ]
  },
  {
   "cell_type": "markdown",
   "metadata": {},
   "source": [
    "### flixpatrol + kaggle merge"
   ]
  },
  {
   "cell_type": "code",
   "execution_count": 31,
   "metadata": {},
   "outputs": [
    {
     "name": "stdout",
     "output_type": "stream",
     "text": [
      "<class 'pandas.core.frame.DataFrame'>\n",
      "RangeIndex: 8807 entries, 0 to 8806\n",
      "Data columns (total 12 columns):\n",
      " #   Column        Non-Null Count  Dtype \n",
      "---  ------        --------------  ----- \n",
      " 0   show_id       8807 non-null   object\n",
      " 1   type          8807 non-null   object\n",
      " 2   title         8807 non-null   object\n",
      " 3   director      6173 non-null   object\n",
      " 4   cast          7982 non-null   object\n",
      " 5   country       7976 non-null   object\n",
      " 6   date_added    8797 non-null   object\n",
      " 7   release_year  8807 non-null   int64 \n",
      " 8   rating        8803 non-null   object\n",
      " 9   duration      8804 non-null   object\n",
      " 10  listed_in     8807 non-null   object\n",
      " 11  description   8807 non-null   object\n",
      "dtypes: int64(1), object(11)\n",
      "memory usage: 825.8+ KB\n"
     ]
    }
   ],
   "source": [
    "netflix = pd.read_csv(\"netflix_titles.csv\")\n",
    "netflix.info()"
   ]
  },
  {
   "cell_type": "code",
   "execution_count": 32,
   "metadata": {
    "scrolled": true
   },
   "outputs": [
    {
     "data": {
      "text/html": [
       "<div>\n",
       "<style scoped>\n",
       "    .dataframe tbody tr th:only-of-type {\n",
       "        vertical-align: middle;\n",
       "    }\n",
       "\n",
       "    .dataframe tbody tr th {\n",
       "        vertical-align: top;\n",
       "    }\n",
       "\n",
       "    .dataframe thead th {\n",
       "        text-align: right;\n",
       "    }\n",
       "</style>\n",
       "<table border=\"1\" class=\"dataframe\">\n",
       "  <thead>\n",
       "    <tr style=\"text-align: right;\">\n",
       "      <th></th>\n",
       "      <th>title</th>\n",
       "      <th>point</th>\n",
       "      <th>countries</th>\n",
       "      <th>point/countries</th>\n",
       "      <th>days</th>\n",
       "      <th>point/days</th>\n",
       "      <th>show_id</th>\n",
       "      <th>type</th>\n",
       "      <th>director</th>\n",
       "      <th>cast</th>\n",
       "      <th>country</th>\n",
       "      <th>date_added</th>\n",
       "      <th>release_year</th>\n",
       "      <th>rating</th>\n",
       "      <th>duration</th>\n",
       "      <th>listed_in</th>\n",
       "      <th>description</th>\n",
       "    </tr>\n",
       "  </thead>\n",
       "  <tbody>\n",
       "    <tr>\n",
       "      <th>0</th>\n",
       "      <td>We Can Be Heroes</td>\n",
       "      <td>25,311</td>\n",
       "      <td>82</td>\n",
       "      <td>309</td>\n",
       "      <td>214</td>\n",
       "      <td>118</td>\n",
       "      <td>s1495</td>\n",
       "      <td>Movie</td>\n",
       "      <td>Robert Rodriguez</td>\n",
       "      <td>YaYa Gosselin, Pedro Pascal, Priyanka Chopra, ...</td>\n",
       "      <td>United States</td>\n",
       "      <td>December 25, 2020</td>\n",
       "      <td>2020</td>\n",
       "      <td>PG</td>\n",
       "      <td>101 min</td>\n",
       "      <td>Children &amp; Family Movies, Comedies</td>\n",
       "      <td>When alien invaders capture Earth’s superheroe...</td>\n",
       "    </tr>\n",
       "    <tr>\n",
       "      <th>1</th>\n",
       "      <td>Army of the Dead</td>\n",
       "      <td>18,888</td>\n",
       "      <td>89</td>\n",
       "      <td>212</td>\n",
       "      <td>92</td>\n",
       "      <td>205</td>\n",
       "      <td>s854</td>\n",
       "      <td>Movie</td>\n",
       "      <td>Zack Snyder</td>\n",
       "      <td>Dave Bautista, Ella Purnell, Omari Hardwick, G...</td>\n",
       "      <td>United States</td>\n",
       "      <td>May 21, 2021</td>\n",
       "      <td>2021</td>\n",
       "      <td>R</td>\n",
       "      <td>148 min</td>\n",
       "      <td>Action &amp; Adventure, Horror Movies</td>\n",
       "      <td>After a zombie outbreak in Las Vegas, a group ...</td>\n",
       "    </tr>\n",
       "    <tr>\n",
       "      <th>2</th>\n",
       "      <td>Wish Dragon</td>\n",
       "      <td>16,953</td>\n",
       "      <td>82</td>\n",
       "      <td>207</td>\n",
       "      <td>88</td>\n",
       "      <td>193</td>\n",
       "      <td>s740</td>\n",
       "      <td>Movie</td>\n",
       "      <td>Chris Appelhans</td>\n",
       "      <td>Jimmy Wong, John Cho, Constance Wu, Will Yun L...</td>\n",
       "      <td>China, United States, Canada</td>\n",
       "      <td>June 11, 2021</td>\n",
       "      <td>2021</td>\n",
       "      <td>PG</td>\n",
       "      <td>102 min</td>\n",
       "      <td>Children &amp; Family Movies, Comedies</td>\n",
       "      <td>Determined teen Din is longing to reconnect wi...</td>\n",
       "    </tr>\n",
       "    <tr>\n",
       "      <th>3</th>\n",
       "      <td>The Mitchells vs. The Machines</td>\n",
       "      <td>14,902</td>\n",
       "      <td>82</td>\n",
       "      <td>182</td>\n",
       "      <td>74</td>\n",
       "      <td>201</td>\n",
       "      <td>s962</td>\n",
       "      <td>Movie</td>\n",
       "      <td>Mike Rianda, Jeff Rowe</td>\n",
       "      <td>Danny McBride, Abbi Jacobson, Maya Rudolph, Mi...</td>\n",
       "      <td>NaN</td>\n",
       "      <td>April 30, 2021</td>\n",
       "      <td>2021</td>\n",
       "      <td>PG</td>\n",
       "      <td>114 min</td>\n",
       "      <td>Children &amp; Family Movies, Comedies</td>\n",
       "      <td>A robot apocalypse put the brakes on their cro...</td>\n",
       "    </tr>\n",
       "    <tr>\n",
       "      <th>4</th>\n",
       "      <td>Fatherhood</td>\n",
       "      <td>14,660</td>\n",
       "      <td>82</td>\n",
       "      <td>179</td>\n",
       "      <td>54</td>\n",
       "      <td>271</td>\n",
       "      <td>s686</td>\n",
       "      <td>Movie</td>\n",
       "      <td>Paul Weitz</td>\n",
       "      <td>Kevin Hart, Alfre Woodard, Lil Rel Howery, DeW...</td>\n",
       "      <td>United States</td>\n",
       "      <td>June 18, 2021</td>\n",
       "      <td>2021</td>\n",
       "      <td>PG-13</td>\n",
       "      <td>111 min</td>\n",
       "      <td>Dramas</td>\n",
       "      <td>A widowed new dad copes with doubts, fears, he...</td>\n",
       "    </tr>\n",
       "    <tr>\n",
       "      <th>...</th>\n",
       "      <td>...</td>\n",
       "      <td>...</td>\n",
       "      <td>...</td>\n",
       "      <td>...</td>\n",
       "      <td>...</td>\n",
       "      <td>...</td>\n",
       "      <td>...</td>\n",
       "      <td>...</td>\n",
       "      <td>...</td>\n",
       "      <td>...</td>\n",
       "      <td>...</td>\n",
       "      <td>...</td>\n",
       "      <td>...</td>\n",
       "      <td>...</td>\n",
       "      <td>...</td>\n",
       "      <td>...</td>\n",
       "      <td>...</td>\n",
       "    </tr>\n",
       "    <tr>\n",
       "      <th>84</th>\n",
       "      <td>2012</td>\n",
       "      <td>1,886</td>\n",
       "      <td>31</td>\n",
       "      <td>61</td>\n",
       "      <td>51</td>\n",
       "      <td>37</td>\n",
       "      <td>s1114</td>\n",
       "      <td>Movie</td>\n",
       "      <td>Roland Emmerich</td>\n",
       "      <td>John Cusack, Amanda Peet, Chiwetel Ejiofor, Th...</td>\n",
       "      <td>United States</td>\n",
       "      <td>April 1, 2021</td>\n",
       "      <td>2009</td>\n",
       "      <td>PG-13</td>\n",
       "      <td>158 min</td>\n",
       "      <td>Action &amp; Adventure, Sci-Fi &amp; Fantasy</td>\n",
       "      <td>When a flood of natural disasters begins to de...</td>\n",
       "    </tr>\n",
       "    <tr>\n",
       "      <th>85</th>\n",
       "      <td>Wanted</td>\n",
       "      <td>1,878</td>\n",
       "      <td>32</td>\n",
       "      <td>59</td>\n",
       "      <td>20</td>\n",
       "      <td>94</td>\n",
       "      <td>s633</td>\n",
       "      <td>Movie</td>\n",
       "      <td>Nibal Arakji</td>\n",
       "      <td>Daad Rizk, Georges Diab, Sihame Haddad, George...</td>\n",
       "      <td>NaN</td>\n",
       "      <td>June 28, 2021</td>\n",
       "      <td>2019</td>\n",
       "      <td>TV-14</td>\n",
       "      <td>90 min</td>\n",
       "      <td>Comedies, International Movies</td>\n",
       "      <td>Four seniors embark on misadventures after bre...</td>\n",
       "    </tr>\n",
       "    <tr>\n",
       "      <th>86</th>\n",
       "      <td>Just Say Yes</td>\n",
       "      <td>1,878</td>\n",
       "      <td>43</td>\n",
       "      <td>44</td>\n",
       "      <td>16</td>\n",
       "      <td>117</td>\n",
       "      <td>s1110</td>\n",
       "      <td>Movie</td>\n",
       "      <td>Appie Boudellah, Aram van de Rest</td>\n",
       "      <td>Yolanthe Cabau, Noortje Herlaar, Kim-Lian van ...</td>\n",
       "      <td>Netherlands</td>\n",
       "      <td>April 2, 2021</td>\n",
       "      <td>2021</td>\n",
       "      <td>TV-MA</td>\n",
       "      <td>98 min</td>\n",
       "      <td>Comedies, International Movies, Romantic Movies</td>\n",
       "      <td>Incurable romantic Lotte finds her life upende...</td>\n",
       "    </tr>\n",
       "    <tr>\n",
       "      <th>87</th>\n",
       "      <td>Ava</td>\n",
       "      <td>186</td>\n",
       "      <td>4</td>\n",
       "      <td>47</td>\n",
       "      <td>29</td>\n",
       "      <td>6</td>\n",
       "      <td>s1585</td>\n",
       "      <td>Movie</td>\n",
       "      <td>Tate Taylor</td>\n",
       "      <td>Jessica Chastain, Colin Farrell, John Malkovic...</td>\n",
       "      <td>United States</td>\n",
       "      <td>December 7, 2020</td>\n",
       "      <td>2020</td>\n",
       "      <td>R</td>\n",
       "      <td>97 min</td>\n",
       "      <td>Action &amp; Adventure, Dramas</td>\n",
       "      <td>An elite assassin wrestling with doubts about ...</td>\n",
       "    </tr>\n",
       "    <tr>\n",
       "      <th>88</th>\n",
       "      <td>Bombshell</td>\n",
       "      <td>181</td>\n",
       "      <td>2</td>\n",
       "      <td>91</td>\n",
       "      <td>14</td>\n",
       "      <td>13</td>\n",
       "      <td>s5765</td>\n",
       "      <td>Movie</td>\n",
       "      <td>Riccardo Pilizzeri</td>\n",
       "      <td>Ande Cunningham, Mark Mitchinson, Mia Pistoriu...</td>\n",
       "      <td>New Zealand</td>\n",
       "      <td>October 1, 2016</td>\n",
       "      <td>2016</td>\n",
       "      <td>TV-MA</td>\n",
       "      <td>86 min</td>\n",
       "      <td>Dramas</td>\n",
       "      <td>In 1985, when a vessel protesting nuclear test...</td>\n",
       "    </tr>\n",
       "  </tbody>\n",
       "</table>\n",
       "<p>89 rows × 17 columns</p>\n",
       "</div>"
      ],
      "text/plain": [
       "                             title   point countries point/countries days  \\\n",
       "0                 We Can Be Heroes  25,311        82             309  214   \n",
       "1                 Army of the Dead  18,888        89             212   92   \n",
       "2                      Wish Dragon  16,953        82             207   88   \n",
       "3   The Mitchells vs. The Machines  14,902        82             182   74   \n",
       "4                       Fatherhood  14,660        82             179   54   \n",
       "..                             ...     ...       ...             ...  ...   \n",
       "84                            2012   1,886        31              61   51   \n",
       "85                          Wanted   1,878        32              59   20   \n",
       "86                    Just Say Yes   1,878        43              44   16   \n",
       "87                             Ava     186         4              47   29   \n",
       "88                       Bombshell     181         2              91   14   \n",
       "\n",
       "   point/days show_id   type                           director  \\\n",
       "0         118   s1495  Movie                   Robert Rodriguez   \n",
       "1         205    s854  Movie                        Zack Snyder   \n",
       "2         193    s740  Movie                    Chris Appelhans   \n",
       "3         201    s962  Movie             Mike Rianda, Jeff Rowe   \n",
       "4         271    s686  Movie                         Paul Weitz   \n",
       "..        ...     ...    ...                                ...   \n",
       "84         37   s1114  Movie                    Roland Emmerich   \n",
       "85         94    s633  Movie                       Nibal Arakji   \n",
       "86        117   s1110  Movie  Appie Boudellah, Aram van de Rest   \n",
       "87          6   s1585  Movie                        Tate Taylor   \n",
       "88         13   s5765  Movie                 Riccardo Pilizzeri   \n",
       "\n",
       "                                                 cast  \\\n",
       "0   YaYa Gosselin, Pedro Pascal, Priyanka Chopra, ...   \n",
       "1   Dave Bautista, Ella Purnell, Omari Hardwick, G...   \n",
       "2   Jimmy Wong, John Cho, Constance Wu, Will Yun L...   \n",
       "3   Danny McBride, Abbi Jacobson, Maya Rudolph, Mi...   \n",
       "4   Kevin Hart, Alfre Woodard, Lil Rel Howery, DeW...   \n",
       "..                                                ...   \n",
       "84  John Cusack, Amanda Peet, Chiwetel Ejiofor, Th...   \n",
       "85  Daad Rizk, Georges Diab, Sihame Haddad, George...   \n",
       "86  Yolanthe Cabau, Noortje Herlaar, Kim-Lian van ...   \n",
       "87  Jessica Chastain, Colin Farrell, John Malkovic...   \n",
       "88  Ande Cunningham, Mark Mitchinson, Mia Pistoriu...   \n",
       "\n",
       "                         country         date_added  release_year rating  \\\n",
       "0                  United States  December 25, 2020          2020     PG   \n",
       "1                  United States       May 21, 2021          2021      R   \n",
       "2   China, United States, Canada      June 11, 2021          2021     PG   \n",
       "3                            NaN     April 30, 2021          2021     PG   \n",
       "4                  United States      June 18, 2021          2021  PG-13   \n",
       "..                           ...                ...           ...    ...   \n",
       "84                 United States      April 1, 2021          2009  PG-13   \n",
       "85                           NaN      June 28, 2021          2019  TV-14   \n",
       "86                   Netherlands      April 2, 2021          2021  TV-MA   \n",
       "87                 United States   December 7, 2020          2020      R   \n",
       "88                   New Zealand    October 1, 2016          2016  TV-MA   \n",
       "\n",
       "   duration                                        listed_in  \\\n",
       "0   101 min               Children & Family Movies, Comedies   \n",
       "1   148 min                Action & Adventure, Horror Movies   \n",
       "2   102 min               Children & Family Movies, Comedies   \n",
       "3   114 min               Children & Family Movies, Comedies   \n",
       "4   111 min                                           Dramas   \n",
       "..      ...                                              ...   \n",
       "84  158 min             Action & Adventure, Sci-Fi & Fantasy   \n",
       "85   90 min                   Comedies, International Movies   \n",
       "86   98 min  Comedies, International Movies, Romantic Movies   \n",
       "87   97 min                       Action & Adventure, Dramas   \n",
       "88   86 min                                           Dramas   \n",
       "\n",
       "                                          description  \n",
       "0   When alien invaders capture Earth’s superheroe...  \n",
       "1   After a zombie outbreak in Las Vegas, a group ...  \n",
       "2   Determined teen Din is longing to reconnect wi...  \n",
       "3   A robot apocalypse put the brakes on their cro...  \n",
       "4   A widowed new dad copes with doubts, fears, he...  \n",
       "..                                                ...  \n",
       "84  When a flood of natural disasters begins to de...  \n",
       "85  Four seniors embark on misadventures after bre...  \n",
       "86  Incurable romantic Lotte finds her life upende...  \n",
       "87  An elite assassin wrestling with doubts about ...  \n",
       "88  In 1985, when a vessel protesting nuclear test...  \n",
       "\n",
       "[89 rows x 17 columns]"
      ]
     },
     "execution_count": 32,
     "metadata": {},
     "output_type": "execute_result"
    }
   ],
   "source": [
    "new = pd.merge(totalmovies, netflix, on = \"title\")\n",
    "new"
   ]
  },
  {
   "cell_type": "code",
   "execution_count": 33,
   "metadata": {
    "scrolled": true
   },
   "outputs": [
    {
     "name": "stdout",
     "output_type": "stream",
     "text": [
      "<class 'pandas.core.frame.DataFrame'>\n",
      "Int64Index: 89 entries, 0 to 88\n",
      "Data columns (total 17 columns):\n",
      " #   Column           Non-Null Count  Dtype \n",
      "---  ------           --------------  ----- \n",
      " 0   title            89 non-null     object\n",
      " 1   point            89 non-null     object\n",
      " 2   countries        89 non-null     object\n",
      " 3   point/countries  89 non-null     object\n",
      " 4   days             89 non-null     object\n",
      " 5   point/days       89 non-null     object\n",
      " 6   show_id          89 non-null     object\n",
      " 7   type             89 non-null     object\n",
      " 8   director         88 non-null     object\n",
      " 9   cast             88 non-null     object\n",
      " 10  country          65 non-null     object\n",
      " 11  date_added       89 non-null     object\n",
      " 12  release_year     89 non-null     int64 \n",
      " 13  rating           89 non-null     object\n",
      " 14  duration         89 non-null     object\n",
      " 15  listed_in        89 non-null     object\n",
      " 16  description      89 non-null     object\n",
      "dtypes: int64(1), object(16)\n",
      "memory usage: 12.5+ KB\n"
     ]
    }
   ],
   "source": [
    "new.info()"
   ]
  },
  {
   "cell_type": "code",
   "execution_count": 34,
   "metadata": {},
   "outputs": [
    {
     "name": "stdout",
     "output_type": "stream",
     "text": [
      "<class 'pandas.core.frame.DataFrame'>\n",
      "Int64Index: 2676 entries, 1 to 8803\n",
      "Data columns (total 12 columns):\n",
      " #   Column        Non-Null Count  Dtype \n",
      "---  ------        --------------  ----- \n",
      " 0   show_id       2676 non-null   object\n",
      " 1   type          2676 non-null   object\n",
      " 2   title         2676 non-null   object\n",
      " 3   director      230 non-null    object\n",
      " 4   cast          2326 non-null   object\n",
      " 5   country       2285 non-null   object\n",
      " 6   date_added    2666 non-null   object\n",
      " 7   release_year  2676 non-null   int64 \n",
      " 8   rating        2674 non-null   object\n",
      " 9   duration      2676 non-null   object\n",
      " 10  listed_in     2676 non-null   object\n",
      " 11  description   2676 non-null   object\n",
      "dtypes: int64(1), object(11)\n",
      "memory usage: 271.8+ KB\n"
     ]
    }
   ],
   "source": [
    "netflix.loc[netflix[\"type\"] == \"TV Show\"].info()"
   ]
  },
  {
   "cell_type": "code",
   "execution_count": 35,
   "metadata": {},
   "outputs": [
    {
     "name": "stdout",
     "output_type": "stream",
     "text": [
      "<class 'pandas.core.frame.DataFrame'>\n",
      "Int64Index: 6131 entries, 0 to 8806\n",
      "Data columns (total 12 columns):\n",
      " #   Column        Non-Null Count  Dtype \n",
      "---  ------        --------------  ----- \n",
      " 0   show_id       6131 non-null   object\n",
      " 1   type          6131 non-null   object\n",
      " 2   title         6131 non-null   object\n",
      " 3   director      5943 non-null   object\n",
      " 4   cast          5656 non-null   object\n",
      " 5   country       5691 non-null   object\n",
      " 6   date_added    6131 non-null   object\n",
      " 7   release_year  6131 non-null   int64 \n",
      " 8   rating        6129 non-null   object\n",
      " 9   duration      6128 non-null   object\n",
      " 10  listed_in     6131 non-null   object\n",
      " 11  description   6131 non-null   object\n",
      "dtypes: int64(1), object(11)\n",
      "memory usage: 622.7+ KB\n"
     ]
    }
   ],
   "source": [
    "netflix.loc[netflix[\"type\"] == \"Movie\"].info()"
   ]
  },
  {
   "cell_type": "code",
   "execution_count": 36,
   "metadata": {
    "scrolled": true
   },
   "outputs": [
    {
     "name": "stderr",
     "output_type": "stream",
     "text": [
      "<ipython-input-36-8f6ab5ce2ed1>:8: SettingWithCopyWarning: \n",
      "A value is trying to be set on a copy of a slice from a DataFrame\n",
      "\n",
      "See the caveats in the documentation: https://pandas.pydata.org/pandas-docs/stable/user_guide/indexing.html#returning-a-view-versus-a-copy\n",
      "  netflix[\"rating\"][i] = ratings_ages[netflix[\"rating\"][i]]\n"
     ]
    }
   ],
   "source": [
    "ratings_ages = {'TV-PG': 'Older Kids', 'TV-MA': 'Adults', 'TV-Y7-FV': 'Older Kids',\n",
    "                'TV-Y7': 'Older Kids', 'TV-14': 'Teens', 'R': 'Adults', 'TV-Y': 'Kids',\n",
    "                'NR': 'Adults', 'PG-13': 'Teens', 'TV-G': 'Kids', 'PG': 'Older Kids',\n",
    "                'G': 'Kids', 'UR': 'Adults', 'NC-17': 'Adults'}\n",
    "\n",
    "for i in range(len(netflix[\"rating\"])) :\n",
    "    if netflix[\"rating\"][i] in ratings_ages :\n",
    "        netflix[\"rating\"][i] = ratings_ages[netflix[\"rating\"][i]]"
   ]
  },
  {
   "cell_type": "code",
   "execution_count": null,
   "metadata": {},
   "outputs": [],
   "source": []
  },
  {
   "cell_type": "markdown",
   "metadata": {},
   "source": [
    "### Genre of Top Movies on 2021 "
   ]
  },
  {
   "cell_type": "code",
   "execution_count": 37,
   "metadata": {},
   "outputs": [],
   "source": [
    "# elements = dom.select(\"#netflix-1 > div.-mx-content > div > div > table > tbody > tr\")"
   ]
  },
  {
   "cell_type": "code",
   "execution_count": 46,
   "metadata": {},
   "outputs": [
    {
     "ename": "AttributeError",
     "evalue": "'NoneType' object has no attribute 'get'",
     "output_type": "error",
     "traceback": [
      "\u001b[1;31m---------------------------------------------------------------------------\u001b[0m",
      "\u001b[1;31mAttributeError\u001b[0m                            Traceback (most recent call last)",
      "\u001b[1;32m<ipython-input-46-c083604d9666>\u001b[0m in \u001b[0;36m<module>\u001b[1;34m\u001b[0m\n\u001b[0;32m      1\u001b[0m \u001b[1;32mfor\u001b[0m \u001b[0melement\u001b[0m \u001b[1;32min\u001b[0m \u001b[0melements\u001b[0m\u001b[1;33m:\u001b[0m\u001b[1;33m\u001b[0m\u001b[1;33m\u001b[0m\u001b[0m\n\u001b[1;32m----> 2\u001b[1;33m     \u001b[0mprint\u001b[0m\u001b[1;33m(\u001b[0m\u001b[1;34m\"https://flixpatrol.com/\"\u001b[0m \u001b[1;33m+\u001b[0m \u001b[0melement\u001b[0m\u001b[1;33m.\u001b[0m\u001b[0mselect\u001b[0m\u001b[1;33m(\u001b[0m\u001b[1;34m\"td\"\u001b[0m\u001b[1;33m)\u001b[0m\u001b[1;33m[\u001b[0m\u001b[1;36m2\u001b[0m\u001b[1;33m]\u001b[0m\u001b[1;33m.\u001b[0m\u001b[0mselect_one\u001b[0m\u001b[1;33m(\u001b[0m\u001b[1;34m\"a\"\u001b[0m\u001b[1;33m)\u001b[0m\u001b[1;33m.\u001b[0m\u001b[0mget\u001b[0m\u001b[1;33m(\u001b[0m\u001b[1;34m\"href\"\u001b[0m\u001b[1;33m)\u001b[0m\u001b[1;33m)\u001b[0m\u001b[1;33m\u001b[0m\u001b[1;33m\u001b[0m\u001b[0m\n\u001b[0m",
      "\u001b[1;31mAttributeError\u001b[0m: 'NoneType' object has no attribute 'get'"
     ]
    }
   ],
   "source": [
    "for element in elements:\n",
    "    print(\"https://flixpatrol.com/\" + element.select(\"td\")[2].select_one(\"a\").get(\"href\"))\n"
   ]
  },
  {
   "cell_type": "code",
   "execution_count": 45,
   "metadata": {
    "scrolled": true
   },
   "outputs": [
    {
     "ename": "AttributeError",
     "evalue": "'NoneType' object has no attribute 'get'",
     "output_type": "error",
     "traceback": [
      "\u001b[1;31m---------------------------------------------------------------------------\u001b[0m",
      "\u001b[1;31mAttributeError\u001b[0m                            Traceback (most recent call last)",
      "\u001b[1;32m<ipython-input-45-88550887838a>\u001b[0m in \u001b[0;36m<module>\u001b[1;34m\u001b[0m\n\u001b[0;32m      1\u001b[0m \u001b[1;32mfor\u001b[0m \u001b[0melement\u001b[0m \u001b[1;32min\u001b[0m \u001b[0melements\u001b[0m\u001b[1;33m:\u001b[0m\u001b[1;33m\u001b[0m\u001b[1;33m\u001b[0m\u001b[0m\n\u001b[1;32m----> 2\u001b[1;33m     \u001b[0murl\u001b[0m \u001b[1;33m=\u001b[0m \u001b[1;34m\"https://flixpatrol.com/\"\u001b[0m \u001b[1;33m+\u001b[0m \u001b[0melement\u001b[0m\u001b[1;33m.\u001b[0m\u001b[0mselect\u001b[0m\u001b[1;33m(\u001b[0m\u001b[1;34m\"td\"\u001b[0m\u001b[1;33m)\u001b[0m\u001b[1;33m[\u001b[0m\u001b[1;36m2\u001b[0m\u001b[1;33m]\u001b[0m\u001b[1;33m.\u001b[0m\u001b[0mselect_one\u001b[0m\u001b[1;33m(\u001b[0m\u001b[1;34m\"a\"\u001b[0m\u001b[1;33m)\u001b[0m\u001b[1;33m.\u001b[0m\u001b[0mget\u001b[0m\u001b[1;33m(\u001b[0m\u001b[1;34m\"href\"\u001b[0m\u001b[1;33m)\u001b[0m\u001b[1;33m\u001b[0m\u001b[1;33m\u001b[0m\u001b[0m\n\u001b[0m\u001b[0;32m      3\u001b[0m     \u001b[0mresponse\u001b[0m \u001b[1;33m=\u001b[0m \u001b[0mrequests\u001b[0m\u001b[1;33m.\u001b[0m\u001b[0mget\u001b[0m\u001b[1;33m(\u001b[0m\u001b[0murl\u001b[0m\u001b[1;33m)\u001b[0m\u001b[1;33m\u001b[0m\u001b[1;33m\u001b[0m\u001b[0m\n\u001b[0;32m      4\u001b[0m     \u001b[0mdom\u001b[0m \u001b[1;33m=\u001b[0m \u001b[0mBeautifulSoup\u001b[0m\u001b[1;33m(\u001b[0m\u001b[0mresponse\u001b[0m\u001b[1;33m.\u001b[0m\u001b[0mtext\u001b[0m\u001b[1;33m,\u001b[0m \u001b[1;34m\"html.parser\"\u001b[0m\u001b[1;33m)\u001b[0m\u001b[1;33m\u001b[0m\u001b[1;33m\u001b[0m\u001b[0m\n\u001b[0;32m      5\u001b[0m \u001b[1;31m#     country = dom.select_one(\"body > div.content.mt-4 > div > div.flex-grow > div.mb-6 > div.flex.flex-wrap.text-gray-500 > div > span:nth-child(3)\").text\u001b[0m\u001b[1;33m\u001b[0m\u001b[1;33m\u001b[0m\u001b[1;33m\u001b[0m\u001b[0m\n",
      "\u001b[1;31mAttributeError\u001b[0m: 'NoneType' object has no attribute 'get'"
     ]
    }
   ],
   "source": [
    "for element in elements:\n",
    "    url = \"https://flixpatrol.com/\" + element.select(\"td\")[2].select_one(\"a\").get(\"href\")\n",
    "    response = requests.get(url)\n",
    "    dom = BeautifulSoup(response.text, \"html.parser\")\n",
    "#     country = dom.select_one(\"body > div.content.mt-4 > div > div.flex-grow > div.mb-6 > div.flex.flex-wrap.text-gray-500 > div > span:nth-child(3)\").text\n",
    "#     genre = dom.select_one(\"body > div.content.mt-4 > div > div.flex-grow > div.mb-6 > div.flex.flex-wrap.text-gray-500 > div > span:nth-child(9)\").text\n",
    "#     totalmovies[\"genre\"] = genre\n",
    "#     totalmovies[\"country\"] = country"
   ]
  },
  {
   "cell_type": "code",
   "execution_count": null,
   "metadata": {},
   "outputs": [],
   "source": [
    "\n",
    "   \n"
   ]
  },
  {
   "cell_type": "code",
   "execution_count": null,
   "metadata": {},
   "outputs": [],
   "source": []
  },
  {
   "cell_type": "code",
   "execution_count": null,
   "metadata": {},
   "outputs": [],
   "source": []
  },
  {
   "cell_type": "markdown",
   "metadata": {},
   "source": [
    "### "
   ]
  }
 ],
 "metadata": {
  "colab": {
   "collapsed_sections": [],
   "name": "netflix_project.ipynb",
   "provenance": []
  },
  "kernelspec": {
   "display_name": "Python 3",
   "language": "python",
   "name": "python3"
  },
  "language_info": {
   "codemirror_mode": {
    "name": "ipython",
    "version": 3
   },
   "file_extension": ".py",
   "mimetype": "text/x-python",
   "name": "python",
   "nbconvert_exporter": "python",
   "pygments_lexer": "ipython3",
   "version": "3.8.8"
  },
  "toc": {
   "base_numbering": 1,
   "nav_menu": {},
   "number_sections": false,
   "sideBar": true,
   "skip_h1_title": false,
   "title_cell": "Table of Contents",
   "title_sidebar": "Contents",
   "toc_cell": false,
   "toc_position": {},
   "toc_section_display": true,
   "toc_window_display": false
  }
 },
 "nbformat": 4,
 "nbformat_minor": 1
}
