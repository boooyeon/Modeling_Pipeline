{
 "cells": [
  {
   "cell_type": "markdown",
   "id": "f5943124",
   "metadata": {},
   "source": [
    "### 네이버 연관검색어 데이터 수집\n",
    "- 정적페이지 : 1. html(str)데이터 수집 -> 2. BeautifulSoup : bs_obj.select(css-selector) -> 3. text"
   ]
  },
  {
   "cell_type": "code",
   "execution_count": 1,
   "id": "813e5c84",
   "metadata": {},
   "outputs": [],
   "source": [
    "import requests\n",
    "import pandas as pd\n",
    "from bs4 import BeautifulSoup"
   ]
  },
  {
   "cell_type": "code",
   "execution_count": null,
   "id": "bb7f31f0",
   "metadata": {},
   "outputs": [],
   "source": [
    "# 1. 웹서비스 분석 : URL"
   ]
  },
  {
   "cell_type": "code",
   "execution_count": 3,
   "id": "9a05bb18",
   "metadata": {},
   "outputs": [
    {
     "name": "stdout",
     "output_type": "stream",
     "text": [
      "https://search.naver.com/search.naver?query=삼성전자\n"
     ]
    }
   ],
   "source": [
    "keyword = \"삼성전자\"\n",
    "url = f\"https://search.naver.com/search.naver?query={keyword}\"\n",
    "print(url)"
   ]
  },
  {
   "cell_type": "code",
   "execution_count": null,
   "id": "ceaf3474",
   "metadata": {},
   "outputs": [],
   "source": [
    "# 2. request(url) > response(data) : data(html) *이때, html문자열은 한페이지 모두"
   ]
  },
  {
   "cell_type": "code",
   "execution_count": 4,
   "id": "55a6ff50",
   "metadata": {
    "scrolled": true
   },
   "outputs": [
    {
     "data": {
      "text/plain": [
       "<Response [200]>"
      ]
     },
     "execution_count": 4,
     "metadata": {},
     "output_type": "execute_result"
    }
   ],
   "source": [
    "response = requests.get(url)\n",
    "response"
   ]
  },
  {
   "cell_type": "code",
   "execution_count": 6,
   "id": "33e87066",
   "metadata": {
    "scrolled": true
   },
   "outputs": [
    {
     "data": {
      "text/plain": [
       "'<!doctype html> <html lang=\"ko\"> <head> <meta charset=\"utf-8\"> <meta name=\"referrer\" content=\"always\">  <meta name=\"format-detection\" content=\"telephone=no,address=no,email=no\"> <meta name=\"viewport\" content=\"width=device-width,initial-scale=1.0,maximum-scale=2.0\"> <meta property=\"og:title\" content=\"삼성전자 : 네이버 통합검색\"/> <meta property=\"og:image\" content=\"https://ssl.pstatic.net/sstatic/search/common/og_v3.png\"> <meta property=\"og:description\" content=\"\\'삼성전자\\'의 네이버 통합검색 결과입니다.\"> <meta name=\"descript'"
      ]
     },
     "execution_count": 6,
     "metadata": {},
     "output_type": "execute_result"
    }
   ],
   "source": [
    "response.text[:500]"
   ]
  },
  {
   "cell_type": "code",
   "execution_count": null,
   "id": "721c7593",
   "metadata": {},
   "outputs": [],
   "source": [
    "# 3. data(html) > bs_obj.select(css-selector) > text "
   ]
  },
  {
   "cell_type": "code",
   "execution_count": 8,
   "id": "694b0ab6",
   "metadata": {},
   "outputs": [],
   "source": [
    "dom = BeautifulSoup(response.text, \"html.parser\")"
   ]
  },
  {
   "cell_type": "code",
   "execution_count": 9,
   "id": "318ceff7",
   "metadata": {},
   "outputs": [
    {
     "data": {
      "text/plain": [
       "bs4.BeautifulSoup"
      ]
     },
     "execution_count": 9,
     "metadata": {},
     "output_type": "execute_result"
    }
   ],
   "source": [
    "type(dom) # BeautifulSoup 객체가 만들어짐\n",
    "dir(dom)"
   ]
  },
  {
   "cell_type": "code",
   "execution_count": null,
   "id": "c8df6573",
   "metadata": {
    "scrolled": true
   },
   "outputs": [],
   "source": [
    "# select() : 여러개의 엘리먼트 선택 : list : [Tag, Tag, Tag, ...]\n",
    "# select_one() : 하나의 엘리먼트 선택 : Tag"
   ]
  },
  {
   "cell_type": "code",
   "execution_count": null,
   "id": "5351fddf",
   "metadata": {},
   "outputs": [],
   "source": [
    "# li 엘리먼트 10개 선택"
   ]
  },
  {
   "cell_type": "code",
   "execution_count": 11,
   "id": "19bfce28",
   "metadata": {},
   "outputs": [
    {
     "data": {
      "text/plain": [
       "(10, bs4.element.Tag)"
      ]
     },
     "execution_count": 11,
     "metadata": {},
     "output_type": "execute_result"
    }
   ],
   "source": [
    "elements = dom.select(\".lst_related_srch > li\")\n",
    "len(elements), type(elements[0])"
   ]
  },
  {
   "cell_type": "code",
   "execution_count": 15,
   "id": "f0ca9b23",
   "metadata": {},
   "outputs": [
    {
     "data": {
      "text/plain": [
       "'삼성전자 주가'"
      ]
     },
     "execution_count": 15,
     "metadata": {},
     "output_type": "execute_result"
    }
   ],
   "source": [
    "element = elements[0]\n",
    "keyword = element.select_one(\".tit\").text\n",
    "keyword"
   ]
  },
  {
   "cell_type": "code",
   "execution_count": null,
   "id": "80d8fece",
   "metadata": {},
   "outputs": [],
   "source": [
    "# 반복문으로 각각의 엘리먼트에서 text 추출"
   ]
  },
  {
   "cell_type": "code",
   "execution_count": 16,
   "id": "f0dbddf9",
   "metadata": {},
   "outputs": [
    {
     "data": {
      "text/plain": [
       "['삼성전자 주가',\n",
       " '삼성전자 배당금',\n",
       " '삼성전자 주식',\n",
       " '삼성전자 특별보너스',\n",
       " '삼성전자 배당금 지급일',\n",
       " '오늘 삼성전자 주가',\n",
       " '삼성전자 성과급',\n",
       " '삼성 전자레인지',\n",
       " '삼성전자 채용',\n",
       " '삼성전자 보너스']"
      ]
     },
     "execution_count": 16,
     "metadata": {},
     "output_type": "execute_result"
    }
   ],
   "source": [
    "keywords = [element.select_one(\".tit\").text for element in elements]\n",
    "keywords"
   ]
  },
  {
   "cell_type": "code",
   "execution_count": null,
   "id": "371be22f",
   "metadata": {},
   "outputs": [],
   "source": []
  },
  {
   "cell_type": "code",
   "execution_count": null,
   "id": "6dfa5bc5",
   "metadata": {},
   "outputs": [],
   "source": []
  },
  {
   "cell_type": "code",
   "execution_count": null,
   "id": "46774139",
   "metadata": {},
   "outputs": [],
   "source": []
  },
  {
   "cell_type": "code",
   "execution_count": null,
   "id": "89f186de",
   "metadata": {},
   "outputs": [],
   "source": []
  },
  {
   "cell_type": "code",
   "execution_count": null,
   "id": "2d548b74",
   "metadata": {},
   "outputs": [],
   "source": []
  },
  {
   "cell_type": "code",
   "execution_count": null,
   "id": "b1f2dcd6",
   "metadata": {},
   "outputs": [],
   "source": []
  }
 ],
 "metadata": {
  "kernelspec": {
   "display_name": "Python 3",
   "language": "python",
   "name": "python3"
  },
  "language_info": {
   "codemirror_mode": {
    "name": "ipython",
    "version": 3
   },
   "file_extension": ".py",
   "mimetype": "text/x-python",
   "name": "python",
   "nbconvert_exporter": "python",
   "pygments_lexer": "ipython3",
   "version": "3.8.8"
  }
 },
 "nbformat": 4,
 "nbformat_minor": 5
}
